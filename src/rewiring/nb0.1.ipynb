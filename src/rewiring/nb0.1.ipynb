{
 "cells": [
  {
   "cell_type": "code",
   "id": "initial_id",
   "metadata": {
    "collapsed": true,
    "ExecuteTime": {
     "end_time": "2024-07-26T15:29:14.280387Z",
     "start_time": "2024-07-26T15:29:13.724774Z"
    }
   },
   "source": [
    "import numpy as np\n",
    "import pandas as pd\n",
    "import scipy as sp\n",
    "import plotly.express as px\n",
    "import networkx as nx"
   ],
   "outputs": [],
   "execution_count": 1
  },
  {
   "metadata": {
    "ExecuteTime": {
     "end_time": "2024-07-26T14:08:03.132300Z",
     "start_time": "2024-07-26T14:08:03.129026Z"
    }
   },
   "cell_type": "code",
   "source": [
    "T = np.array([\n",
    "    [0, 1/2, 1/2],\n",
    "    [1, 0, 0],\n",
    "    [0, 1, 0]\n",
    "])"
   ],
   "id": "db02c18ee6480ee8",
   "outputs": [],
   "execution_count": 60
  },
  {
   "metadata": {
    "ExecuteTime": {
     "end_time": "2024-07-26T14:08:03.296992Z",
     "start_time": "2024-07-26T14:08:03.293173Z"
    }
   },
   "cell_type": "code",
   "source": [
    "eig = sp.linalg.eig(T, left=True, right=False)\n",
    "eig_vals, eig_vecs = eig\n",
    "index = np.argwhere(np.isclose(eig_vals, 1))\n",
    "eig_vec_1 = eig_vecs[:, index].flatten() / np.sum(eig_vecs[:, index])\n",
    "eig_vec_1 = np.real_if_close(eig_vec_1)\n",
    "eig_vec_1"
   ],
   "id": "227cba929204ca6f",
   "outputs": [
    {
     "data": {
      "text/plain": [
       "array([0.4, 0.4, 0.2])"
      ]
     },
     "execution_count": 61,
     "metadata": {},
     "output_type": "execute_result"
    }
   ],
   "execution_count": 61
  },
  {
   "metadata": {
    "ExecuteTime": {
     "end_time": "2024-07-26T14:15:47.301431Z",
     "start_time": "2024-07-26T14:15:47.298490Z"
    }
   },
   "cell_type": "code",
   "source": [
    "initial_belief = np.array([1, 0, 0])\n",
    "correct_belief = 0.5"
   ],
   "id": "e7203f9cfce072e3",
   "outputs": [],
   "execution_count": 90
  },
  {
   "metadata": {
    "ExecuteTime": {
     "end_time": "2024-07-26T14:15:47.597870Z",
     "start_time": "2024-07-26T14:15:47.594100Z"
    }
   },
   "cell_type": "code",
   "source": [
    "convergence = eig_vec_1 @ initial_belief\n",
    "error =  np.square(convergence - correct_belief)\n",
    "error"
   ],
   "id": "4ff96bb4ffeb17ca",
   "outputs": [
    {
     "data": {
      "text/plain": [
       "0.00999999999999994"
      ]
     },
     "execution_count": 91,
     "metadata": {},
     "output_type": "execute_result"
    }
   ],
   "execution_count": 91
  },
  {
   "metadata": {
    "ExecuteTime": {
     "end_time": "2024-07-26T14:53:45.203200Z",
     "start_time": "2024-07-26T14:53:45.200387Z"
    }
   },
   "cell_type": "code",
   "source": [
    "dims = 6\n",
    "A = np.zeros((dims, dims**2))\n",
    "for i in range(dims):\n",
    "    A[i, i*dims:(i+1)*dims] = 1"
   ],
   "id": "204034f4acf90021",
   "outputs": [],
   "execution_count": 254
  },
  {
   "metadata": {
    "ExecuteTime": {
     "end_time": "2024-07-26T14:53:45.557440Z",
     "start_time": "2024-07-26T14:53:45.555580Z"
    }
   },
   "cell_type": "code",
   "source": "linear_constraint = sp.optimize.LinearConstraint(A, 1, 1)",
   "id": "b414d1baa390cc8e",
   "outputs": [],
   "execution_count": 255
  },
  {
   "metadata": {
    "ExecuteTime": {
     "end_time": "2024-07-26T14:53:45.726898Z",
     "start_time": "2024-07-26T14:53:45.725093Z"
    }
   },
   "cell_type": "code",
   "source": "bounds = sp.optimize.Bounds(0, 1)",
   "id": "e1529a0dc7339ebb",
   "outputs": [],
   "execution_count": 256
  },
  {
   "metadata": {
    "ExecuteTime": {
     "end_time": "2024-07-26T14:53:45.897594Z",
     "start_time": "2024-07-26T14:53:45.895283Z"
    }
   },
   "cell_type": "code",
   "source": [
    "def degroot_error(x, ibelief, cbelief, niter):\n",
    "    dim = np.sqrt(len(x)).astype(int)\n",
    "    m = x.reshape(dim, dim)\n",
    "    m = m / np.sum(m, axis=1)\n",
    "    mt = np.linalg.matrix_power(m, niter)\n",
    "    pt = mt @ ibelief\n",
    "    error =  np.sum(np.square(pt - cbelief))\n",
    "    return error"
   ],
   "id": "e8fdb6adbc69eb2f",
   "outputs": [],
   "execution_count": 257
  },
  {
   "metadata": {
    "ExecuteTime": {
     "end_time": "2024-07-26T14:53:46.080357Z",
     "start_time": "2024-07-26T14:53:46.078474Z"
    }
   },
   "cell_type": "code",
   "source": [
    "initial_belief = np.array([1, 0, 0, 1, 1, 0])\n",
    "correct_belief = 1\n",
    "num_iterations = 100"
   ],
   "id": "98fb9691df8b5393",
   "outputs": [],
   "execution_count": 258
  },
  {
   "metadata": {
    "ExecuteTime": {
     "end_time": "2024-07-26T14:54:00.445243Z",
     "start_time": "2024-07-26T14:53:55.889917Z"
    }
   },
   "cell_type": "code",
   "source": [
    "n_trials = 100\n",
    "initial_conditions = []\n",
    "for i in range(n_trials):\n",
    "    x = np.random.rand(dims, dims)\n",
    "    x = x / np.sum(x, axis=1)\n",
    "    x = x.flatten()\n",
    "    initial_conditions.append(x)\n",
    "    \n",
    "results = []\n",
    "for x in initial_conditions:\n",
    "    res = sp.optimize.minimize(fun=degroot_error, args=(initial_belief, correct_belief, num_iterations), x0=x, method='trust-constr', constraints=linear_constraint, bounds=bounds, options={'maxiter':  10000})\n",
    "    results.append(res)"
   ],
   "id": "8432a3f909cb3ac",
   "outputs": [],
   "execution_count": 263
  },
  {
   "metadata": {
    "ExecuteTime": {
     "end_time": "2024-07-26T14:54:01.001782Z",
     "start_time": "2024-07-26T14:54:00.997442Z"
    }
   },
   "cell_type": "code",
   "source": [
    "meta_data = []\n",
    "solutions = []\n",
    "for r in results:\n",
    "    meta_data.append({'fun': r.fun, 'iter': r.nit, 'success': r.success})\n",
    "    solutions.append(r.x)\n",
    "                 \n",
    "meta_data = pd.DataFrame(meta_data)"
   ],
   "id": "69c33b6cc34eb516",
   "outputs": [],
   "execution_count": 264
  },
  {
   "metadata": {
    "ExecuteTime": {
     "end_time": "2024-07-26T14:54:01.369753Z",
     "start_time": "2024-07-26T14:54:01.352038Z"
    }
   },
   "cell_type": "code",
   "source": [
    "dist = sp.spatial.distance.pdist(solutions, metric='euclidean')\n",
    "hist, bins = np.histogram(dist, bins=10)\n",
    "px.bar(x=bins[1:], y=hist)"
   ],
   "id": "6d98e9a15df556ba",
   "outputs": [
    {
     "data": {
      "application/vnd.plotly.v1+json": {
       "data": [
        {
         "alignmentgroup": "True",
         "hovertemplate": "x=%{x}<br>y=%{y}<extra></extra>",
         "legendgroup": "",
         "marker": {
          "color": "#636efa",
          "pattern": {
           "shape": ""
          }
         },
         "name": "",
         "offsetgroup": "",
         "orientation": "v",
         "showlegend": false,
         "textposition": "auto",
         "x": [
          0.2349077486589636,
          0.3605446294630211,
          0.48618151026707856,
          0.6118183910711361,
          0.7374552718751937,
          0.8630921526792511,
          0.9887290334833085,
          1.114365914287366,
          1.2400027950914236,
          1.3656396758954812
         ],
         "xaxis": "x",
         "y": [
          285,
          1415,
          1446,
          949,
          471,
          200,
          103,
          52,
          22,
          7
         ],
         "yaxis": "y",
         "type": "bar"
        }
       ],
       "layout": {
        "template": {
         "data": {
          "histogram2dcontour": [
           {
            "type": "histogram2dcontour",
            "colorbar": {
             "outlinewidth": 0,
             "ticks": ""
            },
            "colorscale": [
             [
              0.0,
              "#0d0887"
             ],
             [
              0.1111111111111111,
              "#46039f"
             ],
             [
              0.2222222222222222,
              "#7201a8"
             ],
             [
              0.3333333333333333,
              "#9c179e"
             ],
             [
              0.4444444444444444,
              "#bd3786"
             ],
             [
              0.5555555555555556,
              "#d8576b"
             ],
             [
              0.6666666666666666,
              "#ed7953"
             ],
             [
              0.7777777777777778,
              "#fb9f3a"
             ],
             [
              0.8888888888888888,
              "#fdca26"
             ],
             [
              1.0,
              "#f0f921"
             ]
            ]
           }
          ],
          "choropleth": [
           {
            "type": "choropleth",
            "colorbar": {
             "outlinewidth": 0,
             "ticks": ""
            }
           }
          ],
          "histogram2d": [
           {
            "type": "histogram2d",
            "colorbar": {
             "outlinewidth": 0,
             "ticks": ""
            },
            "colorscale": [
             [
              0.0,
              "#0d0887"
             ],
             [
              0.1111111111111111,
              "#46039f"
             ],
             [
              0.2222222222222222,
              "#7201a8"
             ],
             [
              0.3333333333333333,
              "#9c179e"
             ],
             [
              0.4444444444444444,
              "#bd3786"
             ],
             [
              0.5555555555555556,
              "#d8576b"
             ],
             [
              0.6666666666666666,
              "#ed7953"
             ],
             [
              0.7777777777777778,
              "#fb9f3a"
             ],
             [
              0.8888888888888888,
              "#fdca26"
             ],
             [
              1.0,
              "#f0f921"
             ]
            ]
           }
          ],
          "heatmap": [
           {
            "type": "heatmap",
            "colorbar": {
             "outlinewidth": 0,
             "ticks": ""
            },
            "colorscale": [
             [
              0.0,
              "#0d0887"
             ],
             [
              0.1111111111111111,
              "#46039f"
             ],
             [
              0.2222222222222222,
              "#7201a8"
             ],
             [
              0.3333333333333333,
              "#9c179e"
             ],
             [
              0.4444444444444444,
              "#bd3786"
             ],
             [
              0.5555555555555556,
              "#d8576b"
             ],
             [
              0.6666666666666666,
              "#ed7953"
             ],
             [
              0.7777777777777778,
              "#fb9f3a"
             ],
             [
              0.8888888888888888,
              "#fdca26"
             ],
             [
              1.0,
              "#f0f921"
             ]
            ]
           }
          ],
          "heatmapgl": [
           {
            "type": "heatmapgl",
            "colorbar": {
             "outlinewidth": 0,
             "ticks": ""
            },
            "colorscale": [
             [
              0.0,
              "#0d0887"
             ],
             [
              0.1111111111111111,
              "#46039f"
             ],
             [
              0.2222222222222222,
              "#7201a8"
             ],
             [
              0.3333333333333333,
              "#9c179e"
             ],
             [
              0.4444444444444444,
              "#bd3786"
             ],
             [
              0.5555555555555556,
              "#d8576b"
             ],
             [
              0.6666666666666666,
              "#ed7953"
             ],
             [
              0.7777777777777778,
              "#fb9f3a"
             ],
             [
              0.8888888888888888,
              "#fdca26"
             ],
             [
              1.0,
              "#f0f921"
             ]
            ]
           }
          ],
          "contourcarpet": [
           {
            "type": "contourcarpet",
            "colorbar": {
             "outlinewidth": 0,
             "ticks": ""
            }
           }
          ],
          "contour": [
           {
            "type": "contour",
            "colorbar": {
             "outlinewidth": 0,
             "ticks": ""
            },
            "colorscale": [
             [
              0.0,
              "#0d0887"
             ],
             [
              0.1111111111111111,
              "#46039f"
             ],
             [
              0.2222222222222222,
              "#7201a8"
             ],
             [
              0.3333333333333333,
              "#9c179e"
             ],
             [
              0.4444444444444444,
              "#bd3786"
             ],
             [
              0.5555555555555556,
              "#d8576b"
             ],
             [
              0.6666666666666666,
              "#ed7953"
             ],
             [
              0.7777777777777778,
              "#fb9f3a"
             ],
             [
              0.8888888888888888,
              "#fdca26"
             ],
             [
              1.0,
              "#f0f921"
             ]
            ]
           }
          ],
          "surface": [
           {
            "type": "surface",
            "colorbar": {
             "outlinewidth": 0,
             "ticks": ""
            },
            "colorscale": [
             [
              0.0,
              "#0d0887"
             ],
             [
              0.1111111111111111,
              "#46039f"
             ],
             [
              0.2222222222222222,
              "#7201a8"
             ],
             [
              0.3333333333333333,
              "#9c179e"
             ],
             [
              0.4444444444444444,
              "#bd3786"
             ],
             [
              0.5555555555555556,
              "#d8576b"
             ],
             [
              0.6666666666666666,
              "#ed7953"
             ],
             [
              0.7777777777777778,
              "#fb9f3a"
             ],
             [
              0.8888888888888888,
              "#fdca26"
             ],
             [
              1.0,
              "#f0f921"
             ]
            ]
           }
          ],
          "mesh3d": [
           {
            "type": "mesh3d",
            "colorbar": {
             "outlinewidth": 0,
             "ticks": ""
            }
           }
          ],
          "scatter": [
           {
            "fillpattern": {
             "fillmode": "overlay",
             "size": 10,
             "solidity": 0.2
            },
            "type": "scatter"
           }
          ],
          "parcoords": [
           {
            "type": "parcoords",
            "line": {
             "colorbar": {
              "outlinewidth": 0,
              "ticks": ""
             }
            }
           }
          ],
          "scatterpolargl": [
           {
            "type": "scatterpolargl",
            "marker": {
             "colorbar": {
              "outlinewidth": 0,
              "ticks": ""
             }
            }
           }
          ],
          "bar": [
           {
            "error_x": {
             "color": "#2a3f5f"
            },
            "error_y": {
             "color": "#2a3f5f"
            },
            "marker": {
             "line": {
              "color": "#E5ECF6",
              "width": 0.5
             },
             "pattern": {
              "fillmode": "overlay",
              "size": 10,
              "solidity": 0.2
             }
            },
            "type": "bar"
           }
          ],
          "scattergeo": [
           {
            "type": "scattergeo",
            "marker": {
             "colorbar": {
              "outlinewidth": 0,
              "ticks": ""
             }
            }
           }
          ],
          "scatterpolar": [
           {
            "type": "scatterpolar",
            "marker": {
             "colorbar": {
              "outlinewidth": 0,
              "ticks": ""
             }
            }
           }
          ],
          "histogram": [
           {
            "marker": {
             "pattern": {
              "fillmode": "overlay",
              "size": 10,
              "solidity": 0.2
             }
            },
            "type": "histogram"
           }
          ],
          "scattergl": [
           {
            "type": "scattergl",
            "marker": {
             "colorbar": {
              "outlinewidth": 0,
              "ticks": ""
             }
            }
           }
          ],
          "scatter3d": [
           {
            "type": "scatter3d",
            "line": {
             "colorbar": {
              "outlinewidth": 0,
              "ticks": ""
             }
            },
            "marker": {
             "colorbar": {
              "outlinewidth": 0,
              "ticks": ""
             }
            }
           }
          ],
          "scattermapbox": [
           {
            "type": "scattermapbox",
            "marker": {
             "colorbar": {
              "outlinewidth": 0,
              "ticks": ""
             }
            }
           }
          ],
          "scatterternary": [
           {
            "type": "scatterternary",
            "marker": {
             "colorbar": {
              "outlinewidth": 0,
              "ticks": ""
             }
            }
           }
          ],
          "scattercarpet": [
           {
            "type": "scattercarpet",
            "marker": {
             "colorbar": {
              "outlinewidth": 0,
              "ticks": ""
             }
            }
           }
          ],
          "carpet": [
           {
            "aaxis": {
             "endlinecolor": "#2a3f5f",
             "gridcolor": "white",
             "linecolor": "white",
             "minorgridcolor": "white",
             "startlinecolor": "#2a3f5f"
            },
            "baxis": {
             "endlinecolor": "#2a3f5f",
             "gridcolor": "white",
             "linecolor": "white",
             "minorgridcolor": "white",
             "startlinecolor": "#2a3f5f"
            },
            "type": "carpet"
           }
          ],
          "table": [
           {
            "cells": {
             "fill": {
              "color": "#EBF0F8"
             },
             "line": {
              "color": "white"
             }
            },
            "header": {
             "fill": {
              "color": "#C8D4E3"
             },
             "line": {
              "color": "white"
             }
            },
            "type": "table"
           }
          ],
          "barpolar": [
           {
            "marker": {
             "line": {
              "color": "#E5ECF6",
              "width": 0.5
             },
             "pattern": {
              "fillmode": "overlay",
              "size": 10,
              "solidity": 0.2
             }
            },
            "type": "barpolar"
           }
          ],
          "pie": [
           {
            "automargin": true,
            "type": "pie"
           }
          ]
         },
         "layout": {
          "autotypenumbers": "strict",
          "colorway": [
           "#636efa",
           "#EF553B",
           "#00cc96",
           "#ab63fa",
           "#FFA15A",
           "#19d3f3",
           "#FF6692",
           "#B6E880",
           "#FF97FF",
           "#FECB52"
          ],
          "font": {
           "color": "#2a3f5f"
          },
          "hovermode": "closest",
          "hoverlabel": {
           "align": "left"
          },
          "paper_bgcolor": "white",
          "plot_bgcolor": "#E5ECF6",
          "polar": {
           "bgcolor": "#E5ECF6",
           "angularaxis": {
            "gridcolor": "white",
            "linecolor": "white",
            "ticks": ""
           },
           "radialaxis": {
            "gridcolor": "white",
            "linecolor": "white",
            "ticks": ""
           }
          },
          "ternary": {
           "bgcolor": "#E5ECF6",
           "aaxis": {
            "gridcolor": "white",
            "linecolor": "white",
            "ticks": ""
           },
           "baxis": {
            "gridcolor": "white",
            "linecolor": "white",
            "ticks": ""
           },
           "caxis": {
            "gridcolor": "white",
            "linecolor": "white",
            "ticks": ""
           }
          },
          "coloraxis": {
           "colorbar": {
            "outlinewidth": 0,
            "ticks": ""
           }
          },
          "colorscale": {
           "sequential": [
            [
             0.0,
             "#0d0887"
            ],
            [
             0.1111111111111111,
             "#46039f"
            ],
            [
             0.2222222222222222,
             "#7201a8"
            ],
            [
             0.3333333333333333,
             "#9c179e"
            ],
            [
             0.4444444444444444,
             "#bd3786"
            ],
            [
             0.5555555555555556,
             "#d8576b"
            ],
            [
             0.6666666666666666,
             "#ed7953"
            ],
            [
             0.7777777777777778,
             "#fb9f3a"
            ],
            [
             0.8888888888888888,
             "#fdca26"
            ],
            [
             1.0,
             "#f0f921"
            ]
           ],
           "sequentialminus": [
            [
             0.0,
             "#0d0887"
            ],
            [
             0.1111111111111111,
             "#46039f"
            ],
            [
             0.2222222222222222,
             "#7201a8"
            ],
            [
             0.3333333333333333,
             "#9c179e"
            ],
            [
             0.4444444444444444,
             "#bd3786"
            ],
            [
             0.5555555555555556,
             "#d8576b"
            ],
            [
             0.6666666666666666,
             "#ed7953"
            ],
            [
             0.7777777777777778,
             "#fb9f3a"
            ],
            [
             0.8888888888888888,
             "#fdca26"
            ],
            [
             1.0,
             "#f0f921"
            ]
           ],
           "diverging": [
            [
             0,
             "#8e0152"
            ],
            [
             0.1,
             "#c51b7d"
            ],
            [
             0.2,
             "#de77ae"
            ],
            [
             0.3,
             "#f1b6da"
            ],
            [
             0.4,
             "#fde0ef"
            ],
            [
             0.5,
             "#f7f7f7"
            ],
            [
             0.6,
             "#e6f5d0"
            ],
            [
             0.7,
             "#b8e186"
            ],
            [
             0.8,
             "#7fbc41"
            ],
            [
             0.9,
             "#4d9221"
            ],
            [
             1,
             "#276419"
            ]
           ]
          },
          "xaxis": {
           "gridcolor": "white",
           "linecolor": "white",
           "ticks": "",
           "title": {
            "standoff": 15
           },
           "zerolinecolor": "white",
           "automargin": true,
           "zerolinewidth": 2
          },
          "yaxis": {
           "gridcolor": "white",
           "linecolor": "white",
           "ticks": "",
           "title": {
            "standoff": 15
           },
           "zerolinecolor": "white",
           "automargin": true,
           "zerolinewidth": 2
          },
          "scene": {
           "xaxis": {
            "backgroundcolor": "#E5ECF6",
            "gridcolor": "white",
            "linecolor": "white",
            "showbackground": true,
            "ticks": "",
            "zerolinecolor": "white",
            "gridwidth": 2
           },
           "yaxis": {
            "backgroundcolor": "#E5ECF6",
            "gridcolor": "white",
            "linecolor": "white",
            "showbackground": true,
            "ticks": "",
            "zerolinecolor": "white",
            "gridwidth": 2
           },
           "zaxis": {
            "backgroundcolor": "#E5ECF6",
            "gridcolor": "white",
            "linecolor": "white",
            "showbackground": true,
            "ticks": "",
            "zerolinecolor": "white",
            "gridwidth": 2
           }
          },
          "shapedefaults": {
           "line": {
            "color": "#2a3f5f"
           }
          },
          "annotationdefaults": {
           "arrowcolor": "#2a3f5f",
           "arrowhead": 0,
           "arrowwidth": 1
          },
          "geo": {
           "bgcolor": "white",
           "landcolor": "#E5ECF6",
           "subunitcolor": "white",
           "showland": true,
           "showlakes": true,
           "lakecolor": "white"
          },
          "title": {
           "x": 0.05
          },
          "mapbox": {
           "style": "light"
          }
         }
        },
        "xaxis": {
         "anchor": "y",
         "domain": [
          0.0,
          1.0
         ],
         "title": {
          "text": "x"
         }
        },
        "yaxis": {
         "anchor": "x",
         "domain": [
          0.0,
          1.0
         ],
         "title": {
          "text": "y"
         }
        },
        "legend": {
         "tracegroupgap": 0
        },
        "margin": {
         "t": 60
        },
        "barmode": "relative"
       },
       "config": {
        "plotlyServerURL": "https://plot.ly"
       }
      },
      "text/html": [
       "<div>                            <div id=\"2de9e448-0660-4ef8-9bfa-ad71bddfb115\" class=\"plotly-graph-div\" style=\"height:525px; width:100%;\"></div>            <script type=\"text/javascript\">                require([\"plotly\"], function(Plotly) {                    window.PLOTLYENV=window.PLOTLYENV || {};                                    if (document.getElementById(\"2de9e448-0660-4ef8-9bfa-ad71bddfb115\")) {                    Plotly.newPlot(                        \"2de9e448-0660-4ef8-9bfa-ad71bddfb115\",                        [{\"alignmentgroup\":\"True\",\"hovertemplate\":\"x=%{x}\\u003cbr\\u003ey=%{y}\\u003cextra\\u003e\\u003c\\u002fextra\\u003e\",\"legendgroup\":\"\",\"marker\":{\"color\":\"#636efa\",\"pattern\":{\"shape\":\"\"}},\"name\":\"\",\"offsetgroup\":\"\",\"orientation\":\"v\",\"showlegend\":false,\"textposition\":\"auto\",\"x\":[0.2349077486589636,0.3605446294630211,0.48618151026707856,0.6118183910711361,0.7374552718751937,0.8630921526792511,0.9887290334833085,1.114365914287366,1.2400027950914236,1.3656396758954812],\"xaxis\":\"x\",\"y\":[285,1415,1446,949,471,200,103,52,22,7],\"yaxis\":\"y\",\"type\":\"bar\"}],                        {\"template\":{\"data\":{\"histogram2dcontour\":[{\"type\":\"histogram2dcontour\",\"colorbar\":{\"outlinewidth\":0,\"ticks\":\"\"},\"colorscale\":[[0.0,\"#0d0887\"],[0.1111111111111111,\"#46039f\"],[0.2222222222222222,\"#7201a8\"],[0.3333333333333333,\"#9c179e\"],[0.4444444444444444,\"#bd3786\"],[0.5555555555555556,\"#d8576b\"],[0.6666666666666666,\"#ed7953\"],[0.7777777777777778,\"#fb9f3a\"],[0.8888888888888888,\"#fdca26\"],[1.0,\"#f0f921\"]]}],\"choropleth\":[{\"type\":\"choropleth\",\"colorbar\":{\"outlinewidth\":0,\"ticks\":\"\"}}],\"histogram2d\":[{\"type\":\"histogram2d\",\"colorbar\":{\"outlinewidth\":0,\"ticks\":\"\"},\"colorscale\":[[0.0,\"#0d0887\"],[0.1111111111111111,\"#46039f\"],[0.2222222222222222,\"#7201a8\"],[0.3333333333333333,\"#9c179e\"],[0.4444444444444444,\"#bd3786\"],[0.5555555555555556,\"#d8576b\"],[0.6666666666666666,\"#ed7953\"],[0.7777777777777778,\"#fb9f3a\"],[0.8888888888888888,\"#fdca26\"],[1.0,\"#f0f921\"]]}],\"heatmap\":[{\"type\":\"heatmap\",\"colorbar\":{\"outlinewidth\":0,\"ticks\":\"\"},\"colorscale\":[[0.0,\"#0d0887\"],[0.1111111111111111,\"#46039f\"],[0.2222222222222222,\"#7201a8\"],[0.3333333333333333,\"#9c179e\"],[0.4444444444444444,\"#bd3786\"],[0.5555555555555556,\"#d8576b\"],[0.6666666666666666,\"#ed7953\"],[0.7777777777777778,\"#fb9f3a\"],[0.8888888888888888,\"#fdca26\"],[1.0,\"#f0f921\"]]}],\"heatmapgl\":[{\"type\":\"heatmapgl\",\"colorbar\":{\"outlinewidth\":0,\"ticks\":\"\"},\"colorscale\":[[0.0,\"#0d0887\"],[0.1111111111111111,\"#46039f\"],[0.2222222222222222,\"#7201a8\"],[0.3333333333333333,\"#9c179e\"],[0.4444444444444444,\"#bd3786\"],[0.5555555555555556,\"#d8576b\"],[0.6666666666666666,\"#ed7953\"],[0.7777777777777778,\"#fb9f3a\"],[0.8888888888888888,\"#fdca26\"],[1.0,\"#f0f921\"]]}],\"contourcarpet\":[{\"type\":\"contourcarpet\",\"colorbar\":{\"outlinewidth\":0,\"ticks\":\"\"}}],\"contour\":[{\"type\":\"contour\",\"colorbar\":{\"outlinewidth\":0,\"ticks\":\"\"},\"colorscale\":[[0.0,\"#0d0887\"],[0.1111111111111111,\"#46039f\"],[0.2222222222222222,\"#7201a8\"],[0.3333333333333333,\"#9c179e\"],[0.4444444444444444,\"#bd3786\"],[0.5555555555555556,\"#d8576b\"],[0.6666666666666666,\"#ed7953\"],[0.7777777777777778,\"#fb9f3a\"],[0.8888888888888888,\"#fdca26\"],[1.0,\"#f0f921\"]]}],\"surface\":[{\"type\":\"surface\",\"colorbar\":{\"outlinewidth\":0,\"ticks\":\"\"},\"colorscale\":[[0.0,\"#0d0887\"],[0.1111111111111111,\"#46039f\"],[0.2222222222222222,\"#7201a8\"],[0.3333333333333333,\"#9c179e\"],[0.4444444444444444,\"#bd3786\"],[0.5555555555555556,\"#d8576b\"],[0.6666666666666666,\"#ed7953\"],[0.7777777777777778,\"#fb9f3a\"],[0.8888888888888888,\"#fdca26\"],[1.0,\"#f0f921\"]]}],\"mesh3d\":[{\"type\":\"mesh3d\",\"colorbar\":{\"outlinewidth\":0,\"ticks\":\"\"}}],\"scatter\":[{\"fillpattern\":{\"fillmode\":\"overlay\",\"size\":10,\"solidity\":0.2},\"type\":\"scatter\"}],\"parcoords\":[{\"type\":\"parcoords\",\"line\":{\"colorbar\":{\"outlinewidth\":0,\"ticks\":\"\"}}}],\"scatterpolargl\":[{\"type\":\"scatterpolargl\",\"marker\":{\"colorbar\":{\"outlinewidth\":0,\"ticks\":\"\"}}}],\"bar\":[{\"error_x\":{\"color\":\"#2a3f5f\"},\"error_y\":{\"color\":\"#2a3f5f\"},\"marker\":{\"line\":{\"color\":\"#E5ECF6\",\"width\":0.5},\"pattern\":{\"fillmode\":\"overlay\",\"size\":10,\"solidity\":0.2}},\"type\":\"bar\"}],\"scattergeo\":[{\"type\":\"scattergeo\",\"marker\":{\"colorbar\":{\"outlinewidth\":0,\"ticks\":\"\"}}}],\"scatterpolar\":[{\"type\":\"scatterpolar\",\"marker\":{\"colorbar\":{\"outlinewidth\":0,\"ticks\":\"\"}}}],\"histogram\":[{\"marker\":{\"pattern\":{\"fillmode\":\"overlay\",\"size\":10,\"solidity\":0.2}},\"type\":\"histogram\"}],\"scattergl\":[{\"type\":\"scattergl\",\"marker\":{\"colorbar\":{\"outlinewidth\":0,\"ticks\":\"\"}}}],\"scatter3d\":[{\"type\":\"scatter3d\",\"line\":{\"colorbar\":{\"outlinewidth\":0,\"ticks\":\"\"}},\"marker\":{\"colorbar\":{\"outlinewidth\":0,\"ticks\":\"\"}}}],\"scattermapbox\":[{\"type\":\"scattermapbox\",\"marker\":{\"colorbar\":{\"outlinewidth\":0,\"ticks\":\"\"}}}],\"scatterternary\":[{\"type\":\"scatterternary\",\"marker\":{\"colorbar\":{\"outlinewidth\":0,\"ticks\":\"\"}}}],\"scattercarpet\":[{\"type\":\"scattercarpet\",\"marker\":{\"colorbar\":{\"outlinewidth\":0,\"ticks\":\"\"}}}],\"carpet\":[{\"aaxis\":{\"endlinecolor\":\"#2a3f5f\",\"gridcolor\":\"white\",\"linecolor\":\"white\",\"minorgridcolor\":\"white\",\"startlinecolor\":\"#2a3f5f\"},\"baxis\":{\"endlinecolor\":\"#2a3f5f\",\"gridcolor\":\"white\",\"linecolor\":\"white\",\"minorgridcolor\":\"white\",\"startlinecolor\":\"#2a3f5f\"},\"type\":\"carpet\"}],\"table\":[{\"cells\":{\"fill\":{\"color\":\"#EBF0F8\"},\"line\":{\"color\":\"white\"}},\"header\":{\"fill\":{\"color\":\"#C8D4E3\"},\"line\":{\"color\":\"white\"}},\"type\":\"table\"}],\"barpolar\":[{\"marker\":{\"line\":{\"color\":\"#E5ECF6\",\"width\":0.5},\"pattern\":{\"fillmode\":\"overlay\",\"size\":10,\"solidity\":0.2}},\"type\":\"barpolar\"}],\"pie\":[{\"automargin\":true,\"type\":\"pie\"}]},\"layout\":{\"autotypenumbers\":\"strict\",\"colorway\":[\"#636efa\",\"#EF553B\",\"#00cc96\",\"#ab63fa\",\"#FFA15A\",\"#19d3f3\",\"#FF6692\",\"#B6E880\",\"#FF97FF\",\"#FECB52\"],\"font\":{\"color\":\"#2a3f5f\"},\"hovermode\":\"closest\",\"hoverlabel\":{\"align\":\"left\"},\"paper_bgcolor\":\"white\",\"plot_bgcolor\":\"#E5ECF6\",\"polar\":{\"bgcolor\":\"#E5ECF6\",\"angularaxis\":{\"gridcolor\":\"white\",\"linecolor\":\"white\",\"ticks\":\"\"},\"radialaxis\":{\"gridcolor\":\"white\",\"linecolor\":\"white\",\"ticks\":\"\"}},\"ternary\":{\"bgcolor\":\"#E5ECF6\",\"aaxis\":{\"gridcolor\":\"white\",\"linecolor\":\"white\",\"ticks\":\"\"},\"baxis\":{\"gridcolor\":\"white\",\"linecolor\":\"white\",\"ticks\":\"\"},\"caxis\":{\"gridcolor\":\"white\",\"linecolor\":\"white\",\"ticks\":\"\"}},\"coloraxis\":{\"colorbar\":{\"outlinewidth\":0,\"ticks\":\"\"}},\"colorscale\":{\"sequential\":[[0.0,\"#0d0887\"],[0.1111111111111111,\"#46039f\"],[0.2222222222222222,\"#7201a8\"],[0.3333333333333333,\"#9c179e\"],[0.4444444444444444,\"#bd3786\"],[0.5555555555555556,\"#d8576b\"],[0.6666666666666666,\"#ed7953\"],[0.7777777777777778,\"#fb9f3a\"],[0.8888888888888888,\"#fdca26\"],[1.0,\"#f0f921\"]],\"sequentialminus\":[[0.0,\"#0d0887\"],[0.1111111111111111,\"#46039f\"],[0.2222222222222222,\"#7201a8\"],[0.3333333333333333,\"#9c179e\"],[0.4444444444444444,\"#bd3786\"],[0.5555555555555556,\"#d8576b\"],[0.6666666666666666,\"#ed7953\"],[0.7777777777777778,\"#fb9f3a\"],[0.8888888888888888,\"#fdca26\"],[1.0,\"#f0f921\"]],\"diverging\":[[0,\"#8e0152\"],[0.1,\"#c51b7d\"],[0.2,\"#de77ae\"],[0.3,\"#f1b6da\"],[0.4,\"#fde0ef\"],[0.5,\"#f7f7f7\"],[0.6,\"#e6f5d0\"],[0.7,\"#b8e186\"],[0.8,\"#7fbc41\"],[0.9,\"#4d9221\"],[1,\"#276419\"]]},\"xaxis\":{\"gridcolor\":\"white\",\"linecolor\":\"white\",\"ticks\":\"\",\"title\":{\"standoff\":15},\"zerolinecolor\":\"white\",\"automargin\":true,\"zerolinewidth\":2},\"yaxis\":{\"gridcolor\":\"white\",\"linecolor\":\"white\",\"ticks\":\"\",\"title\":{\"standoff\":15},\"zerolinecolor\":\"white\",\"automargin\":true,\"zerolinewidth\":2},\"scene\":{\"xaxis\":{\"backgroundcolor\":\"#E5ECF6\",\"gridcolor\":\"white\",\"linecolor\":\"white\",\"showbackground\":true,\"ticks\":\"\",\"zerolinecolor\":\"white\",\"gridwidth\":2},\"yaxis\":{\"backgroundcolor\":\"#E5ECF6\",\"gridcolor\":\"white\",\"linecolor\":\"white\",\"showbackground\":true,\"ticks\":\"\",\"zerolinecolor\":\"white\",\"gridwidth\":2},\"zaxis\":{\"backgroundcolor\":\"#E5ECF6\",\"gridcolor\":\"white\",\"linecolor\":\"white\",\"showbackground\":true,\"ticks\":\"\",\"zerolinecolor\":\"white\",\"gridwidth\":2}},\"shapedefaults\":{\"line\":{\"color\":\"#2a3f5f\"}},\"annotationdefaults\":{\"arrowcolor\":\"#2a3f5f\",\"arrowhead\":0,\"arrowwidth\":1},\"geo\":{\"bgcolor\":\"white\",\"landcolor\":\"#E5ECF6\",\"subunitcolor\":\"white\",\"showland\":true,\"showlakes\":true,\"lakecolor\":\"white\"},\"title\":{\"x\":0.05},\"mapbox\":{\"style\":\"light\"}}},\"xaxis\":{\"anchor\":\"y\",\"domain\":[0.0,1.0],\"title\":{\"text\":\"x\"}},\"yaxis\":{\"anchor\":\"x\",\"domain\":[0.0,1.0],\"title\":{\"text\":\"y\"}},\"legend\":{\"tracegroupgap\":0},\"margin\":{\"t\":60},\"barmode\":\"relative\"},                        {\"responsive\": true}                    ).then(function(){\n",
       "                            \n",
       "var gd = document.getElementById('2de9e448-0660-4ef8-9bfa-ad71bddfb115');\n",
       "var x = new MutationObserver(function (mutations, observer) {{\n",
       "        var display = window.getComputedStyle(gd).display;\n",
       "        if (!display || display === 'none') {{\n",
       "            console.log([gd, 'removed!']);\n",
       "            Plotly.purge(gd);\n",
       "            observer.disconnect();\n",
       "        }}\n",
       "}});\n",
       "\n",
       "// Listen for the removal of the full notebook cells\n",
       "var notebookContainer = gd.closest('#notebook-container');\n",
       "if (notebookContainer) {{\n",
       "    x.observe(notebookContainer, {childList: true});\n",
       "}}\n",
       "\n",
       "// Listen for the clearing of the current output cell\n",
       "var outputEl = gd.closest('.output');\n",
       "if (outputEl) {{\n",
       "    x.observe(outputEl, {childList: true});\n",
       "}}\n",
       "\n",
       "                        })                };                });            </script>        </div>"
      ]
     },
     "metadata": {},
     "output_type": "display_data"
    }
   ],
   "execution_count": 265
  },
  {
   "metadata": {
    "ExecuteTime": {
     "end_time": "2024-07-26T14:54:14.568366Z",
     "start_time": "2024-07-26T14:54:14.563620Z"
    }
   },
   "cell_type": "code",
   "source": "meta_data",
   "id": "9ddf55157eddee1f",
   "outputs": [
    {
     "data": {
      "text/plain": [
       "             fun  iter  success\n",
       "0   2.562898e-07    35     True\n",
       "1   3.071001e-07    32     True\n",
       "2   3.058851e-07    30     True\n",
       "3   5.042834e-07    28     True\n",
       "4   6.873908e-07    28     True\n",
       "..           ...   ...      ...\n",
       "95  3.062381e-07    32     True\n",
       "96  5.036776e-07    30     True\n",
       "97  6.841337e-07    30     True\n",
       "98  5.025125e-07    29     True\n",
       "99  6.875344e-07    29     True\n",
       "\n",
       "[100 rows x 3 columns]"
      ],
      "text/html": [
       "<div>\n",
       "<style scoped>\n",
       "    .dataframe tbody tr th:only-of-type {\n",
       "        vertical-align: middle;\n",
       "    }\n",
       "\n",
       "    .dataframe tbody tr th {\n",
       "        vertical-align: top;\n",
       "    }\n",
       "\n",
       "    .dataframe thead th {\n",
       "        text-align: right;\n",
       "    }\n",
       "</style>\n",
       "<table border=\"1\" class=\"dataframe\">\n",
       "  <thead>\n",
       "    <tr style=\"text-align: right;\">\n",
       "      <th></th>\n",
       "      <th>fun</th>\n",
       "      <th>iter</th>\n",
       "      <th>success</th>\n",
       "    </tr>\n",
       "  </thead>\n",
       "  <tbody>\n",
       "    <tr>\n",
       "      <th>0</th>\n",
       "      <td>2.562898e-07</td>\n",
       "      <td>35</td>\n",
       "      <td>True</td>\n",
       "    </tr>\n",
       "    <tr>\n",
       "      <th>1</th>\n",
       "      <td>3.071001e-07</td>\n",
       "      <td>32</td>\n",
       "      <td>True</td>\n",
       "    </tr>\n",
       "    <tr>\n",
       "      <th>2</th>\n",
       "      <td>3.058851e-07</td>\n",
       "      <td>30</td>\n",
       "      <td>True</td>\n",
       "    </tr>\n",
       "    <tr>\n",
       "      <th>3</th>\n",
       "      <td>5.042834e-07</td>\n",
       "      <td>28</td>\n",
       "      <td>True</td>\n",
       "    </tr>\n",
       "    <tr>\n",
       "      <th>4</th>\n",
       "      <td>6.873908e-07</td>\n",
       "      <td>28</td>\n",
       "      <td>True</td>\n",
       "    </tr>\n",
       "    <tr>\n",
       "      <th>...</th>\n",
       "      <td>...</td>\n",
       "      <td>...</td>\n",
       "      <td>...</td>\n",
       "    </tr>\n",
       "    <tr>\n",
       "      <th>95</th>\n",
       "      <td>3.062381e-07</td>\n",
       "      <td>32</td>\n",
       "      <td>True</td>\n",
       "    </tr>\n",
       "    <tr>\n",
       "      <th>96</th>\n",
       "      <td>5.036776e-07</td>\n",
       "      <td>30</td>\n",
       "      <td>True</td>\n",
       "    </tr>\n",
       "    <tr>\n",
       "      <th>97</th>\n",
       "      <td>6.841337e-07</td>\n",
       "      <td>30</td>\n",
       "      <td>True</td>\n",
       "    </tr>\n",
       "    <tr>\n",
       "      <th>98</th>\n",
       "      <td>5.025125e-07</td>\n",
       "      <td>29</td>\n",
       "      <td>True</td>\n",
       "    </tr>\n",
       "    <tr>\n",
       "      <th>99</th>\n",
       "      <td>6.875344e-07</td>\n",
       "      <td>29</td>\n",
       "      <td>True</td>\n",
       "    </tr>\n",
       "  </tbody>\n",
       "</table>\n",
       "<p>100 rows × 3 columns</p>\n",
       "</div>"
      ]
     },
     "execution_count": 267,
     "metadata": {},
     "output_type": "execute_result"
    }
   ],
   "execution_count": 267
  },
  {
   "metadata": {},
   "cell_type": "markdown",
   "source": "## Myopic Search",
   "id": "3df6a2e53a0696b2"
  },
  {
   "metadata": {
    "ExecuteTime": {
     "end_time": "2024-07-26T15:48:47.810021Z",
     "start_time": "2024-07-26T15:48:47.807022Z"
    }
   },
   "cell_type": "code",
   "source": [
    "def degroot_err(m, ibelief, cbelief, niter):\n",
    "    m = m / np.sum(m, axis=1)\n",
    "    mt = np.linalg.matrix_power(m, niter)\n",
    "    pt = mt @ ibelief\n",
    "    error =  np.sum(np.square(pt - cbelief))\n",
    "    return error"
   ],
   "id": "8186ea787c0e5f8c",
   "outputs": [],
   "execution_count": 202
  },
  {
   "metadata": {
    "ExecuteTime": {
     "end_time": "2024-07-26T16:06:49.633395Z",
     "start_time": "2024-07-26T16:06:49.628934Z"
    }
   },
   "cell_type": "code",
   "source": [
    "class Result:\n",
    "    def __init__(self, m, error, initial_error, converged):\n",
    "        self.m = m\n",
    "        self.error = error\n",
    "        self.initial_error = initial_error\n",
    "        self.converged = converged\n",
    "\n",
    "def myopic_search(m0, niter_search, ibelief, cbelief, niter_degroot, convergence_bar):\n",
    "    m = m0.copy()\n",
    "    initial_error = degroot_err(m, ibelief, cbelief, niter_degroot)\n",
    "    error = initial_error.copy()\n",
    "    n_rounds_no_improvement = 0\n",
    "    converged = False\n",
    "    for i in range(niter_search):\n",
    "        indices_non_zero = np.argwhere(m > 0)\n",
    "        \n",
    "        if len(indices_non_zero) == 0:\n",
    "            continue\n",
    "            \n",
    "        index_non_zero = np.random.choice(np.arange(len(indices_non_zero)))\n",
    "        i, j = indices_non_zero[index_non_zero]\n",
    "        \n",
    "        indices_zero = np.argwhere(m[i] == 0).flatten()\n",
    "        \n",
    "        if len(indices_zero) == 1:\n",
    "            continue\n",
    "            \n",
    "        indices_zero = indices_zero[indices_zero != i]\n",
    "        k = np.random.choice(indices_zero)\n",
    "        m1 = m.copy()\n",
    "        \n",
    "        m1[i, j] = 0\n",
    "        m1[i, k] = 1\n",
    "        error1 = degroot_err(m1, ibelief, cbelief, niter_degroot)\n",
    "        \n",
    "        if error1 < error:\n",
    "            m = m1\n",
    "            error = error1\n",
    "            n_rounds_no_improvement = 0\n",
    "        else:\n",
    "            n_rounds_no_improvement += 1\n",
    "            \n",
    "        if n_rounds_no_improvement > convergence_bar:\n",
    "            converged = True\n",
    "            break\n",
    "\n",
    "    return Result(m, error, initial_error, converged)"
   ],
   "id": "240f840cde00c22",
   "outputs": [],
   "execution_count": 239
  },
  {
   "metadata": {
    "ExecuteTime": {
     "end_time": "2024-07-26T16:08:16.346768Z",
     "start_time": "2024-07-26T16:08:16.344153Z"
    }
   },
   "cell_type": "code",
   "source": [
    "dims = 8\n",
    "p = 0.5\n",
    "init_belief = np.random.rand(dims)\n",
    "correct_belief = 0.7\n",
    "num_iterations = 1000\n",
    "init_belief"
   ],
   "id": "5f97a65ab798cb50",
   "outputs": [
    {
     "data": {
      "text/plain": [
       "array([0.39660715, 0.45974194, 0.70609609, 0.62631433, 0.64101558,\n",
       "       0.28223579, 0.34561588, 0.69964285])"
      ]
     },
     "execution_count": 267,
     "metadata": {},
     "output_type": "execute_result"
    }
   ],
   "execution_count": 267
  },
  {
   "metadata": {
    "ExecuteTime": {
     "end_time": "2024-07-26T16:09:15.554565Z",
     "start_time": "2024-07-26T16:09:15.542272Z"
    }
   },
   "cell_type": "code",
   "source": [
    "n_trials = 100\n",
    "initial_conditions = []\n",
    "for i in range(n_trials):\n",
    "    m = nx.adjacency_matrix(nx.erdos_renyi_graph(n=dims, p=0.5)).todense()\n",
    "    if np.min(np.sum(m, axis=1)) == 0:\n",
    "        continue\n",
    "    initial_conditions.append(m)\n",
    "\n",
    "unique_initial_conditions = np.unique([s.flatten() for s in initial_conditions], axis=0)\n",
    "unique_initial_conditions = [s.reshape(dims, dims) for s in unique_initial_conditions]\n",
    "len(unique_initial_conditions)"
   ],
   "id": "8fbcae03ce27447d",
   "outputs": [
    {
     "data": {
      "text/plain": [
       "96"
      ]
     },
     "execution_count": 280,
     "metadata": {},
     "output_type": "execute_result"
    }
   ],
   "execution_count": 280
  },
  {
   "metadata": {
    "ExecuteTime": {
     "end_time": "2024-07-26T16:10:04.745693Z",
     "start_time": "2024-07-26T16:10:04.741058Z"
    }
   },
   "cell_type": "code",
   "source": [
    "initial_errors = [degroot_err(x, init_belief, correct_belief, num_iterations) for x in unique_initial_conditions]\n",
    "sorted(initial_errors)[::-1]"
   ],
   "id": "74567ff2ca628208",
   "outputs": [
    {
     "data": {
      "text/plain": [
       "[1.193673335298378,\n",
       " 0.920294277019714,\n",
       " 0.8602842398365922,\n",
       " 0.8002742026534697,\n",
       " 0.7422479683524261,\n",
       " 0.6922561357238364,\n",
       " 0.6708310645973035,\n",
       " 0.6602507825595114,\n",
       " 0.6569849301957983,\n",
       " 0.6569849301957711,\n",
       " 0.6314959730759435,\n",
       " 0.620244091104091,\n",
       " 0.6202440911040824,\n",
       " 0.5994141608421875,\n",
       " 0.5994141608421873,\n",
       " 0.5994141608421768,\n",
       " 0.5688069163757032,\n",
       " 0.5578336524336425,\n",
       " 0.5578336524336425,\n",
       " 0.5578336524336076,\n",
       " 0.554197541304896,\n",
       " 0.5302290353294266,\n",
       " 0.5279972570870899,\n",
       " 0.5247179094656295,\n",
       " 0.5247179094656291,\n",
       " 0.5247179094656275,\n",
       " 0.524717909465624,\n",
       " 0.5218193242363095,\n",
       " 0.5218193242362865,\n",
       " 0.5218193242362632,\n",
       " 0.519427228636463,\n",
       " 0.5194272286364598,\n",
       " 0.5194272286364205,\n",
       " 0.5194272286364024,\n",
       " 0.5002240167378476,\n",
       " 0.5002240167378442,\n",
       " 0.5002240167378419,\n",
       " 0.5002240167378331,\n",
       " 0.49357470513859986,\n",
       " 0.4919181292384494,\n",
       " 0.49191812923843836,\n",
       " 0.4810208048392067,\n",
       " 0.4810208048392036,\n",
       " 0.48062890255559265,\n",
       " 0.480628902555584,\n",
       " 0.4735528891008959,\n",
       " 0.4627177434983755,\n",
       " 0.46201693424065227,\n",
       " 0.4620169342406374,\n",
       " 0.4620169342406096,\n",
       " 0.45658035333197167,\n",
       " 0.45658035333196123,\n",
       " 0.4519319158094176,\n",
       " 0.4426143810420624,\n",
       " 0.44261438104202094,\n",
       " 0.4402139795547342,\n",
       " 0.43301277509275937,\n",
       " 0.43211573924278157,\n",
       " 0.42896209758289716,\n",
       " 0.42896209758284765,\n",
       " 0.42176213986684663,\n",
       " 0.4042079572448293,\n",
       " 0.404207957244828,\n",
       " 0.4042079572448265,\n",
       " 0.40420795724482106,\n",
       " 0.4022145442450255,\n",
       " 0.4022145442449585,\n",
       " 0.40221454424491804,\n",
       " 0.4007991030616754,\n",
       " 0.39520645166738966,\n",
       " 0.3935395061900193,\n",
       " 0.3924508887355068,\n",
       " 0.3802039423716403,\n",
       " 0.3802039423716256,\n",
       " 0.37231334924714976,\n",
       " 0.36820193493504105,\n",
       " 0.3668683785531295,\n",
       " 0.3658015334476542,\n",
       " 0.36580153344763666,\n",
       " 0.3483618818254698,\n",
       " 0.3483618818254628,\n",
       " 0.3424121542493518,\n",
       " 0.34019725091614805,\n",
       " 0.34019725091614805,\n",
       " 0.3336655461887507,\n",
       " 0.3276951598363483,\n",
       " 0.3273951096504696,\n",
       " 0.3273951096504688,\n",
       " 0.3273951096504579,\n",
       " 0.3273951096504529,\n",
       " 0.3137465458217287,\n",
       " 0.3125109592514792,\n",
       " 0.3042728749154605,\n",
       " 0.304272874915438,\n",
       " 0.30207453108044674,\n",
       " 0.2868549956422273]"
      ]
     },
     "execution_count": 287,
     "metadata": {},
     "output_type": "execute_result"
    }
   ],
   "execution_count": 287
  },
  {
   "metadata": {
    "ExecuteTime": {
     "end_time": "2024-07-26T16:09:29.433908Z",
     "start_time": "2024-07-26T16:09:29.170130Z"
    }
   },
   "cell_type": "code",
   "source": [
    "results = []\n",
    "for x in unique_initial_conditions:\n",
    "    res = myopic_search(x, 1000, init_belief, correct_belief, num_iterations, 20)\n",
    "    results.append(res)"
   ],
   "id": "872b578695724fba",
   "outputs": [],
   "execution_count": 282
  },
  {
   "metadata": {
    "ExecuteTime": {
     "end_time": "2024-07-26T16:09:37.888458Z",
     "start_time": "2024-07-26T16:09:37.877239Z"
    }
   },
   "cell_type": "code",
   "source": [
    "meta_data = []\n",
    "solutions = []\n",
    "for r in results:\n",
    "    meta_data.append({'error': r.error, 'initial_error': r.initial_error, 'converged': r.converged})\n",
    "    solutions.append(r.m)\n",
    "    print(r.m)"
   ],
   "id": "18aff6534a46d9dd",
   "outputs": [
    {
     "name": "stdout",
     "output_type": "stream",
     "text": [
      "[[0 0 0 0 0 0 1 0]\n",
      " [0 0 0 1 1 0 1 0]\n",
      " [0 0 0 1 1 1 0 0]\n",
      " [1 1 1 0 1 0 0 1]\n",
      " [1 1 0 1 0 0 0 1]\n",
      " [0 1 1 1 1 0 0 1]\n",
      " [1 1 1 0 1 0 0 1]\n",
      " [0 0 1 1 0 1 1 0]]\n",
      "[[0 0 1 1 1 0 0 0]\n",
      " [0 0 1 1 1 1 0 0]\n",
      " [0 1 0 1 1 0 0 0]\n",
      " [0 0 1 0 1 0 1 1]\n",
      " [1 0 1 0 0 0 0 1]\n",
      " [0 1 1 0 1 0 0 1]\n",
      " [0 0 1 1 1 1 0 1]\n",
      " [1 1 1 1 1 1 0 0]]\n",
      "[[0 0 0 1 1 0 0 0]\n",
      " [0 0 1 1 1 0 0 0]\n",
      " [1 0 0 1 0 0 1 0]\n",
      " [1 0 0 0 1 0 0 1]\n",
      " [1 0 1 1 0 0 0 0]\n",
      " [1 0 1 1 0 0 0 0]\n",
      " [1 0 1 1 1 0 0 1]\n",
      " [1 1 0 1 1 0 0 0]]\n",
      "[[0 0 1 0 1 0 0 0]\n",
      " [1 0 1 0 1 0 0 1]\n",
      " [0 1 0 1 1 0 0 0]\n",
      " [1 0 1 0 1 0 1 1]\n",
      " [1 1 0 1 0 0 0 1]\n",
      " [1 1 1 0 1 0 0 1]\n",
      " [1 0 1 1 0 0 0 1]\n",
      " [1 0 0 1 1 0 0 0]]\n",
      "[[0 0 1 0 0 1 0 0]\n",
      " [0 0 1 1 0 1 1 1]\n",
      " [0 0 0 0 0 1 0 0]\n",
      " [0 1 0 0 1 0 1 1]\n",
      " [0 0 0 1 0 1 1 0]\n",
      " [1 1 0 0 0 0 1 1]\n",
      " [1 0 0 1 0 0 0 0]\n",
      " [0 1 0 1 0 0 1 0]]\n",
      "[[0 0 0 0 1 1 0 1]\n",
      " [0 0 0 1 1 0 0 0]\n",
      " [0 0 0 1 0 0 0 0]\n",
      " [0 1 1 0 1 0 1 1]\n",
      " [1 1 0 1 0 1 1 1]\n",
      " [1 1 0 0 0 0 0 0]\n",
      " [0 1 0 1 0 0 0 0]\n",
      " [1 0 0 1 1 0 0 0]]\n",
      "[[0 0 0 0 1 0 1 1]\n",
      " [1 0 0 0 0 0 0 0]\n",
      " [0 0 0 0 1 0 0 0]\n",
      " [1 0 0 0 1 0 0 1]\n",
      " [1 1 1 1 0 0 1 1]\n",
      " [1 0 0 0 0 0 1 0]\n",
      " [1 0 0 1 1 1 0 1]\n",
      " [0 0 0 1 1 0 1 0]]\n",
      "[[0 0 0 1 1 0 1 0]\n",
      " [0 0 1 0 1 1 1 1]\n",
      " [0 1 0 1 0 0 1 0]\n",
      " [1 0 0 0 1 1 0 0]\n",
      " [1 1 0 1 0 1 0 1]\n",
      " [1 0 1 1 1 0 1 0]\n",
      " [1 1 1 0 1 1 0 0]\n",
      " [0 0 1 0 0 0 0 0]]\n",
      "[[0 1 0 0 0 0 0 0]\n",
      " [0 0 0 0 1 0 0 0]\n",
      " [1 0 0 1 0 0 0 0]\n",
      " [0 1 1 0 0 1 0 1]\n",
      " [0 1 1 0 0 1 0 0]\n",
      " [0 0 0 1 1 0 0 0]\n",
      " [0 0 1 0 0 0 0 1]\n",
      " [0 0 0 0 0 0 1 0]]\n",
      "[[0 0 0 1 1 0 0 0]\n",
      " [1 0 1 1 1 0 0 1]\n",
      " [1 0 0 1 1 0 0 1]\n",
      " [1 1 1 0 1 0 1 1]\n",
      " [1 1 1 1 0 0 1 1]\n",
      " [1 1 1 0 1 0 1 1]\n",
      " [1 0 1 1 1 0 0 1]\n",
      " [1 1 1 0 1 0 0 0]]\n",
      "[[0 0 1 0 0 0 1 1]\n",
      " [0 0 1 1 1 0 0 0]\n",
      " [0 1 0 0 1 0 0 1]\n",
      " [1 1 1 0 1 0 0 1]\n",
      " [0 1 1 0 0 0 0 1]\n",
      " [0 0 1 1 1 0 0 1]\n",
      " [0 1 1 0 1 0 0 1]\n",
      " [1 1 1 1 1 0 0 0]]\n",
      "[[0 0 0 1 0 1 0 1]\n",
      " [1 0 1 1 1 0 0 1]\n",
      " [0 1 0 1 0 0 0 1]\n",
      " [1 0 1 0 1 1 0 0]\n",
      " [1 0 1 0 0 0 0 0]\n",
      " [0 1 1 0 1 0 0 0]\n",
      " [1 0 0 1 1 1 0 1]\n",
      " [1 1 1 1 1 0 0 0]]\n",
      "[[0 0 0 1 0 1 0 0]\n",
      " [0 0 1 0 1 1 1 0]\n",
      " [1 0 0 1 1 0 0 0]\n",
      " [1 0 1 0 0 1 1 1]\n",
      " [0 1 1 1 0 0 0 1]\n",
      " [1 1 0 1 0 0 0 0]\n",
      " [0 0 1 1 0 0 0 0]\n",
      " [0 0 0 0 1 0 0 0]]\n",
      "[[0 0 1 0 1 0 0 0]\n",
      " [1 0 1 1 1 0 1 1]\n",
      " [1 1 0 1 1 0 0 1]\n",
      " [1 0 1 0 1 0 1 1]\n",
      " [1 1 1 0 0 0 0 1]\n",
      " [1 0 1 1 1 0 0 1]\n",
      " [1 0 1 0 1 0 0 1]\n",
      " [1 1 1 0 1 0 1 0]]\n",
      "[[0 1 0 1 0 0 0 1]\n",
      " [1 0 1 0 0 0 0 0]\n",
      " [1 1 0 1 0 0 1 1]\n",
      " [0 1 1 0 0 0 1 1]\n",
      " [1 1 0 1 0 1 1 1]\n",
      " [0 1 1 0 1 0 0 1]\n",
      " [1 0 1 1 0 0 0 0]\n",
      " [1 1 1 1 0 0 1 0]]\n",
      "[[0 0 0 1 1 1 0 0]\n",
      " [1 0 1 1 1 0 0 0]\n",
      " [0 1 0 1 1 0 0 0]\n",
      " [0 0 1 0 1 0 0 1]\n",
      " [0 0 1 1 0 0 0 1]\n",
      " [0 1 1 1 1 0 0 0]\n",
      " [0 0 1 1 1 0 0 1]\n",
      " [0 0 1 1 1 0 1 0]]\n",
      "[[0 0 0 1 0 1 1 1]\n",
      " [0 0 0 0 1 0 0 0]\n",
      " [0 0 0 0 1 1 0 1]\n",
      " [1 0 0 0 0 1 1 1]\n",
      " [0 1 1 0 0 0 1 0]\n",
      " [1 0 1 1 1 0 1 1]\n",
      " [1 0 1 0 0 1 0 1]\n",
      " [1 1 1 0 0 1 1 0]]\n",
      "[[0 1 1 1 0 0 1 0]\n",
      " [0 0 0 1 1 0 0 0]\n",
      " [0 1 0 0 0 0 0 1]\n",
      " [0 1 0 0 1 1 0 0]\n",
      " [0 1 1 0 0 1 0 1]\n",
      " [0 0 1 1 1 0 0 0]\n",
      " [1 0 1 0 0 0 0 0]\n",
      " [0 0 1 0 0 0 1 0]]\n",
      "[[0 0 1 0 1 0 1 0]\n",
      " [0 0 1 1 0 0 1 1]\n",
      " [1 0 0 1 0 0 1 1]\n",
      " [1 1 1 0 0 0 1 1]\n",
      " [1 1 1 1 0 0 1 1]\n",
      " [0 1 1 0 0 0 1 1]\n",
      " [1 1 0 1 0 0 0 1]\n",
      " [0 0 1 0 1 0 0 0]]\n",
      "[[0 0 0 1 1 0 0 1]\n",
      " [0 0 1 1 1 0 0 1]\n",
      " [1 1 0 1 1 0 0 1]\n",
      " [0 0 1 0 1 0 0 1]\n",
      " [1 0 1 1 0 0 0 1]\n",
      " [1 0 1 1 0 0 0 1]\n",
      " [0 1 1 1 0 0 0 1]\n",
      " [1 0 0 1 1 0 0 0]]\n",
      "[[0 1 1 1 1 0 0 0]\n",
      " [0 0 1 0 1 1 0 1]\n",
      " [0 0 0 1 1 1 0 0]\n",
      " [1 0 1 0 1 0 0 1]\n",
      " [0 1 1 1 0 1 0 1]\n",
      " [0 0 0 0 1 0 0 1]\n",
      " [1 0 1 1 1 1 0 1]\n",
      " [1 1 1 1 1 1 0 0]]\n",
      "[[0 0 0 1 1 0 1 1]\n",
      " [0 0 0 1 0 0 0 1]\n",
      " [0 0 0 0 0 1 0 1]\n",
      " [1 1 1 0 1 0 1 1]\n",
      " [0 0 1 0 0 1 1 1]\n",
      " [0 1 1 0 1 0 1 1]\n",
      " [1 1 1 1 1 0 0 0]\n",
      " [1 1 1 1 0 1 1 0]]\n",
      "[[0 0 1 0 1 0 1 1]\n",
      " [1 0 1 0 1 0 0 1]\n",
      " [0 0 0 0 1 0 1 1]\n",
      " [1 0 1 0 1 0 1 1]\n",
      " [0 1 1 0 0 0 1 1]\n",
      " [0 1 0 0 1 0 1 1]\n",
      " [0 0 1 0 0 0 0 1]\n",
      " [0 1 1 0 1 0 1 0]]\n",
      "[[0 1 0 1 0 0 1 1]\n",
      " [0 0 1 1 0 0 0 1]\n",
      " [0 1 0 1 1 0 1 1]\n",
      " [0 1 1 0 0 0 1 0]\n",
      " [1 1 1 1 0 0 1 1]\n",
      " [1 1 1 0 0 0 0 1]\n",
      " [0 1 1 1 0 0 0 1]\n",
      " [1 1 1 1 1 0 0 0]]\n",
      "[[0 1 1 1 1 0 0 1]\n",
      " [1 0 1 1 1 0 0 1]\n",
      " [1 1 0 1 1 0 0 1]\n",
      " [1 1 1 0 1 0 0 1]\n",
      " [1 1 0 1 0 0 0 0]\n",
      " [1 0 1 1 0 0 1 1]\n",
      " [0 1 1 1 1 0 0 1]\n",
      " [1 1 1 1 1 0 0 0]]\n",
      "[[0 0 0 1 1 1 1 1]\n",
      " [0 0 1 0 1 1 1 1]\n",
      " [0 1 0 0 1 1 0 1]\n",
      " [0 1 1 0 1 1 0 1]\n",
      " [0 1 1 1 0 1 0 1]\n",
      " [0 0 1 0 0 0 0 1]\n",
      " [1 0 1 0 1 1 0 1]\n",
      " [0 1 0 1 0 1 0 0]]\n",
      "[[0 0 1 0 0 0 0 1]\n",
      " [0 0 0 1 1 0 0 1]\n",
      " [0 0 0 1 1 1 0 1]\n",
      " [0 0 0 0 1 1 0 1]\n",
      " [1 0 0 1 0 0 0 0]\n",
      " [0 0 0 0 1 0 0 1]\n",
      " [0 0 0 1 0 1 0 0]\n",
      " [0 0 0 0 1 1 0 0]]\n",
      "[[0 0 1 0 1 0 1 0]\n",
      " [0 0 1 1 1 0 0 1]\n",
      " [1 1 0 1 1 0 0 0]\n",
      " [0 1 1 0 0 0 1 0]\n",
      " [0 0 1 0 0 0 0 1]\n",
      " [1 1 0 1 1 0 0 1]\n",
      " [0 1 1 0 1 0 0 0]\n",
      " [0 1 0 1 1 0 1 0]]\n",
      "[[0 0 0 1 0 0 0 1]\n",
      " [1 0 1 1 0 0 0 0]\n",
      " [0 0 0 1 1 0 0 1]\n",
      " [0 0 1 0 0 0 0 1]\n",
      " [1 0 1 1 0 0 0 0]\n",
      " [0 1 0 0 1 0 0 1]\n",
      " [1 0 0 1 0 0 0 1]\n",
      " [0 0 1 1 1 0 0 0]]\n",
      "[[0 0 1 0 0 1 0 1]\n",
      " [0 0 1 1 0 0 1 1]\n",
      " [0 1 0 1 0 1 0 0]\n",
      " [0 1 0 0 0 0 0 0]\n",
      " [0 0 1 0 0 0 0 1]\n",
      " [1 0 1 0 0 0 0 0]\n",
      " [0 1 0 0 0 0 0 1]\n",
      " [1 1 1 0 0 1 1 0]]\n",
      "[[0 0 1 0 0 1 1 1]\n",
      " [0 0 1 1 0 0 1 1]\n",
      " [1 1 0 0 0 0 0 1]\n",
      " [0 1 0 0 0 1 0 1]\n",
      " [0 0 0 0 0 0 1 0]\n",
      " [0 0 0 1 0 0 1 1]\n",
      " [0 1 1 1 1 0 0 1]\n",
      " [0 0 1 1 1 1 1 0]]\n",
      "[[0 0 1 0 1 0 1 0]\n",
      " [0 0 0 1 0 0 1 0]\n",
      " [0 1 0 1 1 1 0 0]\n",
      " [0 1 0 0 0 1 0 1]\n",
      " [0 1 1 0 0 0 0 0]\n",
      " [0 1 0 1 1 0 0 1]\n",
      " [0 0 1 1 1 0 0 1]\n",
      " [0 1 0 0 1 0 0 0]]\n",
      "[[0 0 1 0 1 0 0 1]\n",
      " [0 0 1 0 1 0 0 1]\n",
      " [0 0 0 1 1 0 0 1]\n",
      " [0 1 1 0 1 0 0 1]\n",
      " [0 1 1 1 0 0 0 1]\n",
      " [0 0 1 1 1 0 0 1]\n",
      " [1 1 1 1 0 0 0 1]\n",
      " [1 0 1 1 1 0 0 0]]\n",
      "[[0 1 1 0 1 0 1 0]\n",
      " [1 0 0 0 0 0 0 1]\n",
      " [0 1 0 1 1 0 0 1]\n",
      " [0 0 1 0 1 0 0 1]\n",
      " [1 1 1 1 0 1 1 1]\n",
      " [0 1 0 1 0 0 1 1]\n",
      " [1 0 1 1 1 1 0 1]\n",
      " [0 1 1 0 1 0 1 0]]\n",
      "[[0 0 1 0 0 0 0 1]\n",
      " [0 0 0 0 1 0 0 1]\n",
      " [1 0 0 1 1 0 0 1]\n",
      " [1 1 1 0 1 0 0 1]\n",
      " [1 1 1 1 0 0 0 1]\n",
      " [1 1 1 0 0 0 0 1]\n",
      " [0 1 1 1 0 0 0 0]\n",
      " [1 1 1 1 1 0 0 0]]\n",
      "[[0 0 1 1 0 0 0 1]\n",
      " [0 0 0 0 1 0 0 1]\n",
      " [0 0 0 1 1 0 0 1]\n",
      " [1 0 0 0 0 1 1 0]\n",
      " [0 1 0 0 0 0 0 0]\n",
      " [1 0 0 1 0 0 0 1]\n",
      " [0 0 0 1 0 0 0 1]\n",
      " [1 1 1 0 0 1 1 0]]\n",
      "[[0 0 0 1 1 0 0 1]\n",
      " [1 0 0 1 1 0 1 1]\n",
      " [1 0 0 1 1 0 1 1]\n",
      " [1 0 1 0 1 0 0 1]\n",
      " [1 0 1 1 0 0 0 1]\n",
      " [1 0 1 1 0 0 1 0]\n",
      " [1 0 0 1 1 0 0 1]\n",
      " [1 0 0 1 1 0 0 0]]\n",
      "[[0 1 0 1 1 0 0 1]\n",
      " [0 0 1 1 1 0 0 1]\n",
      " [0 1 0 1 1 0 0 0]\n",
      " [0 0 1 0 1 0 0 1]\n",
      " [0 1 1 0 0 0 0 0]\n",
      " [1 1 0 0 1 0 0 0]\n",
      " [1 0 0 0 0 0 0 1]\n",
      " [0 0 0 1 1 0 1 0]]\n",
      "[[0 0 0 0 1 0 1 1]\n",
      " [0 0 1 0 1 0 1 1]\n",
      " [1 1 0 0 1 0 1 0]\n",
      " [1 1 1 0 1 0 1 1]\n",
      " [1 0 1 0 0 0 0 1]\n",
      " [1 0 1 0 1 0 0 1]\n",
      " [0 0 1 0 1 0 0 0]\n",
      " [1 1 0 0 1 0 1 0]]\n",
      "[[0 0 1 1 0 1 0 1]\n",
      " [0 0 1 0 1 0 0 1]\n",
      " [0 1 0 1 1 0 0 0]\n",
      " [0 1 1 0 1 0 0 1]\n",
      " [0 0 1 1 0 0 1 0]\n",
      " [0 1 1 1 1 0 0 0]\n",
      " [0 1 1 1 1 0 0 0]\n",
      " [0 1 1 1 1 0 1 0]]\n",
      "[[0 0 1 1 1 1 0 0]\n",
      " [0 0 1 1 0 0 0 0]\n",
      " [1 0 0 1 0 1 1 1]\n",
      " [0 1 1 0 1 1 0 1]\n",
      " [0 0 0 1 0 0 1 0]\n",
      " [1 0 1 1 0 0 0 1]\n",
      " [0 1 1 0 1 0 0 1]\n",
      " [0 0 0 0 1 1 0 0]]\n",
      "[[0 1 0 0 1 0 1 1]\n",
      " [0 0 1 0 1 0 0 0]\n",
      " [0 1 0 0 1 0 1 1]\n",
      " [1 1 1 0 1 1 0 1]\n",
      " [0 1 0 1 0 0 1 1]\n",
      " [0 0 1 0 1 0 1 0]\n",
      " [1 0 0 0 0 0 0 1]\n",
      " [1 1 1 1 1 1 1 0]]\n",
      "[[0 0 0 1 1 0 1 1]\n",
      " [0 0 1 1 1 0 0 1]\n",
      " [0 1 0 1 0 1 0 1]\n",
      " [0 0 0 0 0 0 1 1]\n",
      " [1 0 0 1 0 0 0 0]\n",
      " [0 1 0 0 0 0 1 0]\n",
      " [0 0 0 0 1 0 0 1]\n",
      " [0 1 1 0 1 0 1 0]]\n",
      "[[0 0 1 0 1 0 1 1]\n",
      " [0 0 1 1 0 0 1 1]\n",
      " [1 1 0 1 1 0 1 1]\n",
      " [1 1 1 0 1 0 1 1]\n",
      " [0 1 1 1 0 1 1 1]\n",
      " [1 1 1 1 0 0 1 1]\n",
      " [1 1 0 0 0 0 0 1]\n",
      " [1 1 1 1 0 0 1 0]]\n",
      "[[0 0 1 1 0 1 0 1]\n",
      " [0 0 1 1 0 0 0 1]\n",
      " [0 1 0 1 1 0 0 1]\n",
      " [0 1 0 0 1 0 0 1]\n",
      " [1 1 1 1 0 0 0 0]\n",
      " [0 1 0 1 0 0 0 0]\n",
      " [0 1 1 1 0 1 0 0]\n",
      " [0 1 1 1 0 0 1 0]]\n",
      "[[0 1 0 1 1 1 0 0]\n",
      " [0 0 1 0 0 1 0 1]\n",
      " [1 1 0 1 1 0 0 1]\n",
      " [1 1 0 0 0 0 0 0]\n",
      " [1 1 0 1 0 0 1 0]\n",
      " [0 0 1 0 1 0 0 1]\n",
      " [1 1 1 0 1 0 0 1]\n",
      " [0 1 1 0 0 0 0 0]]\n",
      "[[0 0 1 1 1 1 0 1]\n",
      " [0 0 1 1 0 1 0 1]\n",
      " [1 1 0 1 0 1 0 1]\n",
      " [0 1 0 0 1 0 0 1]\n",
      " [0 1 1 1 0 0 0 1]\n",
      " [0 0 0 0 1 0 0 1]\n",
      " [0 1 1 0 1 0 0 1]\n",
      " [0 0 0 1 1 1 0 0]]\n",
      "[[0 1 1 1 0 0 1 1]\n",
      " [0 0 1 1 0 0 0 1]\n",
      " [1 1 0 1 1 0 0 1]\n",
      " [0 1 1 0 1 0 0 1]\n",
      " [0 0 1 1 0 0 1 1]\n",
      " [0 1 1 1 1 0 1 1]\n",
      " [0 1 1 1 1 0 0 1]\n",
      " [0 1 1 1 1 0 0 0]]\n",
      "[[0 1 0 0 0 0 0 0]\n",
      " [0 0 1 1 1 0 0 0]\n",
      " [0 1 0 1 0 1 1 1]\n",
      " [1 1 0 0 1 0 1 0]\n",
      " [0 0 1 0 0 1 0 1]\n",
      " [0 0 0 0 1 0 1 0]\n",
      " [0 1 1 0 0 1 0 0]\n",
      " [0 0 1 0 0 0 0 0]]\n",
      "[[0 1 1 0 0 0 0 0]\n",
      " [1 0 0 1 1 1 1 1]\n",
      " [0 1 0 0 0 0 0 1]\n",
      " [0 0 0 0 0 1 0 0]\n",
      " [0 1 0 0 0 1 0 0]\n",
      " [0 1 0 0 1 0 0 0]\n",
      " [0 0 0 0 1 0 0 0]\n",
      " [0 1 0 0 0 1 0 0]]\n",
      "[[0 1 0 1 1 0 0 0]\n",
      " [0 0 1 0 1 0 0 1]\n",
      " [0 1 0 0 1 0 0 1]\n",
      " [1 0 1 0 1 0 0 0]\n",
      " [1 0 1 1 0 0 0 0]\n",
      " [0 0 1 1 1 0 0 1]\n",
      " [1 0 1 1 1 0 0 1]\n",
      " [1 0 1 0 1 1 0 0]]\n",
      "[[0 1 0 0 0 1 1 0]\n",
      " [1 0 0 1 0 1 1 1]\n",
      " [0 1 0 1 1 1 0 1]\n",
      " [0 0 1 0 1 1 1 0]\n",
      " [0 0 0 1 0 0 1 1]\n",
      " [1 0 1 1 1 0 1 1]\n",
      " [1 0 1 1 1 1 0 1]\n",
      " [0 1 1 0 0 0 0 0]]\n",
      "[[0 1 0 0 1 1 0 1]\n",
      " [1 0 1 1 0 0 0 0]\n",
      " [0 1 0 1 1 1 1 0]\n",
      " [0 0 1 0 0 0 0 0]\n",
      " [1 0 1 0 0 1 1 1]\n",
      " [0 0 1 0 0 0 1 1]\n",
      " [1 1 1 0 1 0 0 1]\n",
      " [1 1 0 0 1 1 0 0]]\n",
      "[[0 0 1 0 1 0 0 1]\n",
      " [1 0 1 0 0 1 0 1]\n",
      " [0 0 0 1 1 0 1 1]\n",
      " [1 0 1 0 1 0 1 1]\n",
      " [0 0 1 1 0 1 0 1]\n",
      " [1 0 1 1 1 0 1 1]\n",
      " [0 1 1 0 0 1 0 1]\n",
      " [1 0 1 1 1 0 0 0]]\n",
      "[[0 0 0 0 1 0 0 1]\n",
      " [0 0 0 1 1 0 0 1]\n",
      " [0 0 0 1 1 0 0 0]\n",
      " [1 0 1 0 1 0 0 1]\n",
      " [0 1 1 0 0 0 1 0]\n",
      " [0 1 0 0 1 0 0 1]\n",
      " [0 0 1 1 1 1 0 1]\n",
      " [0 1 0 0 0 0 1 0]]\n",
      "[[0 1 0 1 0 0 0 1]\n",
      " [1 0 1 0 1 0 0 1]\n",
      " [0 0 0 0 1 0 0 0]\n",
      " [0 0 0 0 1 0 1 1]\n",
      " [0 1 1 0 0 0 1 0]\n",
      " [1 0 0 0 0 0 1 0]\n",
      " [0 0 0 1 1 1 0 0]\n",
      " [1 1 0 1 0 0 0 0]]\n",
      "[[0 0 1 1 0 0 0 1]\n",
      " [1 0 1 1 1 0 0 1]\n",
      " [0 0 0 1 1 0 0 1]\n",
      " [0 1 1 0 0 1 1 0]\n",
      " [1 0 1 0 0 0 0 0]\n",
      " [0 1 1 0 1 0 0 1]\n",
      " [1 0 0 1 1 1 0 1]\n",
      " [1 0 1 0 0 1 1 0]]\n",
      "[[0 1 1 1 0 0 0 1]\n",
      " [0 0 1 1 1 1 0 1]\n",
      " [0 0 0 0 1 1 0 1]\n",
      " [0 0 1 0 0 1 0 0]\n",
      " [0 1 0 0 0 0 1 0]\n",
      " [0 0 1 0 1 0 0 0]\n",
      " [1 0 1 0 0 0 0 0]\n",
      " [1 0 0 0 1 0 0 0]]\n",
      "[[0 1 0 1 0 1 0 0]\n",
      " [1 0 0 0 0 0 0 0]\n",
      " [0 0 0 1 0 1 0 0]\n",
      " [1 0 1 0 0 0 0 0]\n",
      " [0 0 1 0 0 0 0 0]\n",
      " [1 1 0 0 1 0 0 1]\n",
      " [0 1 0 0 0 1 0 1]\n",
      " [0 0 1 0 0 1 0 0]]\n",
      "[[0 0 1 1 0 1 0 0]\n",
      " [0 0 1 1 1 0 1 1]\n",
      " [0 1 0 0 1 0 0 0]\n",
      " [1 0 0 0 0 0 1 0]\n",
      " [0 0 1 1 0 0 0 0]\n",
      " [1 0 0 0 0 0 1 1]\n",
      " [0 0 0 0 0 1 0 0]\n",
      " [0 1 0 0 0 0 1 0]]\n",
      "[[0 1 1 1 1 0 0 0]\n",
      " [1 0 0 0 0 0 0 1]\n",
      " [0 0 0 0 1 0 1 0]\n",
      " [0 1 1 0 1 1 0 1]\n",
      " [0 0 1 1 0 0 0 1]\n",
      " [0 0 0 1 1 0 1 0]\n",
      " [0 1 1 1 0 0 0 0]\n",
      " [1 0 1 1 1 0 0 0]]\n",
      "[[0 1 1 0 1 0 0 1]\n",
      " [1 0 1 1 1 0 0 1]\n",
      " [1 1 0 1 1 0 0 1]\n",
      " [1 0 1 0 1 0 1 1]\n",
      " [0 1 1 1 0 0 0 1]\n",
      " [0 1 1 1 0 0 0 0]\n",
      " [0 0 1 1 1 0 0 1]\n",
      " [1 0 1 0 1 0 1 0]]\n",
      "[[0 1 0 1 1 1 1 0]\n",
      " [0 0 1 1 1 1 0 1]\n",
      " [0 1 0 1 0 0 0 1]\n",
      " [1 1 0 0 1 0 0 0]\n",
      " [0 1 0 1 0 0 0 0]\n",
      " [0 0 1 1 1 0 0 1]\n",
      " [1 1 0 0 0 0 0 0]\n",
      " [1 0 1 0 0 0 0 0]]\n",
      "[[0 1 1 0 0 0 1 0]\n",
      " [1 0 1 0 1 0 1 1]\n",
      " [1 0 0 1 0 0 1 0]\n",
      " [1 1 1 0 1 0 1 0]\n",
      " [1 1 1 1 0 0 1 1]\n",
      " [1 1 1 1 0 0 0 1]\n",
      " [1 0 0 0 0 0 0 1]\n",
      " [1 1 1 0 1 0 1 0]]\n",
      "[[0 1 0 1 1 0 0 1]\n",
      " [0 0 0 1 1 1 0 1]\n",
      " [0 0 0 0 0 0 1 1]\n",
      " [1 1 0 0 0 0 0 0]\n",
      " [1 1 0 0 0 0 1 0]\n",
      " [0 1 0 0 0 0 0 1]\n",
      " [0 0 1 0 0 0 0 0]\n",
      " [1 1 1 0 1 0 0 0]]\n",
      "[[0 0 1 0 1 1 1 1]\n",
      " [0 0 1 1 1 0 1 1]\n",
      " [0 0 0 0 1 1 0 1]\n",
      " [1 0 1 0 1 1 1 1]\n",
      " [0 0 1 1 0 1 1 1]\n",
      " [0 0 1 0 1 0 0 1]\n",
      " [0 0 1 0 1 1 0 0]\n",
      " [0 0 1 1 1 1 0 0]]\n",
      "[[0 0 1 1 1 1 1 0]\n",
      " [1 0 1 1 1 0 0 1]\n",
      " [0 0 0 1 1 0 0 1]\n",
      " [1 0 0 0 0 1 0 0]\n",
      " [1 0 0 1 0 0 1 0]\n",
      " [0 0 1 1 0 0 1 0]\n",
      " [1 0 0 0 1 0 0 0]\n",
      " [1 0 1 1 1 1 0 0]]\n",
      "[[0 1 0 0 1 1 0 1]\n",
      " [1 0 1 1 0 0 0 0]\n",
      " [0 1 0 0 0 0 0 1]\n",
      " [1 0 0 0 0 1 1 1]\n",
      " [1 1 1 1 0 1 1 0]\n",
      " [1 0 0 1 1 0 1 1]\n",
      " [0 1 1 1 1 1 0 1]\n",
      " [0 1 1 0 1 1 0 0]]\n",
      "[[0 0 1 0 0 0 1 0]\n",
      " [1 0 1 1 0 0 1 0]\n",
      " [1 0 0 1 0 1 0 0]\n",
      " [1 1 0 0 0 0 1 1]\n",
      " [0 0 1 0 0 0 1 1]\n",
      " [1 0 1 0 1 0 1 1]\n",
      " [1 0 1 0 0 0 0 0]\n",
      " [1 0 1 1 1 0 1 0]]\n",
      "[[0 0 1 0 0 0 0 1]\n",
      " [1 0 1 1 1 1 0 0]\n",
      " [1 1 0 1 0 0 1 1]\n",
      " [0 1 1 0 1 1 0 0]\n",
      " [0 1 0 1 0 1 0 1]\n",
      " [0 1 1 1 1 0 0 1]\n",
      " [0 0 0 0 1 0 0 0]\n",
      " [0 0 1 1 0 0 0 0]]\n",
      "[[0 0 1 1 0 0 0 1]\n",
      " [1 0 1 0 0 0 0 1]\n",
      " [0 1 0 1 1 0 0 1]\n",
      " [0 1 1 0 1 0 0 1]\n",
      " [1 1 1 1 0 0 0 1]\n",
      " [1 1 1 0 0 0 0 1]\n",
      " [0 1 1 1 0 0 0 1]\n",
      " [0 1 1 1 0 0 0 0]]\n",
      "[[0 1 1 0 0 0 0 1]\n",
      " [1 0 0 1 1 1 1 1]\n",
      " [1 1 0 1 0 0 0 1]\n",
      " [0 0 1 0 0 1 0 0]\n",
      " [0 1 0 0 0 0 1 0]\n",
      " [0 0 0 1 1 0 0 1]\n",
      " [0 0 1 1 1 1 0 1]\n",
      " [1 0 1 0 0 0 1 0]]\n",
      "[[0 1 1 0 0 0 1 0]\n",
      " [1 0 0 0 0 1 1 0]\n",
      " [0 0 0 1 0 1 0 1]\n",
      " [0 0 0 0 1 0 0 0]\n",
      " [0 0 0 1 0 1 1 0]\n",
      " [0 1 0 0 1 0 0 1]\n",
      " [1 0 1 0 1 1 0 1]\n",
      " [0 0 1 0 1 0 1 0]]\n",
      "[[0 0 1 1 0 1 0 0]\n",
      " [0 0 1 1 1 0 1 1]\n",
      " [1 0 0 1 1 0 0 1]\n",
      " [0 0 0 0 0 1 0 1]\n",
      " [0 0 1 0 0 0 1 1]\n",
      " [1 0 0 1 1 0 1 1]\n",
      " [1 1 1 1 0 0 0 1]\n",
      " [1 0 1 1 1 0 1 0]]\n",
      "[[0 1 1 0 1 0 0 1]\n",
      " [0 0 1 1 1 0 0 1]\n",
      " [0 0 0 1 1 0 1 1]\n",
      " [0 0 1 0 1 1 0 1]\n",
      " [0 0 1 1 0 0 0 1]\n",
      " [0 1 0 0 1 0 1 0]\n",
      " [0 0 1 0 1 0 0 1]\n",
      " [0 1 1 0 1 0 0 0]]\n",
      "[[0 1 1 0 0 0 1 1]\n",
      " [1 0 1 1 1 1 0 0]\n",
      " [1 1 0 1 1 0 0 0]\n",
      " [0 0 1 0 0 0 1 0]\n",
      " [0 0 1 0 0 1 0 0]\n",
      " [1 0 1 0 1 0 1 1]\n",
      " [0 0 0 1 0 1 0 0]\n",
      " [0 0 1 0 1 1 1 0]]\n",
      "[[0 0 1 1 0 1 0 1]\n",
      " [1 0 1 1 1 1 0 1]\n",
      " [1 1 0 1 1 0 0 1]\n",
      " [0 0 1 0 1 0 0 0]\n",
      " [0 0 1 1 0 1 0 1]\n",
      " [1 1 1 0 1 0 1 0]\n",
      " [1 0 0 0 1 1 0 0]\n",
      " [1 0 1 1 1 0 1 0]]\n",
      "[[0 1 0 0 1 1 0 1]\n",
      " [0 0 1 1 0 0 0 1]\n",
      " [0 1 0 0 1 0 0 1]\n",
      " [0 1 0 0 0 1 0 0]\n",
      " [1 1 1 1 0 0 0 1]\n",
      " [0 0 0 1 1 0 1 0]\n",
      " [1 0 0 0 1 0 0 0]\n",
      " [0 0 1 0 1 0 0 0]]\n",
      "[[0 0 1 1 1 0 0 1]\n",
      " [1 0 1 1 1 0 0 1]\n",
      " [1 1 0 1 1 1 0 1]\n",
      " [1 1 1 0 1 1 0 1]\n",
      " [1 0 1 1 0 0 0 1]\n",
      " [1 0 1 1 1 0 0 1]\n",
      " [1 1 1 1 1 1 0 1]\n",
      " [1 0 1 1 1 1 0 0]]\n",
      "[[0 1 1 1 1 0 0 1]\n",
      " [1 0 0 0 1 0 1 0]\n",
      " [1 1 0 1 1 0 1 1]\n",
      " [0 1 0 0 1 1 0 1]\n",
      " [0 1 0 1 0 0 1 1]\n",
      " [0 1 1 1 1 0 0 1]\n",
      " [1 1 0 1 1 0 0 0]\n",
      " [1 1 1 0 1 0 1 0]]\n",
      "[[0 0 1 1 0 0 0 1]\n",
      " [1 0 0 0 1 0 1 0]\n",
      " [1 0 0 1 0 0 0 0]\n",
      " [0 0 1 0 1 1 0 0]\n",
      " [0 1 1 0 0 1 0 1]\n",
      " [1 1 1 0 0 0 0 1]\n",
      " [1 1 0 0 0 0 0 1]\n",
      " [0 0 1 0 1 0 0 0]]\n",
      "[[0 0 1 1 1 0 0 1]\n",
      " [1 0 1 1 1 0 0 1]\n",
      " [1 1 0 0 1 0 0 1]\n",
      " [1 0 1 0 0 0 0 1]\n",
      " [1 1 0 0 0 0 0 0]\n",
      " [1 0 0 1 1 0 0 0]\n",
      " [1 0 1 1 1 0 0 1]\n",
      " [0 0 1 1 1 1 0 0]]\n",
      "[[0 1 1 1 1 0 0 1]\n",
      " [1 0 1 1 0 0 0 1]\n",
      " [1 0 0 1 1 0 0 1]\n",
      " [1 1 1 0 1 0 0 1]\n",
      " [1 1 1 1 0 0 0 1]\n",
      " [1 0 1 0 1 0 0 1]\n",
      " [1 0 1 0 1 0 0 1]\n",
      " [0 1 1 1 1 1 0 0]]\n",
      "[[0 1 1 1 1 0 1 1]\n",
      " [1 0 0 1 1 0 0 0]\n",
      " [0 0 0 1 1 0 1 1]\n",
      " [0 1 1 0 0 1 0 0]\n",
      " [1 1 1 0 0 1 1 0]\n",
      " [1 0 0 1 1 0 1 0]\n",
      " [1 0 1 1 0 1 0 0]\n",
      " [1 0 0 0 0 0 0 0]]\n",
      "[[0 1 1 1 0 1 0 0]\n",
      " [1 0 0 0 0 1 0 1]\n",
      " [1 0 0 0 0 1 1 1]\n",
      " [1 0 1 0 1 0 1 0]\n",
      " [0 0 0 0 0 0 1 0]\n",
      " [0 1 1 1 1 0 1 1]\n",
      " [1 1 0 0 1 1 0 0]\n",
      " [0 1 1 1 0 1 0 0]]\n",
      "[[0 1 1 0 0 1 1 0]\n",
      " [1 0 1 1 0 0 0 0]\n",
      " [1 0 0 0 0 0 1 1]\n",
      " [1 1 0 0 0 0 0 0]\n",
      " [0 0 0 0 0 0 0 1]\n",
      " [0 1 1 0 1 0 0 1]\n",
      " [0 0 0 0 0 1 0 1]\n",
      " [0 1 0 0 1 0 1 0]]\n",
      "[[0 1 0 1 0 1 0 1]\n",
      " [1 0 1 1 0 0 0 0]\n",
      " [1 1 0 1 0 0 1 1]\n",
      " [1 0 0 0 1 1 0 1]\n",
      " [0 0 0 1 0 1 0 0]\n",
      " [1 0 0 1 1 0 1 1]\n",
      " [0 1 0 1 1 1 0 1]\n",
      " [0 1 1 0 0 0 0 0]]\n",
      "[[0 1 1 1 1 1 0 1]\n",
      " [1 0 0 0 0 0 0 0]\n",
      " [1 0 0 1 0 1 1 1]\n",
      " [1 0 1 0 0 0 0 1]\n",
      " [0 0 0 0 0 0 1 1]\n",
      " [1 1 1 0 0 0 0 0]\n",
      " [1 0 0 0 1 1 0 1]\n",
      " [1 0 1 1 1 0 0 0]]\n",
      "[[0 0 1 1 1 1 0 0]\n",
      " [1 0 0 0 1 1 0 0]\n",
      " [1 0 0 1 0 0 0 0]\n",
      " [1 0 1 0 0 0 0 0]\n",
      " [1 0 0 0 0 1 0 1]\n",
      " [1 0 0 0 1 0 1 0]\n",
      " [0 0 0 0 0 1 0 1]\n",
      " [0 0 0 0 0 0 1 0]]\n",
      "[[0 1 1 0 1 1 1 1]\n",
      " [1 0 1 0 0 1 0 1]\n",
      " [1 0 0 1 0 1 0 0]\n",
      " [0 1 1 0 1 1 0 1]\n",
      " [0 0 1 1 0 0 0 0]\n",
      " [0 0 0 0 1 0 1 1]\n",
      " [0 0 1 0 0 1 0 1]\n",
      " [1 0 1 1 1 1 1 0]]\n",
      "[[0 1 1 1 1 0 1 1]\n",
      " [0 0 0 1 1 0 1 1]\n",
      " [1 0 0 1 1 1 1 1]\n",
      " [0 0 0 0 1 0 1 1]\n",
      " [0 0 0 1 0 1 1 1]\n",
      " [0 1 0 0 1 0 1 1]\n",
      " [0 1 0 1 0 0 0 1]\n",
      " [0 1 0 1 1 0 1 0]]\n",
      "[[0 1 1 1 0 1 1 1]\n",
      " [0 0 1 1 1 1 1 1]\n",
      " [0 0 0 0 1 1 0 1]\n",
      " [0 1 1 0 1 0 0 1]\n",
      " [0 0 1 1 0 1 0 1]\n",
      " [0 1 1 1 1 0 0 1]\n",
      " [0 0 1 0 1 1 0 1]\n",
      " [0 1 1 0 1 0 1 0]]\n",
      "[[0 1 1 1 1 0 1 1]\n",
      " [1 0 1 1 0 0 1 0]\n",
      " [1 1 0 0 0 1 0 0]\n",
      " [0 0 0 0 1 1 0 1]\n",
      " [1 0 1 1 0 0 1 0]\n",
      " [1 1 1 1 0 0 1 1]\n",
      " [0 0 0 1 1 0 0 0]\n",
      " [1 1 1 1 1 0 1 0]]\n",
      "[[0 1 1 1 1 1 1 1]\n",
      " [1 0 1 0 1 1 0 1]\n",
      " [1 0 0 0 0 0 0 1]\n",
      " [0 1 1 0 1 0 1 1]\n",
      " [0 1 0 1 0 0 1 1]\n",
      " [1 0 0 1 0 0 1 0]\n",
      " [0 1 1 0 1 1 0 0]\n",
      " [1 0 1 1 1 0 0 0]]\n",
      "[[0 1 1 1 1 1 1 1]\n",
      " [1 0 0 0 0 0 0 1]\n",
      " [1 1 0 1 1 0 1 1]\n",
      " [1 1 0 0 0 0 0 1]\n",
      " [1 1 1 1 0 0 1 0]\n",
      " [1 1 1 1 1 0 0 1]\n",
      " [0 1 0 1 1 1 0 0]\n",
      " [1 1 0 1 1 1 0 0]]\n",
      "[[0 1 1 1 1 1 1 1]\n",
      " [0 0 1 1 1 1 1 1]\n",
      " [0 1 0 0 1 1 1 1]\n",
      " [1 0 1 0 0 0 1 0]\n",
      " [0 0 1 0 0 0 1 1]\n",
      " [1 0 1 1 0 0 0 1]\n",
      " [0 0 1 1 1 1 0 1]\n",
      " [0 1 1 1 0 0 0 0]]\n"
     ]
    }
   ],
   "execution_count": 284
  },
  {
   "metadata": {
    "ExecuteTime": {
     "end_time": "2024-07-26T16:09:38.506605Z",
     "start_time": "2024-07-26T16:09:38.502068Z"
    }
   },
   "cell_type": "code",
   "source": [
    "meta_data = pd.DataFrame(meta_data)\n",
    "meta_data"
   ],
   "id": "a6afc86829767487",
   "outputs": [
    {
     "data": {
      "text/plain": [
       "       error  initial_error  converged\n",
       "0   0.420063       0.519427       True\n",
       "1   0.230597       0.395206       True\n",
       "2   0.239692       0.400799       True\n",
       "3   0.245020       0.404208       True\n",
       "4   0.560003       0.620244       True\n",
       "..       ...            ...        ...\n",
       "91  0.184474       0.366868       True\n",
       "92  0.423462       0.521819       True\n",
       "93  0.379776       0.491918       True\n",
       "94  0.382200       0.493575       True\n",
       "95  0.352360       0.473553       True\n",
       "\n",
       "[96 rows x 3 columns]"
      ],
      "text/html": [
       "<div>\n",
       "<style scoped>\n",
       "    .dataframe tbody tr th:only-of-type {\n",
       "        vertical-align: middle;\n",
       "    }\n",
       "\n",
       "    .dataframe tbody tr th {\n",
       "        vertical-align: top;\n",
       "    }\n",
       "\n",
       "    .dataframe thead th {\n",
       "        text-align: right;\n",
       "    }\n",
       "</style>\n",
       "<table border=\"1\" class=\"dataframe\">\n",
       "  <thead>\n",
       "    <tr style=\"text-align: right;\">\n",
       "      <th></th>\n",
       "      <th>error</th>\n",
       "      <th>initial_error</th>\n",
       "      <th>converged</th>\n",
       "    </tr>\n",
       "  </thead>\n",
       "  <tbody>\n",
       "    <tr>\n",
       "      <th>0</th>\n",
       "      <td>0.420063</td>\n",
       "      <td>0.519427</td>\n",
       "      <td>True</td>\n",
       "    </tr>\n",
       "    <tr>\n",
       "      <th>1</th>\n",
       "      <td>0.230597</td>\n",
       "      <td>0.395206</td>\n",
       "      <td>True</td>\n",
       "    </tr>\n",
       "    <tr>\n",
       "      <th>2</th>\n",
       "      <td>0.239692</td>\n",
       "      <td>0.400799</td>\n",
       "      <td>True</td>\n",
       "    </tr>\n",
       "    <tr>\n",
       "      <th>3</th>\n",
       "      <td>0.245020</td>\n",
       "      <td>0.404208</td>\n",
       "      <td>True</td>\n",
       "    </tr>\n",
       "    <tr>\n",
       "      <th>4</th>\n",
       "      <td>0.560003</td>\n",
       "      <td>0.620244</td>\n",
       "      <td>True</td>\n",
       "    </tr>\n",
       "    <tr>\n",
       "      <th>...</th>\n",
       "      <td>...</td>\n",
       "      <td>...</td>\n",
       "      <td>...</td>\n",
       "    </tr>\n",
       "    <tr>\n",
       "      <th>91</th>\n",
       "      <td>0.184474</td>\n",
       "      <td>0.366868</td>\n",
       "      <td>True</td>\n",
       "    </tr>\n",
       "    <tr>\n",
       "      <th>92</th>\n",
       "      <td>0.423462</td>\n",
       "      <td>0.521819</td>\n",
       "      <td>True</td>\n",
       "    </tr>\n",
       "    <tr>\n",
       "      <th>93</th>\n",
       "      <td>0.379776</td>\n",
       "      <td>0.491918</td>\n",
       "      <td>True</td>\n",
       "    </tr>\n",
       "    <tr>\n",
       "      <th>94</th>\n",
       "      <td>0.382200</td>\n",
       "      <td>0.493575</td>\n",
       "      <td>True</td>\n",
       "    </tr>\n",
       "    <tr>\n",
       "      <th>95</th>\n",
       "      <td>0.352360</td>\n",
       "      <td>0.473553</td>\n",
       "      <td>True</td>\n",
       "    </tr>\n",
       "  </tbody>\n",
       "</table>\n",
       "<p>96 rows × 3 columns</p>\n",
       "</div>"
      ]
     },
     "execution_count": 285,
     "metadata": {},
     "output_type": "execute_result"
    }
   ],
   "execution_count": 285
  },
  {
   "metadata": {
    "ExecuteTime": {
     "end_time": "2024-07-26T16:08:54.186065Z",
     "start_time": "2024-07-26T16:08:54.181997Z"
    }
   },
   "cell_type": "code",
   "source": "len(np.unique([s.flatten() for s in solutions], axis=0))",
   "id": "cf53ea4c8cdd8ad",
   "outputs": [
    {
     "data": {
      "text/plain": [
       "96"
      ]
     },
     "execution_count": 279,
     "metadata": {},
     "output_type": "execute_result"
    }
   ],
   "execution_count": 279
  },
  {
   "metadata": {},
   "cell_type": "code",
   "outputs": [],
   "execution_count": null,
   "source": "",
   "id": "a75d37375cfa93a1"
  }
 ],
 "metadata": {
  "kernelspec": {
   "display_name": "Python 3",
   "language": "python",
   "name": "python3"
  },
  "language_info": {
   "codemirror_mode": {
    "name": "ipython",
    "version": 2
   },
   "file_extension": ".py",
   "mimetype": "text/x-python",
   "name": "python",
   "nbconvert_exporter": "python",
   "pygments_lexer": "ipython2",
   "version": "2.7.6"
  }
 },
 "nbformat": 4,
 "nbformat_minor": 5
}
