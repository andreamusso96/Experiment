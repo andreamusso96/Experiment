{
 "cells": [
  {
   "cell_type": "code",
   "id": "initial_id",
   "metadata": {
    "collapsed": true,
    "ExecuteTime": {
     "end_time": "2024-07-29T10:13:04.889498Z",
     "start_time": "2024-07-29T10:13:04.859772Z"
    }
   },
   "source": [
    "import numpy as np\n",
    "import pandas as pd\n",
    "import scipy as sp\n",
    "import plotly.express as px\n",
    "import networkx as nx\n",
    "import degroot as dg\n",
    "from tqdm import tqdm\n",
    "import plotly.graph_objects as go\n",
    "from joblib import Parallel, delayed"
   ],
   "outputs": [],
   "execution_count": 226
  },
  {
   "metadata": {
    "ExecuteTime": {
     "end_time": "2024-07-29T10:13:04.918120Z",
     "start_time": "2024-07-29T10:13:04.890861Z"
    }
   },
   "cell_type": "code",
   "source": [
    "%load_ext autoreload\n",
    "%autoreload 2"
   ],
   "id": "c6d27f25090462fe",
   "outputs": [
    {
     "name": "stdout",
     "output_type": "stream",
     "text": [
      "The autoreload extension is already loaded. To reload it, use:\n",
      "  %reload_ext autoreload\n"
     ]
    }
   ],
   "execution_count": 227
  },
  {
   "metadata": {
    "ExecuteTime": {
     "end_time": "2024-07-29T10:13:04.942583Z",
     "start_time": "2024-07-29T10:13:04.918696Z"
    }
   },
   "cell_type": "code",
   "source": [
    "# Parameters\n",
    "dims = 8\n",
    "erdos_reni_p = 0.3\n",
    "n_initial_conditions_attempts = 100\n",
    "max_edge_value = 5\n",
    "init_belief = np.random.rand(dims) # np.random.randint(0,2, size=dims).astype(float) # Random initial belief\n",
    "correct_belief = 0.8\n",
    "niter_degroot = 2\n",
    "niter_search = 100\n",
    "symmetric = False"
   ],
   "id": "b636600c3a33b0be",
   "outputs": [],
   "execution_count": 228
  },
  {
   "metadata": {
    "ExecuteTime": {
     "end_time": "2024-07-29T10:13:04.970289Z",
     "start_time": "2024-07-29T10:13:04.944064Z"
    }
   },
   "cell_type": "code",
   "source": [
    "def generate_initial_conditions(n: int, p: float, n_attempts: int):\n",
    "    initial_conditions = []\n",
    "    for i in range(n_attempts):\n",
    "        m = nx.adjacency_matrix(nx.erdos_renyi_graph(n=n, p=p)).todense()\n",
    "        if np.min(np.sum(m, axis=1)) == 0 or np.max(np.sum(m, axis=1)) == n-1:\n",
    "            continue\n",
    "            \n",
    "        m = np.random.randint(1, max_edge_value + 1, size=(n, n)) * m\n",
    "        initial_conditions.append(m)\n",
    "    \n",
    "    unique_initial_conditions = np.unique([s.flatten() for s in initial_conditions], axis=0)\n",
    "    unique_initial_conditions = [s.reshape(dims, dims) for s in unique_initial_conditions]\n",
    "    print('Number of unique initial conditions:', len(unique_initial_conditions))\n",
    "    return unique_initial_conditions"
   ],
   "id": "97f5ddeb7de6cdbb",
   "outputs": [],
   "execution_count": 229
  },
  {
   "metadata": {
    "ExecuteTime": {
     "end_time": "2024-07-29T10:13:05.002768Z",
     "start_time": "2024-07-29T10:13:04.971077Z"
    }
   },
   "cell_type": "code",
   "source": [
    "def generate_initial_conditions_fixed_graph(n: int, p: float, n_attempts: int):\n",
    "    m_base = nx.adjacency_matrix(nx.erdos_renyi_graph(n=n, p=p)).todense()\n",
    "    while np.min(np.sum(m_base, axis=1)) == 0 or np.max(np.sum(m_base, axis=1)) == n-1:\n",
    "        m_base = nx.adjacency_matrix(nx.erdos_renyi_graph(n=n, p=p)).todense()\n",
    "    \n",
    "    \n",
    "    initial_conditions = []\n",
    "    for _ in range(n_attempts):\n",
    "        m = m_base.copy()\n",
    "        for i in range(n):\n",
    "            np.random.shuffle(m[i])\n",
    "            \n",
    "            if m[i, i] == 1:\n",
    "                j = np.random.randint(0, n)\n",
    "                while m[i, j] == 1:\n",
    "                    j = np.random.randint(0, n)\n",
    "            \n",
    "                m[i, j] = 1\n",
    "                m[i, i] = 0\n",
    "                \n",
    "            \n",
    "        m = np.random.randint(1, max_edge_value + 1, size=(n, n)) * m\n",
    "        initial_conditions.append(m)\n",
    "    \n",
    "    unique_initial_conditions = np.unique([s.flatten() for s in initial_conditions], axis=0)\n",
    "    unique_initial_conditions = [s.reshape(dims, dims) for s in unique_initial_conditions]\n",
    "    print('Number of unique initial conditions:', len(unique_initial_conditions))\n",
    "    return unique_initial_conditions"
   ],
   "id": "708ed2e2311f01c5",
   "outputs": [],
   "execution_count": 230
  },
  {
   "metadata": {
    "ExecuteTime": {
     "end_time": "2024-07-29T10:13:05.037034Z",
     "start_time": "2024-07-29T10:13:05.003377Z"
    }
   },
   "cell_type": "code",
   "source": "init_cond = generate_initial_conditions(n=dims, p=erdos_reni_p, n_attempts=n_initial_conditions_attempts)",
   "id": "7eed1e4d4a35a42e",
   "outputs": [
    {
     "name": "stdout",
     "output_type": "stream",
     "text": [
      "Number of unique initial conditions: 48\n"
     ]
    }
   ],
   "execution_count": 231
  },
  {
   "metadata": {
    "ExecuteTime": {
     "end_time": "2024-07-29T10:13:07.876476Z",
     "start_time": "2024-07-29T10:13:05.037689Z"
    }
   },
   "cell_type": "code",
   "source": "results = Parallel(n_jobs=-1)(delayed(dg.myopic_search)(m0=x, niter_search=niter_search, max_edge_value=max_edge_value, initial_belief=init_belief, correct_belief=correct_belief, niter_degroot=niter_degroot, symmetric=symmetric)  for x in tqdm(init_cond))",
   "id": "833d10a0d8ca2a8f",
   "outputs": [
    {
     "name": "stderr",
     "output_type": "stream",
     "text": [
      "100%|██████████| 48/48 [00:01<00:00, 27.02it/s]\n"
     ]
    }
   ],
   "execution_count": 232
  },
  {
   "metadata": {
    "ExecuteTime": {
     "end_time": "2024-07-29T10:13:07.921859Z",
     "start_time": "2024-07-29T10:13:07.877319Z"
    }
   },
   "cell_type": "code",
   "source": [
    "meta_data = pd.DataFrame([{'final_error': r.error, 'initial_error': r.initial_error, 'converged': r.converged, 'iterations': r.iterations, 'num': i} for i, r in enumerate(results)])\n",
    "px.scatter(meta_data, x='initial_error', y='final_error', color='converged', hover_data=['num'])"
   ],
   "id": "bd6f4a953c42c162",
   "outputs": [
    {
     "data": {
      "application/vnd.plotly.v1+json": {
       "data": [
        {
         "customdata": [
          [
           0
          ],
          [
           1
          ],
          [
           2
          ],
          [
           3
          ],
          [
           4
          ],
          [
           5
          ],
          [
           6
          ],
          [
           7
          ],
          [
           8
          ],
          [
           9
          ],
          [
           10
          ],
          [
           11
          ],
          [
           12
          ],
          [
           13
          ],
          [
           14
          ],
          [
           15
          ],
          [
           16
          ],
          [
           17
          ],
          [
           18
          ],
          [
           19
          ],
          [
           20
          ],
          [
           21
          ],
          [
           22
          ],
          [
           23
          ],
          [
           24
          ],
          [
           25
          ],
          [
           26
          ],
          [
           27
          ],
          [
           28
          ],
          [
           29
          ],
          [
           30
          ],
          [
           31
          ],
          [
           32
          ],
          [
           33
          ],
          [
           34
          ],
          [
           35
          ],
          [
           36
          ],
          [
           37
          ],
          [
           38
          ],
          [
           39
          ],
          [
           40
          ],
          [
           41
          ],
          [
           42
          ],
          [
           43
          ],
          [
           44
          ],
          [
           45
          ],
          [
           46
          ],
          [
           47
          ]
         ],
         "hovertemplate": "converged=True<br>initial_error=%{x}<br>final_error=%{y}<br>num=%{customdata[0]}<extra></extra>",
         "legendgroup": "True",
         "marker": {
          "color": "#636efa",
          "symbol": "circle"
         },
         "mode": "markers",
         "name": "True",
         "orientation": "v",
         "showlegend": true,
         "x": [
          0.4803570322673407,
          0.47834122887477964,
          0.48856183616533366,
          0.43829973049632126,
          0.4978752913071448,
          0.45942683453676814,
          0.4497716650962066,
          0.4489005371146637,
          0.43275619166584356,
          0.5326550467215122,
          0.45787774106430956,
          0.46948366925403406,
          0.4926120719566022,
          0.46053361323641095,
          0.5086963509161074,
          0.4894592128011097,
          0.48006095373629354,
          0.5009269949858275,
          0.47244608936542243,
          0.47933463776432117,
          0.48110662104301816,
          0.486728199123813,
          0.451122989599111,
          0.47295088685926245,
          0.4997962681741275,
          0.500041129683492,
          0.5184773844080242,
          0.4362525951920668,
          0.46102887012407695,
          0.4894541978786791,
          0.4682582587562186,
          0.461372782649229,
          0.4855364621239395,
          0.4098381725280137,
          0.5059385462532516,
          0.5288194897614292,
          0.5049741408175512,
          0.49095725706872984,
          0.4881787547864779,
          0.48365360964219584,
          0.5041279331876124,
          0.4830722237902437,
          0.4747282378973381,
          0.49124687761381336,
          0.4669538577425145,
          0.47817945826492364,
          0.5082977574458725,
          0.4906231033427088
         ],
         "xaxis": "x",
         "y": [
          0.2738531961055267,
          0.2719756777801351,
          0.2850566028124668,
          0.24923187946644254,
          0.2589810860330659,
          0.25124939717850026,
          0.307699963206276,
          0.2901188044495657,
          0.2934715253773169,
          0.2547188928379732,
          0.299033790795999,
          0.27750629324525633,
          0.2505531541722674,
          0.33450004950807133,
          0.26971198885773584,
          0.28362523785633276,
          0.25247832437247253,
          0.24992494073851645,
          0.2777807670623622,
          0.28917483064132465,
          0.302986615073497,
          0.289975999508453,
          0.31460059885371816,
          0.2686375496233355,
          0.26375218586130256,
          0.2870634831333969,
          0.2886497278953548,
          0.3324171598536134,
          0.27130268225280973,
          0.26236607603651163,
          0.2713140491809698,
          0.2692354081212639,
          0.2961248431666914,
          0.27301732693854364,
          0.26358920069971714,
          0.2712723512700559,
          0.2744357391846285,
          0.24958448958732227,
          0.26759030640634274,
          0.26559075815773536,
          0.27429309523228995,
          0.2835798275494953,
          0.2679855251506109,
          0.2644880416249762,
          0.27940658374498717,
          0.26472763685569034,
          0.28818135374494336,
          0.26324279724398514
         ],
         "yaxis": "y",
         "type": "scatter"
        }
       ],
       "layout": {
        "template": {
         "data": {
          "histogram2dcontour": [
           {
            "type": "histogram2dcontour",
            "colorbar": {
             "outlinewidth": 0,
             "ticks": ""
            },
            "colorscale": [
             [
              0.0,
              "#0d0887"
             ],
             [
              0.1111111111111111,
              "#46039f"
             ],
             [
              0.2222222222222222,
              "#7201a8"
             ],
             [
              0.3333333333333333,
              "#9c179e"
             ],
             [
              0.4444444444444444,
              "#bd3786"
             ],
             [
              0.5555555555555556,
              "#d8576b"
             ],
             [
              0.6666666666666666,
              "#ed7953"
             ],
             [
              0.7777777777777778,
              "#fb9f3a"
             ],
             [
              0.8888888888888888,
              "#fdca26"
             ],
             [
              1.0,
              "#f0f921"
             ]
            ]
           }
          ],
          "choropleth": [
           {
            "type": "choropleth",
            "colorbar": {
             "outlinewidth": 0,
             "ticks": ""
            }
           }
          ],
          "histogram2d": [
           {
            "type": "histogram2d",
            "colorbar": {
             "outlinewidth": 0,
             "ticks": ""
            },
            "colorscale": [
             [
              0.0,
              "#0d0887"
             ],
             [
              0.1111111111111111,
              "#46039f"
             ],
             [
              0.2222222222222222,
              "#7201a8"
             ],
             [
              0.3333333333333333,
              "#9c179e"
             ],
             [
              0.4444444444444444,
              "#bd3786"
             ],
             [
              0.5555555555555556,
              "#d8576b"
             ],
             [
              0.6666666666666666,
              "#ed7953"
             ],
             [
              0.7777777777777778,
              "#fb9f3a"
             ],
             [
              0.8888888888888888,
              "#fdca26"
             ],
             [
              1.0,
              "#f0f921"
             ]
            ]
           }
          ],
          "heatmap": [
           {
            "type": "heatmap",
            "colorbar": {
             "outlinewidth": 0,
             "ticks": ""
            },
            "colorscale": [
             [
              0.0,
              "#0d0887"
             ],
             [
              0.1111111111111111,
              "#46039f"
             ],
             [
              0.2222222222222222,
              "#7201a8"
             ],
             [
              0.3333333333333333,
              "#9c179e"
             ],
             [
              0.4444444444444444,
              "#bd3786"
             ],
             [
              0.5555555555555556,
              "#d8576b"
             ],
             [
              0.6666666666666666,
              "#ed7953"
             ],
             [
              0.7777777777777778,
              "#fb9f3a"
             ],
             [
              0.8888888888888888,
              "#fdca26"
             ],
             [
              1.0,
              "#f0f921"
             ]
            ]
           }
          ],
          "heatmapgl": [
           {
            "type": "heatmapgl",
            "colorbar": {
             "outlinewidth": 0,
             "ticks": ""
            },
            "colorscale": [
             [
              0.0,
              "#0d0887"
             ],
             [
              0.1111111111111111,
              "#46039f"
             ],
             [
              0.2222222222222222,
              "#7201a8"
             ],
             [
              0.3333333333333333,
              "#9c179e"
             ],
             [
              0.4444444444444444,
              "#bd3786"
             ],
             [
              0.5555555555555556,
              "#d8576b"
             ],
             [
              0.6666666666666666,
              "#ed7953"
             ],
             [
              0.7777777777777778,
              "#fb9f3a"
             ],
             [
              0.8888888888888888,
              "#fdca26"
             ],
             [
              1.0,
              "#f0f921"
             ]
            ]
           }
          ],
          "contourcarpet": [
           {
            "type": "contourcarpet",
            "colorbar": {
             "outlinewidth": 0,
             "ticks": ""
            }
           }
          ],
          "contour": [
           {
            "type": "contour",
            "colorbar": {
             "outlinewidth": 0,
             "ticks": ""
            },
            "colorscale": [
             [
              0.0,
              "#0d0887"
             ],
             [
              0.1111111111111111,
              "#46039f"
             ],
             [
              0.2222222222222222,
              "#7201a8"
             ],
             [
              0.3333333333333333,
              "#9c179e"
             ],
             [
              0.4444444444444444,
              "#bd3786"
             ],
             [
              0.5555555555555556,
              "#d8576b"
             ],
             [
              0.6666666666666666,
              "#ed7953"
             ],
             [
              0.7777777777777778,
              "#fb9f3a"
             ],
             [
              0.8888888888888888,
              "#fdca26"
             ],
             [
              1.0,
              "#f0f921"
             ]
            ]
           }
          ],
          "surface": [
           {
            "type": "surface",
            "colorbar": {
             "outlinewidth": 0,
             "ticks": ""
            },
            "colorscale": [
             [
              0.0,
              "#0d0887"
             ],
             [
              0.1111111111111111,
              "#46039f"
             ],
             [
              0.2222222222222222,
              "#7201a8"
             ],
             [
              0.3333333333333333,
              "#9c179e"
             ],
             [
              0.4444444444444444,
              "#bd3786"
             ],
             [
              0.5555555555555556,
              "#d8576b"
             ],
             [
              0.6666666666666666,
              "#ed7953"
             ],
             [
              0.7777777777777778,
              "#fb9f3a"
             ],
             [
              0.8888888888888888,
              "#fdca26"
             ],
             [
              1.0,
              "#f0f921"
             ]
            ]
           }
          ],
          "mesh3d": [
           {
            "type": "mesh3d",
            "colorbar": {
             "outlinewidth": 0,
             "ticks": ""
            }
           }
          ],
          "scatter": [
           {
            "marker": {
             "line": {
              "color": "#283442"
             }
            },
            "type": "scatter"
           }
          ],
          "parcoords": [
           {
            "type": "parcoords",
            "line": {
             "colorbar": {
              "outlinewidth": 0,
              "ticks": ""
             }
            }
           }
          ],
          "scatterpolargl": [
           {
            "type": "scatterpolargl",
            "marker": {
             "colorbar": {
              "outlinewidth": 0,
              "ticks": ""
             }
            }
           }
          ],
          "bar": [
           {
            "error_x": {
             "color": "#f2f5fa"
            },
            "error_y": {
             "color": "#f2f5fa"
            },
            "marker": {
             "line": {
              "color": "rgb(17,17,17)",
              "width": 0.5
             },
             "pattern": {
              "fillmode": "overlay",
              "size": 10,
              "solidity": 0.2
             }
            },
            "type": "bar"
           }
          ],
          "scattergeo": [
           {
            "type": "scattergeo",
            "marker": {
             "colorbar": {
              "outlinewidth": 0,
              "ticks": ""
             }
            }
           }
          ],
          "scatterpolar": [
           {
            "type": "scatterpolar",
            "marker": {
             "colorbar": {
              "outlinewidth": 0,
              "ticks": ""
             }
            }
           }
          ],
          "histogram": [
           {
            "marker": {
             "pattern": {
              "fillmode": "overlay",
              "size": 10,
              "solidity": 0.2
             }
            },
            "type": "histogram"
           }
          ],
          "scattergl": [
           {
            "marker": {
             "line": {
              "color": "#283442"
             }
            },
            "type": "scattergl"
           }
          ],
          "scatter3d": [
           {
            "type": "scatter3d",
            "line": {
             "colorbar": {
              "outlinewidth": 0,
              "ticks": ""
             }
            },
            "marker": {
             "colorbar": {
              "outlinewidth": 0,
              "ticks": ""
             }
            }
           }
          ],
          "scattermapbox": [
           {
            "type": "scattermapbox",
            "marker": {
             "colorbar": {
              "outlinewidth": 0,
              "ticks": ""
             }
            }
           }
          ],
          "scatterternary": [
           {
            "type": "scatterternary",
            "marker": {
             "colorbar": {
              "outlinewidth": 0,
              "ticks": ""
             }
            }
           }
          ],
          "scattercarpet": [
           {
            "type": "scattercarpet",
            "marker": {
             "colorbar": {
              "outlinewidth": 0,
              "ticks": ""
             }
            }
           }
          ],
          "carpet": [
           {
            "aaxis": {
             "endlinecolor": "#A2B1C6",
             "gridcolor": "#506784",
             "linecolor": "#506784",
             "minorgridcolor": "#506784",
             "startlinecolor": "#A2B1C6"
            },
            "baxis": {
             "endlinecolor": "#A2B1C6",
             "gridcolor": "#506784",
             "linecolor": "#506784",
             "minorgridcolor": "#506784",
             "startlinecolor": "#A2B1C6"
            },
            "type": "carpet"
           }
          ],
          "table": [
           {
            "cells": {
             "fill": {
              "color": "#506784"
             },
             "line": {
              "color": "rgb(17,17,17)"
             }
            },
            "header": {
             "fill": {
              "color": "#2a3f5f"
             },
             "line": {
              "color": "rgb(17,17,17)"
             }
            },
            "type": "table"
           }
          ],
          "barpolar": [
           {
            "marker": {
             "line": {
              "color": "rgb(17,17,17)",
              "width": 0.5
             },
             "pattern": {
              "fillmode": "overlay",
              "size": 10,
              "solidity": 0.2
             }
            },
            "type": "barpolar"
           }
          ],
          "pie": [
           {
            "automargin": true,
            "type": "pie"
           }
          ]
         },
         "layout": {
          "autotypenumbers": "strict",
          "colorway": [
           "#636efa",
           "#EF553B",
           "#00cc96",
           "#ab63fa",
           "#FFA15A",
           "#19d3f3",
           "#FF6692",
           "#B6E880",
           "#FF97FF",
           "#FECB52"
          ],
          "font": {
           "color": "#f2f5fa"
          },
          "hovermode": "closest",
          "hoverlabel": {
           "align": "left"
          },
          "paper_bgcolor": "rgb(17,17,17)",
          "plot_bgcolor": "rgb(17,17,17)",
          "polar": {
           "bgcolor": "rgb(17,17,17)",
           "angularaxis": {
            "gridcolor": "#506784",
            "linecolor": "#506784",
            "ticks": ""
           },
           "radialaxis": {
            "gridcolor": "#506784",
            "linecolor": "#506784",
            "ticks": ""
           }
          },
          "ternary": {
           "bgcolor": "rgb(17,17,17)",
           "aaxis": {
            "gridcolor": "#506784",
            "linecolor": "#506784",
            "ticks": ""
           },
           "baxis": {
            "gridcolor": "#506784",
            "linecolor": "#506784",
            "ticks": ""
           },
           "caxis": {
            "gridcolor": "#506784",
            "linecolor": "#506784",
            "ticks": ""
           }
          },
          "coloraxis": {
           "colorbar": {
            "outlinewidth": 0,
            "ticks": ""
           }
          },
          "colorscale": {
           "sequential": [
            [
             0.0,
             "#0d0887"
            ],
            [
             0.1111111111111111,
             "#46039f"
            ],
            [
             0.2222222222222222,
             "#7201a8"
            ],
            [
             0.3333333333333333,
             "#9c179e"
            ],
            [
             0.4444444444444444,
             "#bd3786"
            ],
            [
             0.5555555555555556,
             "#d8576b"
            ],
            [
             0.6666666666666666,
             "#ed7953"
            ],
            [
             0.7777777777777778,
             "#fb9f3a"
            ],
            [
             0.8888888888888888,
             "#fdca26"
            ],
            [
             1.0,
             "#f0f921"
            ]
           ],
           "sequentialminus": [
            [
             0.0,
             "#0d0887"
            ],
            [
             0.1111111111111111,
             "#46039f"
            ],
            [
             0.2222222222222222,
             "#7201a8"
            ],
            [
             0.3333333333333333,
             "#9c179e"
            ],
            [
             0.4444444444444444,
             "#bd3786"
            ],
            [
             0.5555555555555556,
             "#d8576b"
            ],
            [
             0.6666666666666666,
             "#ed7953"
            ],
            [
             0.7777777777777778,
             "#fb9f3a"
            ],
            [
             0.8888888888888888,
             "#fdca26"
            ],
            [
             1.0,
             "#f0f921"
            ]
           ],
           "diverging": [
            [
             0,
             "#8e0152"
            ],
            [
             0.1,
             "#c51b7d"
            ],
            [
             0.2,
             "#de77ae"
            ],
            [
             0.3,
             "#f1b6da"
            ],
            [
             0.4,
             "#fde0ef"
            ],
            [
             0.5,
             "#f7f7f7"
            ],
            [
             0.6,
             "#e6f5d0"
            ],
            [
             0.7,
             "#b8e186"
            ],
            [
             0.8,
             "#7fbc41"
            ],
            [
             0.9,
             "#4d9221"
            ],
            [
             1,
             "#276419"
            ]
           ]
          },
          "xaxis": {
           "gridcolor": "#283442",
           "linecolor": "#506784",
           "ticks": "",
           "title": {
            "standoff": 15
           },
           "zerolinecolor": "#283442",
           "automargin": true,
           "zerolinewidth": 2
          },
          "yaxis": {
           "gridcolor": "#283442",
           "linecolor": "#506784",
           "ticks": "",
           "title": {
            "standoff": 15
           },
           "zerolinecolor": "#283442",
           "automargin": true,
           "zerolinewidth": 2
          },
          "scene": {
           "xaxis": {
            "backgroundcolor": "rgb(17,17,17)",
            "gridcolor": "#506784",
            "linecolor": "#506784",
            "showbackground": true,
            "ticks": "",
            "zerolinecolor": "#C8D4E3",
            "gridwidth": 2
           },
           "yaxis": {
            "backgroundcolor": "rgb(17,17,17)",
            "gridcolor": "#506784",
            "linecolor": "#506784",
            "showbackground": true,
            "ticks": "",
            "zerolinecolor": "#C8D4E3",
            "gridwidth": 2
           },
           "zaxis": {
            "backgroundcolor": "rgb(17,17,17)",
            "gridcolor": "#506784",
            "linecolor": "#506784",
            "showbackground": true,
            "ticks": "",
            "zerolinecolor": "#C8D4E3",
            "gridwidth": 2
           }
          },
          "shapedefaults": {
           "line": {
            "color": "#f2f5fa"
           }
          },
          "annotationdefaults": {
           "arrowcolor": "#f2f5fa",
           "arrowhead": 0,
           "arrowwidth": 1
          },
          "geo": {
           "bgcolor": "rgb(17,17,17)",
           "landcolor": "rgb(17,17,17)",
           "subunitcolor": "#506784",
           "showland": true,
           "showlakes": true,
           "lakecolor": "rgb(17,17,17)"
          },
          "title": {
           "x": 0.05
          },
          "updatemenudefaults": {
           "bgcolor": "#506784",
           "borderwidth": 0
          },
          "sliderdefaults": {
           "bgcolor": "#C8D4E3",
           "borderwidth": 1,
           "bordercolor": "rgb(17,17,17)",
           "tickwidth": 0
          },
          "mapbox": {
           "style": "dark"
          }
         }
        },
        "xaxis": {
         "anchor": "y",
         "domain": [
          0.0,
          1.0
         ],
         "title": {
          "text": "initial_error"
         }
        },
        "yaxis": {
         "anchor": "x",
         "domain": [
          0.0,
          1.0
         ],
         "title": {
          "text": "final_error"
         }
        },
        "legend": {
         "title": {
          "text": "converged"
         },
         "tracegroupgap": 0
        },
        "margin": {
         "t": 60
        }
       },
       "config": {
        "plotlyServerURL": "https://plot.ly"
       }
      },
      "text/html": [
       "<div>                            <div id=\"b766b6bc-393e-42c6-9006-8581a31239e3\" class=\"plotly-graph-div\" style=\"height:525px; width:100%;\"></div>            <script type=\"text/javascript\">                require([\"plotly\"], function(Plotly) {                    window.PLOTLYENV=window.PLOTLYENV || {};                                    if (document.getElementById(\"b766b6bc-393e-42c6-9006-8581a31239e3\")) {                    Plotly.newPlot(                        \"b766b6bc-393e-42c6-9006-8581a31239e3\",                        [{\"customdata\":[[0],[1],[2],[3],[4],[5],[6],[7],[8],[9],[10],[11],[12],[13],[14],[15],[16],[17],[18],[19],[20],[21],[22],[23],[24],[25],[26],[27],[28],[29],[30],[31],[32],[33],[34],[35],[36],[37],[38],[39],[40],[41],[42],[43],[44],[45],[46],[47]],\"hovertemplate\":\"converged=True\\u003cbr\\u003einitial_error=%{x}\\u003cbr\\u003efinal_error=%{y}\\u003cbr\\u003enum=%{customdata[0]}\\u003cextra\\u003e\\u003c\\u002fextra\\u003e\",\"legendgroup\":\"True\",\"marker\":{\"color\":\"#636efa\",\"symbol\":\"circle\"},\"mode\":\"markers\",\"name\":\"True\",\"orientation\":\"v\",\"showlegend\":true,\"x\":[0.4803570322673407,0.47834122887477964,0.48856183616533366,0.43829973049632126,0.4978752913071448,0.45942683453676814,0.4497716650962066,0.4489005371146637,0.43275619166584356,0.5326550467215122,0.45787774106430956,0.46948366925403406,0.4926120719566022,0.46053361323641095,0.5086963509161074,0.4894592128011097,0.48006095373629354,0.5009269949858275,0.47244608936542243,0.47933463776432117,0.48110662104301816,0.486728199123813,0.451122989599111,0.47295088685926245,0.4997962681741275,0.500041129683492,0.5184773844080242,0.4362525951920668,0.46102887012407695,0.4894541978786791,0.4682582587562186,0.461372782649229,0.4855364621239395,0.4098381725280137,0.5059385462532516,0.5288194897614292,0.5049741408175512,0.49095725706872984,0.4881787547864779,0.48365360964219584,0.5041279331876124,0.4830722237902437,0.4747282378973381,0.49124687761381336,0.4669538577425145,0.47817945826492364,0.5082977574458725,0.4906231033427088],\"xaxis\":\"x\",\"y\":[0.2738531961055267,0.2719756777801351,0.2850566028124668,0.24923187946644254,0.2589810860330659,0.25124939717850026,0.307699963206276,0.2901188044495657,0.2934715253773169,0.2547188928379732,0.299033790795999,0.27750629324525633,0.2505531541722674,0.33450004950807133,0.26971198885773584,0.28362523785633276,0.25247832437247253,0.24992494073851645,0.2777807670623622,0.28917483064132465,0.302986615073497,0.289975999508453,0.31460059885371816,0.2686375496233355,0.26375218586130256,0.2870634831333969,0.2886497278953548,0.3324171598536134,0.27130268225280973,0.26236607603651163,0.2713140491809698,0.2692354081212639,0.2961248431666914,0.27301732693854364,0.26358920069971714,0.2712723512700559,0.2744357391846285,0.24958448958732227,0.26759030640634274,0.26559075815773536,0.27429309523228995,0.2835798275494953,0.2679855251506109,0.2644880416249762,0.27940658374498717,0.26472763685569034,0.28818135374494336,0.26324279724398514],\"yaxis\":\"y\",\"type\":\"scatter\"}],                        {\"template\":{\"data\":{\"histogram2dcontour\":[{\"type\":\"histogram2dcontour\",\"colorbar\":{\"outlinewidth\":0,\"ticks\":\"\"},\"colorscale\":[[0.0,\"#0d0887\"],[0.1111111111111111,\"#46039f\"],[0.2222222222222222,\"#7201a8\"],[0.3333333333333333,\"#9c179e\"],[0.4444444444444444,\"#bd3786\"],[0.5555555555555556,\"#d8576b\"],[0.6666666666666666,\"#ed7953\"],[0.7777777777777778,\"#fb9f3a\"],[0.8888888888888888,\"#fdca26\"],[1.0,\"#f0f921\"]]}],\"choropleth\":[{\"type\":\"choropleth\",\"colorbar\":{\"outlinewidth\":0,\"ticks\":\"\"}}],\"histogram2d\":[{\"type\":\"histogram2d\",\"colorbar\":{\"outlinewidth\":0,\"ticks\":\"\"},\"colorscale\":[[0.0,\"#0d0887\"],[0.1111111111111111,\"#46039f\"],[0.2222222222222222,\"#7201a8\"],[0.3333333333333333,\"#9c179e\"],[0.4444444444444444,\"#bd3786\"],[0.5555555555555556,\"#d8576b\"],[0.6666666666666666,\"#ed7953\"],[0.7777777777777778,\"#fb9f3a\"],[0.8888888888888888,\"#fdca26\"],[1.0,\"#f0f921\"]]}],\"heatmap\":[{\"type\":\"heatmap\",\"colorbar\":{\"outlinewidth\":0,\"ticks\":\"\"},\"colorscale\":[[0.0,\"#0d0887\"],[0.1111111111111111,\"#46039f\"],[0.2222222222222222,\"#7201a8\"],[0.3333333333333333,\"#9c179e\"],[0.4444444444444444,\"#bd3786\"],[0.5555555555555556,\"#d8576b\"],[0.6666666666666666,\"#ed7953\"],[0.7777777777777778,\"#fb9f3a\"],[0.8888888888888888,\"#fdca26\"],[1.0,\"#f0f921\"]]}],\"heatmapgl\":[{\"type\":\"heatmapgl\",\"colorbar\":{\"outlinewidth\":0,\"ticks\":\"\"},\"colorscale\":[[0.0,\"#0d0887\"],[0.1111111111111111,\"#46039f\"],[0.2222222222222222,\"#7201a8\"],[0.3333333333333333,\"#9c179e\"],[0.4444444444444444,\"#bd3786\"],[0.5555555555555556,\"#d8576b\"],[0.6666666666666666,\"#ed7953\"],[0.7777777777777778,\"#fb9f3a\"],[0.8888888888888888,\"#fdca26\"],[1.0,\"#f0f921\"]]}],\"contourcarpet\":[{\"type\":\"contourcarpet\",\"colorbar\":{\"outlinewidth\":0,\"ticks\":\"\"}}],\"contour\":[{\"type\":\"contour\",\"colorbar\":{\"outlinewidth\":0,\"ticks\":\"\"},\"colorscale\":[[0.0,\"#0d0887\"],[0.1111111111111111,\"#46039f\"],[0.2222222222222222,\"#7201a8\"],[0.3333333333333333,\"#9c179e\"],[0.4444444444444444,\"#bd3786\"],[0.5555555555555556,\"#d8576b\"],[0.6666666666666666,\"#ed7953\"],[0.7777777777777778,\"#fb9f3a\"],[0.8888888888888888,\"#fdca26\"],[1.0,\"#f0f921\"]]}],\"surface\":[{\"type\":\"surface\",\"colorbar\":{\"outlinewidth\":0,\"ticks\":\"\"},\"colorscale\":[[0.0,\"#0d0887\"],[0.1111111111111111,\"#46039f\"],[0.2222222222222222,\"#7201a8\"],[0.3333333333333333,\"#9c179e\"],[0.4444444444444444,\"#bd3786\"],[0.5555555555555556,\"#d8576b\"],[0.6666666666666666,\"#ed7953\"],[0.7777777777777778,\"#fb9f3a\"],[0.8888888888888888,\"#fdca26\"],[1.0,\"#f0f921\"]]}],\"mesh3d\":[{\"type\":\"mesh3d\",\"colorbar\":{\"outlinewidth\":0,\"ticks\":\"\"}}],\"scatter\":[{\"marker\":{\"line\":{\"color\":\"#283442\"}},\"type\":\"scatter\"}],\"parcoords\":[{\"type\":\"parcoords\",\"line\":{\"colorbar\":{\"outlinewidth\":0,\"ticks\":\"\"}}}],\"scatterpolargl\":[{\"type\":\"scatterpolargl\",\"marker\":{\"colorbar\":{\"outlinewidth\":0,\"ticks\":\"\"}}}],\"bar\":[{\"error_x\":{\"color\":\"#f2f5fa\"},\"error_y\":{\"color\":\"#f2f5fa\"},\"marker\":{\"line\":{\"color\":\"rgb(17,17,17)\",\"width\":0.5},\"pattern\":{\"fillmode\":\"overlay\",\"size\":10,\"solidity\":0.2}},\"type\":\"bar\"}],\"scattergeo\":[{\"type\":\"scattergeo\",\"marker\":{\"colorbar\":{\"outlinewidth\":0,\"ticks\":\"\"}}}],\"scatterpolar\":[{\"type\":\"scatterpolar\",\"marker\":{\"colorbar\":{\"outlinewidth\":0,\"ticks\":\"\"}}}],\"histogram\":[{\"marker\":{\"pattern\":{\"fillmode\":\"overlay\",\"size\":10,\"solidity\":0.2}},\"type\":\"histogram\"}],\"scattergl\":[{\"marker\":{\"line\":{\"color\":\"#283442\"}},\"type\":\"scattergl\"}],\"scatter3d\":[{\"type\":\"scatter3d\",\"line\":{\"colorbar\":{\"outlinewidth\":0,\"ticks\":\"\"}},\"marker\":{\"colorbar\":{\"outlinewidth\":0,\"ticks\":\"\"}}}],\"scattermapbox\":[{\"type\":\"scattermapbox\",\"marker\":{\"colorbar\":{\"outlinewidth\":0,\"ticks\":\"\"}}}],\"scatterternary\":[{\"type\":\"scatterternary\",\"marker\":{\"colorbar\":{\"outlinewidth\":0,\"ticks\":\"\"}}}],\"scattercarpet\":[{\"type\":\"scattercarpet\",\"marker\":{\"colorbar\":{\"outlinewidth\":0,\"ticks\":\"\"}}}],\"carpet\":[{\"aaxis\":{\"endlinecolor\":\"#A2B1C6\",\"gridcolor\":\"#506784\",\"linecolor\":\"#506784\",\"minorgridcolor\":\"#506784\",\"startlinecolor\":\"#A2B1C6\"},\"baxis\":{\"endlinecolor\":\"#A2B1C6\",\"gridcolor\":\"#506784\",\"linecolor\":\"#506784\",\"minorgridcolor\":\"#506784\",\"startlinecolor\":\"#A2B1C6\"},\"type\":\"carpet\"}],\"table\":[{\"cells\":{\"fill\":{\"color\":\"#506784\"},\"line\":{\"color\":\"rgb(17,17,17)\"}},\"header\":{\"fill\":{\"color\":\"#2a3f5f\"},\"line\":{\"color\":\"rgb(17,17,17)\"}},\"type\":\"table\"}],\"barpolar\":[{\"marker\":{\"line\":{\"color\":\"rgb(17,17,17)\",\"width\":0.5},\"pattern\":{\"fillmode\":\"overlay\",\"size\":10,\"solidity\":0.2}},\"type\":\"barpolar\"}],\"pie\":[{\"automargin\":true,\"type\":\"pie\"}]},\"layout\":{\"autotypenumbers\":\"strict\",\"colorway\":[\"#636efa\",\"#EF553B\",\"#00cc96\",\"#ab63fa\",\"#FFA15A\",\"#19d3f3\",\"#FF6692\",\"#B6E880\",\"#FF97FF\",\"#FECB52\"],\"font\":{\"color\":\"#f2f5fa\"},\"hovermode\":\"closest\",\"hoverlabel\":{\"align\":\"left\"},\"paper_bgcolor\":\"rgb(17,17,17)\",\"plot_bgcolor\":\"rgb(17,17,17)\",\"polar\":{\"bgcolor\":\"rgb(17,17,17)\",\"angularaxis\":{\"gridcolor\":\"#506784\",\"linecolor\":\"#506784\",\"ticks\":\"\"},\"radialaxis\":{\"gridcolor\":\"#506784\",\"linecolor\":\"#506784\",\"ticks\":\"\"}},\"ternary\":{\"bgcolor\":\"rgb(17,17,17)\",\"aaxis\":{\"gridcolor\":\"#506784\",\"linecolor\":\"#506784\",\"ticks\":\"\"},\"baxis\":{\"gridcolor\":\"#506784\",\"linecolor\":\"#506784\",\"ticks\":\"\"},\"caxis\":{\"gridcolor\":\"#506784\",\"linecolor\":\"#506784\",\"ticks\":\"\"}},\"coloraxis\":{\"colorbar\":{\"outlinewidth\":0,\"ticks\":\"\"}},\"colorscale\":{\"sequential\":[[0.0,\"#0d0887\"],[0.1111111111111111,\"#46039f\"],[0.2222222222222222,\"#7201a8\"],[0.3333333333333333,\"#9c179e\"],[0.4444444444444444,\"#bd3786\"],[0.5555555555555556,\"#d8576b\"],[0.6666666666666666,\"#ed7953\"],[0.7777777777777778,\"#fb9f3a\"],[0.8888888888888888,\"#fdca26\"],[1.0,\"#f0f921\"]],\"sequentialminus\":[[0.0,\"#0d0887\"],[0.1111111111111111,\"#46039f\"],[0.2222222222222222,\"#7201a8\"],[0.3333333333333333,\"#9c179e\"],[0.4444444444444444,\"#bd3786\"],[0.5555555555555556,\"#d8576b\"],[0.6666666666666666,\"#ed7953\"],[0.7777777777777778,\"#fb9f3a\"],[0.8888888888888888,\"#fdca26\"],[1.0,\"#f0f921\"]],\"diverging\":[[0,\"#8e0152\"],[0.1,\"#c51b7d\"],[0.2,\"#de77ae\"],[0.3,\"#f1b6da\"],[0.4,\"#fde0ef\"],[0.5,\"#f7f7f7\"],[0.6,\"#e6f5d0\"],[0.7,\"#b8e186\"],[0.8,\"#7fbc41\"],[0.9,\"#4d9221\"],[1,\"#276419\"]]},\"xaxis\":{\"gridcolor\":\"#283442\",\"linecolor\":\"#506784\",\"ticks\":\"\",\"title\":{\"standoff\":15},\"zerolinecolor\":\"#283442\",\"automargin\":true,\"zerolinewidth\":2},\"yaxis\":{\"gridcolor\":\"#283442\",\"linecolor\":\"#506784\",\"ticks\":\"\",\"title\":{\"standoff\":15},\"zerolinecolor\":\"#283442\",\"automargin\":true,\"zerolinewidth\":2},\"scene\":{\"xaxis\":{\"backgroundcolor\":\"rgb(17,17,17)\",\"gridcolor\":\"#506784\",\"linecolor\":\"#506784\",\"showbackground\":true,\"ticks\":\"\",\"zerolinecolor\":\"#C8D4E3\",\"gridwidth\":2},\"yaxis\":{\"backgroundcolor\":\"rgb(17,17,17)\",\"gridcolor\":\"#506784\",\"linecolor\":\"#506784\",\"showbackground\":true,\"ticks\":\"\",\"zerolinecolor\":\"#C8D4E3\",\"gridwidth\":2},\"zaxis\":{\"backgroundcolor\":\"rgb(17,17,17)\",\"gridcolor\":\"#506784\",\"linecolor\":\"#506784\",\"showbackground\":true,\"ticks\":\"\",\"zerolinecolor\":\"#C8D4E3\",\"gridwidth\":2}},\"shapedefaults\":{\"line\":{\"color\":\"#f2f5fa\"}},\"annotationdefaults\":{\"arrowcolor\":\"#f2f5fa\",\"arrowhead\":0,\"arrowwidth\":1},\"geo\":{\"bgcolor\":\"rgb(17,17,17)\",\"landcolor\":\"rgb(17,17,17)\",\"subunitcolor\":\"#506784\",\"showland\":true,\"showlakes\":true,\"lakecolor\":\"rgb(17,17,17)\"},\"title\":{\"x\":0.05},\"updatemenudefaults\":{\"bgcolor\":\"#506784\",\"borderwidth\":0},\"sliderdefaults\":{\"bgcolor\":\"#C8D4E3\",\"borderwidth\":1,\"bordercolor\":\"rgb(17,17,17)\",\"tickwidth\":0},\"mapbox\":{\"style\":\"dark\"}}},\"xaxis\":{\"anchor\":\"y\",\"domain\":[0.0,1.0],\"title\":{\"text\":\"initial_error\"}},\"yaxis\":{\"anchor\":\"x\",\"domain\":[0.0,1.0],\"title\":{\"text\":\"final_error\"}},\"legend\":{\"title\":{\"text\":\"converged\"},\"tracegroupgap\":0},\"margin\":{\"t\":60}},                        {\"responsive\": true}                    ).then(function(){\n",
       "                            \n",
       "var gd = document.getElementById('b766b6bc-393e-42c6-9006-8581a31239e3');\n",
       "var x = new MutationObserver(function (mutations, observer) {{\n",
       "        var display = window.getComputedStyle(gd).display;\n",
       "        if (!display || display === 'none') {{\n",
       "            console.log([gd, 'removed!']);\n",
       "            Plotly.purge(gd);\n",
       "            observer.disconnect();\n",
       "        }}\n",
       "}});\n",
       "\n",
       "// Listen for the removal of the full notebook cells\n",
       "var notebookContainer = gd.closest('#notebook-container');\n",
       "if (notebookContainer) {{\n",
       "    x.observe(notebookContainer, {childList: true});\n",
       "}}\n",
       "\n",
       "// Listen for the clearing of the current output cell\n",
       "var outputEl = gd.closest('.output');\n",
       "if (outputEl) {{\n",
       "    x.observe(outputEl, {childList: true});\n",
       "}}\n",
       "\n",
       "                        })                };                });            </script>        </div>"
      ]
     },
     "metadata": {},
     "output_type": "display_data"
    }
   ],
   "execution_count": 233
  },
  {
   "metadata": {
    "ExecuteTime": {
     "end_time": "2024-07-29T10:13:07.965263Z",
     "start_time": "2024-07-29T10:13:07.922542Z"
    }
   },
   "cell_type": "code",
   "source": "px.histogram(meta_data, x='iterations', color='converged')",
   "id": "f5fa71f0d785cd77",
   "outputs": [
    {
     "data": {
      "application/vnd.plotly.v1+json": {
       "data": [
        {
         "alignmentgroup": "True",
         "bingroup": "x",
         "hovertemplate": "converged=True<br>iterations=%{x}<br>count=%{y}<extra></extra>",
         "legendgroup": "True",
         "marker": {
          "color": "#636efa",
          "pattern": {
           "shape": ""
          }
         },
         "name": "True",
         "offsetgroup": "True",
         "orientation": "v",
         "showlegend": true,
         "x": [
          801,
          801,
          801,
          801,
          801,
          801,
          801,
          801,
          801,
          801,
          801,
          801,
          801,
          801,
          801,
          801,
          801,
          801,
          801,
          801,
          801,
          801,
          801,
          801,
          801,
          801,
          801,
          801,
          801,
          801,
          801,
          801,
          801,
          801,
          801,
          801,
          801,
          801,
          801,
          801,
          801,
          801,
          801,
          801,
          801,
          801,
          801,
          801
         ],
         "xaxis": "x",
         "yaxis": "y",
         "type": "histogram"
        }
       ],
       "layout": {
        "template": {
         "data": {
          "histogram2dcontour": [
           {
            "type": "histogram2dcontour",
            "colorbar": {
             "outlinewidth": 0,
             "ticks": ""
            },
            "colorscale": [
             [
              0.0,
              "#0d0887"
             ],
             [
              0.1111111111111111,
              "#46039f"
             ],
             [
              0.2222222222222222,
              "#7201a8"
             ],
             [
              0.3333333333333333,
              "#9c179e"
             ],
             [
              0.4444444444444444,
              "#bd3786"
             ],
             [
              0.5555555555555556,
              "#d8576b"
             ],
             [
              0.6666666666666666,
              "#ed7953"
             ],
             [
              0.7777777777777778,
              "#fb9f3a"
             ],
             [
              0.8888888888888888,
              "#fdca26"
             ],
             [
              1.0,
              "#f0f921"
             ]
            ]
           }
          ],
          "choropleth": [
           {
            "type": "choropleth",
            "colorbar": {
             "outlinewidth": 0,
             "ticks": ""
            }
           }
          ],
          "histogram2d": [
           {
            "type": "histogram2d",
            "colorbar": {
             "outlinewidth": 0,
             "ticks": ""
            },
            "colorscale": [
             [
              0.0,
              "#0d0887"
             ],
             [
              0.1111111111111111,
              "#46039f"
             ],
             [
              0.2222222222222222,
              "#7201a8"
             ],
             [
              0.3333333333333333,
              "#9c179e"
             ],
             [
              0.4444444444444444,
              "#bd3786"
             ],
             [
              0.5555555555555556,
              "#d8576b"
             ],
             [
              0.6666666666666666,
              "#ed7953"
             ],
             [
              0.7777777777777778,
              "#fb9f3a"
             ],
             [
              0.8888888888888888,
              "#fdca26"
             ],
             [
              1.0,
              "#f0f921"
             ]
            ]
           }
          ],
          "heatmap": [
           {
            "type": "heatmap",
            "colorbar": {
             "outlinewidth": 0,
             "ticks": ""
            },
            "colorscale": [
             [
              0.0,
              "#0d0887"
             ],
             [
              0.1111111111111111,
              "#46039f"
             ],
             [
              0.2222222222222222,
              "#7201a8"
             ],
             [
              0.3333333333333333,
              "#9c179e"
             ],
             [
              0.4444444444444444,
              "#bd3786"
             ],
             [
              0.5555555555555556,
              "#d8576b"
             ],
             [
              0.6666666666666666,
              "#ed7953"
             ],
             [
              0.7777777777777778,
              "#fb9f3a"
             ],
             [
              0.8888888888888888,
              "#fdca26"
             ],
             [
              1.0,
              "#f0f921"
             ]
            ]
           }
          ],
          "heatmapgl": [
           {
            "type": "heatmapgl",
            "colorbar": {
             "outlinewidth": 0,
             "ticks": ""
            },
            "colorscale": [
             [
              0.0,
              "#0d0887"
             ],
             [
              0.1111111111111111,
              "#46039f"
             ],
             [
              0.2222222222222222,
              "#7201a8"
             ],
             [
              0.3333333333333333,
              "#9c179e"
             ],
             [
              0.4444444444444444,
              "#bd3786"
             ],
             [
              0.5555555555555556,
              "#d8576b"
             ],
             [
              0.6666666666666666,
              "#ed7953"
             ],
             [
              0.7777777777777778,
              "#fb9f3a"
             ],
             [
              0.8888888888888888,
              "#fdca26"
             ],
             [
              1.0,
              "#f0f921"
             ]
            ]
           }
          ],
          "contourcarpet": [
           {
            "type": "contourcarpet",
            "colorbar": {
             "outlinewidth": 0,
             "ticks": ""
            }
           }
          ],
          "contour": [
           {
            "type": "contour",
            "colorbar": {
             "outlinewidth": 0,
             "ticks": ""
            },
            "colorscale": [
             [
              0.0,
              "#0d0887"
             ],
             [
              0.1111111111111111,
              "#46039f"
             ],
             [
              0.2222222222222222,
              "#7201a8"
             ],
             [
              0.3333333333333333,
              "#9c179e"
             ],
             [
              0.4444444444444444,
              "#bd3786"
             ],
             [
              0.5555555555555556,
              "#d8576b"
             ],
             [
              0.6666666666666666,
              "#ed7953"
             ],
             [
              0.7777777777777778,
              "#fb9f3a"
             ],
             [
              0.8888888888888888,
              "#fdca26"
             ],
             [
              1.0,
              "#f0f921"
             ]
            ]
           }
          ],
          "surface": [
           {
            "type": "surface",
            "colorbar": {
             "outlinewidth": 0,
             "ticks": ""
            },
            "colorscale": [
             [
              0.0,
              "#0d0887"
             ],
             [
              0.1111111111111111,
              "#46039f"
             ],
             [
              0.2222222222222222,
              "#7201a8"
             ],
             [
              0.3333333333333333,
              "#9c179e"
             ],
             [
              0.4444444444444444,
              "#bd3786"
             ],
             [
              0.5555555555555556,
              "#d8576b"
             ],
             [
              0.6666666666666666,
              "#ed7953"
             ],
             [
              0.7777777777777778,
              "#fb9f3a"
             ],
             [
              0.8888888888888888,
              "#fdca26"
             ],
             [
              1.0,
              "#f0f921"
             ]
            ]
           }
          ],
          "mesh3d": [
           {
            "type": "mesh3d",
            "colorbar": {
             "outlinewidth": 0,
             "ticks": ""
            }
           }
          ],
          "scatter": [
           {
            "marker": {
             "line": {
              "color": "#283442"
             }
            },
            "type": "scatter"
           }
          ],
          "parcoords": [
           {
            "type": "parcoords",
            "line": {
             "colorbar": {
              "outlinewidth": 0,
              "ticks": ""
             }
            }
           }
          ],
          "scatterpolargl": [
           {
            "type": "scatterpolargl",
            "marker": {
             "colorbar": {
              "outlinewidth": 0,
              "ticks": ""
             }
            }
           }
          ],
          "bar": [
           {
            "error_x": {
             "color": "#f2f5fa"
            },
            "error_y": {
             "color": "#f2f5fa"
            },
            "marker": {
             "line": {
              "color": "rgb(17,17,17)",
              "width": 0.5
             },
             "pattern": {
              "fillmode": "overlay",
              "size": 10,
              "solidity": 0.2
             }
            },
            "type": "bar"
           }
          ],
          "scattergeo": [
           {
            "type": "scattergeo",
            "marker": {
             "colorbar": {
              "outlinewidth": 0,
              "ticks": ""
             }
            }
           }
          ],
          "scatterpolar": [
           {
            "type": "scatterpolar",
            "marker": {
             "colorbar": {
              "outlinewidth": 0,
              "ticks": ""
             }
            }
           }
          ],
          "histogram": [
           {
            "marker": {
             "pattern": {
              "fillmode": "overlay",
              "size": 10,
              "solidity": 0.2
             }
            },
            "type": "histogram"
           }
          ],
          "scattergl": [
           {
            "marker": {
             "line": {
              "color": "#283442"
             }
            },
            "type": "scattergl"
           }
          ],
          "scatter3d": [
           {
            "type": "scatter3d",
            "line": {
             "colorbar": {
              "outlinewidth": 0,
              "ticks": ""
             }
            },
            "marker": {
             "colorbar": {
              "outlinewidth": 0,
              "ticks": ""
             }
            }
           }
          ],
          "scattermapbox": [
           {
            "type": "scattermapbox",
            "marker": {
             "colorbar": {
              "outlinewidth": 0,
              "ticks": ""
             }
            }
           }
          ],
          "scatterternary": [
           {
            "type": "scatterternary",
            "marker": {
             "colorbar": {
              "outlinewidth": 0,
              "ticks": ""
             }
            }
           }
          ],
          "scattercarpet": [
           {
            "type": "scattercarpet",
            "marker": {
             "colorbar": {
              "outlinewidth": 0,
              "ticks": ""
             }
            }
           }
          ],
          "carpet": [
           {
            "aaxis": {
             "endlinecolor": "#A2B1C6",
             "gridcolor": "#506784",
             "linecolor": "#506784",
             "minorgridcolor": "#506784",
             "startlinecolor": "#A2B1C6"
            },
            "baxis": {
             "endlinecolor": "#A2B1C6",
             "gridcolor": "#506784",
             "linecolor": "#506784",
             "minorgridcolor": "#506784",
             "startlinecolor": "#A2B1C6"
            },
            "type": "carpet"
           }
          ],
          "table": [
           {
            "cells": {
             "fill": {
              "color": "#506784"
             },
             "line": {
              "color": "rgb(17,17,17)"
             }
            },
            "header": {
             "fill": {
              "color": "#2a3f5f"
             },
             "line": {
              "color": "rgb(17,17,17)"
             }
            },
            "type": "table"
           }
          ],
          "barpolar": [
           {
            "marker": {
             "line": {
              "color": "rgb(17,17,17)",
              "width": 0.5
             },
             "pattern": {
              "fillmode": "overlay",
              "size": 10,
              "solidity": 0.2
             }
            },
            "type": "barpolar"
           }
          ],
          "pie": [
           {
            "automargin": true,
            "type": "pie"
           }
          ]
         },
         "layout": {
          "autotypenumbers": "strict",
          "colorway": [
           "#636efa",
           "#EF553B",
           "#00cc96",
           "#ab63fa",
           "#FFA15A",
           "#19d3f3",
           "#FF6692",
           "#B6E880",
           "#FF97FF",
           "#FECB52"
          ],
          "font": {
           "color": "#f2f5fa"
          },
          "hovermode": "closest",
          "hoverlabel": {
           "align": "left"
          },
          "paper_bgcolor": "rgb(17,17,17)",
          "plot_bgcolor": "rgb(17,17,17)",
          "polar": {
           "bgcolor": "rgb(17,17,17)",
           "angularaxis": {
            "gridcolor": "#506784",
            "linecolor": "#506784",
            "ticks": ""
           },
           "radialaxis": {
            "gridcolor": "#506784",
            "linecolor": "#506784",
            "ticks": ""
           }
          },
          "ternary": {
           "bgcolor": "rgb(17,17,17)",
           "aaxis": {
            "gridcolor": "#506784",
            "linecolor": "#506784",
            "ticks": ""
           },
           "baxis": {
            "gridcolor": "#506784",
            "linecolor": "#506784",
            "ticks": ""
           },
           "caxis": {
            "gridcolor": "#506784",
            "linecolor": "#506784",
            "ticks": ""
           }
          },
          "coloraxis": {
           "colorbar": {
            "outlinewidth": 0,
            "ticks": ""
           }
          },
          "colorscale": {
           "sequential": [
            [
             0.0,
             "#0d0887"
            ],
            [
             0.1111111111111111,
             "#46039f"
            ],
            [
             0.2222222222222222,
             "#7201a8"
            ],
            [
             0.3333333333333333,
             "#9c179e"
            ],
            [
             0.4444444444444444,
             "#bd3786"
            ],
            [
             0.5555555555555556,
             "#d8576b"
            ],
            [
             0.6666666666666666,
             "#ed7953"
            ],
            [
             0.7777777777777778,
             "#fb9f3a"
            ],
            [
             0.8888888888888888,
             "#fdca26"
            ],
            [
             1.0,
             "#f0f921"
            ]
           ],
           "sequentialminus": [
            [
             0.0,
             "#0d0887"
            ],
            [
             0.1111111111111111,
             "#46039f"
            ],
            [
             0.2222222222222222,
             "#7201a8"
            ],
            [
             0.3333333333333333,
             "#9c179e"
            ],
            [
             0.4444444444444444,
             "#bd3786"
            ],
            [
             0.5555555555555556,
             "#d8576b"
            ],
            [
             0.6666666666666666,
             "#ed7953"
            ],
            [
             0.7777777777777778,
             "#fb9f3a"
            ],
            [
             0.8888888888888888,
             "#fdca26"
            ],
            [
             1.0,
             "#f0f921"
            ]
           ],
           "diverging": [
            [
             0,
             "#8e0152"
            ],
            [
             0.1,
             "#c51b7d"
            ],
            [
             0.2,
             "#de77ae"
            ],
            [
             0.3,
             "#f1b6da"
            ],
            [
             0.4,
             "#fde0ef"
            ],
            [
             0.5,
             "#f7f7f7"
            ],
            [
             0.6,
             "#e6f5d0"
            ],
            [
             0.7,
             "#b8e186"
            ],
            [
             0.8,
             "#7fbc41"
            ],
            [
             0.9,
             "#4d9221"
            ],
            [
             1,
             "#276419"
            ]
           ]
          },
          "xaxis": {
           "gridcolor": "#283442",
           "linecolor": "#506784",
           "ticks": "",
           "title": {
            "standoff": 15
           },
           "zerolinecolor": "#283442",
           "automargin": true,
           "zerolinewidth": 2
          },
          "yaxis": {
           "gridcolor": "#283442",
           "linecolor": "#506784",
           "ticks": "",
           "title": {
            "standoff": 15
           },
           "zerolinecolor": "#283442",
           "automargin": true,
           "zerolinewidth": 2
          },
          "scene": {
           "xaxis": {
            "backgroundcolor": "rgb(17,17,17)",
            "gridcolor": "#506784",
            "linecolor": "#506784",
            "showbackground": true,
            "ticks": "",
            "zerolinecolor": "#C8D4E3",
            "gridwidth": 2
           },
           "yaxis": {
            "backgroundcolor": "rgb(17,17,17)",
            "gridcolor": "#506784",
            "linecolor": "#506784",
            "showbackground": true,
            "ticks": "",
            "zerolinecolor": "#C8D4E3",
            "gridwidth": 2
           },
           "zaxis": {
            "backgroundcolor": "rgb(17,17,17)",
            "gridcolor": "#506784",
            "linecolor": "#506784",
            "showbackground": true,
            "ticks": "",
            "zerolinecolor": "#C8D4E3",
            "gridwidth": 2
           }
          },
          "shapedefaults": {
           "line": {
            "color": "#f2f5fa"
           }
          },
          "annotationdefaults": {
           "arrowcolor": "#f2f5fa",
           "arrowhead": 0,
           "arrowwidth": 1
          },
          "geo": {
           "bgcolor": "rgb(17,17,17)",
           "landcolor": "rgb(17,17,17)",
           "subunitcolor": "#506784",
           "showland": true,
           "showlakes": true,
           "lakecolor": "rgb(17,17,17)"
          },
          "title": {
           "x": 0.05
          },
          "updatemenudefaults": {
           "bgcolor": "#506784",
           "borderwidth": 0
          },
          "sliderdefaults": {
           "bgcolor": "#C8D4E3",
           "borderwidth": 1,
           "bordercolor": "rgb(17,17,17)",
           "tickwidth": 0
          },
          "mapbox": {
           "style": "dark"
          }
         }
        },
        "xaxis": {
         "anchor": "y",
         "domain": [
          0.0,
          1.0
         ],
         "title": {
          "text": "iterations"
         }
        },
        "yaxis": {
         "anchor": "x",
         "domain": [
          0.0,
          1.0
         ],
         "title": {
          "text": "count"
         }
        },
        "legend": {
         "title": {
          "text": "converged"
         },
         "tracegroupgap": 0
        },
        "margin": {
         "t": 60
        },
        "barmode": "relative"
       },
       "config": {
        "plotlyServerURL": "https://plot.ly"
       }
      },
      "text/html": [
       "<div>                            <div id=\"06ba48e0-9fd6-46f8-b6a4-4061ae2b78ff\" class=\"plotly-graph-div\" style=\"height:525px; width:100%;\"></div>            <script type=\"text/javascript\">                require([\"plotly\"], function(Plotly) {                    window.PLOTLYENV=window.PLOTLYENV || {};                                    if (document.getElementById(\"06ba48e0-9fd6-46f8-b6a4-4061ae2b78ff\")) {                    Plotly.newPlot(                        \"06ba48e0-9fd6-46f8-b6a4-4061ae2b78ff\",                        [{\"alignmentgroup\":\"True\",\"bingroup\":\"x\",\"hovertemplate\":\"converged=True\\u003cbr\\u003eiterations=%{x}\\u003cbr\\u003ecount=%{y}\\u003cextra\\u003e\\u003c\\u002fextra\\u003e\",\"legendgroup\":\"True\",\"marker\":{\"color\":\"#636efa\",\"pattern\":{\"shape\":\"\"}},\"name\":\"True\",\"offsetgroup\":\"True\",\"orientation\":\"v\",\"showlegend\":true,\"x\":[801,801,801,801,801,801,801,801,801,801,801,801,801,801,801,801,801,801,801,801,801,801,801,801,801,801,801,801,801,801,801,801,801,801,801,801,801,801,801,801,801,801,801,801,801,801,801,801],\"xaxis\":\"x\",\"yaxis\":\"y\",\"type\":\"histogram\"}],                        {\"template\":{\"data\":{\"histogram2dcontour\":[{\"type\":\"histogram2dcontour\",\"colorbar\":{\"outlinewidth\":0,\"ticks\":\"\"},\"colorscale\":[[0.0,\"#0d0887\"],[0.1111111111111111,\"#46039f\"],[0.2222222222222222,\"#7201a8\"],[0.3333333333333333,\"#9c179e\"],[0.4444444444444444,\"#bd3786\"],[0.5555555555555556,\"#d8576b\"],[0.6666666666666666,\"#ed7953\"],[0.7777777777777778,\"#fb9f3a\"],[0.8888888888888888,\"#fdca26\"],[1.0,\"#f0f921\"]]}],\"choropleth\":[{\"type\":\"choropleth\",\"colorbar\":{\"outlinewidth\":0,\"ticks\":\"\"}}],\"histogram2d\":[{\"type\":\"histogram2d\",\"colorbar\":{\"outlinewidth\":0,\"ticks\":\"\"},\"colorscale\":[[0.0,\"#0d0887\"],[0.1111111111111111,\"#46039f\"],[0.2222222222222222,\"#7201a8\"],[0.3333333333333333,\"#9c179e\"],[0.4444444444444444,\"#bd3786\"],[0.5555555555555556,\"#d8576b\"],[0.6666666666666666,\"#ed7953\"],[0.7777777777777778,\"#fb9f3a\"],[0.8888888888888888,\"#fdca26\"],[1.0,\"#f0f921\"]]}],\"heatmap\":[{\"type\":\"heatmap\",\"colorbar\":{\"outlinewidth\":0,\"ticks\":\"\"},\"colorscale\":[[0.0,\"#0d0887\"],[0.1111111111111111,\"#46039f\"],[0.2222222222222222,\"#7201a8\"],[0.3333333333333333,\"#9c179e\"],[0.4444444444444444,\"#bd3786\"],[0.5555555555555556,\"#d8576b\"],[0.6666666666666666,\"#ed7953\"],[0.7777777777777778,\"#fb9f3a\"],[0.8888888888888888,\"#fdca26\"],[1.0,\"#f0f921\"]]}],\"heatmapgl\":[{\"type\":\"heatmapgl\",\"colorbar\":{\"outlinewidth\":0,\"ticks\":\"\"},\"colorscale\":[[0.0,\"#0d0887\"],[0.1111111111111111,\"#46039f\"],[0.2222222222222222,\"#7201a8\"],[0.3333333333333333,\"#9c179e\"],[0.4444444444444444,\"#bd3786\"],[0.5555555555555556,\"#d8576b\"],[0.6666666666666666,\"#ed7953\"],[0.7777777777777778,\"#fb9f3a\"],[0.8888888888888888,\"#fdca26\"],[1.0,\"#f0f921\"]]}],\"contourcarpet\":[{\"type\":\"contourcarpet\",\"colorbar\":{\"outlinewidth\":0,\"ticks\":\"\"}}],\"contour\":[{\"type\":\"contour\",\"colorbar\":{\"outlinewidth\":0,\"ticks\":\"\"},\"colorscale\":[[0.0,\"#0d0887\"],[0.1111111111111111,\"#46039f\"],[0.2222222222222222,\"#7201a8\"],[0.3333333333333333,\"#9c179e\"],[0.4444444444444444,\"#bd3786\"],[0.5555555555555556,\"#d8576b\"],[0.6666666666666666,\"#ed7953\"],[0.7777777777777778,\"#fb9f3a\"],[0.8888888888888888,\"#fdca26\"],[1.0,\"#f0f921\"]]}],\"surface\":[{\"type\":\"surface\",\"colorbar\":{\"outlinewidth\":0,\"ticks\":\"\"},\"colorscale\":[[0.0,\"#0d0887\"],[0.1111111111111111,\"#46039f\"],[0.2222222222222222,\"#7201a8\"],[0.3333333333333333,\"#9c179e\"],[0.4444444444444444,\"#bd3786\"],[0.5555555555555556,\"#d8576b\"],[0.6666666666666666,\"#ed7953\"],[0.7777777777777778,\"#fb9f3a\"],[0.8888888888888888,\"#fdca26\"],[1.0,\"#f0f921\"]]}],\"mesh3d\":[{\"type\":\"mesh3d\",\"colorbar\":{\"outlinewidth\":0,\"ticks\":\"\"}}],\"scatter\":[{\"marker\":{\"line\":{\"color\":\"#283442\"}},\"type\":\"scatter\"}],\"parcoords\":[{\"type\":\"parcoords\",\"line\":{\"colorbar\":{\"outlinewidth\":0,\"ticks\":\"\"}}}],\"scatterpolargl\":[{\"type\":\"scatterpolargl\",\"marker\":{\"colorbar\":{\"outlinewidth\":0,\"ticks\":\"\"}}}],\"bar\":[{\"error_x\":{\"color\":\"#f2f5fa\"},\"error_y\":{\"color\":\"#f2f5fa\"},\"marker\":{\"line\":{\"color\":\"rgb(17,17,17)\",\"width\":0.5},\"pattern\":{\"fillmode\":\"overlay\",\"size\":10,\"solidity\":0.2}},\"type\":\"bar\"}],\"scattergeo\":[{\"type\":\"scattergeo\",\"marker\":{\"colorbar\":{\"outlinewidth\":0,\"ticks\":\"\"}}}],\"scatterpolar\":[{\"type\":\"scatterpolar\",\"marker\":{\"colorbar\":{\"outlinewidth\":0,\"ticks\":\"\"}}}],\"histogram\":[{\"marker\":{\"pattern\":{\"fillmode\":\"overlay\",\"size\":10,\"solidity\":0.2}},\"type\":\"histogram\"}],\"scattergl\":[{\"marker\":{\"line\":{\"color\":\"#283442\"}},\"type\":\"scattergl\"}],\"scatter3d\":[{\"type\":\"scatter3d\",\"line\":{\"colorbar\":{\"outlinewidth\":0,\"ticks\":\"\"}},\"marker\":{\"colorbar\":{\"outlinewidth\":0,\"ticks\":\"\"}}}],\"scattermapbox\":[{\"type\":\"scattermapbox\",\"marker\":{\"colorbar\":{\"outlinewidth\":0,\"ticks\":\"\"}}}],\"scatterternary\":[{\"type\":\"scatterternary\",\"marker\":{\"colorbar\":{\"outlinewidth\":0,\"ticks\":\"\"}}}],\"scattercarpet\":[{\"type\":\"scattercarpet\",\"marker\":{\"colorbar\":{\"outlinewidth\":0,\"ticks\":\"\"}}}],\"carpet\":[{\"aaxis\":{\"endlinecolor\":\"#A2B1C6\",\"gridcolor\":\"#506784\",\"linecolor\":\"#506784\",\"minorgridcolor\":\"#506784\",\"startlinecolor\":\"#A2B1C6\"},\"baxis\":{\"endlinecolor\":\"#A2B1C6\",\"gridcolor\":\"#506784\",\"linecolor\":\"#506784\",\"minorgridcolor\":\"#506784\",\"startlinecolor\":\"#A2B1C6\"},\"type\":\"carpet\"}],\"table\":[{\"cells\":{\"fill\":{\"color\":\"#506784\"},\"line\":{\"color\":\"rgb(17,17,17)\"}},\"header\":{\"fill\":{\"color\":\"#2a3f5f\"},\"line\":{\"color\":\"rgb(17,17,17)\"}},\"type\":\"table\"}],\"barpolar\":[{\"marker\":{\"line\":{\"color\":\"rgb(17,17,17)\",\"width\":0.5},\"pattern\":{\"fillmode\":\"overlay\",\"size\":10,\"solidity\":0.2}},\"type\":\"barpolar\"}],\"pie\":[{\"automargin\":true,\"type\":\"pie\"}]},\"layout\":{\"autotypenumbers\":\"strict\",\"colorway\":[\"#636efa\",\"#EF553B\",\"#00cc96\",\"#ab63fa\",\"#FFA15A\",\"#19d3f3\",\"#FF6692\",\"#B6E880\",\"#FF97FF\",\"#FECB52\"],\"font\":{\"color\":\"#f2f5fa\"},\"hovermode\":\"closest\",\"hoverlabel\":{\"align\":\"left\"},\"paper_bgcolor\":\"rgb(17,17,17)\",\"plot_bgcolor\":\"rgb(17,17,17)\",\"polar\":{\"bgcolor\":\"rgb(17,17,17)\",\"angularaxis\":{\"gridcolor\":\"#506784\",\"linecolor\":\"#506784\",\"ticks\":\"\"},\"radialaxis\":{\"gridcolor\":\"#506784\",\"linecolor\":\"#506784\",\"ticks\":\"\"}},\"ternary\":{\"bgcolor\":\"rgb(17,17,17)\",\"aaxis\":{\"gridcolor\":\"#506784\",\"linecolor\":\"#506784\",\"ticks\":\"\"},\"baxis\":{\"gridcolor\":\"#506784\",\"linecolor\":\"#506784\",\"ticks\":\"\"},\"caxis\":{\"gridcolor\":\"#506784\",\"linecolor\":\"#506784\",\"ticks\":\"\"}},\"coloraxis\":{\"colorbar\":{\"outlinewidth\":0,\"ticks\":\"\"}},\"colorscale\":{\"sequential\":[[0.0,\"#0d0887\"],[0.1111111111111111,\"#46039f\"],[0.2222222222222222,\"#7201a8\"],[0.3333333333333333,\"#9c179e\"],[0.4444444444444444,\"#bd3786\"],[0.5555555555555556,\"#d8576b\"],[0.6666666666666666,\"#ed7953\"],[0.7777777777777778,\"#fb9f3a\"],[0.8888888888888888,\"#fdca26\"],[1.0,\"#f0f921\"]],\"sequentialminus\":[[0.0,\"#0d0887\"],[0.1111111111111111,\"#46039f\"],[0.2222222222222222,\"#7201a8\"],[0.3333333333333333,\"#9c179e\"],[0.4444444444444444,\"#bd3786\"],[0.5555555555555556,\"#d8576b\"],[0.6666666666666666,\"#ed7953\"],[0.7777777777777778,\"#fb9f3a\"],[0.8888888888888888,\"#fdca26\"],[1.0,\"#f0f921\"]],\"diverging\":[[0,\"#8e0152\"],[0.1,\"#c51b7d\"],[0.2,\"#de77ae\"],[0.3,\"#f1b6da\"],[0.4,\"#fde0ef\"],[0.5,\"#f7f7f7\"],[0.6,\"#e6f5d0\"],[0.7,\"#b8e186\"],[0.8,\"#7fbc41\"],[0.9,\"#4d9221\"],[1,\"#276419\"]]},\"xaxis\":{\"gridcolor\":\"#283442\",\"linecolor\":\"#506784\",\"ticks\":\"\",\"title\":{\"standoff\":15},\"zerolinecolor\":\"#283442\",\"automargin\":true,\"zerolinewidth\":2},\"yaxis\":{\"gridcolor\":\"#283442\",\"linecolor\":\"#506784\",\"ticks\":\"\",\"title\":{\"standoff\":15},\"zerolinecolor\":\"#283442\",\"automargin\":true,\"zerolinewidth\":2},\"scene\":{\"xaxis\":{\"backgroundcolor\":\"rgb(17,17,17)\",\"gridcolor\":\"#506784\",\"linecolor\":\"#506784\",\"showbackground\":true,\"ticks\":\"\",\"zerolinecolor\":\"#C8D4E3\",\"gridwidth\":2},\"yaxis\":{\"backgroundcolor\":\"rgb(17,17,17)\",\"gridcolor\":\"#506784\",\"linecolor\":\"#506784\",\"showbackground\":true,\"ticks\":\"\",\"zerolinecolor\":\"#C8D4E3\",\"gridwidth\":2},\"zaxis\":{\"backgroundcolor\":\"rgb(17,17,17)\",\"gridcolor\":\"#506784\",\"linecolor\":\"#506784\",\"showbackground\":true,\"ticks\":\"\",\"zerolinecolor\":\"#C8D4E3\",\"gridwidth\":2}},\"shapedefaults\":{\"line\":{\"color\":\"#f2f5fa\"}},\"annotationdefaults\":{\"arrowcolor\":\"#f2f5fa\",\"arrowhead\":0,\"arrowwidth\":1},\"geo\":{\"bgcolor\":\"rgb(17,17,17)\",\"landcolor\":\"rgb(17,17,17)\",\"subunitcolor\":\"#506784\",\"showland\":true,\"showlakes\":true,\"lakecolor\":\"rgb(17,17,17)\"},\"title\":{\"x\":0.05},\"updatemenudefaults\":{\"bgcolor\":\"#506784\",\"borderwidth\":0},\"sliderdefaults\":{\"bgcolor\":\"#C8D4E3\",\"borderwidth\":1,\"bordercolor\":\"rgb(17,17,17)\",\"tickwidth\":0},\"mapbox\":{\"style\":\"dark\"}}},\"xaxis\":{\"anchor\":\"y\",\"domain\":[0.0,1.0],\"title\":{\"text\":\"iterations\"}},\"yaxis\":{\"anchor\":\"x\",\"domain\":[0.0,1.0],\"title\":{\"text\":\"count\"}},\"legend\":{\"title\":{\"text\":\"converged\"},\"tracegroupgap\":0},\"margin\":{\"t\":60},\"barmode\":\"relative\"},                        {\"responsive\": true}                    ).then(function(){\n",
       "                            \n",
       "var gd = document.getElementById('06ba48e0-9fd6-46f8-b6a4-4061ae2b78ff');\n",
       "var x = new MutationObserver(function (mutations, observer) {{\n",
       "        var display = window.getComputedStyle(gd).display;\n",
       "        if (!display || display === 'none') {{\n",
       "            console.log([gd, 'removed!']);\n",
       "            Plotly.purge(gd);\n",
       "            observer.disconnect();\n",
       "        }}\n",
       "}});\n",
       "\n",
       "// Listen for the removal of the full notebook cells\n",
       "var notebookContainer = gd.closest('#notebook-container');\n",
       "if (notebookContainer) {{\n",
       "    x.observe(notebookContainer, {childList: true});\n",
       "}}\n",
       "\n",
       "// Listen for the clearing of the current output cell\n",
       "var outputEl = gd.closest('.output');\n",
       "if (outputEl) {{\n",
       "    x.observe(outputEl, {childList: true});\n",
       "}}\n",
       "\n",
       "                        })                };                });            </script>        </div>"
      ]
     },
     "metadata": {},
     "output_type": "display_data"
    }
   ],
   "execution_count": 234
  },
  {
   "metadata": {
    "ExecuteTime": {
     "end_time": "2024-07-29T10:13:08.008900Z",
     "start_time": "2024-07-29T10:13:07.967026Z"
    }
   },
   "cell_type": "code",
   "source": [
    "flat_solutions = np.array([r.m.flatten() for r in results])\n",
    "dist = sp.spatial.distance.pdist(flat_solutions, metric='hamming')\n",
    "hist, bins = np.histogram(dist, bins=dims)\n",
    "px.scatter(x=bins[1:], y=hist)"
   ],
   "id": "11c69abdadf082a7",
   "outputs": [
    {
     "data": {
      "application/vnd.plotly.v1+json": {
       "data": [
        {
         "hovertemplate": "x=%{x}<br>y=%{y}<extra></extra>",
         "legendgroup": "",
         "marker": {
          "color": "#636efa",
          "symbol": "circle"
         },
         "mode": "markers",
         "name": "",
         "orientation": "v",
         "showlegend": false,
         "x": [
          0.201171875,
          0.26171875,
          0.322265625,
          0.3828125,
          0.443359375,
          0.50390625,
          0.564453125,
          0.625
         ],
         "xaxis": "x",
         "y": [
          7,
          48,
          171,
          375,
          309,
          180,
          34,
          4
         ],
         "yaxis": "y",
         "type": "scatter"
        }
       ],
       "layout": {
        "template": {
         "data": {
          "histogram2dcontour": [
           {
            "type": "histogram2dcontour",
            "colorbar": {
             "outlinewidth": 0,
             "ticks": ""
            },
            "colorscale": [
             [
              0.0,
              "#0d0887"
             ],
             [
              0.1111111111111111,
              "#46039f"
             ],
             [
              0.2222222222222222,
              "#7201a8"
             ],
             [
              0.3333333333333333,
              "#9c179e"
             ],
             [
              0.4444444444444444,
              "#bd3786"
             ],
             [
              0.5555555555555556,
              "#d8576b"
             ],
             [
              0.6666666666666666,
              "#ed7953"
             ],
             [
              0.7777777777777778,
              "#fb9f3a"
             ],
             [
              0.8888888888888888,
              "#fdca26"
             ],
             [
              1.0,
              "#f0f921"
             ]
            ]
           }
          ],
          "choropleth": [
           {
            "type": "choropleth",
            "colorbar": {
             "outlinewidth": 0,
             "ticks": ""
            }
           }
          ],
          "histogram2d": [
           {
            "type": "histogram2d",
            "colorbar": {
             "outlinewidth": 0,
             "ticks": ""
            },
            "colorscale": [
             [
              0.0,
              "#0d0887"
             ],
             [
              0.1111111111111111,
              "#46039f"
             ],
             [
              0.2222222222222222,
              "#7201a8"
             ],
             [
              0.3333333333333333,
              "#9c179e"
             ],
             [
              0.4444444444444444,
              "#bd3786"
             ],
             [
              0.5555555555555556,
              "#d8576b"
             ],
             [
              0.6666666666666666,
              "#ed7953"
             ],
             [
              0.7777777777777778,
              "#fb9f3a"
             ],
             [
              0.8888888888888888,
              "#fdca26"
             ],
             [
              1.0,
              "#f0f921"
             ]
            ]
           }
          ],
          "heatmap": [
           {
            "type": "heatmap",
            "colorbar": {
             "outlinewidth": 0,
             "ticks": ""
            },
            "colorscale": [
             [
              0.0,
              "#0d0887"
             ],
             [
              0.1111111111111111,
              "#46039f"
             ],
             [
              0.2222222222222222,
              "#7201a8"
             ],
             [
              0.3333333333333333,
              "#9c179e"
             ],
             [
              0.4444444444444444,
              "#bd3786"
             ],
             [
              0.5555555555555556,
              "#d8576b"
             ],
             [
              0.6666666666666666,
              "#ed7953"
             ],
             [
              0.7777777777777778,
              "#fb9f3a"
             ],
             [
              0.8888888888888888,
              "#fdca26"
             ],
             [
              1.0,
              "#f0f921"
             ]
            ]
           }
          ],
          "heatmapgl": [
           {
            "type": "heatmapgl",
            "colorbar": {
             "outlinewidth": 0,
             "ticks": ""
            },
            "colorscale": [
             [
              0.0,
              "#0d0887"
             ],
             [
              0.1111111111111111,
              "#46039f"
             ],
             [
              0.2222222222222222,
              "#7201a8"
             ],
             [
              0.3333333333333333,
              "#9c179e"
             ],
             [
              0.4444444444444444,
              "#bd3786"
             ],
             [
              0.5555555555555556,
              "#d8576b"
             ],
             [
              0.6666666666666666,
              "#ed7953"
             ],
             [
              0.7777777777777778,
              "#fb9f3a"
             ],
             [
              0.8888888888888888,
              "#fdca26"
             ],
             [
              1.0,
              "#f0f921"
             ]
            ]
           }
          ],
          "contourcarpet": [
           {
            "type": "contourcarpet",
            "colorbar": {
             "outlinewidth": 0,
             "ticks": ""
            }
           }
          ],
          "contour": [
           {
            "type": "contour",
            "colorbar": {
             "outlinewidth": 0,
             "ticks": ""
            },
            "colorscale": [
             [
              0.0,
              "#0d0887"
             ],
             [
              0.1111111111111111,
              "#46039f"
             ],
             [
              0.2222222222222222,
              "#7201a8"
             ],
             [
              0.3333333333333333,
              "#9c179e"
             ],
             [
              0.4444444444444444,
              "#bd3786"
             ],
             [
              0.5555555555555556,
              "#d8576b"
             ],
             [
              0.6666666666666666,
              "#ed7953"
             ],
             [
              0.7777777777777778,
              "#fb9f3a"
             ],
             [
              0.8888888888888888,
              "#fdca26"
             ],
             [
              1.0,
              "#f0f921"
             ]
            ]
           }
          ],
          "surface": [
           {
            "type": "surface",
            "colorbar": {
             "outlinewidth": 0,
             "ticks": ""
            },
            "colorscale": [
             [
              0.0,
              "#0d0887"
             ],
             [
              0.1111111111111111,
              "#46039f"
             ],
             [
              0.2222222222222222,
              "#7201a8"
             ],
             [
              0.3333333333333333,
              "#9c179e"
             ],
             [
              0.4444444444444444,
              "#bd3786"
             ],
             [
              0.5555555555555556,
              "#d8576b"
             ],
             [
              0.6666666666666666,
              "#ed7953"
             ],
             [
              0.7777777777777778,
              "#fb9f3a"
             ],
             [
              0.8888888888888888,
              "#fdca26"
             ],
             [
              1.0,
              "#f0f921"
             ]
            ]
           }
          ],
          "mesh3d": [
           {
            "type": "mesh3d",
            "colorbar": {
             "outlinewidth": 0,
             "ticks": ""
            }
           }
          ],
          "scatter": [
           {
            "marker": {
             "line": {
              "color": "#283442"
             }
            },
            "type": "scatter"
           }
          ],
          "parcoords": [
           {
            "type": "parcoords",
            "line": {
             "colorbar": {
              "outlinewidth": 0,
              "ticks": ""
             }
            }
           }
          ],
          "scatterpolargl": [
           {
            "type": "scatterpolargl",
            "marker": {
             "colorbar": {
              "outlinewidth": 0,
              "ticks": ""
             }
            }
           }
          ],
          "bar": [
           {
            "error_x": {
             "color": "#f2f5fa"
            },
            "error_y": {
             "color": "#f2f5fa"
            },
            "marker": {
             "line": {
              "color": "rgb(17,17,17)",
              "width": 0.5
             },
             "pattern": {
              "fillmode": "overlay",
              "size": 10,
              "solidity": 0.2
             }
            },
            "type": "bar"
           }
          ],
          "scattergeo": [
           {
            "type": "scattergeo",
            "marker": {
             "colorbar": {
              "outlinewidth": 0,
              "ticks": ""
             }
            }
           }
          ],
          "scatterpolar": [
           {
            "type": "scatterpolar",
            "marker": {
             "colorbar": {
              "outlinewidth": 0,
              "ticks": ""
             }
            }
           }
          ],
          "histogram": [
           {
            "marker": {
             "pattern": {
              "fillmode": "overlay",
              "size": 10,
              "solidity": 0.2
             }
            },
            "type": "histogram"
           }
          ],
          "scattergl": [
           {
            "marker": {
             "line": {
              "color": "#283442"
             }
            },
            "type": "scattergl"
           }
          ],
          "scatter3d": [
           {
            "type": "scatter3d",
            "line": {
             "colorbar": {
              "outlinewidth": 0,
              "ticks": ""
             }
            },
            "marker": {
             "colorbar": {
              "outlinewidth": 0,
              "ticks": ""
             }
            }
           }
          ],
          "scattermapbox": [
           {
            "type": "scattermapbox",
            "marker": {
             "colorbar": {
              "outlinewidth": 0,
              "ticks": ""
             }
            }
           }
          ],
          "scatterternary": [
           {
            "type": "scatterternary",
            "marker": {
             "colorbar": {
              "outlinewidth": 0,
              "ticks": ""
             }
            }
           }
          ],
          "scattercarpet": [
           {
            "type": "scattercarpet",
            "marker": {
             "colorbar": {
              "outlinewidth": 0,
              "ticks": ""
             }
            }
           }
          ],
          "carpet": [
           {
            "aaxis": {
             "endlinecolor": "#A2B1C6",
             "gridcolor": "#506784",
             "linecolor": "#506784",
             "minorgridcolor": "#506784",
             "startlinecolor": "#A2B1C6"
            },
            "baxis": {
             "endlinecolor": "#A2B1C6",
             "gridcolor": "#506784",
             "linecolor": "#506784",
             "minorgridcolor": "#506784",
             "startlinecolor": "#A2B1C6"
            },
            "type": "carpet"
           }
          ],
          "table": [
           {
            "cells": {
             "fill": {
              "color": "#506784"
             },
             "line": {
              "color": "rgb(17,17,17)"
             }
            },
            "header": {
             "fill": {
              "color": "#2a3f5f"
             },
             "line": {
              "color": "rgb(17,17,17)"
             }
            },
            "type": "table"
           }
          ],
          "barpolar": [
           {
            "marker": {
             "line": {
              "color": "rgb(17,17,17)",
              "width": 0.5
             },
             "pattern": {
              "fillmode": "overlay",
              "size": 10,
              "solidity": 0.2
             }
            },
            "type": "barpolar"
           }
          ],
          "pie": [
           {
            "automargin": true,
            "type": "pie"
           }
          ]
         },
         "layout": {
          "autotypenumbers": "strict",
          "colorway": [
           "#636efa",
           "#EF553B",
           "#00cc96",
           "#ab63fa",
           "#FFA15A",
           "#19d3f3",
           "#FF6692",
           "#B6E880",
           "#FF97FF",
           "#FECB52"
          ],
          "font": {
           "color": "#f2f5fa"
          },
          "hovermode": "closest",
          "hoverlabel": {
           "align": "left"
          },
          "paper_bgcolor": "rgb(17,17,17)",
          "plot_bgcolor": "rgb(17,17,17)",
          "polar": {
           "bgcolor": "rgb(17,17,17)",
           "angularaxis": {
            "gridcolor": "#506784",
            "linecolor": "#506784",
            "ticks": ""
           },
           "radialaxis": {
            "gridcolor": "#506784",
            "linecolor": "#506784",
            "ticks": ""
           }
          },
          "ternary": {
           "bgcolor": "rgb(17,17,17)",
           "aaxis": {
            "gridcolor": "#506784",
            "linecolor": "#506784",
            "ticks": ""
           },
           "baxis": {
            "gridcolor": "#506784",
            "linecolor": "#506784",
            "ticks": ""
           },
           "caxis": {
            "gridcolor": "#506784",
            "linecolor": "#506784",
            "ticks": ""
           }
          },
          "coloraxis": {
           "colorbar": {
            "outlinewidth": 0,
            "ticks": ""
           }
          },
          "colorscale": {
           "sequential": [
            [
             0.0,
             "#0d0887"
            ],
            [
             0.1111111111111111,
             "#46039f"
            ],
            [
             0.2222222222222222,
             "#7201a8"
            ],
            [
             0.3333333333333333,
             "#9c179e"
            ],
            [
             0.4444444444444444,
             "#bd3786"
            ],
            [
             0.5555555555555556,
             "#d8576b"
            ],
            [
             0.6666666666666666,
             "#ed7953"
            ],
            [
             0.7777777777777778,
             "#fb9f3a"
            ],
            [
             0.8888888888888888,
             "#fdca26"
            ],
            [
             1.0,
             "#f0f921"
            ]
           ],
           "sequentialminus": [
            [
             0.0,
             "#0d0887"
            ],
            [
             0.1111111111111111,
             "#46039f"
            ],
            [
             0.2222222222222222,
             "#7201a8"
            ],
            [
             0.3333333333333333,
             "#9c179e"
            ],
            [
             0.4444444444444444,
             "#bd3786"
            ],
            [
             0.5555555555555556,
             "#d8576b"
            ],
            [
             0.6666666666666666,
             "#ed7953"
            ],
            [
             0.7777777777777778,
             "#fb9f3a"
            ],
            [
             0.8888888888888888,
             "#fdca26"
            ],
            [
             1.0,
             "#f0f921"
            ]
           ],
           "diverging": [
            [
             0,
             "#8e0152"
            ],
            [
             0.1,
             "#c51b7d"
            ],
            [
             0.2,
             "#de77ae"
            ],
            [
             0.3,
             "#f1b6da"
            ],
            [
             0.4,
             "#fde0ef"
            ],
            [
             0.5,
             "#f7f7f7"
            ],
            [
             0.6,
             "#e6f5d0"
            ],
            [
             0.7,
             "#b8e186"
            ],
            [
             0.8,
             "#7fbc41"
            ],
            [
             0.9,
             "#4d9221"
            ],
            [
             1,
             "#276419"
            ]
           ]
          },
          "xaxis": {
           "gridcolor": "#283442",
           "linecolor": "#506784",
           "ticks": "",
           "title": {
            "standoff": 15
           },
           "zerolinecolor": "#283442",
           "automargin": true,
           "zerolinewidth": 2
          },
          "yaxis": {
           "gridcolor": "#283442",
           "linecolor": "#506784",
           "ticks": "",
           "title": {
            "standoff": 15
           },
           "zerolinecolor": "#283442",
           "automargin": true,
           "zerolinewidth": 2
          },
          "scene": {
           "xaxis": {
            "backgroundcolor": "rgb(17,17,17)",
            "gridcolor": "#506784",
            "linecolor": "#506784",
            "showbackground": true,
            "ticks": "",
            "zerolinecolor": "#C8D4E3",
            "gridwidth": 2
           },
           "yaxis": {
            "backgroundcolor": "rgb(17,17,17)",
            "gridcolor": "#506784",
            "linecolor": "#506784",
            "showbackground": true,
            "ticks": "",
            "zerolinecolor": "#C8D4E3",
            "gridwidth": 2
           },
           "zaxis": {
            "backgroundcolor": "rgb(17,17,17)",
            "gridcolor": "#506784",
            "linecolor": "#506784",
            "showbackground": true,
            "ticks": "",
            "zerolinecolor": "#C8D4E3",
            "gridwidth": 2
           }
          },
          "shapedefaults": {
           "line": {
            "color": "#f2f5fa"
           }
          },
          "annotationdefaults": {
           "arrowcolor": "#f2f5fa",
           "arrowhead": 0,
           "arrowwidth": 1
          },
          "geo": {
           "bgcolor": "rgb(17,17,17)",
           "landcolor": "rgb(17,17,17)",
           "subunitcolor": "#506784",
           "showland": true,
           "showlakes": true,
           "lakecolor": "rgb(17,17,17)"
          },
          "title": {
           "x": 0.05
          },
          "updatemenudefaults": {
           "bgcolor": "#506784",
           "borderwidth": 0
          },
          "sliderdefaults": {
           "bgcolor": "#C8D4E3",
           "borderwidth": 1,
           "bordercolor": "rgb(17,17,17)",
           "tickwidth": 0
          },
          "mapbox": {
           "style": "dark"
          }
         }
        },
        "xaxis": {
         "anchor": "y",
         "domain": [
          0.0,
          1.0
         ],
         "title": {
          "text": "x"
         }
        },
        "yaxis": {
         "anchor": "x",
         "domain": [
          0.0,
          1.0
         ],
         "title": {
          "text": "y"
         }
        },
        "legend": {
         "tracegroupgap": 0
        },
        "margin": {
         "t": 60
        }
       },
       "config": {
        "plotlyServerURL": "https://plot.ly"
       }
      },
      "text/html": [
       "<div>                            <div id=\"cf96734c-2c2d-4251-b7ca-64f4c7a2f24b\" class=\"plotly-graph-div\" style=\"height:525px; width:100%;\"></div>            <script type=\"text/javascript\">                require([\"plotly\"], function(Plotly) {                    window.PLOTLYENV=window.PLOTLYENV || {};                                    if (document.getElementById(\"cf96734c-2c2d-4251-b7ca-64f4c7a2f24b\")) {                    Plotly.newPlot(                        \"cf96734c-2c2d-4251-b7ca-64f4c7a2f24b\",                        [{\"hovertemplate\":\"x=%{x}\\u003cbr\\u003ey=%{y}\\u003cextra\\u003e\\u003c\\u002fextra\\u003e\",\"legendgroup\":\"\",\"marker\":{\"color\":\"#636efa\",\"symbol\":\"circle\"},\"mode\":\"markers\",\"name\":\"\",\"orientation\":\"v\",\"showlegend\":false,\"x\":[0.201171875,0.26171875,0.322265625,0.3828125,0.443359375,0.50390625,0.564453125,0.625],\"xaxis\":\"x\",\"y\":[7,48,171,375,309,180,34,4],\"yaxis\":\"y\",\"type\":\"scatter\"}],                        {\"template\":{\"data\":{\"histogram2dcontour\":[{\"type\":\"histogram2dcontour\",\"colorbar\":{\"outlinewidth\":0,\"ticks\":\"\"},\"colorscale\":[[0.0,\"#0d0887\"],[0.1111111111111111,\"#46039f\"],[0.2222222222222222,\"#7201a8\"],[0.3333333333333333,\"#9c179e\"],[0.4444444444444444,\"#bd3786\"],[0.5555555555555556,\"#d8576b\"],[0.6666666666666666,\"#ed7953\"],[0.7777777777777778,\"#fb9f3a\"],[0.8888888888888888,\"#fdca26\"],[1.0,\"#f0f921\"]]}],\"choropleth\":[{\"type\":\"choropleth\",\"colorbar\":{\"outlinewidth\":0,\"ticks\":\"\"}}],\"histogram2d\":[{\"type\":\"histogram2d\",\"colorbar\":{\"outlinewidth\":0,\"ticks\":\"\"},\"colorscale\":[[0.0,\"#0d0887\"],[0.1111111111111111,\"#46039f\"],[0.2222222222222222,\"#7201a8\"],[0.3333333333333333,\"#9c179e\"],[0.4444444444444444,\"#bd3786\"],[0.5555555555555556,\"#d8576b\"],[0.6666666666666666,\"#ed7953\"],[0.7777777777777778,\"#fb9f3a\"],[0.8888888888888888,\"#fdca26\"],[1.0,\"#f0f921\"]]}],\"heatmap\":[{\"type\":\"heatmap\",\"colorbar\":{\"outlinewidth\":0,\"ticks\":\"\"},\"colorscale\":[[0.0,\"#0d0887\"],[0.1111111111111111,\"#46039f\"],[0.2222222222222222,\"#7201a8\"],[0.3333333333333333,\"#9c179e\"],[0.4444444444444444,\"#bd3786\"],[0.5555555555555556,\"#d8576b\"],[0.6666666666666666,\"#ed7953\"],[0.7777777777777778,\"#fb9f3a\"],[0.8888888888888888,\"#fdca26\"],[1.0,\"#f0f921\"]]}],\"heatmapgl\":[{\"type\":\"heatmapgl\",\"colorbar\":{\"outlinewidth\":0,\"ticks\":\"\"},\"colorscale\":[[0.0,\"#0d0887\"],[0.1111111111111111,\"#46039f\"],[0.2222222222222222,\"#7201a8\"],[0.3333333333333333,\"#9c179e\"],[0.4444444444444444,\"#bd3786\"],[0.5555555555555556,\"#d8576b\"],[0.6666666666666666,\"#ed7953\"],[0.7777777777777778,\"#fb9f3a\"],[0.8888888888888888,\"#fdca26\"],[1.0,\"#f0f921\"]]}],\"contourcarpet\":[{\"type\":\"contourcarpet\",\"colorbar\":{\"outlinewidth\":0,\"ticks\":\"\"}}],\"contour\":[{\"type\":\"contour\",\"colorbar\":{\"outlinewidth\":0,\"ticks\":\"\"},\"colorscale\":[[0.0,\"#0d0887\"],[0.1111111111111111,\"#46039f\"],[0.2222222222222222,\"#7201a8\"],[0.3333333333333333,\"#9c179e\"],[0.4444444444444444,\"#bd3786\"],[0.5555555555555556,\"#d8576b\"],[0.6666666666666666,\"#ed7953\"],[0.7777777777777778,\"#fb9f3a\"],[0.8888888888888888,\"#fdca26\"],[1.0,\"#f0f921\"]]}],\"surface\":[{\"type\":\"surface\",\"colorbar\":{\"outlinewidth\":0,\"ticks\":\"\"},\"colorscale\":[[0.0,\"#0d0887\"],[0.1111111111111111,\"#46039f\"],[0.2222222222222222,\"#7201a8\"],[0.3333333333333333,\"#9c179e\"],[0.4444444444444444,\"#bd3786\"],[0.5555555555555556,\"#d8576b\"],[0.6666666666666666,\"#ed7953\"],[0.7777777777777778,\"#fb9f3a\"],[0.8888888888888888,\"#fdca26\"],[1.0,\"#f0f921\"]]}],\"mesh3d\":[{\"type\":\"mesh3d\",\"colorbar\":{\"outlinewidth\":0,\"ticks\":\"\"}}],\"scatter\":[{\"marker\":{\"line\":{\"color\":\"#283442\"}},\"type\":\"scatter\"}],\"parcoords\":[{\"type\":\"parcoords\",\"line\":{\"colorbar\":{\"outlinewidth\":0,\"ticks\":\"\"}}}],\"scatterpolargl\":[{\"type\":\"scatterpolargl\",\"marker\":{\"colorbar\":{\"outlinewidth\":0,\"ticks\":\"\"}}}],\"bar\":[{\"error_x\":{\"color\":\"#f2f5fa\"},\"error_y\":{\"color\":\"#f2f5fa\"},\"marker\":{\"line\":{\"color\":\"rgb(17,17,17)\",\"width\":0.5},\"pattern\":{\"fillmode\":\"overlay\",\"size\":10,\"solidity\":0.2}},\"type\":\"bar\"}],\"scattergeo\":[{\"type\":\"scattergeo\",\"marker\":{\"colorbar\":{\"outlinewidth\":0,\"ticks\":\"\"}}}],\"scatterpolar\":[{\"type\":\"scatterpolar\",\"marker\":{\"colorbar\":{\"outlinewidth\":0,\"ticks\":\"\"}}}],\"histogram\":[{\"marker\":{\"pattern\":{\"fillmode\":\"overlay\",\"size\":10,\"solidity\":0.2}},\"type\":\"histogram\"}],\"scattergl\":[{\"marker\":{\"line\":{\"color\":\"#283442\"}},\"type\":\"scattergl\"}],\"scatter3d\":[{\"type\":\"scatter3d\",\"line\":{\"colorbar\":{\"outlinewidth\":0,\"ticks\":\"\"}},\"marker\":{\"colorbar\":{\"outlinewidth\":0,\"ticks\":\"\"}}}],\"scattermapbox\":[{\"type\":\"scattermapbox\",\"marker\":{\"colorbar\":{\"outlinewidth\":0,\"ticks\":\"\"}}}],\"scatterternary\":[{\"type\":\"scatterternary\",\"marker\":{\"colorbar\":{\"outlinewidth\":0,\"ticks\":\"\"}}}],\"scattercarpet\":[{\"type\":\"scattercarpet\",\"marker\":{\"colorbar\":{\"outlinewidth\":0,\"ticks\":\"\"}}}],\"carpet\":[{\"aaxis\":{\"endlinecolor\":\"#A2B1C6\",\"gridcolor\":\"#506784\",\"linecolor\":\"#506784\",\"minorgridcolor\":\"#506784\",\"startlinecolor\":\"#A2B1C6\"},\"baxis\":{\"endlinecolor\":\"#A2B1C6\",\"gridcolor\":\"#506784\",\"linecolor\":\"#506784\",\"minorgridcolor\":\"#506784\",\"startlinecolor\":\"#A2B1C6\"},\"type\":\"carpet\"}],\"table\":[{\"cells\":{\"fill\":{\"color\":\"#506784\"},\"line\":{\"color\":\"rgb(17,17,17)\"}},\"header\":{\"fill\":{\"color\":\"#2a3f5f\"},\"line\":{\"color\":\"rgb(17,17,17)\"}},\"type\":\"table\"}],\"barpolar\":[{\"marker\":{\"line\":{\"color\":\"rgb(17,17,17)\",\"width\":0.5},\"pattern\":{\"fillmode\":\"overlay\",\"size\":10,\"solidity\":0.2}},\"type\":\"barpolar\"}],\"pie\":[{\"automargin\":true,\"type\":\"pie\"}]},\"layout\":{\"autotypenumbers\":\"strict\",\"colorway\":[\"#636efa\",\"#EF553B\",\"#00cc96\",\"#ab63fa\",\"#FFA15A\",\"#19d3f3\",\"#FF6692\",\"#B6E880\",\"#FF97FF\",\"#FECB52\"],\"font\":{\"color\":\"#f2f5fa\"},\"hovermode\":\"closest\",\"hoverlabel\":{\"align\":\"left\"},\"paper_bgcolor\":\"rgb(17,17,17)\",\"plot_bgcolor\":\"rgb(17,17,17)\",\"polar\":{\"bgcolor\":\"rgb(17,17,17)\",\"angularaxis\":{\"gridcolor\":\"#506784\",\"linecolor\":\"#506784\",\"ticks\":\"\"},\"radialaxis\":{\"gridcolor\":\"#506784\",\"linecolor\":\"#506784\",\"ticks\":\"\"}},\"ternary\":{\"bgcolor\":\"rgb(17,17,17)\",\"aaxis\":{\"gridcolor\":\"#506784\",\"linecolor\":\"#506784\",\"ticks\":\"\"},\"baxis\":{\"gridcolor\":\"#506784\",\"linecolor\":\"#506784\",\"ticks\":\"\"},\"caxis\":{\"gridcolor\":\"#506784\",\"linecolor\":\"#506784\",\"ticks\":\"\"}},\"coloraxis\":{\"colorbar\":{\"outlinewidth\":0,\"ticks\":\"\"}},\"colorscale\":{\"sequential\":[[0.0,\"#0d0887\"],[0.1111111111111111,\"#46039f\"],[0.2222222222222222,\"#7201a8\"],[0.3333333333333333,\"#9c179e\"],[0.4444444444444444,\"#bd3786\"],[0.5555555555555556,\"#d8576b\"],[0.6666666666666666,\"#ed7953\"],[0.7777777777777778,\"#fb9f3a\"],[0.8888888888888888,\"#fdca26\"],[1.0,\"#f0f921\"]],\"sequentialminus\":[[0.0,\"#0d0887\"],[0.1111111111111111,\"#46039f\"],[0.2222222222222222,\"#7201a8\"],[0.3333333333333333,\"#9c179e\"],[0.4444444444444444,\"#bd3786\"],[0.5555555555555556,\"#d8576b\"],[0.6666666666666666,\"#ed7953\"],[0.7777777777777778,\"#fb9f3a\"],[0.8888888888888888,\"#fdca26\"],[1.0,\"#f0f921\"]],\"diverging\":[[0,\"#8e0152\"],[0.1,\"#c51b7d\"],[0.2,\"#de77ae\"],[0.3,\"#f1b6da\"],[0.4,\"#fde0ef\"],[0.5,\"#f7f7f7\"],[0.6,\"#e6f5d0\"],[0.7,\"#b8e186\"],[0.8,\"#7fbc41\"],[0.9,\"#4d9221\"],[1,\"#276419\"]]},\"xaxis\":{\"gridcolor\":\"#283442\",\"linecolor\":\"#506784\",\"ticks\":\"\",\"title\":{\"standoff\":15},\"zerolinecolor\":\"#283442\",\"automargin\":true,\"zerolinewidth\":2},\"yaxis\":{\"gridcolor\":\"#283442\",\"linecolor\":\"#506784\",\"ticks\":\"\",\"title\":{\"standoff\":15},\"zerolinecolor\":\"#283442\",\"automargin\":true,\"zerolinewidth\":2},\"scene\":{\"xaxis\":{\"backgroundcolor\":\"rgb(17,17,17)\",\"gridcolor\":\"#506784\",\"linecolor\":\"#506784\",\"showbackground\":true,\"ticks\":\"\",\"zerolinecolor\":\"#C8D4E3\",\"gridwidth\":2},\"yaxis\":{\"backgroundcolor\":\"rgb(17,17,17)\",\"gridcolor\":\"#506784\",\"linecolor\":\"#506784\",\"showbackground\":true,\"ticks\":\"\",\"zerolinecolor\":\"#C8D4E3\",\"gridwidth\":2},\"zaxis\":{\"backgroundcolor\":\"rgb(17,17,17)\",\"gridcolor\":\"#506784\",\"linecolor\":\"#506784\",\"showbackground\":true,\"ticks\":\"\",\"zerolinecolor\":\"#C8D4E3\",\"gridwidth\":2}},\"shapedefaults\":{\"line\":{\"color\":\"#f2f5fa\"}},\"annotationdefaults\":{\"arrowcolor\":\"#f2f5fa\",\"arrowhead\":0,\"arrowwidth\":1},\"geo\":{\"bgcolor\":\"rgb(17,17,17)\",\"landcolor\":\"rgb(17,17,17)\",\"subunitcolor\":\"#506784\",\"showland\":true,\"showlakes\":true,\"lakecolor\":\"rgb(17,17,17)\"},\"title\":{\"x\":0.05},\"updatemenudefaults\":{\"bgcolor\":\"#506784\",\"borderwidth\":0},\"sliderdefaults\":{\"bgcolor\":\"#C8D4E3\",\"borderwidth\":1,\"bordercolor\":\"rgb(17,17,17)\",\"tickwidth\":0},\"mapbox\":{\"style\":\"dark\"}}},\"xaxis\":{\"anchor\":\"y\",\"domain\":[0.0,1.0],\"title\":{\"text\":\"x\"}},\"yaxis\":{\"anchor\":\"x\",\"domain\":[0.0,1.0],\"title\":{\"text\":\"y\"}},\"legend\":{\"tracegroupgap\":0},\"margin\":{\"t\":60}},                        {\"responsive\": true}                    ).then(function(){\n",
       "                            \n",
       "var gd = document.getElementById('cf96734c-2c2d-4251-b7ca-64f4c7a2f24b');\n",
       "var x = new MutationObserver(function (mutations, observer) {{\n",
       "        var display = window.getComputedStyle(gd).display;\n",
       "        if (!display || display === 'none') {{\n",
       "            console.log([gd, 'removed!']);\n",
       "            Plotly.purge(gd);\n",
       "            observer.disconnect();\n",
       "        }}\n",
       "}});\n",
       "\n",
       "// Listen for the removal of the full notebook cells\n",
       "var notebookContainer = gd.closest('#notebook-container');\n",
       "if (notebookContainer) {{\n",
       "    x.observe(notebookContainer, {childList: true});\n",
       "}}\n",
       "\n",
       "// Listen for the clearing of the current output cell\n",
       "var outputEl = gd.closest('.output');\n",
       "if (outputEl) {{\n",
       "    x.observe(outputEl, {childList: true});\n",
       "}}\n",
       "\n",
       "                        })                };                });            </script>        </div>"
      ]
     },
     "metadata": {},
     "output_type": "display_data"
    }
   ],
   "execution_count": 235
  },
  {
   "metadata": {
    "ExecuteTime": {
     "end_time": "2024-07-29T10:13:08.051288Z",
     "start_time": "2024-07-29T10:13:08.009602Z"
    }
   },
   "cell_type": "code",
   "source": [
    "influence = []\n",
    "for r in results:\n",
    "    sol = r.m / np.sum(r.m, axis=1)[:, None]\n",
    "    influence_ = np.sum(sol, axis=0)\n",
    "    influence.append(influence_)\n",
    "    \n",
    "influence_mean = np.mean(influence, axis=0)\n",
    "influence_std = np.std(influence, axis=0)\n",
    "influence_ci = 1.96 * influence_std / np.sqrt(len(influence))\n",
    "px.scatter(x=np.abs(init_belief-correct_belief), y=influence_mean, error_y=influence_std, labels={'x': 'Initial error', 'y': 'Influence'})"
   ],
   "id": "f69d0b01efdd09ad",
   "outputs": [
    {
     "data": {
      "application/vnd.plotly.v1+json": {
       "data": [
        {
         "error_y": {
          "array": [
           1.011691229957892,
           0.5229557459220776,
           1.544803469669833,
           1.3877697999817376,
           0.8933335367764973,
           0.8033642501165519,
           0.28905154663961047,
           0.7038210651327867
          ]
         },
         "hovertemplate": "Initial error=%{x}<br>Influence=%{y}<extra></extra>",
         "legendgroup": "",
         "marker": {
          "color": "#636efa",
          "symbol": "circle"
         },
         "mode": "markers",
         "name": "",
         "orientation": "v",
         "showlegend": false,
         "x": [
          0.4540722765817481,
          0.6363744914240145,
          0.2618407310303118,
          0.3613785823621808,
          0.24549907577299235,
          0.5871215917592174,
          0.7461447241960508,
          0.5799992753469421
         ],
         "xaxis": "x",
         "y": [
          0.8160441167020113,
          0.19300456944371414,
          2.3227684063621568,
          1.7198107600245756,
          2.1194877506143954,
          0.3706346604784105,
          0.05596139971139971,
          0.4022883366633367
         ],
         "yaxis": "y",
         "type": "scatter"
        }
       ],
       "layout": {
        "template": {
         "data": {
          "histogram2dcontour": [
           {
            "type": "histogram2dcontour",
            "colorbar": {
             "outlinewidth": 0,
             "ticks": ""
            },
            "colorscale": [
             [
              0.0,
              "#0d0887"
             ],
             [
              0.1111111111111111,
              "#46039f"
             ],
             [
              0.2222222222222222,
              "#7201a8"
             ],
             [
              0.3333333333333333,
              "#9c179e"
             ],
             [
              0.4444444444444444,
              "#bd3786"
             ],
             [
              0.5555555555555556,
              "#d8576b"
             ],
             [
              0.6666666666666666,
              "#ed7953"
             ],
             [
              0.7777777777777778,
              "#fb9f3a"
             ],
             [
              0.8888888888888888,
              "#fdca26"
             ],
             [
              1.0,
              "#f0f921"
             ]
            ]
           }
          ],
          "choropleth": [
           {
            "type": "choropleth",
            "colorbar": {
             "outlinewidth": 0,
             "ticks": ""
            }
           }
          ],
          "histogram2d": [
           {
            "type": "histogram2d",
            "colorbar": {
             "outlinewidth": 0,
             "ticks": ""
            },
            "colorscale": [
             [
              0.0,
              "#0d0887"
             ],
             [
              0.1111111111111111,
              "#46039f"
             ],
             [
              0.2222222222222222,
              "#7201a8"
             ],
             [
              0.3333333333333333,
              "#9c179e"
             ],
             [
              0.4444444444444444,
              "#bd3786"
             ],
             [
              0.5555555555555556,
              "#d8576b"
             ],
             [
              0.6666666666666666,
              "#ed7953"
             ],
             [
              0.7777777777777778,
              "#fb9f3a"
             ],
             [
              0.8888888888888888,
              "#fdca26"
             ],
             [
              1.0,
              "#f0f921"
             ]
            ]
           }
          ],
          "heatmap": [
           {
            "type": "heatmap",
            "colorbar": {
             "outlinewidth": 0,
             "ticks": ""
            },
            "colorscale": [
             [
              0.0,
              "#0d0887"
             ],
             [
              0.1111111111111111,
              "#46039f"
             ],
             [
              0.2222222222222222,
              "#7201a8"
             ],
             [
              0.3333333333333333,
              "#9c179e"
             ],
             [
              0.4444444444444444,
              "#bd3786"
             ],
             [
              0.5555555555555556,
              "#d8576b"
             ],
             [
              0.6666666666666666,
              "#ed7953"
             ],
             [
              0.7777777777777778,
              "#fb9f3a"
             ],
             [
              0.8888888888888888,
              "#fdca26"
             ],
             [
              1.0,
              "#f0f921"
             ]
            ]
           }
          ],
          "heatmapgl": [
           {
            "type": "heatmapgl",
            "colorbar": {
             "outlinewidth": 0,
             "ticks": ""
            },
            "colorscale": [
             [
              0.0,
              "#0d0887"
             ],
             [
              0.1111111111111111,
              "#46039f"
             ],
             [
              0.2222222222222222,
              "#7201a8"
             ],
             [
              0.3333333333333333,
              "#9c179e"
             ],
             [
              0.4444444444444444,
              "#bd3786"
             ],
             [
              0.5555555555555556,
              "#d8576b"
             ],
             [
              0.6666666666666666,
              "#ed7953"
             ],
             [
              0.7777777777777778,
              "#fb9f3a"
             ],
             [
              0.8888888888888888,
              "#fdca26"
             ],
             [
              1.0,
              "#f0f921"
             ]
            ]
           }
          ],
          "contourcarpet": [
           {
            "type": "contourcarpet",
            "colorbar": {
             "outlinewidth": 0,
             "ticks": ""
            }
           }
          ],
          "contour": [
           {
            "type": "contour",
            "colorbar": {
             "outlinewidth": 0,
             "ticks": ""
            },
            "colorscale": [
             [
              0.0,
              "#0d0887"
             ],
             [
              0.1111111111111111,
              "#46039f"
             ],
             [
              0.2222222222222222,
              "#7201a8"
             ],
             [
              0.3333333333333333,
              "#9c179e"
             ],
             [
              0.4444444444444444,
              "#bd3786"
             ],
             [
              0.5555555555555556,
              "#d8576b"
             ],
             [
              0.6666666666666666,
              "#ed7953"
             ],
             [
              0.7777777777777778,
              "#fb9f3a"
             ],
             [
              0.8888888888888888,
              "#fdca26"
             ],
             [
              1.0,
              "#f0f921"
             ]
            ]
           }
          ],
          "surface": [
           {
            "type": "surface",
            "colorbar": {
             "outlinewidth": 0,
             "ticks": ""
            },
            "colorscale": [
             [
              0.0,
              "#0d0887"
             ],
             [
              0.1111111111111111,
              "#46039f"
             ],
             [
              0.2222222222222222,
              "#7201a8"
             ],
             [
              0.3333333333333333,
              "#9c179e"
             ],
             [
              0.4444444444444444,
              "#bd3786"
             ],
             [
              0.5555555555555556,
              "#d8576b"
             ],
             [
              0.6666666666666666,
              "#ed7953"
             ],
             [
              0.7777777777777778,
              "#fb9f3a"
             ],
             [
              0.8888888888888888,
              "#fdca26"
             ],
             [
              1.0,
              "#f0f921"
             ]
            ]
           }
          ],
          "mesh3d": [
           {
            "type": "mesh3d",
            "colorbar": {
             "outlinewidth": 0,
             "ticks": ""
            }
           }
          ],
          "scatter": [
           {
            "marker": {
             "line": {
              "color": "#283442"
             }
            },
            "type": "scatter"
           }
          ],
          "parcoords": [
           {
            "type": "parcoords",
            "line": {
             "colorbar": {
              "outlinewidth": 0,
              "ticks": ""
             }
            }
           }
          ],
          "scatterpolargl": [
           {
            "type": "scatterpolargl",
            "marker": {
             "colorbar": {
              "outlinewidth": 0,
              "ticks": ""
             }
            }
           }
          ],
          "bar": [
           {
            "error_x": {
             "color": "#f2f5fa"
            },
            "error_y": {
             "color": "#f2f5fa"
            },
            "marker": {
             "line": {
              "color": "rgb(17,17,17)",
              "width": 0.5
             },
             "pattern": {
              "fillmode": "overlay",
              "size": 10,
              "solidity": 0.2
             }
            },
            "type": "bar"
           }
          ],
          "scattergeo": [
           {
            "type": "scattergeo",
            "marker": {
             "colorbar": {
              "outlinewidth": 0,
              "ticks": ""
             }
            }
           }
          ],
          "scatterpolar": [
           {
            "type": "scatterpolar",
            "marker": {
             "colorbar": {
              "outlinewidth": 0,
              "ticks": ""
             }
            }
           }
          ],
          "histogram": [
           {
            "marker": {
             "pattern": {
              "fillmode": "overlay",
              "size": 10,
              "solidity": 0.2
             }
            },
            "type": "histogram"
           }
          ],
          "scattergl": [
           {
            "marker": {
             "line": {
              "color": "#283442"
             }
            },
            "type": "scattergl"
           }
          ],
          "scatter3d": [
           {
            "type": "scatter3d",
            "line": {
             "colorbar": {
              "outlinewidth": 0,
              "ticks": ""
             }
            },
            "marker": {
             "colorbar": {
              "outlinewidth": 0,
              "ticks": ""
             }
            }
           }
          ],
          "scattermapbox": [
           {
            "type": "scattermapbox",
            "marker": {
             "colorbar": {
              "outlinewidth": 0,
              "ticks": ""
             }
            }
           }
          ],
          "scatterternary": [
           {
            "type": "scatterternary",
            "marker": {
             "colorbar": {
              "outlinewidth": 0,
              "ticks": ""
             }
            }
           }
          ],
          "scattercarpet": [
           {
            "type": "scattercarpet",
            "marker": {
             "colorbar": {
              "outlinewidth": 0,
              "ticks": ""
             }
            }
           }
          ],
          "carpet": [
           {
            "aaxis": {
             "endlinecolor": "#A2B1C6",
             "gridcolor": "#506784",
             "linecolor": "#506784",
             "minorgridcolor": "#506784",
             "startlinecolor": "#A2B1C6"
            },
            "baxis": {
             "endlinecolor": "#A2B1C6",
             "gridcolor": "#506784",
             "linecolor": "#506784",
             "minorgridcolor": "#506784",
             "startlinecolor": "#A2B1C6"
            },
            "type": "carpet"
           }
          ],
          "table": [
           {
            "cells": {
             "fill": {
              "color": "#506784"
             },
             "line": {
              "color": "rgb(17,17,17)"
             }
            },
            "header": {
             "fill": {
              "color": "#2a3f5f"
             },
             "line": {
              "color": "rgb(17,17,17)"
             }
            },
            "type": "table"
           }
          ],
          "barpolar": [
           {
            "marker": {
             "line": {
              "color": "rgb(17,17,17)",
              "width": 0.5
             },
             "pattern": {
              "fillmode": "overlay",
              "size": 10,
              "solidity": 0.2
             }
            },
            "type": "barpolar"
           }
          ],
          "pie": [
           {
            "automargin": true,
            "type": "pie"
           }
          ]
         },
         "layout": {
          "autotypenumbers": "strict",
          "colorway": [
           "#636efa",
           "#EF553B",
           "#00cc96",
           "#ab63fa",
           "#FFA15A",
           "#19d3f3",
           "#FF6692",
           "#B6E880",
           "#FF97FF",
           "#FECB52"
          ],
          "font": {
           "color": "#f2f5fa"
          },
          "hovermode": "closest",
          "hoverlabel": {
           "align": "left"
          },
          "paper_bgcolor": "rgb(17,17,17)",
          "plot_bgcolor": "rgb(17,17,17)",
          "polar": {
           "bgcolor": "rgb(17,17,17)",
           "angularaxis": {
            "gridcolor": "#506784",
            "linecolor": "#506784",
            "ticks": ""
           },
           "radialaxis": {
            "gridcolor": "#506784",
            "linecolor": "#506784",
            "ticks": ""
           }
          },
          "ternary": {
           "bgcolor": "rgb(17,17,17)",
           "aaxis": {
            "gridcolor": "#506784",
            "linecolor": "#506784",
            "ticks": ""
           },
           "baxis": {
            "gridcolor": "#506784",
            "linecolor": "#506784",
            "ticks": ""
           },
           "caxis": {
            "gridcolor": "#506784",
            "linecolor": "#506784",
            "ticks": ""
           }
          },
          "coloraxis": {
           "colorbar": {
            "outlinewidth": 0,
            "ticks": ""
           }
          },
          "colorscale": {
           "sequential": [
            [
             0.0,
             "#0d0887"
            ],
            [
             0.1111111111111111,
             "#46039f"
            ],
            [
             0.2222222222222222,
             "#7201a8"
            ],
            [
             0.3333333333333333,
             "#9c179e"
            ],
            [
             0.4444444444444444,
             "#bd3786"
            ],
            [
             0.5555555555555556,
             "#d8576b"
            ],
            [
             0.6666666666666666,
             "#ed7953"
            ],
            [
             0.7777777777777778,
             "#fb9f3a"
            ],
            [
             0.8888888888888888,
             "#fdca26"
            ],
            [
             1.0,
             "#f0f921"
            ]
           ],
           "sequentialminus": [
            [
             0.0,
             "#0d0887"
            ],
            [
             0.1111111111111111,
             "#46039f"
            ],
            [
             0.2222222222222222,
             "#7201a8"
            ],
            [
             0.3333333333333333,
             "#9c179e"
            ],
            [
             0.4444444444444444,
             "#bd3786"
            ],
            [
             0.5555555555555556,
             "#d8576b"
            ],
            [
             0.6666666666666666,
             "#ed7953"
            ],
            [
             0.7777777777777778,
             "#fb9f3a"
            ],
            [
             0.8888888888888888,
             "#fdca26"
            ],
            [
             1.0,
             "#f0f921"
            ]
           ],
           "diverging": [
            [
             0,
             "#8e0152"
            ],
            [
             0.1,
             "#c51b7d"
            ],
            [
             0.2,
             "#de77ae"
            ],
            [
             0.3,
             "#f1b6da"
            ],
            [
             0.4,
             "#fde0ef"
            ],
            [
             0.5,
             "#f7f7f7"
            ],
            [
             0.6,
             "#e6f5d0"
            ],
            [
             0.7,
             "#b8e186"
            ],
            [
             0.8,
             "#7fbc41"
            ],
            [
             0.9,
             "#4d9221"
            ],
            [
             1,
             "#276419"
            ]
           ]
          },
          "xaxis": {
           "gridcolor": "#283442",
           "linecolor": "#506784",
           "ticks": "",
           "title": {
            "standoff": 15
           },
           "zerolinecolor": "#283442",
           "automargin": true,
           "zerolinewidth": 2
          },
          "yaxis": {
           "gridcolor": "#283442",
           "linecolor": "#506784",
           "ticks": "",
           "title": {
            "standoff": 15
           },
           "zerolinecolor": "#283442",
           "automargin": true,
           "zerolinewidth": 2
          },
          "scene": {
           "xaxis": {
            "backgroundcolor": "rgb(17,17,17)",
            "gridcolor": "#506784",
            "linecolor": "#506784",
            "showbackground": true,
            "ticks": "",
            "zerolinecolor": "#C8D4E3",
            "gridwidth": 2
           },
           "yaxis": {
            "backgroundcolor": "rgb(17,17,17)",
            "gridcolor": "#506784",
            "linecolor": "#506784",
            "showbackground": true,
            "ticks": "",
            "zerolinecolor": "#C8D4E3",
            "gridwidth": 2
           },
           "zaxis": {
            "backgroundcolor": "rgb(17,17,17)",
            "gridcolor": "#506784",
            "linecolor": "#506784",
            "showbackground": true,
            "ticks": "",
            "zerolinecolor": "#C8D4E3",
            "gridwidth": 2
           }
          },
          "shapedefaults": {
           "line": {
            "color": "#f2f5fa"
           }
          },
          "annotationdefaults": {
           "arrowcolor": "#f2f5fa",
           "arrowhead": 0,
           "arrowwidth": 1
          },
          "geo": {
           "bgcolor": "rgb(17,17,17)",
           "landcolor": "rgb(17,17,17)",
           "subunitcolor": "#506784",
           "showland": true,
           "showlakes": true,
           "lakecolor": "rgb(17,17,17)"
          },
          "title": {
           "x": 0.05
          },
          "updatemenudefaults": {
           "bgcolor": "#506784",
           "borderwidth": 0
          },
          "sliderdefaults": {
           "bgcolor": "#C8D4E3",
           "borderwidth": 1,
           "bordercolor": "rgb(17,17,17)",
           "tickwidth": 0
          },
          "mapbox": {
           "style": "dark"
          }
         }
        },
        "xaxis": {
         "anchor": "y",
         "domain": [
          0.0,
          1.0
         ],
         "title": {
          "text": "Initial error"
         }
        },
        "yaxis": {
         "anchor": "x",
         "domain": [
          0.0,
          1.0
         ],
         "title": {
          "text": "Influence"
         }
        },
        "legend": {
         "tracegroupgap": 0
        },
        "margin": {
         "t": 60
        }
       },
       "config": {
        "plotlyServerURL": "https://plot.ly"
       }
      },
      "text/html": [
       "<div>                            <div id=\"081984da-8904-4409-86d8-178dce30586b\" class=\"plotly-graph-div\" style=\"height:525px; width:100%;\"></div>            <script type=\"text/javascript\">                require([\"plotly\"], function(Plotly) {                    window.PLOTLYENV=window.PLOTLYENV || {};                                    if (document.getElementById(\"081984da-8904-4409-86d8-178dce30586b\")) {                    Plotly.newPlot(                        \"081984da-8904-4409-86d8-178dce30586b\",                        [{\"error_y\":{\"array\":[1.011691229957892,0.5229557459220776,1.544803469669833,1.3877697999817376,0.8933335367764973,0.8033642501165519,0.28905154663961047,0.7038210651327867]},\"hovertemplate\":\"Initial error=%{x}\\u003cbr\\u003eInfluence=%{y}\\u003cextra\\u003e\\u003c\\u002fextra\\u003e\",\"legendgroup\":\"\",\"marker\":{\"color\":\"#636efa\",\"symbol\":\"circle\"},\"mode\":\"markers\",\"name\":\"\",\"orientation\":\"v\",\"showlegend\":false,\"x\":[0.4540722765817481,0.6363744914240145,0.2618407310303118,0.3613785823621808,0.24549907577299235,0.5871215917592174,0.7461447241960508,0.5799992753469421],\"xaxis\":\"x\",\"y\":[0.8160441167020113,0.19300456944371414,2.3227684063621568,1.7198107600245756,2.1194877506143954,0.3706346604784105,0.05596139971139971,0.4022883366633367],\"yaxis\":\"y\",\"type\":\"scatter\"}],                        {\"template\":{\"data\":{\"histogram2dcontour\":[{\"type\":\"histogram2dcontour\",\"colorbar\":{\"outlinewidth\":0,\"ticks\":\"\"},\"colorscale\":[[0.0,\"#0d0887\"],[0.1111111111111111,\"#46039f\"],[0.2222222222222222,\"#7201a8\"],[0.3333333333333333,\"#9c179e\"],[0.4444444444444444,\"#bd3786\"],[0.5555555555555556,\"#d8576b\"],[0.6666666666666666,\"#ed7953\"],[0.7777777777777778,\"#fb9f3a\"],[0.8888888888888888,\"#fdca26\"],[1.0,\"#f0f921\"]]}],\"choropleth\":[{\"type\":\"choropleth\",\"colorbar\":{\"outlinewidth\":0,\"ticks\":\"\"}}],\"histogram2d\":[{\"type\":\"histogram2d\",\"colorbar\":{\"outlinewidth\":0,\"ticks\":\"\"},\"colorscale\":[[0.0,\"#0d0887\"],[0.1111111111111111,\"#46039f\"],[0.2222222222222222,\"#7201a8\"],[0.3333333333333333,\"#9c179e\"],[0.4444444444444444,\"#bd3786\"],[0.5555555555555556,\"#d8576b\"],[0.6666666666666666,\"#ed7953\"],[0.7777777777777778,\"#fb9f3a\"],[0.8888888888888888,\"#fdca26\"],[1.0,\"#f0f921\"]]}],\"heatmap\":[{\"type\":\"heatmap\",\"colorbar\":{\"outlinewidth\":0,\"ticks\":\"\"},\"colorscale\":[[0.0,\"#0d0887\"],[0.1111111111111111,\"#46039f\"],[0.2222222222222222,\"#7201a8\"],[0.3333333333333333,\"#9c179e\"],[0.4444444444444444,\"#bd3786\"],[0.5555555555555556,\"#d8576b\"],[0.6666666666666666,\"#ed7953\"],[0.7777777777777778,\"#fb9f3a\"],[0.8888888888888888,\"#fdca26\"],[1.0,\"#f0f921\"]]}],\"heatmapgl\":[{\"type\":\"heatmapgl\",\"colorbar\":{\"outlinewidth\":0,\"ticks\":\"\"},\"colorscale\":[[0.0,\"#0d0887\"],[0.1111111111111111,\"#46039f\"],[0.2222222222222222,\"#7201a8\"],[0.3333333333333333,\"#9c179e\"],[0.4444444444444444,\"#bd3786\"],[0.5555555555555556,\"#d8576b\"],[0.6666666666666666,\"#ed7953\"],[0.7777777777777778,\"#fb9f3a\"],[0.8888888888888888,\"#fdca26\"],[1.0,\"#f0f921\"]]}],\"contourcarpet\":[{\"type\":\"contourcarpet\",\"colorbar\":{\"outlinewidth\":0,\"ticks\":\"\"}}],\"contour\":[{\"type\":\"contour\",\"colorbar\":{\"outlinewidth\":0,\"ticks\":\"\"},\"colorscale\":[[0.0,\"#0d0887\"],[0.1111111111111111,\"#46039f\"],[0.2222222222222222,\"#7201a8\"],[0.3333333333333333,\"#9c179e\"],[0.4444444444444444,\"#bd3786\"],[0.5555555555555556,\"#d8576b\"],[0.6666666666666666,\"#ed7953\"],[0.7777777777777778,\"#fb9f3a\"],[0.8888888888888888,\"#fdca26\"],[1.0,\"#f0f921\"]]}],\"surface\":[{\"type\":\"surface\",\"colorbar\":{\"outlinewidth\":0,\"ticks\":\"\"},\"colorscale\":[[0.0,\"#0d0887\"],[0.1111111111111111,\"#46039f\"],[0.2222222222222222,\"#7201a8\"],[0.3333333333333333,\"#9c179e\"],[0.4444444444444444,\"#bd3786\"],[0.5555555555555556,\"#d8576b\"],[0.6666666666666666,\"#ed7953\"],[0.7777777777777778,\"#fb9f3a\"],[0.8888888888888888,\"#fdca26\"],[1.0,\"#f0f921\"]]}],\"mesh3d\":[{\"type\":\"mesh3d\",\"colorbar\":{\"outlinewidth\":0,\"ticks\":\"\"}}],\"scatter\":[{\"marker\":{\"line\":{\"color\":\"#283442\"}},\"type\":\"scatter\"}],\"parcoords\":[{\"type\":\"parcoords\",\"line\":{\"colorbar\":{\"outlinewidth\":0,\"ticks\":\"\"}}}],\"scatterpolargl\":[{\"type\":\"scatterpolargl\",\"marker\":{\"colorbar\":{\"outlinewidth\":0,\"ticks\":\"\"}}}],\"bar\":[{\"error_x\":{\"color\":\"#f2f5fa\"},\"error_y\":{\"color\":\"#f2f5fa\"},\"marker\":{\"line\":{\"color\":\"rgb(17,17,17)\",\"width\":0.5},\"pattern\":{\"fillmode\":\"overlay\",\"size\":10,\"solidity\":0.2}},\"type\":\"bar\"}],\"scattergeo\":[{\"type\":\"scattergeo\",\"marker\":{\"colorbar\":{\"outlinewidth\":0,\"ticks\":\"\"}}}],\"scatterpolar\":[{\"type\":\"scatterpolar\",\"marker\":{\"colorbar\":{\"outlinewidth\":0,\"ticks\":\"\"}}}],\"histogram\":[{\"marker\":{\"pattern\":{\"fillmode\":\"overlay\",\"size\":10,\"solidity\":0.2}},\"type\":\"histogram\"}],\"scattergl\":[{\"marker\":{\"line\":{\"color\":\"#283442\"}},\"type\":\"scattergl\"}],\"scatter3d\":[{\"type\":\"scatter3d\",\"line\":{\"colorbar\":{\"outlinewidth\":0,\"ticks\":\"\"}},\"marker\":{\"colorbar\":{\"outlinewidth\":0,\"ticks\":\"\"}}}],\"scattermapbox\":[{\"type\":\"scattermapbox\",\"marker\":{\"colorbar\":{\"outlinewidth\":0,\"ticks\":\"\"}}}],\"scatterternary\":[{\"type\":\"scatterternary\",\"marker\":{\"colorbar\":{\"outlinewidth\":0,\"ticks\":\"\"}}}],\"scattercarpet\":[{\"type\":\"scattercarpet\",\"marker\":{\"colorbar\":{\"outlinewidth\":0,\"ticks\":\"\"}}}],\"carpet\":[{\"aaxis\":{\"endlinecolor\":\"#A2B1C6\",\"gridcolor\":\"#506784\",\"linecolor\":\"#506784\",\"minorgridcolor\":\"#506784\",\"startlinecolor\":\"#A2B1C6\"},\"baxis\":{\"endlinecolor\":\"#A2B1C6\",\"gridcolor\":\"#506784\",\"linecolor\":\"#506784\",\"minorgridcolor\":\"#506784\",\"startlinecolor\":\"#A2B1C6\"},\"type\":\"carpet\"}],\"table\":[{\"cells\":{\"fill\":{\"color\":\"#506784\"},\"line\":{\"color\":\"rgb(17,17,17)\"}},\"header\":{\"fill\":{\"color\":\"#2a3f5f\"},\"line\":{\"color\":\"rgb(17,17,17)\"}},\"type\":\"table\"}],\"barpolar\":[{\"marker\":{\"line\":{\"color\":\"rgb(17,17,17)\",\"width\":0.5},\"pattern\":{\"fillmode\":\"overlay\",\"size\":10,\"solidity\":0.2}},\"type\":\"barpolar\"}],\"pie\":[{\"automargin\":true,\"type\":\"pie\"}]},\"layout\":{\"autotypenumbers\":\"strict\",\"colorway\":[\"#636efa\",\"#EF553B\",\"#00cc96\",\"#ab63fa\",\"#FFA15A\",\"#19d3f3\",\"#FF6692\",\"#B6E880\",\"#FF97FF\",\"#FECB52\"],\"font\":{\"color\":\"#f2f5fa\"},\"hovermode\":\"closest\",\"hoverlabel\":{\"align\":\"left\"},\"paper_bgcolor\":\"rgb(17,17,17)\",\"plot_bgcolor\":\"rgb(17,17,17)\",\"polar\":{\"bgcolor\":\"rgb(17,17,17)\",\"angularaxis\":{\"gridcolor\":\"#506784\",\"linecolor\":\"#506784\",\"ticks\":\"\"},\"radialaxis\":{\"gridcolor\":\"#506784\",\"linecolor\":\"#506784\",\"ticks\":\"\"}},\"ternary\":{\"bgcolor\":\"rgb(17,17,17)\",\"aaxis\":{\"gridcolor\":\"#506784\",\"linecolor\":\"#506784\",\"ticks\":\"\"},\"baxis\":{\"gridcolor\":\"#506784\",\"linecolor\":\"#506784\",\"ticks\":\"\"},\"caxis\":{\"gridcolor\":\"#506784\",\"linecolor\":\"#506784\",\"ticks\":\"\"}},\"coloraxis\":{\"colorbar\":{\"outlinewidth\":0,\"ticks\":\"\"}},\"colorscale\":{\"sequential\":[[0.0,\"#0d0887\"],[0.1111111111111111,\"#46039f\"],[0.2222222222222222,\"#7201a8\"],[0.3333333333333333,\"#9c179e\"],[0.4444444444444444,\"#bd3786\"],[0.5555555555555556,\"#d8576b\"],[0.6666666666666666,\"#ed7953\"],[0.7777777777777778,\"#fb9f3a\"],[0.8888888888888888,\"#fdca26\"],[1.0,\"#f0f921\"]],\"sequentialminus\":[[0.0,\"#0d0887\"],[0.1111111111111111,\"#46039f\"],[0.2222222222222222,\"#7201a8\"],[0.3333333333333333,\"#9c179e\"],[0.4444444444444444,\"#bd3786\"],[0.5555555555555556,\"#d8576b\"],[0.6666666666666666,\"#ed7953\"],[0.7777777777777778,\"#fb9f3a\"],[0.8888888888888888,\"#fdca26\"],[1.0,\"#f0f921\"]],\"diverging\":[[0,\"#8e0152\"],[0.1,\"#c51b7d\"],[0.2,\"#de77ae\"],[0.3,\"#f1b6da\"],[0.4,\"#fde0ef\"],[0.5,\"#f7f7f7\"],[0.6,\"#e6f5d0\"],[0.7,\"#b8e186\"],[0.8,\"#7fbc41\"],[0.9,\"#4d9221\"],[1,\"#276419\"]]},\"xaxis\":{\"gridcolor\":\"#283442\",\"linecolor\":\"#506784\",\"ticks\":\"\",\"title\":{\"standoff\":15},\"zerolinecolor\":\"#283442\",\"automargin\":true,\"zerolinewidth\":2},\"yaxis\":{\"gridcolor\":\"#283442\",\"linecolor\":\"#506784\",\"ticks\":\"\",\"title\":{\"standoff\":15},\"zerolinecolor\":\"#283442\",\"automargin\":true,\"zerolinewidth\":2},\"scene\":{\"xaxis\":{\"backgroundcolor\":\"rgb(17,17,17)\",\"gridcolor\":\"#506784\",\"linecolor\":\"#506784\",\"showbackground\":true,\"ticks\":\"\",\"zerolinecolor\":\"#C8D4E3\",\"gridwidth\":2},\"yaxis\":{\"backgroundcolor\":\"rgb(17,17,17)\",\"gridcolor\":\"#506784\",\"linecolor\":\"#506784\",\"showbackground\":true,\"ticks\":\"\",\"zerolinecolor\":\"#C8D4E3\",\"gridwidth\":2},\"zaxis\":{\"backgroundcolor\":\"rgb(17,17,17)\",\"gridcolor\":\"#506784\",\"linecolor\":\"#506784\",\"showbackground\":true,\"ticks\":\"\",\"zerolinecolor\":\"#C8D4E3\",\"gridwidth\":2}},\"shapedefaults\":{\"line\":{\"color\":\"#f2f5fa\"}},\"annotationdefaults\":{\"arrowcolor\":\"#f2f5fa\",\"arrowhead\":0,\"arrowwidth\":1},\"geo\":{\"bgcolor\":\"rgb(17,17,17)\",\"landcolor\":\"rgb(17,17,17)\",\"subunitcolor\":\"#506784\",\"showland\":true,\"showlakes\":true,\"lakecolor\":\"rgb(17,17,17)\"},\"title\":{\"x\":0.05},\"updatemenudefaults\":{\"bgcolor\":\"#506784\",\"borderwidth\":0},\"sliderdefaults\":{\"bgcolor\":\"#C8D4E3\",\"borderwidth\":1,\"bordercolor\":\"rgb(17,17,17)\",\"tickwidth\":0},\"mapbox\":{\"style\":\"dark\"}}},\"xaxis\":{\"anchor\":\"y\",\"domain\":[0.0,1.0],\"title\":{\"text\":\"Initial error\"}},\"yaxis\":{\"anchor\":\"x\",\"domain\":[0.0,1.0],\"title\":{\"text\":\"Influence\"}},\"legend\":{\"tracegroupgap\":0},\"margin\":{\"t\":60}},                        {\"responsive\": true}                    ).then(function(){\n",
       "                            \n",
       "var gd = document.getElementById('081984da-8904-4409-86d8-178dce30586b');\n",
       "var x = new MutationObserver(function (mutations, observer) {{\n",
       "        var display = window.getComputedStyle(gd).display;\n",
       "        if (!display || display === 'none') {{\n",
       "            console.log([gd, 'removed!']);\n",
       "            Plotly.purge(gd);\n",
       "            observer.disconnect();\n",
       "        }}\n",
       "}});\n",
       "\n",
       "// Listen for the removal of the full notebook cells\n",
       "var notebookContainer = gd.closest('#notebook-container');\n",
       "if (notebookContainer) {{\n",
       "    x.observe(notebookContainer, {childList: true});\n",
       "}}\n",
       "\n",
       "// Listen for the clearing of the current output cell\n",
       "var outputEl = gd.closest('.output');\n",
       "if (outputEl) {{\n",
       "    x.observe(outputEl, {childList: true});\n",
       "}}\n",
       "\n",
       "                        })                };                });            </script>        </div>"
      ]
     },
     "metadata": {},
     "output_type": "display_data"
    }
   ],
   "execution_count": 236
  },
  {
   "metadata": {
    "ExecuteTime": {
     "end_time": "2024-07-29T10:13:08.138530Z",
     "start_time": "2024-07-29T10:13:08.051993Z"
    }
   },
   "cell_type": "code",
   "source": [
    "belief_evol = []\n",
    "did_not_converge = 0\n",
    "total = 0\n",
    "for i, r in enumerate(results):\n",
    "    for t in r.trajectory:\n",
    "        total += 1\n",
    "        belief = r.trajectory[t]['final_belief']\n",
    "        if np.max(sp.spatial.distance.pdist(belief.reshape(-1,1), metric='euclidean')) > 1e-5:\n",
    "            did_not_converge += 1\n",
    "\n",
    "        belief_evol.append({'belief': np.mean(belief), 'result': f'Res{i}', 'iteration': t})\n",
    "\n",
    "print('Did not converge share:', did_not_converge / total)\n",
    "belief_evol = pd.DataFrame(belief_evol).sort_values('belief', ascending=False)\n",
    "fig = px.scatter(belief_evol, x='iteration', y='belief', color='result', render_mode='svg')\n",
    "fig.add_trace(go.Scatter(x=[0, belief_evol['iteration'].max()], y=[correct_belief, correct_belief], mode='lines', name='Correct belief'))\n",
    "fig.show()"
   ],
   "id": "85b41101121fbf0",
   "outputs": [
    {
     "name": "stdout",
     "output_type": "stream",
     "text": [
      "Did not converge share: 1.0\n"
     ]
    },
    {
     "data": {
      "application/vnd.plotly.v1+json": {
       "data": [
        {
         "hovertemplate": "result=Res3<br>iteration=%{x}<br>belief=%{y}<extra></extra>",
         "legendgroup": "Res3",
         "marker": {
          "color": "#636efa",
          "symbol": "circle"
         },
         "mode": "markers",
         "name": "Res3",
         "orientation": "v",
         "showlegend": true,
         "x": [
          48,
          42,
          37,
          34,
          31,
          30,
          29,
          28,
          25,
          24,
          23,
          22,
          21,
          19,
          16,
          15,
          14,
          13,
          12,
          10,
          8,
          5,
          4,
          0
         ],
         "xaxis": "x",
         "y": [
          0.5507681205335575,
          0.5502375473109172,
          0.5500805540307115,
          0.5497073211851208,
          0.5494979968115131,
          0.5441948838269535,
          0.5408331112254395,
          0.5385877955109419,
          0.5353422719587428,
          0.5330969562442454,
          0.5300959885181133,
          0.5267973353693025,
          0.4436182648955811,
          0.4420224854936452,
          0.43929426046571984,
          0.435351758003723,
          0.4349243537666615,
          0.43484245781027975,
          0.434760561853898,
          0.43022499846670503,
          0.42615265389203094,
          0.4251840653573892,
          0.40065112221754007,
          0.3617002695036788
         ],
         "yaxis": "y",
         "type": "scatter"
        },
        {
         "hovertemplate": "result=Res37<br>iteration=%{x}<br>belief=%{y}<extra></extra>",
         "legendgroup": "Res37",
         "marker": {
          "color": "#EF553B",
          "symbol": "circle"
         },
         "mode": "markers",
         "name": "Res37",
         "orientation": "v",
         "showlegend": true,
         "x": [
          27,
          25,
          24,
          23,
          21,
          16,
          15,
          14,
          12,
          11,
          8,
          7,
          6,
          4,
          2,
          1,
          0
         ],
         "xaxis": "x",
         "y": [
          0.5504155104126778,
          0.5500750592614836,
          0.5497346081102895,
          0.5493941569590953,
          0.5490537058079012,
          0.508393598216788,
          0.5028031029098881,
          0.4960264183113691,
          0.4845157560214964,
          0.4731584088465539,
          0.4647965453675027,
          0.4431154691385084,
          0.4153530548633896,
          0.38884554253809867,
          0.34787880438399343,
          0.3276586035538746,
          0.3090427429312702
         ],
         "yaxis": "y",
         "type": "scatter"
        },
        {
         "hovertemplate": "result=Res17<br>iteration=%{x}<br>belief=%{y}<extra></extra>",
         "legendgroup": "Res17",
         "marker": {
          "color": "#00cc96",
          "symbol": "circle"
         },
         "mode": "markers",
         "name": "Res17",
         "orientation": "v",
         "showlegend": true,
         "x": [
          40,
          38,
          35,
          32,
          29,
          27,
          26,
          23,
          22,
          21,
          20,
          19,
          17,
          16,
          14,
          8,
          7,
          6,
          4,
          3,
          2,
          1,
          0
         ],
         "xaxis": "x",
         "y": [
          0.5500750592614836,
          0.5495076406761601,
          0.5489969639493688,
          0.5489402220908365,
          0.5475216756275275,
          0.5455769532729695,
          0.5272850556283539,
          0.5253403332737958,
          0.5236225783533672,
          0.5098495406610226,
          0.509068401749185,
          0.505957843895064,
          0.4913803157474225,
          0.48591234336455924,
          0.4791518046574529,
          0.4623827526114145,
          0.45023625889454855,
          0.44533716901735965,
          0.4091805577498437,
          0.33996066994460794,
          0.33059793284512107,
          0.30962510217258676,
          0.29907300501417255
         ],
         "yaxis": "y",
         "type": "scatter"
        },
        {
         "hovertemplate": "result=Res12<br>iteration=%{x}<br>belief=%{y}<extra></extra>",
         "legendgroup": "Res12",
         "marker": {
          "color": "#ab63fa",
          "symbol": "circle"
         },
         "mode": "markers",
         "name": "Res12",
         "orientation": "v",
         "showlegend": true,
         "x": [
          28,
          26,
          24,
          21,
          19,
          17,
          16,
          15,
          14,
          13,
          11,
          10,
          9,
          8,
          7,
          6,
          4,
          3,
          2,
          1,
          0
         ],
         "xaxis": "x",
         "y": [
          0.5494468458277326,
          0.5488794272424089,
          0.5482094327298855,
          0.547427772465275,
          0.5467559955614528,
          0.5461524564646341,
          0.5458545617073391,
          0.5445778698903612,
          0.5070060131042288,
          0.5017730629487924,
          0.49314554043550474,
          0.4893949813081888,
          0.48137099789171983,
          0.4798127642256188,
          0.4614956202234359,
          0.4487211451919487,
          0.4386889580993934,
          0.4325539634898209,
          0.39248563651101587,
          0.35219399508963356,
          0.3073879280433978
         ],
         "yaxis": "y",
         "type": "scatter"
        },
        {
         "hovertemplate": "result=Res5<br>iteration=%{x}<br>belief=%{y}<extra></extra>",
         "legendgroup": "Res5",
         "marker": {
          "color": "#FFA15A",
          "symbol": "circle"
         },
         "mode": "markers",
         "name": "Res5",
         "orientation": "v",
         "showlegend": true,
         "x": [
          40,
          36,
          33,
          31,
          26,
          25,
          24,
          23,
          20,
          19,
          16,
          15,
          14,
          13,
          12,
          10,
          9,
          8,
          7,
          6,
          4,
          3,
          2,
          1,
          0
         ],
         "xaxis": "x",
         "y": [
          0.5487506028214998,
          0.5487068009566909,
          0.5486778568413577,
          0.5485827612057947,
          0.5485275540287831,
          0.5481762277340507,
          0.5474953254316623,
          0.54647397197808,
          0.5447717162221092,
          0.5442171225022093,
          0.5420131341700213,
          0.5415365025583494,
          0.5394675119533395,
          0.5323327459991631,
          0.506740749271635,
          0.5032894686268325,
          0.4960145384074389,
          0.4959593964525073,
          0.4810196123852923,
          0.4794338008287653,
          0.46353942314328217,
          0.4361124504912135,
          0.41608596411272736,
          0.3851306626612022,
          0.3405731654632319
         ],
         "yaxis": "y",
         "type": "scatter"
        },
        {
         "hovertemplate": "result=Res16<br>iteration=%{x}<br>belief=%{y}<extra></extra>",
         "legendgroup": "Res16",
         "marker": {
          "color": "#19d3f3",
          "symbol": "circle"
         },
         "mode": "markers",
         "name": "Res16",
         "orientation": "v",
         "showlegend": true,
         "x": [
          20,
          16,
          15,
          13,
          12,
          10,
          9,
          8,
          6,
          5,
          1,
          0
         ],
         "xaxis": "x",
         "y": [
          0.5475216756275275,
          0.543752202442695,
          0.516793265392151,
          0.5087460774345685,
          0.49409091353532286,
          0.48560959886944943,
          0.47740502227622245,
          0.46759142916870544,
          0.4543244469070684,
          0.38633675269286005,
          0.3739802096652971,
          0.3199390462637065
         ],
         "yaxis": "y",
         "type": "scatter"
        },
        {
         "hovertemplate": "result=Res9<br>iteration=%{x}<br>belief=%{y}<extra></extra>",
         "legendgroup": "Res9",
         "marker": {
          "color": "#FF6692",
          "symbol": "circle"
         },
         "mode": "markers",
         "name": "Res9",
         "orientation": "v",
         "showlegend": true,
         "x": [
          47,
          37,
          32,
          21,
          20,
          15,
          14,
          13,
          12,
          11,
          9,
          8,
          7,
          6,
          5,
          4,
          3,
          2,
          1,
          0
         ],
         "xaxis": "x",
         "y": [
          0.5452811071620268,
          0.5452191989153419,
          0.5448555432230342,
          0.540853796886446,
          0.5403688991893538,
          0.5393980738029069,
          0.537022599018417,
          0.5345575925860491,
          0.5307221469602563,
          0.4975024676224974,
          0.49639401654782644,
          0.4941757295396698,
          0.47956091574781556,
          0.4535565342575316,
          0.45243519531099496,
          0.43608111713335407,
          0.3712564897750746,
          0.3405900421067326,
          0.285545372129693,
          0.26734495327848784
         ],
         "yaxis": "y",
         "type": "scatter"
        },
        {
         "hovertemplate": "result=Res4<br>iteration=%{x}<br>belief=%{y}<extra></extra>",
         "legendgroup": "Res4",
         "marker": {
          "color": "#B6E880",
          "symbol": "circle"
         },
         "mode": "markers",
         "name": "Res4",
         "orientation": "v",
         "showlegend": true,
         "x": [
          32,
          25,
          24,
          23,
          16,
          11,
          9,
          8,
          7,
          5,
          4,
          3,
          2,
          1,
          0
         ],
         "xaxis": "x",
         "y": [
          0.5410189139669341,
          0.5383984235486327,
          0.5383736602499587,
          0.5373557314082232,
          0.5368552272164834,
          0.5357203900458362,
          0.5301601662197556,
          0.5265104687765562,
          0.5165029184586667,
          0.4796429484200566,
          0.4422527056890212,
          0.421885257171705,
          0.39477352872313276,
          0.3517570319459575,
          0.30212470869285524
         ],
         "yaxis": "y",
         "type": "scatter"
        },
        {
         "hovertemplate": "result=Res29<br>iteration=%{x}<br>belief=%{y}<extra></extra>",
         "legendgroup": "Res29",
         "marker": {
          "color": "#FF97FF",
          "symbol": "circle"
         },
         "mode": "markers",
         "name": "Res29",
         "orientation": "v",
         "showlegend": true,
         "x": [
          35,
          29,
          27,
          24,
          23,
          22,
          18,
          16,
          15,
          14,
          12,
          10,
          9,
          8,
          7,
          6,
          5,
          4,
          3,
          2,
          1,
          0
         ],
         "xaxis": "x",
         "y": [
          0.5376339239634884,
          0.5375808597520441,
          0.5371226468177369,
          0.5356916581954052,
          0.5353540089993586,
          0.5352921007526736,
          0.5349427929360749,
          0.5314714824376885,
          0.5215575681008986,
          0.512018786390834,
          0.4958558875699201,
          0.49040547085883307,
          0.4899920658895259,
          0.4784794671413715,
          0.4388390821029049,
          0.4301247920613339,
          0.40732186735059467,
          0.40045645500947197,
          0.37411476916499364,
          0.3482109009517948,
          0.3394851190905319,
          0.31054580212132094
         ],
         "yaxis": "y",
         "type": "scatter"
        },
        {
         "hovertemplate": "result=Res47<br>iteration=%{x}<br>belief=%{y}<extra></extra>",
         "legendgroup": "Res47",
         "marker": {
          "color": "#FECB52",
          "symbol": "circle"
         },
         "mode": "markers",
         "name": "Res47",
         "orientation": "v",
         "showlegend": true,
         "x": [
          28,
          24,
          22,
          17,
          15,
          14,
          13,
          12,
          11,
          10,
          9,
          8,
          7,
          6,
          5,
          4,
          3,
          2,
          1,
          0
         ],
         "xaxis": "x",
         "y": [
          0.5367572027560149,
          0.5366295335743171,
          0.5363316388170223,
          0.5339495514602451,
          0.5335497346613312,
          0.5298567130117771,
          0.527448909247846,
          0.5231659575236863,
          0.5211362130909838,
          0.5135893364566371,
          0.4999640677269548,
          0.4897374447548476,
          0.47806367359549695,
          0.4663743663428283,
          0.44687182263694347,
          0.4307931560076811,
          0.40866780121692076,
          0.3473717565671376,
          0.3258431949175986,
          0.30937689665729123
         ],
         "yaxis": "y",
         "type": "scatter"
        },
        {
         "hovertemplate": "result=Res34<br>iteration=%{x}<br>belief=%{y}<extra></extra>",
         "legendgroup": "Res34",
         "marker": {
          "color": "#636efa",
          "symbol": "circle"
         },
         "mode": "markers",
         "name": "Res34",
         "orientation": "v",
         "showlegend": true,
         "x": [
          44,
          34,
          31,
          30,
          28,
          24,
          23,
          22,
          21,
          20,
          17,
          16,
          15,
          14,
          13,
          11,
          8,
          7,
          6,
          5,
          4,
          3,
          2,
          1,
          0
         ],
         "xaxis": "x",
         "y": [
          0.5364107993002829,
          0.5362583096454514,
          0.5354128812049507,
          0.5346293436495337,
          0.5333655481783457,
          0.5324684101386481,
          0.5308859041060789,
          0.5293026686663692,
          0.5280602706669228,
          0.5260972695624191,
          0.5028206485213594,
          0.502591785647756,
          0.4928862341474623,
          0.490161872338557,
          0.47217916226943774,
          0.46171860808596615,
          0.4208371993327012,
          0.4100970508415416,
          0.39789245654041333,
          0.37927573341463655,
          0.3688410326934015,
          0.34790812259102294,
          0.32572520087420653,
          0.29810978460962756,
          0.2940614537467484
         ],
         "yaxis": "y",
         "type": "scatter"
        },
        {
         "hovertemplate": "result=Res24<br>iteration=%{x}<br>belief=%{y}<extra></extra>",
         "legendgroup": "Res24",
         "marker": {
          "color": "#EF553B",
          "symbol": "circle"
         },
         "mode": "markers",
         "name": "Res24",
         "orientation": "v",
         "showlegend": true,
         "x": [
          32,
          28,
          22,
          19,
          18,
          17,
          15,
          14,
          13,
          12,
          10,
          9,
          8,
          7,
          6,
          5,
          4,
          3,
          2,
          1,
          0
         ],
         "xaxis": "x",
         "y": [
          0.5362478141386975,
          0.5361243951433339,
          0.5359299023411384,
          0.5355639173536046,
          0.5344512990296876,
          0.5339517490435077,
          0.530807018609785,
          0.5286278567646369,
          0.5133346533256289,
          0.5132302177106942,
          0.5082495409349512,
          0.5065131171412385,
          0.5003817964865309,
          0.4631757156813544,
          0.4409363785878948,
          0.416278415317511,
          0.3803477845307339,
          0.3429988393408152,
          0.33570744493507076,
          0.3015405431869536,
          0.30020373182587257
         ],
         "yaxis": "y",
         "type": "scatter"
        },
        {
         "hovertemplate": "result=Res43<br>iteration=%{x}<br>belief=%{y}<extra></extra>",
         "legendgroup": "Res43",
         "marker": {
          "color": "#00cc96",
          "symbol": "circle"
         },
         "mode": "markers",
         "name": "Res43",
         "orientation": "v",
         "showlegend": true,
         "x": [
          63,
          55,
          52,
          43,
          41,
          35,
          32,
          31,
          23,
          22,
          21,
          19,
          15,
          14,
          13,
          11,
          10,
          9,
          8,
          7,
          5,
          4,
          2,
          1,
          0
         ],
         "xaxis": "x",
         "y": [
          0.5355119583750239,
          0.534718151885946,
          0.5344991662727987,
          0.5338119185363319,
          0.5337843876292575,
          0.5333015816350979,
          0.5331380379452844,
          0.5298515250733887,
          0.5284723787461418,
          0.5230374288914577,
          0.5218467771798014,
          0.5161301795099339,
          0.5155215240759901,
          0.49287035896291237,
          0.47717621722645376,
          0.45986059487729763,
          0.4425449725281415,
          0.43417193205430504,
          0.417399055029395,
          0.38385267408663437,
          0.37212636321559334,
          0.36414795841341885,
          0.332707919411594,
          0.32144999084934245,
          0.3087531223861867
         ],
         "yaxis": "y",
         "type": "scatter"
        },
        {
         "hovertemplate": "result=Res45<br>iteration=%{x}<br>belief=%{y}<extra></extra>",
         "legendgroup": "Res45",
         "marker": {
          "color": "#ab63fa",
          "symbol": "circle"
         },
         "mode": "markers",
         "name": "Res45",
         "orientation": "v",
         "showlegend": true,
         "x": [
          44,
          41,
          38,
          35,
          31,
          28,
          26,
          22,
          20,
          19,
          17,
          16,
          15,
          14,
          13,
          12,
          11,
          10,
          8,
          7,
          6,
          5,
          4,
          3,
          2,
          1,
          0
         ],
         "xaxis": "x",
         "y": [
          0.5352723631443097,
          0.5352675391250874,
          0.5350973135494903,
          0.5350117181780827,
          0.5347985561586215,
          0.5343225538882665,
          0.5340992641012252,
          0.533088995999315,
          0.5249000237159276,
          0.5231989142361831,
          0.5231900702009424,
          0.5213404131343076,
          0.5190637880393427,
          0.5101039017855482,
          0.5086771318801417,
          0.5059964804840871,
          0.4962855398003261,
          0.48498922173144143,
          0.46602913607165314,
          0.4187358694371991,
          0.40081795527472686,
          0.39417893933112097,
          0.3925094230728136,
          0.3770264697050262,
          0.36646723086277516,
          0.3374197909119564,
          0.3218205417350764
         ],
         "yaxis": "y",
         "type": "scatter"
        },
        {
         "hovertemplate": "result=Res39<br>iteration=%{x}<br>belief=%{y}<extra></extra>",
         "legendgroup": "Res39",
         "marker": {
          "color": "#FFA15A",
          "symbol": "circle"
         },
         "mode": "markers",
         "name": "Res39",
         "orientation": "v",
         "showlegend": true,
         "x": [
          40,
          37,
          32,
          28,
          27,
          26,
          24,
          23,
          22,
          16,
          15,
          14,
          13,
          12,
          11,
          10,
          9,
          8,
          7,
          6,
          5,
          4,
          3,
          2,
          1,
          0
         ],
         "xaxis": "x",
         "y": [
          0.5344092418422647,
          0.5276902008698814,
          0.527166958490877,
          0.5205545052350612,
          0.5178828262367746,
          0.5176065548904635,
          0.5174675003976521,
          0.5168530721393134,
          0.5149375115031369,
          0.512857825159144,
          0.5106777780298846,
          0.5081701407614811,
          0.47821469472811684,
          0.4726834898980436,
          0.45981187237612114,
          0.44579042521603995,
          0.4352386099705796,
          0.4142526334320744,
          0.392526296668106,
          0.3821645141901435,
          0.3734166707575176,
          0.3718997128928042,
          0.3620485121037389,
          0.3548907489236902,
          0.3316963361821569,
          0.3163463903578042
         ],
         "yaxis": "y",
         "type": "scatter"
        },
        {
         "hovertemplate": "result=Res38<br>iteration=%{x}<br>belief=%{y}<extra></extra>",
         "legendgroup": "Res38",
         "marker": {
          "color": "#19d3f3",
          "symbol": "circle"
         },
         "mode": "markers",
         "name": "Res38",
         "orientation": "v",
         "showlegend": true,
         "x": [
          43,
          42,
          40,
          35,
          34,
          31,
          30,
          27,
          26,
          25,
          24,
          23,
          22,
          21,
          20,
          19,
          17,
          16,
          15,
          12,
          11,
          9,
          8,
          7,
          5,
          4,
          3,
          2,
          1,
          0
         ],
         "xaxis": "x",
         "y": [
          0.5324096935936573,
          0.5320807552922739,
          0.5319215626579412,
          0.5317364672311604,
          0.531427264966761,
          0.5309055552987054,
          0.530486676936709,
          0.5186662451110631,
          0.5116336343675671,
          0.5106623174301719,
          0.5095390525634156,
          0.5084343353956495,
          0.5042618330982229,
          0.5027384439172702,
          0.49838297256865105,
          0.48178026855818523,
          0.48021260845188907,
          0.4733538688172698,
          0.46492095463020755,
          0.4604955218005061,
          0.45403378767976327,
          0.45151107865430895,
          0.4423925754820916,
          0.4285361255564313,
          0.409621179493697,
          0.39589046243147147,
          0.37612284809724317,
          0.36157239640343,
          0.3225265264818876,
          0.31182124521352217
         ],
         "yaxis": "y",
         "type": "scatter"
        },
        {
         "hovertemplate": "result=Res42<br>iteration=%{x}<br>belief=%{y}<extra></extra>",
         "legendgroup": "Res42",
         "marker": {
          "color": "#FF6692",
          "symbol": "circle"
         },
         "mode": "markers",
         "name": "Res42",
         "orientation": "v",
         "showlegend": true,
         "x": [
          33,
          31,
          28,
          21,
          20,
          19,
          18,
          17,
          16,
          15,
          12,
          11,
          10,
          9,
          7,
          6,
          5,
          4,
          3,
          2,
          0
         ],
         "xaxis": "x",
         "y": [
          0.5320144748493891,
          0.5319009969594533,
          0.5315640344623356,
          0.5314623978575012,
          0.5300571421886796,
          0.5297496940338597,
          0.5277054085103341,
          0.5211638300306001,
          0.5208196554131692,
          0.516806567301126,
          0.5149280262164286,
          0.5125332763978663,
          0.5123908404079028,
          0.5044431553669484,
          0.5043454535451306,
          0.4972749267200082,
          0.479379172509647,
          0.41977926950352484,
          0.4104774637729074,
          0.3852526133814672,
          0.32527176210266195
         ],
         "yaxis": "y",
         "type": "scatter"
        },
        {
         "hovertemplate": "result=Res23<br>iteration=%{x}<br>belief=%{y}<extra></extra>",
         "legendgroup": "Res23",
         "marker": {
          "color": "#B6E880",
          "symbol": "circle"
         },
         "mode": "markers",
         "name": "Res23",
         "orientation": "v",
         "showlegend": true,
         "x": [
          37,
          32,
          29,
          23,
          19,
          16,
          15,
          14,
          11,
          9,
          8,
          7,
          6,
          5,
          4,
          3,
          2,
          1,
          0
         ],
         "xaxis": "x",
         "y": [
          0.5313624503766645,
          0.5312008629556713,
          0.5299495542443767,
          0.5294044541747586,
          0.5290062957081315,
          0.5274340321651382,
          0.5244471866579414,
          0.5210375678325905,
          0.5192481168929765,
          0.5119275021091418,
          0.4789462245658509,
          0.4474078767517011,
          0.43931115159525314,
          0.4377022607654478,
          0.43189812321320376,
          0.42179190398141453,
          0.3555168635891548,
          0.34701950965590456,
          0.3270491131407376
         ],
         "yaxis": "y",
         "type": "scatter"
        },
        {
         "hovertemplate": "result=Res31<br>iteration=%{x}<br>belief=%{y}<extra></extra>",
         "legendgroup": "Res31",
         "marker": {
          "color": "#FF97FF",
          "symbol": "circle"
         },
         "mode": "markers",
         "name": "Res31",
         "orientation": "v",
         "showlegend": true,
         "x": [
          40,
          37,
          29,
          24,
          23,
          22,
          21,
          18,
          16,
          15,
          14,
          13,
          12,
          11,
          10,
          9,
          8,
          7,
          6,
          5,
          4,
          3,
          2,
          1,
          0
         ],
         "xaxis": "x",
         "y": [
          0.5307645918787361,
          0.530521412485026,
          0.530280576197917,
          0.5294920693617395,
          0.5288111670593512,
          0.5243023179290718,
          0.5207122354835985,
          0.5166547424087573,
          0.5143023488979522,
          0.48811630516030435,
          0.47635279887900295,
          0.4702428371251508,
          0.46539379776782785,
          0.46340249903117187,
          0.44708653376191837,
          0.44674608261072424,
          0.4449610538183839,
          0.4445624019842359,
          0.44085205347824574,
          0.4377075704802732,
          0.4233741299139544,
          0.38029225751806917,
          0.37749142871419306,
          0.34931614460901117,
          0.33862721735077106
         ],
         "yaxis": "y",
         "type": "scatter"
        },
        {
         "hovertemplate": "result=Res14<br>iteration=%{x}<br>belief=%{y}<extra></extra>",
         "legendgroup": "Res14",
         "marker": {
          "color": "#FECB52",
          "symbol": "circle"
         },
         "mode": "markers",
         "name": "Res14",
         "orientation": "v",
         "showlegend": true,
         "x": [
          34,
          29,
          28,
          25,
          22,
          21,
          20,
          17,
          16,
          15,
          14,
          13,
          12,
          11,
          10,
          9,
          8,
          7,
          6,
          5,
          4,
          3,
          2,
          1,
          0
         ],
         "xaxis": "x",
         "y": [
          0.5302880111422642,
          0.530062391142525,
          0.5298573593506697,
          0.5295739035575188,
          0.5291176198697408,
          0.5253797277662422,
          0.5223448416927735,
          0.5219622447808655,
          0.5199397685854441,
          0.4925492226342651,
          0.46066383802074395,
          0.45975352095875677,
          0.45550791736102947,
          0.44346854215566145,
          0.4196881017177252,
          0.4149452139706892,
          0.4111131627024811,
          0.4044254067478938,
          0.38710966177014683,
          0.3708780141522846,
          0.3439932370116223,
          0.3293789670218299,
          0.3120826639743201,
          0.30923090100826545,
          0.2913036490838926
         ],
         "yaxis": "y",
         "type": "scatter"
        },
        {
         "hovertemplate": "result=Res35<br>iteration=%{x}<br>belief=%{y}<extra></extra>",
         "legendgroup": "Res35",
         "marker": {
          "color": "#636efa",
          "symbol": "circle"
         },
         "mode": "markers",
         "name": "Res35",
         "orientation": "v",
         "showlegend": true,
         "x": [
          31,
          24,
          22,
          21,
          20,
          19,
          17,
          16,
          15,
          14,
          12,
          11,
          10,
          8,
          7,
          6,
          5,
          4,
          3,
          2,
          1,
          0
         ],
         "xaxis": "x",
         "y": [
          0.5287276487299442,
          0.5280893028214552,
          0.5235419569094162,
          0.518808910369453,
          0.5181202544661472,
          0.5161084574767516,
          0.5102522060524435,
          0.5099161801625263,
          0.5088898143991624,
          0.5076987606531416,
          0.4915110083826612,
          0.48603031643926253,
          0.484140411394128,
          0.48114046025231094,
          0.47830792560579316,
          0.45463354663103184,
          0.4506536780421725,
          0.42040895223862834,
          0.39782409199075747,
          0.3314253811939787,
          0.3039184822666408,
          0.2711805102385708
         ],
         "yaxis": "y",
         "type": "scatter"
        },
        {
         "hovertemplate": "result=Res28<br>iteration=%{x}<br>belief=%{y}<extra></extra>",
         "legendgroup": "Res28",
         "marker": {
          "color": "#EF553B",
          "symbol": "circle"
         },
         "mode": "markers",
         "name": "Res28",
         "orientation": "v",
         "showlegend": true,
         "x": [
          23,
          22,
          18,
          17,
          16,
          15,
          14,
          13,
          12,
          11,
          9,
          8,
          7,
          6,
          5,
          4,
          3,
          1,
          0
         ],
         "xaxis": "x",
         "y": [
          0.5286973177471903,
          0.5274525578078699,
          0.5251363828824134,
          0.5207470076328229,
          0.5181975189961863,
          0.505084983822591,
          0.5040965531609047,
          0.5020208596818179,
          0.49919735161472356,
          0.49726326437068763,
          0.4933582103558406,
          0.48176614362230186,
          0.4761221732096024,
          0.46537073810213814,
          0.45064082264001587,
          0.4116198324317155,
          0.3983946313908857,
          0.37336411198003083,
          0.3389711298759231
         ],
         "yaxis": "y",
         "type": "scatter"
        },
        {
         "hovertemplate": "result=Res30<br>iteration=%{x}<br>belief=%{y}<extra></extra>",
         "legendgroup": "Res30",
         "marker": {
          "color": "#00cc96",
          "symbol": "circle"
         },
         "mode": "markers",
         "name": "Res30",
         "orientation": "v",
         "showlegend": true,
         "x": [
          24,
          20,
          18,
          17,
          16,
          15,
          14,
          13,
          12,
          11,
          9,
          8,
          7,
          6,
          5,
          4,
          3,
          2,
          1,
          0
         ],
         "xaxis": "x",
         "y": [
          0.5286859508190302,
          0.5283273209471215,
          0.525992935505998,
          0.5246775399834485,
          0.5221247476455182,
          0.5210668048132729,
          0.5014463060896748,
          0.49920237527799705,
          0.49734005326652575,
          0.48670734715244396,
          0.47773866630056455,
          0.4683052623133076,
          0.4651407604289841,
          0.44209390561383216,
          0.42578480314254974,
          0.4125467231555924,
          0.380743839719146,
          0.37593656469725895,
          0.34185677543489035,
          0.3317417412437814
         ],
         "yaxis": "y",
         "type": "scatter"
        },
        {
         "hovertemplate": "result=Res1<br>iteration=%{x}<br>belief=%{y}<extra></extra>",
         "legendgroup": "Res1",
         "marker": {
          "color": "#ab63fa",
          "symbol": "circle"
         },
         "mode": "markers",
         "name": "Res1",
         "orientation": "v",
         "showlegend": true,
         "x": [
          46,
          37,
          29,
          25,
          21,
          20,
          19,
          18,
          16,
          14,
          13,
          12,
          10,
          8,
          7,
          6,
          5,
          4,
          3,
          2,
          0
         ],
         "xaxis": "x",
         "y": [
          0.528024322219865,
          0.5275799568121333,
          0.5271082022655984,
          0.5246330555057928,
          0.5245023552750608,
          0.5235438996157628,
          0.523071172498963,
          0.5229123370148065,
          0.5141914350918152,
          0.51185257575571,
          0.5097753145090986,
          0.5091998666589794,
          0.5074729405767162,
          0.5034883658103964,
          0.49165120369038096,
          0.4770535616587134,
          0.4578220488355639,
          0.4493738854956191,
          0.38197839042070847,
          0.34007440473054185,
          0.3216587711252204
         ],
         "yaxis": "y",
         "type": "scatter"
        },
        {
         "hovertemplate": "result=Res33<br>iteration=%{x}<br>belief=%{y}<extra></extra>",
         "legendgroup": "Res33",
         "marker": {
          "color": "#FFA15A",
          "symbol": "circle"
         },
         "mode": "markers",
         "name": "Res33",
         "orientation": "v",
         "showlegend": true,
         "x": [
          31,
          26,
          23,
          22,
          21,
          17,
          15,
          14,
          13,
          12,
          9,
          8,
          7,
          6,
          5,
          4,
          3,
          1,
          0
         ],
         "xaxis": "x",
         "y": [
          0.5269826730614564,
          0.5267562910196217,
          0.5261249246034974,
          0.5257305530714964,
          0.5249637672575185,
          0.5222030362408582,
          0.5218452265961218,
          0.518893173448326,
          0.5170859843046843,
          0.5115578669289733,
          0.5084728744396265,
          0.5020477312851712,
          0.48665249707571767,
          0.4642844343968894,
          0.45462575608397754,
          0.4344942258457217,
          0.4285914954061455,
          0.4144032288252878,
          0.39016182747198636
         ],
         "yaxis": "y",
         "type": "scatter"
        },
        {
         "hovertemplate": "result=Res0<br>iteration=%{x}<br>belief=%{y}<extra></extra>",
         "legendgroup": "Res0",
         "marker": {
          "color": "#19d3f3",
          "symbol": "circle"
         },
         "mode": "markers",
         "name": "Res0",
         "orientation": "v",
         "showlegend": true,
         "x": [
          31,
          25,
          23,
          20,
          19,
          18,
          16,
          15,
          14,
          11,
          10,
          9,
          8,
          7,
          6,
          4,
          3,
          2,
          1,
          0
         ],
         "xaxis": "x",
         "y": [
          0.5261468038944733,
          0.5257630425428593,
          0.524679364932136,
          0.5230885827425084,
          0.5229985699894497,
          0.5217095430093255,
          0.5214124020585512,
          0.5143393814146979,
          0.5049371965084484,
          0.5035521661666503,
          0.5022754743496722,
          0.501140637179025,
          0.49259202961044857,
          0.47801651654373667,
          0.45737831464097983,
          0.44325799142520783,
          0.41573627305042926,
          0.3733380105709341,
          0.36894296711203295,
          0.3196429677326593
         ],
         "yaxis": "y",
         "type": "scatter"
        },
        {
         "hovertemplate": "result=Res40<br>iteration=%{x}<br>belief=%{y}<extra></extra>",
         "legendgroup": "Res40",
         "marker": {
          "color": "#FF6692",
          "symbol": "circle"
         },
         "mode": "markers",
         "name": "Res40",
         "orientation": "v",
         "showlegend": true,
         "x": [
          40,
          38,
          34,
          32,
          31,
          30,
          29,
          28,
          27,
          24,
          23,
          22,
          21,
          18,
          16,
          15,
          13,
          12,
          10,
          9,
          8,
          7,
          6,
          5,
          4,
          3,
          2,
          1,
          0
         ],
         "xaxis": "x",
         "y": [
          0.5257069047677101,
          0.525588726833951,
          0.5250521834695455,
          0.5249167895896389,
          0.5235176644038166,
          0.5215302753298152,
          0.5210037584838718,
          0.5208313187419236,
          0.5206588789999753,
          0.5201727556980229,
          0.5141088228579639,
          0.5120954243687027,
          0.5112513230011488,
          0.511025752105218,
          0.5059301127199152,
          0.502410052955232,
          0.5004265487065449,
          0.4840370831638101,
          0.47976390727589663,
          0.47649569044779017,
          0.46000799175939733,
          0.4163275989306463,
          0.4089521034076967,
          0.4062063940494388,
          0.39312088196168676,
          0.3754013100104163,
          0.3548742735003013,
          0.32001844923535744,
          0.29587206681238765
         ],
         "yaxis": "y",
         "type": "scatter"
        },
        {
         "hovertemplate": "result=Res36<br>iteration=%{x}<br>belief=%{y}<extra></extra>",
         "legendgroup": "Res36",
         "marker": {
          "color": "#B6E880",
          "symbol": "circle"
         },
         "mode": "markers",
         "name": "Res36",
         "orientation": "v",
         "showlegend": true,
         "x": [
          35,
          34,
          32,
          31,
          28,
          27,
          26,
          25,
          24,
          23,
          22,
          20,
          19,
          16,
          15,
          14,
          13,
          12,
          11,
          10,
          9,
          8,
          7,
          6,
          5,
          4,
          3,
          2,
          1,
          0
         ],
         "xaxis": "x",
         "y": [
          0.5255642608153716,
          0.5255460669969038,
          0.5254495824079872,
          0.5190475715478766,
          0.5188337174964776,
          0.5183076004857474,
          0.5180974706903777,
          0.5162534169014159,
          0.5155372413873379,
          0.5143078530836108,
          0.5055052036095887,
          0.4871492438349654,
          0.48486131482759387,
          0.4838642152121021,
          0.48239080166921433,
          0.43937632202658966,
          0.4343990003007895,
          0.43187025106395127,
          0.42877168654539854,
          0.4248605234206724,
          0.4031376495421772,
          0.391661923733332,
          0.3821859912084716,
          0.3689918165339198,
          0.3571995444510611,
          0.3399645074065666,
          0.3232932235160947,
          0.31315211359960665,
          0.3052356311888976,
          0.29502585918244884
         ],
         "yaxis": "y",
         "type": "scatter"
        },
        {
         "hovertemplate": "result=Res11<br>iteration=%{x}<br>belief=%{y}<extra></extra>",
         "legendgroup": "Res11",
         "marker": {
          "color": "#FF97FF",
          "symbol": "circle"
         },
         "mode": "markers",
         "name": "Res11",
         "orientation": "v",
         "showlegend": true,
         "x": [
          21,
          19,
          16,
          15,
          13,
          11,
          10,
          9,
          8,
          7,
          5,
          4,
          3,
          2,
          1,
          0
         ],
         "xaxis": "x",
         "y": [
          0.5224937067547437,
          0.521425193232274,
          0.5196566936721312,
          0.5074975799090558,
          0.5047583888592463,
          0.5001779545961065,
          0.4849024647363921,
          0.47856022385618213,
          0.4725357586241793,
          0.46322062539775144,
          0.4511198979975912,
          0.424147887292956,
          0.39220681730048235,
          0.3630494981808001,
          0.33999606261377785,
          0.330516330745966
         ],
         "yaxis": "y",
         "type": "scatter"
        },
        {
         "hovertemplate": "result=Res18<br>iteration=%{x}<br>belief=%{y}<extra></extra>",
         "legendgroup": "Res18",
         "marker": {
          "color": "#FECB52",
          "symbol": "circle"
         },
         "mode": "markers",
         "name": "Res18",
         "orientation": "v",
         "showlegend": true,
         "x": [
          21,
          20,
          18,
          16,
          15,
          14,
          13,
          12,
          11,
          9,
          8,
          7,
          6,
          5,
          4,
          3,
          2,
          1,
          0
         ],
         "xaxis": "x",
         "y": [
          0.5222192329376378,
          0.5219496444718703,
          0.5198602244465367,
          0.5166014081882758,
          0.5128832526301719,
          0.5051340147315949,
          0.5051261998009442,
          0.504424708650492,
          0.49837328114411883,
          0.48573993554489087,
          0.4839094097025204,
          0.4737975771092023,
          0.46514272811516433,
          0.40524432585460435,
          0.40222284213248993,
          0.38612034945301954,
          0.3753552558491813,
          0.3522589885161587,
          0.3275539106345776
         ],
         "yaxis": "y",
         "type": "scatter"
        },
        {
         "hovertemplate": "result=Res44<br>iteration=%{x}<br>belief=%{y}<extra></extra>",
         "legendgroup": "Res44",
         "marker": {
          "color": "#636efa",
          "symbol": "circle"
         },
         "mode": "markers",
         "name": "Res44",
         "orientation": "v",
         "showlegend": true,
         "x": [
          31,
          25,
          24,
          21,
          19,
          15,
          14,
          13,
          8,
          6,
          5,
          4,
          3,
          2,
          0
         ],
         "xaxis": "x",
         "y": [
          0.5205934162550129,
          0.5196608343643403,
          0.5185425277336129,
          0.5106923825328766,
          0.5087034022581617,
          0.5032198265795231,
          0.5016022957849179,
          0.49626492442675524,
          0.4464869737156718,
          0.43251562722672987,
          0.4136971763684614,
          0.40110593443403164,
          0.3656042358101789,
          0.36203668347051404,
          0.3330461422574855
         ],
         "yaxis": "y",
         "type": "scatter"
        },
        {
         "hovertemplate": "result=Res41<br>iteration=%{x}<br>belief=%{y}<extra></extra>",
         "legendgroup": "Res41",
         "marker": {
          "color": "#EF553B",
          "symbol": "circle"
         },
         "mode": "markers",
         "name": "Res41",
         "orientation": "v",
         "showlegend": true,
         "x": [
          48,
          40,
          29,
          28,
          27,
          24,
          22,
          20,
          19,
          18,
          15,
          14,
          13,
          12,
          11,
          10,
          9,
          8,
          7,
          6,
          5,
          4,
          3,
          2,
          1,
          0
         ],
         "xaxis": "x",
         "y": [
          0.5164201724505048,
          0.5164074970419801,
          0.5162397938511705,
          0.5146812180682947,
          0.5111618135437979,
          0.5101995986230123,
          0.5011246596904438,
          0.49233048990090894,
          0.49211824736174403,
          0.49147478592345883,
          0.48908406887762845,
          0.4881249567475389,
          0.4804119211705569,
          0.4678335471980207,
          0.4572800322372279,
          0.44583921962653467,
          0.43982941853539786,
          0.4373316161363263,
          0.42204209511800517,
          0.37663393171861903,
          0.35536092289244237,
          0.3457762036646677,
          0.33905384622715445,
          0.33639634365188287,
          0.32740592898658694,
          0.3169277762097563
         ],
         "yaxis": "y",
         "type": "scatter"
        },
        {
         "hovertemplate": "result=Res15<br>iteration=%{x}<br>belief=%{y}<extra></extra>",
         "legendgroup": "Res15",
         "marker": {
          "color": "#00cc96",
          "symbol": "circle"
         },
         "mode": "markers",
         "name": "Res15",
         "orientation": "v",
         "showlegend": true,
         "x": [
          36,
          32,
          22,
          20,
          16,
          14,
          13,
          12,
          11,
          9,
          8,
          7,
          6,
          5,
          4,
          3,
          2,
          1,
          0
         ],
         "xaxis": "x",
         "y": [
          0.5163747621436673,
          0.5155298332181518,
          0.5153998385349369,
          0.5138834696085284,
          0.5102188943487345,
          0.5058369349483709,
          0.48643771234834,
          0.48395338127245524,
          0.47437123735882125,
          0.46970373312056557,
          0.4491832195983362,
          0.4391792199657689,
          0.4224930885686025,
          0.41437852577306733,
          0.37094050708810933,
          0.3477951648477413,
          0.3440053321214782,
          0.32264092300985425,
          0.31054078719889033
         ],
         "yaxis": "y",
         "type": "scatter"
        },
        {
         "hovertemplate": "result=Res2<br>iteration=%{x}<br>belief=%{y}<extra></extra>",
         "legendgroup": "Res2",
         "marker": {
          "color": "#ab63fa",
          "symbol": "circle"
         },
         "mode": "markers",
         "name": "Res2",
         "orientation": "v",
         "showlegend": true,
         "x": [
          46,
          36,
          34,
          33,
          32,
          31,
          27,
          26,
          24,
          23,
          21,
          20,
          19,
          17,
          16,
          15,
          14,
          13,
          12,
          10,
          9,
          8,
          7,
          6,
          5,
          4,
          3,
          2,
          1,
          0
         ],
         "xaxis": "x",
         "y": [
          0.5149433971875332,
          0.5142032867070184,
          0.5136482448940258,
          0.5128225045163426,
          0.5124031274962173,
          0.5104614659737434,
          0.5094428397213038,
          0.5082058180730848,
          0.5079446704837038,
          0.497733482953969,
          0.49073764879162796,
          0.48427407691171104,
          0.47803484773325366,
          0.4655276215698629,
          0.46309042653508836,
          0.45781223823779593,
          0.45609857096920947,
          0.4398551195221851,
          0.4297849687850839,
          0.41581389520813195,
          0.4156150577467874,
          0.41336335812903363,
          0.4044667900316986,
          0.39153535157013686,
          0.3885617787453386,
          0.3797727524515077,
          0.3451704546871511,
          0.33844653009895387,
          0.3173186875475925,
          0.3114381638346664
         ],
         "yaxis": "y",
         "type": "scatter"
        },
        {
         "hovertemplate": "result=Res25<br>iteration=%{x}<br>belief=%{y}<extra></extra>",
         "legendgroup": "Res25",
         "marker": {
          "color": "#FFA15A",
          "symbol": "circle"
         },
         "mode": "markers",
         "name": "Res25",
         "orientation": "v",
         "showlegend": true,
         "x": [
          36,
          35,
          32,
          29,
          27,
          26,
          24,
          22,
          19,
          18,
          17,
          16,
          14,
          13,
          12,
          11,
          10,
          9,
          8,
          7,
          6,
          5,
          4,
          3,
          2,
          1,
          0
         ],
         "xaxis": "x",
         "y": [
          0.5129365168666031,
          0.5125664045499028,
          0.5115254102746745,
          0.5109722126664049,
          0.5103906075973044,
          0.5096814575622151,
          0.5094663697486064,
          0.5051001447298282,
          0.5035413137319474,
          0.5016977474608019,
          0.49928369820932184,
          0.4977344227118792,
          0.49136838125699667,
          0.48749408993924653,
          0.47885197683337444,
          0.4596421787004472,
          0.4560670715583325,
          0.45514243620761685,
          0.4501806898648173,
          0.4223984673795629,
          0.41667304875904065,
          0.4096179092408996,
          0.39010387181025635,
          0.3685979782072327,
          0.35542045618080287,
          0.33933235145403606,
          0.29995887031650803
         ],
         "yaxis": "y",
         "type": "scatter"
        },
        {
         "hovertemplate": "result=Res46<br>iteration=%{x}<br>belief=%{y}<extra></extra>",
         "legendgroup": "Res46",
         "marker": {
          "color": "#19d3f3",
          "symbol": "circle"
         },
         "mode": "markers",
         "name": "Res46",
         "orientation": "v",
         "showlegend": true,
         "x": [
          30,
          27,
          23,
          22,
          18,
          17,
          16,
          15,
          14,
          13,
          12,
          11,
          10,
          9,
          8,
          7,
          6,
          5,
          4,
          1,
          0
         ],
         "xaxis": "x",
         "y": [
          0.5118186462550567,
          0.5101016103641078,
          0.5093032945118394,
          0.5037321643873592,
          0.5007202685428463,
          0.4948509381234165,
          0.48760846896159227,
          0.4755184460834142,
          0.4522806534156879,
          0.44523859563051527,
          0.4307206842797422,
          0.4289366369854995,
          0.4250904386671274,
          0.38516251708781757,
          0.37895370856993377,
          0.35261042668487586,
          0.3361824805154085,
          0.3320747770794723,
          0.3268776665437605,
          0.3160087560227555,
          0.29170224255412763
         ],
         "yaxis": "y",
         "type": "scatter"
        },
        {
         "hovertemplate": "result=Res26<br>iteration=%{x}<br>belief=%{y}<extra></extra>",
         "legendgroup": "Res26",
         "marker": {
          "color": "#FF6692",
          "symbol": "circle"
         },
         "mode": "markers",
         "name": "Res26",
         "orientation": "v",
         "showlegend": true,
         "x": [
          41,
          39,
          36,
          33,
          32,
          31,
          30,
          29,
          24,
          23,
          22,
          20,
          19,
          18,
          17,
          15,
          14,
          13,
          12,
          11,
          10,
          8,
          7,
          5,
          4,
          3,
          2,
          1,
          0
         ],
         "xaxis": "x",
         "y": [
          0.5113502721046452,
          0.5105262498998784,
          0.5059844627693388,
          0.5041046604111079,
          0.5035747396963943,
          0.4968678119082525,
          0.49608635940563917,
          0.49377182566351996,
          0.48569436045716335,
          0.4826344702916428,
          0.48191165004772046,
          0.4812975561531949,
          0.4781288580759012,
          0.47790349931799336,
          0.47656428726871725,
          0.476369257166802,
          0.47194356210136174,
          0.4712582096986834,
          0.47044082584509367,
          0.46763959162325747,
          0.45740516586281577,
          0.4561028041994769,
          0.43010701323491285,
          0.4130887919940099,
          0.3902446190389334,
          0.382600127313086,
          0.34710999292021943,
          0.3300147413106495,
          0.28152261559197594
         ],
         "yaxis": "y",
         "type": "scatter"
        },
        {
         "hovertemplate": "result=Res19<br>iteration=%{x}<br>belief=%{y}<extra></extra>",
         "legendgroup": "Res19",
         "marker": {
          "color": "#B6E880",
          "symbol": "circle"
         },
         "mode": "markers",
         "name": "Res19",
         "orientation": "v",
         "showlegend": true,
         "x": [
          40,
          33,
          32,
          30,
          29,
          27,
          26,
          23,
          20,
          19,
          18,
          16,
          15,
          14,
          13,
          12,
          8,
          7,
          6,
          5,
          4,
          3,
          2,
          1,
          0
         ],
         "xaxis": "x",
         "y": [
          0.5108251693586754,
          0.508161201303851,
          0.5075987572905298,
          0.5040784376098667,
          0.5011888594252101,
          0.49996802539402896,
          0.4985993696355393,
          0.4909026298799155,
          0.48992167931708175,
          0.48823876789914655,
          0.48381634546468727,
          0.4834519455688483,
          0.47708601736976297,
          0.46868919521867536,
          0.4656558942569933,
          0.4608690587148625,
          0.4582778077922921,
          0.4250811101158475,
          0.41009093766583066,
          0.3977313167398689,
          0.39033681123381353,
          0.3765014442255401,
          0.34857799268248035,
          0.3237042690225682,
          0.3206653622356789
         ],
         "yaxis": "y",
         "type": "scatter"
        },
        {
         "hovertemplate": "result=Res21<br>iteration=%{x}<br>belief=%{y}<extra></extra>",
         "legendgroup": "Res21",
         "marker": {
          "color": "#FF97FF",
          "symbol": "circle"
         },
         "mode": "markers",
         "name": "Res21",
         "orientation": "v",
         "showlegend": true,
         "x": [
          33,
          32,
          31,
          29,
          28,
          27,
          23,
          22,
          21,
          20,
          19,
          17,
          16,
          15,
          13,
          12,
          9,
          8,
          7,
          6,
          5,
          4,
          3,
          2,
          1,
          0
         ],
         "xaxis": "x",
         "y": [
          0.5100240004915471,
          0.5094520901986259,
          0.5073148607346998,
          0.5068888529322886,
          0.5067579866161391,
          0.5057692461999379,
          0.5052918087066562,
          0.5023410932272172,
          0.5015095350073581,
          0.5002122945222471,
          0.49779501725579284,
          0.4952026108319171,
          0.4872228122413951,
          0.48080282549606346,
          0.4797332205191703,
          0.47608077731674286,
          0.47241573987931273,
          0.4703130838830808,
          0.46536074606668576,
          0.45699892183809104,
          0.45094937562498105,
          0.4183354624655127,
          0.4124845482312075,
          0.39857070969942215,
          0.3751904896512011,
          0.31327180087618706
         ],
         "yaxis": "y",
         "type": "scatter"
        },
        {
         "hovertemplate": "result=Res7<br>iteration=%{x}<br>belief=%{y}<extra></extra>",
         "legendgroup": "Res7",
         "marker": {
          "color": "#FECB52",
          "symbol": "circle"
         },
         "mode": "markers",
         "name": "Res7",
         "orientation": "v",
         "showlegend": true,
         "x": [
          30,
          23,
          20,
          16,
          15,
          14,
          13,
          10,
          8,
          7,
          6,
          5,
          4,
          3,
          2,
          1,
          0
         ],
         "xaxis": "x",
         "y": [
          0.5098811955504343,
          0.5096330321800366,
          0.5041489586862247,
          0.5029861889915916,
          0.5025100005824212,
          0.5024566268371231,
          0.4978600163211555,
          0.49097982547760655,
          0.49047324856415525,
          0.46777149888451125,
          0.4641468762058949,
          0.447920447582665,
          0.4072128487244938,
          0.4044283978430683,
          0.39094119425573526,
          0.36677518338127246,
          0.35109946288533633
         ],
         "yaxis": "y",
         "type": "scatter"
        },
        {
         "hovertemplate": "result=Res8<br>iteration=%{x}<br>belief=%{y}<extra></extra>",
         "legendgroup": "Res8",
         "marker": {
          "color": "#636efa",
          "symbol": "circle"
         },
         "mode": "markers",
         "name": "Res8",
         "orientation": "v",
         "showlegend": true,
         "x": [
          20,
          16,
          10,
          8,
          7,
          6,
          5,
          3,
          2,
          1,
          0
         ],
         "xaxis": "x",
         "y": [
          0.5065284746226831,
          0.5056365108863577,
          0.50554483225992,
          0.5020384131067971,
          0.49404708311590917,
          0.48301333179570566,
          0.4804319197144581,
          0.46587611339146395,
          0.40365223574409637,
          0.3766821686199879,
          0.3672438083341565
         ],
         "yaxis": "y",
         "type": "scatter"
        },
        {
         "hovertemplate": "result=Res32<br>iteration=%{x}<br>belief=%{y}<extra></extra>",
         "legendgroup": "Res32",
         "marker": {
          "color": "#EF553B",
          "symbol": "circle"
         },
         "mode": "markers",
         "name": "Res32",
         "orientation": "v",
         "showlegend": true,
         "x": [
          29,
          26,
          21,
          20,
          17,
          16,
          15,
          14,
          13,
          10,
          8,
          7,
          6,
          5,
          4,
          3,
          2,
          1,
          0
         ],
         "xaxis": "x",
         "y": [
          0.5038751568333086,
          0.502032901744054,
          0.5017978463763587,
          0.5007273718504666,
          0.4942443853790489,
          0.4862241136733575,
          0.4800800185288468,
          0.478104144188497,
          0.4675712995944018,
          0.4610658101437497,
          0.45958365595886697,
          0.44352997466811134,
          0.43634833776944315,
          0.4272224407009666,
          0.3839893820017898,
          0.34118827336545204,
          0.33006083779092177,
          0.32126430249261423,
          0.3144635378760605
         ],
         "yaxis": "y",
         "type": "scatter"
        },
        {
         "hovertemplate": "result=Res10<br>iteration=%{x}<br>belief=%{y}<extra></extra>",
         "legendgroup": "Res10",
         "marker": {
          "color": "#00cc96",
          "symbol": "circle"
         },
         "mode": "markers",
         "name": "Res10",
         "orientation": "v",
         "showlegend": true,
         "x": [
          31,
          29,
          25,
          24,
          23,
          21,
          14,
          12,
          11,
          10,
          9,
          8,
          7,
          6,
          5,
          4,
          3,
          2,
          1,
          0
         ],
         "xaxis": "x",
         "y": [
          0.500966209204001,
          0.5006289103217396,
          0.5005457438646328,
          0.5004042025028375,
          0.49988823682358235,
          0.4993275594845551,
          0.4970119664151681,
          0.49142071264889736,
          0.4852940117320748,
          0.48497058995605274,
          0.4817606089744714,
          0.47913609562322645,
          0.46828800069918564,
          0.45715976285661986,
          0.4416049819636939,
          0.42643312338202366,
          0.40411197213611705,
          0.35697255702118685,
          0.3500090046845892,
          0.3421222589356905
         ],
         "yaxis": "y",
         "type": "scatter"
        },
        {
         "hovertemplate": "result=Res20<br>iteration=%{x}<br>belief=%{y}<extra></extra>",
         "legendgroup": "Res20",
         "marker": {
          "color": "#ab63fa",
          "symbol": "circle"
         },
         "mode": "markers",
         "name": "Res20",
         "orientation": "v",
         "showlegend": true,
         "x": [
          34,
          32,
          25,
          23,
          22,
          20,
          19,
          18,
          15,
          14,
          13,
          12,
          11,
          10,
          9,
          8,
          6,
          5,
          4,
          3,
          2,
          1,
          0
         ],
         "xaxis": "x",
         "y": [
          0.49701338492650304,
          0.49641351516984233,
          0.495522041676643,
          0.4944726166791525,
          0.49323845882648154,
          0.4890311221129552,
          0.485769476416938,
          0.46775604122883646,
          0.4605701421641321,
          0.4539289245517706,
          0.45239884574712885,
          0.43613611850617395,
          0.43086751757463604,
          0.4226964517213223,
          0.41993070489801,
          0.4161274884058138,
          0.41205240807537474,
          0.3929962300653629,
          0.37331192100201854,
          0.3457307221393319,
          0.33895873602217375,
          0.3348348588242688,
          0.3188933789569819
         ],
         "yaxis": "y",
         "type": "scatter"
        },
        {
         "hovertemplate": "result=Res6<br>iteration=%{x}<br>belief=%{y}<extra></extra>",
         "legendgroup": "Res6",
         "marker": {
          "color": "#FFA15A",
          "symbol": "circle"
         },
         "mode": "markers",
         "name": "Res6",
         "orientation": "v",
         "showlegend": true,
         "x": [
          55,
          54,
          52,
          48,
          47,
          45,
          42,
          41,
          40,
          38,
          37,
          34,
          33,
          32,
          31,
          30,
          29,
          28,
          27,
          26,
          25,
          24,
          23,
          21,
          20,
          18,
          17,
          15,
          14,
          13,
          12,
          11,
          10,
          8,
          7,
          6,
          5,
          4,
          3,
          2,
          0
         ],
         "xaxis": "x",
         "y": [
          0.492300036793724,
          0.49148331009575813,
          0.48990821545176955,
          0.4897240338567167,
          0.4891934013450959,
          0.48906239660802,
          0.4889543976798947,
          0.48796019661294765,
          0.48744427226314574,
          0.4866360207610225,
          0.48533573221547394,
          0.4846492372538595,
          0.48396735251417683,
          0.48394408074875805,
          0.4836729384444104,
          0.4834823628564872,
          0.48193825626752346,
          0.4752073242270548,
          0.4691178901506989,
          0.46577150517934407,
          0.4638255591207957,
          0.46352460471482576,
          0.46251968912682445,
          0.4607724519872439,
          0.4581339374636535,
          0.45773749624574545,
          0.45678283742722964,
          0.45612183704820375,
          0.44452644706223476,
          0.4351001494459682,
          0.4271102501890325,
          0.42478693079283375,
          0.4179477357328104,
          0.41755629688544277,
          0.4131707825573968,
          0.4064640602052876,
          0.39710196588146135,
          0.37736130014077396,
          0.37240335240098316,
          0.3697345677426071,
          0.35022833490379346
         ],
         "yaxis": "y",
         "type": "scatter"
        },
        {
         "hovertemplate": "result=Res22<br>iteration=%{x}<br>belief=%{y}<extra></extra>",
         "legendgroup": "Res22",
         "marker": {
          "color": "#19d3f3",
          "symbol": "circle"
         },
         "mode": "markers",
         "name": "Res22",
         "orientation": "v",
         "showlegend": true,
         "x": [
          40,
          32,
          31,
          23,
          22,
          19,
          15,
          14,
          13,
          10,
          8,
          7,
          6,
          5,
          4,
          3,
          2,
          1,
          0
         ],
         "xaxis": "x",
         "y": [
          0.4853994011462819,
          0.4845203073716804,
          0.4844157559901585,
          0.4828580191763595,
          0.4817171462040438,
          0.47730736901088633,
          0.47673872357053626,
          0.47633037591848476,
          0.4725406507506207,
          0.4661164571763396,
          0.46494713411109645,
          0.4603578054381581,
          0.45813453894518386,
          0.4417345008544263,
          0.4343984324836862,
          0.42324852874258945,
          0.40610571907427706,
          0.38624758854971014,
          0.34887701040088903
         ],
         "yaxis": "y",
         "type": "scatter"
        },
        {
         "hovertemplate": "result=Res27<br>iteration=%{x}<br>belief=%{y}<extra></extra>",
         "legendgroup": "Res27",
         "marker": {
          "color": "#FF6692",
          "symbol": "circle"
         },
         "mode": "markers",
         "name": "Res27",
         "orientation": "v",
         "showlegend": true,
         "x": [
          40,
          32,
          31,
          24,
          21,
          20,
          17,
          16,
          15,
          14,
          13,
          11,
          10,
          8,
          7,
          6,
          5,
          4,
          3,
          2,
          1,
          0
         ],
         "xaxis": "x",
         "y": [
          0.4675828401463866,
          0.46695498271398667,
          0.4657183601612322,
          0.46443582083867785,
          0.4616661096148938,
          0.4615736230999117,
          0.4582251148252041,
          0.454118264605049,
          0.4506967918900078,
          0.44966801435219916,
          0.4486226731720321,
          0.4476308612185085,
          0.4447701271423625,
          0.4349750059190168,
          0.4244413071734546,
          0.4218216123783848,
          0.4195464208061681,
          0.4065338909878767,
          0.40440783853022166,
          0.39424338787914875,
          0.3803688386003886,
          0.3637474048079332
         ],
         "yaxis": "y",
         "type": "scatter"
        },
        {
         "hovertemplate": "result=Res13<br>iteration=%{x}<br>belief=%{y}<extra></extra>",
         "legendgroup": "Res13",
         "marker": {
          "color": "#B6E880",
          "symbol": "circle"
         },
         "mode": "markers",
         "name": "Res13",
         "orientation": "v",
         "showlegend": true,
         "x": [
          45,
          42,
          39,
          38,
          34,
          32,
          31,
          26,
          23,
          22,
          18,
          16,
          15,
          14,
          13,
          12,
          11,
          9,
          8,
          7,
          6,
          5,
          4,
          3,
          2,
          1,
          0
         ],
         "xaxis": "x",
         "y": [
          0.4654999504919287,
          0.46524532536956,
          0.46455879101233866,
          0.4641315980532893,
          0.46368196600640565,
          0.4628507757335253,
          0.45979506607914655,
          0.45883296623771186,
          0.45782873107080024,
          0.4557691056207748,
          0.45572595433674645,
          0.45536038615069846,
          0.45494662969401456,
          0.45308818053380073,
          0.45109800753479323,
          0.44657335673288434,
          0.44536169158896066,
          0.43849379703221175,
          0.43135477061322536,
          0.4254974645774489,
          0.421836479127629,
          0.4097471430012736,
          0.399364333685719,
          0.38588940181567255,
          0.3841554360921442,
          0.3666883408524315,
          0.3394663867635891
         ],
         "yaxis": "y",
         "type": "scatter"
        },
        {
         "mode": "lines",
         "name": "Correct belief",
         "x": [
          0,
          63
         ],
         "y": [
          0.8,
          0.8
         ],
         "type": "scatter"
        }
       ],
       "layout": {
        "template": {
         "data": {
          "histogram2dcontour": [
           {
            "type": "histogram2dcontour",
            "colorbar": {
             "outlinewidth": 0,
             "ticks": ""
            },
            "colorscale": [
             [
              0.0,
              "#0d0887"
             ],
             [
              0.1111111111111111,
              "#46039f"
             ],
             [
              0.2222222222222222,
              "#7201a8"
             ],
             [
              0.3333333333333333,
              "#9c179e"
             ],
             [
              0.4444444444444444,
              "#bd3786"
             ],
             [
              0.5555555555555556,
              "#d8576b"
             ],
             [
              0.6666666666666666,
              "#ed7953"
             ],
             [
              0.7777777777777778,
              "#fb9f3a"
             ],
             [
              0.8888888888888888,
              "#fdca26"
             ],
             [
              1.0,
              "#f0f921"
             ]
            ]
           }
          ],
          "choropleth": [
           {
            "type": "choropleth",
            "colorbar": {
             "outlinewidth": 0,
             "ticks": ""
            }
           }
          ],
          "histogram2d": [
           {
            "type": "histogram2d",
            "colorbar": {
             "outlinewidth": 0,
             "ticks": ""
            },
            "colorscale": [
             [
              0.0,
              "#0d0887"
             ],
             [
              0.1111111111111111,
              "#46039f"
             ],
             [
              0.2222222222222222,
              "#7201a8"
             ],
             [
              0.3333333333333333,
              "#9c179e"
             ],
             [
              0.4444444444444444,
              "#bd3786"
             ],
             [
              0.5555555555555556,
              "#d8576b"
             ],
             [
              0.6666666666666666,
              "#ed7953"
             ],
             [
              0.7777777777777778,
              "#fb9f3a"
             ],
             [
              0.8888888888888888,
              "#fdca26"
             ],
             [
              1.0,
              "#f0f921"
             ]
            ]
           }
          ],
          "heatmap": [
           {
            "type": "heatmap",
            "colorbar": {
             "outlinewidth": 0,
             "ticks": ""
            },
            "colorscale": [
             [
              0.0,
              "#0d0887"
             ],
             [
              0.1111111111111111,
              "#46039f"
             ],
             [
              0.2222222222222222,
              "#7201a8"
             ],
             [
              0.3333333333333333,
              "#9c179e"
             ],
             [
              0.4444444444444444,
              "#bd3786"
             ],
             [
              0.5555555555555556,
              "#d8576b"
             ],
             [
              0.6666666666666666,
              "#ed7953"
             ],
             [
              0.7777777777777778,
              "#fb9f3a"
             ],
             [
              0.8888888888888888,
              "#fdca26"
             ],
             [
              1.0,
              "#f0f921"
             ]
            ]
           }
          ],
          "heatmapgl": [
           {
            "type": "heatmapgl",
            "colorbar": {
             "outlinewidth": 0,
             "ticks": ""
            },
            "colorscale": [
             [
              0.0,
              "#0d0887"
             ],
             [
              0.1111111111111111,
              "#46039f"
             ],
             [
              0.2222222222222222,
              "#7201a8"
             ],
             [
              0.3333333333333333,
              "#9c179e"
             ],
             [
              0.4444444444444444,
              "#bd3786"
             ],
             [
              0.5555555555555556,
              "#d8576b"
             ],
             [
              0.6666666666666666,
              "#ed7953"
             ],
             [
              0.7777777777777778,
              "#fb9f3a"
             ],
             [
              0.8888888888888888,
              "#fdca26"
             ],
             [
              1.0,
              "#f0f921"
             ]
            ]
           }
          ],
          "contourcarpet": [
           {
            "type": "contourcarpet",
            "colorbar": {
             "outlinewidth": 0,
             "ticks": ""
            }
           }
          ],
          "contour": [
           {
            "type": "contour",
            "colorbar": {
             "outlinewidth": 0,
             "ticks": ""
            },
            "colorscale": [
             [
              0.0,
              "#0d0887"
             ],
             [
              0.1111111111111111,
              "#46039f"
             ],
             [
              0.2222222222222222,
              "#7201a8"
             ],
             [
              0.3333333333333333,
              "#9c179e"
             ],
             [
              0.4444444444444444,
              "#bd3786"
             ],
             [
              0.5555555555555556,
              "#d8576b"
             ],
             [
              0.6666666666666666,
              "#ed7953"
             ],
             [
              0.7777777777777778,
              "#fb9f3a"
             ],
             [
              0.8888888888888888,
              "#fdca26"
             ],
             [
              1.0,
              "#f0f921"
             ]
            ]
           }
          ],
          "surface": [
           {
            "type": "surface",
            "colorbar": {
             "outlinewidth": 0,
             "ticks": ""
            },
            "colorscale": [
             [
              0.0,
              "#0d0887"
             ],
             [
              0.1111111111111111,
              "#46039f"
             ],
             [
              0.2222222222222222,
              "#7201a8"
             ],
             [
              0.3333333333333333,
              "#9c179e"
             ],
             [
              0.4444444444444444,
              "#bd3786"
             ],
             [
              0.5555555555555556,
              "#d8576b"
             ],
             [
              0.6666666666666666,
              "#ed7953"
             ],
             [
              0.7777777777777778,
              "#fb9f3a"
             ],
             [
              0.8888888888888888,
              "#fdca26"
             ],
             [
              1.0,
              "#f0f921"
             ]
            ]
           }
          ],
          "mesh3d": [
           {
            "type": "mesh3d",
            "colorbar": {
             "outlinewidth": 0,
             "ticks": ""
            }
           }
          ],
          "scatter": [
           {
            "marker": {
             "line": {
              "color": "#283442"
             }
            },
            "type": "scatter"
           }
          ],
          "parcoords": [
           {
            "type": "parcoords",
            "line": {
             "colorbar": {
              "outlinewidth": 0,
              "ticks": ""
             }
            }
           }
          ],
          "scatterpolargl": [
           {
            "type": "scatterpolargl",
            "marker": {
             "colorbar": {
              "outlinewidth": 0,
              "ticks": ""
             }
            }
           }
          ],
          "bar": [
           {
            "error_x": {
             "color": "#f2f5fa"
            },
            "error_y": {
             "color": "#f2f5fa"
            },
            "marker": {
             "line": {
              "color": "rgb(17,17,17)",
              "width": 0.5
             },
             "pattern": {
              "fillmode": "overlay",
              "size": 10,
              "solidity": 0.2
             }
            },
            "type": "bar"
           }
          ],
          "scattergeo": [
           {
            "type": "scattergeo",
            "marker": {
             "colorbar": {
              "outlinewidth": 0,
              "ticks": ""
             }
            }
           }
          ],
          "scatterpolar": [
           {
            "type": "scatterpolar",
            "marker": {
             "colorbar": {
              "outlinewidth": 0,
              "ticks": ""
             }
            }
           }
          ],
          "histogram": [
           {
            "marker": {
             "pattern": {
              "fillmode": "overlay",
              "size": 10,
              "solidity": 0.2
             }
            },
            "type": "histogram"
           }
          ],
          "scattergl": [
           {
            "marker": {
             "line": {
              "color": "#283442"
             }
            },
            "type": "scattergl"
           }
          ],
          "scatter3d": [
           {
            "type": "scatter3d",
            "line": {
             "colorbar": {
              "outlinewidth": 0,
              "ticks": ""
             }
            },
            "marker": {
             "colorbar": {
              "outlinewidth": 0,
              "ticks": ""
             }
            }
           }
          ],
          "scattermapbox": [
           {
            "type": "scattermapbox",
            "marker": {
             "colorbar": {
              "outlinewidth": 0,
              "ticks": ""
             }
            }
           }
          ],
          "scatterternary": [
           {
            "type": "scatterternary",
            "marker": {
             "colorbar": {
              "outlinewidth": 0,
              "ticks": ""
             }
            }
           }
          ],
          "scattercarpet": [
           {
            "type": "scattercarpet",
            "marker": {
             "colorbar": {
              "outlinewidth": 0,
              "ticks": ""
             }
            }
           }
          ],
          "carpet": [
           {
            "aaxis": {
             "endlinecolor": "#A2B1C6",
             "gridcolor": "#506784",
             "linecolor": "#506784",
             "minorgridcolor": "#506784",
             "startlinecolor": "#A2B1C6"
            },
            "baxis": {
             "endlinecolor": "#A2B1C6",
             "gridcolor": "#506784",
             "linecolor": "#506784",
             "minorgridcolor": "#506784",
             "startlinecolor": "#A2B1C6"
            },
            "type": "carpet"
           }
          ],
          "table": [
           {
            "cells": {
             "fill": {
              "color": "#506784"
             },
             "line": {
              "color": "rgb(17,17,17)"
             }
            },
            "header": {
             "fill": {
              "color": "#2a3f5f"
             },
             "line": {
              "color": "rgb(17,17,17)"
             }
            },
            "type": "table"
           }
          ],
          "barpolar": [
           {
            "marker": {
             "line": {
              "color": "rgb(17,17,17)",
              "width": 0.5
             },
             "pattern": {
              "fillmode": "overlay",
              "size": 10,
              "solidity": 0.2
             }
            },
            "type": "barpolar"
           }
          ],
          "pie": [
           {
            "automargin": true,
            "type": "pie"
           }
          ]
         },
         "layout": {
          "autotypenumbers": "strict",
          "colorway": [
           "#636efa",
           "#EF553B",
           "#00cc96",
           "#ab63fa",
           "#FFA15A",
           "#19d3f3",
           "#FF6692",
           "#B6E880",
           "#FF97FF",
           "#FECB52"
          ],
          "font": {
           "color": "#f2f5fa"
          },
          "hovermode": "closest",
          "hoverlabel": {
           "align": "left"
          },
          "paper_bgcolor": "rgb(17,17,17)",
          "plot_bgcolor": "rgb(17,17,17)",
          "polar": {
           "bgcolor": "rgb(17,17,17)",
           "angularaxis": {
            "gridcolor": "#506784",
            "linecolor": "#506784",
            "ticks": ""
           },
           "radialaxis": {
            "gridcolor": "#506784",
            "linecolor": "#506784",
            "ticks": ""
           }
          },
          "ternary": {
           "bgcolor": "rgb(17,17,17)",
           "aaxis": {
            "gridcolor": "#506784",
            "linecolor": "#506784",
            "ticks": ""
           },
           "baxis": {
            "gridcolor": "#506784",
            "linecolor": "#506784",
            "ticks": ""
           },
           "caxis": {
            "gridcolor": "#506784",
            "linecolor": "#506784",
            "ticks": ""
           }
          },
          "coloraxis": {
           "colorbar": {
            "outlinewidth": 0,
            "ticks": ""
           }
          },
          "colorscale": {
           "sequential": [
            [
             0.0,
             "#0d0887"
            ],
            [
             0.1111111111111111,
             "#46039f"
            ],
            [
             0.2222222222222222,
             "#7201a8"
            ],
            [
             0.3333333333333333,
             "#9c179e"
            ],
            [
             0.4444444444444444,
             "#bd3786"
            ],
            [
             0.5555555555555556,
             "#d8576b"
            ],
            [
             0.6666666666666666,
             "#ed7953"
            ],
            [
             0.7777777777777778,
             "#fb9f3a"
            ],
            [
             0.8888888888888888,
             "#fdca26"
            ],
            [
             1.0,
             "#f0f921"
            ]
           ],
           "sequentialminus": [
            [
             0.0,
             "#0d0887"
            ],
            [
             0.1111111111111111,
             "#46039f"
            ],
            [
             0.2222222222222222,
             "#7201a8"
            ],
            [
             0.3333333333333333,
             "#9c179e"
            ],
            [
             0.4444444444444444,
             "#bd3786"
            ],
            [
             0.5555555555555556,
             "#d8576b"
            ],
            [
             0.6666666666666666,
             "#ed7953"
            ],
            [
             0.7777777777777778,
             "#fb9f3a"
            ],
            [
             0.8888888888888888,
             "#fdca26"
            ],
            [
             1.0,
             "#f0f921"
            ]
           ],
           "diverging": [
            [
             0,
             "#8e0152"
            ],
            [
             0.1,
             "#c51b7d"
            ],
            [
             0.2,
             "#de77ae"
            ],
            [
             0.3,
             "#f1b6da"
            ],
            [
             0.4,
             "#fde0ef"
            ],
            [
             0.5,
             "#f7f7f7"
            ],
            [
             0.6,
             "#e6f5d0"
            ],
            [
             0.7,
             "#b8e186"
            ],
            [
             0.8,
             "#7fbc41"
            ],
            [
             0.9,
             "#4d9221"
            ],
            [
             1,
             "#276419"
            ]
           ]
          },
          "xaxis": {
           "gridcolor": "#283442",
           "linecolor": "#506784",
           "ticks": "",
           "title": {
            "standoff": 15
           },
           "zerolinecolor": "#283442",
           "automargin": true,
           "zerolinewidth": 2
          },
          "yaxis": {
           "gridcolor": "#283442",
           "linecolor": "#506784",
           "ticks": "",
           "title": {
            "standoff": 15
           },
           "zerolinecolor": "#283442",
           "automargin": true,
           "zerolinewidth": 2
          },
          "scene": {
           "xaxis": {
            "backgroundcolor": "rgb(17,17,17)",
            "gridcolor": "#506784",
            "linecolor": "#506784",
            "showbackground": true,
            "ticks": "",
            "zerolinecolor": "#C8D4E3",
            "gridwidth": 2
           },
           "yaxis": {
            "backgroundcolor": "rgb(17,17,17)",
            "gridcolor": "#506784",
            "linecolor": "#506784",
            "showbackground": true,
            "ticks": "",
            "zerolinecolor": "#C8D4E3",
            "gridwidth": 2
           },
           "zaxis": {
            "backgroundcolor": "rgb(17,17,17)",
            "gridcolor": "#506784",
            "linecolor": "#506784",
            "showbackground": true,
            "ticks": "",
            "zerolinecolor": "#C8D4E3",
            "gridwidth": 2
           }
          },
          "shapedefaults": {
           "line": {
            "color": "#f2f5fa"
           }
          },
          "annotationdefaults": {
           "arrowcolor": "#f2f5fa",
           "arrowhead": 0,
           "arrowwidth": 1
          },
          "geo": {
           "bgcolor": "rgb(17,17,17)",
           "landcolor": "rgb(17,17,17)",
           "subunitcolor": "#506784",
           "showland": true,
           "showlakes": true,
           "lakecolor": "rgb(17,17,17)"
          },
          "title": {
           "x": 0.05
          },
          "updatemenudefaults": {
           "bgcolor": "#506784",
           "borderwidth": 0
          },
          "sliderdefaults": {
           "bgcolor": "#C8D4E3",
           "borderwidth": 1,
           "bordercolor": "rgb(17,17,17)",
           "tickwidth": 0
          },
          "mapbox": {
           "style": "dark"
          }
         }
        },
        "xaxis": {
         "anchor": "y",
         "domain": [
          0.0,
          1.0
         ],
         "title": {
          "text": "iteration"
         }
        },
        "yaxis": {
         "anchor": "x",
         "domain": [
          0.0,
          1.0
         ],
         "title": {
          "text": "belief"
         }
        },
        "legend": {
         "title": {
          "text": "result"
         },
         "tracegroupgap": 0
        },
        "margin": {
         "t": 60
        }
       },
       "config": {
        "plotlyServerURL": "https://plot.ly"
       }
      },
      "text/html": [
       "<div>                            <div id=\"286849ff-68ed-42f9-9837-ff7dc1808fee\" class=\"plotly-graph-div\" style=\"height:525px; width:100%;\"></div>            <script type=\"text/javascript\">                require([\"plotly\"], function(Plotly) {                    window.PLOTLYENV=window.PLOTLYENV || {};                                    if (document.getElementById(\"286849ff-68ed-42f9-9837-ff7dc1808fee\")) {                    Plotly.newPlot(                        \"286849ff-68ed-42f9-9837-ff7dc1808fee\",                        [{\"hovertemplate\":\"result=Res3\\u003cbr\\u003eiteration=%{x}\\u003cbr\\u003ebelief=%{y}\\u003cextra\\u003e\\u003c\\u002fextra\\u003e\",\"legendgroup\":\"Res3\",\"marker\":{\"color\":\"#636efa\",\"symbol\":\"circle\"},\"mode\":\"markers\",\"name\":\"Res3\",\"orientation\":\"v\",\"showlegend\":true,\"x\":[48,42,37,34,31,30,29,28,25,24,23,22,21,19,16,15,14,13,12,10,8,5,4,0],\"xaxis\":\"x\",\"y\":[0.5507681205335575,0.5502375473109172,0.5500805540307115,0.5497073211851208,0.5494979968115131,0.5441948838269535,0.5408331112254395,0.5385877955109419,0.5353422719587428,0.5330969562442454,0.5300959885181133,0.5267973353693025,0.4436182648955811,0.4420224854936452,0.43929426046571984,0.435351758003723,0.4349243537666615,0.43484245781027975,0.434760561853898,0.43022499846670503,0.42615265389203094,0.4251840653573892,0.40065112221754007,0.3617002695036788],\"yaxis\":\"y\",\"type\":\"scatter\"},{\"hovertemplate\":\"result=Res37\\u003cbr\\u003eiteration=%{x}\\u003cbr\\u003ebelief=%{y}\\u003cextra\\u003e\\u003c\\u002fextra\\u003e\",\"legendgroup\":\"Res37\",\"marker\":{\"color\":\"#EF553B\",\"symbol\":\"circle\"},\"mode\":\"markers\",\"name\":\"Res37\",\"orientation\":\"v\",\"showlegend\":true,\"x\":[27,25,24,23,21,16,15,14,12,11,8,7,6,4,2,1,0],\"xaxis\":\"x\",\"y\":[0.5504155104126778,0.5500750592614836,0.5497346081102895,0.5493941569590953,0.5490537058079012,0.508393598216788,0.5028031029098881,0.4960264183113691,0.4845157560214964,0.4731584088465539,0.4647965453675027,0.4431154691385084,0.4153530548633896,0.38884554253809867,0.34787880438399343,0.3276586035538746,0.3090427429312702],\"yaxis\":\"y\",\"type\":\"scatter\"},{\"hovertemplate\":\"result=Res17\\u003cbr\\u003eiteration=%{x}\\u003cbr\\u003ebelief=%{y}\\u003cextra\\u003e\\u003c\\u002fextra\\u003e\",\"legendgroup\":\"Res17\",\"marker\":{\"color\":\"#00cc96\",\"symbol\":\"circle\"},\"mode\":\"markers\",\"name\":\"Res17\",\"orientation\":\"v\",\"showlegend\":true,\"x\":[40,38,35,32,29,27,26,23,22,21,20,19,17,16,14,8,7,6,4,3,2,1,0],\"xaxis\":\"x\",\"y\":[0.5500750592614836,0.5495076406761601,0.5489969639493688,0.5489402220908365,0.5475216756275275,0.5455769532729695,0.5272850556283539,0.5253403332737958,0.5236225783533672,0.5098495406610226,0.509068401749185,0.505957843895064,0.4913803157474225,0.48591234336455924,0.4791518046574529,0.4623827526114145,0.45023625889454855,0.44533716901735965,0.4091805577498437,0.33996066994460794,0.33059793284512107,0.30962510217258676,0.29907300501417255],\"yaxis\":\"y\",\"type\":\"scatter\"},{\"hovertemplate\":\"result=Res12\\u003cbr\\u003eiteration=%{x}\\u003cbr\\u003ebelief=%{y}\\u003cextra\\u003e\\u003c\\u002fextra\\u003e\",\"legendgroup\":\"Res12\",\"marker\":{\"color\":\"#ab63fa\",\"symbol\":\"circle\"},\"mode\":\"markers\",\"name\":\"Res12\",\"orientation\":\"v\",\"showlegend\":true,\"x\":[28,26,24,21,19,17,16,15,14,13,11,10,9,8,7,6,4,3,2,1,0],\"xaxis\":\"x\",\"y\":[0.5494468458277326,0.5488794272424089,0.5482094327298855,0.547427772465275,0.5467559955614528,0.5461524564646341,0.5458545617073391,0.5445778698903612,0.5070060131042288,0.5017730629487924,0.49314554043550474,0.4893949813081888,0.48137099789171983,0.4798127642256188,0.4614956202234359,0.4487211451919487,0.4386889580993934,0.4325539634898209,0.39248563651101587,0.35219399508963356,0.3073879280433978],\"yaxis\":\"y\",\"type\":\"scatter\"},{\"hovertemplate\":\"result=Res5\\u003cbr\\u003eiteration=%{x}\\u003cbr\\u003ebelief=%{y}\\u003cextra\\u003e\\u003c\\u002fextra\\u003e\",\"legendgroup\":\"Res5\",\"marker\":{\"color\":\"#FFA15A\",\"symbol\":\"circle\"},\"mode\":\"markers\",\"name\":\"Res5\",\"orientation\":\"v\",\"showlegend\":true,\"x\":[40,36,33,31,26,25,24,23,20,19,16,15,14,13,12,10,9,8,7,6,4,3,2,1,0],\"xaxis\":\"x\",\"y\":[0.5487506028214998,0.5487068009566909,0.5486778568413577,0.5485827612057947,0.5485275540287831,0.5481762277340507,0.5474953254316623,0.54647397197808,0.5447717162221092,0.5442171225022093,0.5420131341700213,0.5415365025583494,0.5394675119533395,0.5323327459991631,0.506740749271635,0.5032894686268325,0.4960145384074389,0.4959593964525073,0.4810196123852923,0.4794338008287653,0.46353942314328217,0.4361124504912135,0.41608596411272736,0.3851306626612022,0.3405731654632319],\"yaxis\":\"y\",\"type\":\"scatter\"},{\"hovertemplate\":\"result=Res16\\u003cbr\\u003eiteration=%{x}\\u003cbr\\u003ebelief=%{y}\\u003cextra\\u003e\\u003c\\u002fextra\\u003e\",\"legendgroup\":\"Res16\",\"marker\":{\"color\":\"#19d3f3\",\"symbol\":\"circle\"},\"mode\":\"markers\",\"name\":\"Res16\",\"orientation\":\"v\",\"showlegend\":true,\"x\":[20,16,15,13,12,10,9,8,6,5,1,0],\"xaxis\":\"x\",\"y\":[0.5475216756275275,0.543752202442695,0.516793265392151,0.5087460774345685,0.49409091353532286,0.48560959886944943,0.47740502227622245,0.46759142916870544,0.4543244469070684,0.38633675269286005,0.3739802096652971,0.3199390462637065],\"yaxis\":\"y\",\"type\":\"scatter\"},{\"hovertemplate\":\"result=Res9\\u003cbr\\u003eiteration=%{x}\\u003cbr\\u003ebelief=%{y}\\u003cextra\\u003e\\u003c\\u002fextra\\u003e\",\"legendgroup\":\"Res9\",\"marker\":{\"color\":\"#FF6692\",\"symbol\":\"circle\"},\"mode\":\"markers\",\"name\":\"Res9\",\"orientation\":\"v\",\"showlegend\":true,\"x\":[47,37,32,21,20,15,14,13,12,11,9,8,7,6,5,4,3,2,1,0],\"xaxis\":\"x\",\"y\":[0.5452811071620268,0.5452191989153419,0.5448555432230342,0.540853796886446,0.5403688991893538,0.5393980738029069,0.537022599018417,0.5345575925860491,0.5307221469602563,0.4975024676224974,0.49639401654782644,0.4941757295396698,0.47956091574781556,0.4535565342575316,0.45243519531099496,0.43608111713335407,0.3712564897750746,0.3405900421067326,0.285545372129693,0.26734495327848784],\"yaxis\":\"y\",\"type\":\"scatter\"},{\"hovertemplate\":\"result=Res4\\u003cbr\\u003eiteration=%{x}\\u003cbr\\u003ebelief=%{y}\\u003cextra\\u003e\\u003c\\u002fextra\\u003e\",\"legendgroup\":\"Res4\",\"marker\":{\"color\":\"#B6E880\",\"symbol\":\"circle\"},\"mode\":\"markers\",\"name\":\"Res4\",\"orientation\":\"v\",\"showlegend\":true,\"x\":[32,25,24,23,16,11,9,8,7,5,4,3,2,1,0],\"xaxis\":\"x\",\"y\":[0.5410189139669341,0.5383984235486327,0.5383736602499587,0.5373557314082232,0.5368552272164834,0.5357203900458362,0.5301601662197556,0.5265104687765562,0.5165029184586667,0.4796429484200566,0.4422527056890212,0.421885257171705,0.39477352872313276,0.3517570319459575,0.30212470869285524],\"yaxis\":\"y\",\"type\":\"scatter\"},{\"hovertemplate\":\"result=Res29\\u003cbr\\u003eiteration=%{x}\\u003cbr\\u003ebelief=%{y}\\u003cextra\\u003e\\u003c\\u002fextra\\u003e\",\"legendgroup\":\"Res29\",\"marker\":{\"color\":\"#FF97FF\",\"symbol\":\"circle\"},\"mode\":\"markers\",\"name\":\"Res29\",\"orientation\":\"v\",\"showlegend\":true,\"x\":[35,29,27,24,23,22,18,16,15,14,12,10,9,8,7,6,5,4,3,2,1,0],\"xaxis\":\"x\",\"y\":[0.5376339239634884,0.5375808597520441,0.5371226468177369,0.5356916581954052,0.5353540089993586,0.5352921007526736,0.5349427929360749,0.5314714824376885,0.5215575681008986,0.512018786390834,0.4958558875699201,0.49040547085883307,0.4899920658895259,0.4784794671413715,0.4388390821029049,0.4301247920613339,0.40732186735059467,0.40045645500947197,0.37411476916499364,0.3482109009517948,0.3394851190905319,0.31054580212132094],\"yaxis\":\"y\",\"type\":\"scatter\"},{\"hovertemplate\":\"result=Res47\\u003cbr\\u003eiteration=%{x}\\u003cbr\\u003ebelief=%{y}\\u003cextra\\u003e\\u003c\\u002fextra\\u003e\",\"legendgroup\":\"Res47\",\"marker\":{\"color\":\"#FECB52\",\"symbol\":\"circle\"},\"mode\":\"markers\",\"name\":\"Res47\",\"orientation\":\"v\",\"showlegend\":true,\"x\":[28,24,22,17,15,14,13,12,11,10,9,8,7,6,5,4,3,2,1,0],\"xaxis\":\"x\",\"y\":[0.5367572027560149,0.5366295335743171,0.5363316388170223,0.5339495514602451,0.5335497346613312,0.5298567130117771,0.527448909247846,0.5231659575236863,0.5211362130909838,0.5135893364566371,0.4999640677269548,0.4897374447548476,0.47806367359549695,0.4663743663428283,0.44687182263694347,0.4307931560076811,0.40866780121692076,0.3473717565671376,0.3258431949175986,0.30937689665729123],\"yaxis\":\"y\",\"type\":\"scatter\"},{\"hovertemplate\":\"result=Res34\\u003cbr\\u003eiteration=%{x}\\u003cbr\\u003ebelief=%{y}\\u003cextra\\u003e\\u003c\\u002fextra\\u003e\",\"legendgroup\":\"Res34\",\"marker\":{\"color\":\"#636efa\",\"symbol\":\"circle\"},\"mode\":\"markers\",\"name\":\"Res34\",\"orientation\":\"v\",\"showlegend\":true,\"x\":[44,34,31,30,28,24,23,22,21,20,17,16,15,14,13,11,8,7,6,5,4,3,2,1,0],\"xaxis\":\"x\",\"y\":[0.5364107993002829,0.5362583096454514,0.5354128812049507,0.5346293436495337,0.5333655481783457,0.5324684101386481,0.5308859041060789,0.5293026686663692,0.5280602706669228,0.5260972695624191,0.5028206485213594,0.502591785647756,0.4928862341474623,0.490161872338557,0.47217916226943774,0.46171860808596615,0.4208371993327012,0.4100970508415416,0.39789245654041333,0.37927573341463655,0.3688410326934015,0.34790812259102294,0.32572520087420653,0.29810978460962756,0.2940614537467484],\"yaxis\":\"y\",\"type\":\"scatter\"},{\"hovertemplate\":\"result=Res24\\u003cbr\\u003eiteration=%{x}\\u003cbr\\u003ebelief=%{y}\\u003cextra\\u003e\\u003c\\u002fextra\\u003e\",\"legendgroup\":\"Res24\",\"marker\":{\"color\":\"#EF553B\",\"symbol\":\"circle\"},\"mode\":\"markers\",\"name\":\"Res24\",\"orientation\":\"v\",\"showlegend\":true,\"x\":[32,28,22,19,18,17,15,14,13,12,10,9,8,7,6,5,4,3,2,1,0],\"xaxis\":\"x\",\"y\":[0.5362478141386975,0.5361243951433339,0.5359299023411384,0.5355639173536046,0.5344512990296876,0.5339517490435077,0.530807018609785,0.5286278567646369,0.5133346533256289,0.5132302177106942,0.5082495409349512,0.5065131171412385,0.5003817964865309,0.4631757156813544,0.4409363785878948,0.416278415317511,0.3803477845307339,0.3429988393408152,0.33570744493507076,0.3015405431869536,0.30020373182587257],\"yaxis\":\"y\",\"type\":\"scatter\"},{\"hovertemplate\":\"result=Res43\\u003cbr\\u003eiteration=%{x}\\u003cbr\\u003ebelief=%{y}\\u003cextra\\u003e\\u003c\\u002fextra\\u003e\",\"legendgroup\":\"Res43\",\"marker\":{\"color\":\"#00cc96\",\"symbol\":\"circle\"},\"mode\":\"markers\",\"name\":\"Res43\",\"orientation\":\"v\",\"showlegend\":true,\"x\":[63,55,52,43,41,35,32,31,23,22,21,19,15,14,13,11,10,9,8,7,5,4,2,1,0],\"xaxis\":\"x\",\"y\":[0.5355119583750239,0.534718151885946,0.5344991662727987,0.5338119185363319,0.5337843876292575,0.5333015816350979,0.5331380379452844,0.5298515250733887,0.5284723787461418,0.5230374288914577,0.5218467771798014,0.5161301795099339,0.5155215240759901,0.49287035896291237,0.47717621722645376,0.45986059487729763,0.4425449725281415,0.43417193205430504,0.417399055029395,0.38385267408663437,0.37212636321559334,0.36414795841341885,0.332707919411594,0.32144999084934245,0.3087531223861867],\"yaxis\":\"y\",\"type\":\"scatter\"},{\"hovertemplate\":\"result=Res45\\u003cbr\\u003eiteration=%{x}\\u003cbr\\u003ebelief=%{y}\\u003cextra\\u003e\\u003c\\u002fextra\\u003e\",\"legendgroup\":\"Res45\",\"marker\":{\"color\":\"#ab63fa\",\"symbol\":\"circle\"},\"mode\":\"markers\",\"name\":\"Res45\",\"orientation\":\"v\",\"showlegend\":true,\"x\":[44,41,38,35,31,28,26,22,20,19,17,16,15,14,13,12,11,10,8,7,6,5,4,3,2,1,0],\"xaxis\":\"x\",\"y\":[0.5352723631443097,0.5352675391250874,0.5350973135494903,0.5350117181780827,0.5347985561586215,0.5343225538882665,0.5340992641012252,0.533088995999315,0.5249000237159276,0.5231989142361831,0.5231900702009424,0.5213404131343076,0.5190637880393427,0.5101039017855482,0.5086771318801417,0.5059964804840871,0.4962855398003261,0.48498922173144143,0.46602913607165314,0.4187358694371991,0.40081795527472686,0.39417893933112097,0.3925094230728136,0.3770264697050262,0.36646723086277516,0.3374197909119564,0.3218205417350764],\"yaxis\":\"y\",\"type\":\"scatter\"},{\"hovertemplate\":\"result=Res39\\u003cbr\\u003eiteration=%{x}\\u003cbr\\u003ebelief=%{y}\\u003cextra\\u003e\\u003c\\u002fextra\\u003e\",\"legendgroup\":\"Res39\",\"marker\":{\"color\":\"#FFA15A\",\"symbol\":\"circle\"},\"mode\":\"markers\",\"name\":\"Res39\",\"orientation\":\"v\",\"showlegend\":true,\"x\":[40,37,32,28,27,26,24,23,22,16,15,14,13,12,11,10,9,8,7,6,5,4,3,2,1,0],\"xaxis\":\"x\",\"y\":[0.5344092418422647,0.5276902008698814,0.527166958490877,0.5205545052350612,0.5178828262367746,0.5176065548904635,0.5174675003976521,0.5168530721393134,0.5149375115031369,0.512857825159144,0.5106777780298846,0.5081701407614811,0.47821469472811684,0.4726834898980436,0.45981187237612114,0.44579042521603995,0.4352386099705796,0.4142526334320744,0.392526296668106,0.3821645141901435,0.3734166707575176,0.3718997128928042,0.3620485121037389,0.3548907489236902,0.3316963361821569,0.3163463903578042],\"yaxis\":\"y\",\"type\":\"scatter\"},{\"hovertemplate\":\"result=Res38\\u003cbr\\u003eiteration=%{x}\\u003cbr\\u003ebelief=%{y}\\u003cextra\\u003e\\u003c\\u002fextra\\u003e\",\"legendgroup\":\"Res38\",\"marker\":{\"color\":\"#19d3f3\",\"symbol\":\"circle\"},\"mode\":\"markers\",\"name\":\"Res38\",\"orientation\":\"v\",\"showlegend\":true,\"x\":[43,42,40,35,34,31,30,27,26,25,24,23,22,21,20,19,17,16,15,12,11,9,8,7,5,4,3,2,1,0],\"xaxis\":\"x\",\"y\":[0.5324096935936573,0.5320807552922739,0.5319215626579412,0.5317364672311604,0.531427264966761,0.5309055552987054,0.530486676936709,0.5186662451110631,0.5116336343675671,0.5106623174301719,0.5095390525634156,0.5084343353956495,0.5042618330982229,0.5027384439172702,0.49838297256865105,0.48178026855818523,0.48021260845188907,0.4733538688172698,0.46492095463020755,0.4604955218005061,0.45403378767976327,0.45151107865430895,0.4423925754820916,0.4285361255564313,0.409621179493697,0.39589046243147147,0.37612284809724317,0.36157239640343,0.3225265264818876,0.31182124521352217],\"yaxis\":\"y\",\"type\":\"scatter\"},{\"hovertemplate\":\"result=Res42\\u003cbr\\u003eiteration=%{x}\\u003cbr\\u003ebelief=%{y}\\u003cextra\\u003e\\u003c\\u002fextra\\u003e\",\"legendgroup\":\"Res42\",\"marker\":{\"color\":\"#FF6692\",\"symbol\":\"circle\"},\"mode\":\"markers\",\"name\":\"Res42\",\"orientation\":\"v\",\"showlegend\":true,\"x\":[33,31,28,21,20,19,18,17,16,15,12,11,10,9,7,6,5,4,3,2,0],\"xaxis\":\"x\",\"y\":[0.5320144748493891,0.5319009969594533,0.5315640344623356,0.5314623978575012,0.5300571421886796,0.5297496940338597,0.5277054085103341,0.5211638300306001,0.5208196554131692,0.516806567301126,0.5149280262164286,0.5125332763978663,0.5123908404079028,0.5044431553669484,0.5043454535451306,0.4972749267200082,0.479379172509647,0.41977926950352484,0.4104774637729074,0.3852526133814672,0.32527176210266195],\"yaxis\":\"y\",\"type\":\"scatter\"},{\"hovertemplate\":\"result=Res23\\u003cbr\\u003eiteration=%{x}\\u003cbr\\u003ebelief=%{y}\\u003cextra\\u003e\\u003c\\u002fextra\\u003e\",\"legendgroup\":\"Res23\",\"marker\":{\"color\":\"#B6E880\",\"symbol\":\"circle\"},\"mode\":\"markers\",\"name\":\"Res23\",\"orientation\":\"v\",\"showlegend\":true,\"x\":[37,32,29,23,19,16,15,14,11,9,8,7,6,5,4,3,2,1,0],\"xaxis\":\"x\",\"y\":[0.5313624503766645,0.5312008629556713,0.5299495542443767,0.5294044541747586,0.5290062957081315,0.5274340321651382,0.5244471866579414,0.5210375678325905,0.5192481168929765,0.5119275021091418,0.4789462245658509,0.4474078767517011,0.43931115159525314,0.4377022607654478,0.43189812321320376,0.42179190398141453,0.3555168635891548,0.34701950965590456,0.3270491131407376],\"yaxis\":\"y\",\"type\":\"scatter\"},{\"hovertemplate\":\"result=Res31\\u003cbr\\u003eiteration=%{x}\\u003cbr\\u003ebelief=%{y}\\u003cextra\\u003e\\u003c\\u002fextra\\u003e\",\"legendgroup\":\"Res31\",\"marker\":{\"color\":\"#FF97FF\",\"symbol\":\"circle\"},\"mode\":\"markers\",\"name\":\"Res31\",\"orientation\":\"v\",\"showlegend\":true,\"x\":[40,37,29,24,23,22,21,18,16,15,14,13,12,11,10,9,8,7,6,5,4,3,2,1,0],\"xaxis\":\"x\",\"y\":[0.5307645918787361,0.530521412485026,0.530280576197917,0.5294920693617395,0.5288111670593512,0.5243023179290718,0.5207122354835985,0.5166547424087573,0.5143023488979522,0.48811630516030435,0.47635279887900295,0.4702428371251508,0.46539379776782785,0.46340249903117187,0.44708653376191837,0.44674608261072424,0.4449610538183839,0.4445624019842359,0.44085205347824574,0.4377075704802732,0.4233741299139544,0.38029225751806917,0.37749142871419306,0.34931614460901117,0.33862721735077106],\"yaxis\":\"y\",\"type\":\"scatter\"},{\"hovertemplate\":\"result=Res14\\u003cbr\\u003eiteration=%{x}\\u003cbr\\u003ebelief=%{y}\\u003cextra\\u003e\\u003c\\u002fextra\\u003e\",\"legendgroup\":\"Res14\",\"marker\":{\"color\":\"#FECB52\",\"symbol\":\"circle\"},\"mode\":\"markers\",\"name\":\"Res14\",\"orientation\":\"v\",\"showlegend\":true,\"x\":[34,29,28,25,22,21,20,17,16,15,14,13,12,11,10,9,8,7,6,5,4,3,2,1,0],\"xaxis\":\"x\",\"y\":[0.5302880111422642,0.530062391142525,0.5298573593506697,0.5295739035575188,0.5291176198697408,0.5253797277662422,0.5223448416927735,0.5219622447808655,0.5199397685854441,0.4925492226342651,0.46066383802074395,0.45975352095875677,0.45550791736102947,0.44346854215566145,0.4196881017177252,0.4149452139706892,0.4111131627024811,0.4044254067478938,0.38710966177014683,0.3708780141522846,0.3439932370116223,0.3293789670218299,0.3120826639743201,0.30923090100826545,0.2913036490838926],\"yaxis\":\"y\",\"type\":\"scatter\"},{\"hovertemplate\":\"result=Res35\\u003cbr\\u003eiteration=%{x}\\u003cbr\\u003ebelief=%{y}\\u003cextra\\u003e\\u003c\\u002fextra\\u003e\",\"legendgroup\":\"Res35\",\"marker\":{\"color\":\"#636efa\",\"symbol\":\"circle\"},\"mode\":\"markers\",\"name\":\"Res35\",\"orientation\":\"v\",\"showlegend\":true,\"x\":[31,24,22,21,20,19,17,16,15,14,12,11,10,8,7,6,5,4,3,2,1,0],\"xaxis\":\"x\",\"y\":[0.5287276487299442,0.5280893028214552,0.5235419569094162,0.518808910369453,0.5181202544661472,0.5161084574767516,0.5102522060524435,0.5099161801625263,0.5088898143991624,0.5076987606531416,0.4915110083826612,0.48603031643926253,0.484140411394128,0.48114046025231094,0.47830792560579316,0.45463354663103184,0.4506536780421725,0.42040895223862834,0.39782409199075747,0.3314253811939787,0.3039184822666408,0.2711805102385708],\"yaxis\":\"y\",\"type\":\"scatter\"},{\"hovertemplate\":\"result=Res28\\u003cbr\\u003eiteration=%{x}\\u003cbr\\u003ebelief=%{y}\\u003cextra\\u003e\\u003c\\u002fextra\\u003e\",\"legendgroup\":\"Res28\",\"marker\":{\"color\":\"#EF553B\",\"symbol\":\"circle\"},\"mode\":\"markers\",\"name\":\"Res28\",\"orientation\":\"v\",\"showlegend\":true,\"x\":[23,22,18,17,16,15,14,13,12,11,9,8,7,6,5,4,3,1,0],\"xaxis\":\"x\",\"y\":[0.5286973177471903,0.5274525578078699,0.5251363828824134,0.5207470076328229,0.5181975189961863,0.505084983822591,0.5040965531609047,0.5020208596818179,0.49919735161472356,0.49726326437068763,0.4933582103558406,0.48176614362230186,0.4761221732096024,0.46537073810213814,0.45064082264001587,0.4116198324317155,0.3983946313908857,0.37336411198003083,0.3389711298759231],\"yaxis\":\"y\",\"type\":\"scatter\"},{\"hovertemplate\":\"result=Res30\\u003cbr\\u003eiteration=%{x}\\u003cbr\\u003ebelief=%{y}\\u003cextra\\u003e\\u003c\\u002fextra\\u003e\",\"legendgroup\":\"Res30\",\"marker\":{\"color\":\"#00cc96\",\"symbol\":\"circle\"},\"mode\":\"markers\",\"name\":\"Res30\",\"orientation\":\"v\",\"showlegend\":true,\"x\":[24,20,18,17,16,15,14,13,12,11,9,8,7,6,5,4,3,2,1,0],\"xaxis\":\"x\",\"y\":[0.5286859508190302,0.5283273209471215,0.525992935505998,0.5246775399834485,0.5221247476455182,0.5210668048132729,0.5014463060896748,0.49920237527799705,0.49734005326652575,0.48670734715244396,0.47773866630056455,0.4683052623133076,0.4651407604289841,0.44209390561383216,0.42578480314254974,0.4125467231555924,0.380743839719146,0.37593656469725895,0.34185677543489035,0.3317417412437814],\"yaxis\":\"y\",\"type\":\"scatter\"},{\"hovertemplate\":\"result=Res1\\u003cbr\\u003eiteration=%{x}\\u003cbr\\u003ebelief=%{y}\\u003cextra\\u003e\\u003c\\u002fextra\\u003e\",\"legendgroup\":\"Res1\",\"marker\":{\"color\":\"#ab63fa\",\"symbol\":\"circle\"},\"mode\":\"markers\",\"name\":\"Res1\",\"orientation\":\"v\",\"showlegend\":true,\"x\":[46,37,29,25,21,20,19,18,16,14,13,12,10,8,7,6,5,4,3,2,0],\"xaxis\":\"x\",\"y\":[0.528024322219865,0.5275799568121333,0.5271082022655984,0.5246330555057928,0.5245023552750608,0.5235438996157628,0.523071172498963,0.5229123370148065,0.5141914350918152,0.51185257575571,0.5097753145090986,0.5091998666589794,0.5074729405767162,0.5034883658103964,0.49165120369038096,0.4770535616587134,0.4578220488355639,0.4493738854956191,0.38197839042070847,0.34007440473054185,0.3216587711252204],\"yaxis\":\"y\",\"type\":\"scatter\"},{\"hovertemplate\":\"result=Res33\\u003cbr\\u003eiteration=%{x}\\u003cbr\\u003ebelief=%{y}\\u003cextra\\u003e\\u003c\\u002fextra\\u003e\",\"legendgroup\":\"Res33\",\"marker\":{\"color\":\"#FFA15A\",\"symbol\":\"circle\"},\"mode\":\"markers\",\"name\":\"Res33\",\"orientation\":\"v\",\"showlegend\":true,\"x\":[31,26,23,22,21,17,15,14,13,12,9,8,7,6,5,4,3,1,0],\"xaxis\":\"x\",\"y\":[0.5269826730614564,0.5267562910196217,0.5261249246034974,0.5257305530714964,0.5249637672575185,0.5222030362408582,0.5218452265961218,0.518893173448326,0.5170859843046843,0.5115578669289733,0.5084728744396265,0.5020477312851712,0.48665249707571767,0.4642844343968894,0.45462575608397754,0.4344942258457217,0.4285914954061455,0.4144032288252878,0.39016182747198636],\"yaxis\":\"y\",\"type\":\"scatter\"},{\"hovertemplate\":\"result=Res0\\u003cbr\\u003eiteration=%{x}\\u003cbr\\u003ebelief=%{y}\\u003cextra\\u003e\\u003c\\u002fextra\\u003e\",\"legendgroup\":\"Res0\",\"marker\":{\"color\":\"#19d3f3\",\"symbol\":\"circle\"},\"mode\":\"markers\",\"name\":\"Res0\",\"orientation\":\"v\",\"showlegend\":true,\"x\":[31,25,23,20,19,18,16,15,14,11,10,9,8,7,6,4,3,2,1,0],\"xaxis\":\"x\",\"y\":[0.5261468038944733,0.5257630425428593,0.524679364932136,0.5230885827425084,0.5229985699894497,0.5217095430093255,0.5214124020585512,0.5143393814146979,0.5049371965084484,0.5035521661666503,0.5022754743496722,0.501140637179025,0.49259202961044857,0.47801651654373667,0.45737831464097983,0.44325799142520783,0.41573627305042926,0.3733380105709341,0.36894296711203295,0.3196429677326593],\"yaxis\":\"y\",\"type\":\"scatter\"},{\"hovertemplate\":\"result=Res40\\u003cbr\\u003eiteration=%{x}\\u003cbr\\u003ebelief=%{y}\\u003cextra\\u003e\\u003c\\u002fextra\\u003e\",\"legendgroup\":\"Res40\",\"marker\":{\"color\":\"#FF6692\",\"symbol\":\"circle\"},\"mode\":\"markers\",\"name\":\"Res40\",\"orientation\":\"v\",\"showlegend\":true,\"x\":[40,38,34,32,31,30,29,28,27,24,23,22,21,18,16,15,13,12,10,9,8,7,6,5,4,3,2,1,0],\"xaxis\":\"x\",\"y\":[0.5257069047677101,0.525588726833951,0.5250521834695455,0.5249167895896389,0.5235176644038166,0.5215302753298152,0.5210037584838718,0.5208313187419236,0.5206588789999753,0.5201727556980229,0.5141088228579639,0.5120954243687027,0.5112513230011488,0.511025752105218,0.5059301127199152,0.502410052955232,0.5004265487065449,0.4840370831638101,0.47976390727589663,0.47649569044779017,0.46000799175939733,0.4163275989306463,0.4089521034076967,0.4062063940494388,0.39312088196168676,0.3754013100104163,0.3548742735003013,0.32001844923535744,0.29587206681238765],\"yaxis\":\"y\",\"type\":\"scatter\"},{\"hovertemplate\":\"result=Res36\\u003cbr\\u003eiteration=%{x}\\u003cbr\\u003ebelief=%{y}\\u003cextra\\u003e\\u003c\\u002fextra\\u003e\",\"legendgroup\":\"Res36\",\"marker\":{\"color\":\"#B6E880\",\"symbol\":\"circle\"},\"mode\":\"markers\",\"name\":\"Res36\",\"orientation\":\"v\",\"showlegend\":true,\"x\":[35,34,32,31,28,27,26,25,24,23,22,20,19,16,15,14,13,12,11,10,9,8,7,6,5,4,3,2,1,0],\"xaxis\":\"x\",\"y\":[0.5255642608153716,0.5255460669969038,0.5254495824079872,0.5190475715478766,0.5188337174964776,0.5183076004857474,0.5180974706903777,0.5162534169014159,0.5155372413873379,0.5143078530836108,0.5055052036095887,0.4871492438349654,0.48486131482759387,0.4838642152121021,0.48239080166921433,0.43937632202658966,0.4343990003007895,0.43187025106395127,0.42877168654539854,0.4248605234206724,0.4031376495421772,0.391661923733332,0.3821859912084716,0.3689918165339198,0.3571995444510611,0.3399645074065666,0.3232932235160947,0.31315211359960665,0.3052356311888976,0.29502585918244884],\"yaxis\":\"y\",\"type\":\"scatter\"},{\"hovertemplate\":\"result=Res11\\u003cbr\\u003eiteration=%{x}\\u003cbr\\u003ebelief=%{y}\\u003cextra\\u003e\\u003c\\u002fextra\\u003e\",\"legendgroup\":\"Res11\",\"marker\":{\"color\":\"#FF97FF\",\"symbol\":\"circle\"},\"mode\":\"markers\",\"name\":\"Res11\",\"orientation\":\"v\",\"showlegend\":true,\"x\":[21,19,16,15,13,11,10,9,8,7,5,4,3,2,1,0],\"xaxis\":\"x\",\"y\":[0.5224937067547437,0.521425193232274,0.5196566936721312,0.5074975799090558,0.5047583888592463,0.5001779545961065,0.4849024647363921,0.47856022385618213,0.4725357586241793,0.46322062539775144,0.4511198979975912,0.424147887292956,0.39220681730048235,0.3630494981808001,0.33999606261377785,0.330516330745966],\"yaxis\":\"y\",\"type\":\"scatter\"},{\"hovertemplate\":\"result=Res18\\u003cbr\\u003eiteration=%{x}\\u003cbr\\u003ebelief=%{y}\\u003cextra\\u003e\\u003c\\u002fextra\\u003e\",\"legendgroup\":\"Res18\",\"marker\":{\"color\":\"#FECB52\",\"symbol\":\"circle\"},\"mode\":\"markers\",\"name\":\"Res18\",\"orientation\":\"v\",\"showlegend\":true,\"x\":[21,20,18,16,15,14,13,12,11,9,8,7,6,5,4,3,2,1,0],\"xaxis\":\"x\",\"y\":[0.5222192329376378,0.5219496444718703,0.5198602244465367,0.5166014081882758,0.5128832526301719,0.5051340147315949,0.5051261998009442,0.504424708650492,0.49837328114411883,0.48573993554489087,0.4839094097025204,0.4737975771092023,0.46514272811516433,0.40524432585460435,0.40222284213248993,0.38612034945301954,0.3753552558491813,0.3522589885161587,0.3275539106345776],\"yaxis\":\"y\",\"type\":\"scatter\"},{\"hovertemplate\":\"result=Res44\\u003cbr\\u003eiteration=%{x}\\u003cbr\\u003ebelief=%{y}\\u003cextra\\u003e\\u003c\\u002fextra\\u003e\",\"legendgroup\":\"Res44\",\"marker\":{\"color\":\"#636efa\",\"symbol\":\"circle\"},\"mode\":\"markers\",\"name\":\"Res44\",\"orientation\":\"v\",\"showlegend\":true,\"x\":[31,25,24,21,19,15,14,13,8,6,5,4,3,2,0],\"xaxis\":\"x\",\"y\":[0.5205934162550129,0.5196608343643403,0.5185425277336129,0.5106923825328766,0.5087034022581617,0.5032198265795231,0.5016022957849179,0.49626492442675524,0.4464869737156718,0.43251562722672987,0.4136971763684614,0.40110593443403164,0.3656042358101789,0.36203668347051404,0.3330461422574855],\"yaxis\":\"y\",\"type\":\"scatter\"},{\"hovertemplate\":\"result=Res41\\u003cbr\\u003eiteration=%{x}\\u003cbr\\u003ebelief=%{y}\\u003cextra\\u003e\\u003c\\u002fextra\\u003e\",\"legendgroup\":\"Res41\",\"marker\":{\"color\":\"#EF553B\",\"symbol\":\"circle\"},\"mode\":\"markers\",\"name\":\"Res41\",\"orientation\":\"v\",\"showlegend\":true,\"x\":[48,40,29,28,27,24,22,20,19,18,15,14,13,12,11,10,9,8,7,6,5,4,3,2,1,0],\"xaxis\":\"x\",\"y\":[0.5164201724505048,0.5164074970419801,0.5162397938511705,0.5146812180682947,0.5111618135437979,0.5101995986230123,0.5011246596904438,0.49233048990090894,0.49211824736174403,0.49147478592345883,0.48908406887762845,0.4881249567475389,0.4804119211705569,0.4678335471980207,0.4572800322372279,0.44583921962653467,0.43982941853539786,0.4373316161363263,0.42204209511800517,0.37663393171861903,0.35536092289244237,0.3457762036646677,0.33905384622715445,0.33639634365188287,0.32740592898658694,0.3169277762097563],\"yaxis\":\"y\",\"type\":\"scatter\"},{\"hovertemplate\":\"result=Res15\\u003cbr\\u003eiteration=%{x}\\u003cbr\\u003ebelief=%{y}\\u003cextra\\u003e\\u003c\\u002fextra\\u003e\",\"legendgroup\":\"Res15\",\"marker\":{\"color\":\"#00cc96\",\"symbol\":\"circle\"},\"mode\":\"markers\",\"name\":\"Res15\",\"orientation\":\"v\",\"showlegend\":true,\"x\":[36,32,22,20,16,14,13,12,11,9,8,7,6,5,4,3,2,1,0],\"xaxis\":\"x\",\"y\":[0.5163747621436673,0.5155298332181518,0.5153998385349369,0.5138834696085284,0.5102188943487345,0.5058369349483709,0.48643771234834,0.48395338127245524,0.47437123735882125,0.46970373312056557,0.4491832195983362,0.4391792199657689,0.4224930885686025,0.41437852577306733,0.37094050708810933,0.3477951648477413,0.3440053321214782,0.32264092300985425,0.31054078719889033],\"yaxis\":\"y\",\"type\":\"scatter\"},{\"hovertemplate\":\"result=Res2\\u003cbr\\u003eiteration=%{x}\\u003cbr\\u003ebelief=%{y}\\u003cextra\\u003e\\u003c\\u002fextra\\u003e\",\"legendgroup\":\"Res2\",\"marker\":{\"color\":\"#ab63fa\",\"symbol\":\"circle\"},\"mode\":\"markers\",\"name\":\"Res2\",\"orientation\":\"v\",\"showlegend\":true,\"x\":[46,36,34,33,32,31,27,26,24,23,21,20,19,17,16,15,14,13,12,10,9,8,7,6,5,4,3,2,1,0],\"xaxis\":\"x\",\"y\":[0.5149433971875332,0.5142032867070184,0.5136482448940258,0.5128225045163426,0.5124031274962173,0.5104614659737434,0.5094428397213038,0.5082058180730848,0.5079446704837038,0.497733482953969,0.49073764879162796,0.48427407691171104,0.47803484773325366,0.4655276215698629,0.46309042653508836,0.45781223823779593,0.45609857096920947,0.4398551195221851,0.4297849687850839,0.41581389520813195,0.4156150577467874,0.41336335812903363,0.4044667900316986,0.39153535157013686,0.3885617787453386,0.3797727524515077,0.3451704546871511,0.33844653009895387,0.3173186875475925,0.3114381638346664],\"yaxis\":\"y\",\"type\":\"scatter\"},{\"hovertemplate\":\"result=Res25\\u003cbr\\u003eiteration=%{x}\\u003cbr\\u003ebelief=%{y}\\u003cextra\\u003e\\u003c\\u002fextra\\u003e\",\"legendgroup\":\"Res25\",\"marker\":{\"color\":\"#FFA15A\",\"symbol\":\"circle\"},\"mode\":\"markers\",\"name\":\"Res25\",\"orientation\":\"v\",\"showlegend\":true,\"x\":[36,35,32,29,27,26,24,22,19,18,17,16,14,13,12,11,10,9,8,7,6,5,4,3,2,1,0],\"xaxis\":\"x\",\"y\":[0.5129365168666031,0.5125664045499028,0.5115254102746745,0.5109722126664049,0.5103906075973044,0.5096814575622151,0.5094663697486064,0.5051001447298282,0.5035413137319474,0.5016977474608019,0.49928369820932184,0.4977344227118792,0.49136838125699667,0.48749408993924653,0.47885197683337444,0.4596421787004472,0.4560670715583325,0.45514243620761685,0.4501806898648173,0.4223984673795629,0.41667304875904065,0.4096179092408996,0.39010387181025635,0.3685979782072327,0.35542045618080287,0.33933235145403606,0.29995887031650803],\"yaxis\":\"y\",\"type\":\"scatter\"},{\"hovertemplate\":\"result=Res46\\u003cbr\\u003eiteration=%{x}\\u003cbr\\u003ebelief=%{y}\\u003cextra\\u003e\\u003c\\u002fextra\\u003e\",\"legendgroup\":\"Res46\",\"marker\":{\"color\":\"#19d3f3\",\"symbol\":\"circle\"},\"mode\":\"markers\",\"name\":\"Res46\",\"orientation\":\"v\",\"showlegend\":true,\"x\":[30,27,23,22,18,17,16,15,14,13,12,11,10,9,8,7,6,5,4,1,0],\"xaxis\":\"x\",\"y\":[0.5118186462550567,0.5101016103641078,0.5093032945118394,0.5037321643873592,0.5007202685428463,0.4948509381234165,0.48760846896159227,0.4755184460834142,0.4522806534156879,0.44523859563051527,0.4307206842797422,0.4289366369854995,0.4250904386671274,0.38516251708781757,0.37895370856993377,0.35261042668487586,0.3361824805154085,0.3320747770794723,0.3268776665437605,0.3160087560227555,0.29170224255412763],\"yaxis\":\"y\",\"type\":\"scatter\"},{\"hovertemplate\":\"result=Res26\\u003cbr\\u003eiteration=%{x}\\u003cbr\\u003ebelief=%{y}\\u003cextra\\u003e\\u003c\\u002fextra\\u003e\",\"legendgroup\":\"Res26\",\"marker\":{\"color\":\"#FF6692\",\"symbol\":\"circle\"},\"mode\":\"markers\",\"name\":\"Res26\",\"orientation\":\"v\",\"showlegend\":true,\"x\":[41,39,36,33,32,31,30,29,24,23,22,20,19,18,17,15,14,13,12,11,10,8,7,5,4,3,2,1,0],\"xaxis\":\"x\",\"y\":[0.5113502721046452,0.5105262498998784,0.5059844627693388,0.5041046604111079,0.5035747396963943,0.4968678119082525,0.49608635940563917,0.49377182566351996,0.48569436045716335,0.4826344702916428,0.48191165004772046,0.4812975561531949,0.4781288580759012,0.47790349931799336,0.47656428726871725,0.476369257166802,0.47194356210136174,0.4712582096986834,0.47044082584509367,0.46763959162325747,0.45740516586281577,0.4561028041994769,0.43010701323491285,0.4130887919940099,0.3902446190389334,0.382600127313086,0.34710999292021943,0.3300147413106495,0.28152261559197594],\"yaxis\":\"y\",\"type\":\"scatter\"},{\"hovertemplate\":\"result=Res19\\u003cbr\\u003eiteration=%{x}\\u003cbr\\u003ebelief=%{y}\\u003cextra\\u003e\\u003c\\u002fextra\\u003e\",\"legendgroup\":\"Res19\",\"marker\":{\"color\":\"#B6E880\",\"symbol\":\"circle\"},\"mode\":\"markers\",\"name\":\"Res19\",\"orientation\":\"v\",\"showlegend\":true,\"x\":[40,33,32,30,29,27,26,23,20,19,18,16,15,14,13,12,8,7,6,5,4,3,2,1,0],\"xaxis\":\"x\",\"y\":[0.5108251693586754,0.508161201303851,0.5075987572905298,0.5040784376098667,0.5011888594252101,0.49996802539402896,0.4985993696355393,0.4909026298799155,0.48992167931708175,0.48823876789914655,0.48381634546468727,0.4834519455688483,0.47708601736976297,0.46868919521867536,0.4656558942569933,0.4608690587148625,0.4582778077922921,0.4250811101158475,0.41009093766583066,0.3977313167398689,0.39033681123381353,0.3765014442255401,0.34857799268248035,0.3237042690225682,0.3206653622356789],\"yaxis\":\"y\",\"type\":\"scatter\"},{\"hovertemplate\":\"result=Res21\\u003cbr\\u003eiteration=%{x}\\u003cbr\\u003ebelief=%{y}\\u003cextra\\u003e\\u003c\\u002fextra\\u003e\",\"legendgroup\":\"Res21\",\"marker\":{\"color\":\"#FF97FF\",\"symbol\":\"circle\"},\"mode\":\"markers\",\"name\":\"Res21\",\"orientation\":\"v\",\"showlegend\":true,\"x\":[33,32,31,29,28,27,23,22,21,20,19,17,16,15,13,12,9,8,7,6,5,4,3,2,1,0],\"xaxis\":\"x\",\"y\":[0.5100240004915471,0.5094520901986259,0.5073148607346998,0.5068888529322886,0.5067579866161391,0.5057692461999379,0.5052918087066562,0.5023410932272172,0.5015095350073581,0.5002122945222471,0.49779501725579284,0.4952026108319171,0.4872228122413951,0.48080282549606346,0.4797332205191703,0.47608077731674286,0.47241573987931273,0.4703130838830808,0.46536074606668576,0.45699892183809104,0.45094937562498105,0.4183354624655127,0.4124845482312075,0.39857070969942215,0.3751904896512011,0.31327180087618706],\"yaxis\":\"y\",\"type\":\"scatter\"},{\"hovertemplate\":\"result=Res7\\u003cbr\\u003eiteration=%{x}\\u003cbr\\u003ebelief=%{y}\\u003cextra\\u003e\\u003c\\u002fextra\\u003e\",\"legendgroup\":\"Res7\",\"marker\":{\"color\":\"#FECB52\",\"symbol\":\"circle\"},\"mode\":\"markers\",\"name\":\"Res7\",\"orientation\":\"v\",\"showlegend\":true,\"x\":[30,23,20,16,15,14,13,10,8,7,6,5,4,3,2,1,0],\"xaxis\":\"x\",\"y\":[0.5098811955504343,0.5096330321800366,0.5041489586862247,0.5029861889915916,0.5025100005824212,0.5024566268371231,0.4978600163211555,0.49097982547760655,0.49047324856415525,0.46777149888451125,0.4641468762058949,0.447920447582665,0.4072128487244938,0.4044283978430683,0.39094119425573526,0.36677518338127246,0.35109946288533633],\"yaxis\":\"y\",\"type\":\"scatter\"},{\"hovertemplate\":\"result=Res8\\u003cbr\\u003eiteration=%{x}\\u003cbr\\u003ebelief=%{y}\\u003cextra\\u003e\\u003c\\u002fextra\\u003e\",\"legendgroup\":\"Res8\",\"marker\":{\"color\":\"#636efa\",\"symbol\":\"circle\"},\"mode\":\"markers\",\"name\":\"Res8\",\"orientation\":\"v\",\"showlegend\":true,\"x\":[20,16,10,8,7,6,5,3,2,1,0],\"xaxis\":\"x\",\"y\":[0.5065284746226831,0.5056365108863577,0.50554483225992,0.5020384131067971,0.49404708311590917,0.48301333179570566,0.4804319197144581,0.46587611339146395,0.40365223574409637,0.3766821686199879,0.3672438083341565],\"yaxis\":\"y\",\"type\":\"scatter\"},{\"hovertemplate\":\"result=Res32\\u003cbr\\u003eiteration=%{x}\\u003cbr\\u003ebelief=%{y}\\u003cextra\\u003e\\u003c\\u002fextra\\u003e\",\"legendgroup\":\"Res32\",\"marker\":{\"color\":\"#EF553B\",\"symbol\":\"circle\"},\"mode\":\"markers\",\"name\":\"Res32\",\"orientation\":\"v\",\"showlegend\":true,\"x\":[29,26,21,20,17,16,15,14,13,10,8,7,6,5,4,3,2,1,0],\"xaxis\":\"x\",\"y\":[0.5038751568333086,0.502032901744054,0.5017978463763587,0.5007273718504666,0.4942443853790489,0.4862241136733575,0.4800800185288468,0.478104144188497,0.4675712995944018,0.4610658101437497,0.45958365595886697,0.44352997466811134,0.43634833776944315,0.4272224407009666,0.3839893820017898,0.34118827336545204,0.33006083779092177,0.32126430249261423,0.3144635378760605],\"yaxis\":\"y\",\"type\":\"scatter\"},{\"hovertemplate\":\"result=Res10\\u003cbr\\u003eiteration=%{x}\\u003cbr\\u003ebelief=%{y}\\u003cextra\\u003e\\u003c\\u002fextra\\u003e\",\"legendgroup\":\"Res10\",\"marker\":{\"color\":\"#00cc96\",\"symbol\":\"circle\"},\"mode\":\"markers\",\"name\":\"Res10\",\"orientation\":\"v\",\"showlegend\":true,\"x\":[31,29,25,24,23,21,14,12,11,10,9,8,7,6,5,4,3,2,1,0],\"xaxis\":\"x\",\"y\":[0.500966209204001,0.5006289103217396,0.5005457438646328,0.5004042025028375,0.49988823682358235,0.4993275594845551,0.4970119664151681,0.49142071264889736,0.4852940117320748,0.48497058995605274,0.4817606089744714,0.47913609562322645,0.46828800069918564,0.45715976285661986,0.4416049819636939,0.42643312338202366,0.40411197213611705,0.35697255702118685,0.3500090046845892,0.3421222589356905],\"yaxis\":\"y\",\"type\":\"scatter\"},{\"hovertemplate\":\"result=Res20\\u003cbr\\u003eiteration=%{x}\\u003cbr\\u003ebelief=%{y}\\u003cextra\\u003e\\u003c\\u002fextra\\u003e\",\"legendgroup\":\"Res20\",\"marker\":{\"color\":\"#ab63fa\",\"symbol\":\"circle\"},\"mode\":\"markers\",\"name\":\"Res20\",\"orientation\":\"v\",\"showlegend\":true,\"x\":[34,32,25,23,22,20,19,18,15,14,13,12,11,10,9,8,6,5,4,3,2,1,0],\"xaxis\":\"x\",\"y\":[0.49701338492650304,0.49641351516984233,0.495522041676643,0.4944726166791525,0.49323845882648154,0.4890311221129552,0.485769476416938,0.46775604122883646,0.4605701421641321,0.4539289245517706,0.45239884574712885,0.43613611850617395,0.43086751757463604,0.4226964517213223,0.41993070489801,0.4161274884058138,0.41205240807537474,0.3929962300653629,0.37331192100201854,0.3457307221393319,0.33895873602217375,0.3348348588242688,0.3188933789569819],\"yaxis\":\"y\",\"type\":\"scatter\"},{\"hovertemplate\":\"result=Res6\\u003cbr\\u003eiteration=%{x}\\u003cbr\\u003ebelief=%{y}\\u003cextra\\u003e\\u003c\\u002fextra\\u003e\",\"legendgroup\":\"Res6\",\"marker\":{\"color\":\"#FFA15A\",\"symbol\":\"circle\"},\"mode\":\"markers\",\"name\":\"Res6\",\"orientation\":\"v\",\"showlegend\":true,\"x\":[55,54,52,48,47,45,42,41,40,38,37,34,33,32,31,30,29,28,27,26,25,24,23,21,20,18,17,15,14,13,12,11,10,8,7,6,5,4,3,2,0],\"xaxis\":\"x\",\"y\":[0.492300036793724,0.49148331009575813,0.48990821545176955,0.4897240338567167,0.4891934013450959,0.48906239660802,0.4889543976798947,0.48796019661294765,0.48744427226314574,0.4866360207610225,0.48533573221547394,0.4846492372538595,0.48396735251417683,0.48394408074875805,0.4836729384444104,0.4834823628564872,0.48193825626752346,0.4752073242270548,0.4691178901506989,0.46577150517934407,0.4638255591207957,0.46352460471482576,0.46251968912682445,0.4607724519872439,0.4581339374636535,0.45773749624574545,0.45678283742722964,0.45612183704820375,0.44452644706223476,0.4351001494459682,0.4271102501890325,0.42478693079283375,0.4179477357328104,0.41755629688544277,0.4131707825573968,0.4064640602052876,0.39710196588146135,0.37736130014077396,0.37240335240098316,0.3697345677426071,0.35022833490379346],\"yaxis\":\"y\",\"type\":\"scatter\"},{\"hovertemplate\":\"result=Res22\\u003cbr\\u003eiteration=%{x}\\u003cbr\\u003ebelief=%{y}\\u003cextra\\u003e\\u003c\\u002fextra\\u003e\",\"legendgroup\":\"Res22\",\"marker\":{\"color\":\"#19d3f3\",\"symbol\":\"circle\"},\"mode\":\"markers\",\"name\":\"Res22\",\"orientation\":\"v\",\"showlegend\":true,\"x\":[40,32,31,23,22,19,15,14,13,10,8,7,6,5,4,3,2,1,0],\"xaxis\":\"x\",\"y\":[0.4853994011462819,0.4845203073716804,0.4844157559901585,0.4828580191763595,0.4817171462040438,0.47730736901088633,0.47673872357053626,0.47633037591848476,0.4725406507506207,0.4661164571763396,0.46494713411109645,0.4603578054381581,0.45813453894518386,0.4417345008544263,0.4343984324836862,0.42324852874258945,0.40610571907427706,0.38624758854971014,0.34887701040088903],\"yaxis\":\"y\",\"type\":\"scatter\"},{\"hovertemplate\":\"result=Res27\\u003cbr\\u003eiteration=%{x}\\u003cbr\\u003ebelief=%{y}\\u003cextra\\u003e\\u003c\\u002fextra\\u003e\",\"legendgroup\":\"Res27\",\"marker\":{\"color\":\"#FF6692\",\"symbol\":\"circle\"},\"mode\":\"markers\",\"name\":\"Res27\",\"orientation\":\"v\",\"showlegend\":true,\"x\":[40,32,31,24,21,20,17,16,15,14,13,11,10,8,7,6,5,4,3,2,1,0],\"xaxis\":\"x\",\"y\":[0.4675828401463866,0.46695498271398667,0.4657183601612322,0.46443582083867785,0.4616661096148938,0.4615736230999117,0.4582251148252041,0.454118264605049,0.4506967918900078,0.44966801435219916,0.4486226731720321,0.4476308612185085,0.4447701271423625,0.4349750059190168,0.4244413071734546,0.4218216123783848,0.4195464208061681,0.4065338909878767,0.40440783853022166,0.39424338787914875,0.3803688386003886,0.3637474048079332],\"yaxis\":\"y\",\"type\":\"scatter\"},{\"hovertemplate\":\"result=Res13\\u003cbr\\u003eiteration=%{x}\\u003cbr\\u003ebelief=%{y}\\u003cextra\\u003e\\u003c\\u002fextra\\u003e\",\"legendgroup\":\"Res13\",\"marker\":{\"color\":\"#B6E880\",\"symbol\":\"circle\"},\"mode\":\"markers\",\"name\":\"Res13\",\"orientation\":\"v\",\"showlegend\":true,\"x\":[45,42,39,38,34,32,31,26,23,22,18,16,15,14,13,12,11,9,8,7,6,5,4,3,2,1,0],\"xaxis\":\"x\",\"y\":[0.4654999504919287,0.46524532536956,0.46455879101233866,0.4641315980532893,0.46368196600640565,0.4628507757335253,0.45979506607914655,0.45883296623771186,0.45782873107080024,0.4557691056207748,0.45572595433674645,0.45536038615069846,0.45494662969401456,0.45308818053380073,0.45109800753479323,0.44657335673288434,0.44536169158896066,0.43849379703221175,0.43135477061322536,0.4254974645774489,0.421836479127629,0.4097471430012736,0.399364333685719,0.38588940181567255,0.3841554360921442,0.3666883408524315,0.3394663867635891],\"yaxis\":\"y\",\"type\":\"scatter\"},{\"mode\":\"lines\",\"name\":\"Correct belief\",\"x\":[0,63],\"y\":[0.8,0.8],\"type\":\"scatter\"}],                        {\"template\":{\"data\":{\"histogram2dcontour\":[{\"type\":\"histogram2dcontour\",\"colorbar\":{\"outlinewidth\":0,\"ticks\":\"\"},\"colorscale\":[[0.0,\"#0d0887\"],[0.1111111111111111,\"#46039f\"],[0.2222222222222222,\"#7201a8\"],[0.3333333333333333,\"#9c179e\"],[0.4444444444444444,\"#bd3786\"],[0.5555555555555556,\"#d8576b\"],[0.6666666666666666,\"#ed7953\"],[0.7777777777777778,\"#fb9f3a\"],[0.8888888888888888,\"#fdca26\"],[1.0,\"#f0f921\"]]}],\"choropleth\":[{\"type\":\"choropleth\",\"colorbar\":{\"outlinewidth\":0,\"ticks\":\"\"}}],\"histogram2d\":[{\"type\":\"histogram2d\",\"colorbar\":{\"outlinewidth\":0,\"ticks\":\"\"},\"colorscale\":[[0.0,\"#0d0887\"],[0.1111111111111111,\"#46039f\"],[0.2222222222222222,\"#7201a8\"],[0.3333333333333333,\"#9c179e\"],[0.4444444444444444,\"#bd3786\"],[0.5555555555555556,\"#d8576b\"],[0.6666666666666666,\"#ed7953\"],[0.7777777777777778,\"#fb9f3a\"],[0.8888888888888888,\"#fdca26\"],[1.0,\"#f0f921\"]]}],\"heatmap\":[{\"type\":\"heatmap\",\"colorbar\":{\"outlinewidth\":0,\"ticks\":\"\"},\"colorscale\":[[0.0,\"#0d0887\"],[0.1111111111111111,\"#46039f\"],[0.2222222222222222,\"#7201a8\"],[0.3333333333333333,\"#9c179e\"],[0.4444444444444444,\"#bd3786\"],[0.5555555555555556,\"#d8576b\"],[0.6666666666666666,\"#ed7953\"],[0.7777777777777778,\"#fb9f3a\"],[0.8888888888888888,\"#fdca26\"],[1.0,\"#f0f921\"]]}],\"heatmapgl\":[{\"type\":\"heatmapgl\",\"colorbar\":{\"outlinewidth\":0,\"ticks\":\"\"},\"colorscale\":[[0.0,\"#0d0887\"],[0.1111111111111111,\"#46039f\"],[0.2222222222222222,\"#7201a8\"],[0.3333333333333333,\"#9c179e\"],[0.4444444444444444,\"#bd3786\"],[0.5555555555555556,\"#d8576b\"],[0.6666666666666666,\"#ed7953\"],[0.7777777777777778,\"#fb9f3a\"],[0.8888888888888888,\"#fdca26\"],[1.0,\"#f0f921\"]]}],\"contourcarpet\":[{\"type\":\"contourcarpet\",\"colorbar\":{\"outlinewidth\":0,\"ticks\":\"\"}}],\"contour\":[{\"type\":\"contour\",\"colorbar\":{\"outlinewidth\":0,\"ticks\":\"\"},\"colorscale\":[[0.0,\"#0d0887\"],[0.1111111111111111,\"#46039f\"],[0.2222222222222222,\"#7201a8\"],[0.3333333333333333,\"#9c179e\"],[0.4444444444444444,\"#bd3786\"],[0.5555555555555556,\"#d8576b\"],[0.6666666666666666,\"#ed7953\"],[0.7777777777777778,\"#fb9f3a\"],[0.8888888888888888,\"#fdca26\"],[1.0,\"#f0f921\"]]}],\"surface\":[{\"type\":\"surface\",\"colorbar\":{\"outlinewidth\":0,\"ticks\":\"\"},\"colorscale\":[[0.0,\"#0d0887\"],[0.1111111111111111,\"#46039f\"],[0.2222222222222222,\"#7201a8\"],[0.3333333333333333,\"#9c179e\"],[0.4444444444444444,\"#bd3786\"],[0.5555555555555556,\"#d8576b\"],[0.6666666666666666,\"#ed7953\"],[0.7777777777777778,\"#fb9f3a\"],[0.8888888888888888,\"#fdca26\"],[1.0,\"#f0f921\"]]}],\"mesh3d\":[{\"type\":\"mesh3d\",\"colorbar\":{\"outlinewidth\":0,\"ticks\":\"\"}}],\"scatter\":[{\"marker\":{\"line\":{\"color\":\"#283442\"}},\"type\":\"scatter\"}],\"parcoords\":[{\"type\":\"parcoords\",\"line\":{\"colorbar\":{\"outlinewidth\":0,\"ticks\":\"\"}}}],\"scatterpolargl\":[{\"type\":\"scatterpolargl\",\"marker\":{\"colorbar\":{\"outlinewidth\":0,\"ticks\":\"\"}}}],\"bar\":[{\"error_x\":{\"color\":\"#f2f5fa\"},\"error_y\":{\"color\":\"#f2f5fa\"},\"marker\":{\"line\":{\"color\":\"rgb(17,17,17)\",\"width\":0.5},\"pattern\":{\"fillmode\":\"overlay\",\"size\":10,\"solidity\":0.2}},\"type\":\"bar\"}],\"scattergeo\":[{\"type\":\"scattergeo\",\"marker\":{\"colorbar\":{\"outlinewidth\":0,\"ticks\":\"\"}}}],\"scatterpolar\":[{\"type\":\"scatterpolar\",\"marker\":{\"colorbar\":{\"outlinewidth\":0,\"ticks\":\"\"}}}],\"histogram\":[{\"marker\":{\"pattern\":{\"fillmode\":\"overlay\",\"size\":10,\"solidity\":0.2}},\"type\":\"histogram\"}],\"scattergl\":[{\"marker\":{\"line\":{\"color\":\"#283442\"}},\"type\":\"scattergl\"}],\"scatter3d\":[{\"type\":\"scatter3d\",\"line\":{\"colorbar\":{\"outlinewidth\":0,\"ticks\":\"\"}},\"marker\":{\"colorbar\":{\"outlinewidth\":0,\"ticks\":\"\"}}}],\"scattermapbox\":[{\"type\":\"scattermapbox\",\"marker\":{\"colorbar\":{\"outlinewidth\":0,\"ticks\":\"\"}}}],\"scatterternary\":[{\"type\":\"scatterternary\",\"marker\":{\"colorbar\":{\"outlinewidth\":0,\"ticks\":\"\"}}}],\"scattercarpet\":[{\"type\":\"scattercarpet\",\"marker\":{\"colorbar\":{\"outlinewidth\":0,\"ticks\":\"\"}}}],\"carpet\":[{\"aaxis\":{\"endlinecolor\":\"#A2B1C6\",\"gridcolor\":\"#506784\",\"linecolor\":\"#506784\",\"minorgridcolor\":\"#506784\",\"startlinecolor\":\"#A2B1C6\"},\"baxis\":{\"endlinecolor\":\"#A2B1C6\",\"gridcolor\":\"#506784\",\"linecolor\":\"#506784\",\"minorgridcolor\":\"#506784\",\"startlinecolor\":\"#A2B1C6\"},\"type\":\"carpet\"}],\"table\":[{\"cells\":{\"fill\":{\"color\":\"#506784\"},\"line\":{\"color\":\"rgb(17,17,17)\"}},\"header\":{\"fill\":{\"color\":\"#2a3f5f\"},\"line\":{\"color\":\"rgb(17,17,17)\"}},\"type\":\"table\"}],\"barpolar\":[{\"marker\":{\"line\":{\"color\":\"rgb(17,17,17)\",\"width\":0.5},\"pattern\":{\"fillmode\":\"overlay\",\"size\":10,\"solidity\":0.2}},\"type\":\"barpolar\"}],\"pie\":[{\"automargin\":true,\"type\":\"pie\"}]},\"layout\":{\"autotypenumbers\":\"strict\",\"colorway\":[\"#636efa\",\"#EF553B\",\"#00cc96\",\"#ab63fa\",\"#FFA15A\",\"#19d3f3\",\"#FF6692\",\"#B6E880\",\"#FF97FF\",\"#FECB52\"],\"font\":{\"color\":\"#f2f5fa\"},\"hovermode\":\"closest\",\"hoverlabel\":{\"align\":\"left\"},\"paper_bgcolor\":\"rgb(17,17,17)\",\"plot_bgcolor\":\"rgb(17,17,17)\",\"polar\":{\"bgcolor\":\"rgb(17,17,17)\",\"angularaxis\":{\"gridcolor\":\"#506784\",\"linecolor\":\"#506784\",\"ticks\":\"\"},\"radialaxis\":{\"gridcolor\":\"#506784\",\"linecolor\":\"#506784\",\"ticks\":\"\"}},\"ternary\":{\"bgcolor\":\"rgb(17,17,17)\",\"aaxis\":{\"gridcolor\":\"#506784\",\"linecolor\":\"#506784\",\"ticks\":\"\"},\"baxis\":{\"gridcolor\":\"#506784\",\"linecolor\":\"#506784\",\"ticks\":\"\"},\"caxis\":{\"gridcolor\":\"#506784\",\"linecolor\":\"#506784\",\"ticks\":\"\"}},\"coloraxis\":{\"colorbar\":{\"outlinewidth\":0,\"ticks\":\"\"}},\"colorscale\":{\"sequential\":[[0.0,\"#0d0887\"],[0.1111111111111111,\"#46039f\"],[0.2222222222222222,\"#7201a8\"],[0.3333333333333333,\"#9c179e\"],[0.4444444444444444,\"#bd3786\"],[0.5555555555555556,\"#d8576b\"],[0.6666666666666666,\"#ed7953\"],[0.7777777777777778,\"#fb9f3a\"],[0.8888888888888888,\"#fdca26\"],[1.0,\"#f0f921\"]],\"sequentialminus\":[[0.0,\"#0d0887\"],[0.1111111111111111,\"#46039f\"],[0.2222222222222222,\"#7201a8\"],[0.3333333333333333,\"#9c179e\"],[0.4444444444444444,\"#bd3786\"],[0.5555555555555556,\"#d8576b\"],[0.6666666666666666,\"#ed7953\"],[0.7777777777777778,\"#fb9f3a\"],[0.8888888888888888,\"#fdca26\"],[1.0,\"#f0f921\"]],\"diverging\":[[0,\"#8e0152\"],[0.1,\"#c51b7d\"],[0.2,\"#de77ae\"],[0.3,\"#f1b6da\"],[0.4,\"#fde0ef\"],[0.5,\"#f7f7f7\"],[0.6,\"#e6f5d0\"],[0.7,\"#b8e186\"],[0.8,\"#7fbc41\"],[0.9,\"#4d9221\"],[1,\"#276419\"]]},\"xaxis\":{\"gridcolor\":\"#283442\",\"linecolor\":\"#506784\",\"ticks\":\"\",\"title\":{\"standoff\":15},\"zerolinecolor\":\"#283442\",\"automargin\":true,\"zerolinewidth\":2},\"yaxis\":{\"gridcolor\":\"#283442\",\"linecolor\":\"#506784\",\"ticks\":\"\",\"title\":{\"standoff\":15},\"zerolinecolor\":\"#283442\",\"automargin\":true,\"zerolinewidth\":2},\"scene\":{\"xaxis\":{\"backgroundcolor\":\"rgb(17,17,17)\",\"gridcolor\":\"#506784\",\"linecolor\":\"#506784\",\"showbackground\":true,\"ticks\":\"\",\"zerolinecolor\":\"#C8D4E3\",\"gridwidth\":2},\"yaxis\":{\"backgroundcolor\":\"rgb(17,17,17)\",\"gridcolor\":\"#506784\",\"linecolor\":\"#506784\",\"showbackground\":true,\"ticks\":\"\",\"zerolinecolor\":\"#C8D4E3\",\"gridwidth\":2},\"zaxis\":{\"backgroundcolor\":\"rgb(17,17,17)\",\"gridcolor\":\"#506784\",\"linecolor\":\"#506784\",\"showbackground\":true,\"ticks\":\"\",\"zerolinecolor\":\"#C8D4E3\",\"gridwidth\":2}},\"shapedefaults\":{\"line\":{\"color\":\"#f2f5fa\"}},\"annotationdefaults\":{\"arrowcolor\":\"#f2f5fa\",\"arrowhead\":0,\"arrowwidth\":1},\"geo\":{\"bgcolor\":\"rgb(17,17,17)\",\"landcolor\":\"rgb(17,17,17)\",\"subunitcolor\":\"#506784\",\"showland\":true,\"showlakes\":true,\"lakecolor\":\"rgb(17,17,17)\"},\"title\":{\"x\":0.05},\"updatemenudefaults\":{\"bgcolor\":\"#506784\",\"borderwidth\":0},\"sliderdefaults\":{\"bgcolor\":\"#C8D4E3\",\"borderwidth\":1,\"bordercolor\":\"rgb(17,17,17)\",\"tickwidth\":0},\"mapbox\":{\"style\":\"dark\"}}},\"xaxis\":{\"anchor\":\"y\",\"domain\":[0.0,1.0],\"title\":{\"text\":\"iteration\"}},\"yaxis\":{\"anchor\":\"x\",\"domain\":[0.0,1.0],\"title\":{\"text\":\"belief\"}},\"legend\":{\"title\":{\"text\":\"result\"},\"tracegroupgap\":0},\"margin\":{\"t\":60}},                        {\"responsive\": true}                    ).then(function(){\n",
       "                            \n",
       "var gd = document.getElementById('286849ff-68ed-42f9-9837-ff7dc1808fee');\n",
       "var x = new MutationObserver(function (mutations, observer) {{\n",
       "        var display = window.getComputedStyle(gd).display;\n",
       "        if (!display || display === 'none') {{\n",
       "            console.log([gd, 'removed!']);\n",
       "            Plotly.purge(gd);\n",
       "            observer.disconnect();\n",
       "        }}\n",
       "}});\n",
       "\n",
       "// Listen for the removal of the full notebook cells\n",
       "var notebookContainer = gd.closest('#notebook-container');\n",
       "if (notebookContainer) {{\n",
       "    x.observe(notebookContainer, {childList: true});\n",
       "}}\n",
       "\n",
       "// Listen for the clearing of the current output cell\n",
       "var outputEl = gd.closest('.output');\n",
       "if (outputEl) {{\n",
       "    x.observe(outputEl, {childList: true});\n",
       "}}\n",
       "\n",
       "                        })                };                });            </script>        </div>"
      ]
     },
     "metadata": {},
     "output_type": "display_data"
    }
   ],
   "execution_count": 237
  },
  {
   "metadata": {
    "ExecuteTime": {
     "end_time": "2024-07-29T10:13:08.168562Z",
     "start_time": "2024-07-29T10:13:08.139205Z"
    }
   },
   "cell_type": "code",
   "source": "len(np.unique(flat_solutions, axis=0))",
   "id": "7576c45af397ba27",
   "outputs": [
    {
     "data": {
      "text/plain": [
       "48"
      ]
     },
     "execution_count": 238,
     "metadata": {},
     "output_type": "execute_result"
    }
   ],
   "execution_count": 238
  },
  {
   "metadata": {
    "ExecuteTime": {
     "end_time": "2024-07-29T10:13:08.279824Z",
     "start_time": "2024-07-29T10:13:08.169220Z"
    }
   },
   "cell_type": "code",
   "source": [
    "r = results[26]\n",
    "g = nx.from_numpy_array(r.m, create_using=nx.DiGraph)\n",
    "print(r.error, r.converged)\n",
    "pos = nx.spring_layout(g)\n",
    "nx.draw(g, pos, with_labels=True)"
   ],
   "id": "f809a73a71eaa625",
   "outputs": [
    {
     "name": "stdout",
     "output_type": "stream",
     "text": [
      "0.2886497278953548 True\n"
     ]
    },
    {
     "data": {
      "text/plain": [
       "<Figure size 640x480 with 1 Axes>"
      ],
      "image/png": "[encoded data removed]"
     },
     "metadata": {},
     "output_type": "display_data"
    }
   ],
   "execution_count": 239
  },
  {
   "metadata": {
    "ExecuteTime": {
     "end_time": "2024-07-29T10:13:08.310236Z",
     "start_time": "2024-07-29T10:13:08.280525Z"
    }
   },
   "cell_type": "code",
   "source": "pd.DataFrame({'initial_belief': init_belief, 'correct_belief': correct_belief, 'diff': np.abs(init_belief-correct_belief), 'node': np.arange(dims)}).sort_values('diff')",
   "id": "6b7453b4616401f9",
   "outputs": [
    {
     "data": {
      "text/plain": [
       "   initial_belief  correct_belief      diff  node\n",
       "4        0.554501             0.8  0.245499     4\n",
       "2        0.538159             0.8  0.261841     2\n",
       "3        0.438621             0.8  0.361379     3\n",
       "0        0.345928             0.8  0.454072     0\n",
       "7        0.220001             0.8  0.579999     7\n",
       "5        0.212878             0.8  0.587122     5\n",
       "1        0.163626             0.8  0.636374     1\n",
       "6        0.053855             0.8  0.746145     6"
      ],
      "text/html": [
       "<div>\n",
       "<style scoped>\n",
       "    .dataframe tbody tr th:only-of-type {\n",
       "        vertical-align: middle;\n",
       "    }\n",
       "\n",
       "    .dataframe tbody tr th {\n",
       "        vertical-align: top;\n",
       "    }\n",
       "\n",
       "    .dataframe thead th {\n",
       "        text-align: right;\n",
       "    }\n",
       "</style>\n",
       "<table border=\"1\" class=\"dataframe\">\n",
       "  <thead>\n",
       "    <tr style=\"text-align: right;\">\n",
       "      <th></th>\n",
       "      <th>initial_belief</th>\n",
       "      <th>correct_belief</th>\n",
       "      <th>diff</th>\n",
       "      <th>node</th>\n",
       "    </tr>\n",
       "  </thead>\n",
       "  <tbody>\n",
       "    <tr>\n",
       "      <th>4</th>\n",
       "      <td>0.554501</td>\n",
       "      <td>0.8</td>\n",
       "      <td>0.245499</td>\n",
       "      <td>4</td>\n",
       "    </tr>\n",
       "    <tr>\n",
       "      <th>2</th>\n",
       "      <td>0.538159</td>\n",
       "      <td>0.8</td>\n",
       "      <td>0.261841</td>\n",
       "      <td>2</td>\n",
       "    </tr>\n",
       "    <tr>\n",
       "      <th>3</th>\n",
       "      <td>0.438621</td>\n",
       "      <td>0.8</td>\n",
       "      <td>0.361379</td>\n",
       "      <td>3</td>\n",
       "    </tr>\n",
       "    <tr>\n",
       "      <th>0</th>\n",
       "      <td>0.345928</td>\n",
       "      <td>0.8</td>\n",
       "      <td>0.454072</td>\n",
       "      <td>0</td>\n",
       "    </tr>\n",
       "    <tr>\n",
       "      <th>7</th>\n",
       "      <td>0.220001</td>\n",
       "      <td>0.8</td>\n",
       "      <td>0.579999</td>\n",
       "      <td>7</td>\n",
       "    </tr>\n",
       "    <tr>\n",
       "      <th>5</th>\n",
       "      <td>0.212878</td>\n",
       "      <td>0.8</td>\n",
       "      <td>0.587122</td>\n",
       "      <td>5</td>\n",
       "    </tr>\n",
       "    <tr>\n",
       "      <th>1</th>\n",
       "      <td>0.163626</td>\n",
       "      <td>0.8</td>\n",
       "      <td>0.636374</td>\n",
       "      <td>1</td>\n",
       "    </tr>\n",
       "    <tr>\n",
       "      <th>6</th>\n",
       "      <td>0.053855</td>\n",
       "      <td>0.8</td>\n",
       "      <td>0.746145</td>\n",
       "      <td>6</td>\n",
       "    </tr>\n",
       "  </tbody>\n",
       "</table>\n",
       "</div>"
      ]
     },
     "execution_count": 240,
     "metadata": {},
     "output_type": "execute_result"
    }
   ],
   "execution_count": 240
  }
 ],
 "metadata": {
  "kernelspec": {
   "display_name": "Python 3",
   "language": "python",
   "name": "python3"
  },
  "language_info": {
   "codemirror_mode": {
    "name": "ipython",
    "version": 2
   },
   "file_extension": ".py",
   "mimetype": "text/x-python",
   "name": "python",
   "nbconvert_exporter": "python",
   "pygments_lexer": "ipython2",
   "version": "2.7.6"
  }
 },
 "nbformat": 4,
 "nbformat_minor": 5
}
