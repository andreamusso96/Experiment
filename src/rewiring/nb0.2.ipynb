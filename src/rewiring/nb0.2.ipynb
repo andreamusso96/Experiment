{
 "cells": [
  {
   "cell_type": "code",
   "id": "initial_id",
   "metadata": {
    "collapsed": true,
    "ExecuteTime": {
     "end_time": "2024-07-29T16:57:57.933303Z",
     "start_time": "2024-07-29T16:57:57.863750Z"
    }
   },
   "source": [
    "import numpy as np\n",
    "import pandas as pd\n",
    "import scipy as sp\n",
    "import plotly.express as px\n",
    "import networkx as nx\n",
    "import degroot as dg\n",
    "from tqdm import tqdm\n",
    "import plotly.graph_objects as go\n",
    "from joblib import Parallel, delayed"
   ],
   "outputs": [],
   "execution_count": 78
  },
  {
   "metadata": {
    "ExecuteTime": {
     "end_time": "2024-07-29T16:57:58.092355Z",
     "start_time": "2024-07-29T16:57:58.064268Z"
    }
   },
   "cell_type": "code",
   "source": [
    "%load_ext autoreload\n",
    "%autoreload 2"
   ],
   "id": "c6d27f25090462fe",
   "outputs": [
    {
     "name": "stdout",
     "output_type": "stream",
     "text": [
      "The autoreload extension is already loaded. To reload it, use:\n",
      "  %reload_ext autoreload\n"
     ]
    }
   ],
   "execution_count": 79
  },
  {
   "metadata": {
    "ExecuteTime": {
     "end_time": "2024-07-29T17:09:50.932460Z",
     "start_time": "2024-07-29T17:09:50.906013Z"
    }
   },
   "cell_type": "code",
   "source": [
    "# Parameters\n",
    "dims = 8\n",
    "erdos_reni_p = 0.2\n",
    "n_initial_conditions_attempts = 100\n",
    "max_edge_value = 1\n",
    "init_belief = np.random.uniform(0.2, 0.8, size=dims)\n",
    "correct_belief = 0.95\n",
    "niter_degroot = 2\n",
    "niter_search = 10_000\n",
    "symmetric = False"
   ],
   "id": "b636600c3a33b0be",
   "outputs": [],
   "execution_count": 194
  },
  {
   "metadata": {
    "ExecuteTime": {
     "end_time": "2024-07-29T17:09:51.143712Z",
     "start_time": "2024-07-29T17:09:51.114738Z"
    }
   },
   "cell_type": "code",
   "source": [
    "def generate_initial_conditions(n: int, p: float, n_attempts: int):\n",
    "    initial_conditions = []\n",
    "    for i in range(n_attempts):\n",
    "        m = nx.adjacency_matrix(nx.erdos_renyi_graph(n=n, p=p)).todense()\n",
    "        if np.min(np.sum(m, axis=1)) == 0 or np.max(np.sum(m, axis=1)) == n-1:\n",
    "            continue\n",
    "            \n",
    "        m = np.random.randint(1, max_edge_value + 1, size=(n, n)) * m\n",
    "        initial_conditions.append(m)\n",
    "    \n",
    "    unique_initial_conditions = np.unique([s.flatten() for s in initial_conditions], axis=0)\n",
    "    unique_initial_conditions = [s.reshape(dims, dims) for s in unique_initial_conditions]\n",
    "    print('Number of unique initial conditions:', len(unique_initial_conditions))\n",
    "    return unique_initial_conditions"
   ],
   "id": "97f5ddeb7de6cdbb",
   "outputs": [],
   "execution_count": 195
  },
  {
   "metadata": {
    "ExecuteTime": {
     "end_time": "2024-07-29T17:09:51.325303Z",
     "start_time": "2024-07-29T17:09:51.299793Z"
    }
   },
   "cell_type": "code",
   "source": [
    "def generate_initial_conditions_fixed_graph(n: int, p: float, n_attempts: int):\n",
    "    m_base = nx.adjacency_matrix(nx.erdos_renyi_graph(n=n, p=p)).todense()\n",
    "    while np.min(np.sum(m_base, axis=0)) == 0 or np.max(np.sum(m_base, axis=1)) == n-1:\n",
    "        m_base = nx.adjacency_matrix(nx.erdos_renyi_graph(n=n, p=p)).todense()\n",
    "        \n",
    "    initial_conditions = dg.get_rewiring_sample(m0=m_base, n_rewiring_attempts=n_attempts)\n",
    "    print('Number of unique initial conditions:', len(initial_conditions))\n",
    "    return initial_conditions"
   ],
   "id": "708ed2e2311f01c5",
   "outputs": [],
   "execution_count": 196
  },
  {
   "metadata": {
    "ExecuteTime": {
     "end_time": "2024-07-29T17:09:51.532740Z",
     "start_time": "2024-07-29T17:09:51.501772Z"
    }
   },
   "cell_type": "code",
   "source": "init_cond = generate_initial_conditions_fixed_graph(n=dims, p=erdos_reni_p, n_attempts=n_initial_conditions_attempts)",
   "id": "7eed1e4d4a35a42e",
   "outputs": [
    {
     "name": "stdout",
     "output_type": "stream",
     "text": [
      "Number of unique initial conditions: 100\n"
     ]
    }
   ],
   "execution_count": 197
  },
  {
   "metadata": {
    "ExecuteTime": {
     "end_time": "2024-07-29T17:09:55.717977Z",
     "start_time": "2024-07-29T17:09:52.253252Z"
    }
   },
   "cell_type": "code",
   "source": [
    "error = solution_quality_histogram = dg.compute_histogram_of_solution_quality(m0=init_cond[0], initial_belief=init_belief, correct_belief=correct_belief, niter_degroot=niter_degroot, n_samples=100_000)\n",
    "hist, bins = np.histogram(error['estimate'], bins=100)\n",
    "px.scatter(x=bins[1:], y=hist)"
   ],
   "id": "1c0397a4cc359318",
   "outputs": [
    {
     "name": "stderr",
     "output_type": "stream",
     "text": [
      "100%|██████████| 100000/100000 [00:01<00:00, 65793.50it/s]\n"
     ]
    },
    {
     "data": {
      "application/vnd.plotly.v1+json": {
       "data": [
        {
         "hovertemplate": "x=%{x}<br>y=%{y}<extra></extra>",
         "legendgroup": "",
         "marker": {
          "color": "#636efa",
          "symbol": "circle"
         },
         "mode": "markers",
         "name": "",
         "orientation": "v",
         "showlegend": false,
         "x": [
          0.4478554570936889,
          0.44974378274187427,
          0.45163210839005963,
          0.453520434038245,
          0.45540875968643035,
          0.4572970853346157,
          0.4591854109828011,
          0.46107373663098644,
          0.4629620622791718,
          0.4648503879273572,
          0.4667387135755426,
          0.46862703922372795,
          0.4705153648719133,
          0.4724036905200987,
          0.47429201616828404,
          0.4761803418164694,
          0.47806866746465476,
          0.4799569931128401,
          0.4818453187610255,
          0.48373364440921085,
          0.4856219700573962,
          0.4875102957055816,
          0.48939862135376694,
          0.4912869470019523,
          0.49317527265013766,
          0.495063598298323,
          0.4969519239465084,
          0.49884024959469375,
          0.5007285752428792,
          0.5026169008910645,
          0.5045052265392499,
          0.5063935521874352,
          0.5082818778356206,
          0.5101702034838059,
          0.5120585291319913,
          0.5139468547801767,
          0.5158351804283621,
          0.5177235060765475,
          0.5196118317247328,
          0.5215001573729181,
          0.5233884830211035,
          0.5252768086692889,
          0.5271651343174742,
          0.5290534599656597,
          0.530941785613845,
          0.5328301112620304,
          0.5347184369102157,
          0.5366067625584011,
          0.5384950882065864,
          0.5403834138547718,
          0.5422717395029572,
          0.5441600651511426,
          0.5460483907993279,
          0.5479367164475133,
          0.5498250420956986,
          0.551713367743884,
          0.5536016933920693,
          0.5554900190402547,
          0.5573783446884402,
          0.5592666703366255,
          0.5611549959848108,
          0.5630433216329962,
          0.5649316472811816,
          0.5668199729293669,
          0.5687082985775523,
          0.5705966242257376,
          0.5724849498739231,
          0.5743732755221084,
          0.5762616011702938,
          0.5781499268184791,
          0.5800382524666645,
          0.5819265781148498,
          0.5838149037630352,
          0.5857032294112205,
          0.587591555059406,
          0.5894798807075914,
          0.5913682063557767,
          0.593256532003962,
          0.5951448576521474,
          0.5970331833003328,
          0.5989215089485181,
          0.6008098345967035,
          0.6026981602448889,
          0.6045864858930743,
          0.6064748115412596,
          0.608363137189445,
          0.6102514628376303,
          0.6121397884858157,
          0.614028114134001,
          0.6159164397821865,
          0.6178047654303718,
          0.6196930910785572,
          0.6215814167267425,
          0.6234697423749279,
          0.6253580680231132,
          0.6272463936712986,
          0.6291347193194841,
          0.6310230449676694,
          0.6329113706158547,
          0.6347996962640401
         ],
         "xaxis": "x",
         "y": [
          1,
          1,
          0,
          0,
          0,
          0,
          1,
          1,
          0,
          2,
          4,
          4,
          4,
          4,
          15,
          15,
          16,
          13,
          25,
          37,
          29,
          36,
          59,
          67,
          72,
          89,
          130,
          161,
          183,
          210,
          268,
          319,
          371,
          436,
          539,
          583,
          730,
          813,
          907,
          1019,
          1142,
          1305,
          1494,
          1661,
          1833,
          2020,
          2126,
          2341,
          2583,
          2886,
          3140,
          3111,
          3286,
          3359,
          3545,
          3504,
          3654,
          3709,
          3588,
          3606,
          3482,
          3232,
          3150,
          3002,
          2763,
          2709,
          2519,
          2351,
          2112,
          1956,
          1721,
          1475,
          1291,
          1200,
          1039,
          881,
          728,
          654,
          539,
          439,
          351,
          272,
          243,
          184,
          167,
          123,
          90,
          79,
          43,
          34,
          36,
          26,
          17,
          12,
          10,
          5,
          3,
          1,
          3,
          1
         ],
         "yaxis": "y",
         "type": "scatter"
        }
       ],
       "layout": {
        "template": {
         "data": {
          "histogram2dcontour": [
           {
            "type": "histogram2dcontour",
            "colorbar": {
             "outlinewidth": 0,
             "ticks": ""
            },
            "colorscale": [
             [
              0.0,
              "#0d0887"
             ],
             [
              0.1111111111111111,
              "#46039f"
             ],
             [
              0.2222222222222222,
              "#7201a8"
             ],
             [
              0.3333333333333333,
              "#9c179e"
             ],
             [
              0.4444444444444444,
              "#bd3786"
             ],
             [
              0.5555555555555556,
              "#d8576b"
             ],
             [
              0.6666666666666666,
              "#ed7953"
             ],
             [
              0.7777777777777778,
              "#fb9f3a"
             ],
             [
              0.8888888888888888,
              "#fdca26"
             ],
             [
              1.0,
              "#f0f921"
             ]
            ]
           }
          ],
          "choropleth": [
           {
            "type": "choropleth",
            "colorbar": {
             "outlinewidth": 0,
             "ticks": ""
            }
           }
          ],
          "histogram2d": [
           {
            "type": "histogram2d",
            "colorbar": {
             "outlinewidth": 0,
             "ticks": ""
            },
            "colorscale": [
             [
              0.0,
              "#0d0887"
             ],
             [
              0.1111111111111111,
              "#46039f"
             ],
             [
              0.2222222222222222,
              "#7201a8"
             ],
             [
              0.3333333333333333,
              "#9c179e"
             ],
             [
              0.4444444444444444,
              "#bd3786"
             ],
             [
              0.5555555555555556,
              "#d8576b"
             ],
             [
              0.6666666666666666,
              "#ed7953"
             ],
             [
              0.7777777777777778,
              "#fb9f3a"
             ],
             [
              0.8888888888888888,
              "#fdca26"
             ],
             [
              1.0,
              "#f0f921"
             ]
            ]
           }
          ],
          "heatmap": [
           {
            "type": "heatmap",
            "colorbar": {
             "outlinewidth": 0,
             "ticks": ""
            },
            "colorscale": [
             [
              0.0,
              "#0d0887"
             ],
             [
              0.1111111111111111,
              "#46039f"
             ],
             [
              0.2222222222222222,
              "#7201a8"
             ],
             [
              0.3333333333333333,
              "#9c179e"
             ],
             [
              0.4444444444444444,
              "#bd3786"
             ],
             [
              0.5555555555555556,
              "#d8576b"
             ],
             [
              0.6666666666666666,
              "#ed7953"
             ],
             [
              0.7777777777777778,
              "#fb9f3a"
             ],
             [
              0.8888888888888888,
              "#fdca26"
             ],
             [
              1.0,
              "#f0f921"
             ]
            ]
           }
          ],
          "heatmapgl": [
           {
            "type": "heatmapgl",
            "colorbar": {
             "outlinewidth": 0,
             "ticks": ""
            },
            "colorscale": [
             [
              0.0,
              "#0d0887"
             ],
             [
              0.1111111111111111,
              "#46039f"
             ],
             [
              0.2222222222222222,
              "#7201a8"
             ],
             [
              0.3333333333333333,
              "#9c179e"
             ],
             [
              0.4444444444444444,
              "#bd3786"
             ],
             [
              0.5555555555555556,
              "#d8576b"
             ],
             [
              0.6666666666666666,
              "#ed7953"
             ],
             [
              0.7777777777777778,
              "#fb9f3a"
             ],
             [
              0.8888888888888888,
              "#fdca26"
             ],
             [
              1.0,
              "#f0f921"
             ]
            ]
           }
          ],
          "contourcarpet": [
           {
            "type": "contourcarpet",
            "colorbar": {
             "outlinewidth": 0,
             "ticks": ""
            }
           }
          ],
          "contour": [
           {
            "type": "contour",
            "colorbar": {
             "outlinewidth": 0,
             "ticks": ""
            },
            "colorscale": [
             [
              0.0,
              "#0d0887"
             ],
             [
              0.1111111111111111,
              "#46039f"
             ],
             [
              0.2222222222222222,
              "#7201a8"
             ],
             [
              0.3333333333333333,
              "#9c179e"
             ],
             [
              0.4444444444444444,
              "#bd3786"
             ],
             [
              0.5555555555555556,
              "#d8576b"
             ],
             [
              0.6666666666666666,
              "#ed7953"
             ],
             [
              0.7777777777777778,
              "#fb9f3a"
             ],
             [
              0.8888888888888888,
              "#fdca26"
             ],
             [
              1.0,
              "#f0f921"
             ]
            ]
           }
          ],
          "surface": [
           {
            "type": "surface",
            "colorbar": {
             "outlinewidth": 0,
             "ticks": ""
            },
            "colorscale": [
             [
              0.0,
              "#0d0887"
             ],
             [
              0.1111111111111111,
              "#46039f"
             ],
             [
              0.2222222222222222,
              "#7201a8"
             ],
             [
              0.3333333333333333,
              "#9c179e"
             ],
             [
              0.4444444444444444,
              "#bd3786"
             ],
             [
              0.5555555555555556,
              "#d8576b"
             ],
             [
              0.6666666666666666,
              "#ed7953"
             ],
             [
              0.7777777777777778,
              "#fb9f3a"
             ],
             [
              0.8888888888888888,
              "#fdca26"
             ],
             [
              1.0,
              "#f0f921"
             ]
            ]
           }
          ],
          "mesh3d": [
           {
            "type": "mesh3d",
            "colorbar": {
             "outlinewidth": 0,
             "ticks": ""
            }
           }
          ],
          "scatter": [
           {
            "marker": {
             "line": {
              "color": "#283442"
             }
            },
            "type": "scatter"
           }
          ],
          "parcoords": [
           {
            "type": "parcoords",
            "line": {
             "colorbar": {
              "outlinewidth": 0,
              "ticks": ""
             }
            }
           }
          ],
          "scatterpolargl": [
           {
            "type": "scatterpolargl",
            "marker": {
             "colorbar": {
              "outlinewidth": 0,
              "ticks": ""
             }
            }
           }
          ],
          "bar": [
           {
            "error_x": {
             "color": "#f2f5fa"
            },
            "error_y": {
             "color": "#f2f5fa"
            },
            "marker": {
             "line": {
              "color": "rgb(17,17,17)",
              "width": 0.5
             },
             "pattern": {
              "fillmode": "overlay",
              "size": 10,
              "solidity": 0.2
             }
            },
            "type": "bar"
           }
          ],
          "scattergeo": [
           {
            "type": "scattergeo",
            "marker": {
             "colorbar": {
              "outlinewidth": 0,
              "ticks": ""
             }
            }
           }
          ],
          "scatterpolar": [
           {
            "type": "scatterpolar",
            "marker": {
             "colorbar": {
              "outlinewidth": 0,
              "ticks": ""
             }
            }
           }
          ],
          "histogram": [
           {
            "marker": {
             "pattern": {
              "fillmode": "overlay",
              "size": 10,
              "solidity": 0.2
             }
            },
            "type": "histogram"
           }
          ],
          "scattergl": [
           {
            "marker": {
             "line": {
              "color": "#283442"
             }
            },
            "type": "scattergl"
           }
          ],
          "scatter3d": [
           {
            "type": "scatter3d",
            "line": {
             "colorbar": {
              "outlinewidth": 0,
              "ticks": ""
             }
            },
            "marker": {
             "colorbar": {
              "outlinewidth": 0,
              "ticks": ""
             }
            }
           }
          ],
          "scattermapbox": [
           {
            "type": "scattermapbox",
            "marker": {
             "colorbar": {
              "outlinewidth": 0,
              "ticks": ""
             }
            }
           }
          ],
          "scatterternary": [
           {
            "type": "scatterternary",
            "marker": {
             "colorbar": {
              "outlinewidth": 0,
              "ticks": ""
             }
            }
           }
          ],
          "scattercarpet": [
           {
            "type": "scattercarpet",
            "marker": {
             "colorbar": {
              "outlinewidth": 0,
              "ticks": ""
             }
            }
           }
          ],
          "carpet": [
           {
            "aaxis": {
             "endlinecolor": "#A2B1C6",
             "gridcolor": "#506784",
             "linecolor": "#506784",
             "minorgridcolor": "#506784",
             "startlinecolor": "#A2B1C6"
            },
            "baxis": {
             "endlinecolor": "#A2B1C6",
             "gridcolor": "#506784",
             "linecolor": "#506784",
             "minorgridcolor": "#506784",
             "startlinecolor": "#A2B1C6"
            },
            "type": "carpet"
           }
          ],
          "table": [
           {
            "cells": {
             "fill": {
              "color": "#506784"
             },
             "line": {
              "color": "rgb(17,17,17)"
             }
            },
            "header": {
             "fill": {
              "color": "#2a3f5f"
             },
             "line": {
              "color": "rgb(17,17,17)"
             }
            },
            "type": "table"
           }
          ],
          "barpolar": [
           {
            "marker": {
             "line": {
              "color": "rgb(17,17,17)",
              "width": 0.5
             },
             "pattern": {
              "fillmode": "overlay",
              "size": 10,
              "solidity": 0.2
             }
            },
            "type": "barpolar"
           }
          ],
          "pie": [
           {
            "automargin": true,
            "type": "pie"
           }
          ]
         },
         "layout": {
          "autotypenumbers": "strict",
          "colorway": [
           "#636efa",
           "#EF553B",
           "#00cc96",
           "#ab63fa",
           "#FFA15A",
           "#19d3f3",
           "#FF6692",
           "#B6E880",
           "#FF97FF",
           "#FECB52"
          ],
          "font": {
           "color": "#f2f5fa"
          },
          "hovermode": "closest",
          "hoverlabel": {
           "align": "left"
          },
          "paper_bgcolor": "rgb(17,17,17)",
          "plot_bgcolor": "rgb(17,17,17)",
          "polar": {
           "bgcolor": "rgb(17,17,17)",
           "angularaxis": {
            "gridcolor": "#506784",
            "linecolor": "#506784",
            "ticks": ""
           },
           "radialaxis": {
            "gridcolor": "#506784",
            "linecolor": "#506784",
            "ticks": ""
           }
          },
          "ternary": {
           "bgcolor": "rgb(17,17,17)",
           "aaxis": {
            "gridcolor": "#506784",
            "linecolor": "#506784",
            "ticks": ""
           },
           "baxis": {
            "gridcolor": "#506784",
            "linecolor": "#506784",
            "ticks": ""
           },
           "caxis": {
            "gridcolor": "#506784",
            "linecolor": "#506784",
            "ticks": ""
           }
          },
          "coloraxis": {
           "colorbar": {
            "outlinewidth": 0,
            "ticks": ""
           }
          },
          "colorscale": {
           "sequential": [
            [
             0.0,
             "#0d0887"
            ],
            [
             0.1111111111111111,
             "#46039f"
            ],
            [
             0.2222222222222222,
             "#7201a8"
            ],
            [
             0.3333333333333333,
             "#9c179e"
            ],
            [
             0.4444444444444444,
             "#bd3786"
            ],
            [
             0.5555555555555556,
             "#d8576b"
            ],
            [
             0.6666666666666666,
             "#ed7953"
            ],
            [
             0.7777777777777778,
             "#fb9f3a"
            ],
            [
             0.8888888888888888,
             "#fdca26"
            ],
            [
             1.0,
             "#f0f921"
            ]
           ],
           "sequentialminus": [
            [
             0.0,
             "#0d0887"
            ],
            [
             0.1111111111111111,
             "#46039f"
            ],
            [
             0.2222222222222222,
             "#7201a8"
            ],
            [
             0.3333333333333333,
             "#9c179e"
            ],
            [
             0.4444444444444444,
             "#bd3786"
            ],
            [
             0.5555555555555556,
             "#d8576b"
            ],
            [
             0.6666666666666666,
             "#ed7953"
            ],
            [
             0.7777777777777778,
             "#fb9f3a"
            ],
            [
             0.8888888888888888,
             "#fdca26"
            ],
            [
             1.0,
             "#f0f921"
            ]
           ],
           "diverging": [
            [
             0,
             "#8e0152"
            ],
            [
             0.1,
             "#c51b7d"
            ],
            [
             0.2,
             "#de77ae"
            ],
            [
             0.3,
             "#f1b6da"
            ],
            [
             0.4,
             "#fde0ef"
            ],
            [
             0.5,
             "#f7f7f7"
            ],
            [
             0.6,
             "#e6f5d0"
            ],
            [
             0.7,
             "#b8e186"
            ],
            [
             0.8,
             "#7fbc41"
            ],
            [
             0.9,
             "#4d9221"
            ],
            [
             1,
             "#276419"
            ]
           ]
          },
          "xaxis": {
           "gridcolor": "#283442",
           "linecolor": "#506784",
           "ticks": "",
           "title": {
            "standoff": 15
           },
           "zerolinecolor": "#283442",
           "automargin": true,
           "zerolinewidth": 2
          },
          "yaxis": {
           "gridcolor": "#283442",
           "linecolor": "#506784",
           "ticks": "",
           "title": {
            "standoff": 15
           },
           "zerolinecolor": "#283442",
           "automargin": true,
           "zerolinewidth": 2
          },
          "scene": {
           "xaxis": {
            "backgroundcolor": "rgb(17,17,17)",
            "gridcolor": "#506784",
            "linecolor": "#506784",
            "showbackground": true,
            "ticks": "",
            "zerolinecolor": "#C8D4E3",
            "gridwidth": 2
           },
           "yaxis": {
            "backgroundcolor": "rgb(17,17,17)",
            "gridcolor": "#506784",
            "linecolor": "#506784",
            "showbackground": true,
            "ticks": "",
            "zerolinecolor": "#C8D4E3",
            "gridwidth": 2
           },
           "zaxis": {
            "backgroundcolor": "rgb(17,17,17)",
            "gridcolor": "#506784",
            "linecolor": "#506784",
            "showbackground": true,
            "ticks": "",
            "zerolinecolor": "#C8D4E3",
            "gridwidth": 2
           }
          },
          "shapedefaults": {
           "line": {
            "color": "#f2f5fa"
           }
          },
          "annotationdefaults": {
           "arrowcolor": "#f2f5fa",
           "arrowhead": 0,
           "arrowwidth": 1
          },
          "geo": {
           "bgcolor": "rgb(17,17,17)",
           "landcolor": "rgb(17,17,17)",
           "subunitcolor": "#506784",
           "showland": true,
           "showlakes": true,
           "lakecolor": "rgb(17,17,17)"
          },
          "title": {
           "x": 0.05
          },
          "updatemenudefaults": {
           "bgcolor": "#506784",
           "borderwidth": 0
          },
          "sliderdefaults": {
           "bgcolor": "#C8D4E3",
           "borderwidth": 1,
           "bordercolor": "rgb(17,17,17)",
           "tickwidth": 0
          },
          "mapbox": {
           "style": "dark"
          }
         }
        },
        "xaxis": {
         "anchor": "y",
         "domain": [
          0.0,
          1.0
         ],
         "title": {
          "text": "x"
         }
        },
        "yaxis": {
         "anchor": "x",
         "domain": [
          0.0,
          1.0
         ],
         "title": {
          "text": "y"
         }
        },
        "legend": {
         "tracegroupgap": 0
        },
        "margin": {
         "t": 60
        }
       },
       "config": {
        "plotlyServerURL": "https://plot.ly"
       }
      },
      "text/html": [
       "<div>                            <div id=\"e49efe05-5019-42fa-bb82-364554f94329\" class=\"plotly-graph-div\" style=\"height:525px; width:100%;\"></div>            <script type=\"text/javascript\">                require([\"plotly\"], function(Plotly) {                    window.PLOTLYENV=window.PLOTLYENV || {};                                    if (document.getElementById(\"e49efe05-5019-42fa-bb82-364554f94329\")) {                    Plotly.newPlot(                        \"e49efe05-5019-42fa-bb82-364554f94329\",                        [{\"hovertemplate\":\"x=%{x}\\u003cbr\\u003ey=%{y}\\u003cextra\\u003e\\u003c\\u002fextra\\u003e\",\"legendgroup\":\"\",\"marker\":{\"color\":\"#636efa\",\"symbol\":\"circle\"},\"mode\":\"markers\",\"name\":\"\",\"orientation\":\"v\",\"showlegend\":false,\"x\":[0.4478554570936889,0.44974378274187427,0.45163210839005963,0.453520434038245,0.45540875968643035,0.4572970853346157,0.4591854109828011,0.46107373663098644,0.4629620622791718,0.4648503879273572,0.4667387135755426,0.46862703922372795,0.4705153648719133,0.4724036905200987,0.47429201616828404,0.4761803418164694,0.47806866746465476,0.4799569931128401,0.4818453187610255,0.48373364440921085,0.4856219700573962,0.4875102957055816,0.48939862135376694,0.4912869470019523,0.49317527265013766,0.495063598298323,0.4969519239465084,0.49884024959469375,0.5007285752428792,0.5026169008910645,0.5045052265392499,0.5063935521874352,0.5082818778356206,0.5101702034838059,0.5120585291319913,0.5139468547801767,0.5158351804283621,0.5177235060765475,0.5196118317247328,0.5215001573729181,0.5233884830211035,0.5252768086692889,0.5271651343174742,0.5290534599656597,0.530941785613845,0.5328301112620304,0.5347184369102157,0.5366067625584011,0.5384950882065864,0.5403834138547718,0.5422717395029572,0.5441600651511426,0.5460483907993279,0.5479367164475133,0.5498250420956986,0.551713367743884,0.5536016933920693,0.5554900190402547,0.5573783446884402,0.5592666703366255,0.5611549959848108,0.5630433216329962,0.5649316472811816,0.5668199729293669,0.5687082985775523,0.5705966242257376,0.5724849498739231,0.5743732755221084,0.5762616011702938,0.5781499268184791,0.5800382524666645,0.5819265781148498,0.5838149037630352,0.5857032294112205,0.587591555059406,0.5894798807075914,0.5913682063557767,0.593256532003962,0.5951448576521474,0.5970331833003328,0.5989215089485181,0.6008098345967035,0.6026981602448889,0.6045864858930743,0.6064748115412596,0.608363137189445,0.6102514628376303,0.6121397884858157,0.614028114134001,0.6159164397821865,0.6178047654303718,0.6196930910785572,0.6215814167267425,0.6234697423749279,0.6253580680231132,0.6272463936712986,0.6291347193194841,0.6310230449676694,0.6329113706158547,0.6347996962640401],\"xaxis\":\"x\",\"y\":[1,1,0,0,0,0,1,1,0,2,4,4,4,4,15,15,16,13,25,37,29,36,59,67,72,89,130,161,183,210,268,319,371,436,539,583,730,813,907,1019,1142,1305,1494,1661,1833,2020,2126,2341,2583,2886,3140,3111,3286,3359,3545,3504,3654,3709,3588,3606,3482,3232,3150,3002,2763,2709,2519,2351,2112,1956,1721,1475,1291,1200,1039,881,728,654,539,439,351,272,243,184,167,123,90,79,43,34,36,26,17,12,10,5,3,1,3,1],\"yaxis\":\"y\",\"type\":\"scatter\"}],                        {\"template\":{\"data\":{\"histogram2dcontour\":[{\"type\":\"histogram2dcontour\",\"colorbar\":{\"outlinewidth\":0,\"ticks\":\"\"},\"colorscale\":[[0.0,\"#0d0887\"],[0.1111111111111111,\"#46039f\"],[0.2222222222222222,\"#7201a8\"],[0.3333333333333333,\"#9c179e\"],[0.4444444444444444,\"#bd3786\"],[0.5555555555555556,\"#d8576b\"],[0.6666666666666666,\"#ed7953\"],[0.7777777777777778,\"#fb9f3a\"],[0.8888888888888888,\"#fdca26\"],[1.0,\"#f0f921\"]]}],\"choropleth\":[{\"type\":\"choropleth\",\"colorbar\":{\"outlinewidth\":0,\"ticks\":\"\"}}],\"histogram2d\":[{\"type\":\"histogram2d\",\"colorbar\":{\"outlinewidth\":0,\"ticks\":\"\"},\"colorscale\":[[0.0,\"#0d0887\"],[0.1111111111111111,\"#46039f\"],[0.2222222222222222,\"#7201a8\"],[0.3333333333333333,\"#9c179e\"],[0.4444444444444444,\"#bd3786\"],[0.5555555555555556,\"#d8576b\"],[0.6666666666666666,\"#ed7953\"],[0.7777777777777778,\"#fb9f3a\"],[0.8888888888888888,\"#fdca26\"],[1.0,\"#f0f921\"]]}],\"heatmap\":[{\"type\":\"heatmap\",\"colorbar\":{\"outlinewidth\":0,\"ticks\":\"\"},\"colorscale\":[[0.0,\"#0d0887\"],[0.1111111111111111,\"#46039f\"],[0.2222222222222222,\"#7201a8\"],[0.3333333333333333,\"#9c179e\"],[0.4444444444444444,\"#bd3786\"],[0.5555555555555556,\"#d8576b\"],[0.6666666666666666,\"#ed7953\"],[0.7777777777777778,\"#fb9f3a\"],[0.8888888888888888,\"#fdca26\"],[1.0,\"#f0f921\"]]}],\"heatmapgl\":[{\"type\":\"heatmapgl\",\"colorbar\":{\"outlinewidth\":0,\"ticks\":\"\"},\"colorscale\":[[0.0,\"#0d0887\"],[0.1111111111111111,\"#46039f\"],[0.2222222222222222,\"#7201a8\"],[0.3333333333333333,\"#9c179e\"],[0.4444444444444444,\"#bd3786\"],[0.5555555555555556,\"#d8576b\"],[0.6666666666666666,\"#ed7953\"],[0.7777777777777778,\"#fb9f3a\"],[0.8888888888888888,\"#fdca26\"],[1.0,\"#f0f921\"]]}],\"contourcarpet\":[{\"type\":\"contourcarpet\",\"colorbar\":{\"outlinewidth\":0,\"ticks\":\"\"}}],\"contour\":[{\"type\":\"contour\",\"colorbar\":{\"outlinewidth\":0,\"ticks\":\"\"},\"colorscale\":[[0.0,\"#0d0887\"],[0.1111111111111111,\"#46039f\"],[0.2222222222222222,\"#7201a8\"],[0.3333333333333333,\"#9c179e\"],[0.4444444444444444,\"#bd3786\"],[0.5555555555555556,\"#d8576b\"],[0.6666666666666666,\"#ed7953\"],[0.7777777777777778,\"#fb9f3a\"],[0.8888888888888888,\"#fdca26\"],[1.0,\"#f0f921\"]]}],\"surface\":[{\"type\":\"surface\",\"colorbar\":{\"outlinewidth\":0,\"ticks\":\"\"},\"colorscale\":[[0.0,\"#0d0887\"],[0.1111111111111111,\"#46039f\"],[0.2222222222222222,\"#7201a8\"],[0.3333333333333333,\"#9c179e\"],[0.4444444444444444,\"#bd3786\"],[0.5555555555555556,\"#d8576b\"],[0.6666666666666666,\"#ed7953\"],[0.7777777777777778,\"#fb9f3a\"],[0.8888888888888888,\"#fdca26\"],[1.0,\"#f0f921\"]]}],\"mesh3d\":[{\"type\":\"mesh3d\",\"colorbar\":{\"outlinewidth\":0,\"ticks\":\"\"}}],\"scatter\":[{\"marker\":{\"line\":{\"color\":\"#283442\"}},\"type\":\"scatter\"}],\"parcoords\":[{\"type\":\"parcoords\",\"line\":{\"colorbar\":{\"outlinewidth\":0,\"ticks\":\"\"}}}],\"scatterpolargl\":[{\"type\":\"scatterpolargl\",\"marker\":{\"colorbar\":{\"outlinewidth\":0,\"ticks\":\"\"}}}],\"bar\":[{\"error_x\":{\"color\":\"#f2f5fa\"},\"error_y\":{\"color\":\"#f2f5fa\"},\"marker\":{\"line\":{\"color\":\"rgb(17,17,17)\",\"width\":0.5},\"pattern\":{\"fillmode\":\"overlay\",\"size\":10,\"solidity\":0.2}},\"type\":\"bar\"}],\"scattergeo\":[{\"type\":\"scattergeo\",\"marker\":{\"colorbar\":{\"outlinewidth\":0,\"ticks\":\"\"}}}],\"scatterpolar\":[{\"type\":\"scatterpolar\",\"marker\":{\"colorbar\":{\"outlinewidth\":0,\"ticks\":\"\"}}}],\"histogram\":[{\"marker\":{\"pattern\":{\"fillmode\":\"overlay\",\"size\":10,\"solidity\":0.2}},\"type\":\"histogram\"}],\"scattergl\":[{\"marker\":{\"line\":{\"color\":\"#283442\"}},\"type\":\"scattergl\"}],\"scatter3d\":[{\"type\":\"scatter3d\",\"line\":{\"colorbar\":{\"outlinewidth\":0,\"ticks\":\"\"}},\"marker\":{\"colorbar\":{\"outlinewidth\":0,\"ticks\":\"\"}}}],\"scattermapbox\":[{\"type\":\"scattermapbox\",\"marker\":{\"colorbar\":{\"outlinewidth\":0,\"ticks\":\"\"}}}],\"scatterternary\":[{\"type\":\"scatterternary\",\"marker\":{\"colorbar\":{\"outlinewidth\":0,\"ticks\":\"\"}}}],\"scattercarpet\":[{\"type\":\"scattercarpet\",\"marker\":{\"colorbar\":{\"outlinewidth\":0,\"ticks\":\"\"}}}],\"carpet\":[{\"aaxis\":{\"endlinecolor\":\"#A2B1C6\",\"gridcolor\":\"#506784\",\"linecolor\":\"#506784\",\"minorgridcolor\":\"#506784\",\"startlinecolor\":\"#A2B1C6\"},\"baxis\":{\"endlinecolor\":\"#A2B1C6\",\"gridcolor\":\"#506784\",\"linecolor\":\"#506784\",\"minorgridcolor\":\"#506784\",\"startlinecolor\":\"#A2B1C6\"},\"type\":\"carpet\"}],\"table\":[{\"cells\":{\"fill\":{\"color\":\"#506784\"},\"line\":{\"color\":\"rgb(17,17,17)\"}},\"header\":{\"fill\":{\"color\":\"#2a3f5f\"},\"line\":{\"color\":\"rgb(17,17,17)\"}},\"type\":\"table\"}],\"barpolar\":[{\"marker\":{\"line\":{\"color\":\"rgb(17,17,17)\",\"width\":0.5},\"pattern\":{\"fillmode\":\"overlay\",\"size\":10,\"solidity\":0.2}},\"type\":\"barpolar\"}],\"pie\":[{\"automargin\":true,\"type\":\"pie\"}]},\"layout\":{\"autotypenumbers\":\"strict\",\"colorway\":[\"#636efa\",\"#EF553B\",\"#00cc96\",\"#ab63fa\",\"#FFA15A\",\"#19d3f3\",\"#FF6692\",\"#B6E880\",\"#FF97FF\",\"#FECB52\"],\"font\":{\"color\":\"#f2f5fa\"},\"hovermode\":\"closest\",\"hoverlabel\":{\"align\":\"left\"},\"paper_bgcolor\":\"rgb(17,17,17)\",\"plot_bgcolor\":\"rgb(17,17,17)\",\"polar\":{\"bgcolor\":\"rgb(17,17,17)\",\"angularaxis\":{\"gridcolor\":\"#506784\",\"linecolor\":\"#506784\",\"ticks\":\"\"},\"radialaxis\":{\"gridcolor\":\"#506784\",\"linecolor\":\"#506784\",\"ticks\":\"\"}},\"ternary\":{\"bgcolor\":\"rgb(17,17,17)\",\"aaxis\":{\"gridcolor\":\"#506784\",\"linecolor\":\"#506784\",\"ticks\":\"\"},\"baxis\":{\"gridcolor\":\"#506784\",\"linecolor\":\"#506784\",\"ticks\":\"\"},\"caxis\":{\"gridcolor\":\"#506784\",\"linecolor\":\"#506784\",\"ticks\":\"\"}},\"coloraxis\":{\"colorbar\":{\"outlinewidth\":0,\"ticks\":\"\"}},\"colorscale\":{\"sequential\":[[0.0,\"#0d0887\"],[0.1111111111111111,\"#46039f\"],[0.2222222222222222,\"#7201a8\"],[0.3333333333333333,\"#9c179e\"],[0.4444444444444444,\"#bd3786\"],[0.5555555555555556,\"#d8576b\"],[0.6666666666666666,\"#ed7953\"],[0.7777777777777778,\"#fb9f3a\"],[0.8888888888888888,\"#fdca26\"],[1.0,\"#f0f921\"]],\"sequentialminus\":[[0.0,\"#0d0887\"],[0.1111111111111111,\"#46039f\"],[0.2222222222222222,\"#7201a8\"],[0.3333333333333333,\"#9c179e\"],[0.4444444444444444,\"#bd3786\"],[0.5555555555555556,\"#d8576b\"],[0.6666666666666666,\"#ed7953\"],[0.7777777777777778,\"#fb9f3a\"],[0.8888888888888888,\"#fdca26\"],[1.0,\"#f0f921\"]],\"diverging\":[[0,\"#8e0152\"],[0.1,\"#c51b7d\"],[0.2,\"#de77ae\"],[0.3,\"#f1b6da\"],[0.4,\"#fde0ef\"],[0.5,\"#f7f7f7\"],[0.6,\"#e6f5d0\"],[0.7,\"#b8e186\"],[0.8,\"#7fbc41\"],[0.9,\"#4d9221\"],[1,\"#276419\"]]},\"xaxis\":{\"gridcolor\":\"#283442\",\"linecolor\":\"#506784\",\"ticks\":\"\",\"title\":{\"standoff\":15},\"zerolinecolor\":\"#283442\",\"automargin\":true,\"zerolinewidth\":2},\"yaxis\":{\"gridcolor\":\"#283442\",\"linecolor\":\"#506784\",\"ticks\":\"\",\"title\":{\"standoff\":15},\"zerolinecolor\":\"#283442\",\"automargin\":true,\"zerolinewidth\":2},\"scene\":{\"xaxis\":{\"backgroundcolor\":\"rgb(17,17,17)\",\"gridcolor\":\"#506784\",\"linecolor\":\"#506784\",\"showbackground\":true,\"ticks\":\"\",\"zerolinecolor\":\"#C8D4E3\",\"gridwidth\":2},\"yaxis\":{\"backgroundcolor\":\"rgb(17,17,17)\",\"gridcolor\":\"#506784\",\"linecolor\":\"#506784\",\"showbackground\":true,\"ticks\":\"\",\"zerolinecolor\":\"#C8D4E3\",\"gridwidth\":2},\"zaxis\":{\"backgroundcolor\":\"rgb(17,17,17)\",\"gridcolor\":\"#506784\",\"linecolor\":\"#506784\",\"showbackground\":true,\"ticks\":\"\",\"zerolinecolor\":\"#C8D4E3\",\"gridwidth\":2}},\"shapedefaults\":{\"line\":{\"color\":\"#f2f5fa\"}},\"annotationdefaults\":{\"arrowcolor\":\"#f2f5fa\",\"arrowhead\":0,\"arrowwidth\":1},\"geo\":{\"bgcolor\":\"rgb(17,17,17)\",\"landcolor\":\"rgb(17,17,17)\",\"subunitcolor\":\"#506784\",\"showland\":true,\"showlakes\":true,\"lakecolor\":\"rgb(17,17,17)\"},\"title\":{\"x\":0.05},\"updatemenudefaults\":{\"bgcolor\":\"#506784\",\"borderwidth\":0},\"sliderdefaults\":{\"bgcolor\":\"#C8D4E3\",\"borderwidth\":1,\"bordercolor\":\"rgb(17,17,17)\",\"tickwidth\":0},\"mapbox\":{\"style\":\"dark\"}}},\"xaxis\":{\"anchor\":\"y\",\"domain\":[0.0,1.0],\"title\":{\"text\":\"x\"}},\"yaxis\":{\"anchor\":\"x\",\"domain\":[0.0,1.0],\"title\":{\"text\":\"y\"}},\"legend\":{\"tracegroupgap\":0},\"margin\":{\"t\":60}},                        {\"responsive\": true}                    ).then(function(){\n",
       "                            \n",
       "var gd = document.getElementById('e49efe05-5019-42fa-bb82-364554f94329');\n",
       "var x = new MutationObserver(function (mutations, observer) {{\n",
       "        var display = window.getComputedStyle(gd).display;\n",
       "        if (!display || display === 'none') {{\n",
       "            console.log([gd, 'removed!']);\n",
       "            Plotly.purge(gd);\n",
       "            observer.disconnect();\n",
       "        }}\n",
       "}});\n",
       "\n",
       "// Listen for the removal of the full notebook cells\n",
       "var notebookContainer = gd.closest('#notebook-container');\n",
       "if (notebookContainer) {{\n",
       "    x.observe(notebookContainer, {childList: true});\n",
       "}}\n",
       "\n",
       "// Listen for the clearing of the current output cell\n",
       "var outputEl = gd.closest('.output');\n",
       "if (outputEl) {{\n",
       "    x.observe(outputEl, {childList: true});\n",
       "}}\n",
       "\n",
       "                        })                };                });            </script>        </div>"
      ]
     },
     "metadata": {},
     "output_type": "display_data"
    }
   ],
   "execution_count": 198
  },
  {
   "metadata": {
    "ExecuteTime": {
     "end_time": "2024-07-29T17:10:02.837479Z",
     "start_time": "2024-07-29T17:10:01.724511Z"
    }
   },
   "cell_type": "code",
   "source": "results = Parallel(n_jobs=-1)(delayed(dg.myopic_search)(m0=x, niter_search=niter_search, max_edge_value=max_edge_value, initial_belief=init_belief, correct_belief=correct_belief, niter_degroot=niter_degroot)  for x in tqdm(init_cond))",
   "id": "833d10a0d8ca2a8f",
   "outputs": [
    {
     "name": "stderr",
     "output_type": "stream",
     "text": [
      "100%|██████████| 100/100 [00:00<00:00, 156.43it/s]\n"
     ]
    }
   ],
   "execution_count": 199
  },
  {
   "metadata": {
    "ExecuteTime": {
     "end_time": "2024-07-29T17:10:04.551216Z",
     "start_time": "2024-07-29T17:10:04.494862Z"
    }
   },
   "cell_type": "code",
   "source": [
    "meta_data = pd.DataFrame([{'final_error': r.error, 'initial_error': r.initial_error, 'converged': r.converged, 'iterations': r.iterations, 'num': i} for i, r in enumerate(results)])\n",
    "px.scatter(meta_data, x='initial_error', y='final_error', color='converged', hover_data=['num'], render_mode='svg')"
   ],
   "id": "bd6f4a953c42c162",
   "outputs": [
    {
     "data": {
      "application/vnd.plotly.v1+json": {
       "data": [
        {
         "customdata": [
          [
           0
          ],
          [
           1
          ],
          [
           2
          ],
          [
           3
          ],
          [
           4
          ],
          [
           5
          ],
          [
           6
          ],
          [
           7
          ],
          [
           8
          ],
          [
           9
          ],
          [
           10
          ],
          [
           11
          ],
          [
           12
          ],
          [
           13
          ],
          [
           14
          ],
          [
           15
          ],
          [
           16
          ],
          [
           17
          ],
          [
           18
          ],
          [
           19
          ],
          [
           20
          ],
          [
           21
          ],
          [
           22
          ],
          [
           23
          ],
          [
           24
          ],
          [
           25
          ],
          [
           26
          ],
          [
           27
          ],
          [
           28
          ],
          [
           29
          ],
          [
           30
          ],
          [
           31
          ],
          [
           32
          ],
          [
           33
          ],
          [
           34
          ],
          [
           35
          ],
          [
           36
          ],
          [
           37
          ],
          [
           38
          ],
          [
           39
          ],
          [
           40
          ],
          [
           41
          ],
          [
           42
          ],
          [
           43
          ],
          [
           44
          ],
          [
           45
          ],
          [
           46
          ],
          [
           47
          ],
          [
           48
          ],
          [
           49
          ],
          [
           50
          ],
          [
           51
          ],
          [
           52
          ],
          [
           53
          ],
          [
           54
          ],
          [
           55
          ],
          [
           56
          ],
          [
           57
          ],
          [
           58
          ],
          [
           59
          ],
          [
           60
          ],
          [
           61
          ],
          [
           62
          ],
          [
           63
          ],
          [
           64
          ],
          [
           65
          ],
          [
           66
          ],
          [
           67
          ],
          [
           68
          ],
          [
           69
          ],
          [
           70
          ],
          [
           71
          ],
          [
           72
          ],
          [
           73
          ],
          [
           74
          ],
          [
           75
          ],
          [
           76
          ],
          [
           77
          ],
          [
           78
          ],
          [
           79
          ],
          [
           80
          ],
          [
           81
          ],
          [
           82
          ],
          [
           83
          ],
          [
           84
          ],
          [
           85
          ],
          [
           86
          ],
          [
           87
          ],
          [
           88
          ],
          [
           89
          ],
          [
           90
          ],
          [
           91
          ],
          [
           92
          ],
          [
           93
          ],
          [
           94
          ],
          [
           95
          ],
          [
           96
          ],
          [
           97
          ],
          [
           98
          ],
          [
           99
          ]
         ],
         "hovertemplate": "converged=True<br>initial_error=%{x}<br>final_error=%{y}<br>num=%{customdata[0]}<extra></extra>",
         "legendgroup": "True",
         "marker": {
          "color": "#636efa",
          "symbol": "circle"
         },
         "mode": "markers",
         "name": "True",
         "orientation": "v",
         "showlegend": true,
         "x": [
          0.39818922166202725,
          0.4065870444509428,
          0.40586041040787185,
          0.39801540629823107,
          0.41086106931316224,
          0.36759253597045816,
          0.36930600647570866,
          0.40517658775240334,
          0.42681056423058344,
          0.378553476049443,
          0.41228252337029514,
          0.4155686522104286,
          0.40542835667648003,
          0.37931886267552395,
          0.3940688105117267,
          0.3744217835537895,
          0.39663459473545437,
          0.3955626417100901,
          0.36507103645750144,
          0.38539187052350965,
          0.3834037761354013,
          0.39679390145673343,
          0.3589714301192279,
          0.42745904146248925,
          0.36331958626049354,
          0.3960195379412102,
          0.40598952414550177,
          0.41288071522377345,
          0.3610841278677901,
          0.43055003226615235,
          0.38971990626726855,
          0.38569205893147074,
          0.3963172514186607,
          0.38932609023822246,
          0.3752625142103204,
          0.41912864268101396,
          0.41582120312607634,
          0.4005392754054586,
          0.38253053954396954,
          0.3899201523054057,
          0.3430108554299786,
          0.4112231122401917,
          0.3955490458155619,
          0.3732619091153532,
          0.39212445716402095,
          0.40050658381289317,
          0.3702517787984757,
          0.35544131297939563,
          0.40941308979368507,
          0.37177382368952605,
          0.4126914183602187,
          0.37401868341586925,
          0.3979440721816824,
          0.38431668786234485,
          0.38809261866295747,
          0.37210365785901056,
          0.4130278102663862,
          0.4034760342517178,
          0.4320482771370604,
          0.38979999147491234,
          0.4057459424858174,
          0.39373741376706833,
          0.36462419316998007,
          0.40804488936312977,
          0.3938379849614097,
          0.4236120478508335,
          0.4423729676424587,
          0.41601005889169207,
          0.37776779970996527,
          0.36233568369528535,
          0.36985210510279093,
          0.3571132935946604,
          0.4041468192060983,
          0.3858333815638673,
          0.40105662207342724,
          0.384829834334391,
          0.42145773528520697,
          0.3652613288063046,
          0.40043547892357323,
          0.38158130340573554,
          0.40916813056289575,
          0.3631196976969645,
          0.3836526372024024,
          0.3820565858623437,
          0.3947588507370858,
          0.3540408860829639,
          0.35066562977765037,
          0.3661598207617094,
          0.386951007546693,
          0.38744042244915183,
          0.3799786809986244,
          0.3987725758405609,
          0.357820739001876,
          0.4498668978284634,
          0.401957645815094,
          0.3954419798780636,
          0.41301491186562667,
          0.41493665394245444,
          0.4169043369387716,
          0.4017568061009624
         ],
         "xaxis": "x",
         "y": [
          0.30476527213828963,
          0.30700880936460967,
          0.30434357082319496,
          0.3050513707243574,
          0.30474265319393146,
          0.30262932817767685,
          0.30596277448311043,
          0.30555622302700314,
          0.30689172779034596,
          0.30393310892515857,
          0.30520787406193484,
          0.30259424299409576,
          0.3042133834851052,
          0.30731279315784976,
          0.3050122015801393,
          0.3067551171462901,
          0.3054525800660855,
          0.30444960143002153,
          0.3042133834851052,
          0.3047623483729912,
          0.3042133834851052,
          0.30526206946409284,
          0.30519617900074114,
          0.30575365796619397,
          0.30334083524162075,
          0.30653876480179476,
          0.30699595242514915,
          0.3120445894524614,
          0.30474265319393146,
          0.3042133834851052,
          0.30469384136830535,
          0.30667107560005225,
          0.304487610378901,
          0.3034158468677977,
          0.3053824033635177,
          0.30664118822144615,
          0.30476527213828963,
          0.30393310892515857,
          0.303383685449515,
          0.30579776757767296,
          0.30444960143002153,
          0.30541073529795304,
          0.30262932817767685,
          0.3042133834851052,
          0.30434357082319496,
          0.30792758120469893,
          0.30844754179663986,
          0.30648925333818366,
          0.3059627744831104,
          0.30259424299409576,
          0.30689172779034596,
          0.30584289833962286,
          0.30476527213828963,
          0.30434357082319496,
          0.3042163072504036,
          0.3043640392920858,
          0.30456318208030064,
          0.30334083524162075,
          0.30545358550584734,
          0.3042163072504036,
          0.30259424299409576,
          0.30474265319393146,
          0.30445785180107343,
          0.3061058317545378,
          0.30448468661360256,
          0.30551892780254675,
          0.30547280873499205,
          0.30737131815552055,
          0.3051786342971487,
          0.30436111552678735,
          0.30476527213828963,
          0.30615961972524797,
          0.3068549037359446,
          0.3042163072504036,
          0.3042133834851052,
          0.3096244937301802,
          0.3045851153738648,
          0.3043640392920858,
          0.3049638683853836,
          0.30432210947954574,
          0.3042163072504036,
          0.30581355279763134,
          0.3045851153738648,
          0.30259424299409576,
          0.3066311174743071,
          0.30436111552678735,
          0.3045208038223214,
          0.30519617900074114,
          0.30504844695905897,
          0.3027029689885363,
          0.30888616770586724,
          0.30259424299409576,
          0.30432210947954574,
          0.3051815580624471,
          0.3069557732239612,
          0.30880092034744033,
          0.3079056499348154,
          0.30334083524162075,
          0.306831546075334,
          0.3047623483729912
         ],
         "yaxis": "y",
         "type": "scatter"
        }
       ],
       "layout": {
        "template": {
         "data": {
          "histogram2dcontour": [
           {
            "type": "histogram2dcontour",
            "colorbar": {
             "outlinewidth": 0,
             "ticks": ""
            },
            "colorscale": [
             [
              0.0,
              "#0d0887"
             ],
             [
              0.1111111111111111,
              "#46039f"
             ],
             [
              0.2222222222222222,
              "#7201a8"
             ],
             [
              0.3333333333333333,
              "#9c179e"
             ],
             [
              0.4444444444444444,
              "#bd3786"
             ],
             [
              0.5555555555555556,
              "#d8576b"
             ],
             [
              0.6666666666666666,
              "#ed7953"
             ],
             [
              0.7777777777777778,
              "#fb9f3a"
             ],
             [
              0.8888888888888888,
              "#fdca26"
             ],
             [
              1.0,
              "#f0f921"
             ]
            ]
           }
          ],
          "choropleth": [
           {
            "type": "choropleth",
            "colorbar": {
             "outlinewidth": 0,
             "ticks": ""
            }
           }
          ],
          "histogram2d": [
           {
            "type": "histogram2d",
            "colorbar": {
             "outlinewidth": 0,
             "ticks": ""
            },
            "colorscale": [
             [
              0.0,
              "#0d0887"
             ],
             [
              0.1111111111111111,
              "#46039f"
             ],
             [
              0.2222222222222222,
              "#7201a8"
             ],
             [
              0.3333333333333333,
              "#9c179e"
             ],
             [
              0.4444444444444444,
              "#bd3786"
             ],
             [
              0.5555555555555556,
              "#d8576b"
             ],
             [
              0.6666666666666666,
              "#ed7953"
             ],
             [
              0.7777777777777778,
              "#fb9f3a"
             ],
             [
              0.8888888888888888,
              "#fdca26"
             ],
             [
              1.0,
              "#f0f921"
             ]
            ]
           }
          ],
          "heatmap": [
           {
            "type": "heatmap",
            "colorbar": {
             "outlinewidth": 0,
             "ticks": ""
            },
            "colorscale": [
             [
              0.0,
              "#0d0887"
             ],
             [
              0.1111111111111111,
              "#46039f"
             ],
             [
              0.2222222222222222,
              "#7201a8"
             ],
             [
              0.3333333333333333,
              "#9c179e"
             ],
             [
              0.4444444444444444,
              "#bd3786"
             ],
             [
              0.5555555555555556,
              "#d8576b"
             ],
             [
              0.6666666666666666,
              "#ed7953"
             ],
             [
              0.7777777777777778,
              "#fb9f3a"
             ],
             [
              0.8888888888888888,
              "#fdca26"
             ],
             [
              1.0,
              "#f0f921"
             ]
            ]
           }
          ],
          "heatmapgl": [
           {
            "type": "heatmapgl",
            "colorbar": {
             "outlinewidth": 0,
             "ticks": ""
            },
            "colorscale": [
             [
              0.0,
              "#0d0887"
             ],
             [
              0.1111111111111111,
              "#46039f"
             ],
             [
              0.2222222222222222,
              "#7201a8"
             ],
             [
              0.3333333333333333,
              "#9c179e"
             ],
             [
              0.4444444444444444,
              "#bd3786"
             ],
             [
              0.5555555555555556,
              "#d8576b"
             ],
             [
              0.6666666666666666,
              "#ed7953"
             ],
             [
              0.7777777777777778,
              "#fb9f3a"
             ],
             [
              0.8888888888888888,
              "#fdca26"
             ],
             [
              1.0,
              "#f0f921"
             ]
            ]
           }
          ],
          "contourcarpet": [
           {
            "type": "contourcarpet",
            "colorbar": {
             "outlinewidth": 0,
             "ticks": ""
            }
           }
          ],
          "contour": [
           {
            "type": "contour",
            "colorbar": {
             "outlinewidth": 0,
             "ticks": ""
            },
            "colorscale": [
             [
              0.0,
              "#0d0887"
             ],
             [
              0.1111111111111111,
              "#46039f"
             ],
             [
              0.2222222222222222,
              "#7201a8"
             ],
             [
              0.3333333333333333,
              "#9c179e"
             ],
             [
              0.4444444444444444,
              "#bd3786"
             ],
             [
              0.5555555555555556,
              "#d8576b"
             ],
             [
              0.6666666666666666,
              "#ed7953"
             ],
             [
              0.7777777777777778,
              "#fb9f3a"
             ],
             [
              0.8888888888888888,
              "#fdca26"
             ],
             [
              1.0,
              "#f0f921"
             ]
            ]
           }
          ],
          "surface": [
           {
            "type": "surface",
            "colorbar": {
             "outlinewidth": 0,
             "ticks": ""
            },
            "colorscale": [
             [
              0.0,
              "#0d0887"
             ],
             [
              0.1111111111111111,
              "#46039f"
             ],
             [
              0.2222222222222222,
              "#7201a8"
             ],
             [
              0.3333333333333333,
              "#9c179e"
             ],
             [
              0.4444444444444444,
              "#bd3786"
             ],
             [
              0.5555555555555556,
              "#d8576b"
             ],
             [
              0.6666666666666666,
              "#ed7953"
             ],
             [
              0.7777777777777778,
              "#fb9f3a"
             ],
             [
              0.8888888888888888,
              "#fdca26"
             ],
             [
              1.0,
              "#f0f921"
             ]
            ]
           }
          ],
          "mesh3d": [
           {
            "type": "mesh3d",
            "colorbar": {
             "outlinewidth": 0,
             "ticks": ""
            }
           }
          ],
          "scatter": [
           {
            "marker": {
             "line": {
              "color": "#283442"
             }
            },
            "type": "scatter"
           }
          ],
          "parcoords": [
           {
            "type": "parcoords",
            "line": {
             "colorbar": {
              "outlinewidth": 0,
              "ticks": ""
             }
            }
           }
          ],
          "scatterpolargl": [
           {
            "type": "scatterpolargl",
            "marker": {
             "colorbar": {
              "outlinewidth": 0,
              "ticks": ""
             }
            }
           }
          ],
          "bar": [
           {
            "error_x": {
             "color": "#f2f5fa"
            },
            "error_y": {
             "color": "#f2f5fa"
            },
            "marker": {
             "line": {
              "color": "rgb(17,17,17)",
              "width": 0.5
             },
             "pattern": {
              "fillmode": "overlay",
              "size": 10,
              "solidity": 0.2
             }
            },
            "type": "bar"
           }
          ],
          "scattergeo": [
           {
            "type": "scattergeo",
            "marker": {
             "colorbar": {
              "outlinewidth": 0,
              "ticks": ""
             }
            }
           }
          ],
          "scatterpolar": [
           {
            "type": "scatterpolar",
            "marker": {
             "colorbar": {
              "outlinewidth": 0,
              "ticks": ""
             }
            }
           }
          ],
          "histogram": [
           {
            "marker": {
             "pattern": {
              "fillmode": "overlay",
              "size": 10,
              "solidity": 0.2
             }
            },
            "type": "histogram"
           }
          ],
          "scattergl": [
           {
            "marker": {
             "line": {
              "color": "#283442"
             }
            },
            "type": "scattergl"
           }
          ],
          "scatter3d": [
           {
            "type": "scatter3d",
            "line": {
             "colorbar": {
              "outlinewidth": 0,
              "ticks": ""
             }
            },
            "marker": {
             "colorbar": {
              "outlinewidth": 0,
              "ticks": ""
             }
            }
           }
          ],
          "scattermapbox": [
           {
            "type": "scattermapbox",
            "marker": {
             "colorbar": {
              "outlinewidth": 0,
              "ticks": ""
             }
            }
           }
          ],
          "scatterternary": [
           {
            "type": "scatterternary",
            "marker": {
             "colorbar": {
              "outlinewidth": 0,
              "ticks": ""
             }
            }
           }
          ],
          "scattercarpet": [
           {
            "type": "scattercarpet",
            "marker": {
             "colorbar": {
              "outlinewidth": 0,
              "ticks": ""
             }
            }
           }
          ],
          "carpet": [
           {
            "aaxis": {
             "endlinecolor": "#A2B1C6",
             "gridcolor": "#506784",
             "linecolor": "#506784",
             "minorgridcolor": "#506784",
             "startlinecolor": "#A2B1C6"
            },
            "baxis": {
             "endlinecolor": "#A2B1C6",
             "gridcolor": "#506784",
             "linecolor": "#506784",
             "minorgridcolor": "#506784",
             "startlinecolor": "#A2B1C6"
            },
            "type": "carpet"
           }
          ],
          "table": [
           {
            "cells": {
             "fill": {
              "color": "#506784"
             },
             "line": {
              "color": "rgb(17,17,17)"
             }
            },
            "header": {
             "fill": {
              "color": "#2a3f5f"
             },
             "line": {
              "color": "rgb(17,17,17)"
             }
            },
            "type": "table"
           }
          ],
          "barpolar": [
           {
            "marker": {
             "line": {
              "color": "rgb(17,17,17)",
              "width": 0.5
             },
             "pattern": {
              "fillmode": "overlay",
              "size": 10,
              "solidity": 0.2
             }
            },
            "type": "barpolar"
           }
          ],
          "pie": [
           {
            "automargin": true,
            "type": "pie"
           }
          ]
         },
         "layout": {
          "autotypenumbers": "strict",
          "colorway": [
           "#636efa",
           "#EF553B",
           "#00cc96",
           "#ab63fa",
           "#FFA15A",
           "#19d3f3",
           "#FF6692",
           "#B6E880",
           "#FF97FF",
           "#FECB52"
          ],
          "font": {
           "color": "#f2f5fa"
          },
          "hovermode": "closest",
          "hoverlabel": {
           "align": "left"
          },
          "paper_bgcolor": "rgb(17,17,17)",
          "plot_bgcolor": "rgb(17,17,17)",
          "polar": {
           "bgcolor": "rgb(17,17,17)",
           "angularaxis": {
            "gridcolor": "#506784",
            "linecolor": "#506784",
            "ticks": ""
           },
           "radialaxis": {
            "gridcolor": "#506784",
            "linecolor": "#506784",
            "ticks": ""
           }
          },
          "ternary": {
           "bgcolor": "rgb(17,17,17)",
           "aaxis": {
            "gridcolor": "#506784",
            "linecolor": "#506784",
            "ticks": ""
           },
           "baxis": {
            "gridcolor": "#506784",
            "linecolor": "#506784",
            "ticks": ""
           },
           "caxis": {
            "gridcolor": "#506784",
            "linecolor": "#506784",
            "ticks": ""
           }
          },
          "coloraxis": {
           "colorbar": {
            "outlinewidth": 0,
            "ticks": ""
           }
          },
          "colorscale": {
           "sequential": [
            [
             0.0,
             "#0d0887"
            ],
            [
             0.1111111111111111,
             "#46039f"
            ],
            [
             0.2222222222222222,
             "#7201a8"
            ],
            [
             0.3333333333333333,
             "#9c179e"
            ],
            [
             0.4444444444444444,
             "#bd3786"
            ],
            [
             0.5555555555555556,
             "#d8576b"
            ],
            [
             0.6666666666666666,
             "#ed7953"
            ],
            [
             0.7777777777777778,
             "#fb9f3a"
            ],
            [
             0.8888888888888888,
             "#fdca26"
            ],
            [
             1.0,
             "#f0f921"
            ]
           ],
           "sequentialminus": [
            [
             0.0,
             "#0d0887"
            ],
            [
             0.1111111111111111,
             "#46039f"
            ],
            [
             0.2222222222222222,
             "#7201a8"
            ],
            [
             0.3333333333333333,
             "#9c179e"
            ],
            [
             0.4444444444444444,
             "#bd3786"
            ],
            [
             0.5555555555555556,
             "#d8576b"
            ],
            [
             0.6666666666666666,
             "#ed7953"
            ],
            [
             0.7777777777777778,
             "#fb9f3a"
            ],
            [
             0.8888888888888888,
             "#fdca26"
            ],
            [
             1.0,
             "#f0f921"
            ]
           ],
           "diverging": [
            [
             0,
             "#8e0152"
            ],
            [
             0.1,
             "#c51b7d"
            ],
            [
             0.2,
             "#de77ae"
            ],
            [
             0.3,
             "#f1b6da"
            ],
            [
             0.4,
             "#fde0ef"
            ],
            [
             0.5,
             "#f7f7f7"
            ],
            [
             0.6,
             "#e6f5d0"
            ],
            [
             0.7,
             "#b8e186"
            ],
            [
             0.8,
             "#7fbc41"
            ],
            [
             0.9,
             "#4d9221"
            ],
            [
             1,
             "#276419"
            ]
           ]
          },
          "xaxis": {
           "gridcolor": "#283442",
           "linecolor": "#506784",
           "ticks": "",
           "title": {
            "standoff": 15
           },
           "zerolinecolor": "#283442",
           "automargin": true,
           "zerolinewidth": 2
          },
          "yaxis": {
           "gridcolor": "#283442",
           "linecolor": "#506784",
           "ticks": "",
           "title": {
            "standoff": 15
           },
           "zerolinecolor": "#283442",
           "automargin": true,
           "zerolinewidth": 2
          },
          "scene": {
           "xaxis": {
            "backgroundcolor": "rgb(17,17,17)",
            "gridcolor": "#506784",
            "linecolor": "#506784",
            "showbackground": true,
            "ticks": "",
            "zerolinecolor": "#C8D4E3",
            "gridwidth": 2
           },
           "yaxis": {
            "backgroundcolor": "rgb(17,17,17)",
            "gridcolor": "#506784",
            "linecolor": "#506784",
            "showbackground": true,
            "ticks": "",
            "zerolinecolor": "#C8D4E3",
            "gridwidth": 2
           },
           "zaxis": {
            "backgroundcolor": "rgb(17,17,17)",
            "gridcolor": "#506784",
            "linecolor": "#506784",
            "showbackground": true,
            "ticks": "",
            "zerolinecolor": "#C8D4E3",
            "gridwidth": 2
           }
          },
          "shapedefaults": {
           "line": {
            "color": "#f2f5fa"
           }
          },
          "annotationdefaults": {
           "arrowcolor": "#f2f5fa",
           "arrowhead": 0,
           "arrowwidth": 1
          },
          "geo": {
           "bgcolor": "rgb(17,17,17)",
           "landcolor": "rgb(17,17,17)",
           "subunitcolor": "#506784",
           "showland": true,
           "showlakes": true,
           "lakecolor": "rgb(17,17,17)"
          },
          "title": {
           "x": 0.05
          },
          "updatemenudefaults": {
           "bgcolor": "#506784",
           "borderwidth": 0
          },
          "sliderdefaults": {
           "bgcolor": "#C8D4E3",
           "borderwidth": 1,
           "bordercolor": "rgb(17,17,17)",
           "tickwidth": 0
          },
          "mapbox": {
           "style": "dark"
          }
         }
        },
        "xaxis": {
         "anchor": "y",
         "domain": [
          0.0,
          1.0
         ],
         "title": {
          "text": "initial_error"
         }
        },
        "yaxis": {
         "anchor": "x",
         "domain": [
          0.0,
          1.0
         ],
         "title": {
          "text": "final_error"
         }
        },
        "legend": {
         "title": {
          "text": "converged"
         },
         "tracegroupgap": 0
        },
        "margin": {
         "t": 60
        }
       },
       "config": {
        "plotlyServerURL": "https://plot.ly"
       }
      },
      "text/html": [
       "<div>                            <div id=\"b73bc498-034a-44dc-ab69-f05d6f9f0a38\" class=\"plotly-graph-div\" style=\"height:525px; width:100%;\"></div>            <script type=\"text/javascript\">                require([\"plotly\"], function(Plotly) {                    window.PLOTLYENV=window.PLOTLYENV || {};                                    if (document.getElementById(\"b73bc498-034a-44dc-ab69-f05d6f9f0a38\")) {                    Plotly.newPlot(                        \"b73bc498-034a-44dc-ab69-f05d6f9f0a38\",                        [{\"customdata\":[[0],[1],[2],[3],[4],[5],[6],[7],[8],[9],[10],[11],[12],[13],[14],[15],[16],[17],[18],[19],[20],[21],[22],[23],[24],[25],[26],[27],[28],[29],[30],[31],[32],[33],[34],[35],[36],[37],[38],[39],[40],[41],[42],[43],[44],[45],[46],[47],[48],[49],[50],[51],[52],[53],[54],[55],[56],[57],[58],[59],[60],[61],[62],[63],[64],[65],[66],[67],[68],[69],[70],[71],[72],[73],[74],[75],[76],[77],[78],[79],[80],[81],[82],[83],[84],[85],[86],[87],[88],[89],[90],[91],[92],[93],[94],[95],[96],[97],[98],[99]],\"hovertemplate\":\"converged=True\\u003cbr\\u003einitial_error=%{x}\\u003cbr\\u003efinal_error=%{y}\\u003cbr\\u003enum=%{customdata[0]}\\u003cextra\\u003e\\u003c\\u002fextra\\u003e\",\"legendgroup\":\"True\",\"marker\":{\"color\":\"#636efa\",\"symbol\":\"circle\"},\"mode\":\"markers\",\"name\":\"True\",\"orientation\":\"v\",\"showlegend\":true,\"x\":[0.39818922166202725,0.4065870444509428,0.40586041040787185,0.39801540629823107,0.41086106931316224,0.36759253597045816,0.36930600647570866,0.40517658775240334,0.42681056423058344,0.378553476049443,0.41228252337029514,0.4155686522104286,0.40542835667648003,0.37931886267552395,0.3940688105117267,0.3744217835537895,0.39663459473545437,0.3955626417100901,0.36507103645750144,0.38539187052350965,0.3834037761354013,0.39679390145673343,0.3589714301192279,0.42745904146248925,0.36331958626049354,0.3960195379412102,0.40598952414550177,0.41288071522377345,0.3610841278677901,0.43055003226615235,0.38971990626726855,0.38569205893147074,0.3963172514186607,0.38932609023822246,0.3752625142103204,0.41912864268101396,0.41582120312607634,0.4005392754054586,0.38253053954396954,0.3899201523054057,0.3430108554299786,0.4112231122401917,0.3955490458155619,0.3732619091153532,0.39212445716402095,0.40050658381289317,0.3702517787984757,0.35544131297939563,0.40941308979368507,0.37177382368952605,0.4126914183602187,0.37401868341586925,0.3979440721816824,0.38431668786234485,0.38809261866295747,0.37210365785901056,0.4130278102663862,0.4034760342517178,0.4320482771370604,0.38979999147491234,0.4057459424858174,0.39373741376706833,0.36462419316998007,0.40804488936312977,0.3938379849614097,0.4236120478508335,0.4423729676424587,0.41601005889169207,0.37776779970996527,0.36233568369528535,0.36985210510279093,0.3571132935946604,0.4041468192060983,0.3858333815638673,0.40105662207342724,0.384829834334391,0.42145773528520697,0.3652613288063046,0.40043547892357323,0.38158130340573554,0.40916813056289575,0.3631196976969645,0.3836526372024024,0.3820565858623437,0.3947588507370858,0.3540408860829639,0.35066562977765037,0.3661598207617094,0.386951007546693,0.38744042244915183,0.3799786809986244,0.3987725758405609,0.357820739001876,0.4498668978284634,0.401957645815094,0.3954419798780636,0.41301491186562667,0.41493665394245444,0.4169043369387716,0.4017568061009624],\"xaxis\":\"x\",\"y\":[0.30476527213828963,0.30700880936460967,0.30434357082319496,0.3050513707243574,0.30474265319393146,0.30262932817767685,0.30596277448311043,0.30555622302700314,0.30689172779034596,0.30393310892515857,0.30520787406193484,0.30259424299409576,0.3042133834851052,0.30731279315784976,0.3050122015801393,0.3067551171462901,0.3054525800660855,0.30444960143002153,0.3042133834851052,0.3047623483729912,0.3042133834851052,0.30526206946409284,0.30519617900074114,0.30575365796619397,0.30334083524162075,0.30653876480179476,0.30699595242514915,0.3120445894524614,0.30474265319393146,0.3042133834851052,0.30469384136830535,0.30667107560005225,0.304487610378901,0.3034158468677977,0.3053824033635177,0.30664118822144615,0.30476527213828963,0.30393310892515857,0.303383685449515,0.30579776757767296,0.30444960143002153,0.30541073529795304,0.30262932817767685,0.3042133834851052,0.30434357082319496,0.30792758120469893,0.30844754179663986,0.30648925333818366,0.3059627744831104,0.30259424299409576,0.30689172779034596,0.30584289833962286,0.30476527213828963,0.30434357082319496,0.3042163072504036,0.3043640392920858,0.30456318208030064,0.30334083524162075,0.30545358550584734,0.3042163072504036,0.30259424299409576,0.30474265319393146,0.30445785180107343,0.3061058317545378,0.30448468661360256,0.30551892780254675,0.30547280873499205,0.30737131815552055,0.3051786342971487,0.30436111552678735,0.30476527213828963,0.30615961972524797,0.3068549037359446,0.3042163072504036,0.3042133834851052,0.3096244937301802,0.3045851153738648,0.3043640392920858,0.3049638683853836,0.30432210947954574,0.3042163072504036,0.30581355279763134,0.3045851153738648,0.30259424299409576,0.3066311174743071,0.30436111552678735,0.3045208038223214,0.30519617900074114,0.30504844695905897,0.3027029689885363,0.30888616770586724,0.30259424299409576,0.30432210947954574,0.3051815580624471,0.3069557732239612,0.30880092034744033,0.3079056499348154,0.30334083524162075,0.306831546075334,0.3047623483729912],\"yaxis\":\"y\",\"type\":\"scatter\"}],                        {\"template\":{\"data\":{\"histogram2dcontour\":[{\"type\":\"histogram2dcontour\",\"colorbar\":{\"outlinewidth\":0,\"ticks\":\"\"},\"colorscale\":[[0.0,\"#0d0887\"],[0.1111111111111111,\"#46039f\"],[0.2222222222222222,\"#7201a8\"],[0.3333333333333333,\"#9c179e\"],[0.4444444444444444,\"#bd3786\"],[0.5555555555555556,\"#d8576b\"],[0.6666666666666666,\"#ed7953\"],[0.7777777777777778,\"#fb9f3a\"],[0.8888888888888888,\"#fdca26\"],[1.0,\"#f0f921\"]]}],\"choropleth\":[{\"type\":\"choropleth\",\"colorbar\":{\"outlinewidth\":0,\"ticks\":\"\"}}],\"histogram2d\":[{\"type\":\"histogram2d\",\"colorbar\":{\"outlinewidth\":0,\"ticks\":\"\"},\"colorscale\":[[0.0,\"#0d0887\"],[0.1111111111111111,\"#46039f\"],[0.2222222222222222,\"#7201a8\"],[0.3333333333333333,\"#9c179e\"],[0.4444444444444444,\"#bd3786\"],[0.5555555555555556,\"#d8576b\"],[0.6666666666666666,\"#ed7953\"],[0.7777777777777778,\"#fb9f3a\"],[0.8888888888888888,\"#fdca26\"],[1.0,\"#f0f921\"]]}],\"heatmap\":[{\"type\":\"heatmap\",\"colorbar\":{\"outlinewidth\":0,\"ticks\":\"\"},\"colorscale\":[[0.0,\"#0d0887\"],[0.1111111111111111,\"#46039f\"],[0.2222222222222222,\"#7201a8\"],[0.3333333333333333,\"#9c179e\"],[0.4444444444444444,\"#bd3786\"],[0.5555555555555556,\"#d8576b\"],[0.6666666666666666,\"#ed7953\"],[0.7777777777777778,\"#fb9f3a\"],[0.8888888888888888,\"#fdca26\"],[1.0,\"#f0f921\"]]}],\"heatmapgl\":[{\"type\":\"heatmapgl\",\"colorbar\":{\"outlinewidth\":0,\"ticks\":\"\"},\"colorscale\":[[0.0,\"#0d0887\"],[0.1111111111111111,\"#46039f\"],[0.2222222222222222,\"#7201a8\"],[0.3333333333333333,\"#9c179e\"],[0.4444444444444444,\"#bd3786\"],[0.5555555555555556,\"#d8576b\"],[0.6666666666666666,\"#ed7953\"],[0.7777777777777778,\"#fb9f3a\"],[0.8888888888888888,\"#fdca26\"],[1.0,\"#f0f921\"]]}],\"contourcarpet\":[{\"type\":\"contourcarpet\",\"colorbar\":{\"outlinewidth\":0,\"ticks\":\"\"}}],\"contour\":[{\"type\":\"contour\",\"colorbar\":{\"outlinewidth\":0,\"ticks\":\"\"},\"colorscale\":[[0.0,\"#0d0887\"],[0.1111111111111111,\"#46039f\"],[0.2222222222222222,\"#7201a8\"],[0.3333333333333333,\"#9c179e\"],[0.4444444444444444,\"#bd3786\"],[0.5555555555555556,\"#d8576b\"],[0.6666666666666666,\"#ed7953\"],[0.7777777777777778,\"#fb9f3a\"],[0.8888888888888888,\"#fdca26\"],[1.0,\"#f0f921\"]]}],\"surface\":[{\"type\":\"surface\",\"colorbar\":{\"outlinewidth\":0,\"ticks\":\"\"},\"colorscale\":[[0.0,\"#0d0887\"],[0.1111111111111111,\"#46039f\"],[0.2222222222222222,\"#7201a8\"],[0.3333333333333333,\"#9c179e\"],[0.4444444444444444,\"#bd3786\"],[0.5555555555555556,\"#d8576b\"],[0.6666666666666666,\"#ed7953\"],[0.7777777777777778,\"#fb9f3a\"],[0.8888888888888888,\"#fdca26\"],[1.0,\"#f0f921\"]]}],\"mesh3d\":[{\"type\":\"mesh3d\",\"colorbar\":{\"outlinewidth\":0,\"ticks\":\"\"}}],\"scatter\":[{\"marker\":{\"line\":{\"color\":\"#283442\"}},\"type\":\"scatter\"}],\"parcoords\":[{\"type\":\"parcoords\",\"line\":{\"colorbar\":{\"outlinewidth\":0,\"ticks\":\"\"}}}],\"scatterpolargl\":[{\"type\":\"scatterpolargl\",\"marker\":{\"colorbar\":{\"outlinewidth\":0,\"ticks\":\"\"}}}],\"bar\":[{\"error_x\":{\"color\":\"#f2f5fa\"},\"error_y\":{\"color\":\"#f2f5fa\"},\"marker\":{\"line\":{\"color\":\"rgb(17,17,17)\",\"width\":0.5},\"pattern\":{\"fillmode\":\"overlay\",\"size\":10,\"solidity\":0.2}},\"type\":\"bar\"}],\"scattergeo\":[{\"type\":\"scattergeo\",\"marker\":{\"colorbar\":{\"outlinewidth\":0,\"ticks\":\"\"}}}],\"scatterpolar\":[{\"type\":\"scatterpolar\",\"marker\":{\"colorbar\":{\"outlinewidth\":0,\"ticks\":\"\"}}}],\"histogram\":[{\"marker\":{\"pattern\":{\"fillmode\":\"overlay\",\"size\":10,\"solidity\":0.2}},\"type\":\"histogram\"}],\"scattergl\":[{\"marker\":{\"line\":{\"color\":\"#283442\"}},\"type\":\"scattergl\"}],\"scatter3d\":[{\"type\":\"scatter3d\",\"line\":{\"colorbar\":{\"outlinewidth\":0,\"ticks\":\"\"}},\"marker\":{\"colorbar\":{\"outlinewidth\":0,\"ticks\":\"\"}}}],\"scattermapbox\":[{\"type\":\"scattermapbox\",\"marker\":{\"colorbar\":{\"outlinewidth\":0,\"ticks\":\"\"}}}],\"scatterternary\":[{\"type\":\"scatterternary\",\"marker\":{\"colorbar\":{\"outlinewidth\":0,\"ticks\":\"\"}}}],\"scattercarpet\":[{\"type\":\"scattercarpet\",\"marker\":{\"colorbar\":{\"outlinewidth\":0,\"ticks\":\"\"}}}],\"carpet\":[{\"aaxis\":{\"endlinecolor\":\"#A2B1C6\",\"gridcolor\":\"#506784\",\"linecolor\":\"#506784\",\"minorgridcolor\":\"#506784\",\"startlinecolor\":\"#A2B1C6\"},\"baxis\":{\"endlinecolor\":\"#A2B1C6\",\"gridcolor\":\"#506784\",\"linecolor\":\"#506784\",\"minorgridcolor\":\"#506784\",\"startlinecolor\":\"#A2B1C6\"},\"type\":\"carpet\"}],\"table\":[{\"cells\":{\"fill\":{\"color\":\"#506784\"},\"line\":{\"color\":\"rgb(17,17,17)\"}},\"header\":{\"fill\":{\"color\":\"#2a3f5f\"},\"line\":{\"color\":\"rgb(17,17,17)\"}},\"type\":\"table\"}],\"barpolar\":[{\"marker\":{\"line\":{\"color\":\"rgb(17,17,17)\",\"width\":0.5},\"pattern\":{\"fillmode\":\"overlay\",\"size\":10,\"solidity\":0.2}},\"type\":\"barpolar\"}],\"pie\":[{\"automargin\":true,\"type\":\"pie\"}]},\"layout\":{\"autotypenumbers\":\"strict\",\"colorway\":[\"#636efa\",\"#EF553B\",\"#00cc96\",\"#ab63fa\",\"#FFA15A\",\"#19d3f3\",\"#FF6692\",\"#B6E880\",\"#FF97FF\",\"#FECB52\"],\"font\":{\"color\":\"#f2f5fa\"},\"hovermode\":\"closest\",\"hoverlabel\":{\"align\":\"left\"},\"paper_bgcolor\":\"rgb(17,17,17)\",\"plot_bgcolor\":\"rgb(17,17,17)\",\"polar\":{\"bgcolor\":\"rgb(17,17,17)\",\"angularaxis\":{\"gridcolor\":\"#506784\",\"linecolor\":\"#506784\",\"ticks\":\"\"},\"radialaxis\":{\"gridcolor\":\"#506784\",\"linecolor\":\"#506784\",\"ticks\":\"\"}},\"ternary\":{\"bgcolor\":\"rgb(17,17,17)\",\"aaxis\":{\"gridcolor\":\"#506784\",\"linecolor\":\"#506784\",\"ticks\":\"\"},\"baxis\":{\"gridcolor\":\"#506784\",\"linecolor\":\"#506784\",\"ticks\":\"\"},\"caxis\":{\"gridcolor\":\"#506784\",\"linecolor\":\"#506784\",\"ticks\":\"\"}},\"coloraxis\":{\"colorbar\":{\"outlinewidth\":0,\"ticks\":\"\"}},\"colorscale\":{\"sequential\":[[0.0,\"#0d0887\"],[0.1111111111111111,\"#46039f\"],[0.2222222222222222,\"#7201a8\"],[0.3333333333333333,\"#9c179e\"],[0.4444444444444444,\"#bd3786\"],[0.5555555555555556,\"#d8576b\"],[0.6666666666666666,\"#ed7953\"],[0.7777777777777778,\"#fb9f3a\"],[0.8888888888888888,\"#fdca26\"],[1.0,\"#f0f921\"]],\"sequentialminus\":[[0.0,\"#0d0887\"],[0.1111111111111111,\"#46039f\"],[0.2222222222222222,\"#7201a8\"],[0.3333333333333333,\"#9c179e\"],[0.4444444444444444,\"#bd3786\"],[0.5555555555555556,\"#d8576b\"],[0.6666666666666666,\"#ed7953\"],[0.7777777777777778,\"#fb9f3a\"],[0.8888888888888888,\"#fdca26\"],[1.0,\"#f0f921\"]],\"diverging\":[[0,\"#8e0152\"],[0.1,\"#c51b7d\"],[0.2,\"#de77ae\"],[0.3,\"#f1b6da\"],[0.4,\"#fde0ef\"],[0.5,\"#f7f7f7\"],[0.6,\"#e6f5d0\"],[0.7,\"#b8e186\"],[0.8,\"#7fbc41\"],[0.9,\"#4d9221\"],[1,\"#276419\"]]},\"xaxis\":{\"gridcolor\":\"#283442\",\"linecolor\":\"#506784\",\"ticks\":\"\",\"title\":{\"standoff\":15},\"zerolinecolor\":\"#283442\",\"automargin\":true,\"zerolinewidth\":2},\"yaxis\":{\"gridcolor\":\"#283442\",\"linecolor\":\"#506784\",\"ticks\":\"\",\"title\":{\"standoff\":15},\"zerolinecolor\":\"#283442\",\"automargin\":true,\"zerolinewidth\":2},\"scene\":{\"xaxis\":{\"backgroundcolor\":\"rgb(17,17,17)\",\"gridcolor\":\"#506784\",\"linecolor\":\"#506784\",\"showbackground\":true,\"ticks\":\"\",\"zerolinecolor\":\"#C8D4E3\",\"gridwidth\":2},\"yaxis\":{\"backgroundcolor\":\"rgb(17,17,17)\",\"gridcolor\":\"#506784\",\"linecolor\":\"#506784\",\"showbackground\":true,\"ticks\":\"\",\"zerolinecolor\":\"#C8D4E3\",\"gridwidth\":2},\"zaxis\":{\"backgroundcolor\":\"rgb(17,17,17)\",\"gridcolor\":\"#506784\",\"linecolor\":\"#506784\",\"showbackground\":true,\"ticks\":\"\",\"zerolinecolor\":\"#C8D4E3\",\"gridwidth\":2}},\"shapedefaults\":{\"line\":{\"color\":\"#f2f5fa\"}},\"annotationdefaults\":{\"arrowcolor\":\"#f2f5fa\",\"arrowhead\":0,\"arrowwidth\":1},\"geo\":{\"bgcolor\":\"rgb(17,17,17)\",\"landcolor\":\"rgb(17,17,17)\",\"subunitcolor\":\"#506784\",\"showland\":true,\"showlakes\":true,\"lakecolor\":\"rgb(17,17,17)\"},\"title\":{\"x\":0.05},\"updatemenudefaults\":{\"bgcolor\":\"#506784\",\"borderwidth\":0},\"sliderdefaults\":{\"bgcolor\":\"#C8D4E3\",\"borderwidth\":1,\"bordercolor\":\"rgb(17,17,17)\",\"tickwidth\":0},\"mapbox\":{\"style\":\"dark\"}}},\"xaxis\":{\"anchor\":\"y\",\"domain\":[0.0,1.0],\"title\":{\"text\":\"initial_error\"}},\"yaxis\":{\"anchor\":\"x\",\"domain\":[0.0,1.0],\"title\":{\"text\":\"final_error\"}},\"legend\":{\"title\":{\"text\":\"converged\"},\"tracegroupgap\":0},\"margin\":{\"t\":60}},                        {\"responsive\": true}                    ).then(function(){\n",
       "                            \n",
       "var gd = document.getElementById('b73bc498-034a-44dc-ab69-f05d6f9f0a38');\n",
       "var x = new MutationObserver(function (mutations, observer) {{\n",
       "        var display = window.getComputedStyle(gd).display;\n",
       "        if (!display || display === 'none') {{\n",
       "            console.log([gd, 'removed!']);\n",
       "            Plotly.purge(gd);\n",
       "            observer.disconnect();\n",
       "        }}\n",
       "}});\n",
       "\n",
       "// Listen for the removal of the full notebook cells\n",
       "var notebookContainer = gd.closest('#notebook-container');\n",
       "if (notebookContainer) {{\n",
       "    x.observe(notebookContainer, {childList: true});\n",
       "}}\n",
       "\n",
       "// Listen for the clearing of the current output cell\n",
       "var outputEl = gd.closest('.output');\n",
       "if (outputEl) {{\n",
       "    x.observe(outputEl, {childList: true});\n",
       "}}\n",
       "\n",
       "                        })                };                });            </script>        </div>"
      ]
     },
     "metadata": {},
     "output_type": "display_data"
    }
   ],
   "execution_count": 200
  },
  {
   "metadata": {
    "ExecuteTime": {
     "end_time": "2024-07-29T17:08:01.113554Z",
     "start_time": "2024-07-29T17:08:01.069431Z"
    }
   },
   "cell_type": "code",
   "source": "px.histogram(meta_data, x='iterations', color='converged')",
   "id": "f5fa71f0d785cd77",
   "outputs": [
    {
     "data": {
      "application/vnd.plotly.v1+json": {
       "data": [
        {
         "alignmentgroup": "True",
         "bingroup": "x",
         "hovertemplate": "converged=True<br>iterations=%{x}<br>count=%{y}<extra></extra>",
         "legendgroup": "True",
         "marker": {
          "color": "#636efa",
          "pattern": {
           "shape": ""
          }
         },
         "name": "True",
         "offsetgroup": "True",
         "orientation": "v",
         "showlegend": true,
         "x": [
          807,
          336,
          1271,
          788,
          1023,
          453,
          934,
          1381,
          1062,
          752,
          481,
          606,
          826,
          515,
          648,
          681,
          1706,
          564,
          588,
          1750,
          843,
          554,
          344,
          806,
          733,
          666,
          405,
          680,
          646,
          1832,
          1006,
          862,
          848,
          974,
          480,
          499,
          479,
          472,
          803,
          847,
          1532,
          707,
          889,
          793,
          1150,
          486,
          997,
          506,
          661,
          565,
          504,
          692,
          585,
          477,
          1195,
          547,
          811,
          592,
          979,
          739,
          1043,
          589,
          529,
          572,
          817,
          820,
          861,
          1260,
          993,
          1005,
          480,
          597,
          816,
          749,
          418,
          710,
          765,
          607,
          754,
          1735,
          585,
          683,
          677,
          1036,
          856,
          626,
          991,
          775,
          492,
          1217,
          1376,
          676,
          648,
          673,
          544,
          797,
          783,
          1127,
          878,
          465
         ],
         "xaxis": "x",
         "yaxis": "y",
         "type": "histogram"
        }
       ],
       "layout": {
        "template": {
         "data": {
          "histogram2dcontour": [
           {
            "type": "histogram2dcontour",
            "colorbar": {
             "outlinewidth": 0,
             "ticks": ""
            },
            "colorscale": [
             [
              0.0,
              "#0d0887"
             ],
             [
              0.1111111111111111,
              "#46039f"
             ],
             [
              0.2222222222222222,
              "#7201a8"
             ],
             [
              0.3333333333333333,
              "#9c179e"
             ],
             [
              0.4444444444444444,
              "#bd3786"
             ],
             [
              0.5555555555555556,
              "#d8576b"
             ],
             [
              0.6666666666666666,
              "#ed7953"
             ],
             [
              0.7777777777777778,
              "#fb9f3a"
             ],
             [
              0.8888888888888888,
              "#fdca26"
             ],
             [
              1.0,
              "#f0f921"
             ]
            ]
           }
          ],
          "choropleth": [
           {
            "type": "choropleth",
            "colorbar": {
             "outlinewidth": 0,
             "ticks": ""
            }
           }
          ],
          "histogram2d": [
           {
            "type": "histogram2d",
            "colorbar": {
             "outlinewidth": 0,
             "ticks": ""
            },
            "colorscale": [
             [
              0.0,
              "#0d0887"
             ],
             [
              0.1111111111111111,
              "#46039f"
             ],
             [
              0.2222222222222222,
              "#7201a8"
             ],
             [
              0.3333333333333333,
              "#9c179e"
             ],
             [
              0.4444444444444444,
              "#bd3786"
             ],
             [
              0.5555555555555556,
              "#d8576b"
             ],
             [
              0.6666666666666666,
              "#ed7953"
             ],
             [
              0.7777777777777778,
              "#fb9f3a"
             ],
             [
              0.8888888888888888,
              "#fdca26"
             ],
             [
              1.0,
              "#f0f921"
             ]
            ]
           }
          ],
          "heatmap": [
           {
            "type": "heatmap",
            "colorbar": {
             "outlinewidth": 0,
             "ticks": ""
            },
            "colorscale": [
             [
              0.0,
              "#0d0887"
             ],
             [
              0.1111111111111111,
              "#46039f"
             ],
             [
              0.2222222222222222,
              "#7201a8"
             ],
             [
              0.3333333333333333,
              "#9c179e"
             ],
             [
              0.4444444444444444,
              "#bd3786"
             ],
             [
              0.5555555555555556,
              "#d8576b"
             ],
             [
              0.6666666666666666,
              "#ed7953"
             ],
             [
              0.7777777777777778,
              "#fb9f3a"
             ],
             [
              0.8888888888888888,
              "#fdca26"
             ],
             [
              1.0,
              "#f0f921"
             ]
            ]
           }
          ],
          "heatmapgl": [
           {
            "type": "heatmapgl",
            "colorbar": {
             "outlinewidth": 0,
             "ticks": ""
            },
            "colorscale": [
             [
              0.0,
              "#0d0887"
             ],
             [
              0.1111111111111111,
              "#46039f"
             ],
             [
              0.2222222222222222,
              "#7201a8"
             ],
             [
              0.3333333333333333,
              "#9c179e"
             ],
             [
              0.4444444444444444,
              "#bd3786"
             ],
             [
              0.5555555555555556,
              "#d8576b"
             ],
             [
              0.6666666666666666,
              "#ed7953"
             ],
             [
              0.7777777777777778,
              "#fb9f3a"
             ],
             [
              0.8888888888888888,
              "#fdca26"
             ],
             [
              1.0,
              "#f0f921"
             ]
            ]
           }
          ],
          "contourcarpet": [
           {
            "type": "contourcarpet",
            "colorbar": {
             "outlinewidth": 0,
             "ticks": ""
            }
           }
          ],
          "contour": [
           {
            "type": "contour",
            "colorbar": {
             "outlinewidth": 0,
             "ticks": ""
            },
            "colorscale": [
             [
              0.0,
              "#0d0887"
             ],
             [
              0.1111111111111111,
              "#46039f"
             ],
             [
              0.2222222222222222,
              "#7201a8"
             ],
             [
              0.3333333333333333,
              "#9c179e"
             ],
             [
              0.4444444444444444,
              "#bd3786"
             ],
             [
              0.5555555555555556,
              "#d8576b"
             ],
             [
              0.6666666666666666,
              "#ed7953"
             ],
             [
              0.7777777777777778,
              "#fb9f3a"
             ],
             [
              0.8888888888888888,
              "#fdca26"
             ],
             [
              1.0,
              "#f0f921"
             ]
            ]
           }
          ],
          "surface": [
           {
            "type": "surface",
            "colorbar": {
             "outlinewidth": 0,
             "ticks": ""
            },
            "colorscale": [
             [
              0.0,
              "#0d0887"
             ],
             [
              0.1111111111111111,
              "#46039f"
             ],
             [
              0.2222222222222222,
              "#7201a8"
             ],
             [
              0.3333333333333333,
              "#9c179e"
             ],
             [
              0.4444444444444444,
              "#bd3786"
             ],
             [
              0.5555555555555556,
              "#d8576b"
             ],
             [
              0.6666666666666666,
              "#ed7953"
             ],
             [
              0.7777777777777778,
              "#fb9f3a"
             ],
             [
              0.8888888888888888,
              "#fdca26"
             ],
             [
              1.0,
              "#f0f921"
             ]
            ]
           }
          ],
          "mesh3d": [
           {
            "type": "mesh3d",
            "colorbar": {
             "outlinewidth": 0,
             "ticks": ""
            }
           }
          ],
          "scatter": [
           {
            "marker": {
             "line": {
              "color": "#283442"
             }
            },
            "type": "scatter"
           }
          ],
          "parcoords": [
           {
            "type": "parcoords",
            "line": {
             "colorbar": {
              "outlinewidth": 0,
              "ticks": ""
             }
            }
           }
          ],
          "scatterpolargl": [
           {
            "type": "scatterpolargl",
            "marker": {
             "colorbar": {
              "outlinewidth": 0,
              "ticks": ""
             }
            }
           }
          ],
          "bar": [
           {
            "error_x": {
             "color": "#f2f5fa"
            },
            "error_y": {
             "color": "#f2f5fa"
            },
            "marker": {
             "line": {
              "color": "rgb(17,17,17)",
              "width": 0.5
             },
             "pattern": {
              "fillmode": "overlay",
              "size": 10,
              "solidity": 0.2
             }
            },
            "type": "bar"
           }
          ],
          "scattergeo": [
           {
            "type": "scattergeo",
            "marker": {
             "colorbar": {
              "outlinewidth": 0,
              "ticks": ""
             }
            }
           }
          ],
          "scatterpolar": [
           {
            "type": "scatterpolar",
            "marker": {
             "colorbar": {
              "outlinewidth": 0,
              "ticks": ""
             }
            }
           }
          ],
          "histogram": [
           {
            "marker": {
             "pattern": {
              "fillmode": "overlay",
              "size": 10,
              "solidity": 0.2
             }
            },
            "type": "histogram"
           }
          ],
          "scattergl": [
           {
            "marker": {
             "line": {
              "color": "#283442"
             }
            },
            "type": "scattergl"
           }
          ],
          "scatter3d": [
           {
            "type": "scatter3d",
            "line": {
             "colorbar": {
              "outlinewidth": 0,
              "ticks": ""
             }
            },
            "marker": {
             "colorbar": {
              "outlinewidth": 0,
              "ticks": ""
             }
            }
           }
          ],
          "scattermapbox": [
           {
            "type": "scattermapbox",
            "marker": {
             "colorbar": {
              "outlinewidth": 0,
              "ticks": ""
             }
            }
           }
          ],
          "scatterternary": [
           {
            "type": "scatterternary",
            "marker": {
             "colorbar": {
              "outlinewidth": 0,
              "ticks": ""
             }
            }
           }
          ],
          "scattercarpet": [
           {
            "type": "scattercarpet",
            "marker": {
             "colorbar": {
              "outlinewidth": 0,
              "ticks": ""
             }
            }
           }
          ],
          "carpet": [
           {
            "aaxis": {
             "endlinecolor": "#A2B1C6",
             "gridcolor": "#506784",
             "linecolor": "#506784",
             "minorgridcolor": "#506784",
             "startlinecolor": "#A2B1C6"
            },
            "baxis": {
             "endlinecolor": "#A2B1C6",
             "gridcolor": "#506784",
             "linecolor": "#506784",
             "minorgridcolor": "#506784",
             "startlinecolor": "#A2B1C6"
            },
            "type": "carpet"
           }
          ],
          "table": [
           {
            "cells": {
             "fill": {
              "color": "#506784"
             },
             "line": {
              "color": "rgb(17,17,17)"
             }
            },
            "header": {
             "fill": {
              "color": "#2a3f5f"
             },
             "line": {
              "color": "rgb(17,17,17)"
             }
            },
            "type": "table"
           }
          ],
          "barpolar": [
           {
            "marker": {
             "line": {
              "color": "rgb(17,17,17)",
              "width": 0.5
             },
             "pattern": {
              "fillmode": "overlay",
              "size": 10,
              "solidity": 0.2
             }
            },
            "type": "barpolar"
           }
          ],
          "pie": [
           {
            "automargin": true,
            "type": "pie"
           }
          ]
         },
         "layout": {
          "autotypenumbers": "strict",
          "colorway": [
           "#636efa",
           "#EF553B",
           "#00cc96",
           "#ab63fa",
           "#FFA15A",
           "#19d3f3",
           "#FF6692",
           "#B6E880",
           "#FF97FF",
           "#FECB52"
          ],
          "font": {
           "color": "#f2f5fa"
          },
          "hovermode": "closest",
          "hoverlabel": {
           "align": "left"
          },
          "paper_bgcolor": "rgb(17,17,17)",
          "plot_bgcolor": "rgb(17,17,17)",
          "polar": {
           "bgcolor": "rgb(17,17,17)",
           "angularaxis": {
            "gridcolor": "#506784",
            "linecolor": "#506784",
            "ticks": ""
           },
           "radialaxis": {
            "gridcolor": "#506784",
            "linecolor": "#506784",
            "ticks": ""
           }
          },
          "ternary": {
           "bgcolor": "rgb(17,17,17)",
           "aaxis": {
            "gridcolor": "#506784",
            "linecolor": "#506784",
            "ticks": ""
           },
           "baxis": {
            "gridcolor": "#506784",
            "linecolor": "#506784",
            "ticks": ""
           },
           "caxis": {
            "gridcolor": "#506784",
            "linecolor": "#506784",
            "ticks": ""
           }
          },
          "coloraxis": {
           "colorbar": {
            "outlinewidth": 0,
            "ticks": ""
           }
          },
          "colorscale": {
           "sequential": [
            [
             0.0,
             "#0d0887"
            ],
            [
             0.1111111111111111,
             "#46039f"
            ],
            [
             0.2222222222222222,
             "#7201a8"
            ],
            [
             0.3333333333333333,
             "#9c179e"
            ],
            [
             0.4444444444444444,
             "#bd3786"
            ],
            [
             0.5555555555555556,
             "#d8576b"
            ],
            [
             0.6666666666666666,
             "#ed7953"
            ],
            [
             0.7777777777777778,
             "#fb9f3a"
            ],
            [
             0.8888888888888888,
             "#fdca26"
            ],
            [
             1.0,
             "#f0f921"
            ]
           ],
           "sequentialminus": [
            [
             0.0,
             "#0d0887"
            ],
            [
             0.1111111111111111,
             "#46039f"
            ],
            [
             0.2222222222222222,
             "#7201a8"
            ],
            [
             0.3333333333333333,
             "#9c179e"
            ],
            [
             0.4444444444444444,
             "#bd3786"
            ],
            [
             0.5555555555555556,
             "#d8576b"
            ],
            [
             0.6666666666666666,
             "#ed7953"
            ],
            [
             0.7777777777777778,
             "#fb9f3a"
            ],
            [
             0.8888888888888888,
             "#fdca26"
            ],
            [
             1.0,
             "#f0f921"
            ]
           ],
           "diverging": [
            [
             0,
             "#8e0152"
            ],
            [
             0.1,
             "#c51b7d"
            ],
            [
             0.2,
             "#de77ae"
            ],
            [
             0.3,
             "#f1b6da"
            ],
            [
             0.4,
             "#fde0ef"
            ],
            [
             0.5,
             "#f7f7f7"
            ],
            [
             0.6,
             "#e6f5d0"
            ],
            [
             0.7,
             "#b8e186"
            ],
            [
             0.8,
             "#7fbc41"
            ],
            [
             0.9,
             "#4d9221"
            ],
            [
             1,
             "#276419"
            ]
           ]
          },
          "xaxis": {
           "gridcolor": "#283442",
           "linecolor": "#506784",
           "ticks": "",
           "title": {
            "standoff": 15
           },
           "zerolinecolor": "#283442",
           "automargin": true,
           "zerolinewidth": 2
          },
          "yaxis": {
           "gridcolor": "#283442",
           "linecolor": "#506784",
           "ticks": "",
           "title": {
            "standoff": 15
           },
           "zerolinecolor": "#283442",
           "automargin": true,
           "zerolinewidth": 2
          },
          "scene": {
           "xaxis": {
            "backgroundcolor": "rgb(17,17,17)",
            "gridcolor": "#506784",
            "linecolor": "#506784",
            "showbackground": true,
            "ticks": "",
            "zerolinecolor": "#C8D4E3",
            "gridwidth": 2
           },
           "yaxis": {
            "backgroundcolor": "rgb(17,17,17)",
            "gridcolor": "#506784",
            "linecolor": "#506784",
            "showbackground": true,
            "ticks": "",
            "zerolinecolor": "#C8D4E3",
            "gridwidth": 2
           },
           "zaxis": {
            "backgroundcolor": "rgb(17,17,17)",
            "gridcolor": "#506784",
            "linecolor": "#506784",
            "showbackground": true,
            "ticks": "",
            "zerolinecolor": "#C8D4E3",
            "gridwidth": 2
           }
          },
          "shapedefaults": {
           "line": {
            "color": "#f2f5fa"
           }
          },
          "annotationdefaults": {
           "arrowcolor": "#f2f5fa",
           "arrowhead": 0,
           "arrowwidth": 1
          },
          "geo": {
           "bgcolor": "rgb(17,17,17)",
           "landcolor": "rgb(17,17,17)",
           "subunitcolor": "#506784",
           "showland": true,
           "showlakes": true,
           "lakecolor": "rgb(17,17,17)"
          },
          "title": {
           "x": 0.05
          },
          "updatemenudefaults": {
           "bgcolor": "#506784",
           "borderwidth": 0
          },
          "sliderdefaults": {
           "bgcolor": "#C8D4E3",
           "borderwidth": 1,
           "bordercolor": "rgb(17,17,17)",
           "tickwidth": 0
          },
          "mapbox": {
           "style": "dark"
          }
         }
        },
        "xaxis": {
         "anchor": "y",
         "domain": [
          0.0,
          1.0
         ],
         "title": {
          "text": "iterations"
         }
        },
        "yaxis": {
         "anchor": "x",
         "domain": [
          0.0,
          1.0
         ],
         "title": {
          "text": "count"
         }
        },
        "legend": {
         "title": {
          "text": "converged"
         },
         "tracegroupgap": 0
        },
        "margin": {
         "t": 60
        },
        "barmode": "relative"
       },
       "config": {
        "plotlyServerURL": "https://plot.ly"
       }
      },
      "text/html": [
       "<div>                            <div id=\"71acfc12-bd24-4ca4-9cc2-ec8e56e5d10d\" class=\"plotly-graph-div\" style=\"height:525px; width:100%;\"></div>            <script type=\"text/javascript\">                require([\"plotly\"], function(Plotly) {                    window.PLOTLYENV=window.PLOTLYENV || {};                                    if (document.getElementById(\"71acfc12-bd24-4ca4-9cc2-ec8e56e5d10d\")) {                    Plotly.newPlot(                        \"71acfc12-bd24-4ca4-9cc2-ec8e56e5d10d\",                        [{\"alignmentgroup\":\"True\",\"bingroup\":\"x\",\"hovertemplate\":\"converged=True\\u003cbr\\u003eiterations=%{x}\\u003cbr\\u003ecount=%{y}\\u003cextra\\u003e\\u003c\\u002fextra\\u003e\",\"legendgroup\":\"True\",\"marker\":{\"color\":\"#636efa\",\"pattern\":{\"shape\":\"\"}},\"name\":\"True\",\"offsetgroup\":\"True\",\"orientation\":\"v\",\"showlegend\":true,\"x\":[807,336,1271,788,1023,453,934,1381,1062,752,481,606,826,515,648,681,1706,564,588,1750,843,554,344,806,733,666,405,680,646,1832,1006,862,848,974,480,499,479,472,803,847,1532,707,889,793,1150,486,997,506,661,565,504,692,585,477,1195,547,811,592,979,739,1043,589,529,572,817,820,861,1260,993,1005,480,597,816,749,418,710,765,607,754,1735,585,683,677,1036,856,626,991,775,492,1217,1376,676,648,673,544,797,783,1127,878,465],\"xaxis\":\"x\",\"yaxis\":\"y\",\"type\":\"histogram\"}],                        {\"template\":{\"data\":{\"histogram2dcontour\":[{\"type\":\"histogram2dcontour\",\"colorbar\":{\"outlinewidth\":0,\"ticks\":\"\"},\"colorscale\":[[0.0,\"#0d0887\"],[0.1111111111111111,\"#46039f\"],[0.2222222222222222,\"#7201a8\"],[0.3333333333333333,\"#9c179e\"],[0.4444444444444444,\"#bd3786\"],[0.5555555555555556,\"#d8576b\"],[0.6666666666666666,\"#ed7953\"],[0.7777777777777778,\"#fb9f3a\"],[0.8888888888888888,\"#fdca26\"],[1.0,\"#f0f921\"]]}],\"choropleth\":[{\"type\":\"choropleth\",\"colorbar\":{\"outlinewidth\":0,\"ticks\":\"\"}}],\"histogram2d\":[{\"type\":\"histogram2d\",\"colorbar\":{\"outlinewidth\":0,\"ticks\":\"\"},\"colorscale\":[[0.0,\"#0d0887\"],[0.1111111111111111,\"#46039f\"],[0.2222222222222222,\"#7201a8\"],[0.3333333333333333,\"#9c179e\"],[0.4444444444444444,\"#bd3786\"],[0.5555555555555556,\"#d8576b\"],[0.6666666666666666,\"#ed7953\"],[0.7777777777777778,\"#fb9f3a\"],[0.8888888888888888,\"#fdca26\"],[1.0,\"#f0f921\"]]}],\"heatmap\":[{\"type\":\"heatmap\",\"colorbar\":{\"outlinewidth\":0,\"ticks\":\"\"},\"colorscale\":[[0.0,\"#0d0887\"],[0.1111111111111111,\"#46039f\"],[0.2222222222222222,\"#7201a8\"],[0.3333333333333333,\"#9c179e\"],[0.4444444444444444,\"#bd3786\"],[0.5555555555555556,\"#d8576b\"],[0.6666666666666666,\"#ed7953\"],[0.7777777777777778,\"#fb9f3a\"],[0.8888888888888888,\"#fdca26\"],[1.0,\"#f0f921\"]]}],\"heatmapgl\":[{\"type\":\"heatmapgl\",\"colorbar\":{\"outlinewidth\":0,\"ticks\":\"\"},\"colorscale\":[[0.0,\"#0d0887\"],[0.1111111111111111,\"#46039f\"],[0.2222222222222222,\"#7201a8\"],[0.3333333333333333,\"#9c179e\"],[0.4444444444444444,\"#bd3786\"],[0.5555555555555556,\"#d8576b\"],[0.6666666666666666,\"#ed7953\"],[0.7777777777777778,\"#fb9f3a\"],[0.8888888888888888,\"#fdca26\"],[1.0,\"#f0f921\"]]}],\"contourcarpet\":[{\"type\":\"contourcarpet\",\"colorbar\":{\"outlinewidth\":0,\"ticks\":\"\"}}],\"contour\":[{\"type\":\"contour\",\"colorbar\":{\"outlinewidth\":0,\"ticks\":\"\"},\"colorscale\":[[0.0,\"#0d0887\"],[0.1111111111111111,\"#46039f\"],[0.2222222222222222,\"#7201a8\"],[0.3333333333333333,\"#9c179e\"],[0.4444444444444444,\"#bd3786\"],[0.5555555555555556,\"#d8576b\"],[0.6666666666666666,\"#ed7953\"],[0.7777777777777778,\"#fb9f3a\"],[0.8888888888888888,\"#fdca26\"],[1.0,\"#f0f921\"]]}],\"surface\":[{\"type\":\"surface\",\"colorbar\":{\"outlinewidth\":0,\"ticks\":\"\"},\"colorscale\":[[0.0,\"#0d0887\"],[0.1111111111111111,\"#46039f\"],[0.2222222222222222,\"#7201a8\"],[0.3333333333333333,\"#9c179e\"],[0.4444444444444444,\"#bd3786\"],[0.5555555555555556,\"#d8576b\"],[0.6666666666666666,\"#ed7953\"],[0.7777777777777778,\"#fb9f3a\"],[0.8888888888888888,\"#fdca26\"],[1.0,\"#f0f921\"]]}],\"mesh3d\":[{\"type\":\"mesh3d\",\"colorbar\":{\"outlinewidth\":0,\"ticks\":\"\"}}],\"scatter\":[{\"marker\":{\"line\":{\"color\":\"#283442\"}},\"type\":\"scatter\"}],\"parcoords\":[{\"type\":\"parcoords\",\"line\":{\"colorbar\":{\"outlinewidth\":0,\"ticks\":\"\"}}}],\"scatterpolargl\":[{\"type\":\"scatterpolargl\",\"marker\":{\"colorbar\":{\"outlinewidth\":0,\"ticks\":\"\"}}}],\"bar\":[{\"error_x\":{\"color\":\"#f2f5fa\"},\"error_y\":{\"color\":\"#f2f5fa\"},\"marker\":{\"line\":{\"color\":\"rgb(17,17,17)\",\"width\":0.5},\"pattern\":{\"fillmode\":\"overlay\",\"size\":10,\"solidity\":0.2}},\"type\":\"bar\"}],\"scattergeo\":[{\"type\":\"scattergeo\",\"marker\":{\"colorbar\":{\"outlinewidth\":0,\"ticks\":\"\"}}}],\"scatterpolar\":[{\"type\":\"scatterpolar\",\"marker\":{\"colorbar\":{\"outlinewidth\":0,\"ticks\":\"\"}}}],\"histogram\":[{\"marker\":{\"pattern\":{\"fillmode\":\"overlay\",\"size\":10,\"solidity\":0.2}},\"type\":\"histogram\"}],\"scattergl\":[{\"marker\":{\"line\":{\"color\":\"#283442\"}},\"type\":\"scattergl\"}],\"scatter3d\":[{\"type\":\"scatter3d\",\"line\":{\"colorbar\":{\"outlinewidth\":0,\"ticks\":\"\"}},\"marker\":{\"colorbar\":{\"outlinewidth\":0,\"ticks\":\"\"}}}],\"scattermapbox\":[{\"type\":\"scattermapbox\",\"marker\":{\"colorbar\":{\"outlinewidth\":0,\"ticks\":\"\"}}}],\"scatterternary\":[{\"type\":\"scatterternary\",\"marker\":{\"colorbar\":{\"outlinewidth\":0,\"ticks\":\"\"}}}],\"scattercarpet\":[{\"type\":\"scattercarpet\",\"marker\":{\"colorbar\":{\"outlinewidth\":0,\"ticks\":\"\"}}}],\"carpet\":[{\"aaxis\":{\"endlinecolor\":\"#A2B1C6\",\"gridcolor\":\"#506784\",\"linecolor\":\"#506784\",\"minorgridcolor\":\"#506784\",\"startlinecolor\":\"#A2B1C6\"},\"baxis\":{\"endlinecolor\":\"#A2B1C6\",\"gridcolor\":\"#506784\",\"linecolor\":\"#506784\",\"minorgridcolor\":\"#506784\",\"startlinecolor\":\"#A2B1C6\"},\"type\":\"carpet\"}],\"table\":[{\"cells\":{\"fill\":{\"color\":\"#506784\"},\"line\":{\"color\":\"rgb(17,17,17)\"}},\"header\":{\"fill\":{\"color\":\"#2a3f5f\"},\"line\":{\"color\":\"rgb(17,17,17)\"}},\"type\":\"table\"}],\"barpolar\":[{\"marker\":{\"line\":{\"color\":\"rgb(17,17,17)\",\"width\":0.5},\"pattern\":{\"fillmode\":\"overlay\",\"size\":10,\"solidity\":0.2}},\"type\":\"barpolar\"}],\"pie\":[{\"automargin\":true,\"type\":\"pie\"}]},\"layout\":{\"autotypenumbers\":\"strict\",\"colorway\":[\"#636efa\",\"#EF553B\",\"#00cc96\",\"#ab63fa\",\"#FFA15A\",\"#19d3f3\",\"#FF6692\",\"#B6E880\",\"#FF97FF\",\"#FECB52\"],\"font\":{\"color\":\"#f2f5fa\"},\"hovermode\":\"closest\",\"hoverlabel\":{\"align\":\"left\"},\"paper_bgcolor\":\"rgb(17,17,17)\",\"plot_bgcolor\":\"rgb(17,17,17)\",\"polar\":{\"bgcolor\":\"rgb(17,17,17)\",\"angularaxis\":{\"gridcolor\":\"#506784\",\"linecolor\":\"#506784\",\"ticks\":\"\"},\"radialaxis\":{\"gridcolor\":\"#506784\",\"linecolor\":\"#506784\",\"ticks\":\"\"}},\"ternary\":{\"bgcolor\":\"rgb(17,17,17)\",\"aaxis\":{\"gridcolor\":\"#506784\",\"linecolor\":\"#506784\",\"ticks\":\"\"},\"baxis\":{\"gridcolor\":\"#506784\",\"linecolor\":\"#506784\",\"ticks\":\"\"},\"caxis\":{\"gridcolor\":\"#506784\",\"linecolor\":\"#506784\",\"ticks\":\"\"}},\"coloraxis\":{\"colorbar\":{\"outlinewidth\":0,\"ticks\":\"\"}},\"colorscale\":{\"sequential\":[[0.0,\"#0d0887\"],[0.1111111111111111,\"#46039f\"],[0.2222222222222222,\"#7201a8\"],[0.3333333333333333,\"#9c179e\"],[0.4444444444444444,\"#bd3786\"],[0.5555555555555556,\"#d8576b\"],[0.6666666666666666,\"#ed7953\"],[0.7777777777777778,\"#fb9f3a\"],[0.8888888888888888,\"#fdca26\"],[1.0,\"#f0f921\"]],\"sequentialminus\":[[0.0,\"#0d0887\"],[0.1111111111111111,\"#46039f\"],[0.2222222222222222,\"#7201a8\"],[0.3333333333333333,\"#9c179e\"],[0.4444444444444444,\"#bd3786\"],[0.5555555555555556,\"#d8576b\"],[0.6666666666666666,\"#ed7953\"],[0.7777777777777778,\"#fb9f3a\"],[0.8888888888888888,\"#fdca26\"],[1.0,\"#f0f921\"]],\"diverging\":[[0,\"#8e0152\"],[0.1,\"#c51b7d\"],[0.2,\"#de77ae\"],[0.3,\"#f1b6da\"],[0.4,\"#fde0ef\"],[0.5,\"#f7f7f7\"],[0.6,\"#e6f5d0\"],[0.7,\"#b8e186\"],[0.8,\"#7fbc41\"],[0.9,\"#4d9221\"],[1,\"#276419\"]]},\"xaxis\":{\"gridcolor\":\"#283442\",\"linecolor\":\"#506784\",\"ticks\":\"\",\"title\":{\"standoff\":15},\"zerolinecolor\":\"#283442\",\"automargin\":true,\"zerolinewidth\":2},\"yaxis\":{\"gridcolor\":\"#283442\",\"linecolor\":\"#506784\",\"ticks\":\"\",\"title\":{\"standoff\":15},\"zerolinecolor\":\"#283442\",\"automargin\":true,\"zerolinewidth\":2},\"scene\":{\"xaxis\":{\"backgroundcolor\":\"rgb(17,17,17)\",\"gridcolor\":\"#506784\",\"linecolor\":\"#506784\",\"showbackground\":true,\"ticks\":\"\",\"zerolinecolor\":\"#C8D4E3\",\"gridwidth\":2},\"yaxis\":{\"backgroundcolor\":\"rgb(17,17,17)\",\"gridcolor\":\"#506784\",\"linecolor\":\"#506784\",\"showbackground\":true,\"ticks\":\"\",\"zerolinecolor\":\"#C8D4E3\",\"gridwidth\":2},\"zaxis\":{\"backgroundcolor\":\"rgb(17,17,17)\",\"gridcolor\":\"#506784\",\"linecolor\":\"#506784\",\"showbackground\":true,\"ticks\":\"\",\"zerolinecolor\":\"#C8D4E3\",\"gridwidth\":2}},\"shapedefaults\":{\"line\":{\"color\":\"#f2f5fa\"}},\"annotationdefaults\":{\"arrowcolor\":\"#f2f5fa\",\"arrowhead\":0,\"arrowwidth\":1},\"geo\":{\"bgcolor\":\"rgb(17,17,17)\",\"landcolor\":\"rgb(17,17,17)\",\"subunitcolor\":\"#506784\",\"showland\":true,\"showlakes\":true,\"lakecolor\":\"rgb(17,17,17)\"},\"title\":{\"x\":0.05},\"updatemenudefaults\":{\"bgcolor\":\"#506784\",\"borderwidth\":0},\"sliderdefaults\":{\"bgcolor\":\"#C8D4E3\",\"borderwidth\":1,\"bordercolor\":\"rgb(17,17,17)\",\"tickwidth\":0},\"mapbox\":{\"style\":\"dark\"}}},\"xaxis\":{\"anchor\":\"y\",\"domain\":[0.0,1.0],\"title\":{\"text\":\"iterations\"}},\"yaxis\":{\"anchor\":\"x\",\"domain\":[0.0,1.0],\"title\":{\"text\":\"count\"}},\"legend\":{\"title\":{\"text\":\"converged\"},\"tracegroupgap\":0},\"margin\":{\"t\":60},\"barmode\":\"relative\"},                        {\"responsive\": true}                    ).then(function(){\n",
       "                            \n",
       "var gd = document.getElementById('71acfc12-bd24-4ca4-9cc2-ec8e56e5d10d');\n",
       "var x = new MutationObserver(function (mutations, observer) {{\n",
       "        var display = window.getComputedStyle(gd).display;\n",
       "        if (!display || display === 'none') {{\n",
       "            console.log([gd, 'removed!']);\n",
       "            Plotly.purge(gd);\n",
       "            observer.disconnect();\n",
       "        }}\n",
       "}});\n",
       "\n",
       "// Listen for the removal of the full notebook cells\n",
       "var notebookContainer = gd.closest('#notebook-container');\n",
       "if (notebookContainer) {{\n",
       "    x.observe(notebookContainer, {childList: true});\n",
       "}}\n",
       "\n",
       "// Listen for the clearing of the current output cell\n",
       "var outputEl = gd.closest('.output');\n",
       "if (outputEl) {{\n",
       "    x.observe(outputEl, {childList: true});\n",
       "}}\n",
       "\n",
       "                        })                };                });            </script>        </div>"
      ]
     },
     "metadata": {},
     "output_type": "display_data"
    }
   ],
   "execution_count": 182
  },
  {
   "metadata": {
    "ExecuteTime": {
     "end_time": "2024-07-29T17:11:02.300821Z",
     "start_time": "2024-07-29T17:11:02.252119Z"
    }
   },
   "cell_type": "code",
   "source": [
    "flat_solutions = np.array([r.m.flatten() for r in results])\n",
    "dist = sp.spatial.distance.pdist(flat_solutions, metric='hamming')\n",
    "hist, bins = np.histogram(dist, bins=dims)\n",
    "px.scatter(x=bins[1:], y=hist)"
   ],
   "id": "11c69abdadf082a7",
   "outputs": [
    {
     "data": {
      "application/vnd.plotly.v1+json": {
       "data": [
        {
         "hovertemplate": "x=%{x}<br>y=%{y}<extra></extra>",
         "legendgroup": "",
         "marker": {
          "color": "#636efa",
          "symbol": "circle"
         },
         "mode": "markers",
         "name": "",
         "orientation": "v",
         "showlegend": false,
         "x": [
          0.05078125,
          0.1015625,
          0.15234375,
          0.203125,
          0.25390625,
          0.3046875,
          0.35546875,
          0.40625
         ],
         "xaxis": "x",
         "y": [
          238,
          948,
          810,
          1588,
          964,
          232,
          155,
          15
         ],
         "yaxis": "y",
         "type": "scatter"
        }
       ],
       "layout": {
        "template": {
         "data": {
          "histogram2dcontour": [
           {
            "type": "histogram2dcontour",
            "colorbar": {
             "outlinewidth": 0,
             "ticks": ""
            },
            "colorscale": [
             [
              0.0,
              "#0d0887"
             ],
             [
              0.1111111111111111,
              "#46039f"
             ],
             [
              0.2222222222222222,
              "#7201a8"
             ],
             [
              0.3333333333333333,
              "#9c179e"
             ],
             [
              0.4444444444444444,
              "#bd3786"
             ],
             [
              0.5555555555555556,
              "#d8576b"
             ],
             [
              0.6666666666666666,
              "#ed7953"
             ],
             [
              0.7777777777777778,
              "#fb9f3a"
             ],
             [
              0.8888888888888888,
              "#fdca26"
             ],
             [
              1.0,
              "#f0f921"
             ]
            ]
           }
          ],
          "choropleth": [
           {
            "type": "choropleth",
            "colorbar": {
             "outlinewidth": 0,
             "ticks": ""
            }
           }
          ],
          "histogram2d": [
           {
            "type": "histogram2d",
            "colorbar": {
             "outlinewidth": 0,
             "ticks": ""
            },
            "colorscale": [
             [
              0.0,
              "#0d0887"
             ],
             [
              0.1111111111111111,
              "#46039f"
             ],
             [
              0.2222222222222222,
              "#7201a8"
             ],
             [
              0.3333333333333333,
              "#9c179e"
             ],
             [
              0.4444444444444444,
              "#bd3786"
             ],
             [
              0.5555555555555556,
              "#d8576b"
             ],
             [
              0.6666666666666666,
              "#ed7953"
             ],
             [
              0.7777777777777778,
              "#fb9f3a"
             ],
             [
              0.8888888888888888,
              "#fdca26"
             ],
             [
              1.0,
              "#f0f921"
             ]
            ]
           }
          ],
          "heatmap": [
           {
            "type": "heatmap",
            "colorbar": {
             "outlinewidth": 0,
             "ticks": ""
            },
            "colorscale": [
             [
              0.0,
              "#0d0887"
             ],
             [
              0.1111111111111111,
              "#46039f"
             ],
             [
              0.2222222222222222,
              "#7201a8"
             ],
             [
              0.3333333333333333,
              "#9c179e"
             ],
             [
              0.4444444444444444,
              "#bd3786"
             ],
             [
              0.5555555555555556,
              "#d8576b"
             ],
             [
              0.6666666666666666,
              "#ed7953"
             ],
             [
              0.7777777777777778,
              "#fb9f3a"
             ],
             [
              0.8888888888888888,
              "#fdca26"
             ],
             [
              1.0,
              "#f0f921"
             ]
            ]
           }
          ],
          "heatmapgl": [
           {
            "type": "heatmapgl",
            "colorbar": {
             "outlinewidth": 0,
             "ticks": ""
            },
            "colorscale": [
             [
              0.0,
              "#0d0887"
             ],
             [
              0.1111111111111111,
              "#46039f"
             ],
             [
              0.2222222222222222,
              "#7201a8"
             ],
             [
              0.3333333333333333,
              "#9c179e"
             ],
             [
              0.4444444444444444,
              "#bd3786"
             ],
             [
              0.5555555555555556,
              "#d8576b"
             ],
             [
              0.6666666666666666,
              "#ed7953"
             ],
             [
              0.7777777777777778,
              "#fb9f3a"
             ],
             [
              0.8888888888888888,
              "#fdca26"
             ],
             [
              1.0,
              "#f0f921"
             ]
            ]
           }
          ],
          "contourcarpet": [
           {
            "type": "contourcarpet",
            "colorbar": {
             "outlinewidth": 0,
             "ticks": ""
            }
           }
          ],
          "contour": [
           {
            "type": "contour",
            "colorbar": {
             "outlinewidth": 0,
             "ticks": ""
            },
            "colorscale": [
             [
              0.0,
              "#0d0887"
             ],
             [
              0.1111111111111111,
              "#46039f"
             ],
             [
              0.2222222222222222,
              "#7201a8"
             ],
             [
              0.3333333333333333,
              "#9c179e"
             ],
             [
              0.4444444444444444,
              "#bd3786"
             ],
             [
              0.5555555555555556,
              "#d8576b"
             ],
             [
              0.6666666666666666,
              "#ed7953"
             ],
             [
              0.7777777777777778,
              "#fb9f3a"
             ],
             [
              0.8888888888888888,
              "#fdca26"
             ],
             [
              1.0,
              "#f0f921"
             ]
            ]
           }
          ],
          "surface": [
           {
            "type": "surface",
            "colorbar": {
             "outlinewidth": 0,
             "ticks": ""
            },
            "colorscale": [
             [
              0.0,
              "#0d0887"
             ],
             [
              0.1111111111111111,
              "#46039f"
             ],
             [
              0.2222222222222222,
              "#7201a8"
             ],
             [
              0.3333333333333333,
              "#9c179e"
             ],
             [
              0.4444444444444444,
              "#bd3786"
             ],
             [
              0.5555555555555556,
              "#d8576b"
             ],
             [
              0.6666666666666666,
              "#ed7953"
             ],
             [
              0.7777777777777778,
              "#fb9f3a"
             ],
             [
              0.8888888888888888,
              "#fdca26"
             ],
             [
              1.0,
              "#f0f921"
             ]
            ]
           }
          ],
          "mesh3d": [
           {
            "type": "mesh3d",
            "colorbar": {
             "outlinewidth": 0,
             "ticks": ""
            }
           }
          ],
          "scatter": [
           {
            "marker": {
             "line": {
              "color": "#283442"
             }
            },
            "type": "scatter"
           }
          ],
          "parcoords": [
           {
            "type": "parcoords",
            "line": {
             "colorbar": {
              "outlinewidth": 0,
              "ticks": ""
             }
            }
           }
          ],
          "scatterpolargl": [
           {
            "type": "scatterpolargl",
            "marker": {
             "colorbar": {
              "outlinewidth": 0,
              "ticks": ""
             }
            }
           }
          ],
          "bar": [
           {
            "error_x": {
             "color": "#f2f5fa"
            },
            "error_y": {
             "color": "#f2f5fa"
            },
            "marker": {
             "line": {
              "color": "rgb(17,17,17)",
              "width": 0.5
             },
             "pattern": {
              "fillmode": "overlay",
              "size": 10,
              "solidity": 0.2
             }
            },
            "type": "bar"
           }
          ],
          "scattergeo": [
           {
            "type": "scattergeo",
            "marker": {
             "colorbar": {
              "outlinewidth": 0,
              "ticks": ""
             }
            }
           }
          ],
          "scatterpolar": [
           {
            "type": "scatterpolar",
            "marker": {
             "colorbar": {
              "outlinewidth": 0,
              "ticks": ""
             }
            }
           }
          ],
          "histogram": [
           {
            "marker": {
             "pattern": {
              "fillmode": "overlay",
              "size": 10,
              "solidity": 0.2
             }
            },
            "type": "histogram"
           }
          ],
          "scattergl": [
           {
            "marker": {
             "line": {
              "color": "#283442"
             }
            },
            "type": "scattergl"
           }
          ],
          "scatter3d": [
           {
            "type": "scatter3d",
            "line": {
             "colorbar": {
              "outlinewidth": 0,
              "ticks": ""
             }
            },
            "marker": {
             "colorbar": {
              "outlinewidth": 0,
              "ticks": ""
             }
            }
           }
          ],
          "scattermapbox": [
           {
            "type": "scattermapbox",
            "marker": {
             "colorbar": {
              "outlinewidth": 0,
              "ticks": ""
             }
            }
           }
          ],
          "scatterternary": [
           {
            "type": "scatterternary",
            "marker": {
             "colorbar": {
              "outlinewidth": 0,
              "ticks": ""
             }
            }
           }
          ],
          "scattercarpet": [
           {
            "type": "scattercarpet",
            "marker": {
             "colorbar": {
              "outlinewidth": 0,
              "ticks": ""
             }
            }
           }
          ],
          "carpet": [
           {
            "aaxis": {
             "endlinecolor": "#A2B1C6",
             "gridcolor": "#506784",
             "linecolor": "#506784",
             "minorgridcolor": "#506784",
             "startlinecolor": "#A2B1C6"
            },
            "baxis": {
             "endlinecolor": "#A2B1C6",
             "gridcolor": "#506784",
             "linecolor": "#506784",
             "minorgridcolor": "#506784",
             "startlinecolor": "#A2B1C6"
            },
            "type": "carpet"
           }
          ],
          "table": [
           {
            "cells": {
             "fill": {
              "color": "#506784"
             },
             "line": {
              "color": "rgb(17,17,17)"
             }
            },
            "header": {
             "fill": {
              "color": "#2a3f5f"
             },
             "line": {
              "color": "rgb(17,17,17)"
             }
            },
            "type": "table"
           }
          ],
          "barpolar": [
           {
            "marker": {
             "line": {
              "color": "rgb(17,17,17)",
              "width": 0.5
             },
             "pattern": {
              "fillmode": "overlay",
              "size": 10,
              "solidity": 0.2
             }
            },
            "type": "barpolar"
           }
          ],
          "pie": [
           {
            "automargin": true,
            "type": "pie"
           }
          ]
         },
         "layout": {
          "autotypenumbers": "strict",
          "colorway": [
           "#636efa",
           "#EF553B",
           "#00cc96",
           "#ab63fa",
           "#FFA15A",
           "#19d3f3",
           "#FF6692",
           "#B6E880",
           "#FF97FF",
           "#FECB52"
          ],
          "font": {
           "color": "#f2f5fa"
          },
          "hovermode": "closest",
          "hoverlabel": {
           "align": "left"
          },
          "paper_bgcolor": "rgb(17,17,17)",
          "plot_bgcolor": "rgb(17,17,17)",
          "polar": {
           "bgcolor": "rgb(17,17,17)",
           "angularaxis": {
            "gridcolor": "#506784",
            "linecolor": "#506784",
            "ticks": ""
           },
           "radialaxis": {
            "gridcolor": "#506784",
            "linecolor": "#506784",
            "ticks": ""
           }
          },
          "ternary": {
           "bgcolor": "rgb(17,17,17)",
           "aaxis": {
            "gridcolor": "#506784",
            "linecolor": "#506784",
            "ticks": ""
           },
           "baxis": {
            "gridcolor": "#506784",
            "linecolor": "#506784",
            "ticks": ""
           },
           "caxis": {
            "gridcolor": "#506784",
            "linecolor": "#506784",
            "ticks": ""
           }
          },
          "coloraxis": {
           "colorbar": {
            "outlinewidth": 0,
            "ticks": ""
           }
          },
          "colorscale": {
           "sequential": [
            [
             0.0,
             "#0d0887"
            ],
            [
             0.1111111111111111,
             "#46039f"
            ],
            [
             0.2222222222222222,
             "#7201a8"
            ],
            [
             0.3333333333333333,
             "#9c179e"
            ],
            [
             0.4444444444444444,
             "#bd3786"
            ],
            [
             0.5555555555555556,
             "#d8576b"
            ],
            [
             0.6666666666666666,
             "#ed7953"
            ],
            [
             0.7777777777777778,
             "#fb9f3a"
            ],
            [
             0.8888888888888888,
             "#fdca26"
            ],
            [
             1.0,
             "#f0f921"
            ]
           ],
           "sequentialminus": [
            [
             0.0,
             "#0d0887"
            ],
            [
             0.1111111111111111,
             "#46039f"
            ],
            [
             0.2222222222222222,
             "#7201a8"
            ],
            [
             0.3333333333333333,
             "#9c179e"
            ],
            [
             0.4444444444444444,
             "#bd3786"
            ],
            [
             0.5555555555555556,
             "#d8576b"
            ],
            [
             0.6666666666666666,
             "#ed7953"
            ],
            [
             0.7777777777777778,
             "#fb9f3a"
            ],
            [
             0.8888888888888888,
             "#fdca26"
            ],
            [
             1.0,
             "#f0f921"
            ]
           ],
           "diverging": [
            [
             0,
             "#8e0152"
            ],
            [
             0.1,
             "#c51b7d"
            ],
            [
             0.2,
             "#de77ae"
            ],
            [
             0.3,
             "#f1b6da"
            ],
            [
             0.4,
             "#fde0ef"
            ],
            [
             0.5,
             "#f7f7f7"
            ],
            [
             0.6,
             "#e6f5d0"
            ],
            [
             0.7,
             "#b8e186"
            ],
            [
             0.8,
             "#7fbc41"
            ],
            [
             0.9,
             "#4d9221"
            ],
            [
             1,
             "#276419"
            ]
           ]
          },
          "xaxis": {
           "gridcolor": "#283442",
           "linecolor": "#506784",
           "ticks": "",
           "title": {
            "standoff": 15
           },
           "zerolinecolor": "#283442",
           "automargin": true,
           "zerolinewidth": 2
          },
          "yaxis": {
           "gridcolor": "#283442",
           "linecolor": "#506784",
           "ticks": "",
           "title": {
            "standoff": 15
           },
           "zerolinecolor": "#283442",
           "automargin": true,
           "zerolinewidth": 2
          },
          "scene": {
           "xaxis": {
            "backgroundcolor": "rgb(17,17,17)",
            "gridcolor": "#506784",
            "linecolor": "#506784",
            "showbackground": true,
            "ticks": "",
            "zerolinecolor": "#C8D4E3",
            "gridwidth": 2
           },
           "yaxis": {
            "backgroundcolor": "rgb(17,17,17)",
            "gridcolor": "#506784",
            "linecolor": "#506784",
            "showbackground": true,
            "ticks": "",
            "zerolinecolor": "#C8D4E3",
            "gridwidth": 2
           },
           "zaxis": {
            "backgroundcolor": "rgb(17,17,17)",
            "gridcolor": "#506784",
            "linecolor": "#506784",
            "showbackground": true,
            "ticks": "",
            "zerolinecolor": "#C8D4E3",
            "gridwidth": 2
           }
          },
          "shapedefaults": {
           "line": {
            "color": "#f2f5fa"
           }
          },
          "annotationdefaults": {
           "arrowcolor": "#f2f5fa",
           "arrowhead": 0,
           "arrowwidth": 1
          },
          "geo": {
           "bgcolor": "rgb(17,17,17)",
           "landcolor": "rgb(17,17,17)",
           "subunitcolor": "#506784",
           "showland": true,
           "showlakes": true,
           "lakecolor": "rgb(17,17,17)"
          },
          "title": {
           "x": 0.05
          },
          "updatemenudefaults": {
           "bgcolor": "#506784",
           "borderwidth": 0
          },
          "sliderdefaults": {
           "bgcolor": "#C8D4E3",
           "borderwidth": 1,
           "bordercolor": "rgb(17,17,17)",
           "tickwidth": 0
          },
          "mapbox": {
           "style": "dark"
          }
         }
        },
        "xaxis": {
         "anchor": "y",
         "domain": [
          0.0,
          1.0
         ],
         "title": {
          "text": "x"
         }
        },
        "yaxis": {
         "anchor": "x",
         "domain": [
          0.0,
          1.0
         ],
         "title": {
          "text": "y"
         }
        },
        "legend": {
         "tracegroupgap": 0
        },
        "margin": {
         "t": 60
        }
       },
       "config": {
        "plotlyServerURL": "https://plot.ly"
       }
      },
      "text/html": [
       "<div>                            <div id=\"fae568bd-14f6-4b5c-8071-c0bca2207865\" class=\"plotly-graph-div\" style=\"height:525px; width:100%;\"></div>            <script type=\"text/javascript\">                require([\"plotly\"], function(Plotly) {                    window.PLOTLYENV=window.PLOTLYENV || {};                                    if (document.getElementById(\"fae568bd-14f6-4b5c-8071-c0bca2207865\")) {                    Plotly.newPlot(                        \"fae568bd-14f6-4b5c-8071-c0bca2207865\",                        [{\"hovertemplate\":\"x=%{x}\\u003cbr\\u003ey=%{y}\\u003cextra\\u003e\\u003c\\u002fextra\\u003e\",\"legendgroup\":\"\",\"marker\":{\"color\":\"#636efa\",\"symbol\":\"circle\"},\"mode\":\"markers\",\"name\":\"\",\"orientation\":\"v\",\"showlegend\":false,\"x\":[0.05078125,0.1015625,0.15234375,0.203125,0.25390625,0.3046875,0.35546875,0.40625],\"xaxis\":\"x\",\"y\":[238,948,810,1588,964,232,155,15],\"yaxis\":\"y\",\"type\":\"scatter\"}],                        {\"template\":{\"data\":{\"histogram2dcontour\":[{\"type\":\"histogram2dcontour\",\"colorbar\":{\"outlinewidth\":0,\"ticks\":\"\"},\"colorscale\":[[0.0,\"#0d0887\"],[0.1111111111111111,\"#46039f\"],[0.2222222222222222,\"#7201a8\"],[0.3333333333333333,\"#9c179e\"],[0.4444444444444444,\"#bd3786\"],[0.5555555555555556,\"#d8576b\"],[0.6666666666666666,\"#ed7953\"],[0.7777777777777778,\"#fb9f3a\"],[0.8888888888888888,\"#fdca26\"],[1.0,\"#f0f921\"]]}],\"choropleth\":[{\"type\":\"choropleth\",\"colorbar\":{\"outlinewidth\":0,\"ticks\":\"\"}}],\"histogram2d\":[{\"type\":\"histogram2d\",\"colorbar\":{\"outlinewidth\":0,\"ticks\":\"\"},\"colorscale\":[[0.0,\"#0d0887\"],[0.1111111111111111,\"#46039f\"],[0.2222222222222222,\"#7201a8\"],[0.3333333333333333,\"#9c179e\"],[0.4444444444444444,\"#bd3786\"],[0.5555555555555556,\"#d8576b\"],[0.6666666666666666,\"#ed7953\"],[0.7777777777777778,\"#fb9f3a\"],[0.8888888888888888,\"#fdca26\"],[1.0,\"#f0f921\"]]}],\"heatmap\":[{\"type\":\"heatmap\",\"colorbar\":{\"outlinewidth\":0,\"ticks\":\"\"},\"colorscale\":[[0.0,\"#0d0887\"],[0.1111111111111111,\"#46039f\"],[0.2222222222222222,\"#7201a8\"],[0.3333333333333333,\"#9c179e\"],[0.4444444444444444,\"#bd3786\"],[0.5555555555555556,\"#d8576b\"],[0.6666666666666666,\"#ed7953\"],[0.7777777777777778,\"#fb9f3a\"],[0.8888888888888888,\"#fdca26\"],[1.0,\"#f0f921\"]]}],\"heatmapgl\":[{\"type\":\"heatmapgl\",\"colorbar\":{\"outlinewidth\":0,\"ticks\":\"\"},\"colorscale\":[[0.0,\"#0d0887\"],[0.1111111111111111,\"#46039f\"],[0.2222222222222222,\"#7201a8\"],[0.3333333333333333,\"#9c179e\"],[0.4444444444444444,\"#bd3786\"],[0.5555555555555556,\"#d8576b\"],[0.6666666666666666,\"#ed7953\"],[0.7777777777777778,\"#fb9f3a\"],[0.8888888888888888,\"#fdca26\"],[1.0,\"#f0f921\"]]}],\"contourcarpet\":[{\"type\":\"contourcarpet\",\"colorbar\":{\"outlinewidth\":0,\"ticks\":\"\"}}],\"contour\":[{\"type\":\"contour\",\"colorbar\":{\"outlinewidth\":0,\"ticks\":\"\"},\"colorscale\":[[0.0,\"#0d0887\"],[0.1111111111111111,\"#46039f\"],[0.2222222222222222,\"#7201a8\"],[0.3333333333333333,\"#9c179e\"],[0.4444444444444444,\"#bd3786\"],[0.5555555555555556,\"#d8576b\"],[0.6666666666666666,\"#ed7953\"],[0.7777777777777778,\"#fb9f3a\"],[0.8888888888888888,\"#fdca26\"],[1.0,\"#f0f921\"]]}],\"surface\":[{\"type\":\"surface\",\"colorbar\":{\"outlinewidth\":0,\"ticks\":\"\"},\"colorscale\":[[0.0,\"#0d0887\"],[0.1111111111111111,\"#46039f\"],[0.2222222222222222,\"#7201a8\"],[0.3333333333333333,\"#9c179e\"],[0.4444444444444444,\"#bd3786\"],[0.5555555555555556,\"#d8576b\"],[0.6666666666666666,\"#ed7953\"],[0.7777777777777778,\"#fb9f3a\"],[0.8888888888888888,\"#fdca26\"],[1.0,\"#f0f921\"]]}],\"mesh3d\":[{\"type\":\"mesh3d\",\"colorbar\":{\"outlinewidth\":0,\"ticks\":\"\"}}],\"scatter\":[{\"marker\":{\"line\":{\"color\":\"#283442\"}},\"type\":\"scatter\"}],\"parcoords\":[{\"type\":\"parcoords\",\"line\":{\"colorbar\":{\"outlinewidth\":0,\"ticks\":\"\"}}}],\"scatterpolargl\":[{\"type\":\"scatterpolargl\",\"marker\":{\"colorbar\":{\"outlinewidth\":0,\"ticks\":\"\"}}}],\"bar\":[{\"error_x\":{\"color\":\"#f2f5fa\"},\"error_y\":{\"color\":\"#f2f5fa\"},\"marker\":{\"line\":{\"color\":\"rgb(17,17,17)\",\"width\":0.5},\"pattern\":{\"fillmode\":\"overlay\",\"size\":10,\"solidity\":0.2}},\"type\":\"bar\"}],\"scattergeo\":[{\"type\":\"scattergeo\",\"marker\":{\"colorbar\":{\"outlinewidth\":0,\"ticks\":\"\"}}}],\"scatterpolar\":[{\"type\":\"scatterpolar\",\"marker\":{\"colorbar\":{\"outlinewidth\":0,\"ticks\":\"\"}}}],\"histogram\":[{\"marker\":{\"pattern\":{\"fillmode\":\"overlay\",\"size\":10,\"solidity\":0.2}},\"type\":\"histogram\"}],\"scattergl\":[{\"marker\":{\"line\":{\"color\":\"#283442\"}},\"type\":\"scattergl\"}],\"scatter3d\":[{\"type\":\"scatter3d\",\"line\":{\"colorbar\":{\"outlinewidth\":0,\"ticks\":\"\"}},\"marker\":{\"colorbar\":{\"outlinewidth\":0,\"ticks\":\"\"}}}],\"scattermapbox\":[{\"type\":\"scattermapbox\",\"marker\":{\"colorbar\":{\"outlinewidth\":0,\"ticks\":\"\"}}}],\"scatterternary\":[{\"type\":\"scatterternary\",\"marker\":{\"colorbar\":{\"outlinewidth\":0,\"ticks\":\"\"}}}],\"scattercarpet\":[{\"type\":\"scattercarpet\",\"marker\":{\"colorbar\":{\"outlinewidth\":0,\"ticks\":\"\"}}}],\"carpet\":[{\"aaxis\":{\"endlinecolor\":\"#A2B1C6\",\"gridcolor\":\"#506784\",\"linecolor\":\"#506784\",\"minorgridcolor\":\"#506784\",\"startlinecolor\":\"#A2B1C6\"},\"baxis\":{\"endlinecolor\":\"#A2B1C6\",\"gridcolor\":\"#506784\",\"linecolor\":\"#506784\",\"minorgridcolor\":\"#506784\",\"startlinecolor\":\"#A2B1C6\"},\"type\":\"carpet\"}],\"table\":[{\"cells\":{\"fill\":{\"color\":\"#506784\"},\"line\":{\"color\":\"rgb(17,17,17)\"}},\"header\":{\"fill\":{\"color\":\"#2a3f5f\"},\"line\":{\"color\":\"rgb(17,17,17)\"}},\"type\":\"table\"}],\"barpolar\":[{\"marker\":{\"line\":{\"color\":\"rgb(17,17,17)\",\"width\":0.5},\"pattern\":{\"fillmode\":\"overlay\",\"size\":10,\"solidity\":0.2}},\"type\":\"barpolar\"}],\"pie\":[{\"automargin\":true,\"type\":\"pie\"}]},\"layout\":{\"autotypenumbers\":\"strict\",\"colorway\":[\"#636efa\",\"#EF553B\",\"#00cc96\",\"#ab63fa\",\"#FFA15A\",\"#19d3f3\",\"#FF6692\",\"#B6E880\",\"#FF97FF\",\"#FECB52\"],\"font\":{\"color\":\"#f2f5fa\"},\"hovermode\":\"closest\",\"hoverlabel\":{\"align\":\"left\"},\"paper_bgcolor\":\"rgb(17,17,17)\",\"plot_bgcolor\":\"rgb(17,17,17)\",\"polar\":{\"bgcolor\":\"rgb(17,17,17)\",\"angularaxis\":{\"gridcolor\":\"#506784\",\"linecolor\":\"#506784\",\"ticks\":\"\"},\"radialaxis\":{\"gridcolor\":\"#506784\",\"linecolor\":\"#506784\",\"ticks\":\"\"}},\"ternary\":{\"bgcolor\":\"rgb(17,17,17)\",\"aaxis\":{\"gridcolor\":\"#506784\",\"linecolor\":\"#506784\",\"ticks\":\"\"},\"baxis\":{\"gridcolor\":\"#506784\",\"linecolor\":\"#506784\",\"ticks\":\"\"},\"caxis\":{\"gridcolor\":\"#506784\",\"linecolor\":\"#506784\",\"ticks\":\"\"}},\"coloraxis\":{\"colorbar\":{\"outlinewidth\":0,\"ticks\":\"\"}},\"colorscale\":{\"sequential\":[[0.0,\"#0d0887\"],[0.1111111111111111,\"#46039f\"],[0.2222222222222222,\"#7201a8\"],[0.3333333333333333,\"#9c179e\"],[0.4444444444444444,\"#bd3786\"],[0.5555555555555556,\"#d8576b\"],[0.6666666666666666,\"#ed7953\"],[0.7777777777777778,\"#fb9f3a\"],[0.8888888888888888,\"#fdca26\"],[1.0,\"#f0f921\"]],\"sequentialminus\":[[0.0,\"#0d0887\"],[0.1111111111111111,\"#46039f\"],[0.2222222222222222,\"#7201a8\"],[0.3333333333333333,\"#9c179e\"],[0.4444444444444444,\"#bd3786\"],[0.5555555555555556,\"#d8576b\"],[0.6666666666666666,\"#ed7953\"],[0.7777777777777778,\"#fb9f3a\"],[0.8888888888888888,\"#fdca26\"],[1.0,\"#f0f921\"]],\"diverging\":[[0,\"#8e0152\"],[0.1,\"#c51b7d\"],[0.2,\"#de77ae\"],[0.3,\"#f1b6da\"],[0.4,\"#fde0ef\"],[0.5,\"#f7f7f7\"],[0.6,\"#e6f5d0\"],[0.7,\"#b8e186\"],[0.8,\"#7fbc41\"],[0.9,\"#4d9221\"],[1,\"#276419\"]]},\"xaxis\":{\"gridcolor\":\"#283442\",\"linecolor\":\"#506784\",\"ticks\":\"\",\"title\":{\"standoff\":15},\"zerolinecolor\":\"#283442\",\"automargin\":true,\"zerolinewidth\":2},\"yaxis\":{\"gridcolor\":\"#283442\",\"linecolor\":\"#506784\",\"ticks\":\"\",\"title\":{\"standoff\":15},\"zerolinecolor\":\"#283442\",\"automargin\":true,\"zerolinewidth\":2},\"scene\":{\"xaxis\":{\"backgroundcolor\":\"rgb(17,17,17)\",\"gridcolor\":\"#506784\",\"linecolor\":\"#506784\",\"showbackground\":true,\"ticks\":\"\",\"zerolinecolor\":\"#C8D4E3\",\"gridwidth\":2},\"yaxis\":{\"backgroundcolor\":\"rgb(17,17,17)\",\"gridcolor\":\"#506784\",\"linecolor\":\"#506784\",\"showbackground\":true,\"ticks\":\"\",\"zerolinecolor\":\"#C8D4E3\",\"gridwidth\":2},\"zaxis\":{\"backgroundcolor\":\"rgb(17,17,17)\",\"gridcolor\":\"#506784\",\"linecolor\":\"#506784\",\"showbackground\":true,\"ticks\":\"\",\"zerolinecolor\":\"#C8D4E3\",\"gridwidth\":2}},\"shapedefaults\":{\"line\":{\"color\":\"#f2f5fa\"}},\"annotationdefaults\":{\"arrowcolor\":\"#f2f5fa\",\"arrowhead\":0,\"arrowwidth\":1},\"geo\":{\"bgcolor\":\"rgb(17,17,17)\",\"landcolor\":\"rgb(17,17,17)\",\"subunitcolor\":\"#506784\",\"showland\":true,\"showlakes\":true,\"lakecolor\":\"rgb(17,17,17)\"},\"title\":{\"x\":0.05},\"updatemenudefaults\":{\"bgcolor\":\"#506784\",\"borderwidth\":0},\"sliderdefaults\":{\"bgcolor\":\"#C8D4E3\",\"borderwidth\":1,\"bordercolor\":\"rgb(17,17,17)\",\"tickwidth\":0},\"mapbox\":{\"style\":\"dark\"}}},\"xaxis\":{\"anchor\":\"y\",\"domain\":[0.0,1.0],\"title\":{\"text\":\"x\"}},\"yaxis\":{\"anchor\":\"x\",\"domain\":[0.0,1.0],\"title\":{\"text\":\"y\"}},\"legend\":{\"tracegroupgap\":0},\"margin\":{\"t\":60}},                        {\"responsive\": true}                    ).then(function(){\n",
       "                            \n",
       "var gd = document.getElementById('fae568bd-14f6-4b5c-8071-c0bca2207865');\n",
       "var x = new MutationObserver(function (mutations, observer) {{\n",
       "        var display = window.getComputedStyle(gd).display;\n",
       "        if (!display || display === 'none') {{\n",
       "            console.log([gd, 'removed!']);\n",
       "            Plotly.purge(gd);\n",
       "            observer.disconnect();\n",
       "        }}\n",
       "}});\n",
       "\n",
       "// Listen for the removal of the full notebook cells\n",
       "var notebookContainer = gd.closest('#notebook-container');\n",
       "if (notebookContainer) {{\n",
       "    x.observe(notebookContainer, {childList: true});\n",
       "}}\n",
       "\n",
       "// Listen for the clearing of the current output cell\n",
       "var outputEl = gd.closest('.output');\n",
       "if (outputEl) {{\n",
       "    x.observe(outputEl, {childList: true});\n",
       "}}\n",
       "\n",
       "                        })                };                });            </script>        </div>"
      ]
     },
     "metadata": {},
     "output_type": "display_data"
    }
   ],
   "execution_count": 201
  },
  {
   "metadata": {
    "ExecuteTime": {
     "end_time": "2024-07-29T17:11:08.795669Z",
     "start_time": "2024-07-29T17:11:08.746835Z"
    }
   },
   "cell_type": "code",
   "source": [
    "influence = []\n",
    "for r in results:\n",
    "    sol = r.m / np.sum(r.m, axis=1)[:, None]\n",
    "    influence_ = np.sum(sol, axis=0)\n",
    "    influence.append(influence_)\n",
    "    \n",
    "influence_mean = np.mean(influence, axis=0)\n",
    "influence_std = np.std(influence, axis=0)\n",
    "influence_ci = 1.96 * influence_std / np.sqrt(len(influence))\n",
    "px.scatter(x=np.abs(init_belief-correct_belief), y=influence_mean, error_y=influence_std, labels={'x': 'Initial error', 'y': 'Influence'})"
   ],
   "id": "f69d0b01efdd09ad",
   "outputs": [
    {
     "data": {
      "application/vnd.plotly.v1+json": {
       "data": [
        {
         "error_y": {
          "array": [
           0.36868667064475125,
           0.2614741861063915,
           0.33774065494103606,
           0.6201315944575346,
           0.2011684617428886,
           0.06999999999999995,
           0.4579574216016157,
           0.5631625727383995
          ]
         },
         "hovertemplate": "Initial error=%{x}<br>Influence=%{y}<extra></extra>",
         "legendgroup": "",
         "marker": {
          "color": "#636efa",
          "symbol": "circle"
         },
         "mode": "markers",
         "name": "",
         "orientation": "v",
         "showlegend": false,
         "x": [
          0.3151407778800166,
          0.23740745984172507,
          0.3155150198382144,
          0.3867876931850741,
          0.6151037453357748,
          0.5724990830748578,
          0.3371353837127071,
          0.39521979386300354
         ],
         "xaxis": "x",
         "y": [
          1.3075000000000014,
          1.7558333333333345,
          1.142500000000001,
          1.0608333333333333,
          0.0875,
          0.01,
          1.8450000000000015,
          0.7908333333333332
         ],
         "yaxis": "y",
         "type": "scatter"
        }
       ],
       "layout": {
        "template": {
         "data": {
          "histogram2dcontour": [
           {
            "type": "histogram2dcontour",
            "colorbar": {
             "outlinewidth": 0,
             "ticks": ""
            },
            "colorscale": [
             [
              0.0,
              "#0d0887"
             ],
             [
              0.1111111111111111,
              "#46039f"
             ],
             [
              0.2222222222222222,
              "#7201a8"
             ],
             [
              0.3333333333333333,
              "#9c179e"
             ],
             [
              0.4444444444444444,
              "#bd3786"
             ],
             [
              0.5555555555555556,
              "#d8576b"
             ],
             [
              0.6666666666666666,
              "#ed7953"
             ],
             [
              0.7777777777777778,
              "#fb9f3a"
             ],
             [
              0.8888888888888888,
              "#fdca26"
             ],
             [
              1.0,
              "#f0f921"
             ]
            ]
           }
          ],
          "choropleth": [
           {
            "type": "choropleth",
            "colorbar": {
             "outlinewidth": 0,
             "ticks": ""
            }
           }
          ],
          "histogram2d": [
           {
            "type": "histogram2d",
            "colorbar": {
             "outlinewidth": 0,
             "ticks": ""
            },
            "colorscale": [
             [
              0.0,
              "#0d0887"
             ],
             [
              0.1111111111111111,
              "#46039f"
             ],
             [
              0.2222222222222222,
              "#7201a8"
             ],
             [
              0.3333333333333333,
              "#9c179e"
             ],
             [
              0.4444444444444444,
              "#bd3786"
             ],
             [
              0.5555555555555556,
              "#d8576b"
             ],
             [
              0.6666666666666666,
              "#ed7953"
             ],
             [
              0.7777777777777778,
              "#fb9f3a"
             ],
             [
              0.8888888888888888,
              "#fdca26"
             ],
             [
              1.0,
              "#f0f921"
             ]
            ]
           }
          ],
          "heatmap": [
           {
            "type": "heatmap",
            "colorbar": {
             "outlinewidth": 0,
             "ticks": ""
            },
            "colorscale": [
             [
              0.0,
              "#0d0887"
             ],
             [
              0.1111111111111111,
              "#46039f"
             ],
             [
              0.2222222222222222,
              "#7201a8"
             ],
             [
              0.3333333333333333,
              "#9c179e"
             ],
             [
              0.4444444444444444,
              "#bd3786"
             ],
             [
              0.5555555555555556,
              "#d8576b"
             ],
             [
              0.6666666666666666,
              "#ed7953"
             ],
             [
              0.7777777777777778,
              "#fb9f3a"
             ],
             [
              0.8888888888888888,
              "#fdca26"
             ],
             [
              1.0,
              "#f0f921"
             ]
            ]
           }
          ],
          "heatmapgl": [
           {
            "type": "heatmapgl",
            "colorbar": {
             "outlinewidth": 0,
             "ticks": ""
            },
            "colorscale": [
             [
              0.0,
              "#0d0887"
             ],
             [
              0.1111111111111111,
              "#46039f"
             ],
             [
              0.2222222222222222,
              "#7201a8"
             ],
             [
              0.3333333333333333,
              "#9c179e"
             ],
             [
              0.4444444444444444,
              "#bd3786"
             ],
             [
              0.5555555555555556,
              "#d8576b"
             ],
             [
              0.6666666666666666,
              "#ed7953"
             ],
             [
              0.7777777777777778,
              "#fb9f3a"
             ],
             [
              0.8888888888888888,
              "#fdca26"
             ],
             [
              1.0,
              "#f0f921"
             ]
            ]
           }
          ],
          "contourcarpet": [
           {
            "type": "contourcarpet",
            "colorbar": {
             "outlinewidth": 0,
             "ticks": ""
            }
           }
          ],
          "contour": [
           {
            "type": "contour",
            "colorbar": {
             "outlinewidth": 0,
             "ticks": ""
            },
            "colorscale": [
             [
              0.0,
              "#0d0887"
             ],
             [
              0.1111111111111111,
              "#46039f"
             ],
             [
              0.2222222222222222,
              "#7201a8"
             ],
             [
              0.3333333333333333,
              "#9c179e"
             ],
             [
              0.4444444444444444,
              "#bd3786"
             ],
             [
              0.5555555555555556,
              "#d8576b"
             ],
             [
              0.6666666666666666,
              "#ed7953"
             ],
             [
              0.7777777777777778,
              "#fb9f3a"
             ],
             [
              0.8888888888888888,
              "#fdca26"
             ],
             [
              1.0,
              "#f0f921"
             ]
            ]
           }
          ],
          "surface": [
           {
            "type": "surface",
            "colorbar": {
             "outlinewidth": 0,
             "ticks": ""
            },
            "colorscale": [
             [
              0.0,
              "#0d0887"
             ],
             [
              0.1111111111111111,
              "#46039f"
             ],
             [
              0.2222222222222222,
              "#7201a8"
             ],
             [
              0.3333333333333333,
              "#9c179e"
             ],
             [
              0.4444444444444444,
              "#bd3786"
             ],
             [
              0.5555555555555556,
              "#d8576b"
             ],
             [
              0.6666666666666666,
              "#ed7953"
             ],
             [
              0.7777777777777778,
              "#fb9f3a"
             ],
             [
              0.8888888888888888,
              "#fdca26"
             ],
             [
              1.0,
              "#f0f921"
             ]
            ]
           }
          ],
          "mesh3d": [
           {
            "type": "mesh3d",
            "colorbar": {
             "outlinewidth": 0,
             "ticks": ""
            }
           }
          ],
          "scatter": [
           {
            "marker": {
             "line": {
              "color": "#283442"
             }
            },
            "type": "scatter"
           }
          ],
          "parcoords": [
           {
            "type": "parcoords",
            "line": {
             "colorbar": {
              "outlinewidth": 0,
              "ticks": ""
             }
            }
           }
          ],
          "scatterpolargl": [
           {
            "type": "scatterpolargl",
            "marker": {
             "colorbar": {
              "outlinewidth": 0,
              "ticks": ""
             }
            }
           }
          ],
          "bar": [
           {
            "error_x": {
             "color": "#f2f5fa"
            },
            "error_y": {
             "color": "#f2f5fa"
            },
            "marker": {
             "line": {
              "color": "rgb(17,17,17)",
              "width": 0.5
             },
             "pattern": {
              "fillmode": "overlay",
              "size": 10,
              "solidity": 0.2
             }
            },
            "type": "bar"
           }
          ],
          "scattergeo": [
           {
            "type": "scattergeo",
            "marker": {
             "colorbar": {
              "outlinewidth": 0,
              "ticks": ""
             }
            }
           }
          ],
          "scatterpolar": [
           {
            "type": "scatterpolar",
            "marker": {
             "colorbar": {
              "outlinewidth": 0,
              "ticks": ""
             }
            }
           }
          ],
          "histogram": [
           {
            "marker": {
             "pattern": {
              "fillmode": "overlay",
              "size": 10,
              "solidity": 0.2
             }
            },
            "type": "histogram"
           }
          ],
          "scattergl": [
           {
            "marker": {
             "line": {
              "color": "#283442"
             }
            },
            "type": "scattergl"
           }
          ],
          "scatter3d": [
           {
            "type": "scatter3d",
            "line": {
             "colorbar": {
              "outlinewidth": 0,
              "ticks": ""
             }
            },
            "marker": {
             "colorbar": {
              "outlinewidth": 0,
              "ticks": ""
             }
            }
           }
          ],
          "scattermapbox": [
           {
            "type": "scattermapbox",
            "marker": {
             "colorbar": {
              "outlinewidth": 0,
              "ticks": ""
             }
            }
           }
          ],
          "scatterternary": [
           {
            "type": "scatterternary",
            "marker": {
             "colorbar": {
              "outlinewidth": 0,
              "ticks": ""
             }
            }
           }
          ],
          "scattercarpet": [
           {
            "type": "scattercarpet",
            "marker": {
             "colorbar": {
              "outlinewidth": 0,
              "ticks": ""
             }
            }
           }
          ],
          "carpet": [
           {
            "aaxis": {
             "endlinecolor": "#A2B1C6",
             "gridcolor": "#506784",
             "linecolor": "#506784",
             "minorgridcolor": "#506784",
             "startlinecolor": "#A2B1C6"
            },
            "baxis": {
             "endlinecolor": "#A2B1C6",
             "gridcolor": "#506784",
             "linecolor": "#506784",
             "minorgridcolor": "#506784",
             "startlinecolor": "#A2B1C6"
            },
            "type": "carpet"
           }
          ],
          "table": [
           {
            "cells": {
             "fill": {
              "color": "#506784"
             },
             "line": {
              "color": "rgb(17,17,17)"
             }
            },
            "header": {
             "fill": {
              "color": "#2a3f5f"
             },
             "line": {
              "color": "rgb(17,17,17)"
             }
            },
            "type": "table"
           }
          ],
          "barpolar": [
           {
            "marker": {
             "line": {
              "color": "rgb(17,17,17)",
              "width": 0.5
             },
             "pattern": {
              "fillmode": "overlay",
              "size": 10,
              "solidity": 0.2
             }
            },
            "type": "barpolar"
           }
          ],
          "pie": [
           {
            "automargin": true,
            "type": "pie"
           }
          ]
         },
         "layout": {
          "autotypenumbers": "strict",
          "colorway": [
           "#636efa",
           "#EF553B",
           "#00cc96",
           "#ab63fa",
           "#FFA15A",
           "#19d3f3",
           "#FF6692",
           "#B6E880",
           "#FF97FF",
           "#FECB52"
          ],
          "font": {
           "color": "#f2f5fa"
          },
          "hovermode": "closest",
          "hoverlabel": {
           "align": "left"
          },
          "paper_bgcolor": "rgb(17,17,17)",
          "plot_bgcolor": "rgb(17,17,17)",
          "polar": {
           "bgcolor": "rgb(17,17,17)",
           "angularaxis": {
            "gridcolor": "#506784",
            "linecolor": "#506784",
            "ticks": ""
           },
           "radialaxis": {
            "gridcolor": "#506784",
            "linecolor": "#506784",
            "ticks": ""
           }
          },
          "ternary": {
           "bgcolor": "rgb(17,17,17)",
           "aaxis": {
            "gridcolor": "#506784",
            "linecolor": "#506784",
            "ticks": ""
           },
           "baxis": {
            "gridcolor": "#506784",
            "linecolor": "#506784",
            "ticks": ""
           },
           "caxis": {
            "gridcolor": "#506784",
            "linecolor": "#506784",
            "ticks": ""
           }
          },
          "coloraxis": {
           "colorbar": {
            "outlinewidth": 0,
            "ticks": ""
           }
          },
          "colorscale": {
           "sequential": [
            [
             0.0,
             "#0d0887"
            ],
            [
             0.1111111111111111,
             "#46039f"
            ],
            [
             0.2222222222222222,
             "#7201a8"
            ],
            [
             0.3333333333333333,
             "#9c179e"
            ],
            [
             0.4444444444444444,
             "#bd3786"
            ],
            [
             0.5555555555555556,
             "#d8576b"
            ],
            [
             0.6666666666666666,
             "#ed7953"
            ],
            [
             0.7777777777777778,
             "#fb9f3a"
            ],
            [
             0.8888888888888888,
             "#fdca26"
            ],
            [
             1.0,
             "#f0f921"
            ]
           ],
           "sequentialminus": [
            [
             0.0,
             "#0d0887"
            ],
            [
             0.1111111111111111,
             "#46039f"
            ],
            [
             0.2222222222222222,
             "#7201a8"
            ],
            [
             0.3333333333333333,
             "#9c179e"
            ],
            [
             0.4444444444444444,
             "#bd3786"
            ],
            [
             0.5555555555555556,
             "#d8576b"
            ],
            [
             0.6666666666666666,
             "#ed7953"
            ],
            [
             0.7777777777777778,
             "#fb9f3a"
            ],
            [
             0.8888888888888888,
             "#fdca26"
            ],
            [
             1.0,
             "#f0f921"
            ]
           ],
           "diverging": [
            [
             0,
             "#8e0152"
            ],
            [
             0.1,
             "#c51b7d"
            ],
            [
             0.2,
             "#de77ae"
            ],
            [
             0.3,
             "#f1b6da"
            ],
            [
             0.4,
             "#fde0ef"
            ],
            [
             0.5,
             "#f7f7f7"
            ],
            [
             0.6,
             "#e6f5d0"
            ],
            [
             0.7,
             "#b8e186"
            ],
            [
             0.8,
             "#7fbc41"
            ],
            [
             0.9,
             "#4d9221"
            ],
            [
             1,
             "#276419"
            ]
           ]
          },
          "xaxis": {
           "gridcolor": "#283442",
           "linecolor": "#506784",
           "ticks": "",
           "title": {
            "standoff": 15
           },
           "zerolinecolor": "#283442",
           "automargin": true,
           "zerolinewidth": 2
          },
          "yaxis": {
           "gridcolor": "#283442",
           "linecolor": "#506784",
           "ticks": "",
           "title": {
            "standoff": 15
           },
           "zerolinecolor": "#283442",
           "automargin": true,
           "zerolinewidth": 2
          },
          "scene": {
           "xaxis": {
            "backgroundcolor": "rgb(17,17,17)",
            "gridcolor": "#506784",
            "linecolor": "#506784",
            "showbackground": true,
            "ticks": "",
            "zerolinecolor": "#C8D4E3",
            "gridwidth": 2
           },
           "yaxis": {
            "backgroundcolor": "rgb(17,17,17)",
            "gridcolor": "#506784",
            "linecolor": "#506784",
            "showbackground": true,
            "ticks": "",
            "zerolinecolor": "#C8D4E3",
            "gridwidth": 2
           },
           "zaxis": {
            "backgroundcolor": "rgb(17,17,17)",
            "gridcolor": "#506784",
            "linecolor": "#506784",
            "showbackground": true,
            "ticks": "",
            "zerolinecolor": "#C8D4E3",
            "gridwidth": 2
           }
          },
          "shapedefaults": {
           "line": {
            "color": "#f2f5fa"
           }
          },
          "annotationdefaults": {
           "arrowcolor": "#f2f5fa",
           "arrowhead": 0,
           "arrowwidth": 1
          },
          "geo": {
           "bgcolor": "rgb(17,17,17)",
           "landcolor": "rgb(17,17,17)",
           "subunitcolor": "#506784",
           "showland": true,
           "showlakes": true,
           "lakecolor": "rgb(17,17,17)"
          },
          "title": {
           "x": 0.05
          },
          "updatemenudefaults": {
           "bgcolor": "#506784",
           "borderwidth": 0
          },
          "sliderdefaults": {
           "bgcolor": "#C8D4E3",
           "borderwidth": 1,
           "bordercolor": "rgb(17,17,17)",
           "tickwidth": 0
          },
          "mapbox": {
           "style": "dark"
          }
         }
        },
        "xaxis": {
         "anchor": "y",
         "domain": [
          0.0,
          1.0
         ],
         "title": {
          "text": "Initial error"
         }
        },
        "yaxis": {
         "anchor": "x",
         "domain": [
          0.0,
          1.0
         ],
         "title": {
          "text": "Influence"
         }
        },
        "legend": {
         "tracegroupgap": 0
        },
        "margin": {
         "t": 60
        }
       },
       "config": {
        "plotlyServerURL": "https://plot.ly"
       }
      },
      "text/html": [
       "<div>                            <div id=\"2cbae86b-8bb0-4ba6-9a2f-21204688afd3\" class=\"plotly-graph-div\" style=\"height:525px; width:100%;\"></div>            <script type=\"text/javascript\">                require([\"plotly\"], function(Plotly) {                    window.PLOTLYENV=window.PLOTLYENV || {};                                    if (document.getElementById(\"2cbae86b-8bb0-4ba6-9a2f-21204688afd3\")) {                    Plotly.newPlot(                        \"2cbae86b-8bb0-4ba6-9a2f-21204688afd3\",                        [{\"error_y\":{\"array\":[0.36868667064475125,0.2614741861063915,0.33774065494103606,0.6201315944575346,0.2011684617428886,0.06999999999999995,0.4579574216016157,0.5631625727383995]},\"hovertemplate\":\"Initial error=%{x}\\u003cbr\\u003eInfluence=%{y}\\u003cextra\\u003e\\u003c\\u002fextra\\u003e\",\"legendgroup\":\"\",\"marker\":{\"color\":\"#636efa\",\"symbol\":\"circle\"},\"mode\":\"markers\",\"name\":\"\",\"orientation\":\"v\",\"showlegend\":false,\"x\":[0.3151407778800166,0.23740745984172507,0.3155150198382144,0.3867876931850741,0.6151037453357748,0.5724990830748578,0.3371353837127071,0.39521979386300354],\"xaxis\":\"x\",\"y\":[1.3075000000000014,1.7558333333333345,1.142500000000001,1.0608333333333333,0.0875,0.01,1.8450000000000015,0.7908333333333332],\"yaxis\":\"y\",\"type\":\"scatter\"}],                        {\"template\":{\"data\":{\"histogram2dcontour\":[{\"type\":\"histogram2dcontour\",\"colorbar\":{\"outlinewidth\":0,\"ticks\":\"\"},\"colorscale\":[[0.0,\"#0d0887\"],[0.1111111111111111,\"#46039f\"],[0.2222222222222222,\"#7201a8\"],[0.3333333333333333,\"#9c179e\"],[0.4444444444444444,\"#bd3786\"],[0.5555555555555556,\"#d8576b\"],[0.6666666666666666,\"#ed7953\"],[0.7777777777777778,\"#fb9f3a\"],[0.8888888888888888,\"#fdca26\"],[1.0,\"#f0f921\"]]}],\"choropleth\":[{\"type\":\"choropleth\",\"colorbar\":{\"outlinewidth\":0,\"ticks\":\"\"}}],\"histogram2d\":[{\"type\":\"histogram2d\",\"colorbar\":{\"outlinewidth\":0,\"ticks\":\"\"},\"colorscale\":[[0.0,\"#0d0887\"],[0.1111111111111111,\"#46039f\"],[0.2222222222222222,\"#7201a8\"],[0.3333333333333333,\"#9c179e\"],[0.4444444444444444,\"#bd3786\"],[0.5555555555555556,\"#d8576b\"],[0.6666666666666666,\"#ed7953\"],[0.7777777777777778,\"#fb9f3a\"],[0.8888888888888888,\"#fdca26\"],[1.0,\"#f0f921\"]]}],\"heatmap\":[{\"type\":\"heatmap\",\"colorbar\":{\"outlinewidth\":0,\"ticks\":\"\"},\"colorscale\":[[0.0,\"#0d0887\"],[0.1111111111111111,\"#46039f\"],[0.2222222222222222,\"#7201a8\"],[0.3333333333333333,\"#9c179e\"],[0.4444444444444444,\"#bd3786\"],[0.5555555555555556,\"#d8576b\"],[0.6666666666666666,\"#ed7953\"],[0.7777777777777778,\"#fb9f3a\"],[0.8888888888888888,\"#fdca26\"],[1.0,\"#f0f921\"]]}],\"heatmapgl\":[{\"type\":\"heatmapgl\",\"colorbar\":{\"outlinewidth\":0,\"ticks\":\"\"},\"colorscale\":[[0.0,\"#0d0887\"],[0.1111111111111111,\"#46039f\"],[0.2222222222222222,\"#7201a8\"],[0.3333333333333333,\"#9c179e\"],[0.4444444444444444,\"#bd3786\"],[0.5555555555555556,\"#d8576b\"],[0.6666666666666666,\"#ed7953\"],[0.7777777777777778,\"#fb9f3a\"],[0.8888888888888888,\"#fdca26\"],[1.0,\"#f0f921\"]]}],\"contourcarpet\":[{\"type\":\"contourcarpet\",\"colorbar\":{\"outlinewidth\":0,\"ticks\":\"\"}}],\"contour\":[{\"type\":\"contour\",\"colorbar\":{\"outlinewidth\":0,\"ticks\":\"\"},\"colorscale\":[[0.0,\"#0d0887\"],[0.1111111111111111,\"#46039f\"],[0.2222222222222222,\"#7201a8\"],[0.3333333333333333,\"#9c179e\"],[0.4444444444444444,\"#bd3786\"],[0.5555555555555556,\"#d8576b\"],[0.6666666666666666,\"#ed7953\"],[0.7777777777777778,\"#fb9f3a\"],[0.8888888888888888,\"#fdca26\"],[1.0,\"#f0f921\"]]}],\"surface\":[{\"type\":\"surface\",\"colorbar\":{\"outlinewidth\":0,\"ticks\":\"\"},\"colorscale\":[[0.0,\"#0d0887\"],[0.1111111111111111,\"#46039f\"],[0.2222222222222222,\"#7201a8\"],[0.3333333333333333,\"#9c179e\"],[0.4444444444444444,\"#bd3786\"],[0.5555555555555556,\"#d8576b\"],[0.6666666666666666,\"#ed7953\"],[0.7777777777777778,\"#fb9f3a\"],[0.8888888888888888,\"#fdca26\"],[1.0,\"#f0f921\"]]}],\"mesh3d\":[{\"type\":\"mesh3d\",\"colorbar\":{\"outlinewidth\":0,\"ticks\":\"\"}}],\"scatter\":[{\"marker\":{\"line\":{\"color\":\"#283442\"}},\"type\":\"scatter\"}],\"parcoords\":[{\"type\":\"parcoords\",\"line\":{\"colorbar\":{\"outlinewidth\":0,\"ticks\":\"\"}}}],\"scatterpolargl\":[{\"type\":\"scatterpolargl\",\"marker\":{\"colorbar\":{\"outlinewidth\":0,\"ticks\":\"\"}}}],\"bar\":[{\"error_x\":{\"color\":\"#f2f5fa\"},\"error_y\":{\"color\":\"#f2f5fa\"},\"marker\":{\"line\":{\"color\":\"rgb(17,17,17)\",\"width\":0.5},\"pattern\":{\"fillmode\":\"overlay\",\"size\":10,\"solidity\":0.2}},\"type\":\"bar\"}],\"scattergeo\":[{\"type\":\"scattergeo\",\"marker\":{\"colorbar\":{\"outlinewidth\":0,\"ticks\":\"\"}}}],\"scatterpolar\":[{\"type\":\"scatterpolar\",\"marker\":{\"colorbar\":{\"outlinewidth\":0,\"ticks\":\"\"}}}],\"histogram\":[{\"marker\":{\"pattern\":{\"fillmode\":\"overlay\",\"size\":10,\"solidity\":0.2}},\"type\":\"histogram\"}],\"scattergl\":[{\"marker\":{\"line\":{\"color\":\"#283442\"}},\"type\":\"scattergl\"}],\"scatter3d\":[{\"type\":\"scatter3d\",\"line\":{\"colorbar\":{\"outlinewidth\":0,\"ticks\":\"\"}},\"marker\":{\"colorbar\":{\"outlinewidth\":0,\"ticks\":\"\"}}}],\"scattermapbox\":[{\"type\":\"scattermapbox\",\"marker\":{\"colorbar\":{\"outlinewidth\":0,\"ticks\":\"\"}}}],\"scatterternary\":[{\"type\":\"scatterternary\",\"marker\":{\"colorbar\":{\"outlinewidth\":0,\"ticks\":\"\"}}}],\"scattercarpet\":[{\"type\":\"scattercarpet\",\"marker\":{\"colorbar\":{\"outlinewidth\":0,\"ticks\":\"\"}}}],\"carpet\":[{\"aaxis\":{\"endlinecolor\":\"#A2B1C6\",\"gridcolor\":\"#506784\",\"linecolor\":\"#506784\",\"minorgridcolor\":\"#506784\",\"startlinecolor\":\"#A2B1C6\"},\"baxis\":{\"endlinecolor\":\"#A2B1C6\",\"gridcolor\":\"#506784\",\"linecolor\":\"#506784\",\"minorgridcolor\":\"#506784\",\"startlinecolor\":\"#A2B1C6\"},\"type\":\"carpet\"}],\"table\":[{\"cells\":{\"fill\":{\"color\":\"#506784\"},\"line\":{\"color\":\"rgb(17,17,17)\"}},\"header\":{\"fill\":{\"color\":\"#2a3f5f\"},\"line\":{\"color\":\"rgb(17,17,17)\"}},\"type\":\"table\"}],\"barpolar\":[{\"marker\":{\"line\":{\"color\":\"rgb(17,17,17)\",\"width\":0.5},\"pattern\":{\"fillmode\":\"overlay\",\"size\":10,\"solidity\":0.2}},\"type\":\"barpolar\"}],\"pie\":[{\"automargin\":true,\"type\":\"pie\"}]},\"layout\":{\"autotypenumbers\":\"strict\",\"colorway\":[\"#636efa\",\"#EF553B\",\"#00cc96\",\"#ab63fa\",\"#FFA15A\",\"#19d3f3\",\"#FF6692\",\"#B6E880\",\"#FF97FF\",\"#FECB52\"],\"font\":{\"color\":\"#f2f5fa\"},\"hovermode\":\"closest\",\"hoverlabel\":{\"align\":\"left\"},\"paper_bgcolor\":\"rgb(17,17,17)\",\"plot_bgcolor\":\"rgb(17,17,17)\",\"polar\":{\"bgcolor\":\"rgb(17,17,17)\",\"angularaxis\":{\"gridcolor\":\"#506784\",\"linecolor\":\"#506784\",\"ticks\":\"\"},\"radialaxis\":{\"gridcolor\":\"#506784\",\"linecolor\":\"#506784\",\"ticks\":\"\"}},\"ternary\":{\"bgcolor\":\"rgb(17,17,17)\",\"aaxis\":{\"gridcolor\":\"#506784\",\"linecolor\":\"#506784\",\"ticks\":\"\"},\"baxis\":{\"gridcolor\":\"#506784\",\"linecolor\":\"#506784\",\"ticks\":\"\"},\"caxis\":{\"gridcolor\":\"#506784\",\"linecolor\":\"#506784\",\"ticks\":\"\"}},\"coloraxis\":{\"colorbar\":{\"outlinewidth\":0,\"ticks\":\"\"}},\"colorscale\":{\"sequential\":[[0.0,\"#0d0887\"],[0.1111111111111111,\"#46039f\"],[0.2222222222222222,\"#7201a8\"],[0.3333333333333333,\"#9c179e\"],[0.4444444444444444,\"#bd3786\"],[0.5555555555555556,\"#d8576b\"],[0.6666666666666666,\"#ed7953\"],[0.7777777777777778,\"#fb9f3a\"],[0.8888888888888888,\"#fdca26\"],[1.0,\"#f0f921\"]],\"sequentialminus\":[[0.0,\"#0d0887\"],[0.1111111111111111,\"#46039f\"],[0.2222222222222222,\"#7201a8\"],[0.3333333333333333,\"#9c179e\"],[0.4444444444444444,\"#bd3786\"],[0.5555555555555556,\"#d8576b\"],[0.6666666666666666,\"#ed7953\"],[0.7777777777777778,\"#fb9f3a\"],[0.8888888888888888,\"#fdca26\"],[1.0,\"#f0f921\"]],\"diverging\":[[0,\"#8e0152\"],[0.1,\"#c51b7d\"],[0.2,\"#de77ae\"],[0.3,\"#f1b6da\"],[0.4,\"#fde0ef\"],[0.5,\"#f7f7f7\"],[0.6,\"#e6f5d0\"],[0.7,\"#b8e186\"],[0.8,\"#7fbc41\"],[0.9,\"#4d9221\"],[1,\"#276419\"]]},\"xaxis\":{\"gridcolor\":\"#283442\",\"linecolor\":\"#506784\",\"ticks\":\"\",\"title\":{\"standoff\":15},\"zerolinecolor\":\"#283442\",\"automargin\":true,\"zerolinewidth\":2},\"yaxis\":{\"gridcolor\":\"#283442\",\"linecolor\":\"#506784\",\"ticks\":\"\",\"title\":{\"standoff\":15},\"zerolinecolor\":\"#283442\",\"automargin\":true,\"zerolinewidth\":2},\"scene\":{\"xaxis\":{\"backgroundcolor\":\"rgb(17,17,17)\",\"gridcolor\":\"#506784\",\"linecolor\":\"#506784\",\"showbackground\":true,\"ticks\":\"\",\"zerolinecolor\":\"#C8D4E3\",\"gridwidth\":2},\"yaxis\":{\"backgroundcolor\":\"rgb(17,17,17)\",\"gridcolor\":\"#506784\",\"linecolor\":\"#506784\",\"showbackground\":true,\"ticks\":\"\",\"zerolinecolor\":\"#C8D4E3\",\"gridwidth\":2},\"zaxis\":{\"backgroundcolor\":\"rgb(17,17,17)\",\"gridcolor\":\"#506784\",\"linecolor\":\"#506784\",\"showbackground\":true,\"ticks\":\"\",\"zerolinecolor\":\"#C8D4E3\",\"gridwidth\":2}},\"shapedefaults\":{\"line\":{\"color\":\"#f2f5fa\"}},\"annotationdefaults\":{\"arrowcolor\":\"#f2f5fa\",\"arrowhead\":0,\"arrowwidth\":1},\"geo\":{\"bgcolor\":\"rgb(17,17,17)\",\"landcolor\":\"rgb(17,17,17)\",\"subunitcolor\":\"#506784\",\"showland\":true,\"showlakes\":true,\"lakecolor\":\"rgb(17,17,17)\"},\"title\":{\"x\":0.05},\"updatemenudefaults\":{\"bgcolor\":\"#506784\",\"borderwidth\":0},\"sliderdefaults\":{\"bgcolor\":\"#C8D4E3\",\"borderwidth\":1,\"bordercolor\":\"rgb(17,17,17)\",\"tickwidth\":0},\"mapbox\":{\"style\":\"dark\"}}},\"xaxis\":{\"anchor\":\"y\",\"domain\":[0.0,1.0],\"title\":{\"text\":\"Initial error\"}},\"yaxis\":{\"anchor\":\"x\",\"domain\":[0.0,1.0],\"title\":{\"text\":\"Influence\"}},\"legend\":{\"tracegroupgap\":0},\"margin\":{\"t\":60}},                        {\"responsive\": true}                    ).then(function(){\n",
       "                            \n",
       "var gd = document.getElementById('2cbae86b-8bb0-4ba6-9a2f-21204688afd3');\n",
       "var x = new MutationObserver(function (mutations, observer) {{\n",
       "        var display = window.getComputedStyle(gd).display;\n",
       "        if (!display || display === 'none') {{\n",
       "            console.log([gd, 'removed!']);\n",
       "            Plotly.purge(gd);\n",
       "            observer.disconnect();\n",
       "        }}\n",
       "}});\n",
       "\n",
       "// Listen for the removal of the full notebook cells\n",
       "var notebookContainer = gd.closest('#notebook-container');\n",
       "if (notebookContainer) {{\n",
       "    x.observe(notebookContainer, {childList: true});\n",
       "}}\n",
       "\n",
       "// Listen for the clearing of the current output cell\n",
       "var outputEl = gd.closest('.output');\n",
       "if (outputEl) {{\n",
       "    x.observe(outputEl, {childList: true});\n",
       "}}\n",
       "\n",
       "                        })                };                });            </script>        </div>"
      ]
     },
     "metadata": {},
     "output_type": "display_data"
    }
   ],
   "execution_count": 202
  },
  {
   "metadata": {
    "ExecuteTime": {
     "end_time": "2024-07-29T17:11:09.764748Z",
     "start_time": "2024-07-29T17:11:09.627069Z"
    }
   },
   "cell_type": "code",
   "source": [
    "belief_evol = []\n",
    "did_not_converge = 0\n",
    "total = 0\n",
    "for i, r in enumerate(results):\n",
    "    for t in r.trajectory:\n",
    "        total += 1\n",
    "        belief = r.trajectory[t]['final_belief']\n",
    "        if np.max(sp.spatial.distance.pdist(belief.reshape(-1,1), metric='euclidean')) > 1e-5:\n",
    "            did_not_converge += 1\n",
    "\n",
    "        belief_evol.append({'belief': np.mean(belief), 'result': f'Res{i}', 'iteration': t})\n",
    "\n",
    "print('Did not converge share:', did_not_converge / total)\n",
    "belief_evol = pd.DataFrame(belief_evol).sort_values('belief', ascending=False)\n",
    "fig = px.scatter(belief_evol, x='iteration', y='belief', color='result', render_mode='svg')\n",
    "fig.add_trace(go.Scatter(x=[0, belief_evol['iteration'].max()], y=[correct_belief, correct_belief], mode='lines', name='Correct belief'))\n",
    "fig.show()"
   ],
   "id": "85b41101121fbf0",
   "outputs": [
    {
     "name": "stdout",
     "output_type": "stream",
     "text": [
      "Did not converge share: 1.0\n"
     ]
    },
    {
     "data": {
      "application/vnd.plotly.v1+json": {
       "data": [
        {
         "hovertemplate": "result=Res60<br>iteration=%{x}<br>belief=%{y}<extra></extra>",
         "legendgroup": "Res60",
         "marker": {
          "color": "#636efa",
          "symbol": "circle"
         },
         "mode": "markers",
         "name": "Res60",
         "orientation": "v",
         "showlegend": true,
         "x": [
          315,
          167,
          145,
          135,
          106,
          73,
          69,
          67,
          49,
          43,
          15,
          11,
          9,
          5,
          1,
          0
         ],
         "xaxis": "x",
         "y": [
          0.6474057570059042,
          0.6452313186169402,
          0.644233498271503,
          0.6428946323404403,
          0.6400216194711801,
          0.6368301550039572,
          0.610088676166681,
          0.6066244220811384,
          0.6055832553454072,
          0.6022069989317915,
          0.6010542997853471,
          0.5786235636634287,
          0.5740684499026809,
          0.5681195683237987,
          0.5658881497607906,
          0.5442540575141825
         ],
         "yaxis": "y",
         "type": "scatter"
        },
        {
         "hovertemplate": "result=Res91<br>iteration=%{x}<br>belief=%{y}<extra></extra>",
         "legendgroup": "Res91",
         "marker": {
          "color": "#EF553B",
          "symbol": "circle"
         },
         "mode": "markers",
         "name": "Res91",
         "orientation": "v",
         "showlegend": true,
         "x": [
          1380,
          1249,
          985,
          873,
          856,
          583,
          547,
          541,
          407,
          273,
          188,
          184,
          182,
          169,
          144,
          66,
          40,
          36,
          32,
          28,
          21,
          14,
          9,
          7,
          6,
          5,
          3,
          0
         ],
         "xaxis": "x",
         "y": [
          0.6474057570059042,
          0.6473706718223231,
          0.6455104587305588,
          0.6426078906245796,
          0.6425650087335361,
          0.6413388589481976,
          0.6407158451620516,
          0.6407099976314548,
          0.640342428608546,
          0.638743947468044,
          0.6383746848045614,
          0.6350869278457847,
          0.632993577901055,
          0.6325144190466129,
          0.6325114952813145,
          0.6279965207572922,
          0.6257929098670844,
          0.6172220586507968,
          0.6126566567288073,
          0.604010890012334,
          0.5971830275683745,
          0.5945425391813721,
          0.594098878751141,
          0.59267604327407,
          0.5869983876002004,
          0.5745741625170673,
          0.5618868049456618,
          0.551227424159439
         ],
         "yaxis": "y",
         "type": "scatter"
        },
        {
         "hovertemplate": "result=Res49<br>iteration=%{x}<br>belief=%{y}<extra></extra>",
         "legendgroup": "Res49",
         "marker": {
          "color": "#00cc96",
          "symbol": "circle"
         },
         "mode": "markers",
         "name": "Res49",
         "orientation": "v",
         "showlegend": true,
         "x": [
          1310,
          1139,
          1042,
          992,
          897,
          740,
          498,
          321,
          309,
          285,
          242,
          175,
          88,
          70,
          66,
          55,
          52,
          50,
          41,
          15,
          12,
          10,
          7,
          4,
          2,
          0
         ],
         "xaxis": "x",
         "y": [
          0.6474057570059042,
          0.6460698148401398,
          0.6460668910748414,
          0.6459610888456992,
          0.6454338941544009,
          0.6445692940959786,
          0.6427032334736176,
          0.6407762696448855,
          0.638080771717109,
          0.6376988576903253,
          0.6360716168570653,
          0.6357337986715262,
          0.6348957439013057,
          0.6333613983975946,
          0.6306759947233578,
          0.6304832501496918,
          0.6186810592239733,
          0.610917435804643,
          0.6063096668986426,
          0.6059620255593465,
          0.5984431939171294,
          0.5898457000356994,
          0.5898290623895712,
          0.585843152321059,
          0.5811726223274607,
          0.578226176310474
         ],
         "yaxis": "y",
         "type": "scatter"
        },
        {
         "hovertemplate": "result=Res11<br>iteration=%{x}<br>belief=%{y}<extra></extra>",
         "legendgroup": "Res11",
         "marker": {
          "color": "#ab63fa",
          "symbol": "circle"
         },
         "mode": "markers",
         "name": "Res11",
         "orientation": "v",
         "showlegend": true,
         "x": [
          654,
          640,
          614,
          531,
          524,
          486,
          456,
          266,
          260,
          219,
          207,
          131,
          100,
          80,
          75,
          62,
          57,
          38,
          24,
          22,
          12,
          7,
          4,
          2,
          1,
          0
         ],
         "xaxis": "x",
         "y": [
          0.6474057570059042,
          0.6455455439141399,
          0.6454368179196993,
          0.6436853308223756,
          0.641471881698596,
          0.6414660341679992,
          0.6408400966165548,
          0.640834249085958,
          0.6399041425400759,
          0.639411792322099,
          0.6393781121304418,
          0.638860900573438,
          0.635948366599199,
          0.6280941990328992,
          0.6262762843312722,
          0.6236043999997435,
          0.6226483146886554,
          0.6128357061968204,
          0.6111140596457828,
          0.6040715280104147,
          0.595241211472677,
          0.5900054048596592,
          0.5803099804211691,
          0.5533478212960294,
          0.5388070555457224,
          0.5344313477895714
         ],
         "yaxis": "y",
         "type": "scatter"
        },
        {
         "hovertemplate": "result=Res83<br>iteration=%{x}<br>belief=%{y}<extra></extra>",
         "legendgroup": "Res83",
         "marker": {
          "color": "#FFA15A",
          "symbol": "circle"
         },
         "mode": "markers",
         "name": "Res83",
         "orientation": "v",
         "showlegend": true,
         "x": [
          716,
          657,
          638,
          533,
          294,
          252,
          165,
          157,
          145,
          61,
          60,
          59,
          49,
          29,
          22,
          16,
          3,
          1,
          0
         ],
         "xaxis": "x",
         "y": [
          0.6474057570059042,
          0.6473706718223231,
          0.6468661576153147,
          0.6450059445235505,
          0.6426864423450762,
          0.6425153201810068,
          0.6356371984182342,
          0.6260478333659735,
          0.621877411715557,
          0.6211898008922031,
          0.620463306603745,
          0.6185010086987395,
          0.6096596389969466,
          0.6090448245649274,
          0.6058217085315255,
          0.6050786660033798,
          0.5969304291546316,
          0.5738086096881045,
          0.5679434141376563
         ],
         "yaxis": "y",
         "type": "scatter"
        },
        {
         "hovertemplate": "result=Res5<br>iteration=%{x}<br>belief=%{y}<extra></extra>",
         "legendgroup": "Res5",
         "marker": {
          "color": "#19d3f3",
          "symbol": "circle"
         },
         "mode": "markers",
         "name": "Res5",
         "orientation": "v",
         "showlegend": true,
         "x": [
          831,
          704,
          539,
          480,
          341,
          283,
          233,
          132,
          72,
          58,
          40,
          36,
          20,
          16,
          11,
          6,
          3,
          0
         ],
         "xaxis": "x",
         "y": [
          0.6473706718223231,
          0.647264869593181,
          0.6467603553861726,
          0.6448942947638114,
          0.6447641074257218,
          0.6421884967290621,
          0.6384519734532087,
          0.6347175108603568,
          0.6332561302606339,
          0.6262126746217481,
          0.6229203457211459,
          0.6146488632284692,
          0.6100585830227653,
          0.5894613728259351,
          0.5882836413884738,
          0.5853844052256573,
          0.5824827621529647,
          0.5824074640295418
         ],
         "yaxis": "y",
         "type": "scatter"
        },
        {
         "hovertemplate": "result=Res42<br>iteration=%{x}<br>belief=%{y}<extra></extra>",
         "legendgroup": "Res42",
         "marker": {
          "color": "#FF6692",
          "symbol": "circle"
         },
         "mode": "markers",
         "name": "Res42",
         "orientation": "v",
         "showlegend": true,
         "x": [
          875,
          803,
          683,
          614,
          570,
          554,
          395,
          223,
          201,
          173,
          79,
          60,
          55,
          44,
          32,
          27,
          22,
          20,
          19,
          13,
          7,
          5,
          1,
          0
         ],
         "xaxis": "x",
         "y": [
          0.6473706718223231,
          0.6468661576153147,
          0.6452313186169402,
          0.6452144257507715,
          0.6433483651284104,
          0.642530846358049,
          0.6413813569327456,
          0.6405038534947116,
          0.6398681883452646,
          0.6374756060970516,
          0.6374068065452069,
          0.6373543560776905,
          0.6301295494518376,
          0.6295087961847252,
          0.6153820670780424,
          0.6045553990860684,
          0.6036469165872075,
          0.5959685513557414,
          0.5936910683576876,
          0.581932930194138,
          0.5786290142264592,
          0.5661250711192243,
          0.5573076069608202,
          0.554450954184438
         ],
         "yaxis": "y",
         "type": "scatter"
        },
        {
         "hovertemplate": "result=Res89<br>iteration=%{x}<br>belief=%{y}<extra></extra>",
         "legendgroup": "Res89",
         "marker": {
          "color": "#B6E880",
          "symbol": "circle"
         },
         "mode": "markers",
         "name": "Res89",
         "orientation": "v",
         "showlegend": true,
         "x": [
          1176,
          1058,
          923,
          758,
          503,
          440,
          414,
          407,
          404,
          373,
          363,
          231,
          154,
          149,
          127,
          121,
          117,
          104,
          58,
          57,
          22,
          15,
          6,
          0
         ],
         "xaxis": "x",
         "y": [
          0.6472970310114636,
          0.6459610888456992,
          0.6455503985699784,
          0.6454416725755379,
          0.6445115660296556,
          0.6409107084166578,
          0.6405390241881785,
          0.6403679020241091,
          0.6403453840512776,
          0.640011589114821,
          0.6398622949499378,
          0.6363050258785189,
          0.6351702956693623,
          0.6330769232902038,
          0.6272046350943417,
          0.6260589848629392,
          0.6254441704309199,
          0.6248000516291338,
          0.6229537017390697,
          0.6181046374839563,
          0.6148614362398794,
          0.6043752272514413,
          0.5935578509826616,
          0.5625595775508481
         ],
         "yaxis": "y",
         "type": "scatter"
        },
        {
         "hovertemplate": "result=Res57<br>iteration=%{x}<br>belief=%{y}<extra></extra>",
         "legendgroup": "Res57",
         "marker": {
          "color": "#FF97FF",
          "symbol": "circle"
         },
         "mode": "markers",
         "name": "Res57",
         "orientation": "v",
         "showlegend": true,
         "x": [
          1174,
          945,
          901,
          686,
          660,
          517,
          462,
          397,
          339,
          333,
          265,
          259,
          229,
          213,
          131,
          115,
          93,
          44,
          43,
          42,
          25,
          23,
          20,
          15,
          9,
          6,
          3,
          2,
          1,
          0
         ],
         "xaxis": "x",
         "y": [
          0.6466591647583791,
          0.64525442304077,
          0.6448250569088457,
          0.6447350067706087,
          0.6413496946632855,
          0.6411839703936153,
          0.6411410885025717,
          0.6411241956364031,
          0.6403179804525746,
          0.6402780540099787,
          0.6402071124940856,
          0.6401123952814396,
          0.6378293793916991,
          0.6377662348995199,
          0.6374225691833841,
          0.6365446306824125,
          0.6347724063684435,
          0.6339949371999081,
          0.6316550235233214,
          0.6309681755221985,
          0.6294290242910406,
          0.6248850193757112,
          0.6225941552022122,
          0.5981638636704036,
          0.5961011690725384,
          0.580948362693012,
          0.5632835972715469,
          0.5545461109483798,
          0.5513282097123612,
          0.5465239657482821
         ],
         "yaxis": "y",
         "type": "scatter"
        },
        {
         "hovertemplate": "result=Res24<br>iteration=%{x}<br>belief=%{y}<extra></extra>",
         "legendgroup": "Res24",
         "marker": {
          "color": "#FECB52",
          "symbol": "circle"
         },
         "mode": "markers",
         "name": "Res24",
         "orientation": "v",
         "showlegend": true,
         "x": [
          793,
          771,
          507,
          395,
          226,
          219,
          205,
          163,
          138,
          115,
          95,
          94,
          91,
          88,
          51,
          34,
          31,
          29,
          26,
          10,
          2,
          0
         ],
         "xaxis": "x",
         "y": [
          0.6466591647583791,
          0.6446613525629253,
          0.644618502355031,
          0.6422177783049935,
          0.6399782545220332,
          0.6396546026901552,
          0.6396117207991117,
          0.6385447972670415,
          0.6367211379327582,
          0.6343186061040851,
          0.6315731784124785,
          0.6308599297937828,
          0.6271316430118827,
          0.6263618331390133,
          0.6179196299650067,
          0.615912987435689,
          0.6136848783612208,
          0.610466690111586,
          0.6085908484777425,
          0.6071875470702307,
          0.5971364735758328,
          0.5866804137395064
         ],
         "yaxis": "y",
         "type": "scatter"
        },
        {
         "hovertemplate": "result=Res97<br>iteration=%{x}<br>belief=%{y}<extra></extra>",
         "legendgroup": "Res97",
         "marker": {
          "color": "#636efa",
          "symbol": "circle"
         },
         "mode": "markers",
         "name": "Res97",
         "orientation": "v",
         "showlegend": true,
         "x": [
          978,
          682,
          655,
          592,
          532,
          388,
          276,
          243,
          217,
          206,
          181,
          125,
          120,
          85,
          81,
          75,
          74,
          72,
          56,
          48,
          42,
          37,
          21,
          16,
          15,
          9,
          8,
          7,
          3,
          2,
          1,
          0
         ],
         "xaxis": "x",
         "y": [
          0.6466591647583791,
          0.64525442304077,
          0.6447350067706087,
          0.6439229440561833,
          0.6429269617237549,
          0.6403290574712956,
          0.6401479473280416,
          0.6390406814531953,
          0.6381006735629207,
          0.6342636677067106,
          0.6339725615101461,
          0.6331471088585835,
          0.6313564053949773,
          0.6303534267589133,
          0.6297085943876244,
          0.6276263301874324,
          0.6223823265861977,
          0.6221038037837499,
          0.6219720522106572,
          0.6208770035126063,
          0.6083999410072252,
          0.6020768650388382,
          0.6015329802408529,
          0.5913890447878507,
          0.5884781303481801,
          0.5822717163265114,
          0.5768923935977042,
          0.5710507551201403,
          0.5585844577004457,
          0.5569154323757205,
          0.5480164015072334,
          0.5350633460575456
         ],
         "yaxis": "y",
         "type": "scatter"
        },
        {
         "hovertemplate": "result=Res38<br>iteration=%{x}<br>belief=%{y}<extra></extra>",
         "legendgroup": "Res38",
         "marker": {
          "color": "#EF553B",
          "symbol": "circle"
         },
         "mode": "markers",
         "name": "Res38",
         "orientation": "v",
         "showlegend": true,
         "x": [
          707,
          596,
          410,
          209,
          205,
          161,
          46,
          33,
          22,
          18,
          14,
          9,
          2,
          1,
          0
         ],
         "xaxis": "x",
         "y": [
          0.6466163145504848,
          0.6446243498856279,
          0.6438068311152666,
          0.6408606909182523,
          0.638051207483034,
          0.636185146860673,
          0.6349647162357277,
          0.6259753409368061,
          0.6197335593094513,
          0.6191569942782873,
          0.6125275401384997,
          0.6061921033262974,
          0.593549277731847,
          0.5736745915096939,
          0.5674694604560304
         ],
         "yaxis": "y",
         "type": "scatter"
        },
        {
         "hovertemplate": "result=Res33<br>iteration=%{x}<br>belief=%{y}<extra></extra>",
         "legendgroup": "Res33",
         "marker": {
          "color": "#00cc96",
          "symbol": "circle"
         },
         "mode": "markers",
         "name": "Res33",
         "orientation": "v",
         "showlegend": true,
         "x": [
          1263,
          1184,
          912,
          665,
          587,
          534,
          527,
          523,
          473,
          449,
          429,
          257,
          216,
          187,
          79,
          78,
          70,
          49,
          46,
          33,
          31,
          20,
          7,
          6,
          4,
          2,
          0
         ],
         "xaxis": "x",
         "y": [
          0.6465841531322023,
          0.6451794114145931,
          0.6450361316146165,
          0.6449398579797473,
          0.6449369342144489,
          0.6440068276685668,
          0.6438357055044972,
          0.6431383177694636,
          0.6418946563783313,
          0.6412160216953608,
          0.6409303150221699,
          0.6393662186810889,
          0.6384007875898574,
          0.6381843284757345,
          0.6372992469989709,
          0.6370584730448065,
          0.6358648877782583,
          0.6307938070590438,
          0.6149068443189653,
          0.6102532170849673,
          0.5991437579436325,
          0.5916360139791984,
          0.5891016138405736,
          0.5762440593842935,
          0.5693588370492,
          0.5667773562133179,
          0.5606739097617774
         ],
         "yaxis": "y",
         "type": "scatter"
        },
        {
         "hovertemplate": "result=Res37<br>iteration=%{x}<br>belief=%{y}<extra></extra>",
         "legendgroup": "Res37",
         "marker": {
          "color": "#ab63fa",
          "symbol": "circle"
         },
         "mode": "markers",
         "name": "Res37",
         "orientation": "v",
         "showlegend": true,
         "x": [
          1215,
          935,
          648,
          433,
          421,
          351,
          342,
          287,
          217,
          215,
          204,
          201,
          196,
          188,
          187,
          172,
          150,
          103,
          64,
          47,
          46,
          43,
          32,
          28,
          11,
          9,
          5,
          3,
          0
         ],
         "xaxis": "x",
         "y": [
          0.6460668910748414,
          0.6459610888456992,
          0.6454338941544009,
          0.6452222896961166,
          0.6452193659308181,
          0.6412865171214428,
          0.6404689983510815,
          0.6401194851043489,
          0.6392728444091644,
          0.6382340118688417,
          0.638102260295749,
          0.6365798653895237,
          0.6341921768336218,
          0.633340052570052,
          0.632018320688092,
          0.6299219204748716,
          0.6274375232711981,
          0.6247748371787625,
          0.6072158345842402,
          0.6069611081316949,
          0.6069380059901419,
          0.6043271606043099,
          0.6021188407856417,
          0.5997774352151635,
          0.5929098457434973,
          0.5914699453455358,
          0.5879204729815792,
          0.5755818206126695,
          0.5494607245945413
         ],
         "yaxis": "y",
         "type": "scatter"
        },
        {
         "hovertemplate": "result=Res9<br>iteration=%{x}<br>belief=%{y}<extra></extra>",
         "legendgroup": "Res9",
         "marker": {
          "color": "#FFA15A",
          "symbol": "circle"
         },
         "mode": "markers",
         "name": "Res9",
         "orientation": "v",
         "showlegend": true,
         "x": [
          910,
          863,
          769,
          497,
          452,
          372,
          305,
          297,
          265,
          229,
          194,
          182,
          180,
          174,
          149,
          135,
          109,
          103,
          97,
          88,
          66,
          63,
          57,
          54,
          21,
          10,
          1,
          0
         ],
         "xaxis": "x",
         "y": [
          0.6460668910748414,
          0.6445027947337605,
          0.6431476146620458,
          0.642134042265466,
          0.6398650697885211,
          0.6387833935945484,
          0.6370426311546937,
          0.6366272691956482,
          0.6362813874367212,
          0.6347665337016666,
          0.6331826879438356,
          0.6328752676066194,
          0.632692578113341,
          0.6320498071784381,
          0.6312551950993154,
          0.6305394933292656,
          0.6288194042934256,
          0.6251209111311676,
          0.6249055213703791,
          0.623685090745434,
          0.6147206147820171,
          0.611755837495873,
          0.6108876699364109,
          0.6033553663458571,
          0.6012758751004444,
          0.5984421313702248,
          0.5792722810027573,
          0.571446523950557
         ],
         "yaxis": "y",
         "type": "scatter"
        },
        {
         "hovertemplate": "result=Res20<br>iteration=%{x}<br>belief=%{y}<extra></extra>",
         "legendgroup": "Res20",
         "marker": {
          "color": "#19d3f3",
          "symbol": "circle"
         },
         "mode": "markers",
         "name": "Res20",
         "orientation": "v",
         "showlegend": true,
         "x": [
          719,
          477,
          467,
          439,
          400,
          339,
          233,
          205,
          168,
          147,
          137,
          116,
          115,
          90,
          56,
          44,
          27,
          23,
          22,
          20,
          19,
          18,
          11,
          4,
          1,
          0
         ],
         "xaxis": "x",
         "y": [
          0.6457866165148948,
          0.645656429176805,
          0.6448213657028512,
          0.6447126397084106,
          0.644700944647217,
          0.64295972756653,
          0.6408692252058965,
          0.640356310385922,
          0.6394935660420702,
          0.6394057316600085,
          0.6361640966054203,
          0.6305722815779289,
          0.629931897317408,
          0.6255691375407547,
          0.6246680245538491,
          0.6244546334671881,
          0.6186262249754677,
          0.6081708063369171,
          0.6076500948094802,
          0.6063969110078804,
          0.6050230044619274,
          0.6039421590023876,
          0.5880451649097086,
          0.5865852287014328,
          0.5838725967486957,
          0.5665962238645987
         ],
         "yaxis": "y",
         "type": "scatter"
        },
        {
         "hovertemplate": "result=Res74<br>iteration=%{x}<br>belief=%{y}<extra></extra>",
         "legendgroup": "Res74",
         "marker": {
          "color": "#FF6692",
          "symbol": "circle"
         },
         "mode": "markers",
         "name": "Res74",
         "orientation": "v",
         "showlegend": true,
         "x": [
          990,
          747,
          723,
          693,
          655,
          578,
          318,
          314,
          279,
          226,
          203,
          199,
          181,
          137,
          129,
          126,
          119,
          77,
          47,
          27,
          15,
          11,
          8,
          3,
          0
         ],
         "xaxis": "x",
         "y": [
          0.6457866165148948,
          0.6447884925346693,
          0.6446407604929871,
          0.6445105731548975,
          0.6426445125325363,
          0.6425545441842012,
          0.6423935549581243,
          0.6401028248495952,
          0.6381775180887861,
          0.6375757614432767,
          0.6375128094220288,
          0.6374477019537126,
          0.6343966739678244,
          0.6314803323922267,
          0.6259428265919089,
          0.623483122982733,
          0.6226841293473531,
          0.6184651557841917,
          0.6129581837316952,
          0.6120756416403474,
          0.6052973722706936,
          0.5953432740415678,
          0.5915483759922227,
          0.5859193020216299,
          0.5489433779265728
         ],
         "yaxis": "y",
         "type": "scatter"
        },
        {
         "hovertemplate": "result=Res12<br>iteration=%{x}<br>belief=%{y}<extra></extra>",
         "legendgroup": "Res12",
         "marker": {
          "color": "#B6E880",
          "symbol": "circle"
         },
         "mode": "markers",
         "name": "Res12",
         "orientation": "v",
         "showlegend": true,
         "x": [
          956,
          828,
          792,
          665,
          626,
          509,
          443,
          423,
          267,
          216,
          182,
          169,
          160,
          109,
          96,
          83,
          74,
          71,
          63,
          58,
          50,
          45,
          39,
          30,
          25,
          20,
          17,
          16,
          10,
          9,
          8,
          6,
          4,
          3,
          0
         ],
         "xaxis": "x",
         "y": [
          0.6457866165148948,
          0.6437962160850408,
          0.6435546715343708,
          0.642961152611087,
          0.6427437006222058,
          0.6409293746632778,
          0.6382516428011522,
          0.6382220123935255,
          0.6380419121170514,
          0.6369091127984349,
          0.635456603196344,
          0.6342646925685548,
          0.6341995988995099,
          0.626222191137821,
          0.6257135970456222,
          0.6237384373214134,
          0.6231609140800914,
          0.6217402744633934,
          0.6167759434718932,
          0.6156149178615345,
          0.6130994643881791,
          0.612199697708552,
          0.611413967247973,
          0.607256270663511,
          0.6028595114841817,
          0.5971784800696776,
          0.5944358863856998,
          0.593215616016564,
          0.5841825000376288,
          0.5762996820408954,
          0.5732390343991813,
          0.571661564132235,
          0.5669252102739462,
          0.5455897192028127,
          0.5445716433235199
         ],
         "yaxis": "y",
         "type": "scatter"
        },
        {
         "hovertemplate": "result=Res43<br>iteration=%{x}<br>belief=%{y}<extra></extra>",
         "legendgroup": "Res43",
         "marker": {
          "color": "#FF97FF",
          "symbol": "circle"
         },
         "mode": "markers",
         "name": "Res43",
         "orientation": "v",
         "showlegend": true,
         "x": [
          1083,
          879,
          579,
          463,
          361,
          348,
          285,
          146,
          122,
          50,
          40,
          22,
          15,
          11,
          9,
          8,
          6,
          5,
          0
         ],
         "xaxis": "x",
         "y": [
          0.6457866165148948,
          0.6456388844732126,
          0.6456154943508252,
          0.6448096706416575,
          0.6410472129468573,
          0.6407997982569651,
          0.6400228081611173,
          0.6389282651119458,
          0.6383756067629555,
          0.6376040098398661,
          0.635861377457314,
          0.6163246776637803,
          0.6031927227874304,
          0.5987322380609221,
          0.5917141370976933,
          0.5864937031751707,
          0.5779394525264443,
          0.5775616754252565,
          0.5767380908846468
         ],
         "yaxis": "y",
         "type": "scatter"
        },
        {
         "hovertemplate": "result=Res18<br>iteration=%{x}<br>belief=%{y}<extra></extra>",
         "legendgroup": "Res18",
         "marker": {
          "color": "#FECB52",
          "symbol": "circle"
         },
         "mode": "markers",
         "name": "Res18",
         "orientation": "v",
         "showlegend": true,
         "x": [
          1088,
          915,
          825,
          650,
          633,
          582,
          546,
          518,
          429,
          390,
          241,
          225,
          209,
          191,
          175,
          174,
          156,
          141,
          106,
          49,
          20,
          18,
          7,
          3,
          2,
          1,
          0
         ],
         "xaxis": "x",
         "y": [
          0.6457866165148948,
          0.6455450719642248,
          0.6450361316146165,
          0.644327484893167,
          0.6436163705838657,
          0.6434861832457759,
          0.6431095342535023,
          0.6430666840456079,
          0.6428295402284402,
          0.6416508110383506,
          0.6413492382317313,
          0.6403503321340044,
          0.6383525199385507,
          0.6378356286206242,
          0.6342181646003495,
          0.6311002012336644,
          0.6310816144106707,
          0.629391998846992,
          0.6276795576275094,
          0.6273519784489678,
          0.6270883719601559,
          0.6175631881952709,
          0.6114781810092871,
          0.6043238444850878,
          0.5904577150016702,
          0.5853446758720475,
          0.5849289635424986
         ],
         "yaxis": "y",
         "type": "scatter"
        },
        {
         "hovertemplate": "result=Res29<br>iteration=%{x}<br>belief=%{y}<extra></extra>",
         "legendgroup": "Res29",
         "marker": {
          "color": "#636efa",
          "symbol": "circle"
         },
         "mode": "markers",
         "name": "Res29",
         "orientation": "v",
         "showlegend": true,
         "x": [
          1038,
          817,
          814,
          808,
          666,
          560,
          500,
          430,
          267,
          217,
          179,
          141,
          115,
          112,
          105,
          77,
          68,
          61,
          57,
          54,
          42,
          39,
          24,
          23,
          17,
          15,
          13,
          12,
          8,
          7,
          4,
          0
         ],
         "xaxis": "x",
         "y": [
          0.6457866165148948,
          0.6447921259380651,
          0.6447687358156777,
          0.6439629121065101,
          0.6436492527640363,
          0.642096851484149,
          0.6417235553603865,
          0.6416148293659458,
          0.6407283551454594,
          0.6402233074486043,
          0.6384669009926567,
          0.6358698196418499,
          0.6343481913445004,
          0.6337893690737588,
          0.6326932761445045,
          0.6315555321797899,
          0.6302424993901394,
          0.6222927998541432,
          0.6211733759837783,
          0.6200467742528784,
          0.618935189868209,
          0.6173791457708825,
          0.607350887299809,
          0.5984208899043404,
          0.5877687361750934,
          0.5806080335774801,
          0.5762748619327265,
          0.5693120833654878,
          0.5688760023442907,
          0.5632631344356607,
          0.5293397982114856,
          0.5194499677338476
         ],
         "yaxis": "y",
         "type": "scatter"
        },
        {
         "hovertemplate": "result=Res80<br>iteration=%{x}<br>belief=%{y}<extra></extra>",
         "legendgroup": "Res80",
         "marker": {
          "color": "#EF553B",
          "symbol": "circle"
         },
         "mode": "markers",
         "name": "Res80",
         "orientation": "v",
         "showlegend": true,
         "x": [
          506,
          467,
          420,
          330,
          291,
          238,
          217,
          214,
          124,
          78,
          69,
          64,
          62,
          53,
          34,
          32,
          30,
          16,
          6,
          4,
          1,
          0
         ],
         "xaxis": "x",
         "y": [
          0.6457836927495963,
          0.6449369342144489,
          0.6427684008280039,
          0.6396529795006705,
          0.6394566221999012,
          0.6360804164438523,
          0.6349016872537627,
          0.630901992874812,
          0.628147597945159,
          0.626702588724454,
          0.6259304528908405,
          0.6258323894259636,
          0.6207044674339137,
          0.6180935494769674,
          0.612874184489601,
          0.6115155508554626,
          0.6097030357234773,
          0.5977666573598849,
          0.5956110849749123,
          0.5949800200286568,
          0.5732648718102165,
          0.5408318694371043
         ],
         "yaxis": "y",
         "type": "scatter"
        },
        {
         "hovertemplate": "result=Res73<br>iteration=%{x}<br>belief=%{y}<extra></extra>",
         "legendgroup": "Res73",
         "marker": {
          "color": "#00cc96",
          "symbol": "circle"
         },
         "mode": "markers",
         "name": "Res73",
         "orientation": "v",
         "showlegend": true,
         "x": [
          1040,
          916,
          873,
          796,
          752,
          676,
          502,
          481,
          354,
          274,
          234,
          168,
          136,
          134,
          102,
          100,
          32,
          21,
          18,
          6,
          0
         ],
         "xaxis": "x",
         "y": [
          0.6457836927495963,
          0.6455421481989265,
          0.6440547681086801,
          0.6440185227297605,
          0.6438707906880783,
          0.6438590956268846,
          0.6431695045993134,
          0.6430607786048729,
          0.6430295917750231,
          0.6420303266077441,
          0.6418107406525897,
          0.6389272518627765,
          0.6385100385479832,
          0.6379323645485242,
          0.6365441908342728,
          0.6319305580452477,
          0.6316341491856212,
          0.6249754257316741,
          0.6211975608339915,
          0.618383265766979,
          0.5641666184361327
         ],
         "yaxis": "y",
         "type": "scatter"
        },
        {
         "hovertemplate": "result=Res59<br>iteration=%{x}<br>belief=%{y}<extra></extra>",
         "legendgroup": "Res59",
         "marker": {
          "color": "#ab63fa",
          "symbol": "circle"
         },
         "mode": "markers",
         "name": "Res59",
         "orientation": "v",
         "showlegend": true,
         "x": [
          1755,
          1510,
          1219,
          1082,
          997,
          994,
          772,
          615,
          595,
          450,
          227,
          182,
          166,
          157,
          144,
          97,
          60,
          54,
          47,
          45,
          41,
          30,
          25,
          21,
          13,
          10,
          8,
          5,
          1,
          0
         ],
         "xaxis": "x",
         "y": [
          0.6457836927495963,
          0.6441849100862109,
          0.6436935123283929,
          0.6435457802867106,
          0.6434612351982051,
          0.6433688825256928,
          0.6431811996605071,
          0.643075397431365,
          0.6427139656495781,
          0.639956134697913,
          0.6397655280674289,
          0.6391946045840275,
          0.6378259772396744,
          0.6333526255189991,
          0.6319103545874947,
          0.6287234644680206,
          0.6286254010031439,
          0.6217013618494083,
          0.6171507792003379,
          0.6107299306632925,
          0.6101802328251953,
          0.6069929721113931,
          0.6040521322074787,
          0.6034456010133562,
          0.590316356790765,
          0.5864762132813002,
          0.585343067140654,
          0.5744454019513165,
          0.5602526719326779,
          0.5602000085250877
         ],
         "yaxis": "y",
         "type": "scatter"
        },
        {
         "hovertemplate": "result=Res54<br>iteration=%{x}<br>belief=%{y}<extra></extra>",
         "legendgroup": "Res54",
         "marker": {
          "color": "#FFA15A",
          "symbol": "circle"
         },
         "mode": "markers",
         "name": "Res54",
         "orientation": "v",
         "showlegend": true,
         "x": [
          1045,
          896,
          886,
          761,
          713,
          706,
          641,
          621,
          604,
          591,
          588,
          425,
          334,
          333,
          258,
          250,
          181,
          81,
          80,
          79,
          28,
          24,
          23,
          10,
          4,
          3,
          0
         ],
         "xaxis": "x",
         "y": [
          0.6457836927495963,
          0.6456778905204542,
          0.6436874900906001,
          0.6434459455399303,
          0.6423012952618398,
          0.6400871991271074,
          0.6400813515965106,
          0.6396452485103097,
          0.6387984899751622,
          0.6368104761245954,
          0.6367812180734838,
          0.6349301100716415,
          0.6339913999032485,
          0.6337186609140452,
          0.6326382357367906,
          0.632361486075402,
          0.6322914206290191,
          0.6314941623479917,
          0.6243670442046731,
          0.620822518034706,
          0.6144270476359683,
          0.6122567360417898,
          0.5986969621592952,
          0.5802765395054508,
          0.578714198586936,
          0.5675537984818124,
          0.5619073813370425
         ],
         "yaxis": "y",
         "type": "scatter"
        },
        {
         "hovertemplate": "result=Res92<br>iteration=%{x}<br>belief=%{y}<extra></extra>",
         "legendgroup": "Res92",
         "marker": {
          "color": "#19d3f3",
          "symbol": "circle"
         },
         "mode": "markers",
         "name": "Res92",
         "orientation": "v",
         "showlegend": true,
         "x": [
          515,
          467,
          273,
          238,
          150,
          127,
          109,
          54,
          31,
          23,
          1,
          0
         ],
         "xaxis": "x",
         "y": [
          0.6456778905204542,
          0.6432630802965507,
          0.6419212906001894,
          0.6371970607909274,
          0.6351062991174575,
          0.6336546285590349,
          0.6326585981904823,
          0.6315639610766786,
          0.6172136556828569,
          0.6169233498901194,
          0.6075953403164227,
          0.592179260998124
         ],
         "yaxis": "y",
         "type": "scatter"
        },
        {
         "hovertemplate": "result=Res79<br>iteration=%{x}<br>belief=%{y}<extra></extra>",
         "legendgroup": "Res79",
         "marker": {
          "color": "#FF6692",
          "symbol": "circle"
         },
         "mode": "markers",
         "name": "Res79",
         "orientation": "v",
         "showlegend": true,
         "x": [
          881,
          701,
          631,
          376,
          359,
          332,
          131,
          103,
          44,
          32,
          25,
          12,
          11,
          10,
          0
         ],
         "xaxis": "x",
         "y": [
          0.6456778905204542,
          0.6454363459697843,
          0.644389881062796,
          0.642399480632942,
          0.6401760713719329,
          0.6399586193830518,
          0.6397956354828709,
          0.6397628331120565,
          0.6296788441684034,
          0.6286538592079303,
          0.6082418353172094,
          0.5985682219023911,
          0.589829937697486,
          0.5783305237856826,
          0.5684186965942644
         ],
         "yaxis": "y",
         "type": "scatter"
        },
        {
         "hovertemplate": "result=Res2<br>iteration=%{x}<br>belief=%{y}<extra></extra>",
         "legendgroup": "Res2",
         "marker": {
          "color": "#B6E880",
          "symbol": "circle"
         },
         "mode": "markers",
         "name": "Res2",
         "orientation": "v",
         "showlegend": true,
         "x": [
          542,
          390,
          371,
          335,
          292,
          283,
          257,
          212,
          203,
          202,
          188,
          121,
          116,
          108,
          76,
          62,
          51,
          44,
          37,
          22,
          19,
          18,
          16,
          11,
          10,
          7,
          6,
          5,
          2,
          0
         ],
         "xaxis": "x",
         "y": [
          0.645656429176805,
          0.6447233988656245,
          0.6446583051965795,
          0.6426057380788949,
          0.6410823993420345,
          0.6409522120039447,
          0.6402317037687029,
          0.6402180595306435,
          0.638747442026488,
          0.6380024286907713,
          0.6375910151782016,
          0.636742789268363,
          0.6310277181224333,
          0.630993941163186,
          0.6303036687834045,
          0.6282916084443877,
          0.6267177419901583,
          0.6256972548025717,
          0.61530236194697,
          0.6136815444196758,
          0.5971860255012358,
          0.5947242964543697,
          0.5874535640387969,
          0.5873707088143205,
          0.5796252169419289,
          0.5781268303190249,
          0.5689440548520506,
          0.5563162702882322,
          0.549276813810378,
          0.5441395895921282
         ],
         "yaxis": "y",
         "type": "scatter"
        },
        {
         "hovertemplate": "result=Res44<br>iteration=%{x}<br>belief=%{y}<extra></extra>",
         "legendgroup": "Res44",
         "marker": {
          "color": "#FF97FF",
          "symbol": "circle"
         },
         "mode": "markers",
         "name": "Res44",
         "orientation": "v",
         "showlegend": true,
         "x": [
          529,
          513,
          493,
          366,
          345,
          262,
          112,
          72,
          71,
          36,
          23,
          16,
          14,
          12,
          9,
          8,
          5,
          0
         ],
         "xaxis": "x",
         "y": [
          0.645656429176805,
          0.6456535054115066,
          0.6455421481989265,
          0.6436973209807461,
          0.6416891589954605,
          0.6415589716573709,
          0.6404550454480032,
          0.6399028544989459,
          0.623145991019778,
          0.61760822012548,
          0.6099724523148089,
          0.6071312688653552,
          0.6024286233470677,
          0.6019925237403145,
          0.5756074342969397,
          0.5638346427119945,
          0.5624267687453733,
          0.557875542835979
         ],
         "yaxis": "y",
         "type": "scatter"
        },
        {
         "hovertemplate": "result=Res53<br>iteration=%{x}<br>belief=%{y}<extra></extra>",
         "legendgroup": "Res53",
         "marker": {
          "color": "#FECB52",
          "symbol": "circle"
         },
         "mode": "markers",
         "name": "Res53",
         "orientation": "v",
         "showlegend": true,
         "x": [
          607,
          481,
          427,
          332,
          242,
          226,
          198,
          192,
          146,
          131,
          127,
          122,
          111,
          100,
          97,
          85,
          73,
          72,
          70,
          64,
          45,
          34,
          26,
          20,
          12,
          7,
          4,
          0
         ],
         "xaxis": "x",
         "y": [
          0.645656429176805,
          0.6453490088395888,
          0.6442450826302212,
          0.6438594871015455,
          0.6437694369633084,
          0.6436636347341662,
          0.6408541512989478,
          0.6403347350287866,
          0.6389023902607983,
          0.6387706386877057,
          0.6377676600516416,
          0.6315225800959094,
          0.6306795396353052,
          0.6305581805638891,
          0.6205591112513409,
          0.6178987189167524,
          0.6133468512582814,
          0.6110257527642315,
          0.6061940213438735,
          0.6018878611714524,
          0.6003832074475993,
          0.5984162974913244,
          0.593664537789777,
          0.5932616226461769,
          0.5812832643650139,
          0.5807402713834549,
          0.5662623736105374,
          0.5656833121376551
         ],
         "yaxis": "y",
         "type": "scatter"
        },
        {
         "hovertemplate": "result=Res69<br>iteration=%{x}<br>belief=%{y}<extra></extra>",
         "legendgroup": "Res69",
         "marker": {
          "color": "#636efa",
          "symbol": "circle"
         },
         "mode": "markers",
         "name": "Res69",
         "orientation": "v",
         "showlegend": true,
         "x": [
          552,
          341,
          277,
          210,
          193,
          169,
          149,
          137,
          115,
          112,
          74,
          57,
          26,
          11,
          7,
          6,
          5,
          0
         ],
         "xaxis": "x",
         "y": [
          0.6456388844732126,
          0.6455086971351228,
          0.6448038209992588,
          0.6433718062909912,
          0.6420170220821926,
          0.6419112198530504,
          0.64135563145626,
          0.6387097931700582,
          0.6385955841887561,
          0.6383028029152169,
          0.6362298576561548,
          0.6257990962555516,
          0.6202089731650208,
          0.6174387453289876,
          0.6171954807738351,
          0.615110768408921,
          0.6125451522272711,
          0.5876643163047146
         ],
         "yaxis": "y",
         "type": "scatter"
        },
        {
         "hovertemplate": "result=Res85<br>iteration=%{x}<br>belief=%{y}<extra></extra>",
         "legendgroup": "Res85",
         "marker": {
          "color": "#EF553B",
          "symbol": "circle"
         },
         "mode": "markers",
         "name": "Res85",
         "orientation": "v",
         "showlegend": true,
         "x": [
          644,
          433,
          337,
          298,
          228,
          214,
          209,
          165,
          156,
          150,
          147,
          131,
          109,
          75,
          73,
          30,
          11,
          0
         ],
         "xaxis": "x",
         "y": [
          0.6456388844732126,
          0.6456154943508252,
          0.6447687358156777,
          0.6421026990147458,
          0.6408417345368993,
          0.6397089352182828,
          0.6392912641475521,
          0.6364824796951463,
          0.6363587667509853,
          0.6296658765449392,
          0.6295769309093895,
          0.6295712735946142,
          0.6271027943672429,
          0.624536529627071,
          0.6204187443236537,
          0.6145160739057494,
          0.6138282727729929,
          0.5959591139170362
         ],
         "yaxis": "y",
         "type": "scatter"
        },
        {
         "hovertemplate": "result=Res55<br>iteration=%{x}<br>belief=%{y}<extra></extra>",
         "legendgroup": "Res55",
         "marker": {
          "color": "#00cc96",
          "symbol": "circle"
         },
         "mode": "markers",
         "name": "Res55",
         "orientation": "v",
         "showlegend": true,
         "x": [
          1106,
          996,
          821,
          730,
          584,
          454,
          322,
          271,
          270,
          244,
          193,
          148,
          141,
          138,
          77,
          58,
          42,
          40,
          38,
          21,
          14,
          13,
          10,
          0
         ],
         "xaxis": "x",
         "y": [
          0.6456359607079142,
          0.6455421481989265,
          0.6454363459697843,
          0.6434895810812418,
          0.6424935987488133,
          0.6414382977985328,
          0.641373204129488,
          0.6396280573490194,
          0.6383298731125323,
          0.6351759144049539,
          0.6328865209314789,
          0.6324490648321532,
          0.629355346608655,
          0.6264409077140982,
          0.6236966197964344,
          0.6164271874207896,
          0.608980827297047,
          0.6071029875539518,
          0.6050612505887945,
          0.6023841828763612,
          0.6009198565738195,
          0.5975072049588088,
          0.5843887879020904,
          0.5778963421409894
         ],
         "yaxis": "y",
         "type": "scatter"
        },
        {
         "hovertemplate": "result=Res77<br>iteration=%{x}<br>belief=%{y}<extra></extra>",
         "legendgroup": "Res77",
         "marker": {
          "color": "#ab63fa",
          "symbol": "circle"
         },
         "mode": "markers",
         "name": "Res77",
         "orientation": "v",
         "showlegend": true,
         "x": [
          550,
          513,
          497,
          432,
          384,
          289,
          279,
          230,
          125,
          109,
          97,
          92,
          62,
          37,
          22,
          20,
          10,
          2,
          1,
          0
         ],
         "xaxis": "x",
         "y": [
          0.6456359607079142,
          0.6456154943508252,
          0.6440938660534756,
          0.6413005667838663,
          0.6412160216953608,
          0.6393263991852164,
          0.6372725553051906,
          0.6311458196848124,
          0.6309927605991608,
          0.6308080014992735,
          0.6292417757021389,
          0.6285288958262273,
          0.6269162294197063,
          0.62627211061792,
          0.6148529498095266,
          0.6139380610918164,
          0.605386622934647,
          0.6050591733231157,
          0.5868376945770943,
          0.5847386711936954
         ],
         "yaxis": "y",
         "type": "scatter"
        },
        {
         "hovertemplate": "result=Res17<br>iteration=%{x}<br>belief=%{y}<extra></extra>",
         "legendgroup": "Res17",
         "marker": {
          "color": "#FFA15A",
          "symbol": "circle"
         },
         "mode": "markers",
         "name": "Res17",
         "orientation": "v",
         "showlegend": true,
         "x": [
          642,
          401,
          380,
          312,
          278,
          263,
          214,
          166,
          135,
          58,
          50,
          34,
          27,
          20,
          17,
          11,
          5,
          2,
          0
         ],
         "xaxis": "x",
         "y": [
          0.6455503985699784,
          0.6445474199339145,
          0.6445123347503334,
          0.640994858253958,
          0.6408042516234738,
          0.6407951554647676,
          0.6354786720157132,
          0.6319603949803638,
          0.6305075890521965,
          0.6285521987117695,
          0.6182125793393729,
          0.6170636913586836,
          0.6128850567088213,
          0.6052633414022348,
          0.594766813453689,
          0.59016985505463,
          0.5827976272924806,
          0.5769251388848442,
          0.5544373582899098
         ],
         "yaxis": "y",
         "type": "scatter"
        },
        {
         "hovertemplate": "result=Res40<br>iteration=%{x}<br>belief=%{y}<extra></extra>",
         "legendgroup": "Res40",
         "marker": {
          "color": "#19d3f3",
          "symbol": "circle"
         },
         "mode": "markers",
         "name": "Res40",
         "orientation": "v",
         "showlegend": true,
         "x": [
          822,
          731,
          518,
          483,
          467,
          439,
          347,
          340,
          272,
          227,
          223,
          216,
          170,
          113,
          103,
          96,
          78,
          68,
          46,
          27,
          21,
          0
         ],
         "xaxis": "x",
         "y": [
          0.6455503985699784,
          0.6455153133863973,
          0.6441764474553346,
          0.6426540525491092,
          0.6426240461754473,
          0.6423390153538532,
          0.640210285202561,
          0.6374160696160712,
          0.6358636683361839,
          0.6335553881514396,
          0.6327125222690455,
          0.6295797105074257,
          0.6286287123491647,
          0.627979205207621,
          0.6264209563971369,
          0.6248902005736876,
          0.623729270501283,
          0.6165369983198539,
          0.6140240420112764,
          0.6072328310977029,
          0.6071045964937771,
          0.6069891445700213
         ],
         "yaxis": "y",
         "type": "scatter"
        },
        {
         "hovertemplate": "result=Res62<br>iteration=%{x}<br>belief=%{y}<extra></extra>",
         "legendgroup": "Res62",
         "marker": {
          "color": "#FF6692",
          "symbol": "circle"
         },
         "mode": "markers",
         "name": "Res62",
         "orientation": "v",
         "showlegend": true,
         "x": [
          447,
          443,
          432,
          419,
          379,
          353,
          310,
          276,
          273,
          257,
          228,
          190,
          117,
          103,
          97,
          44,
          38,
          16,
          9,
          5,
          2,
          0
         ],
         "xaxis": "x",
         "y": [
          0.6455421481989265,
          0.6450507504411086,
          0.6449486292756426,
          0.643844703066275,
          0.6417108560021345,
          0.6411185676417914,
          0.6407807494562525,
          0.6402803756978318,
          0.6386121585978852,
          0.6385870727231223,
          0.6385236726946512,
          0.6369595763535703,
          0.633261089330506,
          0.6317353200661785,
          0.6304108747307647,
          0.6247632655692141,
          0.610227172376117,
          0.6048733377253536,
          0.6020733629991918,
          0.5903335190265618,
          0.5862535782846301,
          0.5853758068300199
         ],
         "yaxis": "y",
         "type": "scatter"
        },
        {
         "hovertemplate": "result=Res64<br>iteration=%{x}<br>belief=%{y}<extra></extra>",
         "legendgroup": "Res64",
         "marker": {
          "color": "#B6E880",
          "symbol": "circle"
         },
         "mode": "markers",
         "name": "Res64",
         "orientation": "v",
         "showlegend": true,
         "x": [
          1258,
          1230,
          1195,
          1159,
          941,
          932,
          905,
          894,
          632,
          502,
          397,
          375,
          283,
          256,
          114,
          105,
          96,
          95,
          88,
          86,
          81,
          80,
          54,
          46,
          29,
          26,
          19,
          14,
          8,
          2,
          0
         ],
         "xaxis": "x",
         "y": [
          0.6455153133863973,
          0.6445474199339145,
          0.6445123347503334,
          0.6424346696696879,
          0.6416280483343932,
          0.6410630483068607,
          0.6407099808520047,
          0.6406012548575641,
          0.6403548269983314,
          0.6398379356804049,
          0.6389633159150371,
          0.6374409210088119,
          0.6371657627212557,
          0.6370857250466564,
          0.6364208201324233,
          0.6355639298223308,
          0.6343899694707859,
          0.6268356726142159,
          0.622938785934314,
          0.6208274722004188,
          0.6202299466292034,
          0.6197259793930815,
          0.6195937057043872,
          0.6116136067089544,
          0.6083637797500725,
          0.6000735487541691,
          0.5990062288061149,
          0.5942582606749591,
          0.5924215999558982,
          0.5784153084646111,
          0.5561620150385902
         ],
         "yaxis": "y",
         "type": "scatter"
        },
        {
         "hovertemplate": "result=Res32<br>iteration=%{x}<br>belief=%{y}<extra></extra>",
         "legendgroup": "Res32",
         "marker": {
          "color": "#FF97FF",
          "symbol": "circle"
         },
         "mode": "markers",
         "name": "Res32",
         "orientation": "v",
         "showlegend": true,
         "x": [
          518,
          502,
          488,
          424,
          378,
          330,
          254,
          225,
          220,
          158,
          118,
          108,
          99,
          97,
          96,
          78,
          44,
          43,
          38,
          20,
          19,
          18,
          17,
          16,
          15,
          14,
          6,
          4,
          3,
          0
         ],
         "xaxis": "x",
         "y": [
          0.645512389621099,
          0.6431728748057888,
          0.6427388552768653,
          0.6424535966108977,
          0.6417428729444368,
          0.6408933313856653,
          0.640724545452126,
          0.6406889470841592,
          0.6395753115631145,
          0.6390759909671129,
          0.6388536843223932,
          0.6327840845560077,
          0.6314501878865704,
          0.6295847248695765,
          0.625606747583839,
          0.622597830018823,
          0.621755753592333,
          0.6162846847472563,
          0.6068320937875042,
          0.5926962965988842,
          0.5903709905699623,
          0.5876448103806868,
          0.5849336378944376,
          0.5847280601085554,
          0.584162927912987,
          0.5828957338969603,
          0.5806966684864265,
          0.5611111527707524,
          0.5608009452713478,
          0.5536827485813394
         ],
         "yaxis": "y",
         "type": "scatter"
        },
        {
         "hovertemplate": "result=Res86<br>iteration=%{x}<br>belief=%{y}<extra></extra>",
         "legendgroup": "Res86",
         "marker": {
          "color": "#FECB52",
          "symbol": "circle"
         },
         "mode": "markers",
         "name": "Res86",
         "orientation": "v",
         "showlegend": true,
         "x": [
          611,
          571,
          528,
          262,
          256,
          236,
          235,
          155,
          147,
          133,
          131,
          118,
          101,
          98,
          97,
          96,
          88,
          69,
          63,
          62,
          61,
          24,
          23,
          8,
          0
         ],
         "xaxis": "x",
         "y": [
          0.6454791961776786,
          0.6449877984198606,
          0.6449581680122339,
          0.6439796579039938,
          0.6431621391336324,
          0.6402757265785209,
          0.6395444890826103,
          0.6390160638283713,
          0.6373447456935155,
          0.6363771098891263,
          0.6311410412216777,
          0.6294114529209078,
          0.6282858017833407,
          0.6256178499797767,
          0.6253172814996479,
          0.624175214882962,
          0.6209696248391561,
          0.6151035386265076,
          0.6130611727956273,
          0.6109107206242508,
          0.6103699215907936,
          0.6064566513594292,
          0.6042611626611226,
          0.6034901122141505,
          0.5993343702223496
         ],
         "yaxis": "y",
         "type": "scatter"
        },
        {
         "hovertemplate": "result=Res56<br>iteration=%{x}<br>belief=%{y}<extra></extra>",
         "legendgroup": "Res56",
         "marker": {
          "color": "#636efa",
          "symbol": "circle"
         },
         "mode": "markers",
         "name": "Res56",
         "orientation": "v",
         "showlegend": true,
         "x": [
          495,
          445,
          404,
          334,
          330,
          209,
          134,
          109,
          108,
          97,
          93,
          64,
          45,
          40,
          34,
          32,
          28,
          27,
          20,
          19,
          10,
          4,
          2,
          1,
          0
         ],
         "xaxis": "x",
         "y": [
          0.6454368179196993,
          0.6401426157474265,
          0.6399173853374083,
          0.639099866567047,
          0.638903912494466,
          0.6357966127414614,
          0.6342442114615742,
          0.6295863946557914,
          0.6282131454453834,
          0.6253114049783555,
          0.6221999572618571,
          0.6213600855142181,
          0.6197095796719245,
          0.617566773931564,
          0.6045600911978775,
          0.6043409900615789,
          0.5984993403249694,
          0.5681653957487698,
          0.5664640620170998,
          0.5603406239518636,
          0.5562034583158457,
          0.5532483410377158,
          0.5490603244128954,
          0.5484850421091781,
          0.5369721897336137
         ],
         "yaxis": "y",
         "type": "scatter"
        },
        {
         "hovertemplate": "result=Res76<br>iteration=%{x}<br>belief=%{y}<extra></extra>",
         "legendgroup": "Res76",
         "marker": {
          "color": "#EF553B",
          "symbol": "circle"
         },
         "mode": "markers",
         "name": "Res76",
         "orientation": "v",
         "showlegend": true,
         "x": [
          1319,
          1176,
          885,
          878,
          796,
          690,
          512,
          510,
          490,
          388,
          230,
          142,
          131,
          128,
          106,
          97,
          91,
          66,
          63,
          57,
          41,
          36,
          16,
          15,
          13,
          12,
          8,
          5,
          0
         ],
         "xaxis": "x",
         "y": [
          0.6454148846261352,
          0.6449059442765266,
          0.6448096706416575,
          0.6439746071677037,
          0.642961152611087,
          0.6429494575498933,
          0.6421143940759395,
          0.6403017637120709,
          0.6400931892345065,
          0.6367031630062118,
          0.6367002392409133,
          0.6353613733098505,
          0.6348841317391076,
          0.6341020663863556,
          0.6338895935550599,
          0.6333486187775995,
          0.6332374568641339,
          0.6323302096860202,
          0.6130557381654016,
          0.6126948183603365,
          0.6102316853639179,
          0.6087038344017566,
          0.6062763531900318,
          0.6023722169611343,
          0.5794212249267059,
          0.5767684038849757,
          0.5561027931641562,
          0.5459901188500048,
          0.5285422647147929
         ],
         "yaxis": "y",
         "type": "scatter"
        },
        {
         "hovertemplate": "result=Res82<br>iteration=%{x}<br>belief=%{y}<extra></extra>",
         "legendgroup": "Res82",
         "marker": {
          "color": "#00cc96",
          "symbol": "circle"
         },
         "mode": "markers",
         "name": "Res82",
         "orientation": "v",
         "showlegend": true,
         "x": [
          1363,
          1313,
          1217,
          1214,
          1013,
          869,
          837,
          799,
          611,
          324,
          200,
          196,
          161,
          134,
          128,
          96,
          60,
          55,
          50,
          49,
          38,
          32,
          22,
          13,
          9,
          8,
          4,
          3,
          0
         ],
         "xaxis": "x",
         "y": [
          0.6454148846261352,
          0.6453460850742904,
          0.6444159785284083,
          0.6416921955089785,
          0.6416798719622894,
          0.6415851547496434,
          0.6410627516934347,
          0.640317738357718,
          0.6402592222554948,
          0.6401574770560641,
          0.6366765338592166,
          0.634581951111698,
          0.6320335048209158,
          0.6313976947072049,
          0.6313436372843904,
          0.6303511098909158,
          0.6295049915217237,
          0.6226930544183799,
          0.6158059363210325,
          0.6141923878297839,
          0.6110566061786612,
          0.6070120036492352,
          0.6064460305728903,
          0.600505106052227,
          0.5892965617383932,
          0.5745328730287727,
          0.5686789539269648,
          0.5664985087253529,
          0.5663473627975976
         ],
         "yaxis": "y",
         "type": "scatter"
        },
        {
         "hovertemplate": "result=Res30<br>iteration=%{x}<br>belief=%{y}<extra></extra>",
         "legendgroup": "Res30",
         "marker": {
          "color": "#ab63fa",
          "symbol": "circle"
         },
         "mode": "markers",
         "name": "Res30",
         "orientation": "v",
         "showlegend": true,
         "x": [
          968,
          733,
          496,
          446,
          386,
          384,
          363,
          322,
          311,
          280,
          257,
          217,
          189,
          169,
          165,
          101,
          94,
          86,
          83,
          79,
          69,
          55,
          48,
          14,
          12,
          2,
          0
         ],
         "xaxis": "x",
         "y": [
          0.6453061586316946,
          0.644251897017244,
          0.6432537730370185,
          0.6403535061524888,
          0.63936825413663,
          0.6392545058559893,
          0.6391915538347415,
          0.6386167918916652,
          0.6376138132556013,
          0.6363826632620091,
          0.635231480196132,
          0.6350947148976163,
          0.6349688108551205,
          0.6306640134484545,
          0.6295445303968129,
          0.6244826899021798,
          0.620157427388117,
          0.616254855739161,
          0.6134459090198605,
          0.6066921627730085,
          0.603520396900056,
          0.6011310389775273,
          0.5983301495552569,
          0.5956793474638769,
          0.5921089386190144,
          0.5830533785963594,
          0.5602800937327315
         ],
         "yaxis": "y",
         "type": "scatter"
        },
        {
         "hovertemplate": "result=Res4<br>iteration=%{x}<br>belief=%{y}<extra></extra>",
         "legendgroup": "Res4",
         "marker": {
          "color": "#FFA15A",
          "symbol": "circle"
         },
         "mode": "markers",
         "name": "Res4",
         "orientation": "v",
         "showlegend": true,
         "x": [
          315,
          185,
          121,
          105,
          66,
          59,
          54,
          50,
          30,
          26,
          24,
          22,
          21,
          19,
          13,
          10,
          3,
          0
         ],
         "xaxis": "x",
         "y": [
          0.6452573468060685,
          0.6447379305359071,
          0.6445415732351378,
          0.6411354699079148,
          0.6410925880168713,
          0.6318577497306397,
          0.6194012564344547,
          0.6183540106660242,
          0.6167835446787449,
          0.6118758548637921,
          0.6053130177674019,
          0.6029382270674596,
          0.6018691329094386,
          0.5864115023565355,
          0.5821934489995764,
          0.5715243146942661,
          0.5492589565825844,
          0.5391389306868377
         ],
         "yaxis": "y",
         "type": "scatter"
        },
        {
         "hovertemplate": "result=Res61<br>iteration=%{x}<br>belief=%{y}<extra></extra>",
         "legendgroup": "Res61",
         "marker": {
          "color": "#19d3f3",
          "symbol": "circle"
         },
         "mode": "markers",
         "name": "Res61",
         "orientation": "v",
         "showlegend": true,
         "x": [
          761,
          730,
          658,
          496,
          452,
          375,
          349,
          293,
          278,
          262,
          203,
          170,
          169,
          167,
          141,
          120,
          116,
          87,
          69,
          42,
          35,
          25,
          23,
          11,
          5,
          1,
          0
         ],
         "xaxis": "x",
         "y": [
          0.6452573468060685,
          0.64525442304077,
          0.6442155905004473,
          0.6441834290821646,
          0.643765758011434,
          0.6436640128120033,
          0.6423021213022884,
          0.6381868692703737,
          0.6352021232224982,
          0.63091994794433,
          0.6292376790767311,
          0.6268815570366981,
          0.6170627652139977,
          0.6166370650307282,
          0.6147345465986047,
          0.6135433996379096,
          0.6126980095698953,
          0.612150838279842,
          0.6106780019010765,
          0.6099157039082789,
          0.6068153763670323,
          0.6040643095877334,
          0.5937967873876018,
          0.5769226292878623,
          0.5682402569721723,
          0.5602095049960272,
          0.5562625862329317
         ],
         "yaxis": "y",
         "type": "scatter"
        },
        {
         "hovertemplate": "result=Res28<br>iteration=%{x}<br>belief=%{y}<extra></extra>",
         "legendgroup": "Res28",
         "marker": {
          "color": "#FF6692",
          "symbol": "circle"
         },
         "mode": "markers",
         "name": "Res28",
         "orientation": "v",
         "showlegend": true,
         "x": [
          436,
          428,
          398,
          396,
          373,
          351,
          331,
          326,
          186,
          174,
          165,
          159,
          145,
          136,
          126,
          117,
          78,
          58,
          37,
          34,
          31,
          21,
          20,
          12,
          4,
          0
         ],
         "xaxis": "x",
         "y": [
          0.6452573468060685,
          0.6436932504649875,
          0.6408779194991724,
          0.639728430073869,
          0.6396123318097577,
          0.6392090138037076,
          0.6392060900384091,
          0.6387973306532285,
          0.6383072023969122,
          0.63547346834161,
          0.6344850057384275,
          0.6344534688657799,
          0.6341406071494332,
          0.6325715685396692,
          0.6225450907186749,
          0.6201273484771159,
          0.6196627578760697,
          0.6174251115145155,
          0.6144463060184557,
          0.6119746407687764,
          0.6095763769681883,
          0.6072335987995999,
          0.6059637815621308,
          0.6006190624174607,
          0.5950604677723457,
          0.5889158721322099
         ],
         "yaxis": "y",
         "type": "scatter"
        },
        {
         "hovertemplate": "result=Res19<br>iteration=%{x}<br>belief=%{y}<extra></extra>",
         "legendgroup": "Res19",
         "marker": {
          "color": "#B6E880",
          "symbol": "circle"
         },
         "mode": "markers",
         "name": "Res19",
         "orientation": "v",
         "showlegend": true,
         "x": [
          830,
          798,
          643,
          484,
          459,
          305,
          247,
          215,
          213,
          192,
          138,
          118,
          104,
          88,
          54,
          53,
          40,
          30,
          25,
          24,
          22,
          17,
          16,
          10,
          6,
          4,
          2,
          0
         ],
         "xaxis": "x",
         "y": [
          0.6452376516270089,
          0.6449581680122339,
          0.6449219226333143,
          0.6448131966388737,
          0.6429392847431595,
          0.6400557959533464,
          0.6399809560837221,
          0.6399074821998385,
          0.6397893748648051,
          0.6395764281901322,
          0.636877079524293,
          0.6353246782444057,
          0.6285659229319942,
          0.6270254793495924,
          0.6243046475236694,
          0.6156460764888367,
          0.615574879752903,
          0.6093840117944589,
          0.6057682924675034,
          0.6031634144092342,
          0.5983692429162002,
          0.5863494725766121,
          0.5857789552446769,
          0.5827747122090837,
          0.5762579778805276,
          0.5742084307778992,
          0.5652150805038957,
          0.5646081294764902
         ],
         "yaxis": "y",
         "type": "scatter"
        },
        {
         "hovertemplate": "result=Res99<br>iteration=%{x}<br>belief=%{y}<extra></extra>",
         "legendgroup": "Res99",
         "marker": {
          "color": "#FF97FF",
          "symbol": "circle"
         },
         "mode": "markers",
         "name": "Res99",
         "orientation": "v",
         "showlegend": true,
         "x": [
          1210,
          945,
          890,
          722,
          671,
          483,
          473,
          411,
          376,
          302,
          227,
          223,
          211,
          138,
          137,
          64,
          39,
          21,
          19,
          11,
          10,
          9,
          7,
          3,
          1,
          0
         ],
         "xaxis": "x",
         "y": [
          0.6452376516270087,
          0.645107464288919,
          0.6448045905517568,
          0.644702845352326,
          0.6423383813580135,
          0.642171685336544,
          0.6421028857846993,
          0.6411076855697723,
          0.6401047069337082,
          0.6387028889813976,
          0.6377205788081924,
          0.6368753214426873,
          0.6360688317837004,
          0.6350736315687735,
          0.6348729062592302,
          0.6341387903585801,
          0.6298696455129594,
          0.6250677556805543,
          0.6131777057852636,
          0.6114800353721628,
          0.6064416740312553,
          0.5960353879653215,
          0.5873766595469023,
          0.5559607635572477,
          0.5542997236735081,
          0.5482431938990375
         ],
         "yaxis": "y",
         "type": "scatter"
        },
        {
         "hovertemplate": "result=Res0<br>iteration=%{x}<br>belief=%{y}<extra></extra>",
         "legendgroup": "Res0",
         "marker": {
          "color": "#FECB52",
          "symbol": "circle"
         },
         "mode": "markers",
         "name": "Res0",
         "orientation": "v",
         "showlegend": true,
         "x": [
          902,
          836,
          813,
          622,
          588,
          548,
          457,
          402,
          391,
          339,
          329,
          325,
          318,
          289,
          287,
          231,
          216,
          204,
          184,
          154,
          124,
          117,
          116,
          57,
          43,
          33,
          27,
          10,
          9,
          6,
          5,
          4,
          0
         ],
         "xaxis": "x",
         "y": [
          0.6452347278617103,
          0.6434895810812418,
          0.6433593937431521,
          0.6413674290782951,
          0.6403063530768218,
          0.6399377239469057,
          0.6366960888923174,
          0.6366795004908323,
          0.6363613675079572,
          0.6358211010429581,
          0.6336788624543837,
          0.6304946192565081,
          0.6266102672694619,
          0.6257721040231792,
          0.6211404208963619,
          0.6210330154718215,
          0.618181573547937,
          0.6166174772068561,
          0.6150947795016698,
          0.6135878357148077,
          0.6130015086869114,
          0.612383723455449,
          0.6075209500914991,
          0.6065714796916901,
          0.604617752977848,
          0.6004092259087304,
          0.6001775826519697,
          0.5880842816883348,
          0.5802194063809463,
          0.5751622686351623,
          0.5685889944233361,
          0.5676826605225567,
          0.5518107783379728
         ],
         "yaxis": "y",
         "type": "scatter"
        },
        {
         "hovertemplate": "result=Res52<br>iteration=%{x}<br>belief=%{y}<extra></extra>",
         "legendgroup": "Res52",
         "marker": {
          "color": "#636efa",
          "symbol": "circle"
         },
         "mode": "markers",
         "name": "Res52",
         "orientation": "v",
         "showlegend": true,
         "x": [
          628,
          520,
          496,
          460,
          343,
          298,
          281,
          240,
          199,
          171,
          141,
          132,
          110,
          106,
          75,
          73,
          52,
          49,
          41,
          38,
          25,
          11,
          10,
          0
         ],
         "xaxis": "x",
         "y": [
          0.6452347278617103,
          0.6408845158672891,
          0.6405609367367813,
          0.6396907522314272,
          0.6326587878750298,
          0.6325286005369402,
          0.6319306377747049,
          0.6302319712547534,
          0.6291420050569145,
          0.6269177318885018,
          0.6228364717264027,
          0.6216914735173164,
          0.6207507278057478,
          0.620374792344106,
          0.6192861132922535,
          0.6127312214086149,
          0.6062040083346177,
          0.6059831569030714,
          0.6018413976730952,
          0.6004473731049005,
          0.5951288296299595,
          0.5933845997166209,
          0.5921403997343861,
          0.5520559278183176
         ],
         "yaxis": "y",
         "type": "scatter"
        },
        {
         "hovertemplate": "result=Res70<br>iteration=%{x}<br>belief=%{y}<extra></extra>",
         "legendgroup": "Res70",
         "marker": {
          "color": "#EF553B",
          "symbol": "circle"
         },
         "mode": "markers",
         "name": "Res70",
         "orientation": "v",
         "showlegend": true,
         "x": [
          758,
          740,
          608,
          376,
          235,
          177,
          161,
          148,
          142,
          137,
          105,
          74,
          66,
          49,
          31,
          29,
          24,
          7,
          6,
          1,
          0
         ],
         "xaxis": "x",
         "y": [
          0.6452347278617103,
          0.6451045405236205,
          0.6437027225713099,
          0.643423238956535,
          0.6433998488341477,
          0.642982177763417,
          0.6418474475542604,
          0.6418470715882252,
          0.6412014415908092,
          0.6402684112796286,
          0.6402054592583808,
          0.6350600097663962,
          0.6332505334486829,
          0.6247859422218447,
          0.6194603427755069,
          0.6178857118551866,
          0.6117587370473989,
          0.6115364588365444,
          0.6053402004821362,
          0.5993538000450631,
          0.580147894897209
         ],
         "yaxis": "y",
         "type": "scatter"
        },
        {
         "hovertemplate": "result=Res36<br>iteration=%{x}<br>belief=%{y}<extra></extra>",
         "legendgroup": "Res36",
         "marker": {
          "color": "#00cc96",
          "symbol": "circle"
         },
         "mode": "markers",
         "name": "Res36",
         "orientation": "v",
         "showlegend": true,
         "x": [
          725,
          506,
          497,
          452,
          352,
          323,
          294,
          273,
          230,
          226,
          190,
          134,
          126,
          90,
          65,
          59,
          37,
          32,
          24,
          13,
          6,
          3,
          1,
          0
         ],
         "xaxis": "x",
         "y": [
          0.6452347278617103,
          0.6431125758587637,
          0.6421340657505235,
          0.6411672507034771,
          0.6411555556422834,
          0.6346121297382572,
          0.6339865477993323,
          0.633260761764764,
          0.6326855004580195,
          0.6305659094067825,
          0.6249933639188197,
          0.6239293641520478,
          0.6200948763279421,
          0.6133126296246325,
          0.6131941943185149,
          0.6122786471517394,
          0.6084965231725971,
          0.6043613843402099,
          0.6023247531230443,
          0.601221136323177,
          0.5983126905202707,
          0.5889499523379087,
          0.5666645737507284,
          0.5341787968739236
         ],
         "yaxis": "y",
         "type": "scatter"
        },
        {
         "hovertemplate": "result=Res78<br>iteration=%{x}<br>belief=%{y}<extra></extra>",
         "legendgroup": "Res78",
         "marker": {
          "color": "#ab63fa",
          "symbol": "circle"
         },
         "mode": "markers",
         "name": "Res78",
         "orientation": "v",
         "showlegend": true,
         "x": [
          770,
          752,
          574,
          475,
          427,
          369,
          176,
          155,
          142,
          124,
          97,
          62,
          58,
          54,
          45,
          36,
          34,
          12,
          8,
          3,
          2,
          0
         ],
         "xaxis": "x",
         "y": [
          0.6450361316146165,
          0.6449059442765267,
          0.6441601333146828,
          0.6414940965137508,
          0.6413564974100614,
          0.6409177316512188,
          0.6402837439446565,
          0.6402038910594647,
          0.6375378542585328,
          0.6372813718415025,
          0.6160469848319676,
          0.615430282282254,
          0.6143651532848283,
          0.6092842112923071,
          0.6074362472964617,
          0.6050051274611244,
          0.6003399553832327,
          0.5956665638004621,
          0.5865045940628381,
          0.5848876040946595,
          0.5778071479040214,
          0.5495645210764268
         ],
         "yaxis": "y",
         "type": "scatter"
        },
        {
         "hovertemplate": "result=Res14<br>iteration=%{x}<br>belief=%{y}<extra></extra>",
         "legendgroup": "Res14",
         "marker": {
          "color": "#FFA15A",
          "symbol": "circle"
         },
         "mode": "markers",
         "name": "Res14",
         "orientation": "v",
         "showlegend": true,
         "x": [
          1051,
          904,
          674,
          641,
          522,
          508,
          501,
          471,
          455,
          408,
          370,
          276,
          254,
          195,
          187,
          186,
          183,
          159,
          114,
          102,
          101,
          93,
          72,
          60,
          47,
          42,
          40,
          31,
          20,
          17,
          10,
          7,
          3,
          0
         ],
         "xaxis": "x",
         "y": [
          0.6449877984198606,
          0.644951553040941,
          0.6447804308768714,
          0.6435077713378312,
          0.643406333383157,
          0.6433159298875104,
          0.6431138228772619,
          0.6425139747431714,
          0.6416375926644229,
          0.6414248490654829,
          0.6398228490421898,
          0.6355584981497786,
          0.6340908591265901,
          0.6337160065806047,
          0.633189847338576,
          0.630558570873232,
          0.6294479791724095,
          0.6280893455382712,
          0.6274759045077483,
          0.6248712513796677,
          0.6245564974126221,
          0.6237928972539117,
          0.6218578035772468,
          0.6205095431089258,
          0.6148069367607081,
          0.6089345739417447,
          0.6061547204576365,
          0.5952506857244065,
          0.5946333619069009,
          0.5928817009294303,
          0.5815929460311515,
          0.5800191719036628,
          0.5633707183902971,
          0.5559311894882732
         ],
         "yaxis": "y",
         "type": "scatter"
        },
        {
         "hovertemplate": "result=Res88<br>iteration=%{x}<br>belief=%{y}<extra></extra>",
         "legendgroup": "Res88",
         "marker": {
          "color": "#19d3f3",
          "symbol": "circle"
         },
         "mode": "markers",
         "name": "Res88",
         "orientation": "v",
         "showlegend": true,
         "x": [
          941,
          901,
          738,
          502,
          449,
          377,
          340,
          252,
          241,
          154,
          147,
          128,
          102,
          87,
          73,
          54,
          49,
          31,
          28,
          27,
          26,
          17,
          16,
          15,
          3,
          0
         ],
         "xaxis": "x",
         "y": [
          0.644951553040941,
          0.6449398579797473,
          0.6439896667076281,
          0.6438185445435587,
          0.6431959966781495,
          0.6431622197189022,
          0.6403585838142808,
          0.6380980109149348,
          0.6370181523531373,
          0.6363047360321505,
          0.6359560093685273,
          0.635311890566741,
          0.6335523760447865,
          0.6321287239987073,
          0.6297320187321442,
          0.6136363414946039,
          0.610693260831523,
          0.6032226023747926,
          0.600043234908473,
          0.5946051376324129,
          0.5857063249135128,
          0.5824169700567521,
          0.5814710372591378,
          0.5669121362158179,
          0.5632861263335558,
          0.5630489924533071
         ],
         "yaxis": "y",
         "type": "scatter"
        },
        {
         "hovertemplate": "result=Res3<br>iteration=%{x}<br>belief=%{y}<extra></extra>",
         "legendgroup": "Res3",
         "marker": {
          "color": "#FF6692",
          "symbol": "circle"
         },
         "mode": "markers",
         "name": "Res3",
         "orientation": "v",
         "showlegend": true,
         "x": [
          1629,
          1478,
          1402,
          1128,
          890,
          602,
          330,
          226,
          156,
          129,
          120,
          62,
          55,
          34,
          27,
          16,
          15,
          13,
          9,
          8,
          7,
          3,
          1,
          0
         ],
         "xaxis": "x",
         "y": [
          0.6449486292756426,
          0.6439964888266578,
          0.6438487567849757,
          0.6435457802867106,
          0.6434612351982051,
          0.643355432969063,
          0.6423619833654881,
          0.6407973218812049,
          0.639878447596157,
          0.6383012584387961,
          0.628868905300675,
          0.6264380563379226,
          0.6263089974193558,
          0.6239181878494168,
          0.620798526526225,
          0.6060358912288876,
          0.5988953846018044,
          0.590376990046904,
          0.5832046371707449,
          0.5755559890502713,
          0.5720935878023432,
          0.5702561721277966,
          0.5524979069050415,
          0.5519845937017689
         ],
         "yaxis": "y",
         "type": "scatter"
        },
        {
         "hovertemplate": "result=Res68<br>iteration=%{x}<br>belief=%{y}<extra></extra>",
         "legendgroup": "Res68",
         "marker": {
          "color": "#B6E880",
          "symbol": "circle"
         },
         "mode": "markers",
         "name": "Res68",
         "orientation": "v",
         "showlegend": true,
         "x": [
          589,
          559,
          345,
          300,
          295,
          204,
          171,
          139,
          122,
          105,
          92,
          88,
          80,
          51,
          44,
          36,
          35,
          27,
          22,
          11,
          3,
          0
         ],
         "xaxis": "x",
         "y": [
          0.6448213657028512,
          0.6438232417226258,
          0.6434620313028976,
          0.6434386411805102,
          0.6430053168007983,
          0.6412675263065541,
          0.6385897944444284,
          0.6380377130040613,
          0.6371110351568676,
          0.6361268464195304,
          0.6359093944306493,
          0.6352464973519683,
          0.6245628367658314,
          0.6146047177287142,
          0.614057522929264,
          0.6112160423280312,
          0.6061148302990033,
          0.5996087632005401,
          0.5960762753746942,
          0.5869252363702961,
          0.5818590189243542,
          0.5722322002900346
         ],
         "yaxis": "y",
         "type": "scatter"
        },
        {
         "hovertemplate": "result=Res93<br>iteration=%{x}<br>belief=%{y}<extra></extra>",
         "legendgroup": "Res93",
         "marker": {
          "color": "#FF97FF",
          "symbol": "circle"
         },
         "mode": "markers",
         "name": "Res93",
         "orientation": "v",
         "showlegend": true,
         "x": [
          669,
          594,
          532,
          461,
          383,
          307,
          281,
          269,
          256,
          166,
          141,
          100,
          75,
          61,
          50,
          46,
          42,
          40,
          24,
          20,
          11,
          9,
          6,
          3,
          2,
          1,
          0
         ],
         "xaxis": "x",
         "y": [
          0.6448184419375529,
          0.6447229357433799,
          0.6408309447038063,
          0.6398333256569709,
          0.6394219121444011,
          0.6393698038984521,
          0.6393201048484022,
          0.6361136777224872,
          0.6357949684755435,
          0.6357065550517135,
          0.6337259846619994,
          0.6335610970821912,
          0.6334524714802297,
          0.6321165293144653,
          0.6240799298077233,
          0.6202049682702059,
          0.6128595032714467,
          0.6107678345405124,
          0.6083429404953907,
          0.6061910314344753,
          0.5815798015530764,
          0.5807624255911876,
          0.57221698521378,
          0.5650943555047383,
          0.5461028642733016,
          0.5306126485616909,
          0.5001331021715365
         ],
         "yaxis": "y",
         "type": "scatter"
        },
        {
         "hovertemplate": "result=Res87<br>iteration=%{x}<br>belief=%{y}<extra></extra>",
         "legendgroup": "Res87",
         "marker": {
          "color": "#FECB52",
          "symbol": "circle"
         },
         "mode": "markers",
         "name": "Res87",
         "orientation": "v",
         "showlegend": true,
         "x": [
          666,
          490,
          352,
          341,
          320,
          301,
          298,
          240,
          205,
          154,
          146,
          100,
          59,
          58,
          36,
          29,
          28,
          18,
          3,
          1,
          0
         ],
         "xaxis": "x",
         "y": [
          0.6448038209992588,
          0.6433588117785538,
          0.640461916784884,
          0.6404424250162278,
          0.6396252596032761,
          0.6373267918252532,
          0.6364816538393314,
          0.636250176029752,
          0.6358411611082794,
          0.6352517085841387,
          0.6309057334398924,
          0.6302470765513561,
          0.6242538312963068,
          0.6223817410686102,
          0.6190764666358863,
          0.6020735650310209,
          0.6003787164837993,
          0.6002449392998305,
          0.6001014712233419,
          0.5994399847046158,
          0.5838401792382906
         ],
         "yaxis": "y",
         "type": "scatter"
        },
        {
         "hovertemplate": "result=Res22<br>iteration=%{x}<br>belief=%{y}<extra></extra>",
         "legendgroup": "Res22",
         "marker": {
          "color": "#636efa",
          "symbol": "circle"
         },
         "mode": "markers",
         "name": "Res22",
         "orientation": "v",
         "showlegend": true,
         "x": [
          926,
          653,
          652,
          591,
          581,
          554,
          499,
          416,
          373,
          368,
          306,
          255,
          205,
          179,
          178,
          155,
          132,
          107,
          90,
          77,
          63,
          46,
          41,
          35,
          20,
          9,
          4,
          0
         ],
         "xaxis": "x",
         "y": [
          0.6448038209992588,
          0.6433588117785538,
          0.643327624948704,
          0.6425163070663491,
          0.6418758143352972,
          0.6412759662012065,
          0.6401306306659262,
          0.6378648599616052,
          0.6376956306297584,
          0.6373639155111083,
          0.6360751333415416,
          0.6352824759102073,
          0.6346754319432374,
          0.6336111073766855,
          0.6327174492854561,
          0.6327155001085905,
          0.6304560098679938,
          0.6288585816206893,
          0.6228780069474643,
          0.621236308740054,
          0.6176618349697116,
          0.6124374331054384,
          0.6091472066367818,
          0.6070215454971684,
          0.6062440138824878,
          0.6062103749977682,
          0.5983795402255326,
          0.591028569880772
         ],
         "yaxis": "y",
         "type": "scatter"
        },
        {
         "hovertemplate": "result=Res10<br>iteration=%{x}<br>belief=%{y}<extra></extra>",
         "legendgroup": "Res10",
         "marker": {
          "color": "#EF553B",
          "symbol": "circle"
         },
         "mode": "markers",
         "name": "Res10",
         "orientation": "v",
         "showlegend": true,
         "x": [
          610,
          606,
          381,
          344,
          342,
          229,
          225,
          207,
          181,
          177,
          170,
          157,
          133,
          118,
          116,
          101,
          87,
          74,
          65,
          53,
          28,
          16,
          14,
          8,
          5,
          4,
          2,
          1,
          0
         ],
         "xaxis": "x",
         "y": [
          0.6447921259380651,
          0.6447687358156777,
          0.6429353142319094,
          0.6388492396904923,
          0.6379668021605237,
          0.6373741813188766,
          0.6358013027821906,
          0.63493419272034,
          0.63469598608421,
          0.6331740949916334,
          0.6314172193693421,
          0.6267765169315382,
          0.6254476579426043,
          0.6158011501875512,
          0.614749636534129,
          0.6145433486164743,
          0.6118195706729171,
          0.6071194407158499,
          0.6013132209618194,
          0.6009769705384262,
          0.5992195528720807,
          0.5967369259388875,
          0.589567559735831,
          0.5729623570915419,
          0.5716576689127698,
          0.5710169554348423,
          0.5584494438610066,
          0.5411699868768098,
          0.5377174766297048
         ],
         "yaxis": "y",
         "type": "scatter"
        },
        {
         "hovertemplate": "result=Res21<br>iteration=%{x}<br>belief=%{y}<extra></extra>",
         "legendgroup": "Res21",
         "marker": {
          "color": "#00cc96",
          "symbol": "circle"
         },
         "mode": "markers",
         "name": "Res21",
         "orientation": "v",
         "showlegend": true,
         "x": [
          693,
          406,
          362,
          304,
          294,
          293,
          217,
          212,
          140,
          83,
          74,
          64,
          36,
          25,
          22,
          21,
          20,
          19,
          13,
          10,
          4,
          0
         ],
         "xaxis": "x",
         "y": [
          0.6447379305359071,
          0.6413526184285839,
          0.6371123586848713,
          0.6370879243312807,
          0.6358946101096503,
          0.6343305137685693,
          0.6334229448599709,
          0.6334165752137724,
          0.6333058475819074,
          0.6332814132283169,
          0.631717316887236,
          0.6274108871446873,
          0.6258584858648001,
          0.6178076638926198,
          0.6093794964358932,
          0.6065726453534064,
          0.60382054556802,
          0.5979587061776721,
          0.5962756161506351,
          0.583959598614846,
          0.5763838591012689,
          0.5532060985432665
         ],
         "yaxis": "y",
         "type": "scatter"
        },
        {
         "hovertemplate": "result=Res34<br>iteration=%{x}<br>belief=%{y}<extra></extra>",
         "legendgroup": "Res34",
         "marker": {
          "color": "#ab63fa",
          "symbol": "circle"
         },
         "mode": "markers",
         "name": "Res34",
         "orientation": "v",
         "showlegend": true,
         "x": [
          1261,
          1238,
          1125,
          1037,
          924,
          735,
          684,
          670,
          413,
          366,
          354,
          156,
          133,
          64,
          34,
          26,
          13,
          12,
          9,
          7,
          4,
          0
         ],
         "xaxis": "x",
         "y": [
          0.6446175966364822,
          0.644310176299266,
          0.6437502261762034,
          0.6435775397771308,
          0.6435346895692367,
          0.6428939976465354,
          0.6427925596918613,
          0.6425428993938604,
          0.6424708228301077,
          0.641720344793855,
          0.6416368380482063,
          0.6397439506543976,
          0.6383022062594911,
          0.6355032463604944,
          0.6326080625094876,
          0.6324841058214328,
          0.6129223287919141,
          0.6009696203332372,
          0.5859873375608591,
          0.5832327707661688,
          0.5758247123370923,
          0.5747374857896794
         ],
         "yaxis": "y",
         "type": "scatter"
        },
        {
         "hovertemplate": "result=Res41<br>iteration=%{x}<br>belief=%{y}<extra></extra>",
         "legendgroup": "Res41",
         "marker": {
          "color": "#FFA15A",
          "symbol": "circle"
         },
         "mode": "markers",
         "name": "Res41",
         "orientation": "v",
         "showlegend": true,
         "x": [
          599,
          589,
          373,
          273,
          269,
          234,
          204,
          189,
          173,
          93,
          82,
          73,
          61,
          48,
          43,
          30,
          27,
          25,
          12,
          11,
          10,
          9,
          7,
          6,
          4,
          0
         ],
         "xaxis": "x",
         "y": [
          0.6445892647020468,
          0.6432310024431617,
          0.6412390377783047,
          0.6402430554458762,
          0.6391790556791045,
          0.6387128924460423,
          0.6370279419669354,
          0.6356014447295439,
          0.6343243210485199,
          0.6341007843236872,
          0.6339690327505946,
          0.6336932306377119,
          0.6331890980977166,
          0.6289215916798512,
          0.6284650874967928,
          0.6261376354902756,
          0.6192001259169867,
          0.6136616930784697,
          0.612675577884323,
          0.6027292480824147,
          0.5884971237419603,
          0.5728063392929248,
          0.5571393277089358,
          0.5462842083466095,
          0.5411778838069644,
          0.5387768877598083
         ],
         "yaxis": "y",
         "type": "scatter"
        },
        {
         "hovertemplate": "result=Res16<br>iteration=%{x}<br>belief=%{y}<extra></extra>",
         "legendgroup": "Res16",
         "marker": {
          "color": "#19d3f3",
          "symbol": "circle"
         },
         "mode": "markers",
         "name": "Res16",
         "orientation": "v",
         "showlegend": true,
         "x": [
          351,
          332,
          326,
          193,
          183,
          172,
          158,
          95,
          92,
          83,
          72,
          58,
          55,
          53,
          51,
          45,
          44,
          33,
          32,
          27,
          21,
          14,
          2,
          0
         ],
         "xaxis": "x",
         "y": [
          0.6445474199339145,
          0.6429833235928335,
          0.6407143511158886,
          0.6385235168474526,
          0.6385176693168557,
          0.633244172236571,
          0.6322892757245788,
          0.6271671772763856,
          0.6265619256942778,
          0.6263994574832903,
          0.6237225401579085,
          0.6207732298590019,
          0.6194474233005481,
          0.6152820678904027,
          0.6137373704528789,
          0.6075665815741151,
          0.597380500340773,
          0.5813277643978594,
          0.5693420975048347,
          0.5674626786128252,
          0.5657989173927256,
          0.5604272323284646,
          0.5569378442534275,
          0.5533654052645456
         ],
         "yaxis": "y",
         "type": "scatter"
        },
        {
         "hovertemplate": "result=Res58<br>iteration=%{x}<br>belief=%{y}<extra></extra>",
         "legendgroup": "Res58",
         "marker": {
          "color": "#FF6692",
          "symbol": "circle"
         },
         "mode": "markers",
         "name": "Res58",
         "orientation": "v",
         "showlegend": true,
         "x": [
          635,
          490,
          459,
          454,
          441,
          418,
          360,
          322,
          248,
          221,
          210,
          209,
          190,
          157,
          124,
          121,
          112,
          98,
          56,
          41,
          31,
          30,
          29,
          10,
          8,
          2,
          0
         ],
         "xaxis": "x",
         "y": [
          0.6445464144941526,
          0.644173651860237,
          0.6435735032888548,
          0.642828489953138,
          0.6396657979700235,
          0.6388829603435788,
          0.6386034767288041,
          0.638578787155173,
          0.6343632169850916,
          0.6325647954094553,
          0.6310027661695771,
          0.6300853819813641,
          0.6288844467824285,
          0.6260307295211988,
          0.6243589145017667,
          0.6215962321430963,
          0.6215637458620028,
          0.6209196270602164,
          0.6200120581516182,
          0.6158905188392457,
          0.612330994695216,
          0.6069284138689257,
          0.6045020876216862,
          0.6026872696685682,
          0.5859215012682555,
          0.5727973709826664,
          0.5179517228629396
         ],
         "yaxis": "y",
         "type": "scatter"
        },
        {
         "hovertemplate": "result=Res66<br>iteration=%{x}<br>belief=%{y}<extra></extra>",
         "legendgroup": "Res66",
         "marker": {
          "color": "#B6E880",
          "symbol": "circle"
         },
         "mode": "markers",
         "name": "Res66",
         "orientation": "v",
         "showlegend": true,
         "x": [
          899,
          633,
          554,
          466,
          365,
          285,
          279,
          211,
          203,
          185,
          155,
          132,
          95,
          76,
          49,
          42,
          41,
          23,
          18,
          17,
          14,
          12,
          10,
          4,
          2,
          1,
          0
         ],
         "xaxis": "x",
         "y": [
          0.6445271912650079,
          0.6444583917131632,
          0.643528285167281,
          0.6425381161587083,
          0.642423907177406,
          0.6391401055431392,
          0.638914542651817,
          0.6383904593072468,
          0.6366236360191981,
          0.6354889058100415,
          0.6322841413473337,
          0.6318669923922047,
          0.6314417163451067,
          0.629659373915563,
          0.6269936569787099,
          0.6261214405728499,
          0.6261114941708457,
          0.6170231491257945,
          0.6166122775489983,
          0.6110718918605451,
          0.5980998545897459,
          0.5964226158186506,
          0.5774490666585057,
          0.573236645015057,
          0.5545916883789492,
          0.5471893248936814,
          0.5076270323575413
         ],
         "yaxis": "y",
         "type": "scatter"
        },
        {
         "hovertemplate": "result=Res65<br>iteration=%{x}<br>belief=%{y}<extra></extra>",
         "legendgroup": "Res65",
         "marker": {
          "color": "#FF97FF",
          "symbol": "circle"
         },
         "mode": "markers",
         "name": "Res65",
         "orientation": "v",
         "showlegend": true,
         "x": [
          785,
          749,
          722,
          504,
          468,
          454,
          434,
          421,
          407,
          291,
          283,
          234,
          193,
          184,
          182,
          168,
          167,
          150,
          124,
          103,
          91,
          88,
          48,
          45,
          30,
          26,
          18,
          15,
          14,
          13,
          9,
          6,
          5,
          4,
          3,
          0
         ],
         "xaxis": "x",
         "y": [
          0.6444810721974531,
          0.6436343136623057,
          0.6435329599375358,
          0.643402772599446,
          0.6428097021216014,
          0.6428038545910045,
          0.6418815264662594,
          0.6417797812668287,
          0.6409076902964539,
          0.6400861693228497,
          0.6399863208397258,
          0.6385656711329312,
          0.6379144691154439,
          0.6366616315712539,
          0.6340999137433353,
          0.6334479140997208,
          0.6333791145478761,
          0.6312367937794217,
          0.630550022046692,
          0.6240097915342696,
          0.6190992994140825,
          0.6187469891142964,
          0.6176816372254463,
          0.6152170862585065,
          0.6122274549311453,
          0.6120069635294103,
          0.6117803404574982,
          0.6008663360865308,
          0.5979221077494326,
          0.5964790541101433,
          0.5962718948389486,
          0.5715444876703694,
          0.5678104486185477,
          0.5652265887440533,
          0.5644003544785927,
          0.5263879521491664
         ],
         "yaxis": "y",
         "type": "scatter"
        },
        {
         "hovertemplate": "result=Res7<br>iteration=%{x}<br>belief=%{y}<extra></extra>",
         "legendgroup": "Res7",
         "marker": {
          "color": "#FECB52",
          "symbol": "circle"
         },
         "mode": "markers",
         "name": "Res7",
         "orientation": "v",
         "showlegend": true,
         "x": [
          520,
          503,
          426,
          328,
          312,
          294,
          146,
          139,
          107,
          96,
          44,
          43,
          42,
          30,
          26,
          18,
          9,
          8,
          6,
          5,
          0
         ],
         "xaxis": "x",
         "y": [
          0.6444437769729968,
          0.6442022324223269,
          0.6431557675153388,
          0.6429820584823993,
          0.6390260014645355,
          0.6386715450862006,
          0.6386318464879781,
          0.6334750971451749,
          0.6333455116007869,
          0.631442875193843,
          0.6308023824627911,
          0.6301678522656651,
          0.626930190494496,
          0.6212299103629014,
          0.60262065346224,
          0.6026148059316432,
          0.5845491553942261,
          0.5784794433240639,
          0.5652393527185482,
          0.5600360115588746,
          0.5448234122475966
         ],
         "yaxis": "y",
         "type": "scatter"
        },
        {
         "hovertemplate": "result=Res23<br>iteration=%{x}<br>belief=%{y}<extra></extra>",
         "legendgroup": "Res23",
         "marker": {
          "color": "#636efa",
          "symbol": "circle"
         },
         "mode": "markers",
         "name": "Res23",
         "orientation": "v",
         "showlegend": true,
         "x": [
          822,
          806,
          781,
          643,
          611,
          371,
          333,
          190,
          181,
          171,
          139,
          138,
          133,
          127,
          119,
          97,
          72,
          41,
          29,
          27,
          21,
          13,
          12,
          6,
          4,
          2,
          1,
          0
         ],
         "xaxis": "x",
         "y": [
          0.6442463420338059,
          0.6438254944391848,
          0.6427866618988621,
          0.6421345333383761,
          0.6388928982837879,
          0.6362784321355173,
          0.6361522184082626,
          0.6320939581577575,
          0.6293381406324484,
          0.6285607590619398,
          0.6248118597225008,
          0.6237402248113637,
          0.623628278059547,
          0.6228819560251193,
          0.6211250530333416,
          0.6180578351934576,
          0.6173156628648944,
          0.6065207589836189,
          0.5929342365750652,
          0.5908081765353459,
          0.5903997923274238,
          0.5864961781666844,
          0.5710954826221292,
          0.5649306752687049,
          0.5612952614071414,
          0.5509731109212361,
          0.5284776515930018,
          0.5225409585375107
         ],
         "yaxis": "y",
         "type": "scatter"
        },
        {
         "hovertemplate": "result=Res39<br>iteration=%{x}<br>belief=%{y}<extra></extra>",
         "legendgroup": "Res39",
         "marker": {
          "color": "#EF553B",
          "symbol": "circle"
         },
         "mode": "markers",
         "name": "Res39",
         "orientation": "v",
         "showlegend": true,
         "x": [
          240,
          223,
          212,
          199,
          154,
          152,
          110,
          95,
          75,
          73,
          65,
          51,
          45,
          21,
          10,
          9,
          4,
          3,
          2,
          1,
          0
         ],
         "xaxis": "x",
         "y": [
          0.6442022324223269,
          0.6422718447397967,
          0.6407494498335713,
          0.6404213409597095,
          0.6403913345860477,
          0.6328616174552992,
          0.6298436017842678,
          0.6297269374366509,
          0.6276854851537031,
          0.6237001433630415,
          0.6220307116399347,
          0.6213578269974566,
          0.6204149445865266,
          0.6093139762121664,
          0.6064348289729286,
          0.6050050088507897,
          0.6012304252046692,
          0.5783506968586627,
          0.5636225010952105,
          0.5624126754841896,
          0.5600798476945943
         ],
         "yaxis": "y",
         "type": "scatter"
        },
        {
         "hovertemplate": "result=Res81<br>iteration=%{x}<br>belief=%{y}<extra></extra>",
         "legendgroup": "Res81",
         "marker": {
          "color": "#00cc96",
          "symbol": "circle"
         },
         "mode": "markers",
         "name": "Res81",
         "orientation": "v",
         "showlegend": true,
         "x": [
          671,
          591,
          446,
          427,
          388,
          354,
          222,
          182,
          174,
          59,
          53,
          49,
          32,
          28,
          6,
          4,
          0
         ],
         "xaxis": "x",
         "y": [
          0.6441864472023686,
          0.6437418339129293,
          0.6428982099003371,
          0.6428553596924428,
          0.6403090213419894,
          0.6381463354861413,
          0.6358136683572189,
          0.635214682379593,
          0.63487773889778,
          0.6320943515042523,
          0.6212189799241785,
          0.6210618891951408,
          0.6050121793575629,
          0.6012077191581127,
          0.60069310911699,
          0.58866310486631,
          0.5868803023030356
         ],
         "yaxis": "y",
         "type": "scatter"
        },
        {
         "hovertemplate": "result=Res51<br>iteration=%{x}<br>belief=%{y}<extra></extra>",
         "legendgroup": "Res51",
         "marker": {
          "color": "#ab63fa",
          "symbol": "circle"
         },
         "mode": "markers",
         "name": "Res51",
         "orientation": "v",
         "showlegend": true,
         "x": [
          610,
          582,
          569,
          487,
          376,
          372,
          349,
          324,
          321,
          317,
          165,
          116,
          104,
          93,
          42,
          38,
          30,
          24,
          22,
          11,
          10,
          9,
          0
         ],
         "xaxis": "x",
         "y": [
          0.6441571016603771,
          0.6440929195590162,
          0.6435735032888548,
          0.6434647772944141,
          0.6410640532443765,
          0.6400304801665715,
          0.6400089618521441,
          0.638354815372826,
          0.6383148889302303,
          0.6381813298642305,
          0.6374301488191563,
          0.6361319645826693,
          0.6316861960494956,
          0.6310994813971318,
          0.6248323121097126,
          0.6186351569956765,
          0.6172904164452548,
          0.6056901411785405,
          0.5909266773697728,
          0.5906756324736053,
          0.5857116239977335,
          0.5854412842253436,
          0.5759813165841308
         ],
         "yaxis": "y",
         "type": "scatter"
        },
        {
         "hovertemplate": "result=Res48<br>iteration=%{x}<br>belief=%{y}<extra></extra>",
         "legendgroup": "Res48",
         "marker": {
          "color": "#FFA15A",
          "symbol": "circle"
         },
         "mode": "markers",
         "name": "Res48",
         "orientation": "v",
         "showlegend": true,
         "x": [
          321,
          262,
          245,
          222,
          186,
          126,
          124,
          108,
          93,
          76,
          69,
          56,
          41,
          40,
          32,
          27,
          25,
          10,
          8,
          7,
          6,
          3,
          2,
          0
         ],
         "xaxis": "x",
         "y": [
          0.6440372255168896,
          0.6429807518062669,
          0.6421749280970993,
          0.638251750227676,
          0.6367842151647991,
          0.6355141487855811,
          0.6319586687128665,
          0.6305568507605559,
          0.6242919266812738,
          0.6237688858799986,
          0.616645384447404,
          0.6160613554359478,
          0.6131123169077695,
          0.6101155376164185,
          0.6016920715032488,
          0.6005033201461839,
          0.5978651376638677,
          0.5977263287499635,
          0.5932881093252655,
          0.5883886358259445,
          0.5747105702606248,
          0.5655401686624045,
          0.559682049239447,
          0.5405869102063149
         ],
         "yaxis": "y",
         "type": "scatter"
        },
        {
         "hovertemplate": "result=Res6<br>iteration=%{x}<br>belief=%{y}<extra></extra>",
         "legendgroup": "Res6",
         "marker": {
          "color": "#19d3f3",
          "symbol": "circle"
         },
         "mode": "markers",
         "name": "Res6",
         "orientation": "v",
         "showlegend": true,
         "x": [
          603,
          523,
          473,
          433,
          350,
          344,
          304,
          288,
          229,
          154,
          123,
          101,
          73,
          39,
          32,
          20,
          14,
          12,
          6,
          0
         ],
         "xaxis": "x",
         "y": [
          0.6440372255168896,
          0.6434140761859789,
          0.6427954266743009,
          0.6427555002317051,
          0.6424705156656284,
          0.639793635978825,
          0.6393587917049293,
          0.6375661413195672,
          0.637136775187643,
          0.636379371340531,
          0.631812716582822,
          0.6311763944884983,
          0.6295978151587757,
          0.6263456565679659,
          0.6220626491369918,
          0.6220116188221023,
          0.6219269067681636,
          0.5932082228404009,
          0.5887300508478276,
          0.5806939935242913
         ],
         "yaxis": "y",
         "type": "scatter"
        },
        {
         "hovertemplate": "result=Res63<br>iteration=%{x}<br>belief=%{y}<extra></extra>",
         "legendgroup": "Res63",
         "marker": {
          "color": "#FF6692",
          "symbol": "circle"
         },
         "mode": "markers",
         "name": "Res63",
         "orientation": "v",
         "showlegend": true,
         "x": [
          233,
          121,
          119,
          77,
          56,
          49,
          44,
          29,
          28,
          19,
          15,
          8,
          5,
          3,
          0
         ],
         "xaxis": "x",
         "y": [
          0.6438941682454622,
          0.6428965491986267,
          0.64117175321682,
          0.6336458717481159,
          0.6305582179070534,
          0.6088334374879382,
          0.5936632023627113,
          0.5926877170641696,
          0.5830582702048053,
          0.565723797681196,
          0.5643319228694914,
          0.5597965944779255,
          0.5552248941216854,
          0.5428525251172234,
          0.5419551106368701
         ],
         "yaxis": "y",
         "type": "scatter"
        },
        {
         "hovertemplate": "result=Res71<br>iteration=%{x}<br>belief=%{y}<extra></extra>",
         "legendgroup": "Res71",
         "marker": {
          "color": "#B6E880",
          "symbol": "circle"
         },
         "mode": "markers",
         "name": "Res71",
         "orientation": "v",
         "showlegend": true,
         "x": [
          492,
          471,
          458,
          323,
          275,
          218,
          216,
          207,
          172,
          163,
          131,
          123,
          92,
          70,
          63,
          57,
          27,
          24,
          21,
          12,
          5,
          4,
          0
         ],
         "xaxis": "x",
         "y": [
          0.6438403802747519,
          0.642465219643007,
          0.6409949711928065,
          0.6409521209849123,
          0.6391614175213061,
          0.636495547769397,
          0.6354344717679236,
          0.6341560814823486,
          0.6337978309141409,
          0.6328743202214058,
          0.6316319266786452,
          0.6300053263235397,
          0.6289513621043207,
          0.6286408323949003,
          0.6274896493290232,
          0.6186370205029386,
          0.6181970611330883,
          0.6105425642227599,
          0.6072033288604655,
          0.606958602280573,
          0.6003922263309585,
          0.5976309477347482,
          0.5928867064053396
         ],
         "yaxis": "y",
         "type": "scatter"
        },
        {
         "hovertemplate": "result=Res47<br>iteration=%{x}<br>belief=%{y}<extra></extra>",
         "legendgroup": "Res47",
         "marker": {
          "color": "#FF97FF",
          "symbol": "circle"
         },
         "mode": "markers",
         "name": "Res47",
         "orientation": "v",
         "showlegend": true,
         "x": [
          378,
          372,
          326,
          278,
          232,
          187,
          156,
          150,
          142,
          118,
          116,
          99,
          96,
          88,
          42,
          32,
          30,
          27,
          17,
          10,
          3,
          0
         ],
         "xaxis": "x",
         "y": [
          0.6435107466618163,
          0.6428651166644003,
          0.6425370077905384,
          0.6424068204524487,
          0.64162943888194,
          0.6394118771515278,
          0.6368564972355766,
          0.6349867138279328,
          0.6339859709055824,
          0.6305782026521578,
          0.629239336721095,
          0.6284202537157308,
          0.6268372889019367,
          0.6235635958046439,
          0.6235109944293156,
          0.6214250336568217,
          0.6208891150585065,
          0.6204828806255609,
          0.617963880937271,
          0.6132934650769313,
          0.594895153588166,
          0.5945586870206044
         ],
         "yaxis": "y",
         "type": "scatter"
        },
        {
         "hovertemplate": "result=Res25<br>iteration=%{x}<br>belief=%{y}<extra></extra>",
         "legendgroup": "Res25",
         "marker": {
          "color": "#FECB52",
          "symbol": "circle"
         },
         "mode": "markers",
         "name": "Res25",
         "orientation": "v",
         "showlegend": true,
         "x": [
          867,
          819,
          722,
          658,
          648,
          439,
          408,
          398,
          236,
          192,
          150,
          144,
          135,
          129,
          122,
          90,
          59,
          35,
          31,
          25,
          10,
          7,
          4,
          2,
          0
         ],
         "xaxis": "x",
         "y": [
          0.6434612351982051,
          0.6433688825256928,
          0.6426940127634907,
          0.642506329898305,
          0.6410254150648766,
          0.6405808017754373,
          0.6400393860148095,
          0.6399335837856672,
          0.6371583982318049,
          0.6371266982175693,
          0.6370952537396256,
          0.6314696144893022,
          0.6309086871044246,
          0.6284942865637064,
          0.6267603854385866,
          0.6261185354323489,
          0.6260979994324894,
          0.6242309818397499,
          0.6203968812630999,
          0.6183716800914061,
          0.6061837433726235,
          0.6014250233929658,
          0.5869496390101456,
          0.5583557468606184,
          0.5539804620587898
         ],
         "yaxis": "y",
         "type": "scatter"
        },
        {
         "hovertemplate": "result=Res84<br>iteration=%{x}<br>belief=%{y}<extra></extra>",
         "legendgroup": "Res84",
         "marker": {
          "color": "#636efa",
          "symbol": "circle"
         },
         "mode": "markers",
         "name": "Res84",
         "orientation": "v",
         "showlegend": true,
         "x": [
          669,
          526,
          345,
          327,
          323,
          304,
          244,
          231,
          212,
          190,
          189,
          160,
          152,
          149,
          119,
          116,
          92,
          79,
          71,
          16,
          13,
          12,
          10,
          8,
          7,
          6,
          4,
          0
         ],
         "xaxis": "x",
         "y": [
          0.6433688825256928,
          0.6433558880132554,
          0.6431143434625856,
          0.6403048600273673,
          0.6389882761972963,
          0.6355137553697691,
          0.6353644612048859,
          0.635267530664118,
          0.6351143381455036,
          0.6342623859993493,
          0.6330887860421831,
          0.633059801813689,
          0.6317592086187933,
          0.6306537587744657,
          0.6287142580185605,
          0.6262879811435482,
          0.6260034112257664,
          0.6251266839455091,
          0.6241949751064098,
          0.6237714680706901,
          0.613282622072703,
          0.5971615914682822,
          0.596807884455284,
          0.5919719581293345,
          0.5804897158621284,
          0.5602766587394713,
          0.5595209845033879,
          0.5552411492629141
         ],
         "yaxis": "y",
         "type": "scatter"
        },
        {
         "hovertemplate": "result=Res35<br>iteration=%{x}<br>belief=%{y}<extra></extra>",
         "legendgroup": "Res35",
         "marker": {
          "color": "#EF553B",
          "symbol": "circle"
         },
         "mode": "markers",
         "name": "Res35",
         "orientation": "v",
         "showlegend": true,
         "x": [
          432,
          377,
          209,
          130,
          122,
          86,
          80,
          62,
          48,
          36,
          19,
          15,
          11,
          8,
          7,
          5,
          3,
          2,
          0
         ],
         "xaxis": "x",
         "y": [
          0.6433588117785538,
          0.6430513914413376,
          0.6426707757857366,
          0.641400438361601,
          0.6400586486652398,
          0.6300825537476016,
          0.6289811664565204,
          0.6143860215620953,
          0.6129901833398288,
          0.6070265903592016,
          0.5969211420114083,
          0.5941502638183767,
          0.587018203438851,
          0.5859754725447972,
          0.5729038921124703,
          0.5617145349506792,
          0.5527437337607488,
          0.5504447237846346,
          0.530871357318986
         ],
         "yaxis": "y",
         "type": "scatter"
        },
        {
         "hovertemplate": "result=Res31<br>iteration=%{x}<br>belief=%{y}<extra></extra>",
         "legendgroup": "Res31",
         "marker": {
          "color": "#00cc96",
          "symbol": "circle"
         },
         "mode": "markers",
         "name": "Res31",
         "orientation": "v",
         "showlegend": true,
         "x": [
          1215,
          1193,
          1172,
          1134,
          984,
          885,
          637,
          437,
          333,
          261,
          259,
          257,
          211,
          207,
          180,
          144,
          72,
          63,
          46,
          38,
          8,
          5,
          2,
          0
         ],
         "xaxis": "x",
         "y": [
          0.6433289243999477,
          0.6433260006346493,
          0.6426879118084039,
          0.642545328643305,
          0.6415130668704281,
          0.6412337647871125,
          0.6411998510838919,
          0.6404656986105907,
          0.6401174299064516,
          0.6396152215362786,
          0.6394462786834141,
          0.6351144003419704,
          0.6337376531494012,
          0.6331991611540718,
          0.6304398474712412,
          0.6287117884702482,
          0.6276660153170867,
          0.6246536974218504,
          0.623454686220624,
          0.6126992265382796,
          0.6020027576252813,
          0.5874669904224076,
          0.5824376842242633,
          0.5643079410685292
         ],
         "yaxis": "y",
         "type": "scatter"
        },
        {
         "hovertemplate": "result=Res15<br>iteration=%{x}<br>belief=%{y}<extra></extra>",
         "legendgroup": "Res15",
         "marker": {
          "color": "#ab63fa",
          "symbol": "circle"
         },
         "mode": "markers",
         "name": "Res15",
         "orientation": "v",
         "showlegend": true,
         "x": [
          682,
          520,
          450,
          438,
          336,
          277,
          252,
          250,
          239,
          237,
          117,
          73,
          64,
          30,
          20,
          15,
          12,
          7,
          4,
          0
         ],
         "xaxis": "x",
         "y": [
          0.6432448828537098,
          0.6398242234102332,
          0.6388260994300077,
          0.638695912091918,
          0.6371461879133192,
          0.6371094871887737,
          0.6356393181300575,
          0.6319963927197526,
          0.6317590237988376,
          0.6316454281708705,
          0.6287271972868427,
          0.6273808626194017,
          0.6259661892672508,
          0.6250650491017533,
          0.6217565347810587,
          0.6152922042278905,
          0.6019360416968614,
          0.6015827911566618,
          0.5903551021051704,
          0.5755782164462104
         ],
         "yaxis": "y",
         "type": "scatter"
        },
        {
         "hovertemplate": "result=Res98<br>iteration=%{x}<br>belief=%{y}<extra></extra>",
         "legendgroup": "Res98",
         "marker": {
          "color": "#FFA15A",
          "symbol": "circle"
         },
         "mode": "markers",
         "name": "Res98",
         "orientation": "v",
         "showlegend": true,
         "x": [
          516,
          512,
          319,
          264,
          260,
          116,
          86,
          62,
          54,
          48,
          41,
          37,
          35,
          34,
          25,
          18,
          17,
          15,
          11,
          9,
          7,
          5,
          2,
          0
         ],
         "xaxis": "x",
         "y": [
          0.6431684539246659,
          0.6428702828375965,
          0.6428197678787202,
          0.6427139656495781,
          0.6403861345658282,
          0.6354720626954786,
          0.6311253391741773,
          0.6253870475117344,
          0.6246560520007225,
          0.622969687666769,
          0.6229038118802226,
          0.6223274471594682,
          0.6169232928615311,
          0.6137829207872256,
          0.6134084510713008,
          0.6077869179358626,
          0.5973674582913138,
          0.5926281131850684,
          0.5785569797863864,
          0.5765670099349205,
          0.5758749774875709,
          0.5631015020330534,
          0.5477562669186891,
          0.5330956630612284
         ],
         "yaxis": "y",
         "type": "scatter"
        },
        {
         "hovertemplate": "result=Res72<br>iteration=%{x}<br>belief=%{y}<extra></extra>",
         "legendgroup": "Res72",
         "marker": {
          "color": "#19d3f3",
          "symbol": "circle"
         },
         "mode": "markers",
         "name": "Res72",
         "orientation": "v",
         "showlegend": true,
         "x": [
          1145,
          1077,
          785,
          507,
          333,
          316,
          235,
          207,
          166,
          164,
          132,
          111,
          104,
          89,
          86,
          82,
          62,
          42,
          34,
          9,
          4,
          3,
          2,
          0
         ],
         "xaxis": "x",
         "y": [
          0.6431450962640554,
          0.6427059243537466,
          0.6425939028551775,
          0.6425244251939121,
          0.6417174210285566,
          0.6413324361261021,
          0.6411397470290976,
          0.6393241093256425,
          0.638448947336289,
          0.6383134781060769,
          0.6376253103632252,
          0.6368300012590634,
          0.633917891873462,
          0.6337706227481295,
          0.6306545868600073,
          0.6300284938484985,
          0.6229687330059777,
          0.6094844893068869,
          0.6075544530154959,
          0.5997431554499966,
          0.5849768596565852,
          0.5744251234765085,
          0.573896914396169,
          0.5458531807939017
         ],
         "yaxis": "y",
         "type": "scatter"
        },
        {
         "hovertemplate": "result=Res8<br>iteration=%{x}<br>belief=%{y}<extra></extra>",
         "legendgroup": "Res8",
         "marker": {
          "color": "#FF6692",
          "symbol": "circle"
         },
         "mode": "markers",
         "name": "Res8",
         "orientation": "v",
         "showlegend": true,
         "x": [
          414,
          294,
          191,
          190,
          132,
          130,
          119,
          115,
          114,
          103,
          102,
          85,
          77,
          71,
          46,
          37,
          35,
          30,
          15,
          13,
          8,
          7,
          3,
          2,
          1,
          0
         ],
         "xaxis": "x",
         "y": [
          0.6431082722096539,
          0.6414874546823599,
          0.6413612409551053,
          0.6380493027390277,
          0.6378673673282114,
          0.6369372607823292,
          0.6355708304407284,
          0.6346632084927568,
          0.6341272231633368,
          0.6314558222629567,
          0.6280799467090241,
          0.6188957026771099,
          0.6172318654196536,
          0.6147516520341048,
          0.6126476399876037,
          0.6124074705758564,
          0.6013322499625895,
          0.6003012808428545,
          0.5945971691905554,
          0.5924207469382718,
          0.5892975451226111,
          0.5868539028954949,
          0.5702204998663079,
          0.5520724542010147,
          0.5468099095619271,
          0.5231894357694166
         ],
         "yaxis": "y",
         "type": "scatter"
        },
        {
         "hovertemplate": "result=Res50<br>iteration=%{x}<br>belief=%{y}<extra></extra>",
         "legendgroup": "Res50",
         "marker": {
          "color": "#B6E880",
          "symbol": "circle"
         },
         "mode": "markers",
         "name": "Res50",
         "orientation": "v",
         "showlegend": true,
         "x": [
          787,
          634,
          548,
          375,
          374,
          290,
          280,
          265,
          210,
          159,
          156,
          136,
          106,
          77,
          51,
          46,
          15,
          9,
          7,
          5,
          4,
          0
         ],
         "xaxis": "x",
         "y": [
          0.6431082722096539,
          0.6429800987512152,
          0.6418761725418476,
          0.641359281223921,
          0.6319273190349701,
          0.627474025912762,
          0.626734449282325,
          0.6262223804627106,
          0.6257299234983748,
          0.6229679380039785,
          0.6219369021711183,
          0.6146810642627891,
          0.6136750340932808,
          0.6110405369974631,
          0.6034880974686223,
          0.5847756387138926,
          0.5826342245409837,
          0.563991167549699,
          0.5601587911565795,
          0.5577688070853463,
          0.5547618381478385,
          0.5373085816397813
         ],
         "yaxis": "y",
         "type": "scatter"
        },
        {
         "hovertemplate": "result=Res94<br>iteration=%{x}<br>belief=%{y}<extra></extra>",
         "legendgroup": "Res94",
         "marker": {
          "color": "#FF97FF",
          "symbol": "circle"
         },
         "mode": "markers",
         "name": "Res94",
         "orientation": "v",
         "showlegend": true,
         "x": [
          500,
          499,
          331,
          298,
          257,
          96,
          91,
          45,
          36,
          33,
          11,
          9,
          5,
          2,
          0
         ],
         "xaxis": "x",
         "y": [
          0.6430442267760388,
          0.640212784745305,
          0.6400620581409568,
          0.6394141031133445,
          0.6375895582557453,
          0.6339211856413676,
          0.6302230090199389,
          0.6272853557303786,
          0.625046498491231,
          0.6115848214487565,
          0.6052873334677792,
          0.5720004380051809,
          0.5666350433887996,
          0.5657247805470176,
          0.548042354184906
         ],
         "yaxis": "y",
         "type": "scatter"
        },
        {
         "hovertemplate": "result=Res26<br>iteration=%{x}<br>belief=%{y}<extra></extra>",
         "legendgroup": "Res26",
         "marker": {
          "color": "#FECB52",
          "symbol": "circle"
         },
         "mode": "markers",
         "name": "Res26",
         "orientation": "v",
         "showlegend": true,
         "x": [
          1165,
          912,
          859,
          769,
          688,
          642,
          576,
          547,
          283,
          200,
          144,
          90,
          78,
          75,
          74,
          42,
          33,
          16,
          14,
          10,
          9,
          6,
          5,
          4,
          2,
          0
         ],
         "xaxis": "x",
         "y": [
          0.6430040475748509,
          0.6426286818444794,
          0.6417804966919999,
          0.641157482905854,
          0.6407762696448855,
          0.63960017001508,
          0.6381231010748241,
          0.6380241247983123,
          0.6378335181678282,
          0.6367627514863946,
          0.6343177599870327,
          0.6327875773045606,
          0.6327869368264061,
          0.628667710222953,
          0.6193851325335037,
          0.6121920129887977,
          0.6106403783177862,
          0.6079814477488674,
          0.6069177538695176,
          0.6013623974087935,
          0.5750984673038244,
          0.5721640423352828,
          0.5719771460291747,
          0.5561579263411256,
          0.5479602217058483,
          0.5440104758544981
         ],
         "yaxis": "y",
         "type": "scatter"
        },
        {
         "hovertemplate": "result=Res1<br>iteration=%{x}<br>belief=%{y}<extra></extra>",
         "legendgroup": "Res1",
         "marker": {
          "color": "#636efa",
          "symbol": "circle"
         },
         "mode": "markers",
         "name": "Res1",
         "orientation": "v",
         "showlegend": true,
         "x": [
          932,
          756,
          642,
          634,
          392,
          200,
          187,
          147,
          127,
          116,
          114,
          110,
          103,
          87,
          83,
          78,
          44,
          42,
          32,
          26,
          21,
          19,
          12,
          9,
          4,
          3,
          2,
          1,
          0
         ],
         "xaxis": "x",
         "y": [
          0.6429911906353902,
          0.6429716988667342,
          0.6429687751014357,
          0.6428689266183119,
          0.6421702394320346,
          0.6420644372028923,
          0.6407284950371279,
          0.6407226475065311,
          0.6366220406593015,
          0.634539036849906,
          0.633417757348375,
          0.6332012982342522,
          0.6331779081118648,
          0.6314633020267253,
          0.6220049112011546,
          0.6200750954904761,
          0.6176162941163454,
          0.6159826836368867,
          0.6149998397435643,
          0.6128813012314791,
          0.6127912510932421,
          0.59680448901787,
          0.595172092592651,
          0.5797329507331349,
          0.5756392834793372,
          0.5582508516099661,
          0.5557530110677569,
          0.5469841021216253,
          0.5434129555490572
         ],
         "yaxis": "y",
         "type": "scatter"
        },
        {
         "hovertemplate": "result=Res13<br>iteration=%{x}<br>belief=%{y}<extra></extra>",
         "legendgroup": "Res13",
         "marker": {
          "color": "#EF553B",
          "symbol": "circle"
         },
         "mode": "markers",
         "name": "Res13",
         "orientation": "v",
         "showlegend": true,
         "x": [
          382,
          266,
          257,
          210,
          203,
          180,
          162,
          157,
          144,
          119,
          101,
          97,
          76,
          71,
          67,
          62,
          28,
          26,
          21,
          10,
          9,
          0
         ],
         "xaxis": "x",
         "y": [
          0.6426872068421502,
          0.6404737577183707,
          0.6400238445435693,
          0.6384597482024883,
          0.6374867700252316,
          0.6374477864879193,
          0.6348507437769537,
          0.632808677064275,
          0.6312392601466188,
          0.6299777298805198,
          0.6232425082437312,
          0.6229402949589572,
          0.6220315532900168,
          0.6195018854091158,
          0.6081497723504568,
          0.607109395708588,
          0.6051940295441727,
          0.5973806929842578,
          0.5837804397695665,
          0.575119896719005,
          0.5713969100577572,
          0.570681137324476
         ],
         "yaxis": "y",
         "type": "scatter"
        },
        {
         "hovertemplate": "result=Res67<br>iteration=%{x}<br>belief=%{y}<extra></extra>",
         "legendgroup": "Res67",
         "marker": {
          "color": "#00cc96",
          "symbol": "circle"
         },
         "mode": "markers",
         "name": "Res67",
         "orientation": "v",
         "showlegend": true,
         "x": [
          820,
          722,
          715,
          685,
          682,
          612,
          599,
          412,
          409,
          401,
          389,
          201,
          98,
          93,
          43,
          33,
          32,
          29,
          23,
          20,
          8,
          7,
          3,
          2,
          1,
          0
         ],
         "xaxis": "x",
         "y": [
          0.6426286818444794,
          0.6425857999534359,
          0.6423683479645548,
          0.641029482033492,
          0.6404800593896687,
          0.6357758060567523,
          0.6334200423730478,
          0.633345537222936,
          0.632243197466302,
          0.6319144287215757,
          0.6314728614440719,
          0.6313811779024385,
          0.6308989020648375,
          0.6281757176741722,
          0.6199776239583972,
          0.6174852324138383,
          0.603633467872972,
          0.6026968265599881,
          0.5896551408124486,
          0.5795970929639289,
          0.5728091455835786,
          0.5675716564722544,
          0.5483440719139602,
          0.539830722505828,
          0.5364930998086634,
          0.5339899411083079
         ],
         "yaxis": "y",
         "type": "scatter"
        },
        {
         "hovertemplate": "result=Res96<br>iteration=%{x}<br>belief=%{y}<extra></extra>",
         "legendgroup": "Res96",
         "marker": {
          "color": "#ab63fa",
          "symbol": "circle"
         },
         "mode": "markers",
         "name": "Res96",
         "orientation": "v",
         "showlegend": true,
         "x": [
          384,
          319,
          312,
          299,
          265,
          232,
          228,
          178,
          164,
          118,
          113,
          85,
          58,
          43,
          41,
          40,
          24,
          21,
          17,
          8,
          5,
          1,
          0
         ],
         "xaxis": "x",
         "y": [
          0.6420943500651846,
          0.6419379192070112,
          0.6352387887075025,
          0.6345980967848013,
          0.6337922730756336,
          0.6329722139236335,
          0.6320878984380607,
          0.6304326882565254,
          0.6300747743968268,
          0.6267675655229645,
          0.626527690952906,
          0.6147241978259288,
          0.6146660666222064,
          0.6119463771004914,
          0.6069811685826225,
          0.6063147150947847,
          0.6061888110522888,
          0.6002175878960151,
          0.5917485205166573,
          0.5894709265643646,
          0.5668812663213008,
          0.5644167253851751,
          0.5369850881343733
         ],
         "yaxis": "y",
         "type": "scatter"
        },
        {
         "hovertemplate": "result=Res45<br>iteration=%{x}<br>belief=%{y}<extra></extra>",
         "legendgroup": "Res45",
         "marker": {
          "color": "#FFA15A",
          "symbol": "circle"
         },
         "mode": "markers",
         "name": "Res45",
         "orientation": "v",
         "showlegend": true,
         "x": [
          435,
          201,
          175,
          155,
          131,
          110,
          94,
          64,
          53,
          41,
          15,
          14,
          12,
          11,
          4,
          3,
          1,
          0
         ],
         "xaxis": "x",
         "y": [
          0.642072418795301,
          0.6410694401592371,
          0.6400257937204348,
          0.6373678433374905,
          0.6372988513147144,
          0.635813782591263,
          0.63562707431451,
          0.6350856585538822,
          0.6310108903428071,
          0.6299207996561347,
          0.6286559207933413,
          0.6062345072664729,
          0.6048016594269514,
          0.6022979170116989,
          0.6002568668887882,
          0.5968967339069016,
          0.5934670808738618,
          0.5494934161871068
         ],
         "yaxis": "y",
         "type": "scatter"
        },
        {
         "hovertemplate": "result=Res46<br>iteration=%{x}<br>belief=%{y}<extra></extra>",
         "legendgroup": "Res46",
         "marker": {
          "color": "#19d3f3",
          "symbol": "circle"
         },
         "mode": "markers",
         "name": "Res46",
         "orientation": "v",
         "showlegend": true,
         "x": [
          641,
          592,
          441,
          430,
          406,
          314,
          228,
          214,
          174,
          163,
          150,
          149,
          51,
          44,
          41,
          36,
          23,
          18,
          13,
          12,
          9,
          8,
          0
         ],
         "xaxis": "x",
         "y": [
          0.6415524582033602,
          0.6410030355595369,
          0.6405463273399392,
          0.6395074947996165,
          0.6391727386572289,
          0.6382784860156054,
          0.6358485222007817,
          0.6342844258597007,
          0.6329471011665759,
          0.6323703301525776,
          0.6323644826219808,
          0.6299153811652511,
          0.6296205429724594,
          0.6294513136406126,
          0.617183701888028,
          0.6073867702589709,
          0.601378254159197,
          0.5983921372771343,
          0.5952960703571537,
          0.5933917177545348,
          0.5843708942727133,
          0.5804408498644769,
          0.5797482212015242
         ],
         "yaxis": "y",
         "type": "scatter"
        },
        {
         "hovertemplate": "result=Res95<br>iteration=%{x}<br>belief=%{y}<extra></extra>",
         "legendgroup": "Res95",
         "marker": {
          "color": "#FF6692",
          "symbol": "circle"
         },
         "mode": "markers",
         "name": "Res95",
         "orientation": "v",
         "showlegend": true,
         "x": [
          768,
          626,
          587,
          550,
          540,
          478,
          367,
          269,
          265,
          252,
          132,
          128,
          117,
          55,
          33,
          20,
          17,
          15,
          10,
          8,
          7,
          2,
          1,
          0
         ],
         "xaxis": "x",
         "y": [
          0.6411990796525596,
          0.6411782884326598,
          0.6408487890701848,
          0.6398305632766058,
          0.6396258871527725,
          0.6396117207991117,
          0.6388172574593356,
          0.6383995863886051,
          0.6372648561794485,
          0.6354489928362465,
          0.6349564708528738,
          0.6320758826382097,
          0.6285467131495274,
          0.6262064372893785,
          0.6216411690831568,
          0.6116489445387083,
          0.6082405237528221,
          0.6063199161211914,
          0.5969579760422783,
          0.5968351954654136,
          0.5951511662671575,
          0.5846714819293062,
          0.5615191870842815,
          0.5545580201219363
         ],
         "yaxis": "y",
         "type": "scatter"
        },
        {
         "hovertemplate": "result=Res90<br>iteration=%{x}<br>belief=%{y}<extra></extra>",
         "legendgroup": "Res90",
         "marker": {
          "color": "#B6E880",
          "symbol": "circle"
         },
         "mode": "markers",
         "name": "Res90",
         "orientation": "v",
         "showlegend": true,
         "x": [
          612,
          495,
          390,
          273,
          271,
          259,
          233,
          148,
          141,
          99,
          86,
          71,
          58,
          38,
          34,
          31,
          28,
          19,
          17,
          13,
          12,
          11,
          2,
          0
         ],
         "xaxis": "x",
         "y": [
          0.6411138322941327,
          0.6411109085288342,
          0.6384331766667086,
          0.6381477149250079,
          0.6367217135978784,
          0.636568521079264,
          0.6359321989849402,
          0.6358692469636923,
          0.6350540307276062,
          0.6333000174788388,
          0.6316017965363605,
          0.6298692038470912,
          0.624290775817754,
          0.6149734997435563,
          0.6118992067400663,
          0.6106212020645222,
          0.6097803470088626,
          0.6051578340212362,
          0.6049956478817498,
          0.6010110758934663,
          0.5759091455541814,
          0.571487471112331,
          0.5709128961877279,
          0.5700213190013755
         ],
         "yaxis": "y",
         "type": "scatter"
        },
        {
         "hovertemplate": "result=Res75<br>iteration=%{x}<br>belief=%{y}<extra></extra>",
         "legendgroup": "Res75",
         "marker": {
          "color": "#FF97FF",
          "symbol": "circle"
         },
         "mode": "markers",
         "name": "Res75",
         "orientation": "v",
         "showlegend": true,
         "x": [
          382,
          350,
          349,
          333,
          273,
          224,
          207,
          187,
          186,
          167,
          155,
          149,
          121,
          114,
          75,
          66,
          55,
          47,
          30,
          15,
          3,
          2,
          1,
          0
         ],
         "xaxis": "x",
         "y": [
          0.6403755062698198,
          0.6401791489690505,
          0.639769796721384,
          0.6384020618694068,
          0.6374997272428957,
          0.6339579325065231,
          0.6328686604627833,
          0.6285029475172537,
          0.6271682061468707,
          0.6264463184660336,
          0.6216867482905133,
          0.6198022782845672,
          0.6186455198637808,
          0.6164297335638442,
          0.6102583750081011,
          0.608669322197828,
          0.607201497424426,
          0.6003238357989888,
          0.6002310222593417,
          0.5940596688382169,
          0.5834328644775597,
          0.5791000465391057,
          0.5691761150148907,
          0.565170165665609
         ],
         "yaxis": "y",
         "type": "scatter"
        },
        {
         "hovertemplate": "result=Res27<br>iteration=%{x}<br>belief=%{y}<extra></extra>",
         "legendgroup": "Res27",
         "marker": {
          "color": "#FECB52",
          "symbol": "circle"
         },
         "mode": "markers",
         "name": "Res27",
         "orientation": "v",
         "showlegend": true,
         "x": [
          584,
          504,
          430,
          293,
          156,
          147,
          115,
          108,
          90,
          78,
          60,
          49,
          47,
          36,
          10,
          9,
          5,
          3,
          2,
          1,
          0
         ],
         "xaxis": "x",
         "y": [
          0.6379554105475386,
          0.6371071846376999,
          0.6363062814274312,
          0.63624288139896,
          0.6352040488586372,
          0.6322206000575208,
          0.6299417387886228,
          0.6283444781236849,
          0.6269936251657934,
          0.6266456156455439,
          0.6261431583513448,
          0.6240306381744979,
          0.6069350097278988,
          0.6045434297684876,
          0.6039204159823416,
          0.5919480789981577,
          0.5632407412309894,
          0.5501616555612704,
          0.5442839720657986,
          0.539179971333022,
          0.5371192847762265
         ],
         "yaxis": "y",
         "type": "scatter"
        },
        {
         "mode": "lines",
         "name": "Correct belief",
         "x": [
          0,
          1755
         ],
         "y": [
          0.95,
          0.95
         ],
         "type": "scatter"
        }
       ],
       "layout": {
        "template": {
         "data": {
          "histogram2dcontour": [
           {
            "type": "histogram2dcontour",
            "colorbar": {
             "outlinewidth": 0,
             "ticks": ""
            },
            "colorscale": [
             [
              0.0,
              "#0d0887"
             ],
             [
              0.1111111111111111,
              "#46039f"
             ],
             [
              0.2222222222222222,
              "#7201a8"
             ],
             [
              0.3333333333333333,
              "#9c179e"
             ],
             [
              0.4444444444444444,
              "#bd3786"
             ],
             [
              0.5555555555555556,
              "#d8576b"
             ],
             [
              0.6666666666666666,
              "#ed7953"
             ],
             [
              0.7777777777777778,
              "#fb9f3a"
             ],
             [
              0.8888888888888888,
              "#fdca26"
             ],
             [
              1.0,
              "#f0f921"
             ]
            ]
           }
          ],
          "choropleth": [
           {
            "type": "choropleth",
            "colorbar": {
             "outlinewidth": 0,
             "ticks": ""
            }
           }
          ],
          "histogram2d": [
           {
            "type": "histogram2d",
            "colorbar": {
             "outlinewidth": 0,
             "ticks": ""
            },
            "colorscale": [
             [
              0.0,
              "#0d0887"
             ],
             [
              0.1111111111111111,
              "#46039f"
             ],
             [
              0.2222222222222222,
              "#7201a8"
             ],
             [
              0.3333333333333333,
              "#9c179e"
             ],
             [
              0.4444444444444444,
              "#bd3786"
             ],
             [
              0.5555555555555556,
              "#d8576b"
             ],
             [
              0.6666666666666666,
              "#ed7953"
             ],
             [
              0.7777777777777778,
              "#fb9f3a"
             ],
             [
              0.8888888888888888,
              "#fdca26"
             ],
             [
              1.0,
              "#f0f921"
             ]
            ]
           }
          ],
          "heatmap": [
           {
            "type": "heatmap",
            "colorbar": {
             "outlinewidth": 0,
             "ticks": ""
            },
            "colorscale": [
             [
              0.0,
              "#0d0887"
             ],
             [
              0.1111111111111111,
              "#46039f"
             ],
             [
              0.2222222222222222,
              "#7201a8"
             ],
             [
              0.3333333333333333,
              "#9c179e"
             ],
             [
              0.4444444444444444,
              "#bd3786"
             ],
             [
              0.5555555555555556,
              "#d8576b"
             ],
             [
              0.6666666666666666,
              "#ed7953"
             ],
             [
              0.7777777777777778,
              "#fb9f3a"
             ],
             [
              0.8888888888888888,
              "#fdca26"
             ],
             [
              1.0,
              "#f0f921"
             ]
            ]
           }
          ],
          "heatmapgl": [
           {
            "type": "heatmapgl",
            "colorbar": {
             "outlinewidth": 0,
             "ticks": ""
            },
            "colorscale": [
             [
              0.0,
              "#0d0887"
             ],
             [
              0.1111111111111111,
              "#46039f"
             ],
             [
              0.2222222222222222,
              "#7201a8"
             ],
             [
              0.3333333333333333,
              "#9c179e"
             ],
             [
              0.4444444444444444,
              "#bd3786"
             ],
             [
              0.5555555555555556,
              "#d8576b"
             ],
             [
              0.6666666666666666,
              "#ed7953"
             ],
             [
              0.7777777777777778,
              "#fb9f3a"
             ],
             [
              0.8888888888888888,
              "#fdca26"
             ],
             [
              1.0,
              "#f0f921"
             ]
            ]
           }
          ],
          "contourcarpet": [
           {
            "type": "contourcarpet",
            "colorbar": {
             "outlinewidth": 0,
             "ticks": ""
            }
           }
          ],
          "contour": [
           {
            "type": "contour",
            "colorbar": {
             "outlinewidth": 0,
             "ticks": ""
            },
            "colorscale": [
             [
              0.0,
              "#0d0887"
             ],
             [
              0.1111111111111111,
              "#46039f"
             ],
             [
              0.2222222222222222,
              "#7201a8"
             ],
             [
              0.3333333333333333,
              "#9c179e"
             ],
             [
              0.4444444444444444,
              "#bd3786"
             ],
             [
              0.5555555555555556,
              "#d8576b"
             ],
             [
              0.6666666666666666,
              "#ed7953"
             ],
             [
              0.7777777777777778,
              "#fb9f3a"
             ],
             [
              0.8888888888888888,
              "#fdca26"
             ],
             [
              1.0,
              "#f0f921"
             ]
            ]
           }
          ],
          "surface": [
           {
            "type": "surface",
            "colorbar": {
             "outlinewidth": 0,
             "ticks": ""
            },
            "colorscale": [
             [
              0.0,
              "#0d0887"
             ],
             [
              0.1111111111111111,
              "#46039f"
             ],
             [
              0.2222222222222222,
              "#7201a8"
             ],
             [
              0.3333333333333333,
              "#9c179e"
             ],
             [
              0.4444444444444444,
              "#bd3786"
             ],
             [
              0.5555555555555556,
              "#d8576b"
             ],
             [
              0.6666666666666666,
              "#ed7953"
             ],
             [
              0.7777777777777778,
              "#fb9f3a"
             ],
             [
              0.8888888888888888,
              "#fdca26"
             ],
             [
              1.0,
              "#f0f921"
             ]
            ]
           }
          ],
          "mesh3d": [
           {
            "type": "mesh3d",
            "colorbar": {
             "outlinewidth": 0,
             "ticks": ""
            }
           }
          ],
          "scatter": [
           {
            "marker": {
             "line": {
              "color": "#283442"
             }
            },
            "type": "scatter"
           }
          ],
          "parcoords": [
           {
            "type": "parcoords",
            "line": {
             "colorbar": {
              "outlinewidth": 0,
              "ticks": ""
             }
            }
           }
          ],
          "scatterpolargl": [
           {
            "type": "scatterpolargl",
            "marker": {
             "colorbar": {
              "outlinewidth": 0,
              "ticks": ""
             }
            }
           }
          ],
          "bar": [
           {
            "error_x": {
             "color": "#f2f5fa"
            },
            "error_y": {
             "color": "#f2f5fa"
            },
            "marker": {
             "line": {
              "color": "rgb(17,17,17)",
              "width": 0.5
             },
             "pattern": {
              "fillmode": "overlay",
              "size": 10,
              "solidity": 0.2
             }
            },
            "type": "bar"
           }
          ],
          "scattergeo": [
           {
            "type": "scattergeo",
            "marker": {
             "colorbar": {
              "outlinewidth": 0,
              "ticks": ""
             }
            }
           }
          ],
          "scatterpolar": [
           {
            "type": "scatterpolar",
            "marker": {
             "colorbar": {
              "outlinewidth": 0,
              "ticks": ""
             }
            }
           }
          ],
          "histogram": [
           {
            "marker": {
             "pattern": {
              "fillmode": "overlay",
              "size": 10,
              "solidity": 0.2
             }
            },
            "type": "histogram"
           }
          ],
          "scattergl": [
           {
            "marker": {
             "line": {
              "color": "#283442"
             }
            },
            "type": "scattergl"
           }
          ],
          "scatter3d": [
           {
            "type": "scatter3d",
            "line": {
             "colorbar": {
              "outlinewidth": 0,
              "ticks": ""
             }
            },
            "marker": {
             "colorbar": {
              "outlinewidth": 0,
              "ticks": ""
             }
            }
           }
          ],
          "scattermapbox": [
           {
            "type": "scattermapbox",
            "marker": {
             "colorbar": {
              "outlinewidth": 0,
              "ticks": ""
             }
            }
           }
          ],
          "scatterternary": [
           {
            "type": "scatterternary",
            "marker": {
             "colorbar": {
              "outlinewidth": 0,
              "ticks": ""
             }
            }
           }
          ],
          "scattercarpet": [
           {
            "type": "scattercarpet",
            "marker": {
             "colorbar": {
              "outlinewidth": 0,
              "ticks": ""
             }
            }
           }
          ],
          "carpet": [
           {
            "aaxis": {
             "endlinecolor": "#A2B1C6",
             "gridcolor": "#506784",
             "linecolor": "#506784",
             "minorgridcolor": "#506784",
             "startlinecolor": "#A2B1C6"
            },
            "baxis": {
             "endlinecolor": "#A2B1C6",
             "gridcolor": "#506784",
             "linecolor": "#506784",
             "minorgridcolor": "#506784",
             "startlinecolor": "#A2B1C6"
            },
            "type": "carpet"
           }
          ],
          "table": [
           {
            "cells": {
             "fill": {
              "color": "#506784"
             },
             "line": {
              "color": "rgb(17,17,17)"
             }
            },
            "header": {
             "fill": {
              "color": "#2a3f5f"
             },
             "line": {
              "color": "rgb(17,17,17)"
             }
            },
            "type": "table"
           }
          ],
          "barpolar": [
           {
            "marker": {
             "line": {
              "color": "rgb(17,17,17)",
              "width": 0.5
             },
             "pattern": {
              "fillmode": "overlay",
              "size": 10,
              "solidity": 0.2
             }
            },
            "type": "barpolar"
           }
          ],
          "pie": [
           {
            "automargin": true,
            "type": "pie"
           }
          ]
         },
         "layout": {
          "autotypenumbers": "strict",
          "colorway": [
           "#636efa",
           "#EF553B",
           "#00cc96",
           "#ab63fa",
           "#FFA15A",
           "#19d3f3",
           "#FF6692",
           "#B6E880",
           "#FF97FF",
           "#FECB52"
          ],
          "font": {
           "color": "#f2f5fa"
          },
          "hovermode": "closest",
          "hoverlabel": {
           "align": "left"
          },
          "paper_bgcolor": "rgb(17,17,17)",
          "plot_bgcolor": "rgb(17,17,17)",
          "polar": {
           "bgcolor": "rgb(17,17,17)",
           "angularaxis": {
            "gridcolor": "#506784",
            "linecolor": "#506784",
            "ticks": ""
           },
           "radialaxis": {
            "gridcolor": "#506784",
            "linecolor": "#506784",
            "ticks": ""
           }
          },
          "ternary": {
           "bgcolor": "rgb(17,17,17)",
           "aaxis": {
            "gridcolor": "#506784",
            "linecolor": "#506784",
            "ticks": ""
           },
           "baxis": {
            "gridcolor": "#506784",
            "linecolor": "#506784",
            "ticks": ""
           },
           "caxis": {
            "gridcolor": "#506784",
            "linecolor": "#506784",
            "ticks": ""
           }
          },
          "coloraxis": {
           "colorbar": {
            "outlinewidth": 0,
            "ticks": ""
           }
          },
          "colorscale": {
           "sequential": [
            [
             0.0,
             "#0d0887"
            ],
            [
             0.1111111111111111,
             "#46039f"
            ],
            [
             0.2222222222222222,
             "#7201a8"
            ],
            [
             0.3333333333333333,
             "#9c179e"
            ],
            [
             0.4444444444444444,
             "#bd3786"
            ],
            [
             0.5555555555555556,
             "#d8576b"
            ],
            [
             0.6666666666666666,
             "#ed7953"
            ],
            [
             0.7777777777777778,
             "#fb9f3a"
            ],
            [
             0.8888888888888888,
             "#fdca26"
            ],
            [
             1.0,
             "#f0f921"
            ]
           ],
           "sequentialminus": [
            [
             0.0,
             "#0d0887"
            ],
            [
             0.1111111111111111,
             "#46039f"
            ],
            [
             0.2222222222222222,
             "#7201a8"
            ],
            [
             0.3333333333333333,
             "#9c179e"
            ],
            [
             0.4444444444444444,
             "#bd3786"
            ],
            [
             0.5555555555555556,
             "#d8576b"
            ],
            [
             0.6666666666666666,
             "#ed7953"
            ],
            [
             0.7777777777777778,
             "#fb9f3a"
            ],
            [
             0.8888888888888888,
             "#fdca26"
            ],
            [
             1.0,
             "#f0f921"
            ]
           ],
           "diverging": [
            [
             0,
             "#8e0152"
            ],
            [
             0.1,
             "#c51b7d"
            ],
            [
             0.2,
             "#de77ae"
            ],
            [
             0.3,
             "#f1b6da"
            ],
            [
             0.4,
             "#fde0ef"
            ],
            [
             0.5,
             "#f7f7f7"
            ],
            [
             0.6,
             "#e6f5d0"
            ],
            [
             0.7,
             "#b8e186"
            ],
            [
             0.8,
             "#7fbc41"
            ],
            [
             0.9,
             "#4d9221"
            ],
            [
             1,
             "#276419"
            ]
           ]
          },
          "xaxis": {
           "gridcolor": "#283442",
           "linecolor": "#506784",
           "ticks": "",
           "title": {
            "standoff": 15
           },
           "zerolinecolor": "#283442",
           "automargin": true,
           "zerolinewidth": 2
          },
          "yaxis": {
           "gridcolor": "#283442",
           "linecolor": "#506784",
           "ticks": "",
           "title": {
            "standoff": 15
           },
           "zerolinecolor": "#283442",
           "automargin": true,
           "zerolinewidth": 2
          },
          "scene": {
           "xaxis": {
            "backgroundcolor": "rgb(17,17,17)",
            "gridcolor": "#506784",
            "linecolor": "#506784",
            "showbackground": true,
            "ticks": "",
            "zerolinecolor": "#C8D4E3",
            "gridwidth": 2
           },
           "yaxis": {
            "backgroundcolor": "rgb(17,17,17)",
            "gridcolor": "#506784",
            "linecolor": "#506784",
            "showbackground": true,
            "ticks": "",
            "zerolinecolor": "#C8D4E3",
            "gridwidth": 2
           },
           "zaxis": {
            "backgroundcolor": "rgb(17,17,17)",
            "gridcolor": "#506784",
            "linecolor": "#506784",
            "showbackground": true,
            "ticks": "",
            "zerolinecolor": "#C8D4E3",
            "gridwidth": 2
           }
          },
          "shapedefaults": {
           "line": {
            "color": "#f2f5fa"
           }
          },
          "annotationdefaults": {
           "arrowcolor": "#f2f5fa",
           "arrowhead": 0,
           "arrowwidth": 1
          },
          "geo": {
           "bgcolor": "rgb(17,17,17)",
           "landcolor": "rgb(17,17,17)",
           "subunitcolor": "#506784",
           "showland": true,
           "showlakes": true,
           "lakecolor": "rgb(17,17,17)"
          },
          "title": {
           "x": 0.05
          },
          "updatemenudefaults": {
           "bgcolor": "#506784",
           "borderwidth": 0
          },
          "sliderdefaults": {
           "bgcolor": "#C8D4E3",
           "borderwidth": 1,
           "bordercolor": "rgb(17,17,17)",
           "tickwidth": 0
          },
          "mapbox": {
           "style": "dark"
          }
         }
        },
        "xaxis": {
         "anchor": "y",
         "domain": [
          0.0,
          1.0
         ],
         "title": {
          "text": "iteration"
         }
        },
        "yaxis": {
         "anchor": "x",
         "domain": [
          0.0,
          1.0
         ],
         "title": {
          "text": "belief"
         }
        },
        "legend": {
         "title": {
          "text": "result"
         },
         "tracegroupgap": 0
        },
        "margin": {
         "t": 60
        }
       },
       "config": {
        "plotlyServerURL": "https://plot.ly"
       }
      },
      "text/html": [
       "<div>                            <div id=\"0240fdc3-3ba7-4723-b7ae-e6c1f50bcb5e\" class=\"plotly-graph-div\" style=\"height:525px; width:100%;\"></div>            <script type=\"text/javascript\">                require([\"plotly\"], function(Plotly) {                    window.PLOTLYENV=window.PLOTLYENV || {};                                    if (document.getElementById(\"0240fdc3-3ba7-4723-b7ae-e6c1f50bcb5e\")) {                    Plotly.newPlot(                        \"0240fdc3-3ba7-4723-b7ae-e6c1f50bcb5e\",                        [{\"hovertemplate\":\"result=Res60\\u003cbr\\u003eiteration=%{x}\\u003cbr\\u003ebelief=%{y}\\u003cextra\\u003e\\u003c\\u002fextra\\u003e\",\"legendgroup\":\"Res60\",\"marker\":{\"color\":\"#636efa\",\"symbol\":\"circle\"},\"mode\":\"markers\",\"name\":\"Res60\",\"orientation\":\"v\",\"showlegend\":true,\"x\":[315,167,145,135,106,73,69,67,49,43,15,11,9,5,1,0],\"xaxis\":\"x\",\"y\":[0.6474057570059042,0.6452313186169402,0.644233498271503,0.6428946323404403,0.6400216194711801,0.6368301550039572,0.610088676166681,0.6066244220811384,0.6055832553454072,0.6022069989317915,0.6010542997853471,0.5786235636634287,0.5740684499026809,0.5681195683237987,0.5658881497607906,0.5442540575141825],\"yaxis\":\"y\",\"type\":\"scatter\"},{\"hovertemplate\":\"result=Res91\\u003cbr\\u003eiteration=%{x}\\u003cbr\\u003ebelief=%{y}\\u003cextra\\u003e\\u003c\\u002fextra\\u003e\",\"legendgroup\":\"Res91\",\"marker\":{\"color\":\"#EF553B\",\"symbol\":\"circle\"},\"mode\":\"markers\",\"name\":\"Res91\",\"orientation\":\"v\",\"showlegend\":true,\"x\":[1380,1249,985,873,856,583,547,541,407,273,188,184,182,169,144,66,40,36,32,28,21,14,9,7,6,5,3,0],\"xaxis\":\"x\",\"y\":[0.6474057570059042,0.6473706718223231,0.6455104587305588,0.6426078906245796,0.6425650087335361,0.6413388589481976,0.6407158451620516,0.6407099976314548,0.640342428608546,0.638743947468044,0.6383746848045614,0.6350869278457847,0.632993577901055,0.6325144190466129,0.6325114952813145,0.6279965207572922,0.6257929098670844,0.6172220586507968,0.6126566567288073,0.604010890012334,0.5971830275683745,0.5945425391813721,0.594098878751141,0.59267604327407,0.5869983876002004,0.5745741625170673,0.5618868049456618,0.551227424159439],\"yaxis\":\"y\",\"type\":\"scatter\"},{\"hovertemplate\":\"result=Res49\\u003cbr\\u003eiteration=%{x}\\u003cbr\\u003ebelief=%{y}\\u003cextra\\u003e\\u003c\\u002fextra\\u003e\",\"legendgroup\":\"Res49\",\"marker\":{\"color\":\"#00cc96\",\"symbol\":\"circle\"},\"mode\":\"markers\",\"name\":\"Res49\",\"orientation\":\"v\",\"showlegend\":true,\"x\":[1310,1139,1042,992,897,740,498,321,309,285,242,175,88,70,66,55,52,50,41,15,12,10,7,4,2,0],\"xaxis\":\"x\",\"y\":[0.6474057570059042,0.6460698148401398,0.6460668910748414,0.6459610888456992,0.6454338941544009,0.6445692940959786,0.6427032334736176,0.6407762696448855,0.638080771717109,0.6376988576903253,0.6360716168570653,0.6357337986715262,0.6348957439013057,0.6333613983975946,0.6306759947233578,0.6304832501496918,0.6186810592239733,0.610917435804643,0.6063096668986426,0.6059620255593465,0.5984431939171294,0.5898457000356994,0.5898290623895712,0.585843152321059,0.5811726223274607,0.578226176310474],\"yaxis\":\"y\",\"type\":\"scatter\"},{\"hovertemplate\":\"result=Res11\\u003cbr\\u003eiteration=%{x}\\u003cbr\\u003ebelief=%{y}\\u003cextra\\u003e\\u003c\\u002fextra\\u003e\",\"legendgroup\":\"Res11\",\"marker\":{\"color\":\"#ab63fa\",\"symbol\":\"circle\"},\"mode\":\"markers\",\"name\":\"Res11\",\"orientation\":\"v\",\"showlegend\":true,\"x\":[654,640,614,531,524,486,456,266,260,219,207,131,100,80,75,62,57,38,24,22,12,7,4,2,1,0],\"xaxis\":\"x\",\"y\":[0.6474057570059042,0.6455455439141399,0.6454368179196993,0.6436853308223756,0.641471881698596,0.6414660341679992,0.6408400966165548,0.640834249085958,0.6399041425400759,0.639411792322099,0.6393781121304418,0.638860900573438,0.635948366599199,0.6280941990328992,0.6262762843312722,0.6236043999997435,0.6226483146886554,0.6128357061968204,0.6111140596457828,0.6040715280104147,0.595241211472677,0.5900054048596592,0.5803099804211691,0.5533478212960294,0.5388070555457224,0.5344313477895714],\"yaxis\":\"y\",\"type\":\"scatter\"},{\"hovertemplate\":\"result=Res83\\u003cbr\\u003eiteration=%{x}\\u003cbr\\u003ebelief=%{y}\\u003cextra\\u003e\\u003c\\u002fextra\\u003e\",\"legendgroup\":\"Res83\",\"marker\":{\"color\":\"#FFA15A\",\"symbol\":\"circle\"},\"mode\":\"markers\",\"name\":\"Res83\",\"orientation\":\"v\",\"showlegend\":true,\"x\":[716,657,638,533,294,252,165,157,145,61,60,59,49,29,22,16,3,1,0],\"xaxis\":\"x\",\"y\":[0.6474057570059042,0.6473706718223231,0.6468661576153147,0.6450059445235505,0.6426864423450762,0.6425153201810068,0.6356371984182342,0.6260478333659735,0.621877411715557,0.6211898008922031,0.620463306603745,0.6185010086987395,0.6096596389969466,0.6090448245649274,0.6058217085315255,0.6050786660033798,0.5969304291546316,0.5738086096881045,0.5679434141376563],\"yaxis\":\"y\",\"type\":\"scatter\"},{\"hovertemplate\":\"result=Res5\\u003cbr\\u003eiteration=%{x}\\u003cbr\\u003ebelief=%{y}\\u003cextra\\u003e\\u003c\\u002fextra\\u003e\",\"legendgroup\":\"Res5\",\"marker\":{\"color\":\"#19d3f3\",\"symbol\":\"circle\"},\"mode\":\"markers\",\"name\":\"Res5\",\"orientation\":\"v\",\"showlegend\":true,\"x\":[831,704,539,480,341,283,233,132,72,58,40,36,20,16,11,6,3,0],\"xaxis\":\"x\",\"y\":[0.6473706718223231,0.647264869593181,0.6467603553861726,0.6448942947638114,0.6447641074257218,0.6421884967290621,0.6384519734532087,0.6347175108603568,0.6332561302606339,0.6262126746217481,0.6229203457211459,0.6146488632284692,0.6100585830227653,0.5894613728259351,0.5882836413884738,0.5853844052256573,0.5824827621529647,0.5824074640295418],\"yaxis\":\"y\",\"type\":\"scatter\"},{\"hovertemplate\":\"result=Res42\\u003cbr\\u003eiteration=%{x}\\u003cbr\\u003ebelief=%{y}\\u003cextra\\u003e\\u003c\\u002fextra\\u003e\",\"legendgroup\":\"Res42\",\"marker\":{\"color\":\"#FF6692\",\"symbol\":\"circle\"},\"mode\":\"markers\",\"name\":\"Res42\",\"orientation\":\"v\",\"showlegend\":true,\"x\":[875,803,683,614,570,554,395,223,201,173,79,60,55,44,32,27,22,20,19,13,7,5,1,0],\"xaxis\":\"x\",\"y\":[0.6473706718223231,0.6468661576153147,0.6452313186169402,0.6452144257507715,0.6433483651284104,0.642530846358049,0.6413813569327456,0.6405038534947116,0.6398681883452646,0.6374756060970516,0.6374068065452069,0.6373543560776905,0.6301295494518376,0.6295087961847252,0.6153820670780424,0.6045553990860684,0.6036469165872075,0.5959685513557414,0.5936910683576876,0.581932930194138,0.5786290142264592,0.5661250711192243,0.5573076069608202,0.554450954184438],\"yaxis\":\"y\",\"type\":\"scatter\"},{\"hovertemplate\":\"result=Res89\\u003cbr\\u003eiteration=%{x}\\u003cbr\\u003ebelief=%{y}\\u003cextra\\u003e\\u003c\\u002fextra\\u003e\",\"legendgroup\":\"Res89\",\"marker\":{\"color\":\"#B6E880\",\"symbol\":\"circle\"},\"mode\":\"markers\",\"name\":\"Res89\",\"orientation\":\"v\",\"showlegend\":true,\"x\":[1176,1058,923,758,503,440,414,407,404,373,363,231,154,149,127,121,117,104,58,57,22,15,6,0],\"xaxis\":\"x\",\"y\":[0.6472970310114636,0.6459610888456992,0.6455503985699784,0.6454416725755379,0.6445115660296556,0.6409107084166578,0.6405390241881785,0.6403679020241091,0.6403453840512776,0.640011589114821,0.6398622949499378,0.6363050258785189,0.6351702956693623,0.6330769232902038,0.6272046350943417,0.6260589848629392,0.6254441704309199,0.6248000516291338,0.6229537017390697,0.6181046374839563,0.6148614362398794,0.6043752272514413,0.5935578509826616,0.5625595775508481],\"yaxis\":\"y\",\"type\":\"scatter\"},{\"hovertemplate\":\"result=Res57\\u003cbr\\u003eiteration=%{x}\\u003cbr\\u003ebelief=%{y}\\u003cextra\\u003e\\u003c\\u002fextra\\u003e\",\"legendgroup\":\"Res57\",\"marker\":{\"color\":\"#FF97FF\",\"symbol\":\"circle\"},\"mode\":\"markers\",\"name\":\"Res57\",\"orientation\":\"v\",\"showlegend\":true,\"x\":[1174,945,901,686,660,517,462,397,339,333,265,259,229,213,131,115,93,44,43,42,25,23,20,15,9,6,3,2,1,0],\"xaxis\":\"x\",\"y\":[0.6466591647583791,0.64525442304077,0.6448250569088457,0.6447350067706087,0.6413496946632855,0.6411839703936153,0.6411410885025717,0.6411241956364031,0.6403179804525746,0.6402780540099787,0.6402071124940856,0.6401123952814396,0.6378293793916991,0.6377662348995199,0.6374225691833841,0.6365446306824125,0.6347724063684435,0.6339949371999081,0.6316550235233214,0.6309681755221985,0.6294290242910406,0.6248850193757112,0.6225941552022122,0.5981638636704036,0.5961011690725384,0.580948362693012,0.5632835972715469,0.5545461109483798,0.5513282097123612,0.5465239657482821],\"yaxis\":\"y\",\"type\":\"scatter\"},{\"hovertemplate\":\"result=Res24\\u003cbr\\u003eiteration=%{x}\\u003cbr\\u003ebelief=%{y}\\u003cextra\\u003e\\u003c\\u002fextra\\u003e\",\"legendgroup\":\"Res24\",\"marker\":{\"color\":\"#FECB52\",\"symbol\":\"circle\"},\"mode\":\"markers\",\"name\":\"Res24\",\"orientation\":\"v\",\"showlegend\":true,\"x\":[793,771,507,395,226,219,205,163,138,115,95,94,91,88,51,34,31,29,26,10,2,0],\"xaxis\":\"x\",\"y\":[0.6466591647583791,0.6446613525629253,0.644618502355031,0.6422177783049935,0.6399782545220332,0.6396546026901552,0.6396117207991117,0.6385447972670415,0.6367211379327582,0.6343186061040851,0.6315731784124785,0.6308599297937828,0.6271316430118827,0.6263618331390133,0.6179196299650067,0.615912987435689,0.6136848783612208,0.610466690111586,0.6085908484777425,0.6071875470702307,0.5971364735758328,0.5866804137395064],\"yaxis\":\"y\",\"type\":\"scatter\"},{\"hovertemplate\":\"result=Res97\\u003cbr\\u003eiteration=%{x}\\u003cbr\\u003ebelief=%{y}\\u003cextra\\u003e\\u003c\\u002fextra\\u003e\",\"legendgroup\":\"Res97\",\"marker\":{\"color\":\"#636efa\",\"symbol\":\"circle\"},\"mode\":\"markers\",\"name\":\"Res97\",\"orientation\":\"v\",\"showlegend\":true,\"x\":[978,682,655,592,532,388,276,243,217,206,181,125,120,85,81,75,74,72,56,48,42,37,21,16,15,9,8,7,3,2,1,0],\"xaxis\":\"x\",\"y\":[0.6466591647583791,0.64525442304077,0.6447350067706087,0.6439229440561833,0.6429269617237549,0.6403290574712956,0.6401479473280416,0.6390406814531953,0.6381006735629207,0.6342636677067106,0.6339725615101461,0.6331471088585835,0.6313564053949773,0.6303534267589133,0.6297085943876244,0.6276263301874324,0.6223823265861977,0.6221038037837499,0.6219720522106572,0.6208770035126063,0.6083999410072252,0.6020768650388382,0.6015329802408529,0.5913890447878507,0.5884781303481801,0.5822717163265114,0.5768923935977042,0.5710507551201403,0.5585844577004457,0.5569154323757205,0.5480164015072334,0.5350633460575456],\"yaxis\":\"y\",\"type\":\"scatter\"},{\"hovertemplate\":\"result=Res38\\u003cbr\\u003eiteration=%{x}\\u003cbr\\u003ebelief=%{y}\\u003cextra\\u003e\\u003c\\u002fextra\\u003e\",\"legendgroup\":\"Res38\",\"marker\":{\"color\":\"#EF553B\",\"symbol\":\"circle\"},\"mode\":\"markers\",\"name\":\"Res38\",\"orientation\":\"v\",\"showlegend\":true,\"x\":[707,596,410,209,205,161,46,33,22,18,14,9,2,1,0],\"xaxis\":\"x\",\"y\":[0.6466163145504848,0.6446243498856279,0.6438068311152666,0.6408606909182523,0.638051207483034,0.636185146860673,0.6349647162357277,0.6259753409368061,0.6197335593094513,0.6191569942782873,0.6125275401384997,0.6061921033262974,0.593549277731847,0.5736745915096939,0.5674694604560304],\"yaxis\":\"y\",\"type\":\"scatter\"},{\"hovertemplate\":\"result=Res33\\u003cbr\\u003eiteration=%{x}\\u003cbr\\u003ebelief=%{y}\\u003cextra\\u003e\\u003c\\u002fextra\\u003e\",\"legendgroup\":\"Res33\",\"marker\":{\"color\":\"#00cc96\",\"symbol\":\"circle\"},\"mode\":\"markers\",\"name\":\"Res33\",\"orientation\":\"v\",\"showlegend\":true,\"x\":[1263,1184,912,665,587,534,527,523,473,449,429,257,216,187,79,78,70,49,46,33,31,20,7,6,4,2,0],\"xaxis\":\"x\",\"y\":[0.6465841531322023,0.6451794114145931,0.6450361316146165,0.6449398579797473,0.6449369342144489,0.6440068276685668,0.6438357055044972,0.6431383177694636,0.6418946563783313,0.6412160216953608,0.6409303150221699,0.6393662186810889,0.6384007875898574,0.6381843284757345,0.6372992469989709,0.6370584730448065,0.6358648877782583,0.6307938070590438,0.6149068443189653,0.6102532170849673,0.5991437579436325,0.5916360139791984,0.5891016138405736,0.5762440593842935,0.5693588370492,0.5667773562133179,0.5606739097617774],\"yaxis\":\"y\",\"type\":\"scatter\"},{\"hovertemplate\":\"result=Res37\\u003cbr\\u003eiteration=%{x}\\u003cbr\\u003ebelief=%{y}\\u003cextra\\u003e\\u003c\\u002fextra\\u003e\",\"legendgroup\":\"Res37\",\"marker\":{\"color\":\"#ab63fa\",\"symbol\":\"circle\"},\"mode\":\"markers\",\"name\":\"Res37\",\"orientation\":\"v\",\"showlegend\":true,\"x\":[1215,935,648,433,421,351,342,287,217,215,204,201,196,188,187,172,150,103,64,47,46,43,32,28,11,9,5,3,0],\"xaxis\":\"x\",\"y\":[0.6460668910748414,0.6459610888456992,0.6454338941544009,0.6452222896961166,0.6452193659308181,0.6412865171214428,0.6404689983510815,0.6401194851043489,0.6392728444091644,0.6382340118688417,0.638102260295749,0.6365798653895237,0.6341921768336218,0.633340052570052,0.632018320688092,0.6299219204748716,0.6274375232711981,0.6247748371787625,0.6072158345842402,0.6069611081316949,0.6069380059901419,0.6043271606043099,0.6021188407856417,0.5997774352151635,0.5929098457434973,0.5914699453455358,0.5879204729815792,0.5755818206126695,0.5494607245945413],\"yaxis\":\"y\",\"type\":\"scatter\"},{\"hovertemplate\":\"result=Res9\\u003cbr\\u003eiteration=%{x}\\u003cbr\\u003ebelief=%{y}\\u003cextra\\u003e\\u003c\\u002fextra\\u003e\",\"legendgroup\":\"Res9\",\"marker\":{\"color\":\"#FFA15A\",\"symbol\":\"circle\"},\"mode\":\"markers\",\"name\":\"Res9\",\"orientation\":\"v\",\"showlegend\":true,\"x\":[910,863,769,497,452,372,305,297,265,229,194,182,180,174,149,135,109,103,97,88,66,63,57,54,21,10,1,0],\"xaxis\":\"x\",\"y\":[0.6460668910748414,0.6445027947337605,0.6431476146620458,0.642134042265466,0.6398650697885211,0.6387833935945484,0.6370426311546937,0.6366272691956482,0.6362813874367212,0.6347665337016666,0.6331826879438356,0.6328752676066194,0.632692578113341,0.6320498071784381,0.6312551950993154,0.6305394933292656,0.6288194042934256,0.6251209111311676,0.6249055213703791,0.623685090745434,0.6147206147820171,0.611755837495873,0.6108876699364109,0.6033553663458571,0.6012758751004444,0.5984421313702248,0.5792722810027573,0.571446523950557],\"yaxis\":\"y\",\"type\":\"scatter\"},{\"hovertemplate\":\"result=Res20\\u003cbr\\u003eiteration=%{x}\\u003cbr\\u003ebelief=%{y}\\u003cextra\\u003e\\u003c\\u002fextra\\u003e\",\"legendgroup\":\"Res20\",\"marker\":{\"color\":\"#19d3f3\",\"symbol\":\"circle\"},\"mode\":\"markers\",\"name\":\"Res20\",\"orientation\":\"v\",\"showlegend\":true,\"x\":[719,477,467,439,400,339,233,205,168,147,137,116,115,90,56,44,27,23,22,20,19,18,11,4,1,0],\"xaxis\":\"x\",\"y\":[0.6457866165148948,0.645656429176805,0.6448213657028512,0.6447126397084106,0.644700944647217,0.64295972756653,0.6408692252058965,0.640356310385922,0.6394935660420702,0.6394057316600085,0.6361640966054203,0.6305722815779289,0.629931897317408,0.6255691375407547,0.6246680245538491,0.6244546334671881,0.6186262249754677,0.6081708063369171,0.6076500948094802,0.6063969110078804,0.6050230044619274,0.6039421590023876,0.5880451649097086,0.5865852287014328,0.5838725967486957,0.5665962238645987],\"yaxis\":\"y\",\"type\":\"scatter\"},{\"hovertemplate\":\"result=Res74\\u003cbr\\u003eiteration=%{x}\\u003cbr\\u003ebelief=%{y}\\u003cextra\\u003e\\u003c\\u002fextra\\u003e\",\"legendgroup\":\"Res74\",\"marker\":{\"color\":\"#FF6692\",\"symbol\":\"circle\"},\"mode\":\"markers\",\"name\":\"Res74\",\"orientation\":\"v\",\"showlegend\":true,\"x\":[990,747,723,693,655,578,318,314,279,226,203,199,181,137,129,126,119,77,47,27,15,11,8,3,0],\"xaxis\":\"x\",\"y\":[0.6457866165148948,0.6447884925346693,0.6446407604929871,0.6445105731548975,0.6426445125325363,0.6425545441842012,0.6423935549581243,0.6401028248495952,0.6381775180887861,0.6375757614432767,0.6375128094220288,0.6374477019537126,0.6343966739678244,0.6314803323922267,0.6259428265919089,0.623483122982733,0.6226841293473531,0.6184651557841917,0.6129581837316952,0.6120756416403474,0.6052973722706936,0.5953432740415678,0.5915483759922227,0.5859193020216299,0.5489433779265728],\"yaxis\":\"y\",\"type\":\"scatter\"},{\"hovertemplate\":\"result=Res12\\u003cbr\\u003eiteration=%{x}\\u003cbr\\u003ebelief=%{y}\\u003cextra\\u003e\\u003c\\u002fextra\\u003e\",\"legendgroup\":\"Res12\",\"marker\":{\"color\":\"#B6E880\",\"symbol\":\"circle\"},\"mode\":\"markers\",\"name\":\"Res12\",\"orientation\":\"v\",\"showlegend\":true,\"x\":[956,828,792,665,626,509,443,423,267,216,182,169,160,109,96,83,74,71,63,58,50,45,39,30,25,20,17,16,10,9,8,6,4,3,0],\"xaxis\":\"x\",\"y\":[0.6457866165148948,0.6437962160850408,0.6435546715343708,0.642961152611087,0.6427437006222058,0.6409293746632778,0.6382516428011522,0.6382220123935255,0.6380419121170514,0.6369091127984349,0.635456603196344,0.6342646925685548,0.6341995988995099,0.626222191137821,0.6257135970456222,0.6237384373214134,0.6231609140800914,0.6217402744633934,0.6167759434718932,0.6156149178615345,0.6130994643881791,0.612199697708552,0.611413967247973,0.607256270663511,0.6028595114841817,0.5971784800696776,0.5944358863856998,0.593215616016564,0.5841825000376288,0.5762996820408954,0.5732390343991813,0.571661564132235,0.5669252102739462,0.5455897192028127,0.5445716433235199],\"yaxis\":\"y\",\"type\":\"scatter\"},{\"hovertemplate\":\"result=Res43\\u003cbr\\u003eiteration=%{x}\\u003cbr\\u003ebelief=%{y}\\u003cextra\\u003e\\u003c\\u002fextra\\u003e\",\"legendgroup\":\"Res43\",\"marker\":{\"color\":\"#FF97FF\",\"symbol\":\"circle\"},\"mode\":\"markers\",\"name\":\"Res43\",\"orientation\":\"v\",\"showlegend\":true,\"x\":[1083,879,579,463,361,348,285,146,122,50,40,22,15,11,9,8,6,5,0],\"xaxis\":\"x\",\"y\":[0.6457866165148948,0.6456388844732126,0.6456154943508252,0.6448096706416575,0.6410472129468573,0.6407997982569651,0.6400228081611173,0.6389282651119458,0.6383756067629555,0.6376040098398661,0.635861377457314,0.6163246776637803,0.6031927227874304,0.5987322380609221,0.5917141370976933,0.5864937031751707,0.5779394525264443,0.5775616754252565,0.5767380908846468],\"yaxis\":\"y\",\"type\":\"scatter\"},{\"hovertemplate\":\"result=Res18\\u003cbr\\u003eiteration=%{x}\\u003cbr\\u003ebelief=%{y}\\u003cextra\\u003e\\u003c\\u002fextra\\u003e\",\"legendgroup\":\"Res18\",\"marker\":{\"color\":\"#FECB52\",\"symbol\":\"circle\"},\"mode\":\"markers\",\"name\":\"Res18\",\"orientation\":\"v\",\"showlegend\":true,\"x\":[1088,915,825,650,633,582,546,518,429,390,241,225,209,191,175,174,156,141,106,49,20,18,7,3,2,1,0],\"xaxis\":\"x\",\"y\":[0.6457866165148948,0.6455450719642248,0.6450361316146165,0.644327484893167,0.6436163705838657,0.6434861832457759,0.6431095342535023,0.6430666840456079,0.6428295402284402,0.6416508110383506,0.6413492382317313,0.6403503321340044,0.6383525199385507,0.6378356286206242,0.6342181646003495,0.6311002012336644,0.6310816144106707,0.629391998846992,0.6276795576275094,0.6273519784489678,0.6270883719601559,0.6175631881952709,0.6114781810092871,0.6043238444850878,0.5904577150016702,0.5853446758720475,0.5849289635424986],\"yaxis\":\"y\",\"type\":\"scatter\"},{\"hovertemplate\":\"result=Res29\\u003cbr\\u003eiteration=%{x}\\u003cbr\\u003ebelief=%{y}\\u003cextra\\u003e\\u003c\\u002fextra\\u003e\",\"legendgroup\":\"Res29\",\"marker\":{\"color\":\"#636efa\",\"symbol\":\"circle\"},\"mode\":\"markers\",\"name\":\"Res29\",\"orientation\":\"v\",\"showlegend\":true,\"x\":[1038,817,814,808,666,560,500,430,267,217,179,141,115,112,105,77,68,61,57,54,42,39,24,23,17,15,13,12,8,7,4,0],\"xaxis\":\"x\",\"y\":[0.6457866165148948,0.6447921259380651,0.6447687358156777,0.6439629121065101,0.6436492527640363,0.642096851484149,0.6417235553603865,0.6416148293659458,0.6407283551454594,0.6402233074486043,0.6384669009926567,0.6358698196418499,0.6343481913445004,0.6337893690737588,0.6326932761445045,0.6315555321797899,0.6302424993901394,0.6222927998541432,0.6211733759837783,0.6200467742528784,0.618935189868209,0.6173791457708825,0.607350887299809,0.5984208899043404,0.5877687361750934,0.5806080335774801,0.5762748619327265,0.5693120833654878,0.5688760023442907,0.5632631344356607,0.5293397982114856,0.5194499677338476],\"yaxis\":\"y\",\"type\":\"scatter\"},{\"hovertemplate\":\"result=Res80\\u003cbr\\u003eiteration=%{x}\\u003cbr\\u003ebelief=%{y}\\u003cextra\\u003e\\u003c\\u002fextra\\u003e\",\"legendgroup\":\"Res80\",\"marker\":{\"color\":\"#EF553B\",\"symbol\":\"circle\"},\"mode\":\"markers\",\"name\":\"Res80\",\"orientation\":\"v\",\"showlegend\":true,\"x\":[506,467,420,330,291,238,217,214,124,78,69,64,62,53,34,32,30,16,6,4,1,0],\"xaxis\":\"x\",\"y\":[0.6457836927495963,0.6449369342144489,0.6427684008280039,0.6396529795006705,0.6394566221999012,0.6360804164438523,0.6349016872537627,0.630901992874812,0.628147597945159,0.626702588724454,0.6259304528908405,0.6258323894259636,0.6207044674339137,0.6180935494769674,0.612874184489601,0.6115155508554626,0.6097030357234773,0.5977666573598849,0.5956110849749123,0.5949800200286568,0.5732648718102165,0.5408318694371043],\"yaxis\":\"y\",\"type\":\"scatter\"},{\"hovertemplate\":\"result=Res73\\u003cbr\\u003eiteration=%{x}\\u003cbr\\u003ebelief=%{y}\\u003cextra\\u003e\\u003c\\u002fextra\\u003e\",\"legendgroup\":\"Res73\",\"marker\":{\"color\":\"#00cc96\",\"symbol\":\"circle\"},\"mode\":\"markers\",\"name\":\"Res73\",\"orientation\":\"v\",\"showlegend\":true,\"x\":[1040,916,873,796,752,676,502,481,354,274,234,168,136,134,102,100,32,21,18,6,0],\"xaxis\":\"x\",\"y\":[0.6457836927495963,0.6455421481989265,0.6440547681086801,0.6440185227297605,0.6438707906880783,0.6438590956268846,0.6431695045993134,0.6430607786048729,0.6430295917750231,0.6420303266077441,0.6418107406525897,0.6389272518627765,0.6385100385479832,0.6379323645485242,0.6365441908342728,0.6319305580452477,0.6316341491856212,0.6249754257316741,0.6211975608339915,0.618383265766979,0.5641666184361327],\"yaxis\":\"y\",\"type\":\"scatter\"},{\"hovertemplate\":\"result=Res59\\u003cbr\\u003eiteration=%{x}\\u003cbr\\u003ebelief=%{y}\\u003cextra\\u003e\\u003c\\u002fextra\\u003e\",\"legendgroup\":\"Res59\",\"marker\":{\"color\":\"#ab63fa\",\"symbol\":\"circle\"},\"mode\":\"markers\",\"name\":\"Res59\",\"orientation\":\"v\",\"showlegend\":true,\"x\":[1755,1510,1219,1082,997,994,772,615,595,450,227,182,166,157,144,97,60,54,47,45,41,30,25,21,13,10,8,5,1,0],\"xaxis\":\"x\",\"y\":[0.6457836927495963,0.6441849100862109,0.6436935123283929,0.6435457802867106,0.6434612351982051,0.6433688825256928,0.6431811996605071,0.643075397431365,0.6427139656495781,0.639956134697913,0.6397655280674289,0.6391946045840275,0.6378259772396744,0.6333526255189991,0.6319103545874947,0.6287234644680206,0.6286254010031439,0.6217013618494083,0.6171507792003379,0.6107299306632925,0.6101802328251953,0.6069929721113931,0.6040521322074787,0.6034456010133562,0.590316356790765,0.5864762132813002,0.585343067140654,0.5744454019513165,0.5602526719326779,0.5602000085250877],\"yaxis\":\"y\",\"type\":\"scatter\"},{\"hovertemplate\":\"result=Res54\\u003cbr\\u003eiteration=%{x}\\u003cbr\\u003ebelief=%{y}\\u003cextra\\u003e\\u003c\\u002fextra\\u003e\",\"legendgroup\":\"Res54\",\"marker\":{\"color\":\"#FFA15A\",\"symbol\":\"circle\"},\"mode\":\"markers\",\"name\":\"Res54\",\"orientation\":\"v\",\"showlegend\":true,\"x\":[1045,896,886,761,713,706,641,621,604,591,588,425,334,333,258,250,181,81,80,79,28,24,23,10,4,3,0],\"xaxis\":\"x\",\"y\":[0.6457836927495963,0.6456778905204542,0.6436874900906001,0.6434459455399303,0.6423012952618398,0.6400871991271074,0.6400813515965106,0.6396452485103097,0.6387984899751622,0.6368104761245954,0.6367812180734838,0.6349301100716415,0.6339913999032485,0.6337186609140452,0.6326382357367906,0.632361486075402,0.6322914206290191,0.6314941623479917,0.6243670442046731,0.620822518034706,0.6144270476359683,0.6122567360417898,0.5986969621592952,0.5802765395054508,0.578714198586936,0.5675537984818124,0.5619073813370425],\"yaxis\":\"y\",\"type\":\"scatter\"},{\"hovertemplate\":\"result=Res92\\u003cbr\\u003eiteration=%{x}\\u003cbr\\u003ebelief=%{y}\\u003cextra\\u003e\\u003c\\u002fextra\\u003e\",\"legendgroup\":\"Res92\",\"marker\":{\"color\":\"#19d3f3\",\"symbol\":\"circle\"},\"mode\":\"markers\",\"name\":\"Res92\",\"orientation\":\"v\",\"showlegend\":true,\"x\":[515,467,273,238,150,127,109,54,31,23,1,0],\"xaxis\":\"x\",\"y\":[0.6456778905204542,0.6432630802965507,0.6419212906001894,0.6371970607909274,0.6351062991174575,0.6336546285590349,0.6326585981904823,0.6315639610766786,0.6172136556828569,0.6169233498901194,0.6075953403164227,0.592179260998124],\"yaxis\":\"y\",\"type\":\"scatter\"},{\"hovertemplate\":\"result=Res79\\u003cbr\\u003eiteration=%{x}\\u003cbr\\u003ebelief=%{y}\\u003cextra\\u003e\\u003c\\u002fextra\\u003e\",\"legendgroup\":\"Res79\",\"marker\":{\"color\":\"#FF6692\",\"symbol\":\"circle\"},\"mode\":\"markers\",\"name\":\"Res79\",\"orientation\":\"v\",\"showlegend\":true,\"x\":[881,701,631,376,359,332,131,103,44,32,25,12,11,10,0],\"xaxis\":\"x\",\"y\":[0.6456778905204542,0.6454363459697843,0.644389881062796,0.642399480632942,0.6401760713719329,0.6399586193830518,0.6397956354828709,0.6397628331120565,0.6296788441684034,0.6286538592079303,0.6082418353172094,0.5985682219023911,0.589829937697486,0.5783305237856826,0.5684186965942644],\"yaxis\":\"y\",\"type\":\"scatter\"},{\"hovertemplate\":\"result=Res2\\u003cbr\\u003eiteration=%{x}\\u003cbr\\u003ebelief=%{y}\\u003cextra\\u003e\\u003c\\u002fextra\\u003e\",\"legendgroup\":\"Res2\",\"marker\":{\"color\":\"#B6E880\",\"symbol\":\"circle\"},\"mode\":\"markers\",\"name\":\"Res2\",\"orientation\":\"v\",\"showlegend\":true,\"x\":[542,390,371,335,292,283,257,212,203,202,188,121,116,108,76,62,51,44,37,22,19,18,16,11,10,7,6,5,2,0],\"xaxis\":\"x\",\"y\":[0.645656429176805,0.6447233988656245,0.6446583051965795,0.6426057380788949,0.6410823993420345,0.6409522120039447,0.6402317037687029,0.6402180595306435,0.638747442026488,0.6380024286907713,0.6375910151782016,0.636742789268363,0.6310277181224333,0.630993941163186,0.6303036687834045,0.6282916084443877,0.6267177419901583,0.6256972548025717,0.61530236194697,0.6136815444196758,0.5971860255012358,0.5947242964543697,0.5874535640387969,0.5873707088143205,0.5796252169419289,0.5781268303190249,0.5689440548520506,0.5563162702882322,0.549276813810378,0.5441395895921282],\"yaxis\":\"y\",\"type\":\"scatter\"},{\"hovertemplate\":\"result=Res44\\u003cbr\\u003eiteration=%{x}\\u003cbr\\u003ebelief=%{y}\\u003cextra\\u003e\\u003c\\u002fextra\\u003e\",\"legendgroup\":\"Res44\",\"marker\":{\"color\":\"#FF97FF\",\"symbol\":\"circle\"},\"mode\":\"markers\",\"name\":\"Res44\",\"orientation\":\"v\",\"showlegend\":true,\"x\":[529,513,493,366,345,262,112,72,71,36,23,16,14,12,9,8,5,0],\"xaxis\":\"x\",\"y\":[0.645656429176805,0.6456535054115066,0.6455421481989265,0.6436973209807461,0.6416891589954605,0.6415589716573709,0.6404550454480032,0.6399028544989459,0.623145991019778,0.61760822012548,0.6099724523148089,0.6071312688653552,0.6024286233470677,0.6019925237403145,0.5756074342969397,0.5638346427119945,0.5624267687453733,0.557875542835979],\"yaxis\":\"y\",\"type\":\"scatter\"},{\"hovertemplate\":\"result=Res53\\u003cbr\\u003eiteration=%{x}\\u003cbr\\u003ebelief=%{y}\\u003cextra\\u003e\\u003c\\u002fextra\\u003e\",\"legendgroup\":\"Res53\",\"marker\":{\"color\":\"#FECB52\",\"symbol\":\"circle\"},\"mode\":\"markers\",\"name\":\"Res53\",\"orientation\":\"v\",\"showlegend\":true,\"x\":[607,481,427,332,242,226,198,192,146,131,127,122,111,100,97,85,73,72,70,64,45,34,26,20,12,7,4,0],\"xaxis\":\"x\",\"y\":[0.645656429176805,0.6453490088395888,0.6442450826302212,0.6438594871015455,0.6437694369633084,0.6436636347341662,0.6408541512989478,0.6403347350287866,0.6389023902607983,0.6387706386877057,0.6377676600516416,0.6315225800959094,0.6306795396353052,0.6305581805638891,0.6205591112513409,0.6178987189167524,0.6133468512582814,0.6110257527642315,0.6061940213438735,0.6018878611714524,0.6003832074475993,0.5984162974913244,0.593664537789777,0.5932616226461769,0.5812832643650139,0.5807402713834549,0.5662623736105374,0.5656833121376551],\"yaxis\":\"y\",\"type\":\"scatter\"},{\"hovertemplate\":\"result=Res69\\u003cbr\\u003eiteration=%{x}\\u003cbr\\u003ebelief=%{y}\\u003cextra\\u003e\\u003c\\u002fextra\\u003e\",\"legendgroup\":\"Res69\",\"marker\":{\"color\":\"#636efa\",\"symbol\":\"circle\"},\"mode\":\"markers\",\"name\":\"Res69\",\"orientation\":\"v\",\"showlegend\":true,\"x\":[552,341,277,210,193,169,149,137,115,112,74,57,26,11,7,6,5,0],\"xaxis\":\"x\",\"y\":[0.6456388844732126,0.6455086971351228,0.6448038209992588,0.6433718062909912,0.6420170220821926,0.6419112198530504,0.64135563145626,0.6387097931700582,0.6385955841887561,0.6383028029152169,0.6362298576561548,0.6257990962555516,0.6202089731650208,0.6174387453289876,0.6171954807738351,0.615110768408921,0.6125451522272711,0.5876643163047146],\"yaxis\":\"y\",\"type\":\"scatter\"},{\"hovertemplate\":\"result=Res85\\u003cbr\\u003eiteration=%{x}\\u003cbr\\u003ebelief=%{y}\\u003cextra\\u003e\\u003c\\u002fextra\\u003e\",\"legendgroup\":\"Res85\",\"marker\":{\"color\":\"#EF553B\",\"symbol\":\"circle\"},\"mode\":\"markers\",\"name\":\"Res85\",\"orientation\":\"v\",\"showlegend\":true,\"x\":[644,433,337,298,228,214,209,165,156,150,147,131,109,75,73,30,11,0],\"xaxis\":\"x\",\"y\":[0.6456388844732126,0.6456154943508252,0.6447687358156777,0.6421026990147458,0.6408417345368993,0.6397089352182828,0.6392912641475521,0.6364824796951463,0.6363587667509853,0.6296658765449392,0.6295769309093895,0.6295712735946142,0.6271027943672429,0.624536529627071,0.6204187443236537,0.6145160739057494,0.6138282727729929,0.5959591139170362],\"yaxis\":\"y\",\"type\":\"scatter\"},{\"hovertemplate\":\"result=Res55\\u003cbr\\u003eiteration=%{x}\\u003cbr\\u003ebelief=%{y}\\u003cextra\\u003e\\u003c\\u002fextra\\u003e\",\"legendgroup\":\"Res55\",\"marker\":{\"color\":\"#00cc96\",\"symbol\":\"circle\"},\"mode\":\"markers\",\"name\":\"Res55\",\"orientation\":\"v\",\"showlegend\":true,\"x\":[1106,996,821,730,584,454,322,271,270,244,193,148,141,138,77,58,42,40,38,21,14,13,10,0],\"xaxis\":\"x\",\"y\":[0.6456359607079142,0.6455421481989265,0.6454363459697843,0.6434895810812418,0.6424935987488133,0.6414382977985328,0.641373204129488,0.6396280573490194,0.6383298731125323,0.6351759144049539,0.6328865209314789,0.6324490648321532,0.629355346608655,0.6264409077140982,0.6236966197964344,0.6164271874207896,0.608980827297047,0.6071029875539518,0.6050612505887945,0.6023841828763612,0.6009198565738195,0.5975072049588088,0.5843887879020904,0.5778963421409894],\"yaxis\":\"y\",\"type\":\"scatter\"},{\"hovertemplate\":\"result=Res77\\u003cbr\\u003eiteration=%{x}\\u003cbr\\u003ebelief=%{y}\\u003cextra\\u003e\\u003c\\u002fextra\\u003e\",\"legendgroup\":\"Res77\",\"marker\":{\"color\":\"#ab63fa\",\"symbol\":\"circle\"},\"mode\":\"markers\",\"name\":\"Res77\",\"orientation\":\"v\",\"showlegend\":true,\"x\":[550,513,497,432,384,289,279,230,125,109,97,92,62,37,22,20,10,2,1,0],\"xaxis\":\"x\",\"y\":[0.6456359607079142,0.6456154943508252,0.6440938660534756,0.6413005667838663,0.6412160216953608,0.6393263991852164,0.6372725553051906,0.6311458196848124,0.6309927605991608,0.6308080014992735,0.6292417757021389,0.6285288958262273,0.6269162294197063,0.62627211061792,0.6148529498095266,0.6139380610918164,0.605386622934647,0.6050591733231157,0.5868376945770943,0.5847386711936954],\"yaxis\":\"y\",\"type\":\"scatter\"},{\"hovertemplate\":\"result=Res17\\u003cbr\\u003eiteration=%{x}\\u003cbr\\u003ebelief=%{y}\\u003cextra\\u003e\\u003c\\u002fextra\\u003e\",\"legendgroup\":\"Res17\",\"marker\":{\"color\":\"#FFA15A\",\"symbol\":\"circle\"},\"mode\":\"markers\",\"name\":\"Res17\",\"orientation\":\"v\",\"showlegend\":true,\"x\":[642,401,380,312,278,263,214,166,135,58,50,34,27,20,17,11,5,2,0],\"xaxis\":\"x\",\"y\":[0.6455503985699784,0.6445474199339145,0.6445123347503334,0.640994858253958,0.6408042516234738,0.6407951554647676,0.6354786720157132,0.6319603949803638,0.6305075890521965,0.6285521987117695,0.6182125793393729,0.6170636913586836,0.6128850567088213,0.6052633414022348,0.594766813453689,0.59016985505463,0.5827976272924806,0.5769251388848442,0.5544373582899098],\"yaxis\":\"y\",\"type\":\"scatter\"},{\"hovertemplate\":\"result=Res40\\u003cbr\\u003eiteration=%{x}\\u003cbr\\u003ebelief=%{y}\\u003cextra\\u003e\\u003c\\u002fextra\\u003e\",\"legendgroup\":\"Res40\",\"marker\":{\"color\":\"#19d3f3\",\"symbol\":\"circle\"},\"mode\":\"markers\",\"name\":\"Res40\",\"orientation\":\"v\",\"showlegend\":true,\"x\":[822,731,518,483,467,439,347,340,272,227,223,216,170,113,103,96,78,68,46,27,21,0],\"xaxis\":\"x\",\"y\":[0.6455503985699784,0.6455153133863973,0.6441764474553346,0.6426540525491092,0.6426240461754473,0.6423390153538532,0.640210285202561,0.6374160696160712,0.6358636683361839,0.6335553881514396,0.6327125222690455,0.6295797105074257,0.6286287123491647,0.627979205207621,0.6264209563971369,0.6248902005736876,0.623729270501283,0.6165369983198539,0.6140240420112764,0.6072328310977029,0.6071045964937771,0.6069891445700213],\"yaxis\":\"y\",\"type\":\"scatter\"},{\"hovertemplate\":\"result=Res62\\u003cbr\\u003eiteration=%{x}\\u003cbr\\u003ebelief=%{y}\\u003cextra\\u003e\\u003c\\u002fextra\\u003e\",\"legendgroup\":\"Res62\",\"marker\":{\"color\":\"#FF6692\",\"symbol\":\"circle\"},\"mode\":\"markers\",\"name\":\"Res62\",\"orientation\":\"v\",\"showlegend\":true,\"x\":[447,443,432,419,379,353,310,276,273,257,228,190,117,103,97,44,38,16,9,5,2,0],\"xaxis\":\"x\",\"y\":[0.6455421481989265,0.6450507504411086,0.6449486292756426,0.643844703066275,0.6417108560021345,0.6411185676417914,0.6407807494562525,0.6402803756978318,0.6386121585978852,0.6385870727231223,0.6385236726946512,0.6369595763535703,0.633261089330506,0.6317353200661785,0.6304108747307647,0.6247632655692141,0.610227172376117,0.6048733377253536,0.6020733629991918,0.5903335190265618,0.5862535782846301,0.5853758068300199],\"yaxis\":\"y\",\"type\":\"scatter\"},{\"hovertemplate\":\"result=Res64\\u003cbr\\u003eiteration=%{x}\\u003cbr\\u003ebelief=%{y}\\u003cextra\\u003e\\u003c\\u002fextra\\u003e\",\"legendgroup\":\"Res64\",\"marker\":{\"color\":\"#B6E880\",\"symbol\":\"circle\"},\"mode\":\"markers\",\"name\":\"Res64\",\"orientation\":\"v\",\"showlegend\":true,\"x\":[1258,1230,1195,1159,941,932,905,894,632,502,397,375,283,256,114,105,96,95,88,86,81,80,54,46,29,26,19,14,8,2,0],\"xaxis\":\"x\",\"y\":[0.6455153133863973,0.6445474199339145,0.6445123347503334,0.6424346696696879,0.6416280483343932,0.6410630483068607,0.6407099808520047,0.6406012548575641,0.6403548269983314,0.6398379356804049,0.6389633159150371,0.6374409210088119,0.6371657627212557,0.6370857250466564,0.6364208201324233,0.6355639298223308,0.6343899694707859,0.6268356726142159,0.622938785934314,0.6208274722004188,0.6202299466292034,0.6197259793930815,0.6195937057043872,0.6116136067089544,0.6083637797500725,0.6000735487541691,0.5990062288061149,0.5942582606749591,0.5924215999558982,0.5784153084646111,0.5561620150385902],\"yaxis\":\"y\",\"type\":\"scatter\"},{\"hovertemplate\":\"result=Res32\\u003cbr\\u003eiteration=%{x}\\u003cbr\\u003ebelief=%{y}\\u003cextra\\u003e\\u003c\\u002fextra\\u003e\",\"legendgroup\":\"Res32\",\"marker\":{\"color\":\"#FF97FF\",\"symbol\":\"circle\"},\"mode\":\"markers\",\"name\":\"Res32\",\"orientation\":\"v\",\"showlegend\":true,\"x\":[518,502,488,424,378,330,254,225,220,158,118,108,99,97,96,78,44,43,38,20,19,18,17,16,15,14,6,4,3,0],\"xaxis\":\"x\",\"y\":[0.645512389621099,0.6431728748057888,0.6427388552768653,0.6424535966108977,0.6417428729444368,0.6408933313856653,0.640724545452126,0.6406889470841592,0.6395753115631145,0.6390759909671129,0.6388536843223932,0.6327840845560077,0.6314501878865704,0.6295847248695765,0.625606747583839,0.622597830018823,0.621755753592333,0.6162846847472563,0.6068320937875042,0.5926962965988842,0.5903709905699623,0.5876448103806868,0.5849336378944376,0.5847280601085554,0.584162927912987,0.5828957338969603,0.5806966684864265,0.5611111527707524,0.5608009452713478,0.5536827485813394],\"yaxis\":\"y\",\"type\":\"scatter\"},{\"hovertemplate\":\"result=Res86\\u003cbr\\u003eiteration=%{x}\\u003cbr\\u003ebelief=%{y}\\u003cextra\\u003e\\u003c\\u002fextra\\u003e\",\"legendgroup\":\"Res86\",\"marker\":{\"color\":\"#FECB52\",\"symbol\":\"circle\"},\"mode\":\"markers\",\"name\":\"Res86\",\"orientation\":\"v\",\"showlegend\":true,\"x\":[611,571,528,262,256,236,235,155,147,133,131,118,101,98,97,96,88,69,63,62,61,24,23,8,0],\"xaxis\":\"x\",\"y\":[0.6454791961776786,0.6449877984198606,0.6449581680122339,0.6439796579039938,0.6431621391336324,0.6402757265785209,0.6395444890826103,0.6390160638283713,0.6373447456935155,0.6363771098891263,0.6311410412216777,0.6294114529209078,0.6282858017833407,0.6256178499797767,0.6253172814996479,0.624175214882962,0.6209696248391561,0.6151035386265076,0.6130611727956273,0.6109107206242508,0.6103699215907936,0.6064566513594292,0.6042611626611226,0.6034901122141505,0.5993343702223496],\"yaxis\":\"y\",\"type\":\"scatter\"},{\"hovertemplate\":\"result=Res56\\u003cbr\\u003eiteration=%{x}\\u003cbr\\u003ebelief=%{y}\\u003cextra\\u003e\\u003c\\u002fextra\\u003e\",\"legendgroup\":\"Res56\",\"marker\":{\"color\":\"#636efa\",\"symbol\":\"circle\"},\"mode\":\"markers\",\"name\":\"Res56\",\"orientation\":\"v\",\"showlegend\":true,\"x\":[495,445,404,334,330,209,134,109,108,97,93,64,45,40,34,32,28,27,20,19,10,4,2,1,0],\"xaxis\":\"x\",\"y\":[0.6454368179196993,0.6401426157474265,0.6399173853374083,0.639099866567047,0.638903912494466,0.6357966127414614,0.6342442114615742,0.6295863946557914,0.6282131454453834,0.6253114049783555,0.6221999572618571,0.6213600855142181,0.6197095796719245,0.617566773931564,0.6045600911978775,0.6043409900615789,0.5984993403249694,0.5681653957487698,0.5664640620170998,0.5603406239518636,0.5562034583158457,0.5532483410377158,0.5490603244128954,0.5484850421091781,0.5369721897336137],\"yaxis\":\"y\",\"type\":\"scatter\"},{\"hovertemplate\":\"result=Res76\\u003cbr\\u003eiteration=%{x}\\u003cbr\\u003ebelief=%{y}\\u003cextra\\u003e\\u003c\\u002fextra\\u003e\",\"legendgroup\":\"Res76\",\"marker\":{\"color\":\"#EF553B\",\"symbol\":\"circle\"},\"mode\":\"markers\",\"name\":\"Res76\",\"orientation\":\"v\",\"showlegend\":true,\"x\":[1319,1176,885,878,796,690,512,510,490,388,230,142,131,128,106,97,91,66,63,57,41,36,16,15,13,12,8,5,0],\"xaxis\":\"x\",\"y\":[0.6454148846261352,0.6449059442765266,0.6448096706416575,0.6439746071677037,0.642961152611087,0.6429494575498933,0.6421143940759395,0.6403017637120709,0.6400931892345065,0.6367031630062118,0.6367002392409133,0.6353613733098505,0.6348841317391076,0.6341020663863556,0.6338895935550599,0.6333486187775995,0.6332374568641339,0.6323302096860202,0.6130557381654016,0.6126948183603365,0.6102316853639179,0.6087038344017566,0.6062763531900318,0.6023722169611343,0.5794212249267059,0.5767684038849757,0.5561027931641562,0.5459901188500048,0.5285422647147929],\"yaxis\":\"y\",\"type\":\"scatter\"},{\"hovertemplate\":\"result=Res82\\u003cbr\\u003eiteration=%{x}\\u003cbr\\u003ebelief=%{y}\\u003cextra\\u003e\\u003c\\u002fextra\\u003e\",\"legendgroup\":\"Res82\",\"marker\":{\"color\":\"#00cc96\",\"symbol\":\"circle\"},\"mode\":\"markers\",\"name\":\"Res82\",\"orientation\":\"v\",\"showlegend\":true,\"x\":[1363,1313,1217,1214,1013,869,837,799,611,324,200,196,161,134,128,96,60,55,50,49,38,32,22,13,9,8,4,3,0],\"xaxis\":\"x\",\"y\":[0.6454148846261352,0.6453460850742904,0.6444159785284083,0.6416921955089785,0.6416798719622894,0.6415851547496434,0.6410627516934347,0.640317738357718,0.6402592222554948,0.6401574770560641,0.6366765338592166,0.634581951111698,0.6320335048209158,0.6313976947072049,0.6313436372843904,0.6303511098909158,0.6295049915217237,0.6226930544183799,0.6158059363210325,0.6141923878297839,0.6110566061786612,0.6070120036492352,0.6064460305728903,0.600505106052227,0.5892965617383932,0.5745328730287727,0.5686789539269648,0.5664985087253529,0.5663473627975976],\"yaxis\":\"y\",\"type\":\"scatter\"},{\"hovertemplate\":\"result=Res30\\u003cbr\\u003eiteration=%{x}\\u003cbr\\u003ebelief=%{y}\\u003cextra\\u003e\\u003c\\u002fextra\\u003e\",\"legendgroup\":\"Res30\",\"marker\":{\"color\":\"#ab63fa\",\"symbol\":\"circle\"},\"mode\":\"markers\",\"name\":\"Res30\",\"orientation\":\"v\",\"showlegend\":true,\"x\":[968,733,496,446,386,384,363,322,311,280,257,217,189,169,165,101,94,86,83,79,69,55,48,14,12,2,0],\"xaxis\":\"x\",\"y\":[0.6453061586316946,0.644251897017244,0.6432537730370185,0.6403535061524888,0.63936825413663,0.6392545058559893,0.6391915538347415,0.6386167918916652,0.6376138132556013,0.6363826632620091,0.635231480196132,0.6350947148976163,0.6349688108551205,0.6306640134484545,0.6295445303968129,0.6244826899021798,0.620157427388117,0.616254855739161,0.6134459090198605,0.6066921627730085,0.603520396900056,0.6011310389775273,0.5983301495552569,0.5956793474638769,0.5921089386190144,0.5830533785963594,0.5602800937327315],\"yaxis\":\"y\",\"type\":\"scatter\"},{\"hovertemplate\":\"result=Res4\\u003cbr\\u003eiteration=%{x}\\u003cbr\\u003ebelief=%{y}\\u003cextra\\u003e\\u003c\\u002fextra\\u003e\",\"legendgroup\":\"Res4\",\"marker\":{\"color\":\"#FFA15A\",\"symbol\":\"circle\"},\"mode\":\"markers\",\"name\":\"Res4\",\"orientation\":\"v\",\"showlegend\":true,\"x\":[315,185,121,105,66,59,54,50,30,26,24,22,21,19,13,10,3,0],\"xaxis\":\"x\",\"y\":[0.6452573468060685,0.6447379305359071,0.6445415732351378,0.6411354699079148,0.6410925880168713,0.6318577497306397,0.6194012564344547,0.6183540106660242,0.6167835446787449,0.6118758548637921,0.6053130177674019,0.6029382270674596,0.6018691329094386,0.5864115023565355,0.5821934489995764,0.5715243146942661,0.5492589565825844,0.5391389306868377],\"yaxis\":\"y\",\"type\":\"scatter\"},{\"hovertemplate\":\"result=Res61\\u003cbr\\u003eiteration=%{x}\\u003cbr\\u003ebelief=%{y}\\u003cextra\\u003e\\u003c\\u002fextra\\u003e\",\"legendgroup\":\"Res61\",\"marker\":{\"color\":\"#19d3f3\",\"symbol\":\"circle\"},\"mode\":\"markers\",\"name\":\"Res61\",\"orientation\":\"v\",\"showlegend\":true,\"x\":[761,730,658,496,452,375,349,293,278,262,203,170,169,167,141,120,116,87,69,42,35,25,23,11,5,1,0],\"xaxis\":\"x\",\"y\":[0.6452573468060685,0.64525442304077,0.6442155905004473,0.6441834290821646,0.643765758011434,0.6436640128120033,0.6423021213022884,0.6381868692703737,0.6352021232224982,0.63091994794433,0.6292376790767311,0.6268815570366981,0.6170627652139977,0.6166370650307282,0.6147345465986047,0.6135433996379096,0.6126980095698953,0.612150838279842,0.6106780019010765,0.6099157039082789,0.6068153763670323,0.6040643095877334,0.5937967873876018,0.5769226292878623,0.5682402569721723,0.5602095049960272,0.5562625862329317],\"yaxis\":\"y\",\"type\":\"scatter\"},{\"hovertemplate\":\"result=Res28\\u003cbr\\u003eiteration=%{x}\\u003cbr\\u003ebelief=%{y}\\u003cextra\\u003e\\u003c\\u002fextra\\u003e\",\"legendgroup\":\"Res28\",\"marker\":{\"color\":\"#FF6692\",\"symbol\":\"circle\"},\"mode\":\"markers\",\"name\":\"Res28\",\"orientation\":\"v\",\"showlegend\":true,\"x\":[436,428,398,396,373,351,331,326,186,174,165,159,145,136,126,117,78,58,37,34,31,21,20,12,4,0],\"xaxis\":\"x\",\"y\":[0.6452573468060685,0.6436932504649875,0.6408779194991724,0.639728430073869,0.6396123318097577,0.6392090138037076,0.6392060900384091,0.6387973306532285,0.6383072023969122,0.63547346834161,0.6344850057384275,0.6344534688657799,0.6341406071494332,0.6325715685396692,0.6225450907186749,0.6201273484771159,0.6196627578760697,0.6174251115145155,0.6144463060184557,0.6119746407687764,0.6095763769681883,0.6072335987995999,0.6059637815621308,0.6006190624174607,0.5950604677723457,0.5889158721322099],\"yaxis\":\"y\",\"type\":\"scatter\"},{\"hovertemplate\":\"result=Res19\\u003cbr\\u003eiteration=%{x}\\u003cbr\\u003ebelief=%{y}\\u003cextra\\u003e\\u003c\\u002fextra\\u003e\",\"legendgroup\":\"Res19\",\"marker\":{\"color\":\"#B6E880\",\"symbol\":\"circle\"},\"mode\":\"markers\",\"name\":\"Res19\",\"orientation\":\"v\",\"showlegend\":true,\"x\":[830,798,643,484,459,305,247,215,213,192,138,118,104,88,54,53,40,30,25,24,22,17,16,10,6,4,2,0],\"xaxis\":\"x\",\"y\":[0.6452376516270089,0.6449581680122339,0.6449219226333143,0.6448131966388737,0.6429392847431595,0.6400557959533464,0.6399809560837221,0.6399074821998385,0.6397893748648051,0.6395764281901322,0.636877079524293,0.6353246782444057,0.6285659229319942,0.6270254793495924,0.6243046475236694,0.6156460764888367,0.615574879752903,0.6093840117944589,0.6057682924675034,0.6031634144092342,0.5983692429162002,0.5863494725766121,0.5857789552446769,0.5827747122090837,0.5762579778805276,0.5742084307778992,0.5652150805038957,0.5646081294764902],\"yaxis\":\"y\",\"type\":\"scatter\"},{\"hovertemplate\":\"result=Res99\\u003cbr\\u003eiteration=%{x}\\u003cbr\\u003ebelief=%{y}\\u003cextra\\u003e\\u003c\\u002fextra\\u003e\",\"legendgroup\":\"Res99\",\"marker\":{\"color\":\"#FF97FF\",\"symbol\":\"circle\"},\"mode\":\"markers\",\"name\":\"Res99\",\"orientation\":\"v\",\"showlegend\":true,\"x\":[1210,945,890,722,671,483,473,411,376,302,227,223,211,138,137,64,39,21,19,11,10,9,7,3,1,0],\"xaxis\":\"x\",\"y\":[0.6452376516270087,0.645107464288919,0.6448045905517568,0.644702845352326,0.6423383813580135,0.642171685336544,0.6421028857846993,0.6411076855697723,0.6401047069337082,0.6387028889813976,0.6377205788081924,0.6368753214426873,0.6360688317837004,0.6350736315687735,0.6348729062592302,0.6341387903585801,0.6298696455129594,0.6250677556805543,0.6131777057852636,0.6114800353721628,0.6064416740312553,0.5960353879653215,0.5873766595469023,0.5559607635572477,0.5542997236735081,0.5482431938990375],\"yaxis\":\"y\",\"type\":\"scatter\"},{\"hovertemplate\":\"result=Res0\\u003cbr\\u003eiteration=%{x}\\u003cbr\\u003ebelief=%{y}\\u003cextra\\u003e\\u003c\\u002fextra\\u003e\",\"legendgroup\":\"Res0\",\"marker\":{\"color\":\"#FECB52\",\"symbol\":\"circle\"},\"mode\":\"markers\",\"name\":\"Res0\",\"orientation\":\"v\",\"showlegend\":true,\"x\":[902,836,813,622,588,548,457,402,391,339,329,325,318,289,287,231,216,204,184,154,124,117,116,57,43,33,27,10,9,6,5,4,0],\"xaxis\":\"x\",\"y\":[0.6452347278617103,0.6434895810812418,0.6433593937431521,0.6413674290782951,0.6403063530768218,0.6399377239469057,0.6366960888923174,0.6366795004908323,0.6363613675079572,0.6358211010429581,0.6336788624543837,0.6304946192565081,0.6266102672694619,0.6257721040231792,0.6211404208963619,0.6210330154718215,0.618181573547937,0.6166174772068561,0.6150947795016698,0.6135878357148077,0.6130015086869114,0.612383723455449,0.6075209500914991,0.6065714796916901,0.604617752977848,0.6004092259087304,0.6001775826519697,0.5880842816883348,0.5802194063809463,0.5751622686351623,0.5685889944233361,0.5676826605225567,0.5518107783379728],\"yaxis\":\"y\",\"type\":\"scatter\"},{\"hovertemplate\":\"result=Res52\\u003cbr\\u003eiteration=%{x}\\u003cbr\\u003ebelief=%{y}\\u003cextra\\u003e\\u003c\\u002fextra\\u003e\",\"legendgroup\":\"Res52\",\"marker\":{\"color\":\"#636efa\",\"symbol\":\"circle\"},\"mode\":\"markers\",\"name\":\"Res52\",\"orientation\":\"v\",\"showlegend\":true,\"x\":[628,520,496,460,343,298,281,240,199,171,141,132,110,106,75,73,52,49,41,38,25,11,10,0],\"xaxis\":\"x\",\"y\":[0.6452347278617103,0.6408845158672891,0.6405609367367813,0.6396907522314272,0.6326587878750298,0.6325286005369402,0.6319306377747049,0.6302319712547534,0.6291420050569145,0.6269177318885018,0.6228364717264027,0.6216914735173164,0.6207507278057478,0.620374792344106,0.6192861132922535,0.6127312214086149,0.6062040083346177,0.6059831569030714,0.6018413976730952,0.6004473731049005,0.5951288296299595,0.5933845997166209,0.5921403997343861,0.5520559278183176],\"yaxis\":\"y\",\"type\":\"scatter\"},{\"hovertemplate\":\"result=Res70\\u003cbr\\u003eiteration=%{x}\\u003cbr\\u003ebelief=%{y}\\u003cextra\\u003e\\u003c\\u002fextra\\u003e\",\"legendgroup\":\"Res70\",\"marker\":{\"color\":\"#EF553B\",\"symbol\":\"circle\"},\"mode\":\"markers\",\"name\":\"Res70\",\"orientation\":\"v\",\"showlegend\":true,\"x\":[758,740,608,376,235,177,161,148,142,137,105,74,66,49,31,29,24,7,6,1,0],\"xaxis\":\"x\",\"y\":[0.6452347278617103,0.6451045405236205,0.6437027225713099,0.643423238956535,0.6433998488341477,0.642982177763417,0.6418474475542604,0.6418470715882252,0.6412014415908092,0.6402684112796286,0.6402054592583808,0.6350600097663962,0.6332505334486829,0.6247859422218447,0.6194603427755069,0.6178857118551866,0.6117587370473989,0.6115364588365444,0.6053402004821362,0.5993538000450631,0.580147894897209],\"yaxis\":\"y\",\"type\":\"scatter\"},{\"hovertemplate\":\"result=Res36\\u003cbr\\u003eiteration=%{x}\\u003cbr\\u003ebelief=%{y}\\u003cextra\\u003e\\u003c\\u002fextra\\u003e\",\"legendgroup\":\"Res36\",\"marker\":{\"color\":\"#00cc96\",\"symbol\":\"circle\"},\"mode\":\"markers\",\"name\":\"Res36\",\"orientation\":\"v\",\"showlegend\":true,\"x\":[725,506,497,452,352,323,294,273,230,226,190,134,126,90,65,59,37,32,24,13,6,3,1,0],\"xaxis\":\"x\",\"y\":[0.6452347278617103,0.6431125758587637,0.6421340657505235,0.6411672507034771,0.6411555556422834,0.6346121297382572,0.6339865477993323,0.633260761764764,0.6326855004580195,0.6305659094067825,0.6249933639188197,0.6239293641520478,0.6200948763279421,0.6133126296246325,0.6131941943185149,0.6122786471517394,0.6084965231725971,0.6043613843402099,0.6023247531230443,0.601221136323177,0.5983126905202707,0.5889499523379087,0.5666645737507284,0.5341787968739236],\"yaxis\":\"y\",\"type\":\"scatter\"},{\"hovertemplate\":\"result=Res78\\u003cbr\\u003eiteration=%{x}\\u003cbr\\u003ebelief=%{y}\\u003cextra\\u003e\\u003c\\u002fextra\\u003e\",\"legendgroup\":\"Res78\",\"marker\":{\"color\":\"#ab63fa\",\"symbol\":\"circle\"},\"mode\":\"markers\",\"name\":\"Res78\",\"orientation\":\"v\",\"showlegend\":true,\"x\":[770,752,574,475,427,369,176,155,142,124,97,62,58,54,45,36,34,12,8,3,2,0],\"xaxis\":\"x\",\"y\":[0.6450361316146165,0.6449059442765267,0.6441601333146828,0.6414940965137508,0.6413564974100614,0.6409177316512188,0.6402837439446565,0.6402038910594647,0.6375378542585328,0.6372813718415025,0.6160469848319676,0.615430282282254,0.6143651532848283,0.6092842112923071,0.6074362472964617,0.6050051274611244,0.6003399553832327,0.5956665638004621,0.5865045940628381,0.5848876040946595,0.5778071479040214,0.5495645210764268],\"yaxis\":\"y\",\"type\":\"scatter\"},{\"hovertemplate\":\"result=Res14\\u003cbr\\u003eiteration=%{x}\\u003cbr\\u003ebelief=%{y}\\u003cextra\\u003e\\u003c\\u002fextra\\u003e\",\"legendgroup\":\"Res14\",\"marker\":{\"color\":\"#FFA15A\",\"symbol\":\"circle\"},\"mode\":\"markers\",\"name\":\"Res14\",\"orientation\":\"v\",\"showlegend\":true,\"x\":[1051,904,674,641,522,508,501,471,455,408,370,276,254,195,187,186,183,159,114,102,101,93,72,60,47,42,40,31,20,17,10,7,3,0],\"xaxis\":\"x\",\"y\":[0.6449877984198606,0.644951553040941,0.6447804308768714,0.6435077713378312,0.643406333383157,0.6433159298875104,0.6431138228772619,0.6425139747431714,0.6416375926644229,0.6414248490654829,0.6398228490421898,0.6355584981497786,0.6340908591265901,0.6337160065806047,0.633189847338576,0.630558570873232,0.6294479791724095,0.6280893455382712,0.6274759045077483,0.6248712513796677,0.6245564974126221,0.6237928972539117,0.6218578035772468,0.6205095431089258,0.6148069367607081,0.6089345739417447,0.6061547204576365,0.5952506857244065,0.5946333619069009,0.5928817009294303,0.5815929460311515,0.5800191719036628,0.5633707183902971,0.5559311894882732],\"yaxis\":\"y\",\"type\":\"scatter\"},{\"hovertemplate\":\"result=Res88\\u003cbr\\u003eiteration=%{x}\\u003cbr\\u003ebelief=%{y}\\u003cextra\\u003e\\u003c\\u002fextra\\u003e\",\"legendgroup\":\"Res88\",\"marker\":{\"color\":\"#19d3f3\",\"symbol\":\"circle\"},\"mode\":\"markers\",\"name\":\"Res88\",\"orientation\":\"v\",\"showlegend\":true,\"x\":[941,901,738,502,449,377,340,252,241,154,147,128,102,87,73,54,49,31,28,27,26,17,16,15,3,0],\"xaxis\":\"x\",\"y\":[0.644951553040941,0.6449398579797473,0.6439896667076281,0.6438185445435587,0.6431959966781495,0.6431622197189022,0.6403585838142808,0.6380980109149348,0.6370181523531373,0.6363047360321505,0.6359560093685273,0.635311890566741,0.6335523760447865,0.6321287239987073,0.6297320187321442,0.6136363414946039,0.610693260831523,0.6032226023747926,0.600043234908473,0.5946051376324129,0.5857063249135128,0.5824169700567521,0.5814710372591378,0.5669121362158179,0.5632861263335558,0.5630489924533071],\"yaxis\":\"y\",\"type\":\"scatter\"},{\"hovertemplate\":\"result=Res3\\u003cbr\\u003eiteration=%{x}\\u003cbr\\u003ebelief=%{y}\\u003cextra\\u003e\\u003c\\u002fextra\\u003e\",\"legendgroup\":\"Res3\",\"marker\":{\"color\":\"#FF6692\",\"symbol\":\"circle\"},\"mode\":\"markers\",\"name\":\"Res3\",\"orientation\":\"v\",\"showlegend\":true,\"x\":[1629,1478,1402,1128,890,602,330,226,156,129,120,62,55,34,27,16,15,13,9,8,7,3,1,0],\"xaxis\":\"x\",\"y\":[0.6449486292756426,0.6439964888266578,0.6438487567849757,0.6435457802867106,0.6434612351982051,0.643355432969063,0.6423619833654881,0.6407973218812049,0.639878447596157,0.6383012584387961,0.628868905300675,0.6264380563379226,0.6263089974193558,0.6239181878494168,0.620798526526225,0.6060358912288876,0.5988953846018044,0.590376990046904,0.5832046371707449,0.5755559890502713,0.5720935878023432,0.5702561721277966,0.5524979069050415,0.5519845937017689],\"yaxis\":\"y\",\"type\":\"scatter\"},{\"hovertemplate\":\"result=Res68\\u003cbr\\u003eiteration=%{x}\\u003cbr\\u003ebelief=%{y}\\u003cextra\\u003e\\u003c\\u002fextra\\u003e\",\"legendgroup\":\"Res68\",\"marker\":{\"color\":\"#B6E880\",\"symbol\":\"circle\"},\"mode\":\"markers\",\"name\":\"Res68\",\"orientation\":\"v\",\"showlegend\":true,\"x\":[589,559,345,300,295,204,171,139,122,105,92,88,80,51,44,36,35,27,22,11,3,0],\"xaxis\":\"x\",\"y\":[0.6448213657028512,0.6438232417226258,0.6434620313028976,0.6434386411805102,0.6430053168007983,0.6412675263065541,0.6385897944444284,0.6380377130040613,0.6371110351568676,0.6361268464195304,0.6359093944306493,0.6352464973519683,0.6245628367658314,0.6146047177287142,0.614057522929264,0.6112160423280312,0.6061148302990033,0.5996087632005401,0.5960762753746942,0.5869252363702961,0.5818590189243542,0.5722322002900346],\"yaxis\":\"y\",\"type\":\"scatter\"},{\"hovertemplate\":\"result=Res93\\u003cbr\\u003eiteration=%{x}\\u003cbr\\u003ebelief=%{y}\\u003cextra\\u003e\\u003c\\u002fextra\\u003e\",\"legendgroup\":\"Res93\",\"marker\":{\"color\":\"#FF97FF\",\"symbol\":\"circle\"},\"mode\":\"markers\",\"name\":\"Res93\",\"orientation\":\"v\",\"showlegend\":true,\"x\":[669,594,532,461,383,307,281,269,256,166,141,100,75,61,50,46,42,40,24,20,11,9,6,3,2,1,0],\"xaxis\":\"x\",\"y\":[0.6448184419375529,0.6447229357433799,0.6408309447038063,0.6398333256569709,0.6394219121444011,0.6393698038984521,0.6393201048484022,0.6361136777224872,0.6357949684755435,0.6357065550517135,0.6337259846619994,0.6335610970821912,0.6334524714802297,0.6321165293144653,0.6240799298077233,0.6202049682702059,0.6128595032714467,0.6107678345405124,0.6083429404953907,0.6061910314344753,0.5815798015530764,0.5807624255911876,0.57221698521378,0.5650943555047383,0.5461028642733016,0.5306126485616909,0.5001331021715365],\"yaxis\":\"y\",\"type\":\"scatter\"},{\"hovertemplate\":\"result=Res87\\u003cbr\\u003eiteration=%{x}\\u003cbr\\u003ebelief=%{y}\\u003cextra\\u003e\\u003c\\u002fextra\\u003e\",\"legendgroup\":\"Res87\",\"marker\":{\"color\":\"#FECB52\",\"symbol\":\"circle\"},\"mode\":\"markers\",\"name\":\"Res87\",\"orientation\":\"v\",\"showlegend\":true,\"x\":[666,490,352,341,320,301,298,240,205,154,146,100,59,58,36,29,28,18,3,1,0],\"xaxis\":\"x\",\"y\":[0.6448038209992588,0.6433588117785538,0.640461916784884,0.6404424250162278,0.6396252596032761,0.6373267918252532,0.6364816538393314,0.636250176029752,0.6358411611082794,0.6352517085841387,0.6309057334398924,0.6302470765513561,0.6242538312963068,0.6223817410686102,0.6190764666358863,0.6020735650310209,0.6003787164837993,0.6002449392998305,0.6001014712233419,0.5994399847046158,0.5838401792382906],\"yaxis\":\"y\",\"type\":\"scatter\"},{\"hovertemplate\":\"result=Res22\\u003cbr\\u003eiteration=%{x}\\u003cbr\\u003ebelief=%{y}\\u003cextra\\u003e\\u003c\\u002fextra\\u003e\",\"legendgroup\":\"Res22\",\"marker\":{\"color\":\"#636efa\",\"symbol\":\"circle\"},\"mode\":\"markers\",\"name\":\"Res22\",\"orientation\":\"v\",\"showlegend\":true,\"x\":[926,653,652,591,581,554,499,416,373,368,306,255,205,179,178,155,132,107,90,77,63,46,41,35,20,9,4,0],\"xaxis\":\"x\",\"y\":[0.6448038209992588,0.6433588117785538,0.643327624948704,0.6425163070663491,0.6418758143352972,0.6412759662012065,0.6401306306659262,0.6378648599616052,0.6376956306297584,0.6373639155111083,0.6360751333415416,0.6352824759102073,0.6346754319432374,0.6336111073766855,0.6327174492854561,0.6327155001085905,0.6304560098679938,0.6288585816206893,0.6228780069474643,0.621236308740054,0.6176618349697116,0.6124374331054384,0.6091472066367818,0.6070215454971684,0.6062440138824878,0.6062103749977682,0.5983795402255326,0.591028569880772],\"yaxis\":\"y\",\"type\":\"scatter\"},{\"hovertemplate\":\"result=Res10\\u003cbr\\u003eiteration=%{x}\\u003cbr\\u003ebelief=%{y}\\u003cextra\\u003e\\u003c\\u002fextra\\u003e\",\"legendgroup\":\"Res10\",\"marker\":{\"color\":\"#EF553B\",\"symbol\":\"circle\"},\"mode\":\"markers\",\"name\":\"Res10\",\"orientation\":\"v\",\"showlegend\":true,\"x\":[610,606,381,344,342,229,225,207,181,177,170,157,133,118,116,101,87,74,65,53,28,16,14,8,5,4,2,1,0],\"xaxis\":\"x\",\"y\":[0.6447921259380651,0.6447687358156777,0.6429353142319094,0.6388492396904923,0.6379668021605237,0.6373741813188766,0.6358013027821906,0.63493419272034,0.63469598608421,0.6331740949916334,0.6314172193693421,0.6267765169315382,0.6254476579426043,0.6158011501875512,0.614749636534129,0.6145433486164743,0.6118195706729171,0.6071194407158499,0.6013132209618194,0.6009769705384262,0.5992195528720807,0.5967369259388875,0.589567559735831,0.5729623570915419,0.5716576689127698,0.5710169554348423,0.5584494438610066,0.5411699868768098,0.5377174766297048],\"yaxis\":\"y\",\"type\":\"scatter\"},{\"hovertemplate\":\"result=Res21\\u003cbr\\u003eiteration=%{x}\\u003cbr\\u003ebelief=%{y}\\u003cextra\\u003e\\u003c\\u002fextra\\u003e\",\"legendgroup\":\"Res21\",\"marker\":{\"color\":\"#00cc96\",\"symbol\":\"circle\"},\"mode\":\"markers\",\"name\":\"Res21\",\"orientation\":\"v\",\"showlegend\":true,\"x\":[693,406,362,304,294,293,217,212,140,83,74,64,36,25,22,21,20,19,13,10,4,0],\"xaxis\":\"x\",\"y\":[0.6447379305359071,0.6413526184285839,0.6371123586848713,0.6370879243312807,0.6358946101096503,0.6343305137685693,0.6334229448599709,0.6334165752137724,0.6333058475819074,0.6332814132283169,0.631717316887236,0.6274108871446873,0.6258584858648001,0.6178076638926198,0.6093794964358932,0.6065726453534064,0.60382054556802,0.5979587061776721,0.5962756161506351,0.583959598614846,0.5763838591012689,0.5532060985432665],\"yaxis\":\"y\",\"type\":\"scatter\"},{\"hovertemplate\":\"result=Res34\\u003cbr\\u003eiteration=%{x}\\u003cbr\\u003ebelief=%{y}\\u003cextra\\u003e\\u003c\\u002fextra\\u003e\",\"legendgroup\":\"Res34\",\"marker\":{\"color\":\"#ab63fa\",\"symbol\":\"circle\"},\"mode\":\"markers\",\"name\":\"Res34\",\"orientation\":\"v\",\"showlegend\":true,\"x\":[1261,1238,1125,1037,924,735,684,670,413,366,354,156,133,64,34,26,13,12,9,7,4,0],\"xaxis\":\"x\",\"y\":[0.6446175966364822,0.644310176299266,0.6437502261762034,0.6435775397771308,0.6435346895692367,0.6428939976465354,0.6427925596918613,0.6425428993938604,0.6424708228301077,0.641720344793855,0.6416368380482063,0.6397439506543976,0.6383022062594911,0.6355032463604944,0.6326080625094876,0.6324841058214328,0.6129223287919141,0.6009696203332372,0.5859873375608591,0.5832327707661688,0.5758247123370923,0.5747374857896794],\"yaxis\":\"y\",\"type\":\"scatter\"},{\"hovertemplate\":\"result=Res41\\u003cbr\\u003eiteration=%{x}\\u003cbr\\u003ebelief=%{y}\\u003cextra\\u003e\\u003c\\u002fextra\\u003e\",\"legendgroup\":\"Res41\",\"marker\":{\"color\":\"#FFA15A\",\"symbol\":\"circle\"},\"mode\":\"markers\",\"name\":\"Res41\",\"orientation\":\"v\",\"showlegend\":true,\"x\":[599,589,373,273,269,234,204,189,173,93,82,73,61,48,43,30,27,25,12,11,10,9,7,6,4,0],\"xaxis\":\"x\",\"y\":[0.6445892647020468,0.6432310024431617,0.6412390377783047,0.6402430554458762,0.6391790556791045,0.6387128924460423,0.6370279419669354,0.6356014447295439,0.6343243210485199,0.6341007843236872,0.6339690327505946,0.6336932306377119,0.6331890980977166,0.6289215916798512,0.6284650874967928,0.6261376354902756,0.6192001259169867,0.6136616930784697,0.612675577884323,0.6027292480824147,0.5884971237419603,0.5728063392929248,0.5571393277089358,0.5462842083466095,0.5411778838069644,0.5387768877598083],\"yaxis\":\"y\",\"type\":\"scatter\"},{\"hovertemplate\":\"result=Res16\\u003cbr\\u003eiteration=%{x}\\u003cbr\\u003ebelief=%{y}\\u003cextra\\u003e\\u003c\\u002fextra\\u003e\",\"legendgroup\":\"Res16\",\"marker\":{\"color\":\"#19d3f3\",\"symbol\":\"circle\"},\"mode\":\"markers\",\"name\":\"Res16\",\"orientation\":\"v\",\"showlegend\":true,\"x\":[351,332,326,193,183,172,158,95,92,83,72,58,55,53,51,45,44,33,32,27,21,14,2,0],\"xaxis\":\"x\",\"y\":[0.6445474199339145,0.6429833235928335,0.6407143511158886,0.6385235168474526,0.6385176693168557,0.633244172236571,0.6322892757245788,0.6271671772763856,0.6265619256942778,0.6263994574832903,0.6237225401579085,0.6207732298590019,0.6194474233005481,0.6152820678904027,0.6137373704528789,0.6075665815741151,0.597380500340773,0.5813277643978594,0.5693420975048347,0.5674626786128252,0.5657989173927256,0.5604272323284646,0.5569378442534275,0.5533654052645456],\"yaxis\":\"y\",\"type\":\"scatter\"},{\"hovertemplate\":\"result=Res58\\u003cbr\\u003eiteration=%{x}\\u003cbr\\u003ebelief=%{y}\\u003cextra\\u003e\\u003c\\u002fextra\\u003e\",\"legendgroup\":\"Res58\",\"marker\":{\"color\":\"#FF6692\",\"symbol\":\"circle\"},\"mode\":\"markers\",\"name\":\"Res58\",\"orientation\":\"v\",\"showlegend\":true,\"x\":[635,490,459,454,441,418,360,322,248,221,210,209,190,157,124,121,112,98,56,41,31,30,29,10,8,2,0],\"xaxis\":\"x\",\"y\":[0.6445464144941526,0.644173651860237,0.6435735032888548,0.642828489953138,0.6396657979700235,0.6388829603435788,0.6386034767288041,0.638578787155173,0.6343632169850916,0.6325647954094553,0.6310027661695771,0.6300853819813641,0.6288844467824285,0.6260307295211988,0.6243589145017667,0.6215962321430963,0.6215637458620028,0.6209196270602164,0.6200120581516182,0.6158905188392457,0.612330994695216,0.6069284138689257,0.6045020876216862,0.6026872696685682,0.5859215012682555,0.5727973709826664,0.5179517228629396],\"yaxis\":\"y\",\"type\":\"scatter\"},{\"hovertemplate\":\"result=Res66\\u003cbr\\u003eiteration=%{x}\\u003cbr\\u003ebelief=%{y}\\u003cextra\\u003e\\u003c\\u002fextra\\u003e\",\"legendgroup\":\"Res66\",\"marker\":{\"color\":\"#B6E880\",\"symbol\":\"circle\"},\"mode\":\"markers\",\"name\":\"Res66\",\"orientation\":\"v\",\"showlegend\":true,\"x\":[899,633,554,466,365,285,279,211,203,185,155,132,95,76,49,42,41,23,18,17,14,12,10,4,2,1,0],\"xaxis\":\"x\",\"y\":[0.6445271912650079,0.6444583917131632,0.643528285167281,0.6425381161587083,0.642423907177406,0.6391401055431392,0.638914542651817,0.6383904593072468,0.6366236360191981,0.6354889058100415,0.6322841413473337,0.6318669923922047,0.6314417163451067,0.629659373915563,0.6269936569787099,0.6261214405728499,0.6261114941708457,0.6170231491257945,0.6166122775489983,0.6110718918605451,0.5980998545897459,0.5964226158186506,0.5774490666585057,0.573236645015057,0.5545916883789492,0.5471893248936814,0.5076270323575413],\"yaxis\":\"y\",\"type\":\"scatter\"},{\"hovertemplate\":\"result=Res65\\u003cbr\\u003eiteration=%{x}\\u003cbr\\u003ebelief=%{y}\\u003cextra\\u003e\\u003c\\u002fextra\\u003e\",\"legendgroup\":\"Res65\",\"marker\":{\"color\":\"#FF97FF\",\"symbol\":\"circle\"},\"mode\":\"markers\",\"name\":\"Res65\",\"orientation\":\"v\",\"showlegend\":true,\"x\":[785,749,722,504,468,454,434,421,407,291,283,234,193,184,182,168,167,150,124,103,91,88,48,45,30,26,18,15,14,13,9,6,5,4,3,0],\"xaxis\":\"x\",\"y\":[0.6444810721974531,0.6436343136623057,0.6435329599375358,0.643402772599446,0.6428097021216014,0.6428038545910045,0.6418815264662594,0.6417797812668287,0.6409076902964539,0.6400861693228497,0.6399863208397258,0.6385656711329312,0.6379144691154439,0.6366616315712539,0.6340999137433353,0.6334479140997208,0.6333791145478761,0.6312367937794217,0.630550022046692,0.6240097915342696,0.6190992994140825,0.6187469891142964,0.6176816372254463,0.6152170862585065,0.6122274549311453,0.6120069635294103,0.6117803404574982,0.6008663360865308,0.5979221077494326,0.5964790541101433,0.5962718948389486,0.5715444876703694,0.5678104486185477,0.5652265887440533,0.5644003544785927,0.5263879521491664],\"yaxis\":\"y\",\"type\":\"scatter\"},{\"hovertemplate\":\"result=Res7\\u003cbr\\u003eiteration=%{x}\\u003cbr\\u003ebelief=%{y}\\u003cextra\\u003e\\u003c\\u002fextra\\u003e\",\"legendgroup\":\"Res7\",\"marker\":{\"color\":\"#FECB52\",\"symbol\":\"circle\"},\"mode\":\"markers\",\"name\":\"Res7\",\"orientation\":\"v\",\"showlegend\":true,\"x\":[520,503,426,328,312,294,146,139,107,96,44,43,42,30,26,18,9,8,6,5,0],\"xaxis\":\"x\",\"y\":[0.6444437769729968,0.6442022324223269,0.6431557675153388,0.6429820584823993,0.6390260014645355,0.6386715450862006,0.6386318464879781,0.6334750971451749,0.6333455116007869,0.631442875193843,0.6308023824627911,0.6301678522656651,0.626930190494496,0.6212299103629014,0.60262065346224,0.6026148059316432,0.5845491553942261,0.5784794433240639,0.5652393527185482,0.5600360115588746,0.5448234122475966],\"yaxis\":\"y\",\"type\":\"scatter\"},{\"hovertemplate\":\"result=Res23\\u003cbr\\u003eiteration=%{x}\\u003cbr\\u003ebelief=%{y}\\u003cextra\\u003e\\u003c\\u002fextra\\u003e\",\"legendgroup\":\"Res23\",\"marker\":{\"color\":\"#636efa\",\"symbol\":\"circle\"},\"mode\":\"markers\",\"name\":\"Res23\",\"orientation\":\"v\",\"showlegend\":true,\"x\":[822,806,781,643,611,371,333,190,181,171,139,138,133,127,119,97,72,41,29,27,21,13,12,6,4,2,1,0],\"xaxis\":\"x\",\"y\":[0.6442463420338059,0.6438254944391848,0.6427866618988621,0.6421345333383761,0.6388928982837879,0.6362784321355173,0.6361522184082626,0.6320939581577575,0.6293381406324484,0.6285607590619398,0.6248118597225008,0.6237402248113637,0.623628278059547,0.6228819560251193,0.6211250530333416,0.6180578351934576,0.6173156628648944,0.6065207589836189,0.5929342365750652,0.5908081765353459,0.5903997923274238,0.5864961781666844,0.5710954826221292,0.5649306752687049,0.5612952614071414,0.5509731109212361,0.5284776515930018,0.5225409585375107],\"yaxis\":\"y\",\"type\":\"scatter\"},{\"hovertemplate\":\"result=Res39\\u003cbr\\u003eiteration=%{x}\\u003cbr\\u003ebelief=%{y}\\u003cextra\\u003e\\u003c\\u002fextra\\u003e\",\"legendgroup\":\"Res39\",\"marker\":{\"color\":\"#EF553B\",\"symbol\":\"circle\"},\"mode\":\"markers\",\"name\":\"Res39\",\"orientation\":\"v\",\"showlegend\":true,\"x\":[240,223,212,199,154,152,110,95,75,73,65,51,45,21,10,9,4,3,2,1,0],\"xaxis\":\"x\",\"y\":[0.6442022324223269,0.6422718447397967,0.6407494498335713,0.6404213409597095,0.6403913345860477,0.6328616174552992,0.6298436017842678,0.6297269374366509,0.6276854851537031,0.6237001433630415,0.6220307116399347,0.6213578269974566,0.6204149445865266,0.6093139762121664,0.6064348289729286,0.6050050088507897,0.6012304252046692,0.5783506968586627,0.5636225010952105,0.5624126754841896,0.5600798476945943],\"yaxis\":\"y\",\"type\":\"scatter\"},{\"hovertemplate\":\"result=Res81\\u003cbr\\u003eiteration=%{x}\\u003cbr\\u003ebelief=%{y}\\u003cextra\\u003e\\u003c\\u002fextra\\u003e\",\"legendgroup\":\"Res81\",\"marker\":{\"color\":\"#00cc96\",\"symbol\":\"circle\"},\"mode\":\"markers\",\"name\":\"Res81\",\"orientation\":\"v\",\"showlegend\":true,\"x\":[671,591,446,427,388,354,222,182,174,59,53,49,32,28,6,4,0],\"xaxis\":\"x\",\"y\":[0.6441864472023686,0.6437418339129293,0.6428982099003371,0.6428553596924428,0.6403090213419894,0.6381463354861413,0.6358136683572189,0.635214682379593,0.63487773889778,0.6320943515042523,0.6212189799241785,0.6210618891951408,0.6050121793575629,0.6012077191581127,0.60069310911699,0.58866310486631,0.5868803023030356],\"yaxis\":\"y\",\"type\":\"scatter\"},{\"hovertemplate\":\"result=Res51\\u003cbr\\u003eiteration=%{x}\\u003cbr\\u003ebelief=%{y}\\u003cextra\\u003e\\u003c\\u002fextra\\u003e\",\"legendgroup\":\"Res51\",\"marker\":{\"color\":\"#ab63fa\",\"symbol\":\"circle\"},\"mode\":\"markers\",\"name\":\"Res51\",\"orientation\":\"v\",\"showlegend\":true,\"x\":[610,582,569,487,376,372,349,324,321,317,165,116,104,93,42,38,30,24,22,11,10,9,0],\"xaxis\":\"x\",\"y\":[0.6441571016603771,0.6440929195590162,0.6435735032888548,0.6434647772944141,0.6410640532443765,0.6400304801665715,0.6400089618521441,0.638354815372826,0.6383148889302303,0.6381813298642305,0.6374301488191563,0.6361319645826693,0.6316861960494956,0.6310994813971318,0.6248323121097126,0.6186351569956765,0.6172904164452548,0.6056901411785405,0.5909266773697728,0.5906756324736053,0.5857116239977335,0.5854412842253436,0.5759813165841308],\"yaxis\":\"y\",\"type\":\"scatter\"},{\"hovertemplate\":\"result=Res48\\u003cbr\\u003eiteration=%{x}\\u003cbr\\u003ebelief=%{y}\\u003cextra\\u003e\\u003c\\u002fextra\\u003e\",\"legendgroup\":\"Res48\",\"marker\":{\"color\":\"#FFA15A\",\"symbol\":\"circle\"},\"mode\":\"markers\",\"name\":\"Res48\",\"orientation\":\"v\",\"showlegend\":true,\"x\":[321,262,245,222,186,126,124,108,93,76,69,56,41,40,32,27,25,10,8,7,6,3,2,0],\"xaxis\":\"x\",\"y\":[0.6440372255168896,0.6429807518062669,0.6421749280970993,0.638251750227676,0.6367842151647991,0.6355141487855811,0.6319586687128665,0.6305568507605559,0.6242919266812738,0.6237688858799986,0.616645384447404,0.6160613554359478,0.6131123169077695,0.6101155376164185,0.6016920715032488,0.6005033201461839,0.5978651376638677,0.5977263287499635,0.5932881093252655,0.5883886358259445,0.5747105702606248,0.5655401686624045,0.559682049239447,0.5405869102063149],\"yaxis\":\"y\",\"type\":\"scatter\"},{\"hovertemplate\":\"result=Res6\\u003cbr\\u003eiteration=%{x}\\u003cbr\\u003ebelief=%{y}\\u003cextra\\u003e\\u003c\\u002fextra\\u003e\",\"legendgroup\":\"Res6\",\"marker\":{\"color\":\"#19d3f3\",\"symbol\":\"circle\"},\"mode\":\"markers\",\"name\":\"Res6\",\"orientation\":\"v\",\"showlegend\":true,\"x\":[603,523,473,433,350,344,304,288,229,154,123,101,73,39,32,20,14,12,6,0],\"xaxis\":\"x\",\"y\":[0.6440372255168896,0.6434140761859789,0.6427954266743009,0.6427555002317051,0.6424705156656284,0.639793635978825,0.6393587917049293,0.6375661413195672,0.637136775187643,0.636379371340531,0.631812716582822,0.6311763944884983,0.6295978151587757,0.6263456565679659,0.6220626491369918,0.6220116188221023,0.6219269067681636,0.5932082228404009,0.5887300508478276,0.5806939935242913],\"yaxis\":\"y\",\"type\":\"scatter\"},{\"hovertemplate\":\"result=Res63\\u003cbr\\u003eiteration=%{x}\\u003cbr\\u003ebelief=%{y}\\u003cextra\\u003e\\u003c\\u002fextra\\u003e\",\"legendgroup\":\"Res63\",\"marker\":{\"color\":\"#FF6692\",\"symbol\":\"circle\"},\"mode\":\"markers\",\"name\":\"Res63\",\"orientation\":\"v\",\"showlegend\":true,\"x\":[233,121,119,77,56,49,44,29,28,19,15,8,5,3,0],\"xaxis\":\"x\",\"y\":[0.6438941682454622,0.6428965491986267,0.64117175321682,0.6336458717481159,0.6305582179070534,0.6088334374879382,0.5936632023627113,0.5926877170641696,0.5830582702048053,0.565723797681196,0.5643319228694914,0.5597965944779255,0.5552248941216854,0.5428525251172234,0.5419551106368701],\"yaxis\":\"y\",\"type\":\"scatter\"},{\"hovertemplate\":\"result=Res71\\u003cbr\\u003eiteration=%{x}\\u003cbr\\u003ebelief=%{y}\\u003cextra\\u003e\\u003c\\u002fextra\\u003e\",\"legendgroup\":\"Res71\",\"marker\":{\"color\":\"#B6E880\",\"symbol\":\"circle\"},\"mode\":\"markers\",\"name\":\"Res71\",\"orientation\":\"v\",\"showlegend\":true,\"x\":[492,471,458,323,275,218,216,207,172,163,131,123,92,70,63,57,27,24,21,12,5,4,0],\"xaxis\":\"x\",\"y\":[0.6438403802747519,0.642465219643007,0.6409949711928065,0.6409521209849123,0.6391614175213061,0.636495547769397,0.6354344717679236,0.6341560814823486,0.6337978309141409,0.6328743202214058,0.6316319266786452,0.6300053263235397,0.6289513621043207,0.6286408323949003,0.6274896493290232,0.6186370205029386,0.6181970611330883,0.6105425642227599,0.6072033288604655,0.606958602280573,0.6003922263309585,0.5976309477347482,0.5928867064053396],\"yaxis\":\"y\",\"type\":\"scatter\"},{\"hovertemplate\":\"result=Res47\\u003cbr\\u003eiteration=%{x}\\u003cbr\\u003ebelief=%{y}\\u003cextra\\u003e\\u003c\\u002fextra\\u003e\",\"legendgroup\":\"Res47\",\"marker\":{\"color\":\"#FF97FF\",\"symbol\":\"circle\"},\"mode\":\"markers\",\"name\":\"Res47\",\"orientation\":\"v\",\"showlegend\":true,\"x\":[378,372,326,278,232,187,156,150,142,118,116,99,96,88,42,32,30,27,17,10,3,0],\"xaxis\":\"x\",\"y\":[0.6435107466618163,0.6428651166644003,0.6425370077905384,0.6424068204524487,0.64162943888194,0.6394118771515278,0.6368564972355766,0.6349867138279328,0.6339859709055824,0.6305782026521578,0.629239336721095,0.6284202537157308,0.6268372889019367,0.6235635958046439,0.6235109944293156,0.6214250336568217,0.6208891150585065,0.6204828806255609,0.617963880937271,0.6132934650769313,0.594895153588166,0.5945586870206044],\"yaxis\":\"y\",\"type\":\"scatter\"},{\"hovertemplate\":\"result=Res25\\u003cbr\\u003eiteration=%{x}\\u003cbr\\u003ebelief=%{y}\\u003cextra\\u003e\\u003c\\u002fextra\\u003e\",\"legendgroup\":\"Res25\",\"marker\":{\"color\":\"#FECB52\",\"symbol\":\"circle\"},\"mode\":\"markers\",\"name\":\"Res25\",\"orientation\":\"v\",\"showlegend\":true,\"x\":[867,819,722,658,648,439,408,398,236,192,150,144,135,129,122,90,59,35,31,25,10,7,4,2,0],\"xaxis\":\"x\",\"y\":[0.6434612351982051,0.6433688825256928,0.6426940127634907,0.642506329898305,0.6410254150648766,0.6405808017754373,0.6400393860148095,0.6399335837856672,0.6371583982318049,0.6371266982175693,0.6370952537396256,0.6314696144893022,0.6309086871044246,0.6284942865637064,0.6267603854385866,0.6261185354323489,0.6260979994324894,0.6242309818397499,0.6203968812630999,0.6183716800914061,0.6061837433726235,0.6014250233929658,0.5869496390101456,0.5583557468606184,0.5539804620587898],\"yaxis\":\"y\",\"type\":\"scatter\"},{\"hovertemplate\":\"result=Res84\\u003cbr\\u003eiteration=%{x}\\u003cbr\\u003ebelief=%{y}\\u003cextra\\u003e\\u003c\\u002fextra\\u003e\",\"legendgroup\":\"Res84\",\"marker\":{\"color\":\"#636efa\",\"symbol\":\"circle\"},\"mode\":\"markers\",\"name\":\"Res84\",\"orientation\":\"v\",\"showlegend\":true,\"x\":[669,526,345,327,323,304,244,231,212,190,189,160,152,149,119,116,92,79,71,16,13,12,10,8,7,6,4,0],\"xaxis\":\"x\",\"y\":[0.6433688825256928,0.6433558880132554,0.6431143434625856,0.6403048600273673,0.6389882761972963,0.6355137553697691,0.6353644612048859,0.635267530664118,0.6351143381455036,0.6342623859993493,0.6330887860421831,0.633059801813689,0.6317592086187933,0.6306537587744657,0.6287142580185605,0.6262879811435482,0.6260034112257664,0.6251266839455091,0.6241949751064098,0.6237714680706901,0.613282622072703,0.5971615914682822,0.596807884455284,0.5919719581293345,0.5804897158621284,0.5602766587394713,0.5595209845033879,0.5552411492629141],\"yaxis\":\"y\",\"type\":\"scatter\"},{\"hovertemplate\":\"result=Res35\\u003cbr\\u003eiteration=%{x}\\u003cbr\\u003ebelief=%{y}\\u003cextra\\u003e\\u003c\\u002fextra\\u003e\",\"legendgroup\":\"Res35\",\"marker\":{\"color\":\"#EF553B\",\"symbol\":\"circle\"},\"mode\":\"markers\",\"name\":\"Res35\",\"orientation\":\"v\",\"showlegend\":true,\"x\":[432,377,209,130,122,86,80,62,48,36,19,15,11,8,7,5,3,2,0],\"xaxis\":\"x\",\"y\":[0.6433588117785538,0.6430513914413376,0.6426707757857366,0.641400438361601,0.6400586486652398,0.6300825537476016,0.6289811664565204,0.6143860215620953,0.6129901833398288,0.6070265903592016,0.5969211420114083,0.5941502638183767,0.587018203438851,0.5859754725447972,0.5729038921124703,0.5617145349506792,0.5527437337607488,0.5504447237846346,0.530871357318986],\"yaxis\":\"y\",\"type\":\"scatter\"},{\"hovertemplate\":\"result=Res31\\u003cbr\\u003eiteration=%{x}\\u003cbr\\u003ebelief=%{y}\\u003cextra\\u003e\\u003c\\u002fextra\\u003e\",\"legendgroup\":\"Res31\",\"marker\":{\"color\":\"#00cc96\",\"symbol\":\"circle\"},\"mode\":\"markers\",\"name\":\"Res31\",\"orientation\":\"v\",\"showlegend\":true,\"x\":[1215,1193,1172,1134,984,885,637,437,333,261,259,257,211,207,180,144,72,63,46,38,8,5,2,0],\"xaxis\":\"x\",\"y\":[0.6433289243999477,0.6433260006346493,0.6426879118084039,0.642545328643305,0.6415130668704281,0.6412337647871125,0.6411998510838919,0.6404656986105907,0.6401174299064516,0.6396152215362786,0.6394462786834141,0.6351144003419704,0.6337376531494012,0.6331991611540718,0.6304398474712412,0.6287117884702482,0.6276660153170867,0.6246536974218504,0.623454686220624,0.6126992265382796,0.6020027576252813,0.5874669904224076,0.5824376842242633,0.5643079410685292],\"yaxis\":\"y\",\"type\":\"scatter\"},{\"hovertemplate\":\"result=Res15\\u003cbr\\u003eiteration=%{x}\\u003cbr\\u003ebelief=%{y}\\u003cextra\\u003e\\u003c\\u002fextra\\u003e\",\"legendgroup\":\"Res15\",\"marker\":{\"color\":\"#ab63fa\",\"symbol\":\"circle\"},\"mode\":\"markers\",\"name\":\"Res15\",\"orientation\":\"v\",\"showlegend\":true,\"x\":[682,520,450,438,336,277,252,250,239,237,117,73,64,30,20,15,12,7,4,0],\"xaxis\":\"x\",\"y\":[0.6432448828537098,0.6398242234102332,0.6388260994300077,0.638695912091918,0.6371461879133192,0.6371094871887737,0.6356393181300575,0.6319963927197526,0.6317590237988376,0.6316454281708705,0.6287271972868427,0.6273808626194017,0.6259661892672508,0.6250650491017533,0.6217565347810587,0.6152922042278905,0.6019360416968614,0.6015827911566618,0.5903551021051704,0.5755782164462104],\"yaxis\":\"y\",\"type\":\"scatter\"},{\"hovertemplate\":\"result=Res98\\u003cbr\\u003eiteration=%{x}\\u003cbr\\u003ebelief=%{y}\\u003cextra\\u003e\\u003c\\u002fextra\\u003e\",\"legendgroup\":\"Res98\",\"marker\":{\"color\":\"#FFA15A\",\"symbol\":\"circle\"},\"mode\":\"markers\",\"name\":\"Res98\",\"orientation\":\"v\",\"showlegend\":true,\"x\":[516,512,319,264,260,116,86,62,54,48,41,37,35,34,25,18,17,15,11,9,7,5,2,0],\"xaxis\":\"x\",\"y\":[0.6431684539246659,0.6428702828375965,0.6428197678787202,0.6427139656495781,0.6403861345658282,0.6354720626954786,0.6311253391741773,0.6253870475117344,0.6246560520007225,0.622969687666769,0.6229038118802226,0.6223274471594682,0.6169232928615311,0.6137829207872256,0.6134084510713008,0.6077869179358626,0.5973674582913138,0.5926281131850684,0.5785569797863864,0.5765670099349205,0.5758749774875709,0.5631015020330534,0.5477562669186891,0.5330956630612284],\"yaxis\":\"y\",\"type\":\"scatter\"},{\"hovertemplate\":\"result=Res72\\u003cbr\\u003eiteration=%{x}\\u003cbr\\u003ebelief=%{y}\\u003cextra\\u003e\\u003c\\u002fextra\\u003e\",\"legendgroup\":\"Res72\",\"marker\":{\"color\":\"#19d3f3\",\"symbol\":\"circle\"},\"mode\":\"markers\",\"name\":\"Res72\",\"orientation\":\"v\",\"showlegend\":true,\"x\":[1145,1077,785,507,333,316,235,207,166,164,132,111,104,89,86,82,62,42,34,9,4,3,2,0],\"xaxis\":\"x\",\"y\":[0.6431450962640554,0.6427059243537466,0.6425939028551775,0.6425244251939121,0.6417174210285566,0.6413324361261021,0.6411397470290976,0.6393241093256425,0.638448947336289,0.6383134781060769,0.6376253103632252,0.6368300012590634,0.633917891873462,0.6337706227481295,0.6306545868600073,0.6300284938484985,0.6229687330059777,0.6094844893068869,0.6075544530154959,0.5997431554499966,0.5849768596565852,0.5744251234765085,0.573896914396169,0.5458531807939017],\"yaxis\":\"y\",\"type\":\"scatter\"},{\"hovertemplate\":\"result=Res8\\u003cbr\\u003eiteration=%{x}\\u003cbr\\u003ebelief=%{y}\\u003cextra\\u003e\\u003c\\u002fextra\\u003e\",\"legendgroup\":\"Res8\",\"marker\":{\"color\":\"#FF6692\",\"symbol\":\"circle\"},\"mode\":\"markers\",\"name\":\"Res8\",\"orientation\":\"v\",\"showlegend\":true,\"x\":[414,294,191,190,132,130,119,115,114,103,102,85,77,71,46,37,35,30,15,13,8,7,3,2,1,0],\"xaxis\":\"x\",\"y\":[0.6431082722096539,0.6414874546823599,0.6413612409551053,0.6380493027390277,0.6378673673282114,0.6369372607823292,0.6355708304407284,0.6346632084927568,0.6341272231633368,0.6314558222629567,0.6280799467090241,0.6188957026771099,0.6172318654196536,0.6147516520341048,0.6126476399876037,0.6124074705758564,0.6013322499625895,0.6003012808428545,0.5945971691905554,0.5924207469382718,0.5892975451226111,0.5868539028954949,0.5702204998663079,0.5520724542010147,0.5468099095619271,0.5231894357694166],\"yaxis\":\"y\",\"type\":\"scatter\"},{\"hovertemplate\":\"result=Res50\\u003cbr\\u003eiteration=%{x}\\u003cbr\\u003ebelief=%{y}\\u003cextra\\u003e\\u003c\\u002fextra\\u003e\",\"legendgroup\":\"Res50\",\"marker\":{\"color\":\"#B6E880\",\"symbol\":\"circle\"},\"mode\":\"markers\",\"name\":\"Res50\",\"orientation\":\"v\",\"showlegend\":true,\"x\":[787,634,548,375,374,290,280,265,210,159,156,136,106,77,51,46,15,9,7,5,4,0],\"xaxis\":\"x\",\"y\":[0.6431082722096539,0.6429800987512152,0.6418761725418476,0.641359281223921,0.6319273190349701,0.627474025912762,0.626734449282325,0.6262223804627106,0.6257299234983748,0.6229679380039785,0.6219369021711183,0.6146810642627891,0.6136750340932808,0.6110405369974631,0.6034880974686223,0.5847756387138926,0.5826342245409837,0.563991167549699,0.5601587911565795,0.5577688070853463,0.5547618381478385,0.5373085816397813],\"yaxis\":\"y\",\"type\":\"scatter\"},{\"hovertemplate\":\"result=Res94\\u003cbr\\u003eiteration=%{x}\\u003cbr\\u003ebelief=%{y}\\u003cextra\\u003e\\u003c\\u002fextra\\u003e\",\"legendgroup\":\"Res94\",\"marker\":{\"color\":\"#FF97FF\",\"symbol\":\"circle\"},\"mode\":\"markers\",\"name\":\"Res94\",\"orientation\":\"v\",\"showlegend\":true,\"x\":[500,499,331,298,257,96,91,45,36,33,11,9,5,2,0],\"xaxis\":\"x\",\"y\":[0.6430442267760388,0.640212784745305,0.6400620581409568,0.6394141031133445,0.6375895582557453,0.6339211856413676,0.6302230090199389,0.6272853557303786,0.625046498491231,0.6115848214487565,0.6052873334677792,0.5720004380051809,0.5666350433887996,0.5657247805470176,0.548042354184906],\"yaxis\":\"y\",\"type\":\"scatter\"},{\"hovertemplate\":\"result=Res26\\u003cbr\\u003eiteration=%{x}\\u003cbr\\u003ebelief=%{y}\\u003cextra\\u003e\\u003c\\u002fextra\\u003e\",\"legendgroup\":\"Res26\",\"marker\":{\"color\":\"#FECB52\",\"symbol\":\"circle\"},\"mode\":\"markers\",\"name\":\"Res26\",\"orientation\":\"v\",\"showlegend\":true,\"x\":[1165,912,859,769,688,642,576,547,283,200,144,90,78,75,74,42,33,16,14,10,9,6,5,4,2,0],\"xaxis\":\"x\",\"y\":[0.6430040475748509,0.6426286818444794,0.6417804966919999,0.641157482905854,0.6407762696448855,0.63960017001508,0.6381231010748241,0.6380241247983123,0.6378335181678282,0.6367627514863946,0.6343177599870327,0.6327875773045606,0.6327869368264061,0.628667710222953,0.6193851325335037,0.6121920129887977,0.6106403783177862,0.6079814477488674,0.6069177538695176,0.6013623974087935,0.5750984673038244,0.5721640423352828,0.5719771460291747,0.5561579263411256,0.5479602217058483,0.5440104758544981],\"yaxis\":\"y\",\"type\":\"scatter\"},{\"hovertemplate\":\"result=Res1\\u003cbr\\u003eiteration=%{x}\\u003cbr\\u003ebelief=%{y}\\u003cextra\\u003e\\u003c\\u002fextra\\u003e\",\"legendgroup\":\"Res1\",\"marker\":{\"color\":\"#636efa\",\"symbol\":\"circle\"},\"mode\":\"markers\",\"name\":\"Res1\",\"orientation\":\"v\",\"showlegend\":true,\"x\":[932,756,642,634,392,200,187,147,127,116,114,110,103,87,83,78,44,42,32,26,21,19,12,9,4,3,2,1,0],\"xaxis\":\"x\",\"y\":[0.6429911906353902,0.6429716988667342,0.6429687751014357,0.6428689266183119,0.6421702394320346,0.6420644372028923,0.6407284950371279,0.6407226475065311,0.6366220406593015,0.634539036849906,0.633417757348375,0.6332012982342522,0.6331779081118648,0.6314633020267253,0.6220049112011546,0.6200750954904761,0.6176162941163454,0.6159826836368867,0.6149998397435643,0.6128813012314791,0.6127912510932421,0.59680448901787,0.595172092592651,0.5797329507331349,0.5756392834793372,0.5582508516099661,0.5557530110677569,0.5469841021216253,0.5434129555490572],\"yaxis\":\"y\",\"type\":\"scatter\"},{\"hovertemplate\":\"result=Res13\\u003cbr\\u003eiteration=%{x}\\u003cbr\\u003ebelief=%{y}\\u003cextra\\u003e\\u003c\\u002fextra\\u003e\",\"legendgroup\":\"Res13\",\"marker\":{\"color\":\"#EF553B\",\"symbol\":\"circle\"},\"mode\":\"markers\",\"name\":\"Res13\",\"orientation\":\"v\",\"showlegend\":true,\"x\":[382,266,257,210,203,180,162,157,144,119,101,97,76,71,67,62,28,26,21,10,9,0],\"xaxis\":\"x\",\"y\":[0.6426872068421502,0.6404737577183707,0.6400238445435693,0.6384597482024883,0.6374867700252316,0.6374477864879193,0.6348507437769537,0.632808677064275,0.6312392601466188,0.6299777298805198,0.6232425082437312,0.6229402949589572,0.6220315532900168,0.6195018854091158,0.6081497723504568,0.607109395708588,0.6051940295441727,0.5973806929842578,0.5837804397695665,0.575119896719005,0.5713969100577572,0.570681137324476],\"yaxis\":\"y\",\"type\":\"scatter\"},{\"hovertemplate\":\"result=Res67\\u003cbr\\u003eiteration=%{x}\\u003cbr\\u003ebelief=%{y}\\u003cextra\\u003e\\u003c\\u002fextra\\u003e\",\"legendgroup\":\"Res67\",\"marker\":{\"color\":\"#00cc96\",\"symbol\":\"circle\"},\"mode\":\"markers\",\"name\":\"Res67\",\"orientation\":\"v\",\"showlegend\":true,\"x\":[820,722,715,685,682,612,599,412,409,401,389,201,98,93,43,33,32,29,23,20,8,7,3,2,1,0],\"xaxis\":\"x\",\"y\":[0.6426286818444794,0.6425857999534359,0.6423683479645548,0.641029482033492,0.6404800593896687,0.6357758060567523,0.6334200423730478,0.633345537222936,0.632243197466302,0.6319144287215757,0.6314728614440719,0.6313811779024385,0.6308989020648375,0.6281757176741722,0.6199776239583972,0.6174852324138383,0.603633467872972,0.6026968265599881,0.5896551408124486,0.5795970929639289,0.5728091455835786,0.5675716564722544,0.5483440719139602,0.539830722505828,0.5364930998086634,0.5339899411083079],\"yaxis\":\"y\",\"type\":\"scatter\"},{\"hovertemplate\":\"result=Res96\\u003cbr\\u003eiteration=%{x}\\u003cbr\\u003ebelief=%{y}\\u003cextra\\u003e\\u003c\\u002fextra\\u003e\",\"legendgroup\":\"Res96\",\"marker\":{\"color\":\"#ab63fa\",\"symbol\":\"circle\"},\"mode\":\"markers\",\"name\":\"Res96\",\"orientation\":\"v\",\"showlegend\":true,\"x\":[384,319,312,299,265,232,228,178,164,118,113,85,58,43,41,40,24,21,17,8,5,1,0],\"xaxis\":\"x\",\"y\":[0.6420943500651846,0.6419379192070112,0.6352387887075025,0.6345980967848013,0.6337922730756336,0.6329722139236335,0.6320878984380607,0.6304326882565254,0.6300747743968268,0.6267675655229645,0.626527690952906,0.6147241978259288,0.6146660666222064,0.6119463771004914,0.6069811685826225,0.6063147150947847,0.6061888110522888,0.6002175878960151,0.5917485205166573,0.5894709265643646,0.5668812663213008,0.5644167253851751,0.5369850881343733],\"yaxis\":\"y\",\"type\":\"scatter\"},{\"hovertemplate\":\"result=Res45\\u003cbr\\u003eiteration=%{x}\\u003cbr\\u003ebelief=%{y}\\u003cextra\\u003e\\u003c\\u002fextra\\u003e\",\"legendgroup\":\"Res45\",\"marker\":{\"color\":\"#FFA15A\",\"symbol\":\"circle\"},\"mode\":\"markers\",\"name\":\"Res45\",\"orientation\":\"v\",\"showlegend\":true,\"x\":[435,201,175,155,131,110,94,64,53,41,15,14,12,11,4,3,1,0],\"xaxis\":\"x\",\"y\":[0.642072418795301,0.6410694401592371,0.6400257937204348,0.6373678433374905,0.6372988513147144,0.635813782591263,0.63562707431451,0.6350856585538822,0.6310108903428071,0.6299207996561347,0.6286559207933413,0.6062345072664729,0.6048016594269514,0.6022979170116989,0.6002568668887882,0.5968967339069016,0.5934670808738618,0.5494934161871068],\"yaxis\":\"y\",\"type\":\"scatter\"},{\"hovertemplate\":\"result=Res46\\u003cbr\\u003eiteration=%{x}\\u003cbr\\u003ebelief=%{y}\\u003cextra\\u003e\\u003c\\u002fextra\\u003e\",\"legendgroup\":\"Res46\",\"marker\":{\"color\":\"#19d3f3\",\"symbol\":\"circle\"},\"mode\":\"markers\",\"name\":\"Res46\",\"orientation\":\"v\",\"showlegend\":true,\"x\":[641,592,441,430,406,314,228,214,174,163,150,149,51,44,41,36,23,18,13,12,9,8,0],\"xaxis\":\"x\",\"y\":[0.6415524582033602,0.6410030355595369,0.6405463273399392,0.6395074947996165,0.6391727386572289,0.6382784860156054,0.6358485222007817,0.6342844258597007,0.6329471011665759,0.6323703301525776,0.6323644826219808,0.6299153811652511,0.6296205429724594,0.6294513136406126,0.617183701888028,0.6073867702589709,0.601378254159197,0.5983921372771343,0.5952960703571537,0.5933917177545348,0.5843708942727133,0.5804408498644769,0.5797482212015242],\"yaxis\":\"y\",\"type\":\"scatter\"},{\"hovertemplate\":\"result=Res95\\u003cbr\\u003eiteration=%{x}\\u003cbr\\u003ebelief=%{y}\\u003cextra\\u003e\\u003c\\u002fextra\\u003e\",\"legendgroup\":\"Res95\",\"marker\":{\"color\":\"#FF6692\",\"symbol\":\"circle\"},\"mode\":\"markers\",\"name\":\"Res95\",\"orientation\":\"v\",\"showlegend\":true,\"x\":[768,626,587,550,540,478,367,269,265,252,132,128,117,55,33,20,17,15,10,8,7,2,1,0],\"xaxis\":\"x\",\"y\":[0.6411990796525596,0.6411782884326598,0.6408487890701848,0.6398305632766058,0.6396258871527725,0.6396117207991117,0.6388172574593356,0.6383995863886051,0.6372648561794485,0.6354489928362465,0.6349564708528738,0.6320758826382097,0.6285467131495274,0.6262064372893785,0.6216411690831568,0.6116489445387083,0.6082405237528221,0.6063199161211914,0.5969579760422783,0.5968351954654136,0.5951511662671575,0.5846714819293062,0.5615191870842815,0.5545580201219363],\"yaxis\":\"y\",\"type\":\"scatter\"},{\"hovertemplate\":\"result=Res90\\u003cbr\\u003eiteration=%{x}\\u003cbr\\u003ebelief=%{y}\\u003cextra\\u003e\\u003c\\u002fextra\\u003e\",\"legendgroup\":\"Res90\",\"marker\":{\"color\":\"#B6E880\",\"symbol\":\"circle\"},\"mode\":\"markers\",\"name\":\"Res90\",\"orientation\":\"v\",\"showlegend\":true,\"x\":[612,495,390,273,271,259,233,148,141,99,86,71,58,38,34,31,28,19,17,13,12,11,2,0],\"xaxis\":\"x\",\"y\":[0.6411138322941327,0.6411109085288342,0.6384331766667086,0.6381477149250079,0.6367217135978784,0.636568521079264,0.6359321989849402,0.6358692469636923,0.6350540307276062,0.6333000174788388,0.6316017965363605,0.6298692038470912,0.624290775817754,0.6149734997435563,0.6118992067400663,0.6106212020645222,0.6097803470088626,0.6051578340212362,0.6049956478817498,0.6010110758934663,0.5759091455541814,0.571487471112331,0.5709128961877279,0.5700213190013755],\"yaxis\":\"y\",\"type\":\"scatter\"},{\"hovertemplate\":\"result=Res75\\u003cbr\\u003eiteration=%{x}\\u003cbr\\u003ebelief=%{y}\\u003cextra\\u003e\\u003c\\u002fextra\\u003e\",\"legendgroup\":\"Res75\",\"marker\":{\"color\":\"#FF97FF\",\"symbol\":\"circle\"},\"mode\":\"markers\",\"name\":\"Res75\",\"orientation\":\"v\",\"showlegend\":true,\"x\":[382,350,349,333,273,224,207,187,186,167,155,149,121,114,75,66,55,47,30,15,3,2,1,0],\"xaxis\":\"x\",\"y\":[0.6403755062698198,0.6401791489690505,0.639769796721384,0.6384020618694068,0.6374997272428957,0.6339579325065231,0.6328686604627833,0.6285029475172537,0.6271682061468707,0.6264463184660336,0.6216867482905133,0.6198022782845672,0.6186455198637808,0.6164297335638442,0.6102583750081011,0.608669322197828,0.607201497424426,0.6003238357989888,0.6002310222593417,0.5940596688382169,0.5834328644775597,0.5791000465391057,0.5691761150148907,0.565170165665609],\"yaxis\":\"y\",\"type\":\"scatter\"},{\"hovertemplate\":\"result=Res27\\u003cbr\\u003eiteration=%{x}\\u003cbr\\u003ebelief=%{y}\\u003cextra\\u003e\\u003c\\u002fextra\\u003e\",\"legendgroup\":\"Res27\",\"marker\":{\"color\":\"#FECB52\",\"symbol\":\"circle\"},\"mode\":\"markers\",\"name\":\"Res27\",\"orientation\":\"v\",\"showlegend\":true,\"x\":[584,504,430,293,156,147,115,108,90,78,60,49,47,36,10,9,5,3,2,1,0],\"xaxis\":\"x\",\"y\":[0.6379554105475386,0.6371071846376999,0.6363062814274312,0.63624288139896,0.6352040488586372,0.6322206000575208,0.6299417387886228,0.6283444781236849,0.6269936251657934,0.6266456156455439,0.6261431583513448,0.6240306381744979,0.6069350097278988,0.6045434297684876,0.6039204159823416,0.5919480789981577,0.5632407412309894,0.5501616555612704,0.5442839720657986,0.539179971333022,0.5371192847762265],\"yaxis\":\"y\",\"type\":\"scatter\"},{\"mode\":\"lines\",\"name\":\"Correct belief\",\"x\":[0,1755],\"y\":[0.95,0.95],\"type\":\"scatter\"}],                        {\"template\":{\"data\":{\"histogram2dcontour\":[{\"type\":\"histogram2dcontour\",\"colorbar\":{\"outlinewidth\":0,\"ticks\":\"\"},\"colorscale\":[[0.0,\"#0d0887\"],[0.1111111111111111,\"#46039f\"],[0.2222222222222222,\"#7201a8\"],[0.3333333333333333,\"#9c179e\"],[0.4444444444444444,\"#bd3786\"],[0.5555555555555556,\"#d8576b\"],[0.6666666666666666,\"#ed7953\"],[0.7777777777777778,\"#fb9f3a\"],[0.8888888888888888,\"#fdca26\"],[1.0,\"#f0f921\"]]}],\"choropleth\":[{\"type\":\"choropleth\",\"colorbar\":{\"outlinewidth\":0,\"ticks\":\"\"}}],\"histogram2d\":[{\"type\":\"histogram2d\",\"colorbar\":{\"outlinewidth\":0,\"ticks\":\"\"},\"colorscale\":[[0.0,\"#0d0887\"],[0.1111111111111111,\"#46039f\"],[0.2222222222222222,\"#7201a8\"],[0.3333333333333333,\"#9c179e\"],[0.4444444444444444,\"#bd3786\"],[0.5555555555555556,\"#d8576b\"],[0.6666666666666666,\"#ed7953\"],[0.7777777777777778,\"#fb9f3a\"],[0.8888888888888888,\"#fdca26\"],[1.0,\"#f0f921\"]]}],\"heatmap\":[{\"type\":\"heatmap\",\"colorbar\":{\"outlinewidth\":0,\"ticks\":\"\"},\"colorscale\":[[0.0,\"#0d0887\"],[0.1111111111111111,\"#46039f\"],[0.2222222222222222,\"#7201a8\"],[0.3333333333333333,\"#9c179e\"],[0.4444444444444444,\"#bd3786\"],[0.5555555555555556,\"#d8576b\"],[0.6666666666666666,\"#ed7953\"],[0.7777777777777778,\"#fb9f3a\"],[0.8888888888888888,\"#fdca26\"],[1.0,\"#f0f921\"]]}],\"heatmapgl\":[{\"type\":\"heatmapgl\",\"colorbar\":{\"outlinewidth\":0,\"ticks\":\"\"},\"colorscale\":[[0.0,\"#0d0887\"],[0.1111111111111111,\"#46039f\"],[0.2222222222222222,\"#7201a8\"],[0.3333333333333333,\"#9c179e\"],[0.4444444444444444,\"#bd3786\"],[0.5555555555555556,\"#d8576b\"],[0.6666666666666666,\"#ed7953\"],[0.7777777777777778,\"#fb9f3a\"],[0.8888888888888888,\"#fdca26\"],[1.0,\"#f0f921\"]]}],\"contourcarpet\":[{\"type\":\"contourcarpet\",\"colorbar\":{\"outlinewidth\":0,\"ticks\":\"\"}}],\"contour\":[{\"type\":\"contour\",\"colorbar\":{\"outlinewidth\":0,\"ticks\":\"\"},\"colorscale\":[[0.0,\"#0d0887\"],[0.1111111111111111,\"#46039f\"],[0.2222222222222222,\"#7201a8\"],[0.3333333333333333,\"#9c179e\"],[0.4444444444444444,\"#bd3786\"],[0.5555555555555556,\"#d8576b\"],[0.6666666666666666,\"#ed7953\"],[0.7777777777777778,\"#fb9f3a\"],[0.8888888888888888,\"#fdca26\"],[1.0,\"#f0f921\"]]}],\"surface\":[{\"type\":\"surface\",\"colorbar\":{\"outlinewidth\":0,\"ticks\":\"\"},\"colorscale\":[[0.0,\"#0d0887\"],[0.1111111111111111,\"#46039f\"],[0.2222222222222222,\"#7201a8\"],[0.3333333333333333,\"#9c179e\"],[0.4444444444444444,\"#bd3786\"],[0.5555555555555556,\"#d8576b\"],[0.6666666666666666,\"#ed7953\"],[0.7777777777777778,\"#fb9f3a\"],[0.8888888888888888,\"#fdca26\"],[1.0,\"#f0f921\"]]}],\"mesh3d\":[{\"type\":\"mesh3d\",\"colorbar\":{\"outlinewidth\":0,\"ticks\":\"\"}}],\"scatter\":[{\"marker\":{\"line\":{\"color\":\"#283442\"}},\"type\":\"scatter\"}],\"parcoords\":[{\"type\":\"parcoords\",\"line\":{\"colorbar\":{\"outlinewidth\":0,\"ticks\":\"\"}}}],\"scatterpolargl\":[{\"type\":\"scatterpolargl\",\"marker\":{\"colorbar\":{\"outlinewidth\":0,\"ticks\":\"\"}}}],\"bar\":[{\"error_x\":{\"color\":\"#f2f5fa\"},\"error_y\":{\"color\":\"#f2f5fa\"},\"marker\":{\"line\":{\"color\":\"rgb(17,17,17)\",\"width\":0.5},\"pattern\":{\"fillmode\":\"overlay\",\"size\":10,\"solidity\":0.2}},\"type\":\"bar\"}],\"scattergeo\":[{\"type\":\"scattergeo\",\"marker\":{\"colorbar\":{\"outlinewidth\":0,\"ticks\":\"\"}}}],\"scatterpolar\":[{\"type\":\"scatterpolar\",\"marker\":{\"colorbar\":{\"outlinewidth\":0,\"ticks\":\"\"}}}],\"histogram\":[{\"marker\":{\"pattern\":{\"fillmode\":\"overlay\",\"size\":10,\"solidity\":0.2}},\"type\":\"histogram\"}],\"scattergl\":[{\"marker\":{\"line\":{\"color\":\"#283442\"}},\"type\":\"scattergl\"}],\"scatter3d\":[{\"type\":\"scatter3d\",\"line\":{\"colorbar\":{\"outlinewidth\":0,\"ticks\":\"\"}},\"marker\":{\"colorbar\":{\"outlinewidth\":0,\"ticks\":\"\"}}}],\"scattermapbox\":[{\"type\":\"scattermapbox\",\"marker\":{\"colorbar\":{\"outlinewidth\":0,\"ticks\":\"\"}}}],\"scatterternary\":[{\"type\":\"scatterternary\",\"marker\":{\"colorbar\":{\"outlinewidth\":0,\"ticks\":\"\"}}}],\"scattercarpet\":[{\"type\":\"scattercarpet\",\"marker\":{\"colorbar\":{\"outlinewidth\":0,\"ticks\":\"\"}}}],\"carpet\":[{\"aaxis\":{\"endlinecolor\":\"#A2B1C6\",\"gridcolor\":\"#506784\",\"linecolor\":\"#506784\",\"minorgridcolor\":\"#506784\",\"startlinecolor\":\"#A2B1C6\"},\"baxis\":{\"endlinecolor\":\"#A2B1C6\",\"gridcolor\":\"#506784\",\"linecolor\":\"#506784\",\"minorgridcolor\":\"#506784\",\"startlinecolor\":\"#A2B1C6\"},\"type\":\"carpet\"}],\"table\":[{\"cells\":{\"fill\":{\"color\":\"#506784\"},\"line\":{\"color\":\"rgb(17,17,17)\"}},\"header\":{\"fill\":{\"color\":\"#2a3f5f\"},\"line\":{\"color\":\"rgb(17,17,17)\"}},\"type\":\"table\"}],\"barpolar\":[{\"marker\":{\"line\":{\"color\":\"rgb(17,17,17)\",\"width\":0.5},\"pattern\":{\"fillmode\":\"overlay\",\"size\":10,\"solidity\":0.2}},\"type\":\"barpolar\"}],\"pie\":[{\"automargin\":true,\"type\":\"pie\"}]},\"layout\":{\"autotypenumbers\":\"strict\",\"colorway\":[\"#636efa\",\"#EF553B\",\"#00cc96\",\"#ab63fa\",\"#FFA15A\",\"#19d3f3\",\"#FF6692\",\"#B6E880\",\"#FF97FF\",\"#FECB52\"],\"font\":{\"color\":\"#f2f5fa\"},\"hovermode\":\"closest\",\"hoverlabel\":{\"align\":\"left\"},\"paper_bgcolor\":\"rgb(17,17,17)\",\"plot_bgcolor\":\"rgb(17,17,17)\",\"polar\":{\"bgcolor\":\"rgb(17,17,17)\",\"angularaxis\":{\"gridcolor\":\"#506784\",\"linecolor\":\"#506784\",\"ticks\":\"\"},\"radialaxis\":{\"gridcolor\":\"#506784\",\"linecolor\":\"#506784\",\"ticks\":\"\"}},\"ternary\":{\"bgcolor\":\"rgb(17,17,17)\",\"aaxis\":{\"gridcolor\":\"#506784\",\"linecolor\":\"#506784\",\"ticks\":\"\"},\"baxis\":{\"gridcolor\":\"#506784\",\"linecolor\":\"#506784\",\"ticks\":\"\"},\"caxis\":{\"gridcolor\":\"#506784\",\"linecolor\":\"#506784\",\"ticks\":\"\"}},\"coloraxis\":{\"colorbar\":{\"outlinewidth\":0,\"ticks\":\"\"}},\"colorscale\":{\"sequential\":[[0.0,\"#0d0887\"],[0.1111111111111111,\"#46039f\"],[0.2222222222222222,\"#7201a8\"],[0.3333333333333333,\"#9c179e\"],[0.4444444444444444,\"#bd3786\"],[0.5555555555555556,\"#d8576b\"],[0.6666666666666666,\"#ed7953\"],[0.7777777777777778,\"#fb9f3a\"],[0.8888888888888888,\"#fdca26\"],[1.0,\"#f0f921\"]],\"sequentialminus\":[[0.0,\"#0d0887\"],[0.1111111111111111,\"#46039f\"],[0.2222222222222222,\"#7201a8\"],[0.3333333333333333,\"#9c179e\"],[0.4444444444444444,\"#bd3786\"],[0.5555555555555556,\"#d8576b\"],[0.6666666666666666,\"#ed7953\"],[0.7777777777777778,\"#fb9f3a\"],[0.8888888888888888,\"#fdca26\"],[1.0,\"#f0f921\"]],\"diverging\":[[0,\"#8e0152\"],[0.1,\"#c51b7d\"],[0.2,\"#de77ae\"],[0.3,\"#f1b6da\"],[0.4,\"#fde0ef\"],[0.5,\"#f7f7f7\"],[0.6,\"#e6f5d0\"],[0.7,\"#b8e186\"],[0.8,\"#7fbc41\"],[0.9,\"#4d9221\"],[1,\"#276419\"]]},\"xaxis\":{\"gridcolor\":\"#283442\",\"linecolor\":\"#506784\",\"ticks\":\"\",\"title\":{\"standoff\":15},\"zerolinecolor\":\"#283442\",\"automargin\":true,\"zerolinewidth\":2},\"yaxis\":{\"gridcolor\":\"#283442\",\"linecolor\":\"#506784\",\"ticks\":\"\",\"title\":{\"standoff\":15},\"zerolinecolor\":\"#283442\",\"automargin\":true,\"zerolinewidth\":2},\"scene\":{\"xaxis\":{\"backgroundcolor\":\"rgb(17,17,17)\",\"gridcolor\":\"#506784\",\"linecolor\":\"#506784\",\"showbackground\":true,\"ticks\":\"\",\"zerolinecolor\":\"#C8D4E3\",\"gridwidth\":2},\"yaxis\":{\"backgroundcolor\":\"rgb(17,17,17)\",\"gridcolor\":\"#506784\",\"linecolor\":\"#506784\",\"showbackground\":true,\"ticks\":\"\",\"zerolinecolor\":\"#C8D4E3\",\"gridwidth\":2},\"zaxis\":{\"backgroundcolor\":\"rgb(17,17,17)\",\"gridcolor\":\"#506784\",\"linecolor\":\"#506784\",\"showbackground\":true,\"ticks\":\"\",\"zerolinecolor\":\"#C8D4E3\",\"gridwidth\":2}},\"shapedefaults\":{\"line\":{\"color\":\"#f2f5fa\"}},\"annotationdefaults\":{\"arrowcolor\":\"#f2f5fa\",\"arrowhead\":0,\"arrowwidth\":1},\"geo\":{\"bgcolor\":\"rgb(17,17,17)\",\"landcolor\":\"rgb(17,17,17)\",\"subunitcolor\":\"#506784\",\"showland\":true,\"showlakes\":true,\"lakecolor\":\"rgb(17,17,17)\"},\"title\":{\"x\":0.05},\"updatemenudefaults\":{\"bgcolor\":\"#506784\",\"borderwidth\":0},\"sliderdefaults\":{\"bgcolor\":\"#C8D4E3\",\"borderwidth\":1,\"bordercolor\":\"rgb(17,17,17)\",\"tickwidth\":0},\"mapbox\":{\"style\":\"dark\"}}},\"xaxis\":{\"anchor\":\"y\",\"domain\":[0.0,1.0],\"title\":{\"text\":\"iteration\"}},\"yaxis\":{\"anchor\":\"x\",\"domain\":[0.0,1.0],\"title\":{\"text\":\"belief\"}},\"legend\":{\"title\":{\"text\":\"result\"},\"tracegroupgap\":0},\"margin\":{\"t\":60}},                        {\"responsive\": true}                    ).then(function(){\n",
       "                            \n",
       "var gd = document.getElementById('0240fdc3-3ba7-4723-b7ae-e6c1f50bcb5e');\n",
       "var x = new MutationObserver(function (mutations, observer) {{\n",
       "        var display = window.getComputedStyle(gd).display;\n",
       "        if (!display || display === 'none') {{\n",
       "            console.log([gd, 'removed!']);\n",
       "            Plotly.purge(gd);\n",
       "            observer.disconnect();\n",
       "        }}\n",
       "}});\n",
       "\n",
       "// Listen for the removal of the full notebook cells\n",
       "var notebookContainer = gd.closest('#notebook-container');\n",
       "if (notebookContainer) {{\n",
       "    x.observe(notebookContainer, {childList: true});\n",
       "}}\n",
       "\n",
       "// Listen for the clearing of the current output cell\n",
       "var outputEl = gd.closest('.output');\n",
       "if (outputEl) {{\n",
       "    x.observe(outputEl, {childList: true});\n",
       "}}\n",
       "\n",
       "                        })                };                });            </script>        </div>"
      ]
     },
     "metadata": {},
     "output_type": "display_data"
    }
   ],
   "execution_count": 203
  },
  {
   "metadata": {
    "ExecuteTime": {
     "end_time": "2024-07-29T17:11:12.582689Z",
     "start_time": "2024-07-29T17:11:12.550962Z"
    }
   },
   "cell_type": "code",
   "source": "len(np.unique(flat_solutions, axis=0))",
   "id": "7576c45af397ba27",
   "outputs": [
    {
     "data": {
      "text/plain": [
       "74"
      ]
     },
     "execution_count": 204,
     "metadata": {},
     "output_type": "execute_result"
    }
   ],
   "execution_count": 204
  },
  {
   "metadata": {
    "ExecuteTime": {
     "end_time": "2024-07-29T16:37:59.792477Z",
     "start_time": "2024-07-29T16:37:59.683470Z"
    }
   },
   "cell_type": "code",
   "source": [
    "r = results[26]\n",
    "g = nx.from_numpy_array(r.m, create_using=nx.DiGraph)\n",
    "print(r.error, r.converged)\n",
    "pos = nx.spring_layout(g)\n",
    "nx.draw(g, pos, with_labels=True)"
   ],
   "id": "f809a73a71eaa625",
   "outputs": [
    {
     "name": "stdout",
     "output_type": "stream",
     "text": [
      "0.034929498217191254 True\n"
     ]
    },
    {
     "data": {
      "text/plain": [
       "<Figure size 640x480 with 1 Axes>"
      ],
      "image/png": "[encoded data removed]"
     },
     "metadata": {},
     "output_type": "display_data"
    }
   ],
   "execution_count": 112
  },
  {
   "metadata": {
    "ExecuteTime": {
     "end_time": "2024-07-29T16:37:59.822117Z",
     "start_time": "2024-07-29T16:37:59.793245Z"
    }
   },
   "cell_type": "code",
   "source": "pd.DataFrame({'initial_belief': init_belief, 'correct_belief': correct_belief, 'diff': np.abs(init_belief-correct_belief), 'node': np.arange(dims)}).sort_values('diff')",
   "id": "6b7453b4616401f9",
   "outputs": [
    {
     "data": {
      "text/plain": [
       "   initial_belief  correct_belief      diff  node\n",
       "7        0.832436             0.8  0.032436     7\n",
       "2        0.869184             0.8  0.069184     2\n",
       "4        0.934003             0.8  0.134003     4\n",
       "5        0.438381             0.8  0.361619     5\n",
       "3        0.347528             0.8  0.452472     3\n",
       "0        0.312584             0.8  0.487416     0\n",
       "6        0.198108             0.8  0.601892     6\n",
       "1        0.119453             0.8  0.680547     1"
      ],
      "text/html": [
       "<div>\n",
       "<style scoped>\n",
       "    .dataframe tbody tr th:only-of-type {\n",
       "        vertical-align: middle;\n",
       "    }\n",
       "\n",
       "    .dataframe tbody tr th {\n",
       "        vertical-align: top;\n",
       "    }\n",
       "\n",
       "    .dataframe thead th {\n",
       "        text-align: right;\n",
       "    }\n",
       "</style>\n",
       "<table border=\"1\" class=\"dataframe\">\n",
       "  <thead>\n",
       "    <tr style=\"text-align: right;\">\n",
       "      <th></th>\n",
       "      <th>initial_belief</th>\n",
       "      <th>correct_belief</th>\n",
       "      <th>diff</th>\n",
       "      <th>node</th>\n",
       "    </tr>\n",
       "  </thead>\n",
       "  <tbody>\n",
       "    <tr>\n",
       "      <th>7</th>\n",
       "      <td>0.832436</td>\n",
       "      <td>0.8</td>\n",
       "      <td>0.032436</td>\n",
       "      <td>7</td>\n",
       "    </tr>\n",
       "    <tr>\n",
       "      <th>2</th>\n",
       "      <td>0.869184</td>\n",
       "      <td>0.8</td>\n",
       "      <td>0.069184</td>\n",
       "      <td>2</td>\n",
       "    </tr>\n",
       "    <tr>\n",
       "      <th>4</th>\n",
       "      <td>0.934003</td>\n",
       "      <td>0.8</td>\n",
       "      <td>0.134003</td>\n",
       "      <td>4</td>\n",
       "    </tr>\n",
       "    <tr>\n",
       "      <th>5</th>\n",
       "      <td>0.438381</td>\n",
       "      <td>0.8</td>\n",
       "      <td>0.361619</td>\n",
       "      <td>5</td>\n",
       "    </tr>\n",
       "    <tr>\n",
       "      <th>3</th>\n",
       "      <td>0.347528</td>\n",
       "      <td>0.8</td>\n",
       "      <td>0.452472</td>\n",
       "      <td>3</td>\n",
       "    </tr>\n",
       "    <tr>\n",
       "      <th>0</th>\n",
       "      <td>0.312584</td>\n",
       "      <td>0.8</td>\n",
       "      <td>0.487416</td>\n",
       "      <td>0</td>\n",
       "    </tr>\n",
       "    <tr>\n",
       "      <th>6</th>\n",
       "      <td>0.198108</td>\n",
       "      <td>0.8</td>\n",
       "      <td>0.601892</td>\n",
       "      <td>6</td>\n",
       "    </tr>\n",
       "    <tr>\n",
       "      <th>1</th>\n",
       "      <td>0.119453</td>\n",
       "      <td>0.8</td>\n",
       "      <td>0.680547</td>\n",
       "      <td>1</td>\n",
       "    </tr>\n",
       "  </tbody>\n",
       "</table>\n",
       "</div>"
      ]
     },
     "execution_count": 113,
     "metadata": {},
     "output_type": "execute_result"
    }
   ],
   "execution_count": 113
  },
  {
   "metadata": {
    "ExecuteTime": {
     "end_time": "2024-07-29T16:38:41.976377Z",
     "start_time": "2024-07-29T16:38:41.948291Z"
    }
   },
   "cell_type": "code",
   "source": "n1 = init_cond[0]",
   "id": "dcc19b00b51619b7",
   "outputs": [],
   "execution_count": 114
  },
  {
   "metadata": {},
   "cell_type": "code",
   "outputs": [],
   "execution_count": null,
   "source": "",
   "id": "14decc5f12ef6c9c"
  }
 ],
 "metadata": {
  "kernelspec": {
   "display_name": "Python 3",
   "language": "python",
   "name": "python3"
  },
  "language_info": {
   "codemirror_mode": {
    "name": "ipython",
    "version": 2
   },
   "file_extension": ".py",
   "mimetype": "text/x-python",
   "name": "python",
   "nbconvert_exporter": "python",
   "pygments_lexer": "ipython2",
   "version": "2.7.6"
  }
 },
 "nbformat": 4,
 "nbformat_minor": 5
}
